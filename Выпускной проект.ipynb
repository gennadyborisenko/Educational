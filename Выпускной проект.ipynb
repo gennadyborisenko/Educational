{
 "cells": [
  {
   "cell_type": "markdown",
   "id": "e24ebe05",
   "metadata": {},
   "source": [
    "# Выпускной проект\n",
    "\n",
    "Борисенко Геннадий, н.с. биогидрохимии ИО РАН, дата исполнения 29.12.2024"
   ]
  },
  {
   "cell_type": "markdown",
   "id": "957c3df9",
   "metadata": {},
   "source": [
    "## Направление: Промышленность\n",
    "\n",
    "Чтобы оптимизировать производственные расходы, металлургический комбинат «Стальная птица» решил уменьшить потребление электроэнергии на этапе обработки стали.\n",
    "\n",
    "## Описание технологического процесса обработки стали\n",
    "\n",
    "Сталь обрабатывают в металлическом ковше вместимостью около 100 тонн. Чтобы ковш выдерживал высокие температуры, изнутри его облицовывают огнеупорным кирпичом. Расплавленную сталь заливают в ковш и подогревают до нужной температуры графитовыми электродами. Они установлены в крышке ковша.\n",
    "\n",
    "Из сплава выводится сера (этот процесс — десульфурация), добавлением примесей корректируется химический состав и отбираются пробы. Сталь легируют — изменяют её состав — подавая куски сплава из бункера для сыпучих материалов или проволоку через специальный трайб-аппарат (от англ. tribe — «масса»).\n",
    "\n",
    "Перед тем как первый раз ввести легирующие добавки, измеряют температуру стали и производят её химический анализ. Потом температуру на несколько минут повышают, добавляют легирующие материалы и продувают сплав инертным газом. Затем его перемешивают и снова проводят измерения. Такой цикл повторяется до достижения целевого химического состава и оптимальной температуры плавки.\n",
    "\n",
    "Тогда расплавленная сталь отправляется на доводку металла или поступает в машину непрерывной разливки. Оттуда готовый продукт выходит в виде заготовок-слябов (от англ. slab — «плита»).\n",
    "\n",
    "\n",
    "**Цель работы: построить модель, которая будет предсказывать температуру сплава при разливе в заготовки**\n",
    "\n",
    "## Описание данных, полученных для работы\n",
    "\n",
    "\n",
    "Данные состоят из нескольких файлов, полученных из разных источников:\n",
    "\n",
    "* data_arc_new.csv — данные об электродах;\n",
    "* data_bulk_new.csv — данные о подаче сыпучих материалов (объём);\n",
    "* data_bulk_time_new.csv — данные о подаче сыпучих материалов (время);\n",
    "* data_gas_new.csv — данные о продувке сплава газом;\n",
    "* data_temp_new.csv — результаты измерения температуры;\n",
    "* data_wire_new.csv — данные о проволочных материалах (объём);\n",
    "* data_wire_time_new.csv — данные о проволочных материалах (время)."
   ]
  },
  {
   "cell_type": "markdown",
   "id": "a2dd6b61",
   "metadata": {},
   "source": [
    "Описание колонок в файлах файлов:\n",
    "\n",
    "Файл data_arc_new.csv\n",
    "\n",
    "* key — номер партии;\n",
    "* Начало нагрева дугой — время начала нагрева;\n",
    "* Конец нагрева дугой — время окончания нагрева;\n",
    "* Активная мощность — значение активной мощности;\n",
    "* Реактивная мощность — значение реактивной мощности.\n",
    "\n",
    "\n",
    "Файл data_bulk_new.csv\n",
    "\n",
    "* key — номер партии;\n",
    "* Bulk 1 … Bulk 15 — объём подаваемого материала.\n",
    "\n",
    "Файл data_bulk_time_new.csv\n",
    "\n",
    "* key — номер партии;\n",
    "* Bulk 1 … Bulk 15 — время подачи материала.\n",
    "\n",
    "Файл data_gas_new.csv\n",
    "\n",
    "* key — номер партии;\n",
    "* Газ 1 — объём подаваемого газа.\n",
    "\n",
    "Файл data_temp_new.csv\n",
    "\n",
    "* key — номер партии;\n",
    "* Время замера — время замера;\n",
    "* Температура — значение температуры.\n",
    "\n",
    "Файл data_wire_new.csv\n",
    "\n",
    "* key — номер партии;\n",
    "* Wire 1 … Wire 9 — объём подаваемых проволочных материалов.\n",
    "\n",
    "Файл data_wire_time_new.csv\n",
    "\n",
    "* key — номер партии;\n",
    "* Wire 1 … Wire 9 — время подачи проволочных материалов."
   ]
  },
  {
   "cell_type": "markdown",
   "id": "b80a95a9",
   "metadata": {},
   "source": [
    "## План проекта\n",
    "\n",
    "1. Загрузка данных (конструкция try..except)\n",
    "2. Исследование kаждого датафрейма (info, пропуски, describe, визуализации)\n",
    "3. Предобработка данных (удаление аномалий, заполнение пропусков, генерация новых признаков, агрегирование по ключу)\n",
    "2. Объединение в один датафрейм.\n",
    "3. Исследование объединённого датафрейма, предобработка (с учётом используемых моделей).\n",
    "5. МО: подбор гиперпараметров, получение метрики на кросс-валидации, выбор лучшей модели.\n",
    "4. Разделение на выборки и масштабирование (при необходимости).\n",
    "6. Проверка качества лучшей модели на тестовой выборке.\n",
    "7. Исследование важности признаков. \n",
    "8. Выводы по выполненной работе и рекомендации для заказчика."
   ]
  },
  {
   "cell_type": "markdown",
   "id": "316499e7",
   "metadata": {},
   "source": [
    "Создаем первичный импорт для обработки данных:"
   ]
  },
  {
   "cell_type": "code",
   "execution_count": 1,
   "id": "e0d16bc4",
   "metadata": {
    "scrolled": true
   },
   "outputs": [
    {
     "name": "stdout",
     "output_type": "stream",
     "text": [
      "Requirement already satisfied: phik in /opt/conda/lib/python3.9/site-packages (0.12.4)\r\n",
      "Requirement already satisfied: pandas>=0.25.1 in /opt/conda/lib/python3.9/site-packages (from phik) (1.2.4)\r\n",
      "Requirement already satisfied: numpy>=1.18.0 in /opt/conda/lib/python3.9/site-packages (from phik) (1.21.1)\r\n",
      "Requirement already satisfied: scipy>=1.5.2 in /opt/conda/lib/python3.9/site-packages (from phik) (1.9.1)\r\n",
      "Requirement already satisfied: joblib>=0.14.1 in /opt/conda/lib/python3.9/site-packages (from phik) (1.1.0)\r\n",
      "Requirement already satisfied: matplotlib>=2.2.3 in /opt/conda/lib/python3.9/site-packages (from phik) (3.3.4)\r\n",
      "Requirement already satisfied: python-dateutil>=2.1 in /opt/conda/lib/python3.9/site-packages (from matplotlib>=2.2.3->phik) (2.8.1)\r\n",
      "Requirement already satisfied: pyparsing!=2.0.4,!=2.1.2,!=2.1.6,>=2.0.3 in /opt/conda/lib/python3.9/site-packages (from matplotlib>=2.2.3->phik) (2.4.7)\r\n",
      "Requirement already satisfied: pillow>=6.2.0 in /opt/conda/lib/python3.9/site-packages (from matplotlib>=2.2.3->phik) (8.4.0)\r\n",
      "Requirement already satisfied: cycler>=0.10 in /opt/conda/lib/python3.9/site-packages (from matplotlib>=2.2.3->phik) (0.11.0)\r\n",
      "Requirement already satisfied: kiwisolver>=1.0.1 in /opt/conda/lib/python3.9/site-packages (from matplotlib>=2.2.3->phik) (1.4.4)\r\n",
      "Requirement already satisfied: pytz>=2017.3 in /opt/conda/lib/python3.9/site-packages (from pandas>=0.25.1->phik) (2021.1)\r\n",
      "Requirement already satisfied: six>=1.5 in /opt/conda/lib/python3.9/site-packages (from python-dateutil>=2.1->matplotlib>=2.2.3->phik) (1.16.0)\r\n"
     ]
    }
   ],
   "source": [
    "!pip install phik"
   ]
  },
  {
   "cell_type": "code",
   "execution_count": 133,
   "id": "140006f7",
   "metadata": {},
   "outputs": [],
   "source": [
    "import pandas as pd\n",
    "import os\n",
    "from IPython.display import display\n",
    "import matplotlib.pyplot as plt\n",
    "import seaborn as sns\n",
    "import numpy as np\n",
    "import phik\n",
    "from sklearn.model_selection import train_test_split, RandomizedSearchCV \n",
    "from sklearn.compose import ColumnTransformer\n",
    "from sklearn.preprocessing import StandardScaler, MinMaxScaler\n",
    "from sklearn.pipeline import Pipeline\n",
    "from sklearn.linear_model import LinearRegression, Ridge, Lasso\n",
    "from sklearn.ensemble import RandomForestRegressor\n",
    "from catboost import CatBoostRegressor\n",
    "import lightgbm as lgb\n",
    "from sklearn.metrics import make_scorer, mean_absolute_error \n",
    "from sklearn.neural_network import MLPRegressor\n",
    "\n",
    "import xgboost as xgb\n",
    "from xgboost import XGBRegressor\n",
    "from sklearn.model_selection import train_test_split, StratifiedKFold, RandomizedSearchCV, GridSearchCV\n",
    "\n",
    "RANDOM_STATE = 241224\n",
    "TEST_SIZE = 0.25\n"
   ]
  },
  {
   "cell_type": "markdown",
   "id": "f781d6b8",
   "metadata": {},
   "source": [
    "Открытие файлов через os:"
   ]
  },
  {
   "cell_type": "code",
   "execution_count": 3,
   "id": "237da641",
   "metadata": {},
   "outputs": [],
   "source": [
    "try:\n",
    "    folder_path = 'final_datasets'\n",
    "    files = os.listdir(folder_path)\n",
    "\n",
    "    for file in files:\n",
    "        if file.endswith('.csv'):\n",
    "            variable_name = os.path.splitext(file)[0] \n",
    "            globals()[variable_name] = pd.read_csv(os.path.join(folder_path, file))\n",
    "except: \n",
    "\n",
    "        data_arc_new = pd.read_csv('/datasets/data_arc_new.csv')\n",
    "        data_bulk_new = pd.read_csv('/datasets/data_bulk_new.csv')\n",
    "        data_bulk_time_new = pd.read_csv('/datasets/data_bulk_time_new.csv')\n",
    "        data_gas_new = pd.read_csv('/datasets/data_gas_new.csv')\n",
    "        data_temp_new = pd.read_csv('/datasets/data_temp_new.csv')\n",
    "        data_wire_new = pd.read_csv('/datasets/data_wire_new.csv')\n",
    "        data_wire_time_new = pd.read_csv('/datasets/data_wire_time_new.csv')\n"
   ]
  },
  {
   "cell_type": "markdown",
   "id": "9c43348a",
   "metadata": {},
   "source": [
    "Обзор данных c красивыми таблицами display:"
   ]
  },
  {
   "cell_type": "code",
   "execution_count": 4,
   "id": "bc777dcb",
   "metadata": {},
   "outputs": [
    {
     "name": "stdout",
     "output_type": "stream",
     "text": [
      "Имя файла: data_arc_new\n"
     ]
    },
    {
     "data": {
      "text/html": [
       "<div>\n",
       "<style scoped>\n",
       "    .dataframe tbody tr th:only-of-type {\n",
       "        vertical-align: middle;\n",
       "    }\n",
       "\n",
       "    .dataframe tbody tr th {\n",
       "        vertical-align: top;\n",
       "    }\n",
       "\n",
       "    .dataframe thead th {\n",
       "        text-align: right;\n",
       "    }\n",
       "</style>\n",
       "<table border=\"1\" class=\"dataframe\">\n",
       "  <thead>\n",
       "    <tr style=\"text-align: right;\">\n",
       "      <th></th>\n",
       "      <th>key</th>\n",
       "      <th>Начало нагрева дугой</th>\n",
       "      <th>Конец нагрева дугой</th>\n",
       "      <th>Активная мощность</th>\n",
       "      <th>Реактивная мощность</th>\n",
       "    </tr>\n",
       "  </thead>\n",
       "  <tbody>\n",
       "    <tr>\n",
       "      <th>0</th>\n",
       "      <td>1</td>\n",
       "      <td>2019-05-03 11:02:14</td>\n",
       "      <td>2019-05-03 11:06:02</td>\n",
       "      <td>0.305130</td>\n",
       "      <td>0.211253</td>\n",
       "    </tr>\n",
       "    <tr>\n",
       "      <th>1</th>\n",
       "      <td>1</td>\n",
       "      <td>2019-05-03 11:07:28</td>\n",
       "      <td>2019-05-03 11:10:33</td>\n",
       "      <td>0.765658</td>\n",
       "      <td>0.477438</td>\n",
       "    </tr>\n",
       "    <tr>\n",
       "      <th>2</th>\n",
       "      <td>1</td>\n",
       "      <td>2019-05-03 11:11:44</td>\n",
       "      <td>2019-05-03 11:14:36</td>\n",
       "      <td>0.580313</td>\n",
       "      <td>0.430460</td>\n",
       "    </tr>\n",
       "    <tr>\n",
       "      <th>3</th>\n",
       "      <td>1</td>\n",
       "      <td>2019-05-03 11:18:14</td>\n",
       "      <td>2019-05-03 11:24:19</td>\n",
       "      <td>0.518496</td>\n",
       "      <td>0.379979</td>\n",
       "    </tr>\n",
       "    <tr>\n",
       "      <th>4</th>\n",
       "      <td>1</td>\n",
       "      <td>2019-05-03 11:26:09</td>\n",
       "      <td>2019-05-03 11:28:37</td>\n",
       "      <td>0.867133</td>\n",
       "      <td>0.643691</td>\n",
       "    </tr>\n",
       "    <tr>\n",
       "      <th>5</th>\n",
       "      <td>2</td>\n",
       "      <td>2019-05-03 11:34:14</td>\n",
       "      <td>2019-05-03 11:36:31</td>\n",
       "      <td>0.381124</td>\n",
       "      <td>0.220351</td>\n",
       "    </tr>\n",
       "  </tbody>\n",
       "</table>\n",
       "</div>"
      ],
      "text/plain": [
       "   key Начало нагрева дугой  Конец нагрева дугой  Активная мощность  \\\n",
       "0    1  2019-05-03 11:02:14  2019-05-03 11:06:02           0.305130   \n",
       "1    1  2019-05-03 11:07:28  2019-05-03 11:10:33           0.765658   \n",
       "2    1  2019-05-03 11:11:44  2019-05-03 11:14:36           0.580313   \n",
       "3    1  2019-05-03 11:18:14  2019-05-03 11:24:19           0.518496   \n",
       "4    1  2019-05-03 11:26:09  2019-05-03 11:28:37           0.867133   \n",
       "5    2  2019-05-03 11:34:14  2019-05-03 11:36:31           0.381124   \n",
       "\n",
       "   Реактивная мощность  \n",
       "0             0.211253  \n",
       "1             0.477438  \n",
       "2             0.430460  \n",
       "3             0.379979  \n",
       "4             0.643691  \n",
       "5             0.220351  "
      ]
     },
     "metadata": {},
     "output_type": "display_data"
    },
    {
     "name": "stdout",
     "output_type": "stream",
     "text": [
      "Имя файла: data_bulk_new\n"
     ]
    },
    {
     "data": {
      "text/html": [
       "<div>\n",
       "<style scoped>\n",
       "    .dataframe tbody tr th:only-of-type {\n",
       "        vertical-align: middle;\n",
       "    }\n",
       "\n",
       "    .dataframe tbody tr th {\n",
       "        vertical-align: top;\n",
       "    }\n",
       "\n",
       "    .dataframe thead th {\n",
       "        text-align: right;\n",
       "    }\n",
       "</style>\n",
       "<table border=\"1\" class=\"dataframe\">\n",
       "  <thead>\n",
       "    <tr style=\"text-align: right;\">\n",
       "      <th></th>\n",
       "      <th>key</th>\n",
       "      <th>Bulk 1</th>\n",
       "      <th>Bulk 2</th>\n",
       "      <th>Bulk 3</th>\n",
       "      <th>Bulk 4</th>\n",
       "      <th>Bulk 5</th>\n",
       "      <th>Bulk 6</th>\n",
       "      <th>Bulk 7</th>\n",
       "      <th>Bulk 8</th>\n",
       "      <th>Bulk 9</th>\n",
       "      <th>Bulk 10</th>\n",
       "      <th>Bulk 11</th>\n",
       "      <th>Bulk 12</th>\n",
       "      <th>Bulk 13</th>\n",
       "      <th>Bulk 14</th>\n",
       "      <th>Bulk 15</th>\n",
       "    </tr>\n",
       "  </thead>\n",
       "  <tbody>\n",
       "    <tr>\n",
       "      <th>0</th>\n",
       "      <td>1</td>\n",
       "      <td>NaN</td>\n",
       "      <td>NaN</td>\n",
       "      <td>NaN</td>\n",
       "      <td>43.0</td>\n",
       "      <td>NaN</td>\n",
       "      <td>NaN</td>\n",
       "      <td>NaN</td>\n",
       "      <td>NaN</td>\n",
       "      <td>NaN</td>\n",
       "      <td>NaN</td>\n",
       "      <td>NaN</td>\n",
       "      <td>206.0</td>\n",
       "      <td>NaN</td>\n",
       "      <td>150.0</td>\n",
       "      <td>154.0</td>\n",
       "    </tr>\n",
       "    <tr>\n",
       "      <th>1</th>\n",
       "      <td>2</td>\n",
       "      <td>NaN</td>\n",
       "      <td>NaN</td>\n",
       "      <td>NaN</td>\n",
       "      <td>73.0</td>\n",
       "      <td>NaN</td>\n",
       "      <td>NaN</td>\n",
       "      <td>NaN</td>\n",
       "      <td>NaN</td>\n",
       "      <td>NaN</td>\n",
       "      <td>NaN</td>\n",
       "      <td>NaN</td>\n",
       "      <td>206.0</td>\n",
       "      <td>NaN</td>\n",
       "      <td>149.0</td>\n",
       "      <td>154.0</td>\n",
       "    </tr>\n",
       "    <tr>\n",
       "      <th>2</th>\n",
       "      <td>3</td>\n",
       "      <td>NaN</td>\n",
       "      <td>NaN</td>\n",
       "      <td>NaN</td>\n",
       "      <td>34.0</td>\n",
       "      <td>NaN</td>\n",
       "      <td>NaN</td>\n",
       "      <td>NaN</td>\n",
       "      <td>NaN</td>\n",
       "      <td>NaN</td>\n",
       "      <td>NaN</td>\n",
       "      <td>NaN</td>\n",
       "      <td>205.0</td>\n",
       "      <td>NaN</td>\n",
       "      <td>152.0</td>\n",
       "      <td>153.0</td>\n",
       "    </tr>\n",
       "    <tr>\n",
       "      <th>3</th>\n",
       "      <td>4</td>\n",
       "      <td>NaN</td>\n",
       "      <td>NaN</td>\n",
       "      <td>NaN</td>\n",
       "      <td>81.0</td>\n",
       "      <td>NaN</td>\n",
       "      <td>NaN</td>\n",
       "      <td>NaN</td>\n",
       "      <td>NaN</td>\n",
       "      <td>NaN</td>\n",
       "      <td>NaN</td>\n",
       "      <td>NaN</td>\n",
       "      <td>207.0</td>\n",
       "      <td>NaN</td>\n",
       "      <td>153.0</td>\n",
       "      <td>154.0</td>\n",
       "    </tr>\n",
       "    <tr>\n",
       "      <th>4</th>\n",
       "      <td>5</td>\n",
       "      <td>NaN</td>\n",
       "      <td>NaN</td>\n",
       "      <td>NaN</td>\n",
       "      <td>78.0</td>\n",
       "      <td>NaN</td>\n",
       "      <td>NaN</td>\n",
       "      <td>NaN</td>\n",
       "      <td>NaN</td>\n",
       "      <td>NaN</td>\n",
       "      <td>NaN</td>\n",
       "      <td>NaN</td>\n",
       "      <td>203.0</td>\n",
       "      <td>NaN</td>\n",
       "      <td>151.0</td>\n",
       "      <td>152.0</td>\n",
       "    </tr>\n",
       "    <tr>\n",
       "      <th>5</th>\n",
       "      <td>6</td>\n",
       "      <td>NaN</td>\n",
       "      <td>NaN</td>\n",
       "      <td>NaN</td>\n",
       "      <td>117.0</td>\n",
       "      <td>NaN</td>\n",
       "      <td>NaN</td>\n",
       "      <td>NaN</td>\n",
       "      <td>NaN</td>\n",
       "      <td>NaN</td>\n",
       "      <td>NaN</td>\n",
       "      <td>NaN</td>\n",
       "      <td>204.0</td>\n",
       "      <td>NaN</td>\n",
       "      <td>201.0</td>\n",
       "      <td>154.0</td>\n",
       "    </tr>\n",
       "  </tbody>\n",
       "</table>\n",
       "</div>"
      ],
      "text/plain": [
       "   key  Bulk 1  Bulk 2  Bulk 3  Bulk 4  Bulk 5  Bulk 6  Bulk 7  Bulk 8  \\\n",
       "0    1     NaN     NaN     NaN    43.0     NaN     NaN     NaN     NaN   \n",
       "1    2     NaN     NaN     NaN    73.0     NaN     NaN     NaN     NaN   \n",
       "2    3     NaN     NaN     NaN    34.0     NaN     NaN     NaN     NaN   \n",
       "3    4     NaN     NaN     NaN    81.0     NaN     NaN     NaN     NaN   \n",
       "4    5     NaN     NaN     NaN    78.0     NaN     NaN     NaN     NaN   \n",
       "5    6     NaN     NaN     NaN   117.0     NaN     NaN     NaN     NaN   \n",
       "\n",
       "   Bulk 9  Bulk 10  Bulk 11  Bulk 12  Bulk 13  Bulk 14  Bulk 15  \n",
       "0     NaN      NaN      NaN    206.0      NaN    150.0    154.0  \n",
       "1     NaN      NaN      NaN    206.0      NaN    149.0    154.0  \n",
       "2     NaN      NaN      NaN    205.0      NaN    152.0    153.0  \n",
       "3     NaN      NaN      NaN    207.0      NaN    153.0    154.0  \n",
       "4     NaN      NaN      NaN    203.0      NaN    151.0    152.0  \n",
       "5     NaN      NaN      NaN    204.0      NaN    201.0    154.0  "
      ]
     },
     "metadata": {},
     "output_type": "display_data"
    },
    {
     "name": "stdout",
     "output_type": "stream",
     "text": [
      "Имя файла: data_bulk_time_new\n"
     ]
    },
    {
     "data": {
      "text/html": [
       "<div>\n",
       "<style scoped>\n",
       "    .dataframe tbody tr th:only-of-type {\n",
       "        vertical-align: middle;\n",
       "    }\n",
       "\n",
       "    .dataframe tbody tr th {\n",
       "        vertical-align: top;\n",
       "    }\n",
       "\n",
       "    .dataframe thead th {\n",
       "        text-align: right;\n",
       "    }\n",
       "</style>\n",
       "<table border=\"1\" class=\"dataframe\">\n",
       "  <thead>\n",
       "    <tr style=\"text-align: right;\">\n",
       "      <th></th>\n",
       "      <th>key</th>\n",
       "      <th>Bulk 1</th>\n",
       "      <th>Bulk 2</th>\n",
       "      <th>Bulk 3</th>\n",
       "      <th>Bulk 4</th>\n",
       "      <th>Bulk 5</th>\n",
       "      <th>Bulk 6</th>\n",
       "      <th>Bulk 7</th>\n",
       "      <th>Bulk 8</th>\n",
       "      <th>Bulk 9</th>\n",
       "      <th>Bulk 10</th>\n",
       "      <th>Bulk 11</th>\n",
       "      <th>Bulk 12</th>\n",
       "      <th>Bulk 13</th>\n",
       "      <th>Bulk 14</th>\n",
       "      <th>Bulk 15</th>\n",
       "    </tr>\n",
       "  </thead>\n",
       "  <tbody>\n",
       "    <tr>\n",
       "      <th>0</th>\n",
       "      <td>1</td>\n",
       "      <td>NaN</td>\n",
       "      <td>NaN</td>\n",
       "      <td>NaN</td>\n",
       "      <td>2019-05-03 11:28:48</td>\n",
       "      <td>NaN</td>\n",
       "      <td>NaN</td>\n",
       "      <td>NaN</td>\n",
       "      <td>NaN</td>\n",
       "      <td>NaN</td>\n",
       "      <td>NaN</td>\n",
       "      <td>NaN</td>\n",
       "      <td>2019-05-03 11:24:31</td>\n",
       "      <td>NaN</td>\n",
       "      <td>2019-05-03 11:14:50</td>\n",
       "      <td>2019-05-03 11:10:43</td>\n",
       "    </tr>\n",
       "    <tr>\n",
       "      <th>1</th>\n",
       "      <td>2</td>\n",
       "      <td>NaN</td>\n",
       "      <td>NaN</td>\n",
       "      <td>NaN</td>\n",
       "      <td>2019-05-03 11:36:50</td>\n",
       "      <td>NaN</td>\n",
       "      <td>NaN</td>\n",
       "      <td>NaN</td>\n",
       "      <td>NaN</td>\n",
       "      <td>NaN</td>\n",
       "      <td>NaN</td>\n",
       "      <td>NaN</td>\n",
       "      <td>2019-05-03 11:53:30</td>\n",
       "      <td>NaN</td>\n",
       "      <td>2019-05-03 11:48:37</td>\n",
       "      <td>2019-05-03 11:44:39</td>\n",
       "    </tr>\n",
       "    <tr>\n",
       "      <th>2</th>\n",
       "      <td>3</td>\n",
       "      <td>NaN</td>\n",
       "      <td>NaN</td>\n",
       "      <td>NaN</td>\n",
       "      <td>2019-05-03 12:32:39</td>\n",
       "      <td>NaN</td>\n",
       "      <td>NaN</td>\n",
       "      <td>NaN</td>\n",
       "      <td>NaN</td>\n",
       "      <td>NaN</td>\n",
       "      <td>NaN</td>\n",
       "      <td>NaN</td>\n",
       "      <td>2019-05-03 12:27:13</td>\n",
       "      <td>NaN</td>\n",
       "      <td>2019-05-03 12:21:01</td>\n",
       "      <td>2019-05-03 12:16:16</td>\n",
       "    </tr>\n",
       "    <tr>\n",
       "      <th>3</th>\n",
       "      <td>4</td>\n",
       "      <td>NaN</td>\n",
       "      <td>NaN</td>\n",
       "      <td>NaN</td>\n",
       "      <td>2019-05-03 12:43:22</td>\n",
       "      <td>NaN</td>\n",
       "      <td>NaN</td>\n",
       "      <td>NaN</td>\n",
       "      <td>NaN</td>\n",
       "      <td>NaN</td>\n",
       "      <td>NaN</td>\n",
       "      <td>NaN</td>\n",
       "      <td>2019-05-03 12:58:00</td>\n",
       "      <td>NaN</td>\n",
       "      <td>2019-05-03 12:51:11</td>\n",
       "      <td>2019-05-03 12:46:36</td>\n",
       "    </tr>\n",
       "    <tr>\n",
       "      <th>4</th>\n",
       "      <td>5</td>\n",
       "      <td>NaN</td>\n",
       "      <td>NaN</td>\n",
       "      <td>NaN</td>\n",
       "      <td>2019-05-03 13:30:47</td>\n",
       "      <td>NaN</td>\n",
       "      <td>NaN</td>\n",
       "      <td>NaN</td>\n",
       "      <td>NaN</td>\n",
       "      <td>NaN</td>\n",
       "      <td>NaN</td>\n",
       "      <td>NaN</td>\n",
       "      <td>2019-05-03 13:30:47</td>\n",
       "      <td>NaN</td>\n",
       "      <td>2019-05-03 13:34:12</td>\n",
       "      <td>2019-05-03 13:30:47</td>\n",
       "    </tr>\n",
       "    <tr>\n",
       "      <th>5</th>\n",
       "      <td>6</td>\n",
       "      <td>NaN</td>\n",
       "      <td>NaN</td>\n",
       "      <td>NaN</td>\n",
       "      <td>2019-05-03 13:57:27</td>\n",
       "      <td>NaN</td>\n",
       "      <td>NaN</td>\n",
       "      <td>NaN</td>\n",
       "      <td>NaN</td>\n",
       "      <td>NaN</td>\n",
       "      <td>NaN</td>\n",
       "      <td>NaN</td>\n",
       "      <td>2019-05-03 13:48:52</td>\n",
       "      <td>NaN</td>\n",
       "      <td>2019-05-03 14:09:42</td>\n",
       "      <td>2019-05-03 14:03:15</td>\n",
       "    </tr>\n",
       "  </tbody>\n",
       "</table>\n",
       "</div>"
      ],
      "text/plain": [
       "   key Bulk 1 Bulk 2 Bulk 3               Bulk 4 Bulk 5 Bulk 6 Bulk 7 Bulk 8  \\\n",
       "0    1    NaN    NaN    NaN  2019-05-03 11:28:48    NaN    NaN    NaN    NaN   \n",
       "1    2    NaN    NaN    NaN  2019-05-03 11:36:50    NaN    NaN    NaN    NaN   \n",
       "2    3    NaN    NaN    NaN  2019-05-03 12:32:39    NaN    NaN    NaN    NaN   \n",
       "3    4    NaN    NaN    NaN  2019-05-03 12:43:22    NaN    NaN    NaN    NaN   \n",
       "4    5    NaN    NaN    NaN  2019-05-03 13:30:47    NaN    NaN    NaN    NaN   \n",
       "5    6    NaN    NaN    NaN  2019-05-03 13:57:27    NaN    NaN    NaN    NaN   \n",
       "\n",
       "  Bulk 9 Bulk 10 Bulk 11              Bulk 12 Bulk 13              Bulk 14  \\\n",
       "0    NaN     NaN     NaN  2019-05-03 11:24:31     NaN  2019-05-03 11:14:50   \n",
       "1    NaN     NaN     NaN  2019-05-03 11:53:30     NaN  2019-05-03 11:48:37   \n",
       "2    NaN     NaN     NaN  2019-05-03 12:27:13     NaN  2019-05-03 12:21:01   \n",
       "3    NaN     NaN     NaN  2019-05-03 12:58:00     NaN  2019-05-03 12:51:11   \n",
       "4    NaN     NaN     NaN  2019-05-03 13:30:47     NaN  2019-05-03 13:34:12   \n",
       "5    NaN     NaN     NaN  2019-05-03 13:48:52     NaN  2019-05-03 14:09:42   \n",
       "\n",
       "               Bulk 15  \n",
       "0  2019-05-03 11:10:43  \n",
       "1  2019-05-03 11:44:39  \n",
       "2  2019-05-03 12:16:16  \n",
       "3  2019-05-03 12:46:36  \n",
       "4  2019-05-03 13:30:47  \n",
       "5  2019-05-03 14:03:15  "
      ]
     },
     "metadata": {},
     "output_type": "display_data"
    },
    {
     "name": "stdout",
     "output_type": "stream",
     "text": [
      "Имя файла: data_gas_new\n"
     ]
    },
    {
     "data": {
      "text/html": [
       "<div>\n",
       "<style scoped>\n",
       "    .dataframe tbody tr th:only-of-type {\n",
       "        vertical-align: middle;\n",
       "    }\n",
       "\n",
       "    .dataframe tbody tr th {\n",
       "        vertical-align: top;\n",
       "    }\n",
       "\n",
       "    .dataframe thead th {\n",
       "        text-align: right;\n",
       "    }\n",
       "</style>\n",
       "<table border=\"1\" class=\"dataframe\">\n",
       "  <thead>\n",
       "    <tr style=\"text-align: right;\">\n",
       "      <th></th>\n",
       "      <th>key</th>\n",
       "      <th>Газ 1</th>\n",
       "    </tr>\n",
       "  </thead>\n",
       "  <tbody>\n",
       "    <tr>\n",
       "      <th>0</th>\n",
       "      <td>1</td>\n",
       "      <td>29.749986</td>\n",
       "    </tr>\n",
       "    <tr>\n",
       "      <th>1</th>\n",
       "      <td>2</td>\n",
       "      <td>12.555561</td>\n",
       "    </tr>\n",
       "    <tr>\n",
       "      <th>2</th>\n",
       "      <td>3</td>\n",
       "      <td>28.554793</td>\n",
       "    </tr>\n",
       "    <tr>\n",
       "      <th>3</th>\n",
       "      <td>4</td>\n",
       "      <td>18.841219</td>\n",
       "    </tr>\n",
       "    <tr>\n",
       "      <th>4</th>\n",
       "      <td>5</td>\n",
       "      <td>5.413692</td>\n",
       "    </tr>\n",
       "    <tr>\n",
       "      <th>5</th>\n",
       "      <td>6</td>\n",
       "      <td>11.273392</td>\n",
       "    </tr>\n",
       "  </tbody>\n",
       "</table>\n",
       "</div>"
      ],
      "text/plain": [
       "   key      Газ 1\n",
       "0    1  29.749986\n",
       "1    2  12.555561\n",
       "2    3  28.554793\n",
       "3    4  18.841219\n",
       "4    5   5.413692\n",
       "5    6  11.273392"
      ]
     },
     "metadata": {},
     "output_type": "display_data"
    },
    {
     "name": "stdout",
     "output_type": "stream",
     "text": [
      "Имя файла: data_temp_new\n"
     ]
    },
    {
     "data": {
      "text/html": [
       "<div>\n",
       "<style scoped>\n",
       "    .dataframe tbody tr th:only-of-type {\n",
       "        vertical-align: middle;\n",
       "    }\n",
       "\n",
       "    .dataframe tbody tr th {\n",
       "        vertical-align: top;\n",
       "    }\n",
       "\n",
       "    .dataframe thead th {\n",
       "        text-align: right;\n",
       "    }\n",
       "</style>\n",
       "<table border=\"1\" class=\"dataframe\">\n",
       "  <thead>\n",
       "    <tr style=\"text-align: right;\">\n",
       "      <th></th>\n",
       "      <th>key</th>\n",
       "      <th>Время замера</th>\n",
       "      <th>Температура</th>\n",
       "    </tr>\n",
       "  </thead>\n",
       "  <tbody>\n",
       "    <tr>\n",
       "      <th>0</th>\n",
       "      <td>1</td>\n",
       "      <td>2019-05-03 11:02:04</td>\n",
       "      <td>1571.0</td>\n",
       "    </tr>\n",
       "    <tr>\n",
       "      <th>1</th>\n",
       "      <td>1</td>\n",
       "      <td>2019-05-03 11:07:18</td>\n",
       "      <td>1604.0</td>\n",
       "    </tr>\n",
       "    <tr>\n",
       "      <th>2</th>\n",
       "      <td>1</td>\n",
       "      <td>2019-05-03 11:11:34</td>\n",
       "      <td>1618.0</td>\n",
       "    </tr>\n",
       "    <tr>\n",
       "      <th>3</th>\n",
       "      <td>1</td>\n",
       "      <td>2019-05-03 11:18:04</td>\n",
       "      <td>1601.0</td>\n",
       "    </tr>\n",
       "    <tr>\n",
       "      <th>4</th>\n",
       "      <td>1</td>\n",
       "      <td>2019-05-03 11:25:59</td>\n",
       "      <td>1606.0</td>\n",
       "    </tr>\n",
       "    <tr>\n",
       "      <th>5</th>\n",
       "      <td>1</td>\n",
       "      <td>2019-05-03 11:30:38</td>\n",
       "      <td>1613.0</td>\n",
       "    </tr>\n",
       "  </tbody>\n",
       "</table>\n",
       "</div>"
      ],
      "text/plain": [
       "   key         Время замера  Температура\n",
       "0    1  2019-05-03 11:02:04       1571.0\n",
       "1    1  2019-05-03 11:07:18       1604.0\n",
       "2    1  2019-05-03 11:11:34       1618.0\n",
       "3    1  2019-05-03 11:18:04       1601.0\n",
       "4    1  2019-05-03 11:25:59       1606.0\n",
       "5    1  2019-05-03 11:30:38       1613.0"
      ]
     },
     "metadata": {},
     "output_type": "display_data"
    },
    {
     "name": "stdout",
     "output_type": "stream",
     "text": [
      "Имя файла: data_wire_new\n"
     ]
    },
    {
     "data": {
      "text/html": [
       "<div>\n",
       "<style scoped>\n",
       "    .dataframe tbody tr th:only-of-type {\n",
       "        vertical-align: middle;\n",
       "    }\n",
       "\n",
       "    .dataframe tbody tr th {\n",
       "        vertical-align: top;\n",
       "    }\n",
       "\n",
       "    .dataframe thead th {\n",
       "        text-align: right;\n",
       "    }\n",
       "</style>\n",
       "<table border=\"1\" class=\"dataframe\">\n",
       "  <thead>\n",
       "    <tr style=\"text-align: right;\">\n",
       "      <th></th>\n",
       "      <th>key</th>\n",
       "      <th>Wire 1</th>\n",
       "      <th>Wire 2</th>\n",
       "      <th>Wire 3</th>\n",
       "      <th>Wire 4</th>\n",
       "      <th>Wire 5</th>\n",
       "      <th>Wire 6</th>\n",
       "      <th>Wire 7</th>\n",
       "      <th>Wire 8</th>\n",
       "      <th>Wire 9</th>\n",
       "    </tr>\n",
       "  </thead>\n",
       "  <tbody>\n",
       "    <tr>\n",
       "      <th>0</th>\n",
       "      <td>1</td>\n",
       "      <td>60.059998</td>\n",
       "      <td>NaN</td>\n",
       "      <td>NaN</td>\n",
       "      <td>NaN</td>\n",
       "      <td>NaN</td>\n",
       "      <td>NaN</td>\n",
       "      <td>NaN</td>\n",
       "      <td>NaN</td>\n",
       "      <td>NaN</td>\n",
       "    </tr>\n",
       "    <tr>\n",
       "      <th>1</th>\n",
       "      <td>2</td>\n",
       "      <td>96.052315</td>\n",
       "      <td>NaN</td>\n",
       "      <td>NaN</td>\n",
       "      <td>NaN</td>\n",
       "      <td>NaN</td>\n",
       "      <td>NaN</td>\n",
       "      <td>NaN</td>\n",
       "      <td>NaN</td>\n",
       "      <td>NaN</td>\n",
       "    </tr>\n",
       "    <tr>\n",
       "      <th>2</th>\n",
       "      <td>3</td>\n",
       "      <td>91.160157</td>\n",
       "      <td>NaN</td>\n",
       "      <td>NaN</td>\n",
       "      <td>NaN</td>\n",
       "      <td>NaN</td>\n",
       "      <td>NaN</td>\n",
       "      <td>NaN</td>\n",
       "      <td>NaN</td>\n",
       "      <td>NaN</td>\n",
       "    </tr>\n",
       "    <tr>\n",
       "      <th>3</th>\n",
       "      <td>4</td>\n",
       "      <td>89.063515</td>\n",
       "      <td>NaN</td>\n",
       "      <td>NaN</td>\n",
       "      <td>NaN</td>\n",
       "      <td>NaN</td>\n",
       "      <td>NaN</td>\n",
       "      <td>NaN</td>\n",
       "      <td>NaN</td>\n",
       "      <td>NaN</td>\n",
       "    </tr>\n",
       "    <tr>\n",
       "      <th>4</th>\n",
       "      <td>5</td>\n",
       "      <td>89.238236</td>\n",
       "      <td>9.11456</td>\n",
       "      <td>NaN</td>\n",
       "      <td>NaN</td>\n",
       "      <td>NaN</td>\n",
       "      <td>NaN</td>\n",
       "      <td>NaN</td>\n",
       "      <td>NaN</td>\n",
       "      <td>NaN</td>\n",
       "    </tr>\n",
       "    <tr>\n",
       "      <th>5</th>\n",
       "      <td>6</td>\n",
       "      <td>99.109917</td>\n",
       "      <td>9.11456</td>\n",
       "      <td>NaN</td>\n",
       "      <td>NaN</td>\n",
       "      <td>NaN</td>\n",
       "      <td>NaN</td>\n",
       "      <td>NaN</td>\n",
       "      <td>NaN</td>\n",
       "      <td>NaN</td>\n",
       "    </tr>\n",
       "  </tbody>\n",
       "</table>\n",
       "</div>"
      ],
      "text/plain": [
       "   key     Wire 1   Wire 2  Wire 3  Wire 4  Wire 5  Wire 6  Wire 7  Wire 8  \\\n",
       "0    1  60.059998      NaN     NaN     NaN     NaN     NaN     NaN     NaN   \n",
       "1    2  96.052315      NaN     NaN     NaN     NaN     NaN     NaN     NaN   \n",
       "2    3  91.160157      NaN     NaN     NaN     NaN     NaN     NaN     NaN   \n",
       "3    4  89.063515      NaN     NaN     NaN     NaN     NaN     NaN     NaN   \n",
       "4    5  89.238236  9.11456     NaN     NaN     NaN     NaN     NaN     NaN   \n",
       "5    6  99.109917  9.11456     NaN     NaN     NaN     NaN     NaN     NaN   \n",
       "\n",
       "   Wire 9  \n",
       "0     NaN  \n",
       "1     NaN  \n",
       "2     NaN  \n",
       "3     NaN  \n",
       "4     NaN  \n",
       "5     NaN  "
      ]
     },
     "metadata": {},
     "output_type": "display_data"
    },
    {
     "name": "stdout",
     "output_type": "stream",
     "text": [
      "Имя файла: data_wire_time_new\n"
     ]
    },
    {
     "data": {
      "text/html": [
       "<div>\n",
       "<style scoped>\n",
       "    .dataframe tbody tr th:only-of-type {\n",
       "        vertical-align: middle;\n",
       "    }\n",
       "\n",
       "    .dataframe tbody tr th {\n",
       "        vertical-align: top;\n",
       "    }\n",
       "\n",
       "    .dataframe thead th {\n",
       "        text-align: right;\n",
       "    }\n",
       "</style>\n",
       "<table border=\"1\" class=\"dataframe\">\n",
       "  <thead>\n",
       "    <tr style=\"text-align: right;\">\n",
       "      <th></th>\n",
       "      <th>key</th>\n",
       "      <th>Wire 1</th>\n",
       "      <th>Wire 2</th>\n",
       "      <th>Wire 3</th>\n",
       "      <th>Wire 4</th>\n",
       "      <th>Wire 5</th>\n",
       "      <th>Wire 6</th>\n",
       "      <th>Wire 7</th>\n",
       "      <th>Wire 8</th>\n",
       "      <th>Wire 9</th>\n",
       "    </tr>\n",
       "  </thead>\n",
       "  <tbody>\n",
       "    <tr>\n",
       "      <th>0</th>\n",
       "      <td>1</td>\n",
       "      <td>2019-05-03 11:06:19</td>\n",
       "      <td>NaN</td>\n",
       "      <td>NaN</td>\n",
       "      <td>NaN</td>\n",
       "      <td>NaN</td>\n",
       "      <td>NaN</td>\n",
       "      <td>NaN</td>\n",
       "      <td>NaN</td>\n",
       "      <td>NaN</td>\n",
       "    </tr>\n",
       "    <tr>\n",
       "      <th>1</th>\n",
       "      <td>2</td>\n",
       "      <td>2019-05-03 11:36:50</td>\n",
       "      <td>NaN</td>\n",
       "      <td>NaN</td>\n",
       "      <td>NaN</td>\n",
       "      <td>NaN</td>\n",
       "      <td>NaN</td>\n",
       "      <td>NaN</td>\n",
       "      <td>NaN</td>\n",
       "      <td>NaN</td>\n",
       "    </tr>\n",
       "    <tr>\n",
       "      <th>2</th>\n",
       "      <td>3</td>\n",
       "      <td>2019-05-03 12:11:46</td>\n",
       "      <td>NaN</td>\n",
       "      <td>NaN</td>\n",
       "      <td>NaN</td>\n",
       "      <td>NaN</td>\n",
       "      <td>NaN</td>\n",
       "      <td>NaN</td>\n",
       "      <td>NaN</td>\n",
       "      <td>NaN</td>\n",
       "    </tr>\n",
       "    <tr>\n",
       "      <th>3</th>\n",
       "      <td>4</td>\n",
       "      <td>2019-05-03 12:43:22</td>\n",
       "      <td>NaN</td>\n",
       "      <td>NaN</td>\n",
       "      <td>NaN</td>\n",
       "      <td>NaN</td>\n",
       "      <td>NaN</td>\n",
       "      <td>NaN</td>\n",
       "      <td>NaN</td>\n",
       "      <td>NaN</td>\n",
       "    </tr>\n",
       "    <tr>\n",
       "      <th>4</th>\n",
       "      <td>5</td>\n",
       "      <td>2019-05-03 13:20:44</td>\n",
       "      <td>2019-05-03 13:15:34</td>\n",
       "      <td>NaN</td>\n",
       "      <td>NaN</td>\n",
       "      <td>NaN</td>\n",
       "      <td>NaN</td>\n",
       "      <td>NaN</td>\n",
       "      <td>NaN</td>\n",
       "      <td>NaN</td>\n",
       "    </tr>\n",
       "    <tr>\n",
       "      <th>5</th>\n",
       "      <td>6</td>\n",
       "      <td>2019-05-03 13:57:27</td>\n",
       "      <td>2019-05-03 13:48:52</td>\n",
       "      <td>NaN</td>\n",
       "      <td>NaN</td>\n",
       "      <td>NaN</td>\n",
       "      <td>NaN</td>\n",
       "      <td>NaN</td>\n",
       "      <td>NaN</td>\n",
       "      <td>NaN</td>\n",
       "    </tr>\n",
       "  </tbody>\n",
       "</table>\n",
       "</div>"
      ],
      "text/plain": [
       "   key               Wire 1               Wire 2 Wire 3 Wire 4 Wire 5 Wire 6  \\\n",
       "0    1  2019-05-03 11:06:19                  NaN    NaN    NaN    NaN    NaN   \n",
       "1    2  2019-05-03 11:36:50                  NaN    NaN    NaN    NaN    NaN   \n",
       "2    3  2019-05-03 12:11:46                  NaN    NaN    NaN    NaN    NaN   \n",
       "3    4  2019-05-03 12:43:22                  NaN    NaN    NaN    NaN    NaN   \n",
       "4    5  2019-05-03 13:20:44  2019-05-03 13:15:34    NaN    NaN    NaN    NaN   \n",
       "5    6  2019-05-03 13:57:27  2019-05-03 13:48:52    NaN    NaN    NaN    NaN   \n",
       "\n",
       "  Wire 7 Wire 8 Wire 9  \n",
       "0    NaN    NaN    NaN  \n",
       "1    NaN    NaN    NaN  \n",
       "2    NaN    NaN    NaN  \n",
       "3    NaN    NaN    NaN  \n",
       "4    NaN    NaN    NaN  \n",
       "5    NaN    NaN    NaN  "
      ]
     },
     "metadata": {},
     "output_type": "display_data"
    }
   ],
   "source": [
    "data_frames = {\n",
    "    'data_arc_new': data_arc_new,\n",
    "    'data_bulk_new': data_bulk_new,\n",
    "    'data_bulk_time_new': data_bulk_time_new,\n",
    "    'data_gas_new': data_gas_new,\n",
    "    'data_temp_new': data_temp_new,\n",
    "    'data_wire_new': data_wire_new,\n",
    "    'data_wire_time_new': data_wire_time_new\n",
    "}\n",
    "\n",
    "for name, df in data_frames.items():\n",
    "    print('Имя файла:', name)\n",
    "    display(df.head(6))\n"
   ]
  },
  {
   "cell_type": "markdown",
   "id": "7c051491",
   "metadata": {},
   "source": [
    "Вывод общей информации о датафреймах"
   ]
  },
  {
   "cell_type": "code",
   "execution_count": 5,
   "id": "0a41facb",
   "metadata": {
    "scrolled": false
   },
   "outputs": [
    {
     "name": "stdout",
     "output_type": "stream",
     "text": [
      "Имя файла: data_arc_new\n",
      "<class 'pandas.core.frame.DataFrame'>\n",
      "RangeIndex: 14876 entries, 0 to 14875\n",
      "Data columns (total 5 columns):\n",
      " #   Column                Non-Null Count  Dtype  \n",
      "---  ------                --------------  -----  \n",
      " 0   key                   14876 non-null  int64  \n",
      " 1   Начало нагрева дугой  14876 non-null  object \n",
      " 2   Конец нагрева дугой   14876 non-null  object \n",
      " 3   Активная мощность     14876 non-null  float64\n",
      " 4   Реактивная мощность   14876 non-null  float64\n",
      "dtypes: float64(2), int64(1), object(2)\n",
      "memory usage: 581.2+ KB\n"
     ]
    },
    {
     "data": {
      "text/plain": [
       "None"
      ]
     },
     "metadata": {},
     "output_type": "display_data"
    },
    {
     "name": "stdout",
     "output_type": "stream",
     "text": [
      "Имя файла: data_bulk_new\n",
      "<class 'pandas.core.frame.DataFrame'>\n",
      "RangeIndex: 3129 entries, 0 to 3128\n",
      "Data columns (total 16 columns):\n",
      " #   Column   Non-Null Count  Dtype  \n",
      "---  ------   --------------  -----  \n",
      " 0   key      3129 non-null   int64  \n",
      " 1   Bulk 1   252 non-null    float64\n",
      " 2   Bulk 2   22 non-null     float64\n",
      " 3   Bulk 3   1298 non-null   float64\n",
      " 4   Bulk 4   1014 non-null   float64\n",
      " 5   Bulk 5   77 non-null     float64\n",
      " 6   Bulk 6   576 non-null    float64\n",
      " 7   Bulk 7   25 non-null     float64\n",
      " 8   Bulk 8   1 non-null      float64\n",
      " 9   Bulk 9   19 non-null     float64\n",
      " 10  Bulk 10  176 non-null    float64\n",
      " 11  Bulk 11  177 non-null    float64\n",
      " 12  Bulk 12  2450 non-null   float64\n",
      " 13  Bulk 13  18 non-null     float64\n",
      " 14  Bulk 14  2806 non-null   float64\n",
      " 15  Bulk 15  2248 non-null   float64\n",
      "dtypes: float64(15), int64(1)\n",
      "memory usage: 391.2 KB\n"
     ]
    },
    {
     "data": {
      "text/plain": [
       "None"
      ]
     },
     "metadata": {},
     "output_type": "display_data"
    },
    {
     "name": "stdout",
     "output_type": "stream",
     "text": [
      "Имя файла: data_bulk_time_new\n",
      "<class 'pandas.core.frame.DataFrame'>\n",
      "RangeIndex: 3129 entries, 0 to 3128\n",
      "Data columns (total 16 columns):\n",
      " #   Column   Non-Null Count  Dtype \n",
      "---  ------   --------------  ----- \n",
      " 0   key      3129 non-null   int64 \n",
      " 1   Bulk 1   252 non-null    object\n",
      " 2   Bulk 2   22 non-null     object\n",
      " 3   Bulk 3   1298 non-null   object\n",
      " 4   Bulk 4   1014 non-null   object\n",
      " 5   Bulk 5   77 non-null     object\n",
      " 6   Bulk 6   576 non-null    object\n",
      " 7   Bulk 7   25 non-null     object\n",
      " 8   Bulk 8   1 non-null      object\n",
      " 9   Bulk 9   19 non-null     object\n",
      " 10  Bulk 10  176 non-null    object\n",
      " 11  Bulk 11  177 non-null    object\n",
      " 12  Bulk 12  2450 non-null   object\n",
      " 13  Bulk 13  18 non-null     object\n",
      " 14  Bulk 14  2806 non-null   object\n",
      " 15  Bulk 15  2248 non-null   object\n",
      "dtypes: int64(1), object(15)\n",
      "memory usage: 391.2+ KB\n"
     ]
    },
    {
     "data": {
      "text/plain": [
       "None"
      ]
     },
     "metadata": {},
     "output_type": "display_data"
    },
    {
     "name": "stdout",
     "output_type": "stream",
     "text": [
      "Имя файла: data_gas_new\n",
      "<class 'pandas.core.frame.DataFrame'>\n",
      "RangeIndex: 3239 entries, 0 to 3238\n",
      "Data columns (total 2 columns):\n",
      " #   Column  Non-Null Count  Dtype  \n",
      "---  ------  --------------  -----  \n",
      " 0   key     3239 non-null   int64  \n",
      " 1   Газ 1   3239 non-null   float64\n",
      "dtypes: float64(1), int64(1)\n",
      "memory usage: 50.7 KB\n"
     ]
    },
    {
     "data": {
      "text/plain": [
       "None"
      ]
     },
     "metadata": {},
     "output_type": "display_data"
    },
    {
     "name": "stdout",
     "output_type": "stream",
     "text": [
      "Имя файла: data_temp_new\n",
      "<class 'pandas.core.frame.DataFrame'>\n",
      "RangeIndex: 18092 entries, 0 to 18091\n",
      "Data columns (total 3 columns):\n",
      " #   Column        Non-Null Count  Dtype  \n",
      "---  ------        --------------  -----  \n",
      " 0   key           18092 non-null  int64  \n",
      " 1   Время замера  18092 non-null  object \n",
      " 2   Температура   14665 non-null  float64\n",
      "dtypes: float64(1), int64(1), object(1)\n",
      "memory usage: 424.2+ KB\n"
     ]
    },
    {
     "data": {
      "text/plain": [
       "None"
      ]
     },
     "metadata": {},
     "output_type": "display_data"
    },
    {
     "name": "stdout",
     "output_type": "stream",
     "text": [
      "Имя файла: data_wire_new\n",
      "<class 'pandas.core.frame.DataFrame'>\n",
      "RangeIndex: 3081 entries, 0 to 3080\n",
      "Data columns (total 10 columns):\n",
      " #   Column  Non-Null Count  Dtype  \n",
      "---  ------  --------------  -----  \n",
      " 0   key     3081 non-null   int64  \n",
      " 1   Wire 1  3055 non-null   float64\n",
      " 2   Wire 2  1079 non-null   float64\n",
      " 3   Wire 3  63 non-null     float64\n",
      " 4   Wire 4  14 non-null     float64\n",
      " 5   Wire 5  1 non-null      float64\n",
      " 6   Wire 6  73 non-null     float64\n",
      " 7   Wire 7  11 non-null     float64\n",
      " 8   Wire 8  19 non-null     float64\n",
      " 9   Wire 9  29 non-null     float64\n",
      "dtypes: float64(9), int64(1)\n",
      "memory usage: 240.8 KB\n"
     ]
    },
    {
     "data": {
      "text/plain": [
       "None"
      ]
     },
     "metadata": {},
     "output_type": "display_data"
    },
    {
     "name": "stdout",
     "output_type": "stream",
     "text": [
      "Имя файла: data_wire_time_new\n",
      "<class 'pandas.core.frame.DataFrame'>\n",
      "RangeIndex: 3081 entries, 0 to 3080\n",
      "Data columns (total 10 columns):\n",
      " #   Column  Non-Null Count  Dtype \n",
      "---  ------  --------------  ----- \n",
      " 0   key     3081 non-null   int64 \n",
      " 1   Wire 1  3055 non-null   object\n",
      " 2   Wire 2  1079 non-null   object\n",
      " 3   Wire 3  63 non-null     object\n",
      " 4   Wire 4  14 non-null     object\n",
      " 5   Wire 5  1 non-null      object\n",
      " 6   Wire 6  73 non-null     object\n",
      " 7   Wire 7  11 non-null     object\n",
      " 8   Wire 8  19 non-null     object\n",
      " 9   Wire 9  29 non-null     object\n",
      "dtypes: int64(1), object(9)\n",
      "memory usage: 240.8+ KB\n"
     ]
    },
    {
     "data": {
      "text/plain": [
       "None"
      ]
     },
     "metadata": {},
     "output_type": "display_data"
    }
   ],
   "source": [
    "for name, df in data_frames.items():\n",
    "    print('Имя файла:', name)\n",
    "    display(df.info())\n"
   ]
  },
  {
   "cell_type": "markdown",
   "id": "981cee96",
   "metadata": {},
   "source": [
    "Что можно сделать по каждому набору:\n",
    " 1. Имя файла: data_arc_new - перевести даты и время в формат дата время, посчитать полную мощность как  корень квадратный из суммы квадратов активной и реактивной мощности, посчитать время разряда и осреднить по ключу\n",
    " 2. Имя файла: data_bulk_new - заполнить пропуски нулем (т.к. если присадка не добавленна, то это 0), объеденить по предварительному анализу присадки, есть много признков с небольшим количеством заполненных строк, возможно стоит их удалить или объеденить, т.к. это уменьшит сложность модели.\n",
    " 3. Имя файла: data_gas_new проверить на аномалии, проверить пропуски\n",
    " 4. Согласно обзору данных и консультации с заказчиком таблицы с временем добавления сыпучих и проволочных присадок (Имя файла: data_wire_time_new, Имя файла: data_bulk_time_new) не нужны для целей моделирования, поэтому ими можно в дальнейшем принебречь.\n",
    " 5. Имя файла: data_temp_new - заполнить пропуски средним по ключу где пропуск, если для ключа нельзя вычислить среднее - удаляем такой ключ (измерений должно быть минимум 2 - начало и конец), для моделирования это самая важная таболица - нам обязательно в финальный датафрйм нужно подать температуру начала, температуру среднюю по ключу, предсказывать нужно температуру разлива стальной плиты.\n",
    "6. Имя файла: data_wire_new - та же история что и с data_bulk_new "
   ]
  },
  {
   "cell_type": "markdown",
   "id": "ecdf3d69",
   "metadata": {},
   "source": [
    "Переведем колонки со временем в формат дата-время:"
   ]
  },
  {
   "cell_type": "code",
   "execution_count": 6,
   "id": "efc6b88a",
   "metadata": {},
   "outputs": [],
   "source": [
    "data_arc_new['Начало нагрева дугой'] = pd.to_datetime(data_arc_new['Начало нагрева дугой'])\n",
    "data_arc_new['Конец нагрева дугой'] = pd.to_datetime(data_arc_new['Конец нагрева дугой'])"
   ]
  },
  {
   "cell_type": "markdown",
   "id": "f02229c7",
   "metadata": {},
   "source": [
    "Проверка"
   ]
  },
  {
   "cell_type": "code",
   "execution_count": 7,
   "id": "86ea5523",
   "metadata": {},
   "outputs": [
    {
     "name": "stdout",
     "output_type": "stream",
     "text": [
      "<class 'pandas.core.frame.DataFrame'>\n",
      "RangeIndex: 14876 entries, 0 to 14875\n",
      "Data columns (total 5 columns):\n",
      " #   Column                Non-Null Count  Dtype         \n",
      "---  ------                --------------  -----         \n",
      " 0   key                   14876 non-null  int64         \n",
      " 1   Начало нагрева дугой  14876 non-null  datetime64[ns]\n",
      " 2   Конец нагрева дугой   14876 non-null  datetime64[ns]\n",
      " 3   Активная мощность     14876 non-null  float64       \n",
      " 4   Реактивная мощность   14876 non-null  float64       \n",
      "dtypes: datetime64[ns](2), float64(2), int64(1)\n",
      "memory usage: 581.2 KB\n"
     ]
    }
   ],
   "source": [
    "data_arc_new.info()"
   ]
  },
  {
   "cell_type": "code",
   "execution_count": 8,
   "id": "d30ba974",
   "metadata": {},
   "outputs": [],
   "source": [
    "data_temp_new['Время замера'] = pd.to_datetime(data_temp_new['Время замера'])"
   ]
  },
  {
   "cell_type": "markdown",
   "id": "cbb2bc75",
   "metadata": {},
   "source": [
    "Проверка"
   ]
  },
  {
   "cell_type": "code",
   "execution_count": 9,
   "id": "75618745",
   "metadata": {
    "scrolled": false
   },
   "outputs": [
    {
     "name": "stdout",
     "output_type": "stream",
     "text": [
      "Имя файла: data_arc_new\n",
      "<class 'pandas.core.frame.DataFrame'>\n",
      "RangeIndex: 14876 entries, 0 to 14875\n",
      "Data columns (total 5 columns):\n",
      " #   Column                Non-Null Count  Dtype         \n",
      "---  ------                --------------  -----         \n",
      " 0   key                   14876 non-null  int64         \n",
      " 1   Начало нагрева дугой  14876 non-null  datetime64[ns]\n",
      " 2   Конец нагрева дугой   14876 non-null  datetime64[ns]\n",
      " 3   Активная мощность     14876 non-null  float64       \n",
      " 4   Реактивная мощность   14876 non-null  float64       \n",
      "dtypes: datetime64[ns](2), float64(2), int64(1)\n",
      "memory usage: 581.2 KB\n"
     ]
    },
    {
     "data": {
      "text/plain": [
       "None"
      ]
     },
     "metadata": {},
     "output_type": "display_data"
    },
    {
     "name": "stdout",
     "output_type": "stream",
     "text": [
      "Имя файла: data_bulk_new\n",
      "<class 'pandas.core.frame.DataFrame'>\n",
      "RangeIndex: 3129 entries, 0 to 3128\n",
      "Data columns (total 16 columns):\n",
      " #   Column   Non-Null Count  Dtype  \n",
      "---  ------   --------------  -----  \n",
      " 0   key      3129 non-null   int64  \n",
      " 1   Bulk 1   252 non-null    float64\n",
      " 2   Bulk 2   22 non-null     float64\n",
      " 3   Bulk 3   1298 non-null   float64\n",
      " 4   Bulk 4   1014 non-null   float64\n",
      " 5   Bulk 5   77 non-null     float64\n",
      " 6   Bulk 6   576 non-null    float64\n",
      " 7   Bulk 7   25 non-null     float64\n",
      " 8   Bulk 8   1 non-null      float64\n",
      " 9   Bulk 9   19 non-null     float64\n",
      " 10  Bulk 10  176 non-null    float64\n",
      " 11  Bulk 11  177 non-null    float64\n",
      " 12  Bulk 12  2450 non-null   float64\n",
      " 13  Bulk 13  18 non-null     float64\n",
      " 14  Bulk 14  2806 non-null   float64\n",
      " 15  Bulk 15  2248 non-null   float64\n",
      "dtypes: float64(15), int64(1)\n",
      "memory usage: 391.2 KB\n"
     ]
    },
    {
     "data": {
      "text/plain": [
       "None"
      ]
     },
     "metadata": {},
     "output_type": "display_data"
    },
    {
     "name": "stdout",
     "output_type": "stream",
     "text": [
      "Имя файла: data_bulk_time_new\n",
      "<class 'pandas.core.frame.DataFrame'>\n",
      "RangeIndex: 3129 entries, 0 to 3128\n",
      "Data columns (total 16 columns):\n",
      " #   Column   Non-Null Count  Dtype \n",
      "---  ------   --------------  ----- \n",
      " 0   key      3129 non-null   int64 \n",
      " 1   Bulk 1   252 non-null    object\n",
      " 2   Bulk 2   22 non-null     object\n",
      " 3   Bulk 3   1298 non-null   object\n",
      " 4   Bulk 4   1014 non-null   object\n",
      " 5   Bulk 5   77 non-null     object\n",
      " 6   Bulk 6   576 non-null    object\n",
      " 7   Bulk 7   25 non-null     object\n",
      " 8   Bulk 8   1 non-null      object\n",
      " 9   Bulk 9   19 non-null     object\n",
      " 10  Bulk 10  176 non-null    object\n",
      " 11  Bulk 11  177 non-null    object\n",
      " 12  Bulk 12  2450 non-null   object\n",
      " 13  Bulk 13  18 non-null     object\n",
      " 14  Bulk 14  2806 non-null   object\n",
      " 15  Bulk 15  2248 non-null   object\n",
      "dtypes: int64(1), object(15)\n",
      "memory usage: 391.2+ KB\n"
     ]
    },
    {
     "data": {
      "text/plain": [
       "None"
      ]
     },
     "metadata": {},
     "output_type": "display_data"
    },
    {
     "name": "stdout",
     "output_type": "stream",
     "text": [
      "Имя файла: data_gas_new\n",
      "<class 'pandas.core.frame.DataFrame'>\n",
      "RangeIndex: 3239 entries, 0 to 3238\n",
      "Data columns (total 2 columns):\n",
      " #   Column  Non-Null Count  Dtype  \n",
      "---  ------  --------------  -----  \n",
      " 0   key     3239 non-null   int64  \n",
      " 1   Газ 1   3239 non-null   float64\n",
      "dtypes: float64(1), int64(1)\n",
      "memory usage: 50.7 KB\n"
     ]
    },
    {
     "data": {
      "text/plain": [
       "None"
      ]
     },
     "metadata": {},
     "output_type": "display_data"
    },
    {
     "name": "stdout",
     "output_type": "stream",
     "text": [
      "Имя файла: data_temp_new\n",
      "<class 'pandas.core.frame.DataFrame'>\n",
      "RangeIndex: 18092 entries, 0 to 18091\n",
      "Data columns (total 3 columns):\n",
      " #   Column        Non-Null Count  Dtype         \n",
      "---  ------        --------------  -----         \n",
      " 0   key           18092 non-null  int64         \n",
      " 1   Время замера  18092 non-null  datetime64[ns]\n",
      " 2   Температура   14665 non-null  float64       \n",
      "dtypes: datetime64[ns](1), float64(1), int64(1)\n",
      "memory usage: 424.2 KB\n"
     ]
    },
    {
     "data": {
      "text/plain": [
       "None"
      ]
     },
     "metadata": {},
     "output_type": "display_data"
    },
    {
     "name": "stdout",
     "output_type": "stream",
     "text": [
      "Имя файла: data_wire_new\n",
      "<class 'pandas.core.frame.DataFrame'>\n",
      "RangeIndex: 3081 entries, 0 to 3080\n",
      "Data columns (total 10 columns):\n",
      " #   Column  Non-Null Count  Dtype  \n",
      "---  ------  --------------  -----  \n",
      " 0   key     3081 non-null   int64  \n",
      " 1   Wire 1  3055 non-null   float64\n",
      " 2   Wire 2  1079 non-null   float64\n",
      " 3   Wire 3  63 non-null     float64\n",
      " 4   Wire 4  14 non-null     float64\n",
      " 5   Wire 5  1 non-null      float64\n",
      " 6   Wire 6  73 non-null     float64\n",
      " 7   Wire 7  11 non-null     float64\n",
      " 8   Wire 8  19 non-null     float64\n",
      " 9   Wire 9  29 non-null     float64\n",
      "dtypes: float64(9), int64(1)\n",
      "memory usage: 240.8 KB\n"
     ]
    },
    {
     "data": {
      "text/plain": [
       "None"
      ]
     },
     "metadata": {},
     "output_type": "display_data"
    },
    {
     "name": "stdout",
     "output_type": "stream",
     "text": [
      "Имя файла: data_wire_time_new\n",
      "<class 'pandas.core.frame.DataFrame'>\n",
      "RangeIndex: 3081 entries, 0 to 3080\n",
      "Data columns (total 10 columns):\n",
      " #   Column  Non-Null Count  Dtype \n",
      "---  ------  --------------  ----- \n",
      " 0   key     3081 non-null   int64 \n",
      " 1   Wire 1  3055 non-null   object\n",
      " 2   Wire 2  1079 non-null   object\n",
      " 3   Wire 3  63 non-null     object\n",
      " 4   Wire 4  14 non-null     object\n",
      " 5   Wire 5  1 non-null      object\n",
      " 6   Wire 6  73 non-null     object\n",
      " 7   Wire 7  11 non-null     object\n",
      " 8   Wire 8  19 non-null     object\n",
      " 9   Wire 9  29 non-null     object\n",
      "dtypes: int64(1), object(9)\n",
      "memory usage: 240.8+ KB\n"
     ]
    },
    {
     "data": {
      "text/plain": [
       "None"
      ]
     },
     "metadata": {},
     "output_type": "display_data"
    }
   ],
   "source": [
    "for name, df in data_frames.items():\n",
    "    print('Имя файла:', name)\n",
    "    display(df.info())\n"
   ]
  },
  {
   "cell_type": "markdown",
   "id": "d30e7ec9",
   "metadata": {},
   "source": [
    "Заполним пропуски нулем у data_wire_new и data_bulk_new"
   ]
  },
  {
   "cell_type": "code",
   "execution_count": 10,
   "id": "e033dc43",
   "metadata": {},
   "outputs": [],
   "source": [
    "data_wire_new = data_wire_new.fillna(0)\n",
    "data_bulk_new = data_bulk_new.fillna(0)"
   ]
  },
  {
   "cell_type": "markdown",
   "id": "d4ee9936",
   "metadata": {},
   "source": [
    "Посчитаем количество пропусков:"
   ]
  },
  {
   "cell_type": "code",
   "execution_count": 11,
   "id": "75295b85",
   "metadata": {},
   "outputs": [
    {
     "name": "stdout",
     "output_type": "stream",
     "text": [
      "Количество пропусков в data_arc_new: \n",
      "key                     0\n",
      "Начало нагрева дугой    0\n",
      "Конец нагрева дугой     0\n",
      "Активная мощность       0\n",
      "Реактивная мощность     0\n",
      "dtype: int64\n",
      "\n",
      "Количество пропусков в data_bulk_new: \n",
      "key        0\n",
      "Bulk 1     0\n",
      "Bulk 2     0\n",
      "Bulk 3     0\n",
      "Bulk 4     0\n",
      "Bulk 5     0\n",
      "Bulk 6     0\n",
      "Bulk 7     0\n",
      "Bulk 8     0\n",
      "Bulk 9     0\n",
      "Bulk 10    0\n",
      "Bulk 11    0\n",
      "Bulk 12    0\n",
      "Bulk 13    0\n",
      "Bulk 14    0\n",
      "Bulk 15    0\n",
      "dtype: int64\n",
      "\n",
      "Количество пропусков в data_gas_new: \n",
      "key      0\n",
      "Газ 1    0\n",
      "dtype: int64\n",
      "\n",
      "Количество пропусков в data_temp_new: \n",
      "key                0\n",
      "Время замера       0\n",
      "Температура     3427\n",
      "dtype: int64\n",
      "\n",
      "Количество пропусков в data_wire_new: \n",
      "key       0\n",
      "Wire 1    0\n",
      "Wire 2    0\n",
      "Wire 3    0\n",
      "Wire 4    0\n",
      "Wire 5    0\n",
      "Wire 6    0\n",
      "Wire 7    0\n",
      "Wire 8    0\n",
      "Wire 9    0\n",
      "dtype: int64\n",
      "\n"
     ]
    }
   ],
   "source": [
    "tup = [\n",
    "    ('data_arc_new', data_arc_new),\n",
    "    ('data_bulk_new', data_bulk_new),\n",
    "    ('data_gas_new', data_gas_new),\n",
    "    ('data_temp_new', data_temp_new),\n",
    "    ('data_wire_new', data_wire_new)\n",
    "]\n",
    "\n",
    "for name, variable in tup:\n",
    "    print(f'Количество пропусков в {name}: \\n{variable.isna().sum()}')\n",
    "    print('')\n"
   ]
  },
  {
   "cell_type": "markdown",
   "id": "95e6b125",
   "metadata": {},
   "source": [
    "Удалим все ключи, где есть пропущенные значения, то есть целевая переменная NaN. По полученным данным это ключи с номера 2500 и до конца, возможно что-то случилось на ковше 2500. Уберем эти ковши и обратим внимание заказчика на них."
   ]
  },
  {
   "cell_type": "code",
   "execution_count": 12,
   "id": "a45236f2",
   "metadata": {},
   "outputs": [
    {
     "data": {
      "text/plain": [
       "key                0\n",
       "Время замера       0\n",
       "Температура     3427\n",
       "dtype: int64"
      ]
     },
     "execution_count": 12,
     "metadata": {},
     "output_type": "execute_result"
    }
   ],
   "source": [
    "data_temp_new.isna().sum()"
   ]
  },
  {
   "cell_type": "markdown",
   "id": "c3f1fb39",
   "metadata": {},
   "source": [
    "Выводы по разделу:\n",
    "    \n",
    "1. Произвделен превичный обзор данных\n",
    "2. Изменены типы данных \n",
    "3. Заполнены пропуски\n",
    "4. Выявлены потенциальные проблемы в данных\n",
    "5. При измерении температуры выявлены проблемы с ключа 2500, там вообще нет измерений, возможно что-то сломалось."
   ]
  },
  {
   "cell_type": "code",
   "execution_count": 13,
   "id": "4385db7c",
   "metadata": {},
   "outputs": [],
   "source": [
    "data_temp_new=data_temp_new.drop('Время замера', axis=1)"
   ]
  },
  {
   "cell_type": "code",
   "execution_count": 14,
   "id": "6eff2679",
   "metadata": {},
   "outputs": [
    {
     "data": {
      "text/html": [
       "<div>\n",
       "<style scoped>\n",
       "    .dataframe tbody tr th:only-of-type {\n",
       "        vertical-align: middle;\n",
       "    }\n",
       "\n",
       "    .dataframe tbody tr th {\n",
       "        vertical-align: top;\n",
       "    }\n",
       "\n",
       "    .dataframe thead th {\n",
       "        text-align: right;\n",
       "    }\n",
       "</style>\n",
       "<table border=\"1\" class=\"dataframe\">\n",
       "  <thead>\n",
       "    <tr style=\"text-align: right;\">\n",
       "      <th></th>\n",
       "      <th>key</th>\n",
       "      <th>Температура</th>\n",
       "    </tr>\n",
       "  </thead>\n",
       "  <tbody>\n",
       "    <tr>\n",
       "      <th>0</th>\n",
       "      <td>1</td>\n",
       "      <td>1571.0</td>\n",
       "    </tr>\n",
       "    <tr>\n",
       "      <th>1</th>\n",
       "      <td>1</td>\n",
       "      <td>1604.0</td>\n",
       "    </tr>\n",
       "    <tr>\n",
       "      <th>2</th>\n",
       "      <td>1</td>\n",
       "      <td>1618.0</td>\n",
       "    </tr>\n",
       "    <tr>\n",
       "      <th>3</th>\n",
       "      <td>1</td>\n",
       "      <td>1601.0</td>\n",
       "    </tr>\n",
       "    <tr>\n",
       "      <th>4</th>\n",
       "      <td>1</td>\n",
       "      <td>1606.0</td>\n",
       "    </tr>\n",
       "    <tr>\n",
       "      <th>...</th>\n",
       "      <td>...</td>\n",
       "      <td>...</td>\n",
       "    </tr>\n",
       "    <tr>\n",
       "      <th>18087</th>\n",
       "      <td>3241</td>\n",
       "      <td>NaN</td>\n",
       "    </tr>\n",
       "    <tr>\n",
       "      <th>18088</th>\n",
       "      <td>3241</td>\n",
       "      <td>NaN</td>\n",
       "    </tr>\n",
       "    <tr>\n",
       "      <th>18089</th>\n",
       "      <td>3241</td>\n",
       "      <td>NaN</td>\n",
       "    </tr>\n",
       "    <tr>\n",
       "      <th>18090</th>\n",
       "      <td>3241</td>\n",
       "      <td>NaN</td>\n",
       "    </tr>\n",
       "    <tr>\n",
       "      <th>18091</th>\n",
       "      <td>3241</td>\n",
       "      <td>NaN</td>\n",
       "    </tr>\n",
       "  </tbody>\n",
       "</table>\n",
       "<p>18092 rows × 2 columns</p>\n",
       "</div>"
      ],
      "text/plain": [
       "        key  Температура\n",
       "0         1       1571.0\n",
       "1         1       1604.0\n",
       "2         1       1618.0\n",
       "3         1       1601.0\n",
       "4         1       1606.0\n",
       "...     ...          ...\n",
       "18087  3241          NaN\n",
       "18088  3241          NaN\n",
       "18089  3241          NaN\n",
       "18090  3241          NaN\n",
       "18091  3241          NaN\n",
       "\n",
       "[18092 rows x 2 columns]"
      ]
     },
     "execution_count": 14,
     "metadata": {},
     "output_type": "execute_result"
    }
   ],
   "source": [
    "data_temp_new"
   ]
  },
  {
   "cell_type": "code",
   "execution_count": 15,
   "id": "f3a0b6a0",
   "metadata": {},
   "outputs": [
    {
     "data": {
      "text/html": [
       "<div>\n",
       "<style scoped>\n",
       "    .dataframe tbody tr th:only-of-type {\n",
       "        vertical-align: middle;\n",
       "    }\n",
       "\n",
       "    .dataframe tbody tr th {\n",
       "        vertical-align: top;\n",
       "    }\n",
       "\n",
       "    .dataframe thead th {\n",
       "        text-align: right;\n",
       "    }\n",
       "</style>\n",
       "<table border=\"1\" class=\"dataframe\">\n",
       "  <thead>\n",
       "    <tr style=\"text-align: right;\">\n",
       "      <th></th>\n",
       "      <th>key</th>\n",
       "      <th>Температура</th>\n",
       "    </tr>\n",
       "  </thead>\n",
       "  <tbody>\n",
       "    <tr>\n",
       "      <th>0</th>\n",
       "      <td>1</td>\n",
       "      <td>1571.0</td>\n",
       "    </tr>\n",
       "    <tr>\n",
       "      <th>1</th>\n",
       "      <td>1</td>\n",
       "      <td>1604.0</td>\n",
       "    </tr>\n",
       "    <tr>\n",
       "      <th>2</th>\n",
       "      <td>1</td>\n",
       "      <td>1618.0</td>\n",
       "    </tr>\n",
       "    <tr>\n",
       "      <th>3</th>\n",
       "      <td>1</td>\n",
       "      <td>1601.0</td>\n",
       "    </tr>\n",
       "    <tr>\n",
       "      <th>4</th>\n",
       "      <td>1</td>\n",
       "      <td>1606.0</td>\n",
       "    </tr>\n",
       "    <tr>\n",
       "      <th>...</th>\n",
       "      <td>...</td>\n",
       "      <td>...</td>\n",
       "    </tr>\n",
       "    <tr>\n",
       "      <th>18061</th>\n",
       "      <td>3237</td>\n",
       "      <td>1569.0</td>\n",
       "    </tr>\n",
       "    <tr>\n",
       "      <th>18067</th>\n",
       "      <td>3238</td>\n",
       "      <td>1584.0</td>\n",
       "    </tr>\n",
       "    <tr>\n",
       "      <th>18071</th>\n",
       "      <td>3239</td>\n",
       "      <td>1598.0</td>\n",
       "    </tr>\n",
       "    <tr>\n",
       "      <th>18080</th>\n",
       "      <td>3240</td>\n",
       "      <td>1617.0</td>\n",
       "    </tr>\n",
       "    <tr>\n",
       "      <th>18086</th>\n",
       "      <td>3241</td>\n",
       "      <td>1586.0</td>\n",
       "    </tr>\n",
       "  </tbody>\n",
       "</table>\n",
       "<p>14660 rows × 2 columns</p>\n",
       "</div>"
      ],
      "text/plain": [
       "        key  Температура\n",
       "0         1       1571.0\n",
       "1         1       1604.0\n",
       "2         1       1618.0\n",
       "3         1       1601.0\n",
       "4         1       1606.0\n",
       "...     ...          ...\n",
       "18061  3237       1569.0\n",
       "18067  3238       1584.0\n",
       "18071  3239       1598.0\n",
       "18080  3240       1617.0\n",
       "18086  3241       1586.0\n",
       "\n",
       "[14660 rows x 2 columns]"
      ]
     },
     "metadata": {},
     "output_type": "display_data"
    }
   ],
   "source": [
    "data_temp_new=data_temp_new.query('Температура > 1400')\n",
    "display(data_temp_new)"
   ]
  },
  {
   "cell_type": "code",
   "execution_count": 16,
   "id": "9cdb2bcd",
   "metadata": {},
   "outputs": [
    {
     "data": {
      "text/html": [
       "<div>\n",
       "<style scoped>\n",
       "    .dataframe tbody tr th:only-of-type {\n",
       "        vertical-align: middle;\n",
       "    }\n",
       "\n",
       "    .dataframe tbody tr th {\n",
       "        vertical-align: top;\n",
       "    }\n",
       "\n",
       "    .dataframe thead th {\n",
       "        text-align: right;\n",
       "    }\n",
       "</style>\n",
       "<table border=\"1\" class=\"dataframe\">\n",
       "  <thead>\n",
       "    <tr style=\"text-align: right;\">\n",
       "      <th></th>\n",
       "      <th>Температура</th>\n",
       "    </tr>\n",
       "    <tr>\n",
       "      <th>key</th>\n",
       "      <th></th>\n",
       "    </tr>\n",
       "  </thead>\n",
       "  <tbody>\n",
       "    <tr>\n",
       "      <th>1</th>\n",
       "      <td>6</td>\n",
       "    </tr>\n",
       "    <tr>\n",
       "      <th>2</th>\n",
       "      <td>5</td>\n",
       "    </tr>\n",
       "    <tr>\n",
       "      <th>3</th>\n",
       "      <td>6</td>\n",
       "    </tr>\n",
       "    <tr>\n",
       "      <th>4</th>\n",
       "      <td>5</td>\n",
       "    </tr>\n",
       "    <tr>\n",
       "      <th>5</th>\n",
       "      <td>5</td>\n",
       "    </tr>\n",
       "    <tr>\n",
       "      <th>...</th>\n",
       "      <td>...</td>\n",
       "    </tr>\n",
       "    <tr>\n",
       "      <th>3237</th>\n",
       "      <td>1</td>\n",
       "    </tr>\n",
       "    <tr>\n",
       "      <th>3238</th>\n",
       "      <td>1</td>\n",
       "    </tr>\n",
       "    <tr>\n",
       "      <th>3239</th>\n",
       "      <td>1</td>\n",
       "    </tr>\n",
       "    <tr>\n",
       "      <th>3240</th>\n",
       "      <td>1</td>\n",
       "    </tr>\n",
       "    <tr>\n",
       "      <th>3241</th>\n",
       "      <td>1</td>\n",
       "    </tr>\n",
       "  </tbody>\n",
       "</table>\n",
       "<p>3215 rows × 1 columns</p>\n",
       "</div>"
      ],
      "text/plain": [
       "      Температура\n",
       "key              \n",
       "1               6\n",
       "2               5\n",
       "3               6\n",
       "4               5\n",
       "5               5\n",
       "...           ...\n",
       "3237            1\n",
       "3238            1\n",
       "3239            1\n",
       "3240            1\n",
       "3241            1\n",
       "\n",
       "[3215 rows x 1 columns]"
      ]
     },
     "metadata": {},
     "output_type": "display_data"
    }
   ],
   "source": [
    "data_key = data_temp_new.groupby('key')[['Температура']].count()\n",
    "display(data_key)\n",
    "\n",
    "data_key1 = pd.DataFrame(data_key)"
   ]
  },
  {
   "cell_type": "code",
   "execution_count": 17,
   "id": "04c97e54",
   "metadata": {},
   "outputs": [
    {
     "data": {
      "text/plain": [
       "[195,\n",
       " 279,\n",
       " 2500,\n",
       " 2501,\n",
       " 2502,\n",
       " 2503,\n",
       " 2504,\n",
       " 2505,\n",
       " 2506,\n",
       " 2507,\n",
       " 2508,\n",
       " 2509,\n",
       " 2510,\n",
       " 2511,\n",
       " 2512,\n",
       " 2513,\n",
       " 2514,\n",
       " 2515,\n",
       " 2516,\n",
       " 2517,\n",
       " 2518,\n",
       " 2519,\n",
       " 2520,\n",
       " 2521,\n",
       " 2522,\n",
       " 2523,\n",
       " 2524,\n",
       " 2525,\n",
       " 2526,\n",
       " 2527,\n",
       " 2528,\n",
       " 2529,\n",
       " 2530,\n",
       " 2531,\n",
       " 2532,\n",
       " 2533,\n",
       " 2534,\n",
       " 2535,\n",
       " 2536,\n",
       " 2537,\n",
       " 2538,\n",
       " 2539,\n",
       " 2540,\n",
       " 2541,\n",
       " 2542,\n",
       " 2543,\n",
       " 2544,\n",
       " 2545,\n",
       " 2546,\n",
       " 2547,\n",
       " 2548,\n",
       " 2549,\n",
       " 2550,\n",
       " 2551,\n",
       " 2552,\n",
       " 2553,\n",
       " 2554,\n",
       " 2555,\n",
       " 2556,\n",
       " 2557,\n",
       " 2558,\n",
       " 2559,\n",
       " 2560,\n",
       " 2562,\n",
       " 2563,\n",
       " 2564,\n",
       " 2565,\n",
       " 2566,\n",
       " 2567,\n",
       " 2568,\n",
       " 2569,\n",
       " 2570,\n",
       " 2571,\n",
       " 2572,\n",
       " 2573,\n",
       " 2574,\n",
       " 2575,\n",
       " 2576,\n",
       " 2577,\n",
       " 2578,\n",
       " 2579,\n",
       " 2580,\n",
       " 2581,\n",
       " 2582,\n",
       " 2583,\n",
       " 2584,\n",
       " 2585,\n",
       " 2586,\n",
       " 2587,\n",
       " 2588,\n",
       " 2589,\n",
       " 2590,\n",
       " 2591,\n",
       " 2592,\n",
       " 2593,\n",
       " 2594,\n",
       " 2595,\n",
       " 2596,\n",
       " 2597,\n",
       " 2598,\n",
       " 2599,\n",
       " 2600,\n",
       " 2601,\n",
       " 2602,\n",
       " 2603,\n",
       " 2604,\n",
       " 2605,\n",
       " 2606,\n",
       " 2607,\n",
       " 2608,\n",
       " 2609,\n",
       " 2610,\n",
       " 2611,\n",
       " 2612,\n",
       " 2613,\n",
       " 2614,\n",
       " 2615,\n",
       " 2616,\n",
       " 2617,\n",
       " 2618,\n",
       " 2619,\n",
       " 2620,\n",
       " 2621,\n",
       " 2622,\n",
       " 2623,\n",
       " 2624,\n",
       " 2625,\n",
       " 2626,\n",
       " 2627,\n",
       " 2628,\n",
       " 2629,\n",
       " 2630,\n",
       " 2631,\n",
       " 2632,\n",
       " 2633,\n",
       " 2634,\n",
       " 2635,\n",
       " 2636,\n",
       " 2637,\n",
       " 2638,\n",
       " 2639,\n",
       " 2640,\n",
       " 2641,\n",
       " 2642,\n",
       " 2643,\n",
       " 2644,\n",
       " 2645,\n",
       " 2646,\n",
       " 2647,\n",
       " 2648,\n",
       " 2649,\n",
       " 2650,\n",
       " 2651,\n",
       " 2652,\n",
       " 2653,\n",
       " 2654,\n",
       " 2655,\n",
       " 2656,\n",
       " 2657,\n",
       " 2658,\n",
       " 2659,\n",
       " 2660,\n",
       " 2661,\n",
       " 2662,\n",
       " 2663,\n",
       " 2664,\n",
       " 2665,\n",
       " 2666,\n",
       " 2667,\n",
       " 2668,\n",
       " 2669,\n",
       " 2670,\n",
       " 2671,\n",
       " 2672,\n",
       " 2673,\n",
       " 2674,\n",
       " 2675,\n",
       " 2676,\n",
       " 2677,\n",
       " 2678,\n",
       " 2679,\n",
       " 2680,\n",
       " 2681,\n",
       " 2682,\n",
       " 2684,\n",
       " 2685,\n",
       " 2686,\n",
       " 2687,\n",
       " 2688,\n",
       " 2689,\n",
       " 2690,\n",
       " 2691,\n",
       " 2692,\n",
       " 2693,\n",
       " 2694,\n",
       " 2695,\n",
       " 2696,\n",
       " 2697,\n",
       " 2698,\n",
       " 2699,\n",
       " 2700,\n",
       " 2701,\n",
       " 2702,\n",
       " 2703,\n",
       " 2704,\n",
       " 2705,\n",
       " 2706,\n",
       " 2707,\n",
       " 2708,\n",
       " 2709,\n",
       " 2710,\n",
       " 2711,\n",
       " 2712,\n",
       " 2713,\n",
       " 2714,\n",
       " 2715,\n",
       " 2716,\n",
       " 2717,\n",
       " 2718,\n",
       " 2719,\n",
       " 2720,\n",
       " 2721,\n",
       " 2722,\n",
       " 2723,\n",
       " 2724,\n",
       " 2725,\n",
       " 2726,\n",
       " 2727,\n",
       " 2728,\n",
       " 2729,\n",
       " 2730,\n",
       " 2731,\n",
       " 2732,\n",
       " 2733,\n",
       " 2734,\n",
       " 2735,\n",
       " 2736,\n",
       " 2737,\n",
       " 2738,\n",
       " 2739,\n",
       " 2740,\n",
       " 2741,\n",
       " 2742,\n",
       " 2743,\n",
       " 2744,\n",
       " 2745,\n",
       " 2746,\n",
       " 2747,\n",
       " 2748,\n",
       " 2749,\n",
       " 2750,\n",
       " 2751,\n",
       " 2752,\n",
       " 2753,\n",
       " 2754,\n",
       " 2755,\n",
       " 2756,\n",
       " 2757,\n",
       " 2758,\n",
       " 2759,\n",
       " 2760,\n",
       " 2761,\n",
       " 2762,\n",
       " 2763,\n",
       " 2764,\n",
       " 2765,\n",
       " 2766,\n",
       " 2767,\n",
       " 2768,\n",
       " 2769,\n",
       " 2770,\n",
       " 2771,\n",
       " 2772,\n",
       " 2773,\n",
       " 2774,\n",
       " 2775,\n",
       " 2776,\n",
       " 2777,\n",
       " 2778,\n",
       " 2779,\n",
       " 2780,\n",
       " 2781,\n",
       " 2782,\n",
       " 2783,\n",
       " 2784,\n",
       " 2785,\n",
       " 2786,\n",
       " 2787,\n",
       " 2788,\n",
       " 2789,\n",
       " 2790,\n",
       " 2791,\n",
       " 2792,\n",
       " 2793,\n",
       " 2794,\n",
       " 2795,\n",
       " 2796,\n",
       " 2797,\n",
       " 2798,\n",
       " 2799,\n",
       " 2800,\n",
       " 2801,\n",
       " 2802,\n",
       " 2803,\n",
       " 2804,\n",
       " 2805,\n",
       " 2806,\n",
       " 2807,\n",
       " 2808,\n",
       " 2809,\n",
       " 2810,\n",
       " 2811,\n",
       " 2812,\n",
       " 2813,\n",
       " 2814,\n",
       " 2815,\n",
       " 2816,\n",
       " 2817,\n",
       " 2818,\n",
       " 2819,\n",
       " 2820,\n",
       " 2821,\n",
       " 2822,\n",
       " 2823,\n",
       " 2824,\n",
       " 2825,\n",
       " 2826,\n",
       " 2827,\n",
       " 2828,\n",
       " 2829,\n",
       " 2830,\n",
       " 2831,\n",
       " 2832,\n",
       " 2833,\n",
       " 2834,\n",
       " 2835,\n",
       " 2836,\n",
       " 2837,\n",
       " 2838,\n",
       " 2839,\n",
       " 2840,\n",
       " 2841,\n",
       " 2842,\n",
       " 2843,\n",
       " 2844,\n",
       " 2845,\n",
       " 2846,\n",
       " 2847,\n",
       " 2848,\n",
       " 2849,\n",
       " 2850,\n",
       " 2851,\n",
       " 2852,\n",
       " 2853,\n",
       " 2854,\n",
       " 2855,\n",
       " 2856,\n",
       " 2857,\n",
       " 2858,\n",
       " 2859,\n",
       " 2860,\n",
       " 2861,\n",
       " 2862,\n",
       " 2863,\n",
       " 2864,\n",
       " 2865,\n",
       " 2866,\n",
       " 2867,\n",
       " 2868,\n",
       " 2869,\n",
       " 2870,\n",
       " 2871,\n",
       " 2872,\n",
       " 2873,\n",
       " 2874,\n",
       " 2875,\n",
       " 2876,\n",
       " 2877,\n",
       " 2878,\n",
       " 2879,\n",
       " 2880,\n",
       " 2881,\n",
       " 2882,\n",
       " 2883,\n",
       " 2884,\n",
       " 2885,\n",
       " 2886,\n",
       " 2887,\n",
       " 2888,\n",
       " 2889,\n",
       " 2890,\n",
       " 2891,\n",
       " 2892,\n",
       " 2893,\n",
       " 2894,\n",
       " 2895,\n",
       " 2896,\n",
       " 2897,\n",
       " 2898,\n",
       " 2899,\n",
       " 2900,\n",
       " 2901,\n",
       " 2902,\n",
       " 2903,\n",
       " 2904,\n",
       " 2905,\n",
       " 2906,\n",
       " 2907,\n",
       " 2908,\n",
       " 2909,\n",
       " 2910,\n",
       " 2911,\n",
       " 2912,\n",
       " 2913,\n",
       " 2914,\n",
       " 2915,\n",
       " 2916,\n",
       " 2917,\n",
       " 2918,\n",
       " 2919,\n",
       " 2920,\n",
       " 2921,\n",
       " 2922,\n",
       " 2923,\n",
       " 2924,\n",
       " 2925,\n",
       " 2926,\n",
       " 2927,\n",
       " 2928,\n",
       " 2929,\n",
       " 2930,\n",
       " 2931,\n",
       " 2932,\n",
       " 2933,\n",
       " 2934,\n",
       " 2935,\n",
       " 2936,\n",
       " 2937,\n",
       " 2938,\n",
       " 2939,\n",
       " 2940,\n",
       " 2941,\n",
       " 2942,\n",
       " 2943,\n",
       " 2944,\n",
       " 2945,\n",
       " 2946,\n",
       " 2947,\n",
       " 2948,\n",
       " 2949,\n",
       " 2950,\n",
       " 2951,\n",
       " 2952,\n",
       " 2953,\n",
       " 2954,\n",
       " 2955,\n",
       " 2956,\n",
       " 2957,\n",
       " 2958,\n",
       " 2959,\n",
       " 2960,\n",
       " 2961,\n",
       " 2962,\n",
       " 2963,\n",
       " 2964,\n",
       " 2965,\n",
       " 2966,\n",
       " 2967,\n",
       " 2968,\n",
       " 2969,\n",
       " 2970,\n",
       " 2971,\n",
       " 2972,\n",
       " 2973,\n",
       " 2974,\n",
       " 2975,\n",
       " 2976,\n",
       " 2977,\n",
       " 2978,\n",
       " 2979,\n",
       " 2980,\n",
       " 2981,\n",
       " 2982,\n",
       " 2983,\n",
       " 2984,\n",
       " 2985,\n",
       " 2986,\n",
       " 2987,\n",
       " 2988,\n",
       " 2989,\n",
       " 2990,\n",
       " 2991,\n",
       " 2992,\n",
       " 2993,\n",
       " 2994,\n",
       " 2995,\n",
       " 2996,\n",
       " 2997,\n",
       " 2998,\n",
       " 2999,\n",
       " 3000,\n",
       " 3001,\n",
       " 3002,\n",
       " 3003,\n",
       " 3004,\n",
       " 3005,\n",
       " 3006,\n",
       " 3007,\n",
       " 3008,\n",
       " 3009,\n",
       " 3010,\n",
       " 3011,\n",
       " 3012,\n",
       " 3013,\n",
       " 3014,\n",
       " 3015,\n",
       " 3016,\n",
       " 3017,\n",
       " 3018,\n",
       " 3019,\n",
       " 3020,\n",
       " 3021,\n",
       " 3022,\n",
       " 3023,\n",
       " 3024,\n",
       " 3025,\n",
       " 3026,\n",
       " 3027,\n",
       " 3028,\n",
       " 3029,\n",
       " 3030,\n",
       " 3031,\n",
       " 3032,\n",
       " 3033,\n",
       " 3034,\n",
       " 3035,\n",
       " 3036,\n",
       " 3037,\n",
       " 3038,\n",
       " 3039,\n",
       " 3040,\n",
       " 3041,\n",
       " 3042,\n",
       " 3043,\n",
       " 3044,\n",
       " 3045,\n",
       " 3046,\n",
       " 3047,\n",
       " 3048,\n",
       " 3049,\n",
       " 3050,\n",
       " 3051,\n",
       " 3052,\n",
       " 3053,\n",
       " 3054,\n",
       " 3055,\n",
       " 3056,\n",
       " 3057,\n",
       " 3058,\n",
       " 3059,\n",
       " 3060,\n",
       " 3061,\n",
       " 3062,\n",
       " 3063,\n",
       " 3064,\n",
       " 3065,\n",
       " 3066,\n",
       " 3067,\n",
       " 3068,\n",
       " 3069,\n",
       " 3070,\n",
       " 3071,\n",
       " 3072,\n",
       " 3073,\n",
       " 3074,\n",
       " 3075,\n",
       " 3076,\n",
       " 3077,\n",
       " 3078,\n",
       " 3079,\n",
       " 3080,\n",
       " 3081,\n",
       " 3082,\n",
       " 3083,\n",
       " 3084,\n",
       " 3085,\n",
       " 3086,\n",
       " 3087,\n",
       " 3088,\n",
       " 3089,\n",
       " 3090,\n",
       " 3091,\n",
       " 3092,\n",
       " 3093,\n",
       " 3094,\n",
       " 3095,\n",
       " 3096,\n",
       " 3097,\n",
       " 3098,\n",
       " 3099,\n",
       " 3100,\n",
       " 3101,\n",
       " 3102,\n",
       " 3103,\n",
       " 3104,\n",
       " 3105,\n",
       " 3106,\n",
       " 3107,\n",
       " 3108,\n",
       " 3109,\n",
       " 3110,\n",
       " 3111,\n",
       " 3112,\n",
       " 3113,\n",
       " 3114,\n",
       " 3115,\n",
       " 3116,\n",
       " 3117,\n",
       " 3118,\n",
       " 3119,\n",
       " 3120,\n",
       " 3121,\n",
       " 3122,\n",
       " 3123,\n",
       " 3124,\n",
       " 3125,\n",
       " 3126,\n",
       " 3127,\n",
       " 3128,\n",
       " 3129,\n",
       " 3130,\n",
       " 3131,\n",
       " 3132,\n",
       " 3133,\n",
       " 3134,\n",
       " 3135,\n",
       " 3136,\n",
       " 3137,\n",
       " 3138,\n",
       " 3139,\n",
       " 3140,\n",
       " 3141,\n",
       " 3142,\n",
       " 3143,\n",
       " 3144,\n",
       " 3145,\n",
       " 3146,\n",
       " 3147,\n",
       " 3148,\n",
       " 3149,\n",
       " 3150,\n",
       " 3151,\n",
       " 3152,\n",
       " 3153,\n",
       " 3154,\n",
       " 3155,\n",
       " 3156,\n",
       " 3157,\n",
       " 3158,\n",
       " 3159,\n",
       " 3160,\n",
       " 3161,\n",
       " 3162,\n",
       " 3163,\n",
       " 3164,\n",
       " 3165,\n",
       " 3166,\n",
       " 3167,\n",
       " 3168,\n",
       " 3169,\n",
       " 3170,\n",
       " 3171,\n",
       " 3172,\n",
       " 3173,\n",
       " 3174,\n",
       " 3175,\n",
       " 3176,\n",
       " 3177,\n",
       " 3178,\n",
       " 3179,\n",
       " 3180,\n",
       " 3181,\n",
       " 3182,\n",
       " 3183,\n",
       " 3184,\n",
       " 3185,\n",
       " 3186,\n",
       " 3187,\n",
       " 3188,\n",
       " 3189,\n",
       " 3190,\n",
       " 3191,\n",
       " 3192,\n",
       " 3193,\n",
       " 3194,\n",
       " 3195,\n",
       " 3196,\n",
       " 3197,\n",
       " 3198,\n",
       " 3199,\n",
       " 3201,\n",
       " 3202,\n",
       " 3203,\n",
       " 3204,\n",
       " 3205,\n",
       " 3206,\n",
       " 3208,\n",
       " 3209,\n",
       " 3210,\n",
       " 3211,\n",
       " 3212,\n",
       " 3213,\n",
       " 3214,\n",
       " 3215,\n",
       " 3216,\n",
       " 3217,\n",
       " 3218,\n",
       " 3219,\n",
       " 3220,\n",
       " 3221,\n",
       " 3222,\n",
       " 3223,\n",
       " 3224,\n",
       " 3225,\n",
       " 3226,\n",
       " 3227,\n",
       " 3228,\n",
       " 3229,\n",
       " 3230,\n",
       " 3231,\n",
       " 3232,\n",
       " 3233,\n",
       " 3234,\n",
       " 3235,\n",
       " 3236,\n",
       " 3237,\n",
       " 3238,\n",
       " 3239,\n",
       " 3240,\n",
       " 3241]"
      ]
     },
     "execution_count": 17,
     "metadata": {},
     "output_type": "execute_result"
    }
   ],
   "source": [
    "data_key2=data_key1[data_key1['Температура']<2].index.to_list()\n",
    "data_temp_new = data_temp_new[~data_temp_new['key'].isin(data_key2)]\n",
    "data_key2"
   ]
  },
  {
   "cell_type": "code",
   "execution_count": 18,
   "id": "ac4f84a9",
   "metadata": {},
   "outputs": [
    {
     "name": "stdout",
     "output_type": "stream",
     "text": [
      "<class 'pandas.core.frame.DataFrame'>\n",
      "Int64Index: 13920 entries, 0 to 13925\n",
      "Data columns (total 2 columns):\n",
      " #   Column       Non-Null Count  Dtype  \n",
      "---  ------       --------------  -----  \n",
      " 0   key          13920 non-null  int64  \n",
      " 1   Температура  13920 non-null  float64\n",
      "dtypes: float64(1), int64(1)\n",
      "memory usage: 326.2 KB\n"
     ]
    }
   ],
   "source": [
    "data_temp_new.info()"
   ]
  },
  {
   "cell_type": "markdown",
   "id": "85285891",
   "metadata": {},
   "source": [
    "## Исследовательский анализ каждого датафрейма и преобразования исходных таблиц"
   ]
  },
  {
   "cell_type": "code",
   "execution_count": 19,
   "id": "b1b14408",
   "metadata": {},
   "outputs": [
    {
     "data": {
      "image/png": "[encoded data removed]",
      "text/plain": [
       "<Figure size 432x216 with 1 Axes>"
      ]
     },
     "metadata": {
      "needs_background": "light"
     },
     "output_type": "display_data"
    }
   ],
   "source": [
    "tup = [\n",
    "    ('data_arc_new', data_arc_new),\n",
    "    ('data_bulk_new', data_bulk_new),\n",
    "    ('data_gas_new', data_gas_new),\n",
    "    ('data_temp_new', data_temp_new),\n",
    "    ('data_wire_new', data_wire_new)\n",
    "]\n",
    "\n",
    "plt.figure(figsize=(6,3))\n",
    "sns.boxplot(data=data_arc_new[['Активная мощность', 'Реактивная мощность']])\n",
    "plt.title('Боксплоты активной и реактивной мощности')\n",
    "plt.ylabel('Мощность')\n",
    "plt.xticks(ticks=[0, 1], labels=['Активная мощность', 'Реактивная мощность'])\n",
    "plt.show()\n"
   ]
  },
  {
   "cell_type": "code",
   "execution_count": 20,
   "id": "960a44b9",
   "metadata": {},
   "outputs": [],
   "source": [
    "data_arc_new = data_arc_new[data_arc_new['Реактивная мощность']>=0]"
   ]
  },
  {
   "cell_type": "markdown",
   "id": "df3b57f9",
   "metadata": {},
   "source": [
    "Есть реактивная мощность меньше 0, это физически невозможно - удалим такие ключи."
   ]
  },
  {
   "cell_type": "markdown",
   "id": "a8aac986",
   "metadata": {},
   "source": [
    "Удаляю объект"
   ]
  },
  {
   "cell_type": "code",
   "execution_count": 21,
   "id": "bee78899",
   "metadata": {},
   "outputs": [
    {
     "data": {
      "image/png": "[encoded data removed]",
      "text/plain": [
       "<Figure size 432x216 with 1 Axes>"
      ]
     },
     "metadata": {
      "needs_background": "light"
     },
     "output_type": "display_data"
    }
   ],
   "source": [
    "plt.figure(figsize=(6,3))\n",
    "sns.boxplot(data=data_arc_new[['Активная мощность', 'Реактивная мощность']])\n",
    "plt.title('Боксплоты активной и реактивной мощности')\n",
    "plt.ylabel('Мощность')\n",
    "plt.xticks(ticks=[0, 1], labels=['Активная мощность', 'Реактивная мощность'])\n",
    "plt.show()\n"
   ]
  },
  {
   "cell_type": "markdown",
   "id": "4b984b1e",
   "metadata": {},
   "source": [
    "Мощность более 3 квартиля удалять не будем, т.к. возможно это часть промышленного процесса (это то, что в презентации названо \"супер выбросы\")"
   ]
  },
  {
   "cell_type": "markdown",
   "id": "6334289a",
   "metadata": {},
   "source": [
    "<div class=\"alert alert-success\" style=\"border-color: green; border-radius: 5px\">\n",
    "    <p><u><b>✅ КОММЕНТАРИЙ МЕНТОРА</b></u></p>\n",
    "    <p>ок)</p>\n",
    "</div>"
   ]
  },
  {
   "cell_type": "code",
   "execution_count": 22,
   "id": "351803ee",
   "metadata": {},
   "outputs": [
    {
     "name": "stderr",
     "output_type": "stream",
     "text": [
      "/opt/conda/lib/python3.9/site-packages/pandas/core/indexing.py:1597: SettingWithCopyWarning: \n",
      "A value is trying to be set on a copy of a slice from a DataFrame.\n",
      "Try using .loc[row_indexer,col_indexer] = value instead\n",
      "\n",
      "See the caveats in the documentation: https://pandas.pydata.org/pandas-docs/stable/user_guide/indexing.html#returning-a-view-versus-a-copy\n",
      "  self.obj[key] = value\n",
      "/opt/conda/lib/python3.9/site-packages/pandas/core/indexing.py:1676: SettingWithCopyWarning: \n",
      "A value is trying to be set on a copy of a slice from a DataFrame.\n",
      "Try using .loc[row_indexer,col_indexer] = value instead\n",
      "\n",
      "See the caveats in the documentation: https://pandas.pydata.org/pandas-docs/stable/user_guide/indexing.html#returning-a-view-versus-a-copy\n",
      "  self._setitem_single_column(ilocs[0], value, pi)\n"
     ]
    }
   ],
   "source": [
    "data_arc_new.loc[:, 'Время нагрева'] = \\\n",
    "(data_arc_new.loc[:, 'Конец нагрева дугой'] - data_arc_new.loc[:, 'Начало нагрева дугой']).dt.total_seconds().astype(int)\n"
   ]
  },
  {
   "cell_type": "code",
   "execution_count": 23,
   "id": "9ed65fcc",
   "metadata": {},
   "outputs": [
    {
     "data": {
      "text/html": [
       "<div>\n",
       "<style scoped>\n",
       "    .dataframe tbody tr th:only-of-type {\n",
       "        vertical-align: middle;\n",
       "    }\n",
       "\n",
       "    .dataframe tbody tr th {\n",
       "        vertical-align: top;\n",
       "    }\n",
       "\n",
       "    .dataframe thead th {\n",
       "        text-align: right;\n",
       "    }\n",
       "</style>\n",
       "<table border=\"1\" class=\"dataframe\">\n",
       "  <thead>\n",
       "    <tr style=\"text-align: right;\">\n",
       "      <th></th>\n",
       "      <th>key</th>\n",
       "      <th>Начало нагрева дугой</th>\n",
       "      <th>Конец нагрева дугой</th>\n",
       "      <th>Активная мощность</th>\n",
       "      <th>Реактивная мощность</th>\n",
       "      <th>Время нагрева</th>\n",
       "    </tr>\n",
       "  </thead>\n",
       "  <tbody>\n",
       "    <tr>\n",
       "      <th>0</th>\n",
       "      <td>1</td>\n",
       "      <td>2019-05-03 11:02:14</td>\n",
       "      <td>2019-05-03 11:06:02</td>\n",
       "      <td>0.305130</td>\n",
       "      <td>0.211253</td>\n",
       "      <td>228</td>\n",
       "    </tr>\n",
       "    <tr>\n",
       "      <th>1</th>\n",
       "      <td>1</td>\n",
       "      <td>2019-05-03 11:07:28</td>\n",
       "      <td>2019-05-03 11:10:33</td>\n",
       "      <td>0.765658</td>\n",
       "      <td>0.477438</td>\n",
       "      <td>185</td>\n",
       "    </tr>\n",
       "    <tr>\n",
       "      <th>2</th>\n",
       "      <td>1</td>\n",
       "      <td>2019-05-03 11:11:44</td>\n",
       "      <td>2019-05-03 11:14:36</td>\n",
       "      <td>0.580313</td>\n",
       "      <td>0.430460</td>\n",
       "      <td>172</td>\n",
       "    </tr>\n",
       "    <tr>\n",
       "      <th>3</th>\n",
       "      <td>1</td>\n",
       "      <td>2019-05-03 11:18:14</td>\n",
       "      <td>2019-05-03 11:24:19</td>\n",
       "      <td>0.518496</td>\n",
       "      <td>0.379979</td>\n",
       "      <td>365</td>\n",
       "    </tr>\n",
       "    <tr>\n",
       "      <th>4</th>\n",
       "      <td>1</td>\n",
       "      <td>2019-05-03 11:26:09</td>\n",
       "      <td>2019-05-03 11:28:37</td>\n",
       "      <td>0.867133</td>\n",
       "      <td>0.643691</td>\n",
       "      <td>148</td>\n",
       "    </tr>\n",
       "  </tbody>\n",
       "</table>\n",
       "</div>"
      ],
      "text/plain": [
       "   key Начало нагрева дугой Конец нагрева дугой  Активная мощность  \\\n",
       "0    1  2019-05-03 11:02:14 2019-05-03 11:06:02           0.305130   \n",
       "1    1  2019-05-03 11:07:28 2019-05-03 11:10:33           0.765658   \n",
       "2    1  2019-05-03 11:11:44 2019-05-03 11:14:36           0.580313   \n",
       "3    1  2019-05-03 11:18:14 2019-05-03 11:24:19           0.518496   \n",
       "4    1  2019-05-03 11:26:09 2019-05-03 11:28:37           0.867133   \n",
       "\n",
       "   Реактивная мощность  Время нагрева  \n",
       "0             0.211253            228  \n",
       "1             0.477438            185  \n",
       "2             0.430460            172  \n",
       "3             0.379979            365  \n",
       "4             0.643691            148  "
      ]
     },
     "execution_count": 23,
     "metadata": {},
     "output_type": "execute_result"
    }
   ],
   "source": [
    "data_arc_new.head()"
   ]
  },
  {
   "cell_type": "code",
   "execution_count": 24,
   "id": "e8fad85a",
   "metadata": {},
   "outputs": [
    {
     "data": {
      "image/png": "[encoded data removed]",
      "text/plain": [
       "<Figure size 432x216 with 1 Axes>"
      ]
     },
     "metadata": {
      "needs_background": "light"
     },
     "output_type": "display_data"
    }
   ],
   "source": [
    "plt.figure(figsize=(6,3))\n",
    "sns.boxplot(data=data_arc_new['Время нагрева'])\n",
    "plt.title('Боксплот время нагрева в секундах')\n",
    "plt.ylabel('Время, с')\n",
    "plt.show()"
   ]
  },
  {
   "cell_type": "markdown",
   "id": "558cffa8",
   "metadata": {},
   "source": [
    "Наблюдаются выбросы (супер выбросы) во времени нагрева, где время более 800 с. Удалять тоже не будем, вдруг это эксперементальная величина."
   ]
  },
  {
   "cell_type": "markdown",
   "id": "9cce417a",
   "metadata": {},
   "source": [
    "Активная мощность (P) и реактивная мощность (Q) — это два типа мощности, используемые в электрических системах:\n",
    "\n",
    "1. Активная мощность (P):\n",
    "   - Измеряется в ваттах (Вт).\n",
    "   - Отвечает за выполнение полезной работы (например, освещение, нагрев).\n",
    "   - Это мощность, которая фактически преобразуется в работу.\n",
    "\n",
    "2. Реактивная мощность (Q):\n",
    "   - Измеряется в вольт-амперах реактивных (ВАр).\n",
    "   - Связана с созданием магнитных полей в индуктивных и емкостных компонентах (например, трансформаторы, двигатели).\n",
    "   - Не выполняет полезную работу, но необходима для поддержания электрических и магнитных полей.\n",
    "\n",
    "Разница между ними заключается в том, что активная мощность выполняет полезную работу, в то время как реактивная мощность поддерживает функционирование электрических устройств, но не преобразуется в работу."
   ]
  },
  {
   "cell_type": "code",
   "execution_count": 25,
   "id": "4702c79f",
   "metadata": {},
   "outputs": [
    {
     "name": "stderr",
     "output_type": "stream",
     "text": [
      "/tmp/ipykernel_402/3972707255.py:1: SettingWithCopyWarning: \n",
      "A value is trying to be set on a copy of a slice from a DataFrame.\n",
      "Try using .loc[row_indexer,col_indexer] = value instead\n",
      "\n",
      "See the caveats in the documentation: https://pandas.pydata.org/pandas-docs/stable/user_guide/indexing.html#returning-a-view-versus-a-copy\n",
      "  data_arc_new['Полная мощность'] = np.sqrt(data_arc_new['Активная мощность']**2 + data_arc_new['Реактивная мощность']**2)\n"
     ]
    }
   ],
   "source": [
    "data_arc_new['Полная мощность'] = np.sqrt(data_arc_new['Активная мощность']**2 + data_arc_new['Реактивная мощность']**2)"
   ]
  },
  {
   "cell_type": "code",
   "execution_count": 26,
   "id": "301ca446",
   "metadata": {},
   "outputs": [
    {
     "data": {
      "text/html": [
       "<div>\n",
       "<style scoped>\n",
       "    .dataframe tbody tr th:only-of-type {\n",
       "        vertical-align: middle;\n",
       "    }\n",
       "\n",
       "    .dataframe tbody tr th {\n",
       "        vertical-align: top;\n",
       "    }\n",
       "\n",
       "    .dataframe thead th {\n",
       "        text-align: right;\n",
       "    }\n",
       "</style>\n",
       "<table border=\"1\" class=\"dataframe\">\n",
       "  <thead>\n",
       "    <tr style=\"text-align: right;\">\n",
       "      <th></th>\n",
       "      <th>key</th>\n",
       "      <th>Начало нагрева дугой</th>\n",
       "      <th>Конец нагрева дугой</th>\n",
       "      <th>Активная мощность</th>\n",
       "      <th>Реактивная мощность</th>\n",
       "      <th>Время нагрева</th>\n",
       "      <th>Полная мощность</th>\n",
       "    </tr>\n",
       "  </thead>\n",
       "  <tbody>\n",
       "    <tr>\n",
       "      <th>0</th>\n",
       "      <td>1</td>\n",
       "      <td>2019-05-03 11:02:14</td>\n",
       "      <td>2019-05-03 11:06:02</td>\n",
       "      <td>0.305130</td>\n",
       "      <td>0.211253</td>\n",
       "      <td>228</td>\n",
       "      <td>0.371123</td>\n",
       "    </tr>\n",
       "    <tr>\n",
       "      <th>1</th>\n",
       "      <td>1</td>\n",
       "      <td>2019-05-03 11:07:28</td>\n",
       "      <td>2019-05-03 11:10:33</td>\n",
       "      <td>0.765658</td>\n",
       "      <td>0.477438</td>\n",
       "      <td>185</td>\n",
       "      <td>0.902319</td>\n",
       "    </tr>\n",
       "    <tr>\n",
       "      <th>2</th>\n",
       "      <td>1</td>\n",
       "      <td>2019-05-03 11:11:44</td>\n",
       "      <td>2019-05-03 11:14:36</td>\n",
       "      <td>0.580313</td>\n",
       "      <td>0.430460</td>\n",
       "      <td>172</td>\n",
       "      <td>0.722536</td>\n",
       "    </tr>\n",
       "    <tr>\n",
       "      <th>3</th>\n",
       "      <td>1</td>\n",
       "      <td>2019-05-03 11:18:14</td>\n",
       "      <td>2019-05-03 11:24:19</td>\n",
       "      <td>0.518496</td>\n",
       "      <td>0.379979</td>\n",
       "      <td>365</td>\n",
       "      <td>0.642824</td>\n",
       "    </tr>\n",
       "    <tr>\n",
       "      <th>4</th>\n",
       "      <td>1</td>\n",
       "      <td>2019-05-03 11:26:09</td>\n",
       "      <td>2019-05-03 11:28:37</td>\n",
       "      <td>0.867133</td>\n",
       "      <td>0.643691</td>\n",
       "      <td>148</td>\n",
       "      <td>1.079934</td>\n",
       "    </tr>\n",
       "  </tbody>\n",
       "</table>\n",
       "</div>"
      ],
      "text/plain": [
       "   key Начало нагрева дугой Конец нагрева дугой  Активная мощность  \\\n",
       "0    1  2019-05-03 11:02:14 2019-05-03 11:06:02           0.305130   \n",
       "1    1  2019-05-03 11:07:28 2019-05-03 11:10:33           0.765658   \n",
       "2    1  2019-05-03 11:11:44 2019-05-03 11:14:36           0.580313   \n",
       "3    1  2019-05-03 11:18:14 2019-05-03 11:24:19           0.518496   \n",
       "4    1  2019-05-03 11:26:09 2019-05-03 11:28:37           0.867133   \n",
       "\n",
       "   Реактивная мощность  Время нагрева  Полная мощность  \n",
       "0             0.211253            228         0.371123  \n",
       "1             0.477438            185         0.902319  \n",
       "2             0.430460            172         0.722536  \n",
       "3             0.379979            365         0.642824  \n",
       "4             0.643691            148         1.079934  "
      ]
     },
     "execution_count": 26,
     "metadata": {},
     "output_type": "execute_result"
    }
   ],
   "source": [
    "data_arc_new.head()"
   ]
  },
  {
   "cell_type": "code",
   "execution_count": 27,
   "id": "6f0f8a44",
   "metadata": {},
   "outputs": [],
   "source": [
    "data_arc_new = data_arc_new[['key', 'Время нагрева', 'Полная мощность']]"
   ]
  },
  {
   "cell_type": "code",
   "execution_count": 28,
   "id": "27bfe716",
   "metadata": {},
   "outputs": [
    {
     "data": {
      "text/html": [
       "<div>\n",
       "<style scoped>\n",
       "    .dataframe tbody tr th:only-of-type {\n",
       "        vertical-align: middle;\n",
       "    }\n",
       "\n",
       "    .dataframe tbody tr th {\n",
       "        vertical-align: top;\n",
       "    }\n",
       "\n",
       "    .dataframe thead th {\n",
       "        text-align: right;\n",
       "    }\n",
       "</style>\n",
       "<table border=\"1\" class=\"dataframe\">\n",
       "  <thead>\n",
       "    <tr style=\"text-align: right;\">\n",
       "      <th></th>\n",
       "      <th>key</th>\n",
       "      <th>Время нагрева</th>\n",
       "      <th>Полная мощность</th>\n",
       "    </tr>\n",
       "  </thead>\n",
       "  <tbody>\n",
       "    <tr>\n",
       "      <th>0</th>\n",
       "      <td>1</td>\n",
       "      <td>228</td>\n",
       "      <td>0.371123</td>\n",
       "    </tr>\n",
       "    <tr>\n",
       "      <th>1</th>\n",
       "      <td>1</td>\n",
       "      <td>185</td>\n",
       "      <td>0.902319</td>\n",
       "    </tr>\n",
       "    <tr>\n",
       "      <th>2</th>\n",
       "      <td>1</td>\n",
       "      <td>172</td>\n",
       "      <td>0.722536</td>\n",
       "    </tr>\n",
       "    <tr>\n",
       "      <th>3</th>\n",
       "      <td>1</td>\n",
       "      <td>365</td>\n",
       "      <td>0.642824</td>\n",
       "    </tr>\n",
       "    <tr>\n",
       "      <th>4</th>\n",
       "      <td>1</td>\n",
       "      <td>148</td>\n",
       "      <td>1.079934</td>\n",
       "    </tr>\n",
       "  </tbody>\n",
       "</table>\n",
       "</div>"
      ],
      "text/plain": [
       "   key  Время нагрева  Полная мощность\n",
       "0    1            228         0.371123\n",
       "1    1            185         0.902319\n",
       "2    1            172         0.722536\n",
       "3    1            365         0.642824\n",
       "4    1            148         1.079934"
      ]
     },
     "execution_count": 28,
     "metadata": {},
     "output_type": "execute_result"
    }
   ],
   "source": [
    "data_arc_new.head()"
   ]
  },
  {
   "cell_type": "markdown",
   "id": "ab52b759",
   "metadata": {},
   "source": [
    "Создадим сводную таблицу, где аггрегирующей функцией по каждому ключу будет сумма "
   ]
  },
  {
   "cell_type": "code",
   "execution_count": 29,
   "id": "69c520f1",
   "metadata": {},
   "outputs": [],
   "source": [
    "data_arc_new = data_arc_new.pivot_table(index='key', values=['Время нагрева', 'Полная мощность'], aggfunc='sum')"
   ]
  },
  {
   "cell_type": "code",
   "execution_count": 30,
   "id": "2affcf50",
   "metadata": {},
   "outputs": [
    {
     "data": {
      "text/html": [
       "<div>\n",
       "<style scoped>\n",
       "    .dataframe tbody tr th:only-of-type {\n",
       "        vertical-align: middle;\n",
       "    }\n",
       "\n",
       "    .dataframe tbody tr th {\n",
       "        vertical-align: top;\n",
       "    }\n",
       "\n",
       "    .dataframe thead th {\n",
       "        text-align: right;\n",
       "    }\n",
       "</style>\n",
       "<table border=\"1\" class=\"dataframe\">\n",
       "  <thead>\n",
       "    <tr style=\"text-align: right;\">\n",
       "      <th></th>\n",
       "      <th>Время нагрева</th>\n",
       "      <th>Полная мощность</th>\n",
       "    </tr>\n",
       "    <tr>\n",
       "      <th>key</th>\n",
       "      <th></th>\n",
       "      <th></th>\n",
       "    </tr>\n",
       "  </thead>\n",
       "  <tbody>\n",
       "    <tr>\n",
       "      <th>1</th>\n",
       "      <td>1098</td>\n",
       "      <td>3.718736</td>\n",
       "    </tr>\n",
       "    <tr>\n",
       "      <th>2</th>\n",
       "      <td>811</td>\n",
       "      <td>2.588349</td>\n",
       "    </tr>\n",
       "    <tr>\n",
       "      <th>3</th>\n",
       "      <td>655</td>\n",
       "      <td>5.019223</td>\n",
       "    </tr>\n",
       "    <tr>\n",
       "      <th>4</th>\n",
       "      <td>741</td>\n",
       "      <td>3.400038</td>\n",
       "    </tr>\n",
       "    <tr>\n",
       "      <th>5</th>\n",
       "      <td>869</td>\n",
       "      <td>2.816980</td>\n",
       "    </tr>\n",
       "  </tbody>\n",
       "</table>\n",
       "</div>"
      ],
      "text/plain": [
       "     Время нагрева  Полная мощность\n",
       "key                                \n",
       "1             1098         3.718736\n",
       "2              811         2.588349\n",
       "3              655         5.019223\n",
       "4              741         3.400038\n",
       "5              869         2.816980"
      ]
     },
     "execution_count": 30,
     "metadata": {},
     "output_type": "execute_result"
    }
   ],
   "source": [
    "data_arc_new.head()"
   ]
  },
  {
   "cell_type": "code",
   "execution_count": 31,
   "id": "ae7d1a3d",
   "metadata": {},
   "outputs": [
    {
     "data": {
      "image/png": "[encoded data removed]",
      "text/plain": [
       "<Figure size 432x216 with 1 Axes>"
      ]
     },
     "metadata": {
      "needs_background": "light"
     },
     "output_type": "display_data"
    }
   ],
   "source": [
    "bulk_counts = (data_bulk_new[data_bulk_new.columns[1:]] > 0).sum().sort_values(ascending=False)\n",
    "\n",
    "bulk_counts.plot(kind='bar', figsize=(6,3), color='red', alpha=0.5)\n",
    "plt.title('Количество значений Bulk > 0')\n",
    "plt.xlabel('Bulk')\n",
    "plt.ylabel('Количество значений')\n",
    "plt.xticks(rotation=45)\n",
    "plt.show()"
   ]
  },
  {
   "cell_type": "markdown",
   "id": "6fde5757",
   "metadata": {},
   "source": [
    "Наибольшее количество раз добавляют bulk 14, 12, 15, 3, 4"
   ]
  },
  {
   "cell_type": "code",
   "execution_count": 32,
   "id": "b33f99dc",
   "metadata": {},
   "outputs": [
    {
     "data": {
      "image/png": "[encoded data removed]",
      "text/plain": [
       "<Figure size 432x216 with 1 Axes>"
      ]
     },
     "metadata": {
      "needs_background": "light"
     },
     "output_type": "display_data"
    }
   ],
   "source": [
    "bulk_sums = data_bulk_new[['Bulk 1', 'Bulk 2', 'Bulk 3', 'Bulk 4', 'Bulk 5', 'Bulk 6', \n",
    "                            'Bulk 7', 'Bulk 8', 'Bulk 9', 'Bulk 10', 'Bulk 11', \n",
    "                            'Bulk 12', 'Bulk 13', 'Bulk 14', 'Bulk 15']].sum().sort_values(ascending=False)\n",
    "\n",
    "bulk_sums.plot(kind='bar', figsize=(6,3), color='blue', alpha=0.5)\n",
    "plt.title('Сумма значений Bulk')\n",
    "plt.xlabel('Bulk')\n",
    "plt.ylabel('Значение суммы')\n",
    "plt.xticks(rotation=45)\n",
    "plt.show()"
   ]
  },
  {
   "cell_type": "markdown",
   "id": "0e0d2424",
   "metadata": {},
   "source": [
    "Создадим колонку прочее, которая будет включать сумму всего bulk"
   ]
  },
  {
   "cell_type": "code",
   "execution_count": 33,
   "id": "1b5a111c",
   "metadata": {},
   "outputs": [],
   "source": [
    "data_bulk_new['Прочее_bulk'] = data_bulk_new[['Bulk 1', 'Bulk 2', 'Bulk 3', 'Bulk 4', 'Bulk 5', 'Bulk 6', 'Bulk 7', 'Bulk 8', 'Bulk 9', 'Bulk 10', 'Bulk 11', 'Bulk 12', 'Bulk 13', 'Bulk 14', 'Bulk 15']].sum(axis=1)"
   ]
  },
  {
   "cell_type": "code",
   "execution_count": 34,
   "id": "b0245681",
   "metadata": {},
   "outputs": [
    {
     "data": {
      "text/html": [
       "<div>\n",
       "<style scoped>\n",
       "    .dataframe tbody tr th:only-of-type {\n",
       "        vertical-align: middle;\n",
       "    }\n",
       "\n",
       "    .dataframe tbody tr th {\n",
       "        vertical-align: top;\n",
       "    }\n",
       "\n",
       "    .dataframe thead th {\n",
       "        text-align: right;\n",
       "    }\n",
       "</style>\n",
       "<table border=\"1\" class=\"dataframe\">\n",
       "  <thead>\n",
       "    <tr style=\"text-align: right;\">\n",
       "      <th></th>\n",
       "      <th>key</th>\n",
       "      <th>Прочее_bulk</th>\n",
       "    </tr>\n",
       "  </thead>\n",
       "  <tbody>\n",
       "    <tr>\n",
       "      <th>0</th>\n",
       "      <td>1</td>\n",
       "      <td>553.0</td>\n",
       "    </tr>\n",
       "    <tr>\n",
       "      <th>1</th>\n",
       "      <td>2</td>\n",
       "      <td>582.0</td>\n",
       "    </tr>\n",
       "    <tr>\n",
       "      <th>2</th>\n",
       "      <td>3</td>\n",
       "      <td>544.0</td>\n",
       "    </tr>\n",
       "    <tr>\n",
       "      <th>3</th>\n",
       "      <td>4</td>\n",
       "      <td>595.0</td>\n",
       "    </tr>\n",
       "    <tr>\n",
       "      <th>4</th>\n",
       "      <td>5</td>\n",
       "      <td>584.0</td>\n",
       "    </tr>\n",
       "  </tbody>\n",
       "</table>\n",
       "</div>"
      ],
      "text/plain": [
       "   key  Прочее_bulk\n",
       "0    1        553.0\n",
       "1    2        582.0\n",
       "2    3        544.0\n",
       "3    4        595.0\n",
       "4    5        584.0"
      ]
     },
     "execution_count": 34,
     "metadata": {},
     "output_type": "execute_result"
    }
   ],
   "source": [
    "data_bulk_new = data_bulk_new[['key', 'Прочее_bulk']]\n",
    "\n",
    "data_bulk_new.head()"
   ]
  },
  {
   "cell_type": "code",
   "execution_count": 35,
   "id": "73ebe182",
   "metadata": {},
   "outputs": [
    {
     "data": {
      "image/png": "[encoded data removed]",
      "text/plain": [
       "<Figure size 432x216 with 1 Axes>"
      ]
     },
     "metadata": {
      "needs_background": "light"
     },
     "output_type": "display_data"
    }
   ],
   "source": [
    "wire_counts = (data_wire_new[data_wire_new.columns[1:]] > 0).sum().sort_values(ascending=False)\n",
    "\n",
    "wire_counts.plot(kind='bar', figsize=(6,3\n",
    "                                     ), color='green', alpha=0.5)\n",
    "plt.title('Количество значений Wire > 0')\n",
    "plt.xlabel('Wire')\n",
    "plt.ylabel('Количество значений')\n",
    "plt.xticks(rotation=45)\n",
    "plt.show()\n"
   ]
  },
  {
   "cell_type": "markdown",
   "id": "c450194d",
   "metadata": {},
   "source": [
    "Чаще всего добавляют Wire 1, 2"
   ]
  },
  {
   "cell_type": "code",
   "execution_count": 36,
   "id": "894d2002",
   "metadata": {},
   "outputs": [
    {
     "data": {
      "image/png": "[encoded data removed]",
      "text/plain": [
       "<Figure size 432x216 with 1 Axes>"
      ]
     },
     "metadata": {
      "needs_background": "light"
     },
     "output_type": "display_data"
    }
   ],
   "source": [
    "wire_sums = data_wire_new[data_wire_new.columns[1:]].sum().sort_values(ascending=False)\n",
    "\n",
    "wire_sums.plot(kind='bar', figsize=(6,3), color='black', alpha=0.5)\n",
    "plt.title('Сумма значений Wire')\n",
    "plt.xlabel('Wire')\n",
    "plt.ylabel('Сумма значений, кг')\n",
    "plt.xticks(rotation=45)\n",
    "plt.show()"
   ]
  },
  {
   "cell_type": "markdown",
   "id": "14f26943",
   "metadata": {},
   "source": [
    "Объеденим все wire значения"
   ]
  },
  {
   "cell_type": "code",
   "execution_count": 37,
   "id": "5516bd20",
   "metadata": {},
   "outputs": [
    {
     "data": {
      "text/plain": [
       "Index(['key', 'Wire 1', 'Wire 2', 'Wire 3', 'Wire 4', 'Wire 5', 'Wire 6',\n",
       "       'Wire 7', 'Wire 8', 'Wire 9'],\n",
       "      dtype='object')"
      ]
     },
     "execution_count": 37,
     "metadata": {},
     "output_type": "execute_result"
    }
   ],
   "source": [
    "data_wire_new.columns"
   ]
  },
  {
   "cell_type": "code",
   "execution_count": 38,
   "id": "fe0e154a",
   "metadata": {},
   "outputs": [],
   "source": [
    "data_wire_new['Прочее_wire'] = data_wire_new[['Wire 1', 'Wire 2', 'Wire 3', 'Wire 4', 'Wire 5', 'Wire 6',\n",
    "       'Wire 7', 'Wire 8', 'Wire 9']].sum(axis=1)\n",
    "data_wire_new = data_wire_new[['key', 'Прочее_wire']]"
   ]
  },
  {
   "cell_type": "code",
   "execution_count": 39,
   "id": "b610ea55",
   "metadata": {},
   "outputs": [
    {
     "data": {
      "text/html": [
       "<div>\n",
       "<style scoped>\n",
       "    .dataframe tbody tr th:only-of-type {\n",
       "        vertical-align: middle;\n",
       "    }\n",
       "\n",
       "    .dataframe tbody tr th {\n",
       "        vertical-align: top;\n",
       "    }\n",
       "\n",
       "    .dataframe thead th {\n",
       "        text-align: right;\n",
       "    }\n",
       "</style>\n",
       "<table border=\"1\" class=\"dataframe\">\n",
       "  <thead>\n",
       "    <tr style=\"text-align: right;\">\n",
       "      <th></th>\n",
       "      <th>key</th>\n",
       "      <th>Прочее_wire</th>\n",
       "    </tr>\n",
       "  </thead>\n",
       "  <tbody>\n",
       "    <tr>\n",
       "      <th>0</th>\n",
       "      <td>1</td>\n",
       "      <td>60.059998</td>\n",
       "    </tr>\n",
       "    <tr>\n",
       "      <th>1</th>\n",
       "      <td>2</td>\n",
       "      <td>96.052315</td>\n",
       "    </tr>\n",
       "    <tr>\n",
       "      <th>2</th>\n",
       "      <td>3</td>\n",
       "      <td>91.160157</td>\n",
       "    </tr>\n",
       "    <tr>\n",
       "      <th>3</th>\n",
       "      <td>4</td>\n",
       "      <td>89.063515</td>\n",
       "    </tr>\n",
       "    <tr>\n",
       "      <th>4</th>\n",
       "      <td>5</td>\n",
       "      <td>98.352796</td>\n",
       "    </tr>\n",
       "  </tbody>\n",
       "</table>\n",
       "</div>"
      ],
      "text/plain": [
       "   key  Прочее_wire\n",
       "0    1    60.059998\n",
       "1    2    96.052315\n",
       "2    3    91.160157\n",
       "3    4    89.063515\n",
       "4    5    98.352796"
      ]
     },
     "execution_count": 39,
     "metadata": {},
     "output_type": "execute_result"
    }
   ],
   "source": [
    "data_wire_new.head()"
   ]
  },
  {
   "cell_type": "code",
   "execution_count": 40,
   "id": "f6d86366",
   "metadata": {},
   "outputs": [
    {
     "data": {
      "image/png": "[encoded data removed]",
      "text/plain": [
       "<Figure size 432x216 with 1 Axes>"
      ]
     },
     "metadata": {
      "needs_background": "light"
     },
     "output_type": "display_data"
    }
   ],
   "source": [
    "plt.figure(figsize=(6, 3))\n",
    "sns.boxplot(data=data_temp_new['Температура'])\n",
    "plt.title('Боксплот замеров температуры')\n",
    "plt.ylabel('Температура, °C')  \n",
    "plt.show()\n"
   ]
  },
  {
   "cell_type": "markdown",
   "id": "689e9a47",
   "metadata": {},
   "source": [
    "Температура плавления железа - основного металла в стали = 1 538°C, поэтому все, что ниже величины 1400 градусов удаляем."
   ]
  },
  {
   "cell_type": "code",
   "execution_count": 41,
   "id": "50ce5247",
   "metadata": {},
   "outputs": [],
   "source": [
    "data_temp_new = data_temp_new[data_temp_new['Температура'] > 1400]"
   ]
  },
  {
   "cell_type": "code",
   "execution_count": 42,
   "id": "fcf444f5",
   "metadata": {},
   "outputs": [
    {
     "name": "stdout",
     "output_type": "stream",
     "text": [
      "<class 'pandas.core.frame.DataFrame'>\n",
      "Int64Index: 13920 entries, 0 to 13925\n",
      "Data columns (total 2 columns):\n",
      " #   Column       Non-Null Count  Dtype  \n",
      "---  ------       --------------  -----  \n",
      " 0   key          13920 non-null  int64  \n",
      " 1   Температура  13920 non-null  float64\n",
      "dtypes: float64(1), int64(1)\n",
      "memory usage: 326.2 KB\n"
     ]
    }
   ],
   "source": [
    "data_temp_new.info()"
   ]
  },
  {
   "cell_type": "code",
   "execution_count": 43,
   "id": "d7938edf",
   "metadata": {},
   "outputs": [
    {
     "data": {
      "image/png": "[encoded data removed]",
      "text/plain": [
       "<Figure size 432x216 with 1 Axes>"
      ]
     },
     "metadata": {
      "needs_background": "light"
     },
     "output_type": "display_data"
    }
   ],
   "source": [
    "plt.figure(figsize=(6, 3))\n",
    "sns.boxplot(data=data_temp_new['Температура'])\n",
    "plt.title('Боксплот замеров температуры')\n",
    "plt.ylabel('Температура, °C')  \n",
    "plt.show()\n"
   ]
  },
  {
   "cell_type": "markdown",
   "id": "9d5b999b",
   "metadata": {},
   "source": [
    "По концепции построения окончательного датафрейма должно быть минимум 2 измерения температуры - удаляем ключи 195 и 279"
   ]
  },
  {
   "cell_type": "code",
   "execution_count": 44,
   "id": "33e97b32",
   "metadata": {},
   "outputs": [],
   "source": [
    "data_temp_new = data_temp_new[~data_temp_new['key'].isin([195, 279])]\n"
   ]
  },
  {
   "cell_type": "code",
   "execution_count": 45,
   "id": "c8dc748e",
   "metadata": {},
   "outputs": [
    {
     "data": {
      "text/html": [
       "<div>\n",
       "<style scoped>\n",
       "    .dataframe tbody tr th:only-of-type {\n",
       "        vertical-align: middle;\n",
       "    }\n",
       "\n",
       "    .dataframe tbody tr th {\n",
       "        vertical-align: top;\n",
       "    }\n",
       "\n",
       "    .dataframe thead th {\n",
       "        text-align: right;\n",
       "    }\n",
       "</style>\n",
       "<table border=\"1\" class=\"dataframe\">\n",
       "  <thead>\n",
       "    <tr style=\"text-align: right;\">\n",
       "      <th></th>\n",
       "      <th>key</th>\n",
       "      <th>Температура</th>\n",
       "    </tr>\n",
       "  </thead>\n",
       "  <tbody>\n",
       "    <tr>\n",
       "      <th>0</th>\n",
       "      <td>1</td>\n",
       "      <td>1571.0</td>\n",
       "    </tr>\n",
       "    <tr>\n",
       "      <th>1</th>\n",
       "      <td>1</td>\n",
       "      <td>1604.0</td>\n",
       "    </tr>\n",
       "    <tr>\n",
       "      <th>2</th>\n",
       "      <td>1</td>\n",
       "      <td>1618.0</td>\n",
       "    </tr>\n",
       "    <tr>\n",
       "      <th>3</th>\n",
       "      <td>1</td>\n",
       "      <td>1601.0</td>\n",
       "    </tr>\n",
       "    <tr>\n",
       "      <th>4</th>\n",
       "      <td>1</td>\n",
       "      <td>1606.0</td>\n",
       "    </tr>\n",
       "  </tbody>\n",
       "</table>\n",
       "</div>"
      ],
      "text/plain": [
       "   key  Температура\n",
       "0    1       1571.0\n",
       "1    1       1604.0\n",
       "2    1       1618.0\n",
       "3    1       1601.0\n",
       "4    1       1606.0"
      ]
     },
     "execution_count": 45,
     "metadata": {},
     "output_type": "execute_result"
    }
   ],
   "source": [
    "data_temp_new.head()"
   ]
  },
  {
   "cell_type": "code",
   "execution_count": 46,
   "id": "503234d1",
   "metadata": {},
   "outputs": [
    {
     "data": {
      "image/png": "[encoded data removed]",
      "text/plain": [
       "<Figure size 432x216 with 1 Axes>"
      ]
     },
     "metadata": {
      "needs_background": "light"
     },
     "output_type": "display_data"
    }
   ],
   "source": [
    "plt.figure(figsize=(6, 3))\n",
    "sns.boxplot(data=data_temp_new['Температура'])\n",
    "plt.title('Боксплот замеров температуры')\n",
    "plt.ylabel('Температура, °C')  \n",
    "plt.show()\n"
   ]
  },
  {
   "cell_type": "code",
   "execution_count": 47,
   "id": "ac31103a",
   "metadata": {},
   "outputs": [
    {
     "data": {
      "text/plain": [
       "key            0\n",
       "Температура    0\n",
       "dtype: int64"
      ]
     },
     "execution_count": 47,
     "metadata": {},
     "output_type": "execute_result"
    }
   ],
   "source": [
    "data_temp_new.isna().sum()"
   ]
  },
  {
   "cell_type": "code",
   "execution_count": 48,
   "id": "84799504",
   "metadata": {},
   "outputs": [
    {
     "data": {
      "text/html": [
       "<div>\n",
       "<style scoped>\n",
       "    .dataframe tbody tr th:only-of-type {\n",
       "        vertical-align: middle;\n",
       "    }\n",
       "\n",
       "    .dataframe tbody tr th {\n",
       "        vertical-align: top;\n",
       "    }\n",
       "\n",
       "    .dataframe thead th {\n",
       "        text-align: right;\n",
       "    }\n",
       "</style>\n",
       "<table border=\"1\" class=\"dataframe\">\n",
       "  <thead>\n",
       "    <tr style=\"text-align: right;\">\n",
       "      <th></th>\n",
       "      <th>key</th>\n",
       "      <th>Температура</th>\n",
       "    </tr>\n",
       "  </thead>\n",
       "  <tbody>\n",
       "  </tbody>\n",
       "</table>\n",
       "</div>"
      ],
      "text/plain": [
       "Empty DataFrame\n",
       "Columns: [key, Температура]\n",
       "Index: []"
      ]
     },
     "execution_count": 48,
     "metadata": {},
     "output_type": "execute_result"
    }
   ],
   "source": [
    "data_temp_new[data_temp_new['Температура'].isna()]"
   ]
  },
  {
   "cell_type": "markdown",
   "id": "1389eafb",
   "metadata": {},
   "source": [
    "Проверка"
   ]
  },
  {
   "cell_type": "code",
   "execution_count": 49,
   "id": "99afe975",
   "metadata": {},
   "outputs": [
    {
     "name": "stdout",
     "output_type": "stream",
     "text": [
      "Value counts в data_temp_new: \n",
      "2108    17\n",
      "1513    16\n",
      "1689    16\n",
      "322     14\n",
      "46      14\n",
      "        ..\n",
      "1535     2\n",
      "943      2\n",
      "1369     2\n",
      "49       2\n",
      "1974     2\n",
      "Name: key, Length: 2475, dtype: int64\n",
      "\n"
     ]
    }
   ],
   "source": [
    "for name, variable in [('data_temp_new', data_temp_new)]:\n",
    "    print(f'Value counts в {name}: \\n{variable [\"key\"].value_counts()}')\n",
    "    print('')"
   ]
  },
  {
   "cell_type": "markdown",
   "id": "0462b1b2",
   "metadata": {},
   "source": [
    "Для создания нового признака в финальную таблицу добавим: 1. начальная температура 2. средняя температура 3. конечная температура розлива"
   ]
  },
  {
   "cell_type": "code",
   "execution_count": 50,
   "id": "1cb2d9fc",
   "metadata": {},
   "outputs": [
    {
     "data": {
      "text/html": [
       "<div>\n",
       "<style scoped>\n",
       "    .dataframe tbody tr th:only-of-type {\n",
       "        vertical-align: middle;\n",
       "    }\n",
       "\n",
       "    .dataframe tbody tr th {\n",
       "        vertical-align: top;\n",
       "    }\n",
       "\n",
       "    .dataframe thead th {\n",
       "        text-align: right;\n",
       "    }\n",
       "</style>\n",
       "<table border=\"1\" class=\"dataframe\">\n",
       "  <thead>\n",
       "    <tr style=\"text-align: right;\">\n",
       "      <th></th>\n",
       "      <th>key</th>\n",
       "      <th>Начальная_температура</th>\n",
       "      <th>Температура_розлива</th>\n",
       "    </tr>\n",
       "  </thead>\n",
       "  <tbody>\n",
       "    <tr>\n",
       "      <th>0</th>\n",
       "      <td>1</td>\n",
       "      <td>1571.0</td>\n",
       "      <td>1613.0</td>\n",
       "    </tr>\n",
       "    <tr>\n",
       "      <th>1</th>\n",
       "      <td>2</td>\n",
       "      <td>1581.0</td>\n",
       "      <td>1602.0</td>\n",
       "    </tr>\n",
       "    <tr>\n",
       "      <th>2</th>\n",
       "      <td>3</td>\n",
       "      <td>1596.0</td>\n",
       "      <td>1599.0</td>\n",
       "    </tr>\n",
       "    <tr>\n",
       "      <th>3</th>\n",
       "      <td>4</td>\n",
       "      <td>1601.0</td>\n",
       "      <td>1625.0</td>\n",
       "    </tr>\n",
       "    <tr>\n",
       "      <th>4</th>\n",
       "      <td>5</td>\n",
       "      <td>1576.0</td>\n",
       "      <td>1602.0</td>\n",
       "    </tr>\n",
       "    <tr>\n",
       "      <th>...</th>\n",
       "      <td>...</td>\n",
       "      <td>...</td>\n",
       "      <td>...</td>\n",
       "    </tr>\n",
       "    <tr>\n",
       "      <th>2470</th>\n",
       "      <td>2495</td>\n",
       "      <td>1570.0</td>\n",
       "      <td>1591.0</td>\n",
       "    </tr>\n",
       "    <tr>\n",
       "      <th>2471</th>\n",
       "      <td>2496</td>\n",
       "      <td>1554.0</td>\n",
       "      <td>1591.0</td>\n",
       "    </tr>\n",
       "    <tr>\n",
       "      <th>2472</th>\n",
       "      <td>2497</td>\n",
       "      <td>1571.0</td>\n",
       "      <td>1589.0</td>\n",
       "    </tr>\n",
       "    <tr>\n",
       "      <th>2473</th>\n",
       "      <td>2498</td>\n",
       "      <td>1591.0</td>\n",
       "      <td>1594.0</td>\n",
       "    </tr>\n",
       "    <tr>\n",
       "      <th>2474</th>\n",
       "      <td>2499</td>\n",
       "      <td>1569.0</td>\n",
       "      <td>1603.0</td>\n",
       "    </tr>\n",
       "  </tbody>\n",
       "</table>\n",
       "<p>2475 rows × 3 columns</p>\n",
       "</div>"
      ],
      "text/plain": [
       "       key  Начальная_температура  Температура_розлива\n",
       "0        1                 1571.0               1613.0\n",
       "1        2                 1581.0               1602.0\n",
       "2        3                 1596.0               1599.0\n",
       "3        4                 1601.0               1625.0\n",
       "4        5                 1576.0               1602.0\n",
       "...    ...                    ...                  ...\n",
       "2470  2495                 1570.0               1591.0\n",
       "2471  2496                 1554.0               1591.0\n",
       "2472  2497                 1571.0               1589.0\n",
       "2473  2498                 1591.0               1594.0\n",
       "2474  2499                 1569.0               1603.0\n",
       "\n",
       "[2475 rows x 3 columns]"
      ]
     },
     "metadata": {},
     "output_type": "display_data"
    }
   ],
   "source": [
    "temperature = data_temp_new.groupby('key').agg(\n",
    "    Начальная_температура=('Температура', 'first'),\n",
    "    Температура_розлива=('Температура', 'last')\n",
    ").reset_index()\n",
    "\n",
    "display(temperature)\n"
   ]
  },
  {
   "cell_type": "markdown",
   "id": "a0f0e035",
   "metadata": {},
   "source": [
    "удаляю далее"
   ]
  },
  {
   "cell_type": "code",
   "execution_count": 51,
   "id": "813a8d9b",
   "metadata": {},
   "outputs": [
    {
     "data": {
      "text/plain": [
       "key                      0\n",
       "Начальная_температура    0\n",
       "Температура_розлива      0\n",
       "dtype: int64"
      ]
     },
     "execution_count": 51,
     "metadata": {},
     "output_type": "execute_result"
    }
   ],
   "source": [
    "temperature.isna().sum()"
   ]
  },
  {
   "cell_type": "code",
   "execution_count": 52,
   "id": "dd1c2c94",
   "metadata": {},
   "outputs": [
    {
     "name": "stdout",
     "output_type": "stream",
     "text": [
      "Имя файла: data_arc_new\n"
     ]
    },
    {
     "data": {
      "text/html": [
       "<div>\n",
       "<style scoped>\n",
       "    .dataframe tbody tr th:only-of-type {\n",
       "        vertical-align: middle;\n",
       "    }\n",
       "\n",
       "    .dataframe tbody tr th {\n",
       "        vertical-align: top;\n",
       "    }\n",
       "\n",
       "    .dataframe thead th {\n",
       "        text-align: right;\n",
       "    }\n",
       "</style>\n",
       "<table border=\"1\" class=\"dataframe\">\n",
       "  <thead>\n",
       "    <tr style=\"text-align: right;\">\n",
       "      <th></th>\n",
       "      <th>Время нагрева</th>\n",
       "      <th>Полная мощность</th>\n",
       "    </tr>\n",
       "    <tr>\n",
       "      <th>key</th>\n",
       "      <th></th>\n",
       "      <th></th>\n",
       "    </tr>\n",
       "  </thead>\n",
       "  <tbody>\n",
       "    <tr>\n",
       "      <th>1</th>\n",
       "      <td>1098</td>\n",
       "      <td>3.718736</td>\n",
       "    </tr>\n",
       "    <tr>\n",
       "      <th>2</th>\n",
       "      <td>811</td>\n",
       "      <td>2.588349</td>\n",
       "    </tr>\n",
       "    <tr>\n",
       "      <th>3</th>\n",
       "      <td>655</td>\n",
       "      <td>5.019223</td>\n",
       "    </tr>\n",
       "    <tr>\n",
       "      <th>4</th>\n",
       "      <td>741</td>\n",
       "      <td>3.400038</td>\n",
       "    </tr>\n",
       "    <tr>\n",
       "      <th>5</th>\n",
       "      <td>869</td>\n",
       "      <td>2.816980</td>\n",
       "    </tr>\n",
       "  </tbody>\n",
       "</table>\n",
       "</div>"
      ],
      "text/plain": [
       "     Время нагрева  Полная мощность\n",
       "key                                \n",
       "1             1098         3.718736\n",
       "2              811         2.588349\n",
       "3              655         5.019223\n",
       "4              741         3.400038\n",
       "5              869         2.816980"
      ]
     },
     "metadata": {},
     "output_type": "display_data"
    },
    {
     "name": "stdout",
     "output_type": "stream",
     "text": [
      "Имя файла: data_bulk_new\n"
     ]
    },
    {
     "data": {
      "text/html": [
       "<div>\n",
       "<style scoped>\n",
       "    .dataframe tbody tr th:only-of-type {\n",
       "        vertical-align: middle;\n",
       "    }\n",
       "\n",
       "    .dataframe tbody tr th {\n",
       "        vertical-align: top;\n",
       "    }\n",
       "\n",
       "    .dataframe thead th {\n",
       "        text-align: right;\n",
       "    }\n",
       "</style>\n",
       "<table border=\"1\" class=\"dataframe\">\n",
       "  <thead>\n",
       "    <tr style=\"text-align: right;\">\n",
       "      <th></th>\n",
       "      <th>key</th>\n",
       "      <th>Прочее_bulk</th>\n",
       "    </tr>\n",
       "  </thead>\n",
       "  <tbody>\n",
       "    <tr>\n",
       "      <th>0</th>\n",
       "      <td>1</td>\n",
       "      <td>553.0</td>\n",
       "    </tr>\n",
       "    <tr>\n",
       "      <th>1</th>\n",
       "      <td>2</td>\n",
       "      <td>582.0</td>\n",
       "    </tr>\n",
       "    <tr>\n",
       "      <th>2</th>\n",
       "      <td>3</td>\n",
       "      <td>544.0</td>\n",
       "    </tr>\n",
       "    <tr>\n",
       "      <th>3</th>\n",
       "      <td>4</td>\n",
       "      <td>595.0</td>\n",
       "    </tr>\n",
       "    <tr>\n",
       "      <th>4</th>\n",
       "      <td>5</td>\n",
       "      <td>584.0</td>\n",
       "    </tr>\n",
       "  </tbody>\n",
       "</table>\n",
       "</div>"
      ],
      "text/plain": [
       "   key  Прочее_bulk\n",
       "0    1        553.0\n",
       "1    2        582.0\n",
       "2    3        544.0\n",
       "3    4        595.0\n",
       "4    5        584.0"
      ]
     },
     "metadata": {},
     "output_type": "display_data"
    },
    {
     "name": "stdout",
     "output_type": "stream",
     "text": [
      "Имя файла: data_gas_new\n"
     ]
    },
    {
     "data": {
      "text/html": [
       "<div>\n",
       "<style scoped>\n",
       "    .dataframe tbody tr th:only-of-type {\n",
       "        vertical-align: middle;\n",
       "    }\n",
       "\n",
       "    .dataframe tbody tr th {\n",
       "        vertical-align: top;\n",
       "    }\n",
       "\n",
       "    .dataframe thead th {\n",
       "        text-align: right;\n",
       "    }\n",
       "</style>\n",
       "<table border=\"1\" class=\"dataframe\">\n",
       "  <thead>\n",
       "    <tr style=\"text-align: right;\">\n",
       "      <th></th>\n",
       "      <th>key</th>\n",
       "      <th>Газ 1</th>\n",
       "    </tr>\n",
       "  </thead>\n",
       "  <tbody>\n",
       "    <tr>\n",
       "      <th>0</th>\n",
       "      <td>1</td>\n",
       "      <td>29.749986</td>\n",
       "    </tr>\n",
       "    <tr>\n",
       "      <th>1</th>\n",
       "      <td>2</td>\n",
       "      <td>12.555561</td>\n",
       "    </tr>\n",
       "    <tr>\n",
       "      <th>2</th>\n",
       "      <td>3</td>\n",
       "      <td>28.554793</td>\n",
       "    </tr>\n",
       "    <tr>\n",
       "      <th>3</th>\n",
       "      <td>4</td>\n",
       "      <td>18.841219</td>\n",
       "    </tr>\n",
       "    <tr>\n",
       "      <th>4</th>\n",
       "      <td>5</td>\n",
       "      <td>5.413692</td>\n",
       "    </tr>\n",
       "  </tbody>\n",
       "</table>\n",
       "</div>"
      ],
      "text/plain": [
       "   key      Газ 1\n",
       "0    1  29.749986\n",
       "1    2  12.555561\n",
       "2    3  28.554793\n",
       "3    4  18.841219\n",
       "4    5   5.413692"
      ]
     },
     "metadata": {},
     "output_type": "display_data"
    },
    {
     "name": "stdout",
     "output_type": "stream",
     "text": [
      "Имя файла: temperature\n"
     ]
    },
    {
     "data": {
      "text/html": [
       "<div>\n",
       "<style scoped>\n",
       "    .dataframe tbody tr th:only-of-type {\n",
       "        vertical-align: middle;\n",
       "    }\n",
       "\n",
       "    .dataframe tbody tr th {\n",
       "        vertical-align: top;\n",
       "    }\n",
       "\n",
       "    .dataframe thead th {\n",
       "        text-align: right;\n",
       "    }\n",
       "</style>\n",
       "<table border=\"1\" class=\"dataframe\">\n",
       "  <thead>\n",
       "    <tr style=\"text-align: right;\">\n",
       "      <th></th>\n",
       "      <th>key</th>\n",
       "      <th>Начальная_температура</th>\n",
       "      <th>Температура_розлива</th>\n",
       "    </tr>\n",
       "  </thead>\n",
       "  <tbody>\n",
       "    <tr>\n",
       "      <th>0</th>\n",
       "      <td>1</td>\n",
       "      <td>1571.0</td>\n",
       "      <td>1613.0</td>\n",
       "    </tr>\n",
       "    <tr>\n",
       "      <th>1</th>\n",
       "      <td>2</td>\n",
       "      <td>1581.0</td>\n",
       "      <td>1602.0</td>\n",
       "    </tr>\n",
       "    <tr>\n",
       "      <th>2</th>\n",
       "      <td>3</td>\n",
       "      <td>1596.0</td>\n",
       "      <td>1599.0</td>\n",
       "    </tr>\n",
       "    <tr>\n",
       "      <th>3</th>\n",
       "      <td>4</td>\n",
       "      <td>1601.0</td>\n",
       "      <td>1625.0</td>\n",
       "    </tr>\n",
       "    <tr>\n",
       "      <th>4</th>\n",
       "      <td>5</td>\n",
       "      <td>1576.0</td>\n",
       "      <td>1602.0</td>\n",
       "    </tr>\n",
       "  </tbody>\n",
       "</table>\n",
       "</div>"
      ],
      "text/plain": [
       "   key  Начальная_температура  Температура_розлива\n",
       "0    1                 1571.0               1613.0\n",
       "1    2                 1581.0               1602.0\n",
       "2    3                 1596.0               1599.0\n",
       "3    4                 1601.0               1625.0\n",
       "4    5                 1576.0               1602.0"
      ]
     },
     "metadata": {},
     "output_type": "display_data"
    },
    {
     "name": "stdout",
     "output_type": "stream",
     "text": [
      "Имя файла: data_wire_new\n"
     ]
    },
    {
     "data": {
      "text/html": [
       "<div>\n",
       "<style scoped>\n",
       "    .dataframe tbody tr th:only-of-type {\n",
       "        vertical-align: middle;\n",
       "    }\n",
       "\n",
       "    .dataframe tbody tr th {\n",
       "        vertical-align: top;\n",
       "    }\n",
       "\n",
       "    .dataframe thead th {\n",
       "        text-align: right;\n",
       "    }\n",
       "</style>\n",
       "<table border=\"1\" class=\"dataframe\">\n",
       "  <thead>\n",
       "    <tr style=\"text-align: right;\">\n",
       "      <th></th>\n",
       "      <th>key</th>\n",
       "      <th>Прочее_wire</th>\n",
       "    </tr>\n",
       "  </thead>\n",
       "  <tbody>\n",
       "    <tr>\n",
       "      <th>0</th>\n",
       "      <td>1</td>\n",
       "      <td>60.059998</td>\n",
       "    </tr>\n",
       "    <tr>\n",
       "      <th>1</th>\n",
       "      <td>2</td>\n",
       "      <td>96.052315</td>\n",
       "    </tr>\n",
       "    <tr>\n",
       "      <th>2</th>\n",
       "      <td>3</td>\n",
       "      <td>91.160157</td>\n",
       "    </tr>\n",
       "    <tr>\n",
       "      <th>3</th>\n",
       "      <td>4</td>\n",
       "      <td>89.063515</td>\n",
       "    </tr>\n",
       "    <tr>\n",
       "      <th>4</th>\n",
       "      <td>5</td>\n",
       "      <td>98.352796</td>\n",
       "    </tr>\n",
       "  </tbody>\n",
       "</table>\n",
       "</div>"
      ],
      "text/plain": [
       "   key  Прочее_wire\n",
       "0    1    60.059998\n",
       "1    2    96.052315\n",
       "2    3    91.160157\n",
       "3    4    89.063515\n",
       "4    5    98.352796"
      ]
     },
     "metadata": {},
     "output_type": "display_data"
    }
   ],
   "source": [
    "tup = [\n",
    "    ('data_arc_new', data_arc_new),\n",
    "    ('data_bulk_new', data_bulk_new),\n",
    "    ('data_gas_new', data_gas_new),\n",
    "    ('temperature', temperature),\n",
    "    ('data_wire_new', data_wire_new)\n",
    "]\n",
    "\n",
    "for name, variable in tup:\n",
    "    print(f'Имя файла: {name}')\n",
    "    display(variable.head())\n",
    "    "
   ]
  },
  {
   "cell_type": "code",
   "execution_count": 53,
   "id": "9d11f3ee",
   "metadata": {},
   "outputs": [],
   "source": [
    "tup = [\n",
    "    ('temperature', temperature),\n",
    "    \n",
    "]\n",
    "for name, variable in tup:\n",
    "    variable.set_index('key', inplace=True)"
   ]
  },
  {
   "cell_type": "code",
   "execution_count": 54,
   "id": "1879bb74",
   "metadata": {},
   "outputs": [
    {
     "name": "stdout",
     "output_type": "stream",
     "text": [
      "Имя файла: data_arc_new\n"
     ]
    },
    {
     "data": {
      "text/html": [
       "<div>\n",
       "<style scoped>\n",
       "    .dataframe tbody tr th:only-of-type {\n",
       "        vertical-align: middle;\n",
       "    }\n",
       "\n",
       "    .dataframe tbody tr th {\n",
       "        vertical-align: top;\n",
       "    }\n",
       "\n",
       "    .dataframe thead th {\n",
       "        text-align: right;\n",
       "    }\n",
       "</style>\n",
       "<table border=\"1\" class=\"dataframe\">\n",
       "  <thead>\n",
       "    <tr style=\"text-align: right;\">\n",
       "      <th></th>\n",
       "      <th>Время нагрева</th>\n",
       "      <th>Полная мощность</th>\n",
       "    </tr>\n",
       "    <tr>\n",
       "      <th>key</th>\n",
       "      <th></th>\n",
       "      <th></th>\n",
       "    </tr>\n",
       "  </thead>\n",
       "  <tbody>\n",
       "    <tr>\n",
       "      <th>1</th>\n",
       "      <td>1098</td>\n",
       "      <td>3.718736</td>\n",
       "    </tr>\n",
       "    <tr>\n",
       "      <th>2</th>\n",
       "      <td>811</td>\n",
       "      <td>2.588349</td>\n",
       "    </tr>\n",
       "    <tr>\n",
       "      <th>3</th>\n",
       "      <td>655</td>\n",
       "      <td>5.019223</td>\n",
       "    </tr>\n",
       "    <tr>\n",
       "      <th>4</th>\n",
       "      <td>741</td>\n",
       "      <td>3.400038</td>\n",
       "    </tr>\n",
       "    <tr>\n",
       "      <th>5</th>\n",
       "      <td>869</td>\n",
       "      <td>2.816980</td>\n",
       "    </tr>\n",
       "  </tbody>\n",
       "</table>\n",
       "</div>"
      ],
      "text/plain": [
       "     Время нагрева  Полная мощность\n",
       "key                                \n",
       "1             1098         3.718736\n",
       "2              811         2.588349\n",
       "3              655         5.019223\n",
       "4              741         3.400038\n",
       "5              869         2.816980"
      ]
     },
     "metadata": {},
     "output_type": "display_data"
    },
    {
     "name": "stdout",
     "output_type": "stream",
     "text": [
      "Имя файла: data_bulk_new\n"
     ]
    },
    {
     "data": {
      "text/html": [
       "<div>\n",
       "<style scoped>\n",
       "    .dataframe tbody tr th:only-of-type {\n",
       "        vertical-align: middle;\n",
       "    }\n",
       "\n",
       "    .dataframe tbody tr th {\n",
       "        vertical-align: top;\n",
       "    }\n",
       "\n",
       "    .dataframe thead th {\n",
       "        text-align: right;\n",
       "    }\n",
       "</style>\n",
       "<table border=\"1\" class=\"dataframe\">\n",
       "  <thead>\n",
       "    <tr style=\"text-align: right;\">\n",
       "      <th></th>\n",
       "      <th>key</th>\n",
       "      <th>Прочее_bulk</th>\n",
       "    </tr>\n",
       "  </thead>\n",
       "  <tbody>\n",
       "    <tr>\n",
       "      <th>0</th>\n",
       "      <td>1</td>\n",
       "      <td>553.0</td>\n",
       "    </tr>\n",
       "    <tr>\n",
       "      <th>1</th>\n",
       "      <td>2</td>\n",
       "      <td>582.0</td>\n",
       "    </tr>\n",
       "    <tr>\n",
       "      <th>2</th>\n",
       "      <td>3</td>\n",
       "      <td>544.0</td>\n",
       "    </tr>\n",
       "    <tr>\n",
       "      <th>3</th>\n",
       "      <td>4</td>\n",
       "      <td>595.0</td>\n",
       "    </tr>\n",
       "    <tr>\n",
       "      <th>4</th>\n",
       "      <td>5</td>\n",
       "      <td>584.0</td>\n",
       "    </tr>\n",
       "  </tbody>\n",
       "</table>\n",
       "</div>"
      ],
      "text/plain": [
       "   key  Прочее_bulk\n",
       "0    1        553.0\n",
       "1    2        582.0\n",
       "2    3        544.0\n",
       "3    4        595.0\n",
       "4    5        584.0"
      ]
     },
     "metadata": {},
     "output_type": "display_data"
    },
    {
     "name": "stdout",
     "output_type": "stream",
     "text": [
      "Имя файла: data_gas_new\n"
     ]
    },
    {
     "data": {
      "text/html": [
       "<div>\n",
       "<style scoped>\n",
       "    .dataframe tbody tr th:only-of-type {\n",
       "        vertical-align: middle;\n",
       "    }\n",
       "\n",
       "    .dataframe tbody tr th {\n",
       "        vertical-align: top;\n",
       "    }\n",
       "\n",
       "    .dataframe thead th {\n",
       "        text-align: right;\n",
       "    }\n",
       "</style>\n",
       "<table border=\"1\" class=\"dataframe\">\n",
       "  <thead>\n",
       "    <tr style=\"text-align: right;\">\n",
       "      <th></th>\n",
       "      <th>key</th>\n",
       "      <th>Газ 1</th>\n",
       "    </tr>\n",
       "  </thead>\n",
       "  <tbody>\n",
       "    <tr>\n",
       "      <th>0</th>\n",
       "      <td>1</td>\n",
       "      <td>29.749986</td>\n",
       "    </tr>\n",
       "    <tr>\n",
       "      <th>1</th>\n",
       "      <td>2</td>\n",
       "      <td>12.555561</td>\n",
       "    </tr>\n",
       "    <tr>\n",
       "      <th>2</th>\n",
       "      <td>3</td>\n",
       "      <td>28.554793</td>\n",
       "    </tr>\n",
       "    <tr>\n",
       "      <th>3</th>\n",
       "      <td>4</td>\n",
       "      <td>18.841219</td>\n",
       "    </tr>\n",
       "    <tr>\n",
       "      <th>4</th>\n",
       "      <td>5</td>\n",
       "      <td>5.413692</td>\n",
       "    </tr>\n",
       "  </tbody>\n",
       "</table>\n",
       "</div>"
      ],
      "text/plain": [
       "   key      Газ 1\n",
       "0    1  29.749986\n",
       "1    2  12.555561\n",
       "2    3  28.554793\n",
       "3    4  18.841219\n",
       "4    5   5.413692"
      ]
     },
     "metadata": {},
     "output_type": "display_data"
    },
    {
     "name": "stdout",
     "output_type": "stream",
     "text": [
      "Имя файла: temperature\n"
     ]
    },
    {
     "data": {
      "text/html": [
       "<div>\n",
       "<style scoped>\n",
       "    .dataframe tbody tr th:only-of-type {\n",
       "        vertical-align: middle;\n",
       "    }\n",
       "\n",
       "    .dataframe tbody tr th {\n",
       "        vertical-align: top;\n",
       "    }\n",
       "\n",
       "    .dataframe thead th {\n",
       "        text-align: right;\n",
       "    }\n",
       "</style>\n",
       "<table border=\"1\" class=\"dataframe\">\n",
       "  <thead>\n",
       "    <tr style=\"text-align: right;\">\n",
       "      <th></th>\n",
       "      <th>Начальная_температура</th>\n",
       "      <th>Температура_розлива</th>\n",
       "    </tr>\n",
       "    <tr>\n",
       "      <th>key</th>\n",
       "      <th></th>\n",
       "      <th></th>\n",
       "    </tr>\n",
       "  </thead>\n",
       "  <tbody>\n",
       "    <tr>\n",
       "      <th>1</th>\n",
       "      <td>1571.0</td>\n",
       "      <td>1613.0</td>\n",
       "    </tr>\n",
       "    <tr>\n",
       "      <th>2</th>\n",
       "      <td>1581.0</td>\n",
       "      <td>1602.0</td>\n",
       "    </tr>\n",
       "    <tr>\n",
       "      <th>3</th>\n",
       "      <td>1596.0</td>\n",
       "      <td>1599.0</td>\n",
       "    </tr>\n",
       "    <tr>\n",
       "      <th>4</th>\n",
       "      <td>1601.0</td>\n",
       "      <td>1625.0</td>\n",
       "    </tr>\n",
       "    <tr>\n",
       "      <th>5</th>\n",
       "      <td>1576.0</td>\n",
       "      <td>1602.0</td>\n",
       "    </tr>\n",
       "  </tbody>\n",
       "</table>\n",
       "</div>"
      ],
      "text/plain": [
       "     Начальная_температура  Температура_розлива\n",
       "key                                            \n",
       "1                   1571.0               1613.0\n",
       "2                   1581.0               1602.0\n",
       "3                   1596.0               1599.0\n",
       "4                   1601.0               1625.0\n",
       "5                   1576.0               1602.0"
      ]
     },
     "metadata": {},
     "output_type": "display_data"
    },
    {
     "name": "stdout",
     "output_type": "stream",
     "text": [
      "Имя файла: data_wire_new\n"
     ]
    },
    {
     "data": {
      "text/html": [
       "<div>\n",
       "<style scoped>\n",
       "    .dataframe tbody tr th:only-of-type {\n",
       "        vertical-align: middle;\n",
       "    }\n",
       "\n",
       "    .dataframe tbody tr th {\n",
       "        vertical-align: top;\n",
       "    }\n",
       "\n",
       "    .dataframe thead th {\n",
       "        text-align: right;\n",
       "    }\n",
       "</style>\n",
       "<table border=\"1\" class=\"dataframe\">\n",
       "  <thead>\n",
       "    <tr style=\"text-align: right;\">\n",
       "      <th></th>\n",
       "      <th>key</th>\n",
       "      <th>Прочее_wire</th>\n",
       "    </tr>\n",
       "  </thead>\n",
       "  <tbody>\n",
       "    <tr>\n",
       "      <th>0</th>\n",
       "      <td>1</td>\n",
       "      <td>60.059998</td>\n",
       "    </tr>\n",
       "    <tr>\n",
       "      <th>1</th>\n",
       "      <td>2</td>\n",
       "      <td>96.052315</td>\n",
       "    </tr>\n",
       "    <tr>\n",
       "      <th>2</th>\n",
       "      <td>3</td>\n",
       "      <td>91.160157</td>\n",
       "    </tr>\n",
       "    <tr>\n",
       "      <th>3</th>\n",
       "      <td>4</td>\n",
       "      <td>89.063515</td>\n",
       "    </tr>\n",
       "    <tr>\n",
       "      <th>4</th>\n",
       "      <td>5</td>\n",
       "      <td>98.352796</td>\n",
       "    </tr>\n",
       "  </tbody>\n",
       "</table>\n",
       "</div>"
      ],
      "text/plain": [
       "   key  Прочее_wire\n",
       "0    1    60.059998\n",
       "1    2    96.052315\n",
       "2    3    91.160157\n",
       "3    4    89.063515\n",
       "4    5    98.352796"
      ]
     },
     "metadata": {},
     "output_type": "display_data"
    }
   ],
   "source": [
    "tup = [\n",
    "    ('data_arc_new', data_arc_new),\n",
    "    ('data_bulk_new', data_bulk_new),\n",
    "    ('data_gas_new', data_gas_new),\n",
    "    ('temperature', temperature),\n",
    "    ('data_wire_new', data_wire_new)\n",
    "]\n",
    "\n",
    "for name, variable in tup:\n",
    "    print(f'Имя файла: {name}')\n",
    "    display(variable.head())\n",
    "    "
   ]
  },
  {
   "cell_type": "code",
   "execution_count": 55,
   "id": "bd2a4f28",
   "metadata": {
    "scrolled": true
   },
   "outputs": [
    {
     "name": "stdout",
     "output_type": "stream",
     "text": [
      "Имя файла: data_arc_new\n",
      "<class 'pandas.core.frame.DataFrame'>\n",
      "Int64Index: 3214 entries, 1 to 3241\n",
      "Data columns (total 2 columns):\n",
      " #   Column           Non-Null Count  Dtype  \n",
      "---  ------           --------------  -----  \n",
      " 0   Время нагрева    3214 non-null   int64  \n",
      " 1   Полная мощность  3214 non-null   float64\n",
      "dtypes: float64(1), int64(1)\n",
      "memory usage: 75.3 KB\n"
     ]
    },
    {
     "data": {
      "text/plain": [
       "None"
      ]
     },
     "metadata": {},
     "output_type": "display_data"
    },
    {
     "name": "stdout",
     "output_type": "stream",
     "text": [
      "Имя файла: data_bulk_new\n",
      "<class 'pandas.core.frame.DataFrame'>\n",
      "RangeIndex: 3129 entries, 0 to 3128\n",
      "Data columns (total 2 columns):\n",
      " #   Column       Non-Null Count  Dtype  \n",
      "---  ------       --------------  -----  \n",
      " 0   key          3129 non-null   int64  \n",
      " 1   Прочее_bulk  3129 non-null   float64\n",
      "dtypes: float64(1), int64(1)\n",
      "memory usage: 49.0 KB\n"
     ]
    },
    {
     "data": {
      "text/plain": [
       "None"
      ]
     },
     "metadata": {},
     "output_type": "display_data"
    },
    {
     "name": "stdout",
     "output_type": "stream",
     "text": [
      "Имя файла: data_gas_new\n",
      "<class 'pandas.core.frame.DataFrame'>\n",
      "RangeIndex: 3239 entries, 0 to 3238\n",
      "Data columns (total 2 columns):\n",
      " #   Column  Non-Null Count  Dtype  \n",
      "---  ------  --------------  -----  \n",
      " 0   key     3239 non-null   int64  \n",
      " 1   Газ 1   3239 non-null   float64\n",
      "dtypes: float64(1), int64(1)\n",
      "memory usage: 50.7 KB\n"
     ]
    },
    {
     "data": {
      "text/plain": [
       "None"
      ]
     },
     "metadata": {},
     "output_type": "display_data"
    },
    {
     "name": "stdout",
     "output_type": "stream",
     "text": [
      "Имя файла: temperature\n",
      "<class 'pandas.core.frame.DataFrame'>\n",
      "Int64Index: 2475 entries, 1 to 2499\n",
      "Data columns (total 2 columns):\n",
      " #   Column                 Non-Null Count  Dtype  \n",
      "---  ------                 --------------  -----  \n",
      " 0   Начальная_температура  2475 non-null   float64\n",
      " 1   Температура_розлива    2475 non-null   float64\n",
      "dtypes: float64(2)\n",
      "memory usage: 58.0 KB\n"
     ]
    },
    {
     "data": {
      "text/plain": [
       "None"
      ]
     },
     "metadata": {},
     "output_type": "display_data"
    },
    {
     "name": "stdout",
     "output_type": "stream",
     "text": [
      "Имя файла: data_wire_new\n",
      "<class 'pandas.core.frame.DataFrame'>\n",
      "RangeIndex: 3081 entries, 0 to 3080\n",
      "Data columns (total 2 columns):\n",
      " #   Column       Non-Null Count  Dtype  \n",
      "---  ------       --------------  -----  \n",
      " 0   key          3081 non-null   int64  \n",
      " 1   Прочее_wire  3081 non-null   float64\n",
      "dtypes: float64(1), int64(1)\n",
      "memory usage: 48.3 KB\n"
     ]
    },
    {
     "data": {
      "text/plain": [
       "None"
      ]
     },
     "metadata": {},
     "output_type": "display_data"
    }
   ],
   "source": [
    "tup = [\n",
    "    ('data_arc_new', data_arc_new),\n",
    "    ('data_bulk_new', data_bulk_new),\n",
    "    ('data_gas_new', data_gas_new),\n",
    "    ('temperature', temperature),\n",
    "    ('data_wire_new', data_wire_new)\n",
    "]\n",
    "\n",
    "for name, variable in tup:\n",
    "    print(f'Имя файла: {name}')\n",
    "    display(variable.info())"
   ]
  },
  {
   "cell_type": "code",
   "execution_count": 56,
   "id": "900446e0",
   "metadata": {},
   "outputs": [],
   "source": [
    "df_list = [\n",
    "    data_arc_new,\n",
    "    data_bulk_new,\n",
    "    data_gas_new,\n",
    "    temperature,\n",
    "    data_wire_new\n",
    "]"
   ]
  },
  {
   "cell_type": "code",
   "execution_count": 57,
   "id": "f7b287f6",
   "metadata": {},
   "outputs": [],
   "source": [
    "data = df_list[0]\n",
    "\n",
    "for df in df_list[1:]:\n",
    "    data = data.merge(df, on='key', how='inner')\n"
   ]
  },
  {
   "cell_type": "markdown",
   "id": "65e5a044",
   "metadata": {},
   "source": [
    "Сделаем названия английскими и по змеиному регистру"
   ]
  },
  {
   "cell_type": "code",
   "execution_count": 58,
   "id": "8136da80",
   "metadata": {},
   "outputs": [
    {
     "data": {
      "text/html": [
       "<div>\n",
       "<style scoped>\n",
       "    .dataframe tbody tr th:only-of-type {\n",
       "        vertical-align: middle;\n",
       "    }\n",
       "\n",
       "    .dataframe tbody tr th {\n",
       "        vertical-align: top;\n",
       "    }\n",
       "\n",
       "    .dataframe thead th {\n",
       "        text-align: right;\n",
       "    }\n",
       "</style>\n",
       "<table border=\"1\" class=\"dataframe\">\n",
       "  <thead>\n",
       "    <tr style=\"text-align: right;\">\n",
       "      <th></th>\n",
       "      <th>key</th>\n",
       "      <th>heating_time</th>\n",
       "      <th>total_power</th>\n",
       "      <th>all_bulk</th>\n",
       "      <th>gas_1</th>\n",
       "      <th>initial_temperature</th>\n",
       "      <th>spilling_temperature</th>\n",
       "      <th>all_wire</th>\n",
       "    </tr>\n",
       "  </thead>\n",
       "  <tbody>\n",
       "    <tr>\n",
       "      <th>0</th>\n",
       "      <td>1</td>\n",
       "      <td>1098</td>\n",
       "      <td>3.718736</td>\n",
       "      <td>553.0</td>\n",
       "      <td>29.749986</td>\n",
       "      <td>1571.0</td>\n",
       "      <td>1613.0</td>\n",
       "      <td>60.059998</td>\n",
       "    </tr>\n",
       "    <tr>\n",
       "      <th>1</th>\n",
       "      <td>2</td>\n",
       "      <td>811</td>\n",
       "      <td>2.588349</td>\n",
       "      <td>582.0</td>\n",
       "      <td>12.555561</td>\n",
       "      <td>1581.0</td>\n",
       "      <td>1602.0</td>\n",
       "      <td>96.052315</td>\n",
       "    </tr>\n",
       "    <tr>\n",
       "      <th>2</th>\n",
       "      <td>3</td>\n",
       "      <td>655</td>\n",
       "      <td>5.019223</td>\n",
       "      <td>544.0</td>\n",
       "      <td>28.554793</td>\n",
       "      <td>1596.0</td>\n",
       "      <td>1599.0</td>\n",
       "      <td>91.160157</td>\n",
       "    </tr>\n",
       "    <tr>\n",
       "      <th>3</th>\n",
       "      <td>4</td>\n",
       "      <td>741</td>\n",
       "      <td>3.400038</td>\n",
       "      <td>595.0</td>\n",
       "      <td>18.841219</td>\n",
       "      <td>1601.0</td>\n",
       "      <td>1625.0</td>\n",
       "      <td>89.063515</td>\n",
       "    </tr>\n",
       "    <tr>\n",
       "      <th>4</th>\n",
       "      <td>5</td>\n",
       "      <td>869</td>\n",
       "      <td>2.816980</td>\n",
       "      <td>584.0</td>\n",
       "      <td>5.413692</td>\n",
       "      <td>1576.0</td>\n",
       "      <td>1602.0</td>\n",
       "      <td>98.352796</td>\n",
       "    </tr>\n",
       "  </tbody>\n",
       "</table>\n",
       "</div>"
      ],
      "text/plain": [
       "   key  heating_time  total_power  all_bulk      gas_1  initial_temperature  \\\n",
       "0    1          1098     3.718736     553.0  29.749986               1571.0   \n",
       "1    2           811     2.588349     582.0  12.555561               1581.0   \n",
       "2    3           655     5.019223     544.0  28.554793               1596.0   \n",
       "3    4           741     3.400038     595.0  18.841219               1601.0   \n",
       "4    5           869     2.816980     584.0   5.413692               1576.0   \n",
       "\n",
       "   spilling_temperature   all_wire  \n",
       "0                1613.0  60.059998  \n",
       "1                1602.0  96.052315  \n",
       "2                1599.0  91.160157  \n",
       "3                1625.0  89.063515  \n",
       "4                1602.0  98.352796  "
      ]
     },
     "execution_count": 58,
     "metadata": {},
     "output_type": "execute_result"
    }
   ],
   "source": [
    "data.columns = data.columns.str.replace(' ', '_').str.lower()\n",
    "data.rename(columns={\n",
    "    'время_нагрева': 'heating_time',\n",
    "    'полная_мощность': 'total_power',\n",
    "    'прочее_bulk': 'all_bulk',\n",
    "    'газ_1': 'gas_1',\n",
    "    'начальная_температура': 'initial_temperature',\n",
    "    'температура_розлива': 'spilling_temperature',\n",
    "    'средняя_температура': 'average_temperature',\n",
    "    'прочее_wire': 'all_wire'\n",
    "}, inplace=True)\n",
    "\n",
    "data.head()"
   ]
  },
  {
   "cell_type": "code",
   "execution_count": 59,
   "id": "80d8682b",
   "metadata": {},
   "outputs": [
    {
     "data": {
      "text/html": [
       "<div>\n",
       "<style scoped>\n",
       "    .dataframe tbody tr th:only-of-type {\n",
       "        vertical-align: middle;\n",
       "    }\n",
       "\n",
       "    .dataframe tbody tr th {\n",
       "        vertical-align: top;\n",
       "    }\n",
       "\n",
       "    .dataframe thead th {\n",
       "        text-align: right;\n",
       "    }\n",
       "</style>\n",
       "<table border=\"1\" class=\"dataframe\">\n",
       "  <thead>\n",
       "    <tr style=\"text-align: right;\">\n",
       "      <th></th>\n",
       "      <th>key</th>\n",
       "      <th>heating_time</th>\n",
       "      <th>total_power</th>\n",
       "      <th>all_bulk</th>\n",
       "      <th>gas_1</th>\n",
       "      <th>initial_temperature</th>\n",
       "      <th>spilling_temperature</th>\n",
       "      <th>all_wire</th>\n",
       "    </tr>\n",
       "  </thead>\n",
       "  <tbody>\n",
       "    <tr>\n",
       "      <th>0</th>\n",
       "      <td>1</td>\n",
       "      <td>1098</td>\n",
       "      <td>3.718736</td>\n",
       "      <td>553.0</td>\n",
       "      <td>29.749986</td>\n",
       "      <td>1571.0</td>\n",
       "      <td>1613.0</td>\n",
       "      <td>60.059998</td>\n",
       "    </tr>\n",
       "    <tr>\n",
       "      <th>1</th>\n",
       "      <td>2</td>\n",
       "      <td>811</td>\n",
       "      <td>2.588349</td>\n",
       "      <td>582.0</td>\n",
       "      <td>12.555561</td>\n",
       "      <td>1581.0</td>\n",
       "      <td>1602.0</td>\n",
       "      <td>96.052315</td>\n",
       "    </tr>\n",
       "    <tr>\n",
       "      <th>2</th>\n",
       "      <td>3</td>\n",
       "      <td>655</td>\n",
       "      <td>5.019223</td>\n",
       "      <td>544.0</td>\n",
       "      <td>28.554793</td>\n",
       "      <td>1596.0</td>\n",
       "      <td>1599.0</td>\n",
       "      <td>91.160157</td>\n",
       "    </tr>\n",
       "    <tr>\n",
       "      <th>3</th>\n",
       "      <td>4</td>\n",
       "      <td>741</td>\n",
       "      <td>3.400038</td>\n",
       "      <td>595.0</td>\n",
       "      <td>18.841219</td>\n",
       "      <td>1601.0</td>\n",
       "      <td>1625.0</td>\n",
       "      <td>89.063515</td>\n",
       "    </tr>\n",
       "    <tr>\n",
       "      <th>4</th>\n",
       "      <td>5</td>\n",
       "      <td>869</td>\n",
       "      <td>2.816980</td>\n",
       "      <td>584.0</td>\n",
       "      <td>5.413692</td>\n",
       "      <td>1576.0</td>\n",
       "      <td>1602.0</td>\n",
       "      <td>98.352796</td>\n",
       "    </tr>\n",
       "    <tr>\n",
       "      <th>...</th>\n",
       "      <td>...</td>\n",
       "      <td>...</td>\n",
       "      <td>...</td>\n",
       "      <td>...</td>\n",
       "      <td>...</td>\n",
       "      <td>...</td>\n",
       "      <td>...</td>\n",
       "      <td>...</td>\n",
       "    </tr>\n",
       "    <tr>\n",
       "      <th>2324</th>\n",
       "      <td>2495</td>\n",
       "      <td>723</td>\n",
       "      <td>3.868721</td>\n",
       "      <td>719.0</td>\n",
       "      <td>7.125735</td>\n",
       "      <td>1570.0</td>\n",
       "      <td>1591.0</td>\n",
       "      <td>89.150879</td>\n",
       "    </tr>\n",
       "    <tr>\n",
       "      <th>2325</th>\n",
       "      <td>2496</td>\n",
       "      <td>940</td>\n",
       "      <td>5.070316</td>\n",
       "      <td>796.0</td>\n",
       "      <td>9.412616</td>\n",
       "      <td>1554.0</td>\n",
       "      <td>1591.0</td>\n",
       "      <td>114.179527</td>\n",
       "    </tr>\n",
       "    <tr>\n",
       "      <th>2326</th>\n",
       "      <td>2497</td>\n",
       "      <td>569</td>\n",
       "      <td>4.360918</td>\n",
       "      <td>665.0</td>\n",
       "      <td>6.271699</td>\n",
       "      <td>1571.0</td>\n",
       "      <td>1589.0</td>\n",
       "      <td>103.134723</td>\n",
       "    </tr>\n",
       "    <tr>\n",
       "      <th>2327</th>\n",
       "      <td>2498</td>\n",
       "      <td>750</td>\n",
       "      <td>3.909917</td>\n",
       "      <td>733.0</td>\n",
       "      <td>14.953657</td>\n",
       "      <td>1591.0</td>\n",
       "      <td>1594.0</td>\n",
       "      <td>118.110717</td>\n",
       "    </tr>\n",
       "    <tr>\n",
       "      <th>2328</th>\n",
       "      <td>2499</td>\n",
       "      <td>883</td>\n",
       "      <td>2.169252</td>\n",
       "      <td>633.0</td>\n",
       "      <td>11.336151</td>\n",
       "      <td>1569.0</td>\n",
       "      <td>1603.0</td>\n",
       "      <td>160.166238</td>\n",
       "    </tr>\n",
       "  </tbody>\n",
       "</table>\n",
       "<p>2329 rows × 8 columns</p>\n",
       "</div>"
      ],
      "text/plain": [
       "       key  heating_time  total_power  all_bulk      gas_1  \\\n",
       "0        1          1098     3.718736     553.0  29.749986   \n",
       "1        2           811     2.588349     582.0  12.555561   \n",
       "2        3           655     5.019223     544.0  28.554793   \n",
       "3        4           741     3.400038     595.0  18.841219   \n",
       "4        5           869     2.816980     584.0   5.413692   \n",
       "...    ...           ...          ...       ...        ...   \n",
       "2324  2495           723     3.868721     719.0   7.125735   \n",
       "2325  2496           940     5.070316     796.0   9.412616   \n",
       "2326  2497           569     4.360918     665.0   6.271699   \n",
       "2327  2498           750     3.909917     733.0  14.953657   \n",
       "2328  2499           883     2.169252     633.0  11.336151   \n",
       "\n",
       "      initial_temperature  spilling_temperature    all_wire  \n",
       "0                  1571.0                1613.0   60.059998  \n",
       "1                  1581.0                1602.0   96.052315  \n",
       "2                  1596.0                1599.0   91.160157  \n",
       "3                  1601.0                1625.0   89.063515  \n",
       "4                  1576.0                1602.0   98.352796  \n",
       "...                   ...                   ...         ...  \n",
       "2324               1570.0                1591.0   89.150879  \n",
       "2325               1554.0                1591.0  114.179527  \n",
       "2326               1571.0                1589.0  103.134723  \n",
       "2327               1591.0                1594.0  118.110717  \n",
       "2328               1569.0                1603.0  160.166238  \n",
       "\n",
       "[2329 rows x 8 columns]"
      ]
     },
     "execution_count": 59,
     "metadata": {},
     "output_type": "execute_result"
    }
   ],
   "source": [
    "data"
   ]
  },
  {
   "cell_type": "code",
   "execution_count": 60,
   "id": "8ad6e6a7",
   "metadata": {},
   "outputs": [
    {
     "data": {
      "text/plain": [
       "key                     0\n",
       "heating_time            0\n",
       "total_power             0\n",
       "all_bulk                0\n",
       "gas_1                   0\n",
       "initial_temperature     0\n",
       "spilling_temperature    0\n",
       "all_wire                0\n",
       "dtype: int64"
      ]
     },
     "execution_count": 60,
     "metadata": {},
     "output_type": "execute_result"
    }
   ],
   "source": [
    "data.isna().sum()"
   ]
  },
  {
   "cell_type": "code",
   "execution_count": 61,
   "id": "61834b0c",
   "metadata": {
    "scrolled": false
   },
   "outputs": [
    {
     "data": {
      "image/png": "[encoded data removed]",
      "text/plain": [
       "<Figure size 576x576 with 8 Axes>"
      ]
     },
     "metadata": {
      "needs_background": "light"
     },
     "output_type": "display_data"
    }
   ],
   "source": [
    "n = len(data.columns)\n",
    "nrows = (n + 1) // 2 \n",
    "fig, axes = plt.subplots(nrows=nrows, ncols=2, figsize=(8, nrows * 2))\n",
    "\n",
    "colors = sns.color_palette(\"Set1\", n_colors=n)\n",
    "\n",
    "for ax, (column, color) in zip(axes.flatten(), zip(data.columns, colors)):\n",
    "    data[column].hist(ax=ax, color=color, bins=50)\n",
    "    ax.set_title(column)\n",
    "    ax.set_xlabel(column)\n",
    "    ax.set_ylabel('Частота')\n",
    "\n",
    "for i in range(len(data.columns), nrows * 2):\n",
    "    fig.delaxes(axes.flatten()[i])\n",
    "\n",
    "plt.tight_layout()\n",
    "plt.show()\n",
    "\n"
   ]
  },
  {
   "cell_type": "code",
   "execution_count": 62,
   "id": "aaa3d04c",
   "metadata": {},
   "outputs": [
    {
     "data": {
      "text/plain": [
       "Index(['key', 'heating_time', 'total_power', 'all_bulk', 'gas_1',\n",
       "       'initial_temperature', 'spilling_temperature', 'all_wire'],\n",
       "      dtype='object')"
      ]
     },
     "execution_count": 62,
     "metadata": {},
     "output_type": "execute_result"
    }
   ],
   "source": [
    "data.columns"
   ]
  },
  {
   "cell_type": "code",
   "execution_count": 63,
   "id": "024bdb79",
   "metadata": {
    "scrolled": false
   },
   "outputs": [
    {
     "data": {
      "image/png": "[encoded data removed]",
      "text/plain": [
       "<Figure size 576x576 with 8 Axes>"
      ]
     },
     "metadata": {
      "needs_background": "light"
     },
     "output_type": "display_data"
    }
   ],
   "source": [
    "n = len(data.columns)\n",
    "nrows = (n + 1) // 2 \n",
    "fig, axes = plt.subplots(nrows=nrows, ncols=2, figsize=(8, nrows * 2))\n",
    "\n",
    "for ax, column in zip(axes.flatten(), data.columns):\n",
    "    ax.boxplot(data[column].dropna()) \n",
    "    ax.set_title(column)\n",
    "    ax.set_xlabel(column)\n",
    "    ax.set_ylabel('Значение')\n",
    "\n",
    "for i in range(len(data.columns), nrows * 2):\n",
    "    fig.delaxes(axes.flatten()[i])\n",
    "\n",
    "plt.tight_layout()\n",
    "plt.show()\n"
   ]
  },
  {
   "cell_type": "markdown",
   "id": "d2511a3b",
   "metadata": {},
   "source": [
    "Выводы по визуализациям:\n",
    "1. **heating_time**:Распределение имеет форму нормального распределения, с пиком около 1000. Это может указывать на то, что большинство процессов нагрева занимает около этого времени. На диаграмме размаха есть выбросы до 4000.\n",
    "\n",
    "2. **total_power**: Похоже на нормальное распределение, с некоторым смещением влево. Это может указывать на то, что большинство процессов использует меньше мощности, но с некоторыми выбросами. Есть выбросы с полной мощностью до 15.\n",
    "\n",
    "3. **bulk_3, bulk_4, bulk_6, bulk_12, bulk_14, bulk_15**: Эти переменные имеют много нулевых значений, что может указывать на отсутствие использования в большинстве случаев. \n",
    "\n",
    "4. **other_bulk**: Распределение показывает много нулевых значений с небольшим количеством положительных значений. Это также может быть признаком недостаточной значимости переменной.\n",
    "\n",
    "5. **gas_1**: Распределение имеет несколько пиков, что может указывать на различные режимы работы. \n",
    "\n",
    "6. **initial_temperature, spilling_temperature, average_temperature**: Все три переменные имеют нормальное распределение, что может быть признаком стабильного процесса. Пиковые значения находятся в диапазоне от 1540 до 1620.\n",
    "\n",
    "7. **wire_1**: Распределение также похоже на нормальное, с пиком около 100.\n",
    "\n",
    "8. **wire_2, wire_3**: Эти переменные имеют много нулевых значений, что может указывать на их недостаточную значимость в процессе.\n",
    "\n",
    "9. **other_wire**: Похоже на то, что эта переменная не вносит значимого вклада в данные, так как распределение очень сжато.\n",
    "   \n"
   ]
  },
  {
   "cell_type": "markdown",
   "id": "fd0c7bbe",
   "metadata": {},
   "source": [
    "- Учитывая высокую вариативность времени нагрева и мощности, стоит рассмотреть возможность оптимизации этих процессов.\n",
    "\n",
    "- Провести дополнительный анализ для определения причин низкой активности параметров `bulk`. Возможно, стоит рассмотреть их исключение из анализа, если они не влияют на результаты.\n",
    "\n",
    "- Следует изучить взаимосвязь между параметрами газа и температурой, так как они могут существенно влиять на результаты процессов."
   ]
  },
  {
   "cell_type": "markdown",
   "id": "f76e2dc3",
   "metadata": {},
   "source": [
    "Далее проведем корреляционный анализ для выявления мультиколлениарности:"
   ]
  },
  {
   "cell_type": "code",
   "execution_count": 64,
   "id": "f45cb272",
   "metadata": {},
   "outputs": [
    {
     "data": {
      "image/png": "[encoded data removed]",
      "text/plain": [
       "<Figure size 864x432 with 2 Axes>"
      ]
     },
     "metadata": {
      "needs_background": "light"
     },
     "output_type": "display_data"
    }
   ],
   "source": [
    "interval_cols =  data.columns.tolist()\n",
    "\n",
    "fig, ax = plt.subplots(figsize = (12,6))  \n",
    "sns.heatmap(data.phik_matrix(interval_cols=interval_cols)\\\n",
    "            , annot=True, fmt='.2f', ax=ax, cmap='coolwarm')\n",
    "\n",
    "plt.show()"
   ]
  },
  {
   "cell_type": "code",
   "execution_count": 65,
   "id": "3b6509f9",
   "metadata": {},
   "outputs": [],
   "source": [
    "data['bulk_wire'] = data['all_bulk'] + data['all_wire']"
   ]
  },
  {
   "cell_type": "code",
   "execution_count": 66,
   "id": "5333f999",
   "metadata": {},
   "outputs": [],
   "source": [
    "data = data[['initial_temperature', 'total_power', 'heating_time', 'gas_1', 'all_bulk', 'all_wire', 'spilling_temperature']]"
   ]
  },
  {
   "cell_type": "code",
   "execution_count": 67,
   "id": "b2d215d0",
   "metadata": {},
   "outputs": [
    {
     "data": {
      "text/html": [
       "<div>\n",
       "<style scoped>\n",
       "    .dataframe tbody tr th:only-of-type {\n",
       "        vertical-align: middle;\n",
       "    }\n",
       "\n",
       "    .dataframe tbody tr th {\n",
       "        vertical-align: top;\n",
       "    }\n",
       "\n",
       "    .dataframe thead th {\n",
       "        text-align: right;\n",
       "    }\n",
       "</style>\n",
       "<table border=\"1\" class=\"dataframe\">\n",
       "  <thead>\n",
       "    <tr style=\"text-align: right;\">\n",
       "      <th></th>\n",
       "      <th>initial_temperature</th>\n",
       "      <th>total_power</th>\n",
       "      <th>heating_time</th>\n",
       "      <th>gas_1</th>\n",
       "      <th>all_bulk</th>\n",
       "      <th>all_wire</th>\n",
       "      <th>spilling_temperature</th>\n",
       "    </tr>\n",
       "  </thead>\n",
       "  <tbody>\n",
       "    <tr>\n",
       "      <th>0</th>\n",
       "      <td>1571.0</td>\n",
       "      <td>3.718736</td>\n",
       "      <td>1098</td>\n",
       "      <td>29.749986</td>\n",
       "      <td>553.0</td>\n",
       "      <td>60.059998</td>\n",
       "      <td>1613.0</td>\n",
       "    </tr>\n",
       "    <tr>\n",
       "      <th>1</th>\n",
       "      <td>1581.0</td>\n",
       "      <td>2.588349</td>\n",
       "      <td>811</td>\n",
       "      <td>12.555561</td>\n",
       "      <td>582.0</td>\n",
       "      <td>96.052315</td>\n",
       "      <td>1602.0</td>\n",
       "    </tr>\n",
       "    <tr>\n",
       "      <th>2</th>\n",
       "      <td>1596.0</td>\n",
       "      <td>5.019223</td>\n",
       "      <td>655</td>\n",
       "      <td>28.554793</td>\n",
       "      <td>544.0</td>\n",
       "      <td>91.160157</td>\n",
       "      <td>1599.0</td>\n",
       "    </tr>\n",
       "    <tr>\n",
       "      <th>3</th>\n",
       "      <td>1601.0</td>\n",
       "      <td>3.400038</td>\n",
       "      <td>741</td>\n",
       "      <td>18.841219</td>\n",
       "      <td>595.0</td>\n",
       "      <td>89.063515</td>\n",
       "      <td>1625.0</td>\n",
       "    </tr>\n",
       "    <tr>\n",
       "      <th>4</th>\n",
       "      <td>1576.0</td>\n",
       "      <td>2.816980</td>\n",
       "      <td>869</td>\n",
       "      <td>5.413692</td>\n",
       "      <td>584.0</td>\n",
       "      <td>98.352796</td>\n",
       "      <td>1602.0</td>\n",
       "    </tr>\n",
       "  </tbody>\n",
       "</table>\n",
       "</div>"
      ],
      "text/plain": [
       "   initial_temperature  total_power  heating_time      gas_1  all_bulk  \\\n",
       "0               1571.0     3.718736          1098  29.749986     553.0   \n",
       "1               1581.0     2.588349           811  12.555561     582.0   \n",
       "2               1596.0     5.019223           655  28.554793     544.0   \n",
       "3               1601.0     3.400038           741  18.841219     595.0   \n",
       "4               1576.0     2.816980           869   5.413692     584.0   \n",
       "\n",
       "    all_wire  spilling_temperature  \n",
       "0  60.059998                1613.0  \n",
       "1  96.052315                1602.0  \n",
       "2  91.160157                1599.0  \n",
       "3  89.063515                1625.0  \n",
       "4  98.352796                1602.0  "
      ]
     },
     "execution_count": 67,
     "metadata": {},
     "output_type": "execute_result"
    }
   ],
   "source": [
    "data.head()"
   ]
  },
  {
   "cell_type": "markdown",
   "id": "f67971b9",
   "metadata": {},
   "source": [
    "**Выводы по разделу:**\n",
    "\n",
    "- Высокие корреляции (ближе к 1, более 0.9) между `initial_temperature`, `spilling_temperature` и `average_temperature` могут указывать на потенциальные проблемы мультиколлинеарности, если эти переменные будут включены в модель регрессии. Это может сделать модель нестабильной и затруднить интерпретацию коэффициентов. Выход - удалить среднюю температуру разлива флюида.\n",
    " \n",
    "- Наблюдаем мультиколлинеарность между wire и bulk, решено оставить только bulk"
   ]
  },
  {
   "cell_type": "markdown",
   "id": "824f6c2f",
   "metadata": {},
   "source": [
    "## Разделение выборок"
   ]
  },
  {
   "cell_type": "code",
   "execution_count": 68,
   "id": "233a1f06",
   "metadata": {},
   "outputs": [],
   "source": [
    "X = data.drop(columns=['spilling_temperature']) \n",
    "y = data['spilling_temperature']  \n",
    "\n",
    "X_train, X_test, y_train, y_test = train_test_split(X, y, random_state=RANDOM_STATE, test_size=TEST_SIZE)\n",
    "num_columns=['initial_temperature', 'total_power', 'heating_time', 'gas_1', 'all_bulk', 'all_wire' ]"
   ]
  },
  {
   "cell_type": "markdown",
   "id": "ba22f7dd",
   "metadata": {},
   "source": [
    "Выборки разделены"
   ]
  },
  {
   "cell_type": "markdown",
   "id": "306c8c35",
   "metadata": {},
   "source": [
    "## МО: подбор гиперпараметров, получение метрики на кросс-валидации, выбор лучшей модели"
   ]
  },
  {
   "cell_type": "markdown",
   "id": "a701c5a5",
   "metadata": {},
   "source": [
    "Построим пайплайн"
   ]
  },
  {
   "cell_type": "code",
   "execution_count": 69,
   "id": "58769230",
   "metadata": {},
   "outputs": [],
   "source": [
    "data_preprocessor = ColumnTransformer(\n",
    "    transformers=[\n",
    "        ('num', StandardScaler(), num_columns)\n",
    "    ], \n",
    "    remainder='passthrough'\n",
    ")"
   ]
  },
  {
   "cell_type": "markdown",
   "id": "a4afec06",
   "metadata": {},
   "source": [
    "В работу возьмем 3 модели: Catboost, XGBRegressor и Линейную регрессию"
   ]
  },
  {
   "cell_type": "code",
   "execution_count": 104,
   "id": "0cbf7974",
   "metadata": {},
   "outputs": [],
   "source": [
    "from catboost import CatBoostRegressor\n",
    "from sklearn.linear_model import Ridge, Lasso, LinearRegression\n",
    "from sklearn.pipeline import Pipeline\n",
    "from sklearn.preprocessing import StandardScaler, MinMaxScaler\n",
    "from xgboost import XGBRegressor\n",
    "\n",
    "pipe_final = Pipeline([\n",
    "    ('preprocessor', data_preprocessor),\n",
    "    ('models', LinearRegression())\n",
    "])\n",
    "\n",
    "param_grid = [\n",
    "    {\n",
    "        'models': [LinearRegression()],\n",
    "        'preprocessor__num': [StandardScaler(), MinMaxScaler(), 'passthrough'],\n",
    "    },\n",
    "    {\n",
    "        'models': [CatBoostRegressor(random_state=RANDOM_STATE, silent=True)],\n",
    "        'preprocessor__num': [StandardScaler(), MinMaxScaler(), 'passthrough'],\n",
    "        'models__iterations': [100, 200, 500],\n",
    "        'models__depth': [4, 6, 8],\n",
    "        'models__learning_rate': [0.001, 0.1, 0.2]\n",
    "    },\n",
    "    \n",
    "]\n"
   ]
  },
  {
   "cell_type": "code",
   "execution_count": 105,
   "id": "5f3a91b1",
   "metadata": {
    "scrolled": true
   },
   "outputs": [
    {
     "name": "stdout",
     "output_type": "stream",
     "text": [
      "Fitting 5 folds for each of 20 candidates, totalling 100 fits\n",
      "[CV] END models=<catboost.core.CatBoostRegressor object at 0x7f005229bf40>, models__depth=6, models__iterations=200, models__learning_rate=0.1, preprocessor__num=StandardScaler(); total time=   1.0s\n",
      "[CV] END models=<catboost.core.CatBoostRegressor object at 0x7f005229bf40>, models__depth=6, models__iterations=200, models__learning_rate=0.1, preprocessor__num=StandardScaler(); total time=   0.9s\n",
      "[CV] END models=<catboost.core.CatBoostRegressor object at 0x7f005229bf40>, models__depth=6, models__iterations=200, models__learning_rate=0.1, preprocessor__num=StandardScaler(); total time=   1.0s\n",
      "[CV] END models=<catboost.core.CatBoostRegressor object at 0x7f005229bf40>, models__depth=6, models__iterations=200, models__learning_rate=0.1, preprocessor__num=StandardScaler(); total time=   0.9s\n",
      "[CV] END models=<catboost.core.CatBoostRegressor object at 0x7f005229bf40>, models__depth=6, models__iterations=200, models__learning_rate=0.1, preprocessor__num=StandardScaler(); total time=   0.9s\n",
      "[CV] END models=<catboost.core.CatBoostRegressor object at 0x7f005229bf40>, models__depth=8, models__iterations=100, models__learning_rate=0.1, preprocessor__num=MinMaxScaler(); total time=   1.1s\n",
      "[CV] END models=<catboost.core.CatBoostRegressor object at 0x7f005229bf40>, models__depth=8, models__iterations=100, models__learning_rate=0.1, preprocessor__num=MinMaxScaler(); total time=   1.2s\n",
      "[CV] END models=<catboost.core.CatBoostRegressor object at 0x7f005229bf40>, models__depth=8, models__iterations=100, models__learning_rate=0.1, preprocessor__num=MinMaxScaler(); total time=   1.0s\n",
      "[CV] END models=<catboost.core.CatBoostRegressor object at 0x7f005229bf40>, models__depth=8, models__iterations=100, models__learning_rate=0.1, preprocessor__num=MinMaxScaler(); total time=   1.1s\n",
      "[CV] END models=<catboost.core.CatBoostRegressor object at 0x7f005229bf40>, models__depth=8, models__iterations=100, models__learning_rate=0.1, preprocessor__num=MinMaxScaler(); total time=   1.2s\n",
      "[CV] END models=<catboost.core.CatBoostRegressor object at 0x7f005229bf40>, models__depth=8, models__iterations=500, models__learning_rate=0.2, preprocessor__num=passthrough; total time=   2.9s\n",
      "[CV] END models=<catboost.core.CatBoostRegressor object at 0x7f005229bf40>, models__depth=8, models__iterations=500, models__learning_rate=0.2, preprocessor__num=passthrough; total time=   3.2s\n",
      "[CV] END models=<catboost.core.CatBoostRegressor object at 0x7f005229bf40>, models__depth=8, models__iterations=500, models__learning_rate=0.2, preprocessor__num=passthrough; total time=   3.3s\n",
      "[CV] END models=<catboost.core.CatBoostRegressor object at 0x7f005229bf40>, models__depth=8, models__iterations=500, models__learning_rate=0.2, preprocessor__num=passthrough; total time=   3.2s\n",
      "[CV] END models=<catboost.core.CatBoostRegressor object at 0x7f005229bf40>, models__depth=8, models__iterations=500, models__learning_rate=0.2, preprocessor__num=passthrough; total time=   3.1s\n",
      "[CV] END models=<catboost.core.CatBoostRegressor object at 0x7f005229bf40>, models__depth=6, models__iterations=100, models__learning_rate=0.2, preprocessor__num=MinMaxScaler(); total time=   0.8s\n",
      "[CV] END models=<catboost.core.CatBoostRegressor object at 0x7f005229bf40>, models__depth=6, models__iterations=100, models__learning_rate=0.2, preprocessor__num=MinMaxScaler(); total time=   0.8s\n",
      "[CV] END models=<catboost.core.CatBoostRegressor object at 0x7f005229bf40>, models__depth=6, models__iterations=100, models__learning_rate=0.2, preprocessor__num=MinMaxScaler(); total time=   0.8s\n",
      "[CV] END models=<catboost.core.CatBoostRegressor object at 0x7f005229bf40>, models__depth=6, models__iterations=100, models__learning_rate=0.2, preprocessor__num=MinMaxScaler(); total time=   0.7s\n",
      "[CV] END models=<catboost.core.CatBoostRegressor object at 0x7f005229bf40>, models__depth=6, models__iterations=100, models__learning_rate=0.2, preprocessor__num=MinMaxScaler(); total time=   1.1s\n",
      "[CV] END models=<catboost.core.CatBoostRegressor object at 0x7f005229bf40>, models__depth=4, models__iterations=100, models__learning_rate=0.001, preprocessor__num=MinMaxScaler(); total time=   0.7s\n",
      "[CV] END models=<catboost.core.CatBoostRegressor object at 0x7f005229bf40>, models__depth=4, models__iterations=100, models__learning_rate=0.001, preprocessor__num=MinMaxScaler(); total time=   0.7s\n",
      "[CV] END models=<catboost.core.CatBoostRegressor object at 0x7f005229bf40>, models__depth=4, models__iterations=100, models__learning_rate=0.001, preprocessor__num=MinMaxScaler(); total time=   0.7s\n",
      "[CV] END models=<catboost.core.CatBoostRegressor object at 0x7f005229bf40>, models__depth=4, models__iterations=100, models__learning_rate=0.001, preprocessor__num=MinMaxScaler(); total time=   0.8s\n",
      "[CV] END models=<catboost.core.CatBoostRegressor object at 0x7f005229bf40>, models__depth=4, models__iterations=100, models__learning_rate=0.001, preprocessor__num=MinMaxScaler(); total time=   0.8s\n",
      "[CV] END models=<catboost.core.CatBoostRegressor object at 0x7f005229bf40>, models__depth=4, models__iterations=200, models__learning_rate=0.2, preprocessor__num=StandardScaler(); total time=   0.9s\n",
      "[CV] END models=<catboost.core.CatBoostRegressor object at 0x7f005229bf40>, models__depth=4, models__iterations=200, models__learning_rate=0.2, preprocessor__num=StandardScaler(); total time=   1.0s\n",
      "[CV] END models=<catboost.core.CatBoostRegressor object at 0x7f005229bf40>, models__depth=4, models__iterations=200, models__learning_rate=0.2, preprocessor__num=StandardScaler(); total time=   0.9s\n",
      "[CV] END models=<catboost.core.CatBoostRegressor object at 0x7f005229bf40>, models__depth=4, models__iterations=200, models__learning_rate=0.2, preprocessor__num=StandardScaler(); total time=   0.8s\n",
      "[CV] END models=<catboost.core.CatBoostRegressor object at 0x7f005229bf40>, models__depth=4, models__iterations=200, models__learning_rate=0.2, preprocessor__num=StandardScaler(); total time=   0.8s\n",
      "[CV] END models=<catboost.core.CatBoostRegressor object at 0x7f005229bf40>, models__depth=4, models__iterations=100, models__learning_rate=0.1, preprocessor__num=MinMaxScaler(); total time=   0.7s\n",
      "[CV] END models=<catboost.core.CatBoostRegressor object at 0x7f005229bf40>, models__depth=4, models__iterations=100, models__learning_rate=0.1, preprocessor__num=MinMaxScaler(); total time=   0.9s\n",
      "[CV] END models=<catboost.core.CatBoostRegressor object at 0x7f005229bf40>, models__depth=4, models__iterations=100, models__learning_rate=0.1, preprocessor__num=MinMaxScaler(); total time=   0.7s\n",
      "[CV] END models=<catboost.core.CatBoostRegressor object at 0x7f005229bf40>, models__depth=4, models__iterations=100, models__learning_rate=0.1, preprocessor__num=MinMaxScaler(); total time=   1.2s\n",
      "[CV] END models=<catboost.core.CatBoostRegressor object at 0x7f005229bf40>, models__depth=4, models__iterations=100, models__learning_rate=0.1, preprocessor__num=MinMaxScaler(); total time=   0.7s\n",
      "[CV] END models=<catboost.core.CatBoostRegressor object at 0x7f005229bf40>, models__depth=4, models__iterations=500, models__learning_rate=0.001, preprocessor__num=StandardScaler(); total time=   1.2s\n",
      "[CV] END models=<catboost.core.CatBoostRegressor object at 0x7f005229bf40>, models__depth=4, models__iterations=500, models__learning_rate=0.001, preprocessor__num=StandardScaler(); total time=   1.2s\n",
      "[CV] END models=<catboost.core.CatBoostRegressor object at 0x7f005229bf40>, models__depth=4, models__iterations=500, models__learning_rate=0.001, preprocessor__num=StandardScaler(); total time=   1.3s\n",
      "[CV] END models=<catboost.core.CatBoostRegressor object at 0x7f005229bf40>, models__depth=4, models__iterations=500, models__learning_rate=0.001, preprocessor__num=StandardScaler(); total time=   1.2s\n",
      "[CV] END models=<catboost.core.CatBoostRegressor object at 0x7f005229bf40>, models__depth=4, models__iterations=500, models__learning_rate=0.001, preprocessor__num=StandardScaler(); total time=   1.2s\n",
      "[CV] END models=<catboost.core.CatBoostRegressor object at 0x7f005229bf40>, models__depth=4, models__iterations=100, models__learning_rate=0.2, preprocessor__num=passthrough; total time=   0.9s\n",
      "[CV] END models=<catboost.core.CatBoostRegressor object at 0x7f005229bf40>, models__depth=4, models__iterations=100, models__learning_rate=0.2, preprocessor__num=passthrough; total time=   0.7s\n",
      "[CV] END models=<catboost.core.CatBoostRegressor object at 0x7f005229bf40>, models__depth=4, models__iterations=100, models__learning_rate=0.2, preprocessor__num=passthrough; total time=   1.1s\n",
      "[CV] END models=<catboost.core.CatBoostRegressor object at 0x7f005229bf40>, models__depth=4, models__iterations=100, models__learning_rate=0.2, preprocessor__num=passthrough; total time=   0.7s\n",
      "[CV] END models=<catboost.core.CatBoostRegressor object at 0x7f005229bf40>, models__depth=4, models__iterations=100, models__learning_rate=0.2, preprocessor__num=passthrough; total time=   0.8s\n",
      "[CV] END models=<catboost.core.CatBoostRegressor object at 0x7f005229bf40>, models__depth=4, models__iterations=500, models__learning_rate=0.2, preprocessor__num=passthrough; total time=   1.0s\n",
      "[CV] END models=<catboost.core.CatBoostRegressor object at 0x7f005229bf40>, models__depth=4, models__iterations=500, models__learning_rate=0.2, preprocessor__num=passthrough; total time=   1.1s\n",
      "[CV] END models=<catboost.core.CatBoostRegressor object at 0x7f005229bf40>, models__depth=4, models__iterations=500, models__learning_rate=0.2, preprocessor__num=passthrough; total time=   1.3s\n",
      "[CV] END models=<catboost.core.CatBoostRegressor object at 0x7f005229bf40>, models__depth=4, models__iterations=500, models__learning_rate=0.2, preprocessor__num=passthrough; total time=   1.0s\n",
      "[CV] END models=<catboost.core.CatBoostRegressor object at 0x7f005229bf40>, models__depth=4, models__iterations=500, models__learning_rate=0.2, preprocessor__num=passthrough; total time=   1.2s\n",
      "[CV] END models=<catboost.core.CatBoostRegressor object at 0x7f005229bf40>, models__depth=8, models__iterations=100, models__learning_rate=0.2, preprocessor__num=MinMaxScaler(); total time=   1.2s\n",
      "[CV] END models=<catboost.core.CatBoostRegressor object at 0x7f005229bf40>, models__depth=8, models__iterations=100, models__learning_rate=0.2, preprocessor__num=MinMaxScaler(); total time=   1.3s\n",
      "[CV] END models=<catboost.core.CatBoostRegressor object at 0x7f005229bf40>, models__depth=8, models__iterations=100, models__learning_rate=0.2, preprocessor__num=MinMaxScaler(); total time=   1.2s\n",
      "[CV] END models=<catboost.core.CatBoostRegressor object at 0x7f005229bf40>, models__depth=8, models__iterations=100, models__learning_rate=0.2, preprocessor__num=MinMaxScaler(); total time=   1.2s\n",
      "[CV] END models=<catboost.core.CatBoostRegressor object at 0x7f005229bf40>, models__depth=8, models__iterations=100, models__learning_rate=0.2, preprocessor__num=MinMaxScaler(); total time=   1.1s\n",
      "[CV] END models=<catboost.core.CatBoostRegressor object at 0x7f005229bf40>, models__depth=8, models__iterations=200, models__learning_rate=0.001, preprocessor__num=StandardScaler(); total time=   1.6s\n",
      "[CV] END models=<catboost.core.CatBoostRegressor object at 0x7f005229bf40>, models__depth=8, models__iterations=200, models__learning_rate=0.001, preprocessor__num=StandardScaler(); total time=   1.6s\n",
      "[CV] END models=<catboost.core.CatBoostRegressor object at 0x7f005229bf40>, models__depth=8, models__iterations=200, models__learning_rate=0.001, preprocessor__num=StandardScaler(); total time=   1.6s\n",
      "[CV] END models=<catboost.core.CatBoostRegressor object at 0x7f005229bf40>, models__depth=8, models__iterations=200, models__learning_rate=0.001, preprocessor__num=StandardScaler(); total time=   1.7s\n",
      "[CV] END models=<catboost.core.CatBoostRegressor object at 0x7f005229bf40>, models__depth=8, models__iterations=200, models__learning_rate=0.001, preprocessor__num=StandardScaler(); total time=   1.9s\n",
      "[CV] END models=<catboost.core.CatBoostRegressor object at 0x7f005229bf40>, models__depth=6, models__iterations=200, models__learning_rate=0.2, preprocessor__num=passthrough; total time=   1.0s\n",
      "[CV] END models=<catboost.core.CatBoostRegressor object at 0x7f005229bf40>, models__depth=6, models__iterations=200, models__learning_rate=0.2, preprocessor__num=passthrough; total time=   1.1s\n",
      "[CV] END models=<catboost.core.CatBoostRegressor object at 0x7f005229bf40>, models__depth=6, models__iterations=200, models__learning_rate=0.2, preprocessor__num=passthrough; total time=   1.0s\n",
      "[CV] END models=<catboost.core.CatBoostRegressor object at 0x7f005229bf40>, models__depth=6, models__iterations=200, models__learning_rate=0.2, preprocessor__num=passthrough; total time=   1.0s\n",
      "[CV] END models=<catboost.core.CatBoostRegressor object at 0x7f005229bf40>, models__depth=6, models__iterations=200, models__learning_rate=0.2, preprocessor__num=passthrough; total time=   1.1s\n",
      "[CV] END models=<catboost.core.CatBoostRegressor object at 0x7f005229bf40>, models__depth=4, models__iterations=500, models__learning_rate=0.001, preprocessor__num=MinMaxScaler(); total time=   1.3s\n",
      "[CV] END models=<catboost.core.CatBoostRegressor object at 0x7f005229bf40>, models__depth=4, models__iterations=500, models__learning_rate=0.001, preprocessor__num=MinMaxScaler(); total time=   1.0s\n",
      "[CV] END models=<catboost.core.CatBoostRegressor object at 0x7f005229bf40>, models__depth=4, models__iterations=500, models__learning_rate=0.001, preprocessor__num=MinMaxScaler(); total time=   1.3s\n",
      "[CV] END models=<catboost.core.CatBoostRegressor object at 0x7f005229bf40>, models__depth=4, models__iterations=500, models__learning_rate=0.001, preprocessor__num=MinMaxScaler(); total time=   1.1s\n",
      "[CV] END models=<catboost.core.CatBoostRegressor object at 0x7f005229bf40>, models__depth=4, models__iterations=500, models__learning_rate=0.001, preprocessor__num=MinMaxScaler(); total time=   1.0s\n",
      "[CV] END models=<catboost.core.CatBoostRegressor object at 0x7f005229bf40>, models__depth=6, models__iterations=100, models__learning_rate=0.001, preprocessor__num=MinMaxScaler(); total time=   0.7s\n",
      "[CV] END models=<catboost.core.CatBoostRegressor object at 0x7f005229bf40>, models__depth=6, models__iterations=100, models__learning_rate=0.001, preprocessor__num=MinMaxScaler(); total time=   1.0s\n",
      "[CV] END models=<catboost.core.CatBoostRegressor object at 0x7f005229bf40>, models__depth=6, models__iterations=100, models__learning_rate=0.001, preprocessor__num=MinMaxScaler(); total time=   0.9s\n",
      "[CV] END models=<catboost.core.CatBoostRegressor object at 0x7f005229bf40>, models__depth=6, models__iterations=100, models__learning_rate=0.001, preprocessor__num=MinMaxScaler(); total time=   0.9s\n",
      "[CV] END models=<catboost.core.CatBoostRegressor object at 0x7f005229bf40>, models__depth=6, models__iterations=100, models__learning_rate=0.001, preprocessor__num=MinMaxScaler(); total time=   1.0s\n",
      "[CV] END models=<catboost.core.CatBoostRegressor object at 0x7f005229bf40>, models__depth=6, models__iterations=100, models__learning_rate=0.1, preprocessor__num=MinMaxScaler(); total time=   0.8s\n",
      "[CV] END models=<catboost.core.CatBoostRegressor object at 0x7f005229bf40>, models__depth=6, models__iterations=100, models__learning_rate=0.1, preprocessor__num=MinMaxScaler(); total time=   1.0s\n",
      "[CV] END models=<catboost.core.CatBoostRegressor object at 0x7f005229bf40>, models__depth=6, models__iterations=100, models__learning_rate=0.1, preprocessor__num=MinMaxScaler(); total time=   0.7s\n",
      "[CV] END models=<catboost.core.CatBoostRegressor object at 0x7f005229bf40>, models__depth=6, models__iterations=100, models__learning_rate=0.1, preprocessor__num=MinMaxScaler(); total time=   0.9s\n",
      "[CV] END models=<catboost.core.CatBoostRegressor object at 0x7f005229bf40>, models__depth=6, models__iterations=100, models__learning_rate=0.1, preprocessor__num=MinMaxScaler(); total time=   0.7s\n",
      "[CV] END models=<catboost.core.CatBoostRegressor object at 0x7f005229bf40>, models__depth=6, models__iterations=100, models__learning_rate=0.2, preprocessor__num=StandardScaler(); total time=   0.8s\n",
      "[CV] END models=<catboost.core.CatBoostRegressor object at 0x7f005229bf40>, models__depth=6, models__iterations=100, models__learning_rate=0.2, preprocessor__num=StandardScaler(); total time=   0.8s\n",
      "[CV] END models=<catboost.core.CatBoostRegressor object at 0x7f005229bf40>, models__depth=6, models__iterations=100, models__learning_rate=0.2, preprocessor__num=StandardScaler(); total time=   1.0s\n",
      "[CV] END models=<catboost.core.CatBoostRegressor object at 0x7f005229bf40>, models__depth=6, models__iterations=100, models__learning_rate=0.2, preprocessor__num=StandardScaler(); total time=   0.9s\n",
      "[CV] END models=<catboost.core.CatBoostRegressor object at 0x7f005229bf40>, models__depth=6, models__iterations=100, models__learning_rate=0.2, preprocessor__num=StandardScaler(); total time=   0.7s\n",
      "[CV] END models=<catboost.core.CatBoostRegressor object at 0x7f005229bf40>, models__depth=6, models__iterations=500, models__learning_rate=0.1, preprocessor__num=MinMaxScaler(); total time=   1.6s\n",
      "[CV] END models=<catboost.core.CatBoostRegressor object at 0x7f005229bf40>, models__depth=6, models__iterations=500, models__learning_rate=0.1, preprocessor__num=MinMaxScaler(); total time=   1.5s\n",
      "[CV] END models=<catboost.core.CatBoostRegressor object at 0x7f005229bf40>, models__depth=6, models__iterations=500, models__learning_rate=0.1, preprocessor__num=MinMaxScaler(); total time=   1.9s\n",
      "[CV] END models=<catboost.core.CatBoostRegressor object at 0x7f005229bf40>, models__depth=6, models__iterations=500, models__learning_rate=0.1, preprocessor__num=MinMaxScaler(); total time=   2.3s\n",
      "[CV] END models=<catboost.core.CatBoostRegressor object at 0x7f005229bf40>, models__depth=6, models__iterations=500, models__learning_rate=0.1, preprocessor__num=MinMaxScaler(); total time=   1.8s\n",
      "[CV] END models=<catboost.core.CatBoostRegressor object at 0x7f005229bf40>, models__depth=8, models__iterations=100, models__learning_rate=0.001, preprocessor__num=StandardScaler(); total time=   1.2s\n",
      "[CV] END models=<catboost.core.CatBoostRegressor object at 0x7f005229bf40>, models__depth=8, models__iterations=100, models__learning_rate=0.001, preprocessor__num=StandardScaler(); total time=   1.1s\n",
      "[CV] END models=<catboost.core.CatBoostRegressor object at 0x7f005229bf40>, models__depth=8, models__iterations=100, models__learning_rate=0.001, preprocessor__num=StandardScaler(); total time=   1.2s\n",
      "[CV] END models=<catboost.core.CatBoostRegressor object at 0x7f005229bf40>, models__depth=8, models__iterations=100, models__learning_rate=0.001, preprocessor__num=StandardScaler(); total time=   1.2s\n",
      "[CV] END models=<catboost.core.CatBoostRegressor object at 0x7f005229bf40>, models__depth=8, models__iterations=100, models__learning_rate=0.001, preprocessor__num=StandardScaler(); total time=   1.3s\n",
      "[CV] END models=<catboost.core.CatBoostRegressor object at 0x7f005229bf40>, models__depth=6, models__iterations=500, models__learning_rate=0.1, preprocessor__num=StandardScaler(); total time=   1.6s\n",
      "[CV] END models=<catboost.core.CatBoostRegressor object at 0x7f005229bf40>, models__depth=6, models__iterations=500, models__learning_rate=0.1, preprocessor__num=StandardScaler(); total time=   1.8s\n",
      "[CV] END models=<catboost.core.CatBoostRegressor object at 0x7f005229bf40>, models__depth=6, models__iterations=500, models__learning_rate=0.1, preprocessor__num=StandardScaler(); total time=   1.6s\n",
      "[CV] END models=<catboost.core.CatBoostRegressor object at 0x7f005229bf40>, models__depth=6, models__iterations=500, models__learning_rate=0.1, preprocessor__num=StandardScaler(); total time=   1.7s\n",
      "[CV] END models=<catboost.core.CatBoostRegressor object at 0x7f005229bf40>, models__depth=6, models__iterations=500, models__learning_rate=0.1, preprocessor__num=StandardScaler(); total time=   1.6s\n",
      "Лучшая модель и её параметры:\n",
      "\n",
      " Pipeline(steps=[('preprocessor',\n",
      "                 ColumnTransformer(remainder='passthrough',\n",
      "                                   transformers=[('num', MinMaxScaler(),\n",
      "                                                  ['initial_temperature',\n",
      "                                                   'total_power',\n",
      "                                                   'heating_time', 'gas_1',\n",
      "                                                   'all_bulk', 'all_wire'])])),\n",
      "                ('models',\n",
      "                 <catboost.core.CatBoostRegressor object at 0x7f0051d01100>)])\n"
     ]
    }
   ],
   "source": [
    "random_search = RandomizedSearchCV(\n",
    "    pipe_final, \n",
    "    param_distributions=param_grid, \n",
    "    n_iter=100,\n",
    "    cv=5,\n",
    "    scoring = 'neg_mean_absolute_error',\n",
    "    n_jobs=-1,\n",
    "    verbose=2,  \n",
    "    random_state=RANDOM_STATE\n",
    ")\n",
    "\n",
    "random_search.fit(X_train, y_train)\n",
    "\n",
    "print('Лучшая модель и её параметры:\\n\\n', random_search.best_estimator_)"
   ]
  },
  {
   "cell_type": "code",
   "execution_count": 106,
   "id": "685ec585",
   "metadata": {},
   "outputs": [
    {
     "name": "stdout",
     "output_type": "stream",
     "text": [
      "Параметры лучшей модели по метрике {'preprocessor__num': MinMaxScaler(), 'models__learning_rate': 0.1, 'models__iterations': 100, 'models__depth': 6, 'models': <catboost.core.CatBoostRegressor object at 0x7f005229bf40>}\n"
     ]
    }
   ],
   "source": [
    "print(f'Параметры лучшей модели по метрике {random_search.best_params_}')"
   ]
  },
  {
   "cell_type": "code",
   "execution_count": 107,
   "id": "a14fb3a3",
   "metadata": {},
   "outputs": [
    {
     "name": "stdout",
     "output_type": "stream",
     "text": [
      "Метрика MAE лучшей модели: 6.873493212380848\n"
     ]
    }
   ],
   "source": [
    "print('Метрика MAE лучшей модели:', random_search.best_score_*(-1))"
   ]
  },
  {
   "cell_type": "code",
   "execution_count": 108,
   "id": "3125a01c",
   "metadata": {},
   "outputs": [],
   "source": [
    "result = pd.DataFrame(random_search.cv_results_)\n",
    "\n",
    "pd.set_option('display.max_columns', None)\n",
    "pd.set_option('display.width', None)\n",
    "pd.set_option('display.max_colwidth', None)\n",
    "\n",
    "result['mean_test_score'] = abs(result['mean_test_score'])\n",
    "\n",
    "result['model'] = result['params'].apply(lambda x: x['models'].__class__.__name__)"
   ]
  },
  {
   "cell_type": "markdown",
   "id": "892e32f0",
   "metadata": {},
   "source": [
    "{'preprocessor__num': 'passthrough', 'models__learning_rate': 0.01, 'models__l2_leaf_reg': 1, 'models__iterations': 1000, 'models__depth': 4, 'models__border_count': 50, 'models__bagging_temperature': 2, 'models': <catboost.core.CatBoostRegressor object at 0x7fc2a7efa310>}\t"
   ]
  },
  {
   "cell_type": "markdown",
   "id": "7e5f1ed9",
   "metadata": {},
   "source": [
    "По каждой модели выведем ее наиболее хорошую вариацию, для сравнения работы моделей"
   ]
  },
  {
   "cell_type": "code",
   "execution_count": 109,
   "id": "d756f18d",
   "metadata": {
    "scrolled": true
   },
   "outputs": [
    {
     "data": {
      "text/html": [
       "<div>\n",
       "<style scoped>\n",
       "    .dataframe tbody tr th:only-of-type {\n",
       "        vertical-align: middle;\n",
       "    }\n",
       "\n",
       "    .dataframe tbody tr th {\n",
       "        vertical-align: top;\n",
       "    }\n",
       "\n",
       "    .dataframe thead th {\n",
       "        text-align: right;\n",
       "    }\n",
       "</style>\n",
       "<table border=\"1\" class=\"dataframe\">\n",
       "  <thead>\n",
       "    <tr style=\"text-align: right;\">\n",
       "      <th></th>\n",
       "      <th>model</th>\n",
       "      <th>params</th>\n",
       "      <th>mean_test_score</th>\n",
       "      <th>mean_fit_time</th>\n",
       "    </tr>\n",
       "  </thead>\n",
       "  <tbody>\n",
       "    <tr>\n",
       "      <th>15</th>\n",
       "      <td>CatBoostRegressor</td>\n",
       "      <td>{'preprocessor__num': MinMaxScaler(), 'models__learning_rate': 0.1, 'models__iterations': 100, 'models__depth': 6, 'models': &lt;catboost.core.CatBoostRegressor object at 0x7f005229bf40&gt;}</td>\n",
       "      <td>6.873493</td>\n",
       "      <td>0.823338</td>\n",
       "    </tr>\n",
       "  </tbody>\n",
       "</table>\n",
       "</div>"
      ],
      "text/plain": [
       "                model  \\\n",
       "15  CatBoostRegressor   \n",
       "\n",
       "                                                                                                                                                                                      params  \\\n",
       "15  {'preprocessor__num': MinMaxScaler(), 'models__learning_rate': 0.1, 'models__iterations': 100, 'models__depth': 6, 'models': <catboost.core.CatBoostRegressor object at 0x7f005229bf40>}   \n",
       "\n",
       "    mean_test_score  mean_fit_time  \n",
       "15         6.873493       0.823338  "
      ]
     },
     "metadata": {},
     "output_type": "display_data"
    }
   ],
   "source": [
    "best_indices = result.groupby('model')['mean_test_score'].idxmin()\n",
    "best_models = result.iloc[best_indices]\n",
    "display(best_models[['model','params', 'mean_test_score', 'mean_fit_time']])"
   ]
  },
  {
   "cell_type": "markdown",
   "id": "5d39a535",
   "metadata": {},
   "source": [
    "Модели из пайплайна не удовлетворяют требованиям, попробуем применить xgboost модель"
   ]
  },
  {
   "cell_type": "code",
   "execution_count": 110,
   "id": "c7adb728",
   "metadata": {},
   "outputs": [],
   "source": [
    "import xgboost as xgb\n",
    "from xgboost import XGBRegressor\n",
    "from sklearn.model_selection import train_test_split, StratifiedKFold, RandomizedSearchCV, GridSearchCV"
   ]
  },
  {
   "cell_type": "code",
   "execution_count": 111,
   "id": "b2068127",
   "metadata": {},
   "outputs": [],
   "source": [
    "params_xgb = {'n_estimators':[50, 100, 150],\n",
    "               'learning_rate':[0.1, 0.01, 0.001],\n",
    "               'max_depth':[3,4,5],\n",
    "               'random_state':[24122024]}\n",
    "xgb = XGBRegressor()"
   ]
  },
  {
   "cell_type": "code",
   "execution_count": 112,
   "id": "728e392e",
   "metadata": {},
   "outputs": [],
   "source": [
    "searcher_xgb = GridSearchCV(xgb, params_xgb, cv=5)\n",
    "searcher_xgb.fit(X_train, y_train)\n",
    "best_est_xgb = searcher_xgb.best_estimator_\n",
    "prediction_xgb = best_est_xgb.predict(X_test)"
   ]
  },
  {
   "cell_type": "markdown",
   "id": "82ecd516",
   "metadata": {},
   "source": [
    "Параметры лучшей модели"
   ]
  },
  {
   "cell_type": "code",
   "execution_count": 128,
   "id": "d56d0b74",
   "metadata": {},
   "outputs": [
    {
     "data": {
      "text/plain": [
       "{'learning_rate': 0.1, 'max_depth': 3, 'n_estimators': 100, 'random_state': 42}"
      ]
     },
     "execution_count": 128,
     "metadata": {},
     "output_type": "execute_result"
    }
   ],
   "source": [
    "searcher_xgb.best_params_"
   ]
  },
  {
   "cell_type": "markdown",
   "id": "98602df5",
   "metadata": {},
   "source": [
    "Результаты валидации:"
   ]
  },
  {
   "cell_type": "code",
   "execution_count": 120,
   "id": "abc521ab",
   "metadata": {},
   "outputs": [
    {
     "data": {
      "text/html": [
       "<div>\n",
       "<style scoped>\n",
       "    .dataframe tbody tr th:only-of-type {\n",
       "        vertical-align: middle;\n",
       "    }\n",
       "\n",
       "    .dataframe tbody tr th {\n",
       "        vertical-align: top;\n",
       "    }\n",
       "\n",
       "    .dataframe thead th {\n",
       "        text-align: right;\n",
       "    }\n",
       "</style>\n",
       "<table border=\"1\" class=\"dataframe\">\n",
       "  <thead>\n",
       "    <tr style=\"text-align: right;\">\n",
       "      <th></th>\n",
       "      <th>mean_fit_time</th>\n",
       "      <th>std_fit_time</th>\n",
       "      <th>mean_score_time</th>\n",
       "      <th>std_score_time</th>\n",
       "      <th>param_learning_rate</th>\n",
       "      <th>param_max_depth</th>\n",
       "      <th>param_n_estimators</th>\n",
       "      <th>param_random_state</th>\n",
       "      <th>params</th>\n",
       "      <th>split0_test_score</th>\n",
       "      <th>split1_test_score</th>\n",
       "      <th>split2_test_score</th>\n",
       "      <th>split3_test_score</th>\n",
       "      <th>split4_test_score</th>\n",
       "      <th>mean_test_score</th>\n",
       "      <th>std_test_score</th>\n",
       "      <th>rank_test_score</th>\n",
       "    </tr>\n",
       "  </thead>\n",
       "  <tbody>\n",
       "    <tr>\n",
       "      <th>1</th>\n",
       "      <td>36.585580</td>\n",
       "      <td>0.383583</td>\n",
       "      <td>0.011361</td>\n",
       "      <td>0.000753</td>\n",
       "      <td>0.1</td>\n",
       "      <td>3</td>\n",
       "      <td>100</td>\n",
       "      <td>42</td>\n",
       "      <td>{'learning_rate': 0.1, 'max_depth': 3, 'n_estimators': 100, 'random_state': 42}</td>\n",
       "      <td>0.313130</td>\n",
       "      <td>0.297373</td>\n",
       "      <td>0.308392</td>\n",
       "      <td>0.332763</td>\n",
       "      <td>0.354405</td>\n",
       "      <td>0.321213</td>\n",
       "      <td>0.020165</td>\n",
       "      <td>1</td>\n",
       "    </tr>\n",
       "    <tr>\n",
       "      <th>2</th>\n",
       "      <td>58.187652</td>\n",
       "      <td>0.912670</td>\n",
       "      <td>0.051578</td>\n",
       "      <td>0.032886</td>\n",
       "      <td>0.1</td>\n",
       "      <td>3</td>\n",
       "      <td>150</td>\n",
       "      <td>42</td>\n",
       "      <td>{'learning_rate': 0.1, 'max_depth': 3, 'n_estimators': 150, 'random_state': 42}</td>\n",
       "      <td>0.306904</td>\n",
       "      <td>0.309623</td>\n",
       "      <td>0.304701</td>\n",
       "      <td>0.329273</td>\n",
       "      <td>0.348732</td>\n",
       "      <td>0.319846</td>\n",
       "      <td>0.016880</td>\n",
       "      <td>2</td>\n",
       "    </tr>\n",
       "    <tr>\n",
       "      <th>4</th>\n",
       "      <td>48.384526</td>\n",
       "      <td>0.199989</td>\n",
       "      <td>0.053982</td>\n",
       "      <td>0.034471</td>\n",
       "      <td>0.1</td>\n",
       "      <td>4</td>\n",
       "      <td>100</td>\n",
       "      <td>42</td>\n",
       "      <td>{'learning_rate': 0.1, 'max_depth': 4, 'n_estimators': 100, 'random_state': 42}</td>\n",
       "      <td>0.308043</td>\n",
       "      <td>0.318021</td>\n",
       "      <td>0.239237</td>\n",
       "      <td>0.340876</td>\n",
       "      <td>0.351813</td>\n",
       "      <td>0.311598</td>\n",
       "      <td>0.039407</td>\n",
       "      <td>3</td>\n",
       "    </tr>\n",
       "    <tr>\n",
       "      <th>5</th>\n",
       "      <td>78.410578</td>\n",
       "      <td>1.245103</td>\n",
       "      <td>0.029550</td>\n",
       "      <td>0.023915</td>\n",
       "      <td>0.1</td>\n",
       "      <td>4</td>\n",
       "      <td>150</td>\n",
       "      <td>42</td>\n",
       "      <td>{'learning_rate': 0.1, 'max_depth': 4, 'n_estimators': 150, 'random_state': 42}</td>\n",
       "      <td>0.309610</td>\n",
       "      <td>0.315137</td>\n",
       "      <td>0.235037</td>\n",
       "      <td>0.329501</td>\n",
       "      <td>0.346023</td>\n",
       "      <td>0.307062</td>\n",
       "      <td>0.038159</td>\n",
       "      <td>4</td>\n",
       "    </tr>\n",
       "    <tr>\n",
       "      <th>7</th>\n",
       "      <td>61.338151</td>\n",
       "      <td>0.756649</td>\n",
       "      <td>0.040537</td>\n",
       "      <td>0.030829</td>\n",
       "      <td>0.1</td>\n",
       "      <td>5</td>\n",
       "      <td>100</td>\n",
       "      <td>42</td>\n",
       "      <td>{'learning_rate': 0.1, 'max_depth': 5, 'n_estimators': 100, 'random_state': 42}</td>\n",
       "      <td>0.291581</td>\n",
       "      <td>0.320332</td>\n",
       "      <td>0.234241</td>\n",
       "      <td>0.318247</td>\n",
       "      <td>0.334849</td>\n",
       "      <td>0.299850</td>\n",
       "      <td>0.035653</td>\n",
       "      <td>5</td>\n",
       "    </tr>\n",
       "  </tbody>\n",
       "</table>\n",
       "</div>"
      ],
      "text/plain": [
       "   mean_fit_time  std_fit_time  mean_score_time  std_score_time  \\\n",
       "1      36.585580      0.383583         0.011361        0.000753   \n",
       "2      58.187652      0.912670         0.051578        0.032886   \n",
       "4      48.384526      0.199989         0.053982        0.034471   \n",
       "5      78.410578      1.245103         0.029550        0.023915   \n",
       "7      61.338151      0.756649         0.040537        0.030829   \n",
       "\n",
       "  param_learning_rate param_max_depth param_n_estimators param_random_state  \\\n",
       "1                 0.1               3                100                 42   \n",
       "2                 0.1               3                150                 42   \n",
       "4                 0.1               4                100                 42   \n",
       "5                 0.1               4                150                 42   \n",
       "7                 0.1               5                100                 42   \n",
       "\n",
       "                                                                            params  \\\n",
       "1  {'learning_rate': 0.1, 'max_depth': 3, 'n_estimators': 100, 'random_state': 42}   \n",
       "2  {'learning_rate': 0.1, 'max_depth': 3, 'n_estimators': 150, 'random_state': 42}   \n",
       "4  {'learning_rate': 0.1, 'max_depth': 4, 'n_estimators': 100, 'random_state': 42}   \n",
       "5  {'learning_rate': 0.1, 'max_depth': 4, 'n_estimators': 150, 'random_state': 42}   \n",
       "7  {'learning_rate': 0.1, 'max_depth': 5, 'n_estimators': 100, 'random_state': 42}   \n",
       "\n",
       "   split0_test_score  split1_test_score  split2_test_score  split3_test_score  \\\n",
       "1           0.313130           0.297373           0.308392           0.332763   \n",
       "2           0.306904           0.309623           0.304701           0.329273   \n",
       "4           0.308043           0.318021           0.239237           0.340876   \n",
       "5           0.309610           0.315137           0.235037           0.329501   \n",
       "7           0.291581           0.320332           0.234241           0.318247   \n",
       "\n",
       "   split4_test_score  mean_test_score  std_test_score  rank_test_score  \n",
       "1           0.354405         0.321213        0.020165                1  \n",
       "2           0.348732         0.319846        0.016880                2  \n",
       "4           0.351813         0.311598        0.039407                3  \n",
       "5           0.346023         0.307062        0.038159                4  \n",
       "7           0.334849         0.299850        0.035653                5  "
      ]
     },
     "execution_count": 120,
     "metadata": {},
     "output_type": "execute_result"
    }
   ],
   "source": [
    "result = pd.DataFrame(searcher_xgb.cv_results_)\n",
    "result.sort_values(by='mean_test_score', ascending=False).head(5)"
   ]
  },
  {
   "cell_type": "code",
   "execution_count": 119,
   "id": "40d2e904",
   "metadata": {},
   "outputs": [
    {
     "data": {
      "text/html": [
       "<div>\n",
       "<style scoped>\n",
       "    .dataframe tbody tr th:only-of-type {\n",
       "        vertical-align: middle;\n",
       "    }\n",
       "\n",
       "    .dataframe tbody tr th {\n",
       "        vertical-align: top;\n",
       "    }\n",
       "\n",
       "    .dataframe thead th {\n",
       "        text-align: right;\n",
       "    }\n",
       "</style>\n",
       "<table border=\"1\" class=\"dataframe\">\n",
       "  <thead>\n",
       "    <tr style=\"text-align: right;\">\n",
       "      <th></th>\n",
       "      <th>params</th>\n",
       "      <th>mean_test_score</th>\n",
       "    </tr>\n",
       "  </thead>\n",
       "  <tbody>\n",
       "    <tr>\n",
       "      <th>1</th>\n",
       "      <td>{'learning_rate': 0.1, 'max_depth': 3, 'n_estimators': 100, 'random_state': 42}</td>\n",
       "      <td>0.321213</td>\n",
       "    </tr>\n",
       "    <tr>\n",
       "      <th>2</th>\n",
       "      <td>{'learning_rate': 0.1, 'max_depth': 3, 'n_estimators': 150, 'random_state': 42}</td>\n",
       "      <td>0.319846</td>\n",
       "    </tr>\n",
       "    <tr>\n",
       "      <th>4</th>\n",
       "      <td>{'learning_rate': 0.1, 'max_depth': 4, 'n_estimators': 100, 'random_state': 42}</td>\n",
       "      <td>0.311598</td>\n",
       "    </tr>\n",
       "    <tr>\n",
       "      <th>5</th>\n",
       "      <td>{'learning_rate': 0.1, 'max_depth': 4, 'n_estimators': 150, 'random_state': 42}</td>\n",
       "      <td>0.307062</td>\n",
       "    </tr>\n",
       "    <tr>\n",
       "      <th>7</th>\n",
       "      <td>{'learning_rate': 0.1, 'max_depth': 5, 'n_estimators': 100, 'random_state': 42}</td>\n",
       "      <td>0.299850</td>\n",
       "    </tr>\n",
       "  </tbody>\n",
       "</table>\n",
       "</div>"
      ],
      "text/plain": [
       "                                                                            params  \\\n",
       "1  {'learning_rate': 0.1, 'max_depth': 3, 'n_estimators': 100, 'random_state': 42}   \n",
       "2  {'learning_rate': 0.1, 'max_depth': 3, 'n_estimators': 150, 'random_state': 42}   \n",
       "4  {'learning_rate': 0.1, 'max_depth': 4, 'n_estimators': 100, 'random_state': 42}   \n",
       "5  {'learning_rate': 0.1, 'max_depth': 4, 'n_estimators': 150, 'random_state': 42}   \n",
       "7  {'learning_rate': 0.1, 'max_depth': 5, 'n_estimators': 100, 'random_state': 42}   \n",
       "\n",
       "   mean_test_score  \n",
       "1         0.321213  \n",
       "2         0.319846  \n",
       "4         0.311598  \n",
       "5         0.307062  \n",
       "7         0.299850  "
      ]
     },
     "execution_count": 119,
     "metadata": {},
     "output_type": "execute_result"
    }
   ],
   "source": [
    "result[['params', 'mean_test_score']].sort_values(by='mean_test_score', ascending=False).head(5)"
   ]
  },
  {
   "cell_type": "markdown",
   "id": "22ce40e9",
   "metadata": {},
   "source": [
    "Построим график сходимости предсказаний модели и реальных данных"
   ]
  },
  {
   "cell_type": "code",
   "execution_count": 136,
   "id": "fc5f55c5",
   "metadata": {},
   "outputs": [],
   "source": [
    "def extansive_score(y_test, y_pred, num_obj_to_plot, model_name='model'):\n",
    "    \n",
    "    plt.figure(figsize=(15,5))\n",
    "    plt.plot(y_test.reset_index(drop=True)[:num_obj_to_plot], label='Тестовые данные')\n",
    "    plt.plot(pd.Series(y_pred)[:num_obj_to_plot], label='Предсказания модели')\n",
    "    plt.title('График предсказаний модели ' + model_name)\n",
    "    plt.xlabel('Номер партии / объекта')\n",
    "    plt.ylabel('Температура, °C')\n",
    "    plt.legend()\n",
    "    plt.grid(True)\n",
    "    \n",
    "    print('{} score: {:.3f}'.format(model_name, mean_absolute_error(y_test, y_pred)))"
   ]
  },
  {
   "cell_type": "code",
   "execution_count": 137,
   "id": "aa9e4132",
   "metadata": {},
   "outputs": [
    {
     "name": "stdout",
     "output_type": "stream",
     "text": [
      "XGBoost score: 6.455\n"
     ]
    },
    {
     "data": {
      "image/png": "[encoded data removed]",
      "text/plain": [
       "<Figure size 1080x360 with 1 Axes>"
      ]
     },
     "metadata": {
      "needs_background": "light"
     },
     "output_type": "display_data"
    }
   ],
   "source": [
    "extansive_score(y_test, prediction_xgb, 100, model_name='XGBoost')"
   ]
  },
  {
   "cell_type": "markdown",
   "id": "59db3521",
   "metadata": {},
   "source": [
    "**Вывод по разделу:**\n",
    "\n",
    "Наиболее хорошо по метрике показала себя модель XGBoost\t{'learning_rate': 0.1, 'max_depth': 3, 'n_estimators': 100, 'random_state': 42}\t"
   ]
  },
  {
   "cell_type": "markdown",
   "id": "4e9d799b",
   "metadata": {},
   "source": [
    "## Проверка качества лучшей модели на тестовой выборке"
   ]
  },
  {
   "cell_type": "code",
   "execution_count": 138,
   "id": "cbe958e6",
   "metadata": {},
   "outputs": [
    {
     "name": "stdout",
     "output_type": "stream",
     "text": [
      "0.3212125701306694\n"
     ]
    }
   ],
   "source": [
    "mean_test_score_xgb = searcher_xgb.best_score_\n",
    "print(mean_test_score_xgb)"
   ]
  },
  {
   "cell_type": "code",
   "execution_count": 141,
   "id": "6f15d64b",
   "metadata": {},
   "outputs": [
    {
     "name": "stdout",
     "output_type": "stream",
     "text": [
      "Метрика на тестовой выборке: 6.455267197885399\n"
     ]
    }
   ],
   "source": [
    "prediction_xgb = best_est_xgb.predict(X_test)\n",
    "print('Метрика на тестовой выборке:', mean_absolute_error(y_test, prediction_xgb))"
   ]
  },
  {
   "cell_type": "markdown",
   "id": "3ac6fb8b",
   "metadata": {},
   "source": [
    "**Вывод по разделу:** \n",
    "\n",
    "Метрика на тестовой выборке соответствует требованиям менее 6.8"
   ]
  },
  {
   "cell_type": "markdown",
   "id": "5cd5ed0c",
   "metadata": {},
   "source": [
    "## Выявление важности признаков для XGBoostRegressor"
   ]
  },
  {
   "cell_type": "code",
   "execution_count": 143,
   "id": "c8c3fad3",
   "metadata": {},
   "outputs": [
    {
     "data": {
      "text/html": [
       "<div>\n",
       "<style scoped>\n",
       "    .dataframe tbody tr th:only-of-type {\n",
       "        vertical-align: middle;\n",
       "    }\n",
       "\n",
       "    .dataframe tbody tr th {\n",
       "        vertical-align: top;\n",
       "    }\n",
       "\n",
       "    .dataframe thead th {\n",
       "        text-align: right;\n",
       "    }\n",
       "</style>\n",
       "<table border=\"1\" class=\"dataframe\">\n",
       "  <thead>\n",
       "    <tr style=\"text-align: right;\">\n",
       "      <th></th>\n",
       "      <th>feature</th>\n",
       "      <th>importance</th>\n",
       "    </tr>\n",
       "  </thead>\n",
       "  <tbody>\n",
       "    <tr>\n",
       "      <th>2</th>\n",
       "      <td>heating_time</td>\n",
       "      <td>0.24</td>\n",
       "    </tr>\n",
       "    <tr>\n",
       "      <th>0</th>\n",
       "      <td>initial_temperature</td>\n",
       "      <td>0.23</td>\n",
       "    </tr>\n",
       "    <tr>\n",
       "      <th>4</th>\n",
       "      <td>all_bulk</td>\n",
       "      <td>0.14</td>\n",
       "    </tr>\n",
       "    <tr>\n",
       "      <th>3</th>\n",
       "      <td>gas_1</td>\n",
       "      <td>0.13</td>\n",
       "    </tr>\n",
       "    <tr>\n",
       "      <th>5</th>\n",
       "      <td>all_wire</td>\n",
       "      <td>0.13</td>\n",
       "    </tr>\n",
       "    <tr>\n",
       "      <th>1</th>\n",
       "      <td>total_power</td>\n",
       "      <td>0.12</td>\n",
       "    </tr>\n",
       "  </tbody>\n",
       "</table>\n",
       "</div>"
      ],
      "text/plain": [
       "               feature  importance\n",
       "2         heating_time        0.24\n",
       "0  initial_temperature        0.23\n",
       "4             all_bulk        0.14\n",
       "3                gas_1        0.13\n",
       "5             all_wire        0.13\n",
       "1          total_power        0.12"
      ]
     },
     "metadata": {},
     "output_type": "display_data"
    },
    {
     "data": {
      "image/png": "[encoded data removed]",
      "text/plain": [
       "<Figure size 432x216 with 1 Axes>"
      ]
     },
     "metadata": {
      "needs_background": "light"
     },
     "output_type": "display_data"
    }
   ],
   "source": [
    "feature_importances_xgb = best_est_xgb.feature_importances_\n",
    "importance_df_xgb = pd.DataFrame({\n",
    "    'feature': feature_names,\n",
    "    'importance': feature_importances_xgb.round(2)\n",
    "}).sort_values(by='importance', ascending=False)\n",
    "\n",
    "display(importance_df_xgb)\n",
    "plt.figure(figsize=(6, 3))\n",
    "sns.barplot(data=importance_df_xgb, x='importance', y='feature')\n",
    "plt.title('Важность признаков для XGBRegressor')\n",
    "plt.show()\n"
   ]
  },
  {
   "cell_type": "markdown",
   "id": "ebc6d546",
   "metadata": {},
   "source": [
    "**Вывод по разделу:**\n",
    "\n",
    "Наибольший вклад в определение моделью конечной температуры расплава вносят следующие параметры: \n",
    "\n",
    "1. Начальная температура\n",
    "2. Время нагрева\n",
    "3. Присадки"
   ]
  },
  {
   "cell_type": "markdown",
   "id": "7baa1e52",
   "metadata": {},
   "source": [
    "## Выводы и рекомендации\n",
    "\n",
    "1. Выводы хода работы есть после каждого раздела, кратко: произведена загрузка, предобработка, удаление аномалий, объединение данных. Также произведен исследовательский анализ данных как до, так и после объединения, на основе этого анализа решено объединить признаки добавленных присадок в один признак, добавлены новые признаки \"Полная мощность\" и \"Время нагрева\". Обзор данных показал, что время добавления присадок, как и календарное время включения и выключения электродов - избыточные величины, от них решено избавиться.\n",
    "\n",
    "2. Произведенный после объединения всех данных в один датафрейм исследовательский анализ показал избыточность некоторых новых признаков, признак средней температуры показал высокую мультиколлениарность с другими признаками температуры и был удален.Показано, что если разбивать присадки на отдельные признаки, то это ведет к значительному усложнению модели и низкой производительности модели, построенной на основе таких данных. Столбцы с присадками разного рода (сыпучими и проволочными) были объединены в один признак.\n",
    "\n",
    "3. Для целей математического моделирования данные были разбиты на выборки, затем  построен пайплайн и путем рандомизированного поиска определено, что наиболее хорошо и по времени работы, и по mean_test_score показала себя модель XGBoost, которая на тестовой выборке эта модель также показала высокую предсказательную способность 6.45 по метрике MAE.\n",
    "\n",
    "4. Произведенный анализ важности признаков позволил определить, что наибольший вклад в определение моделью конечной температуры расплава вносят следующие параметры: Начальная температура, Время нагрева, Добавленные присадки любого вида. \n",
    "\n",
    "**Рекомендации:**\n",
    "\n",
    "Промышленный процесс - сложная и взаимообусловленная система, тем не менее для улучшения прогностических способностей модели следует в ходе процесса чаще измерять температуру, например до и после включения электродов (несколько раз для повышения качетсва данных), также следует в условиях контролируемого эксперимента установить как та, или иная присадка влияет на температуру, возможно более интересной и применимой для химического процесса моделью будет временной ряд по каждой партии, что может быть необходимо для выявления *динамики* хода температуры в котле. Учитывая высокую вариативность времени нагрева и мощности, стоит рассмотреть возможность оптимизации этих процессов."
   ]
  },
  {
   "cell_type": "markdown",
   "id": "f8e6b4f5",
   "metadata": {},
   "source": []
  }
 ],
 "metadata": {
  "ExecuteTimeLog": [
   {
    "duration": 1365,
    "start_time": "2024-12-29T21:51:30.707Z"
   },
   {
    "duration": 0,
    "start_time": "2024-12-29T21:51:32.074Z"
   },
   {
    "duration": 9,
    "start_time": "2024-12-29T21:51:33.969Z"
   },
   {
    "duration": 6411,
    "start_time": "2024-12-29T21:51:45.475Z"
   },
   {
    "duration": 1576,
    "start_time": "2024-12-29T21:51:58.535Z"
   },
   {
    "duration": 17090,
    "start_time": "2024-12-29T21:52:20.837Z"
   },
   {
    "duration": 4917,
    "start_time": "2024-12-29T21:52:48.224Z"
   },
   {
    "duration": 215,
    "start_time": "2024-12-29T21:52:58.829Z"
   },
   {
    "duration": 404,
    "start_time": "2024-12-29T21:54:05.051Z"
   },
   {
    "duration": 10,
    "start_time": "2024-12-29T22:37:21.493Z"
   },
   {
    "duration": 1456,
    "start_time": "2024-12-30T20:07:38.248Z"
   },
   {
    "duration": 3871,
    "start_time": "2024-12-30T20:08:06.576Z"
   },
   {
    "duration": 360,
    "start_time": "2024-12-30T20:08:11.889Z"
   },
   {
    "duration": 130,
    "start_time": "2024-12-30T20:08:15.793Z"
   },
   {
    "duration": 578,
    "start_time": "2024-12-30T20:09:29.317Z"
   },
   {
    "duration": 11,
    "start_time": "2024-12-30T20:10:04.525Z"
   },
   {
    "duration": 99,
    "start_time": "2024-12-30T20:10:53.611Z"
   },
   {
    "duration": 13,
    "start_time": "2024-12-30T20:11:08.318Z"
   },
   {
    "duration": 62,
    "start_time": "2024-12-30T20:11:57.876Z"
   },
   {
    "duration": 72,
    "start_time": "2024-12-30T20:12:25.527Z"
   },
   {
    "duration": 13,
    "start_time": "2024-12-30T20:12:33.893Z"
   },
   {
    "duration": 12,
    "start_time": "2024-12-30T20:12:39.883Z"
   },
   {
    "duration": 31,
    "start_time": "2024-12-30T20:12:44.459Z"
   },
   {
    "duration": 19,
    "start_time": "2024-12-30T20:12:45.166Z"
   },
   {
    "duration": 8,
    "start_time": "2024-12-30T20:12:45.878Z"
   },
   {
    "duration": 73,
    "start_time": "2024-12-30T20:13:04.132Z"
   },
   {
    "duration": 12,
    "start_time": "2024-12-30T20:13:27.525Z"
   },
   {
    "duration": 11,
    "start_time": "2024-12-30T20:15:27.516Z"
   },
   {
    "duration": 5,
    "start_time": "2024-12-30T20:15:51.393Z"
   },
   {
    "duration": 8,
    "start_time": "2024-12-30T20:16:25.024Z"
   },
   {
    "duration": 6,
    "start_time": "2024-12-30T20:16:43.976Z"
   },
   {
    "duration": 4,
    "start_time": "2024-12-30T20:17:01.227Z"
   },
   {
    "duration": 227,
    "start_time": "2024-12-30T20:17:02.384Z"
   },
   {
    "duration": 68,
    "start_time": "2024-12-30T20:17:05.604Z"
   },
   {
    "duration": 82,
    "start_time": "2024-12-30T20:17:11.089Z"
   },
   {
    "duration": 11,
    "start_time": "2024-12-30T20:17:18.495Z"
   },
   {
    "duration": 12,
    "start_time": "2024-12-30T20:17:19.718Z"
   },
   {
    "duration": 32,
    "start_time": "2024-12-30T20:17:21.497Z"
   },
   {
    "duration": 18,
    "start_time": "2024-12-30T20:17:23.575Z"
   },
   {
    "duration": 8,
    "start_time": "2024-12-30T20:17:26.481Z"
   },
   {
    "duration": 67,
    "start_time": "2024-12-30T20:17:34.257Z"
   },
   {
    "duration": 3,
    "start_time": "2024-12-30T20:17:39.694Z"
   },
   {
    "duration": 15,
    "start_time": "2024-12-30T20:17:48.552Z"
   },
   {
    "duration": 8,
    "start_time": "2024-12-30T20:17:54.809Z"
   },
   {
    "duration": 5,
    "start_time": "2024-12-30T20:17:55.240Z"
   },
   {
    "duration": 12,
    "start_time": "2024-12-30T20:18:15.297Z"
   },
   {
    "duration": 13,
    "start_time": "2024-12-30T20:23:04.768Z"
   },
   {
    "duration": 7,
    "start_time": "2024-12-30T20:24:58.367Z"
   },
   {
    "duration": 6,
    "start_time": "2024-12-30T20:25:13.202Z"
   },
   {
    "duration": 10,
    "start_time": "2024-12-30T20:25:33.409Z"
   },
   {
    "duration": 92,
    "start_time": "2024-12-30T20:27:06.183Z"
   },
   {
    "duration": 8,
    "start_time": "2024-12-30T20:27:34.018Z"
   },
   {
    "duration": 10,
    "start_time": "2024-12-30T20:27:45.435Z"
   },
   {
    "duration": 11,
    "start_time": "2024-12-30T20:27:48.455Z"
   },
   {
    "duration": 5,
    "start_time": "2024-12-30T20:28:10.592Z"
   },
   {
    "duration": 234,
    "start_time": "2024-12-30T20:28:11.899Z"
   },
   {
    "duration": 69,
    "start_time": "2024-12-30T20:28:14.330Z"
   },
   {
    "duration": 66,
    "start_time": "2024-12-30T20:28:19.477Z"
   },
   {
    "duration": 11,
    "start_time": "2024-12-30T20:28:29.537Z"
   },
   {
    "duration": 11,
    "start_time": "2024-12-30T20:28:32.184Z"
   },
   {
    "duration": 30,
    "start_time": "2024-12-30T20:28:34.406Z"
   },
   {
    "duration": 19,
    "start_time": "2024-12-30T20:28:34.847Z"
   },
   {
    "duration": 7,
    "start_time": "2024-12-30T20:28:35.327Z"
   },
   {
    "duration": 66,
    "start_time": "2024-12-30T20:28:39.415Z"
   },
   {
    "duration": 3,
    "start_time": "2024-12-30T20:28:45.345Z"
   },
   {
    "duration": 13,
    "start_time": "2024-12-30T20:29:04.103Z"
   },
   {
    "duration": 13,
    "start_time": "2024-12-30T20:29:55.223Z"
   },
   {
    "duration": 6,
    "start_time": "2024-12-30T20:30:19.700Z"
   },
   {
    "duration": 11,
    "start_time": "2024-12-30T20:30:26.594Z"
   },
   {
    "duration": 6,
    "start_time": "2024-12-30T20:33:08.267Z"
   },
   {
    "duration": 6,
    "start_time": "2024-12-30T20:33:37.547Z"
   },
   {
    "duration": 5,
    "start_time": "2024-12-30T20:34:17.008Z"
   },
   {
    "duration": 8,
    "start_time": "2024-12-30T20:34:24.203Z"
   },
   {
    "duration": 6,
    "start_time": "2024-12-30T20:39:37.588Z"
   },
   {
    "duration": 13,
    "start_time": "2024-12-30T20:39:47.083Z"
   },
   {
    "duration": 11,
    "start_time": "2024-12-30T20:40:26.464Z"
   },
   {
    "duration": 9,
    "start_time": "2024-12-30T20:41:25.590Z"
   },
   {
    "duration": 7,
    "start_time": "2024-12-30T20:41:46.817Z"
   },
   {
    "duration": 6,
    "start_time": "2024-12-30T20:41:47.873Z"
   },
   {
    "duration": 8,
    "start_time": "2024-12-30T20:41:52.727Z"
   },
   {
    "duration": 5,
    "start_time": "2024-12-30T20:42:23.596Z"
   },
   {
    "duration": 222,
    "start_time": "2024-12-30T20:42:24.545Z"
   },
   {
    "duration": 60,
    "start_time": "2024-12-30T20:42:27.617Z"
   },
   {
    "duration": 68,
    "start_time": "2024-12-30T20:42:34.376Z"
   },
   {
    "duration": 12,
    "start_time": "2024-12-30T20:42:48.473Z"
   },
   {
    "duration": 12,
    "start_time": "2024-12-30T20:42:53.057Z"
   },
   {
    "duration": 32,
    "start_time": "2024-12-30T20:42:55.185Z"
   },
   {
    "duration": 20,
    "start_time": "2024-12-30T20:42:56.081Z"
   },
   {
    "duration": 9,
    "start_time": "2024-12-30T20:42:58.320Z"
   },
   {
    "duration": 62,
    "start_time": "2024-12-30T20:43:01.785Z"
   },
   {
    "duration": 4,
    "start_time": "2024-12-30T20:43:07.543Z"
   },
   {
    "duration": 12,
    "start_time": "2024-12-30T20:43:10.762Z"
   },
   {
    "duration": 9,
    "start_time": "2024-12-30T20:43:55.521Z"
   },
   {
    "duration": 7,
    "start_time": "2024-12-30T20:44:02.696Z"
   },
   {
    "duration": 11,
    "start_time": "2024-12-30T20:44:06.539Z"
   },
   {
    "duration": 6,
    "start_time": "2024-12-30T20:45:17.876Z"
   },
   {
    "duration": 223,
    "start_time": "2024-12-30T20:45:21.060Z"
   },
   {
    "duration": 65,
    "start_time": "2024-12-30T20:45:24.421Z"
   },
   {
    "duration": 64,
    "start_time": "2024-12-30T20:45:37.645Z"
   },
   {
    "duration": 12,
    "start_time": "2024-12-30T20:45:55.636Z"
   },
   {
    "duration": 12,
    "start_time": "2024-12-30T20:45:58.908Z"
   },
   {
    "duration": 30,
    "start_time": "2024-12-30T20:46:00.765Z"
   },
   {
    "duration": 17,
    "start_time": "2024-12-30T20:46:01.295Z"
   },
   {
    "duration": 7,
    "start_time": "2024-12-30T20:46:03.029Z"
   },
   {
    "duration": 58,
    "start_time": "2024-12-30T20:48:07.389Z"
   },
   {
    "duration": 3,
    "start_time": "2024-12-30T20:48:19.075Z"
   },
   {
    "duration": 13,
    "start_time": "2024-12-30T20:48:22.271Z"
   },
   {
    "duration": 7,
    "start_time": "2024-12-30T20:49:04.236Z"
   },
   {
    "duration": 8,
    "start_time": "2024-12-30T20:51:04.747Z"
   },
   {
    "duration": 9,
    "start_time": "2024-12-30T20:51:13.157Z"
   },
   {
    "duration": 297,
    "start_time": "2024-12-30T20:52:46.857Z"
   },
   {
    "duration": 293,
    "start_time": "2024-12-30T20:53:51.934Z"
   },
   {
    "duration": 4,
    "start_time": "2024-12-30T20:54:31.633Z"
   },
   {
    "duration": 230,
    "start_time": "2024-12-30T20:54:32.585Z"
   },
   {
    "duration": 62,
    "start_time": "2024-12-30T20:54:36.317Z"
   },
   {
    "duration": 86,
    "start_time": "2024-12-30T20:54:42.610Z"
   },
   {
    "duration": 13,
    "start_time": "2024-12-30T20:54:51.449Z"
   },
   {
    "duration": 11,
    "start_time": "2024-12-30T20:54:53.640Z"
   },
   {
    "duration": 32,
    "start_time": "2024-12-30T20:54:55.281Z"
   },
   {
    "duration": 19,
    "start_time": "2024-12-30T20:54:56.174Z"
   },
   {
    "duration": 8,
    "start_time": "2024-12-30T20:54:56.730Z"
   },
   {
    "duration": 63,
    "start_time": "2024-12-30T20:55:01.425Z"
   },
   {
    "duration": 3,
    "start_time": "2024-12-30T20:55:08.193Z"
   },
   {
    "duration": 12,
    "start_time": "2024-12-30T20:55:18.585Z"
   },
   {
    "duration": 6,
    "start_time": "2024-12-30T20:55:24.771Z"
   },
   {
    "duration": 296,
    "start_time": "2024-12-30T20:55:41.081Z"
   },
   {
    "duration": 6,
    "start_time": "2024-12-30T20:55:47.221Z"
   },
   {
    "duration": 297,
    "start_time": "2024-12-30T20:56:05.099Z"
   },
   {
    "duration": 6,
    "start_time": "2024-12-30T20:56:08.349Z"
   },
   {
    "duration": 292,
    "start_time": "2024-12-30T20:57:21.340Z"
   },
   {
    "duration": 4,
    "start_time": "2024-12-30T20:57:45.811Z"
   },
   {
    "duration": 223,
    "start_time": "2024-12-30T20:57:46.778Z"
   },
   {
    "duration": 64,
    "start_time": "2024-12-30T20:57:49.046Z"
   },
   {
    "duration": 64,
    "start_time": "2024-12-30T20:57:58.266Z"
   },
   {
    "duration": 12,
    "start_time": "2024-12-30T20:58:04.738Z"
   },
   {
    "duration": 11,
    "start_time": "2024-12-30T20:58:07.323Z"
   },
   {
    "duration": 34,
    "start_time": "2024-12-30T20:58:10.701Z"
   },
   {
    "duration": 30,
    "start_time": "2024-12-30T20:58:11.534Z"
   },
   {
    "duration": 8,
    "start_time": "2024-12-30T20:58:13.514Z"
   },
   {
    "duration": 63,
    "start_time": "2024-12-30T20:58:15.298Z"
   },
   {
    "duration": 3,
    "start_time": "2024-12-30T20:58:19.421Z"
   },
   {
    "duration": 12,
    "start_time": "2024-12-30T20:58:24.177Z"
   },
   {
    "duration": 9,
    "start_time": "2024-12-30T20:59:38.670Z"
   },
   {
    "duration": 8,
    "start_time": "2024-12-30T21:00:56.079Z"
   },
   {
    "duration": 7,
    "start_time": "2024-12-30T21:01:08.940Z"
   },
   {
    "duration": 7,
    "start_time": "2024-12-30T21:02:12.717Z"
   },
   {
    "duration": 14,
    "start_time": "2024-12-30T21:03:36.574Z"
   },
   {
    "duration": 1393,
    "start_time": "2024-12-31T08:24:39.578Z"
   },
   {
    "duration": 1646,
    "start_time": "2024-12-31T08:24:55.763Z"
   },
   {
    "duration": 612,
    "start_time": "2024-12-31T08:25:03.933Z"
   },
   {
    "duration": 68,
    "start_time": "2024-12-31T08:25:07.983Z"
   },
   {
    "duration": 67,
    "start_time": "2024-12-31T08:26:04.440Z"
   },
   {
    "duration": 12,
    "start_time": "2024-12-31T08:26:40.121Z"
   },
   {
    "duration": 10,
    "start_time": "2024-12-31T08:26:41.289Z"
   },
   {
    "duration": 29,
    "start_time": "2024-12-31T08:26:41.965Z"
   },
   {
    "duration": 19,
    "start_time": "2024-12-31T08:26:42.528Z"
   },
   {
    "duration": 7,
    "start_time": "2024-12-31T08:26:43.090Z"
   },
   {
    "duration": 59,
    "start_time": "2024-12-31T08:26:44.356Z"
   },
   {
    "duration": 3,
    "start_time": "2024-12-31T08:26:45.969Z"
   },
   {
    "duration": 12,
    "start_time": "2024-12-31T08:26:47.648Z"
   },
   {
    "duration": 7,
    "start_time": "2024-12-31T08:27:42.396Z"
   },
   {
    "duration": 6,
    "start_time": "2024-12-31T08:27:42.991Z"
   },
   {
    "duration": 9,
    "start_time": "2024-12-31T08:27:43.728Z"
   },
   {
    "duration": 10,
    "start_time": "2024-12-31T08:27:46.295Z"
   },
   {
    "duration": 12,
    "start_time": "2024-12-31T08:28:07.736Z"
   },
   {
    "duration": 135,
    "start_time": "2024-12-31T08:28:16.005Z"
   },
   {
    "duration": 6,
    "start_time": "2024-12-31T08:28:19.946Z"
   },
   {
    "duration": 5,
    "start_time": "2024-12-31T08:28:20.784Z"
   },
   {
    "duration": 125,
    "start_time": "2024-12-31T08:28:49.632Z"
   },
   {
    "duration": 8,
    "start_time": "2024-12-31T08:29:00.629Z"
   },
   {
    "duration": 11,
    "start_time": "2024-12-31T08:29:01.675Z"
   },
   {
    "duration": 167,
    "start_time": "2024-12-31T08:29:02.590Z"
   },
   {
    "duration": 5,
    "start_time": "2024-12-31T08:29:06.946Z"
   },
   {
    "duration": 10,
    "start_time": "2024-12-31T08:29:08.367Z"
   },
   {
    "duration": 4,
    "start_time": "2024-12-31T08:29:09.171Z"
   },
   {
    "duration": 7,
    "start_time": "2024-12-31T08:29:09.893Z"
   },
   {
    "duration": 10,
    "start_time": "2024-12-31T08:29:16.181Z"
   },
   {
    "duration": 7,
    "start_time": "2024-12-31T08:29:16.693Z"
   },
   {
    "duration": 206,
    "start_time": "2024-12-31T08:29:18.169Z"
   },
   {
    "duration": 176,
    "start_time": "2024-12-31T08:29:19.544Z"
   },
   {
    "duration": 6,
    "start_time": "2024-12-31T08:29:21.124Z"
   },
   {
    "duration": 10,
    "start_time": "2024-12-31T08:29:21.722Z"
   },
   {
    "duration": 143,
    "start_time": "2024-12-31T08:29:22.287Z"
   },
   {
    "duration": 148,
    "start_time": "2024-12-31T08:29:23.882Z"
   },
   {
    "duration": 4,
    "start_time": "2024-12-31T08:29:24.751Z"
   },
   {
    "duration": 6,
    "start_time": "2024-12-31T08:29:25.370Z"
   },
   {
    "duration": 7,
    "start_time": "2024-12-31T08:29:25.803Z"
   },
   {
    "duration": 94,
    "start_time": "2024-12-31T08:29:26.130Z"
   },
   {
    "duration": 5,
    "start_time": "2024-12-31T08:29:28.821Z"
   },
   {
    "duration": 10,
    "start_time": "2024-12-31T08:29:29.254Z"
   },
   {
    "duration": 85,
    "start_time": "2024-12-31T08:29:29.772Z"
   },
   {
    "duration": 5,
    "start_time": "2024-12-31T08:29:30.754Z"
   },
   {
    "duration": 9,
    "start_time": "2024-12-31T08:29:31.233Z"
   },
   {
    "duration": 93,
    "start_time": "2024-12-31T08:29:31.916Z"
   },
   {
    "duration": 7,
    "start_time": "2024-12-31T08:29:33.010Z"
   },
   {
    "duration": 8,
    "start_time": "2024-12-31T08:29:33.510Z"
   },
   {
    "duration": 6,
    "start_time": "2024-12-31T08:29:34.990Z"
   },
   {
    "duration": 190,
    "start_time": "2024-12-31T08:29:35.993Z"
   },
   {
    "duration": 6,
    "start_time": "2024-12-31T08:29:46.256Z"
   },
   {
    "duration": 11,
    "start_time": "2024-12-31T08:29:47.687Z"
   },
   {
    "duration": 27,
    "start_time": "2024-12-31T08:29:48.734Z"
   },
   {
    "duration": 6,
    "start_time": "2024-12-31T08:29:54.124Z"
   },
   {
    "duration": 24,
    "start_time": "2024-12-31T08:29:54.792Z"
   },
   {
    "duration": 3,
    "start_time": "2024-12-31T08:30:13.801Z"
   },
   {
    "duration": 16,
    "start_time": "2024-12-31T08:30:14.320Z"
   },
   {
    "duration": 12,
    "start_time": "2024-12-31T08:30:16.278Z"
   },
   {
    "duration": 21,
    "start_time": "2024-12-31T08:30:28.495Z"
   },
   {
    "duration": 7,
    "start_time": "2024-12-31T08:30:36.741Z"
   },
   {
    "duration": 1714,
    "start_time": "2024-12-31T08:30:37.369Z"
   },
   {
    "duration": 4,
    "start_time": "2024-12-31T08:30:39.086Z"
   },
   {
    "duration": 720,
    "start_time": "2024-12-31T08:30:39.092Z"
   },
   {
    "duration": 148,
    "start_time": "2024-12-31T08:30:41.610Z"
   },
   {
    "duration": 5,
    "start_time": "2024-12-31T08:30:48.743Z"
   },
   {
    "duration": 4,
    "start_time": "2024-12-31T08:30:49.994Z"
   },
   {
    "duration": 9,
    "start_time": "2024-12-31T08:30:50.635Z"
   },
   {
    "duration": 13,
    "start_time": "2024-12-31T08:31:13.321Z"
   },
   {
    "duration": 7,
    "start_time": "2024-12-31T08:31:20.519Z"
   },
   {
    "duration": 1552,
    "start_time": "2024-12-31T10:36:18.125Z"
   },
   {
    "duration": 1607,
    "start_time": "2024-12-31T10:36:26.895Z"
   },
   {
    "duration": 234,
    "start_time": "2024-12-31T10:36:28.504Z"
   },
   {
    "duration": 76,
    "start_time": "2024-12-31T10:36:28.740Z"
   },
   {
    "duration": 108,
    "start_time": "2024-12-31T10:36:28.819Z"
   },
   {
    "duration": 42,
    "start_time": "2024-12-31T10:36:28.929Z"
   },
   {
    "duration": 15,
    "start_time": "2024-12-31T10:36:28.974Z"
   },
   {
    "duration": 30,
    "start_time": "2024-12-31T10:36:28.991Z"
   },
   {
    "duration": 19,
    "start_time": "2024-12-31T10:36:29.022Z"
   },
   {
    "duration": 148,
    "start_time": "2024-12-31T10:36:29.042Z"
   },
   {
    "duration": 73,
    "start_time": "2024-12-31T10:36:29.192Z"
   },
   {
    "duration": 5,
    "start_time": "2024-12-31T10:36:29.271Z"
   },
   {
    "duration": 17,
    "start_time": "2024-12-31T10:36:29.279Z"
   },
   {
    "duration": 8,
    "start_time": "2024-12-31T10:36:29.297Z"
   },
   {
    "duration": 7,
    "start_time": "2024-12-31T10:36:29.307Z"
   },
   {
    "duration": 12,
    "start_time": "2024-12-31T10:36:29.316Z"
   },
   {
    "duration": 48,
    "start_time": "2024-12-31T10:36:29.330Z"
   },
   {
    "duration": 26,
    "start_time": "2024-12-31T10:36:29.380Z"
   },
   {
    "duration": 156,
    "start_time": "2024-12-31T10:36:29.408Z"
   },
   {
    "duration": 8,
    "start_time": "2024-12-31T10:36:29.566Z"
   },
   {
    "duration": 36,
    "start_time": "2024-12-31T10:36:29.576Z"
   },
   {
    "duration": 136,
    "start_time": "2024-12-31T10:36:29.615Z"
   },
   {
    "duration": 6,
    "start_time": "2024-12-31T10:36:29.753Z"
   },
   {
    "duration": 20,
    "start_time": "2024-12-31T10:36:29.761Z"
   },
   {
    "duration": 183,
    "start_time": "2024-12-31T10:36:29.783Z"
   },
   {
    "duration": 8,
    "start_time": "2024-12-31T10:36:29.968Z"
   },
   {
    "duration": 284,
    "start_time": "2024-12-31T10:36:29.978Z"
   },
   {
    "duration": 19,
    "start_time": "2024-12-31T10:36:30.263Z"
   },
   {
    "duration": 27,
    "start_time": "2024-12-31T10:36:30.287Z"
   },
   {
    "duration": 58,
    "start_time": "2024-12-31T10:36:30.316Z"
   },
   {
    "duration": 41,
    "start_time": "2024-12-31T10:36:30.376Z"
   },
   {
    "duration": 265,
    "start_time": "2024-12-31T10:36:30.419Z"
   },
   {
    "duration": 203,
    "start_time": "2024-12-31T10:36:30.686Z"
   },
   {
    "duration": 6,
    "start_time": "2024-12-31T10:36:30.891Z"
   },
   {
    "duration": 27,
    "start_time": "2024-12-31T10:36:30.899Z"
   },
   {
    "duration": 225,
    "start_time": "2024-12-31T10:36:30.928Z"
   },
   {
    "duration": 167,
    "start_time": "2024-12-31T10:36:31.155Z"
   },
   {
    "duration": 4,
    "start_time": "2024-12-31T10:36:31.323Z"
   },
   {
    "duration": 41,
    "start_time": "2024-12-31T10:36:31.329Z"
   },
   {
    "duration": 15,
    "start_time": "2024-12-31T10:36:31.372Z"
   },
   {
    "duration": 122,
    "start_time": "2024-12-31T10:36:31.389Z"
   },
   {
    "duration": 6,
    "start_time": "2024-12-31T10:36:31.513Z"
   },
   {
    "duration": 27,
    "start_time": "2024-12-31T10:36:31.521Z"
   },
   {
    "duration": 109,
    "start_time": "2024-12-31T10:36:31.550Z"
   },
   {
    "duration": 10,
    "start_time": "2024-12-31T10:36:31.660Z"
   },
   {
    "duration": 23,
    "start_time": "2024-12-31T10:36:31.672Z"
   },
   {
    "duration": 112,
    "start_time": "2024-12-31T10:36:31.696Z"
   },
   {
    "duration": 7,
    "start_time": "2024-12-31T10:36:31.809Z"
   },
   {
    "duration": 20,
    "start_time": "2024-12-31T10:36:31.818Z"
   },
   {
    "duration": 13,
    "start_time": "2024-12-31T10:36:31.840Z"
   },
   {
    "duration": 208,
    "start_time": "2024-12-31T10:36:31.855Z"
   },
   {
    "duration": 11,
    "start_time": "2024-12-31T10:36:32.065Z"
   },
   {
    "duration": 16,
    "start_time": "2024-12-31T10:36:32.078Z"
   },
   {
    "duration": 25,
    "start_time": "2024-12-31T10:36:32.096Z"
   },
   {
    "duration": 6,
    "start_time": "2024-12-31T10:36:32.122Z"
   },
   {
    "duration": 65,
    "start_time": "2024-12-31T10:36:32.129Z"
   },
   {
    "duration": 3,
    "start_time": "2024-12-31T10:36:32.195Z"
   },
   {
    "duration": 30,
    "start_time": "2024-12-31T10:36:32.199Z"
   },
   {
    "duration": 45,
    "start_time": "2024-12-31T10:36:32.231Z"
   },
   {
    "duration": 17,
    "start_time": "2024-12-31T10:36:32.279Z"
   },
   {
    "duration": 6,
    "start_time": "2024-12-31T10:36:32.298Z"
   },
   {
    "duration": 1866,
    "start_time": "2024-12-31T10:36:32.305Z"
   },
   {
    "duration": 6,
    "start_time": "2024-12-31T10:36:34.173Z"
   },
   {
    "duration": 789,
    "start_time": "2024-12-31T10:36:34.181Z"
   },
   {
    "duration": 1003,
    "start_time": "2024-12-31T10:36:34.973Z"
   },
   {
    "duration": 7,
    "start_time": "2024-12-31T10:36:35.978Z"
   },
   {
    "duration": 101,
    "start_time": "2024-12-31T10:36:35.987Z"
   },
   {
    "duration": 43,
    "start_time": "2024-12-31T10:36:36.089Z"
   },
   {
    "duration": 32,
    "start_time": "2024-12-31T10:36:36.133Z"
   },
   {
    "duration": 8,
    "start_time": "2024-12-31T10:36:36.167Z"
   },
   {
    "duration": 6,
    "start_time": "2024-12-31T10:36:36.176Z"
   },
   {
    "duration": 128,
    "start_time": "2024-12-31T10:36:36.184Z"
   },
   {
    "duration": 505962,
    "start_time": "2024-12-31T10:36:36.314Z"
   },
   {
    "duration": 4,
    "start_time": "2024-12-31T10:45:02.278Z"
   },
   {
    "duration": 13,
    "start_time": "2024-12-31T10:45:02.284Z"
   },
   {
    "duration": 64,
    "start_time": "2024-12-31T10:45:02.299Z"
   },
   {
    "duration": 21,
    "start_time": "2024-12-31T10:45:02.365Z"
   },
   {
    "duration": 39,
    "start_time": "2024-12-31T10:45:02.388Z"
   },
   {
    "duration": 190,
    "start_time": "2024-12-31T10:45:02.428Z"
   },
   {
    "duration": 1614,
    "start_time": "2024-12-31T10:47:19.636Z"
   },
   {
    "duration": 226,
    "start_time": "2024-12-31T10:47:21.252Z"
   },
   {
    "duration": 90,
    "start_time": "2024-12-31T10:47:21.480Z"
   },
   {
    "duration": 100,
    "start_time": "2024-12-31T10:47:21.572Z"
   },
   {
    "duration": 14,
    "start_time": "2024-12-31T10:47:21.674Z"
   },
   {
    "duration": 69,
    "start_time": "2024-12-31T10:47:21.689Z"
   },
   {
    "duration": 31,
    "start_time": "2024-12-31T10:47:21.760Z"
   },
   {
    "duration": 20,
    "start_time": "2024-12-31T10:47:21.793Z"
   },
   {
    "duration": 8,
    "start_time": "2024-12-31T10:47:21.815Z"
   },
   {
    "duration": 107,
    "start_time": "2024-12-31T10:47:21.826Z"
   },
   {
    "duration": 35,
    "start_time": "2024-12-31T10:47:21.935Z"
   },
   {
    "duration": 14,
    "start_time": "2024-12-31T10:47:21.972Z"
   },
   {
    "duration": 19,
    "start_time": "2024-12-31T10:47:21.988Z"
   },
   {
    "duration": 93,
    "start_time": "2024-12-31T10:47:22.009Z"
   },
   {
    "duration": 10,
    "start_time": "2024-12-31T10:47:22.103Z"
   },
   {
    "duration": 9,
    "start_time": "2024-12-31T10:47:22.115Z"
   },
   {
    "duration": 11,
    "start_time": "2024-12-31T10:47:22.126Z"
   },
   {
    "duration": 145,
    "start_time": "2024-12-31T10:47:22.138Z"
   },
   {
    "duration": 6,
    "start_time": "2024-12-31T10:47:22.284Z"
   },
   {
    "duration": 29,
    "start_time": "2024-12-31T10:47:22.291Z"
   },
   {
    "duration": 127,
    "start_time": "2024-12-31T10:47:22.322Z"
   },
   {
    "duration": 7,
    "start_time": "2024-12-31T10:47:22.451Z"
   },
   {
    "duration": 10,
    "start_time": "2024-12-31T10:47:22.471Z"
   },
   {
    "duration": 181,
    "start_time": "2024-12-31T10:47:22.483Z"
   },
   {
    "duration": 8,
    "start_time": "2024-12-31T10:47:22.665Z"
   },
   {
    "duration": 19,
    "start_time": "2024-12-31T10:47:22.675Z"
   },
   {
    "duration": 5,
    "start_time": "2024-12-31T10:47:22.695Z"
   },
   {
    "duration": 7,
    "start_time": "2024-12-31T10:47:22.704Z"
   },
   {
    "duration": 117,
    "start_time": "2024-12-31T10:47:22.712Z"
   },
   {
    "duration": 11,
    "start_time": "2024-12-31T10:47:22.831Z"
   },
   {
    "duration": 203,
    "start_time": "2024-12-31T10:47:22.843Z"
   },
   {
    "duration": 193,
    "start_time": "2024-12-31T10:47:23.048Z"
   },
   {
    "duration": 5,
    "start_time": "2024-12-31T10:47:23.242Z"
   },
   {
    "duration": 11,
    "start_time": "2024-12-31T10:47:23.249Z"
   },
   {
    "duration": 148,
    "start_time": "2024-12-31T10:47:23.270Z"
   },
   {
    "duration": 156,
    "start_time": "2024-12-31T10:47:23.419Z"
   },
   {
    "duration": 4,
    "start_time": "2024-12-31T10:47:23.577Z"
   },
   {
    "duration": 9,
    "start_time": "2024-12-31T10:47:23.582Z"
   },
   {
    "duration": 17,
    "start_time": "2024-12-31T10:47:23.592Z"
   },
   {
    "duration": 112,
    "start_time": "2024-12-31T10:47:23.611Z"
   },
   {
    "duration": 6,
    "start_time": "2024-12-31T10:47:23.725Z"
   },
   {
    "duration": 22,
    "start_time": "2024-12-31T10:47:23.732Z"
   },
   {
    "duration": 111,
    "start_time": "2024-12-31T10:47:23.755Z"
   },
   {
    "duration": 5,
    "start_time": "2024-12-31T10:47:23.867Z"
   },
   {
    "duration": 19,
    "start_time": "2024-12-31T10:47:23.873Z"
   },
   {
    "duration": 104,
    "start_time": "2024-12-31T10:47:23.894Z"
   },
   {
    "duration": 6,
    "start_time": "2024-12-31T10:47:24.000Z"
   },
   {
    "duration": 108,
    "start_time": "2024-12-31T10:47:24.008Z"
   },
   {
    "duration": 28,
    "start_time": "2024-12-31T10:47:24.119Z"
   },
   {
    "duration": 195,
    "start_time": "2024-12-31T10:47:24.149Z"
   },
   {
    "duration": 6,
    "start_time": "2024-12-31T10:47:24.346Z"
   },
   {
    "duration": 23,
    "start_time": "2024-12-31T10:47:24.353Z"
   },
   {
    "duration": 27,
    "start_time": "2024-12-31T10:47:24.378Z"
   },
   {
    "duration": 5,
    "start_time": "2024-12-31T10:47:24.407Z"
   },
   {
    "duration": 59,
    "start_time": "2024-12-31T10:47:24.413Z"
   },
   {
    "duration": 2,
    "start_time": "2024-12-31T10:47:24.474Z"
   },
   {
    "duration": 21,
    "start_time": "2024-12-31T10:47:24.478Z"
   },
   {
    "duration": 11,
    "start_time": "2024-12-31T10:47:24.501Z"
   },
   {
    "duration": 28,
    "start_time": "2024-12-31T10:47:24.514Z"
   },
   {
    "duration": 7,
    "start_time": "2024-12-31T10:47:24.544Z"
   },
   {
    "duration": 1724,
    "start_time": "2024-12-31T10:47:24.553Z"
   },
   {
    "duration": 4,
    "start_time": "2024-12-31T10:47:26.279Z"
   },
   {
    "duration": 766,
    "start_time": "2024-12-31T10:47:26.284Z"
   },
   {
    "duration": 943,
    "start_time": "2024-12-31T10:47:27.052Z"
   },
   {
    "duration": 4,
    "start_time": "2024-12-31T10:47:27.997Z"
   },
   {
    "duration": 106,
    "start_time": "2024-12-31T10:47:28.003Z"
   },
   {
    "duration": 25,
    "start_time": "2024-12-31T10:47:28.111Z"
   },
   {
    "duration": 26,
    "start_time": "2024-12-31T10:47:28.138Z"
   },
   {
    "duration": 8,
    "start_time": "2024-12-31T10:47:28.165Z"
   },
   {
    "duration": 119,
    "start_time": "2024-12-31T10:47:28.174Z"
   },
   {
    "duration": 544707,
    "start_time": "2024-12-31T10:47:28.296Z"
   },
   {
    "duration": 3,
    "start_time": "2024-12-31T10:56:33.004Z"
   },
   {
    "duration": 50,
    "start_time": "2024-12-31T10:56:33.009Z"
   },
   {
    "duration": 38,
    "start_time": "2024-12-31T10:56:33.061Z"
   },
   {
    "duration": 163,
    "start_time": "2024-12-31T10:56:33.100Z"
   },
   {
    "duration": 4,
    "start_time": "2024-12-31T10:56:33.265Z"
   },
   {
    "duration": 159,
    "start_time": "2024-12-31T10:56:33.270Z"
   },
   {
    "duration": 1553,
    "start_time": "2024-12-31T11:08:16.201Z"
   },
   {
    "duration": 228,
    "start_time": "2024-12-31T11:08:17.756Z"
   },
   {
    "duration": 84,
    "start_time": "2024-12-31T11:08:17.986Z"
   },
   {
    "duration": 101,
    "start_time": "2024-12-31T11:08:18.073Z"
   },
   {
    "duration": 12,
    "start_time": "2024-12-31T11:08:18.176Z"
   },
   {
    "duration": 22,
    "start_time": "2024-12-31T11:08:18.189Z"
   },
   {
    "duration": 29,
    "start_time": "2024-12-31T11:08:18.212Z"
   },
   {
    "duration": 35,
    "start_time": "2024-12-31T11:08:18.243Z"
   },
   {
    "duration": 7,
    "start_time": "2024-12-31T11:08:18.280Z"
   },
   {
    "duration": 98,
    "start_time": "2024-12-31T11:08:18.290Z"
   },
   {
    "duration": 3,
    "start_time": "2024-12-31T11:08:18.390Z"
   },
   {
    "duration": 11,
    "start_time": "2024-12-31T11:08:18.395Z"
   },
   {
    "duration": 6,
    "start_time": "2024-12-31T11:08:18.408Z"
   },
   {
    "duration": 7,
    "start_time": "2024-12-31T11:08:18.415Z"
   },
   {
    "duration": 9,
    "start_time": "2024-12-31T11:08:18.423Z"
   },
   {
    "duration": 11,
    "start_time": "2024-12-31T11:08:18.470Z"
   },
   {
    "duration": 13,
    "start_time": "2024-12-31T11:08:18.482Z"
   },
   {
    "duration": 158,
    "start_time": "2024-12-31T11:08:18.496Z"
   },
   {
    "duration": 6,
    "start_time": "2024-12-31T11:08:18.655Z"
   },
   {
    "duration": 10,
    "start_time": "2024-12-31T11:08:18.662Z"
   },
   {
    "duration": 133,
    "start_time": "2024-12-31T11:08:18.674Z"
   },
   {
    "duration": 7,
    "start_time": "2024-12-31T11:08:18.809Z"
   },
   {
    "duration": 12,
    "start_time": "2024-12-31T11:08:18.817Z"
   },
   {
    "duration": 182,
    "start_time": "2024-12-31T11:08:18.831Z"
   },
   {
    "duration": 6,
    "start_time": "2024-12-31T11:08:19.015Z"
   },
   {
    "duration": 14,
    "start_time": "2024-12-31T11:08:19.022Z"
   },
   {
    "duration": 5,
    "start_time": "2024-12-31T11:08:19.037Z"
   },
   {
    "duration": 29,
    "start_time": "2024-12-31T11:08:19.046Z"
   },
   {
    "duration": 16,
    "start_time": "2024-12-31T11:08:19.077Z"
   },
   {
    "duration": 6,
    "start_time": "2024-12-31T11:08:19.095Z"
   },
   {
    "duration": 206,
    "start_time": "2024-12-31T11:08:19.102Z"
   },
   {
    "duration": 195,
    "start_time": "2024-12-31T11:08:19.310Z"
   },
   {
    "duration": 6,
    "start_time": "2024-12-31T11:08:19.507Z"
   },
   {
    "duration": 12,
    "start_time": "2024-12-31T11:08:19.515Z"
   },
   {
    "duration": 168,
    "start_time": "2024-12-31T11:08:19.529Z"
   },
   {
    "duration": 166,
    "start_time": "2024-12-31T11:08:19.699Z"
   },
   {
    "duration": 6,
    "start_time": "2024-12-31T11:08:19.866Z"
   },
   {
    "duration": 8,
    "start_time": "2024-12-31T11:08:19.873Z"
   },
   {
    "duration": 7,
    "start_time": "2024-12-31T11:08:19.882Z"
   },
   {
    "duration": 121,
    "start_time": "2024-12-31T11:08:19.891Z"
   },
   {
    "duration": 5,
    "start_time": "2024-12-31T11:08:20.014Z"
   },
   {
    "duration": 14,
    "start_time": "2024-12-31T11:08:20.021Z"
   },
   {
    "duration": 115,
    "start_time": "2024-12-31T11:08:20.036Z"
   },
   {
    "duration": 4,
    "start_time": "2024-12-31T11:08:20.153Z"
   },
   {
    "duration": 24,
    "start_time": "2024-12-31T11:08:20.159Z"
   },
   {
    "duration": 96,
    "start_time": "2024-12-31T11:08:20.184Z"
   },
   {
    "duration": 6,
    "start_time": "2024-12-31T11:08:20.282Z"
   },
   {
    "duration": 7,
    "start_time": "2024-12-31T11:08:20.290Z"
   },
   {
    "duration": 10,
    "start_time": "2024-12-31T11:08:20.298Z"
   },
   {
    "duration": 225,
    "start_time": "2024-12-31T11:08:20.309Z"
   },
   {
    "duration": 5,
    "start_time": "2024-12-31T11:08:20.536Z"
   },
   {
    "duration": 48,
    "start_time": "2024-12-31T11:08:20.542Z"
   },
   {
    "duration": 8,
    "start_time": "2024-12-31T11:08:20.592Z"
   },
   {
    "duration": 70,
    "start_time": "2024-12-31T11:08:20.602Z"
   },
   {
    "duration": 3,
    "start_time": "2024-12-31T11:08:20.673Z"
   },
   {
    "duration": 25,
    "start_time": "2024-12-31T11:08:20.679Z"
   },
   {
    "duration": 15,
    "start_time": "2024-12-31T11:08:20.706Z"
   },
   {
    "duration": 33,
    "start_time": "2024-12-31T11:08:20.723Z"
   },
   {
    "duration": 16,
    "start_time": "2024-12-31T11:08:20.758Z"
   },
   {
    "duration": 1713,
    "start_time": "2024-12-31T11:08:20.776Z"
   },
   {
    "duration": 4,
    "start_time": "2024-12-31T11:08:22.490Z"
   },
   {
    "duration": 753,
    "start_time": "2024-12-31T11:08:22.496Z"
   },
   {
    "duration": 958,
    "start_time": "2024-12-31T11:08:23.251Z"
   },
   {
    "duration": 5,
    "start_time": "2024-12-31T11:08:24.211Z"
   },
   {
    "duration": 36,
    "start_time": "2024-12-31T11:08:24.218Z"
   },
   {
    "duration": 24,
    "start_time": "2024-12-31T11:08:24.256Z"
   },
   {
    "duration": 6,
    "start_time": "2024-12-31T11:08:24.282Z"
   },
   {
    "duration": 8,
    "start_time": "2024-12-31T11:08:24.290Z"
   },
   {
    "duration": 120,
    "start_time": "2024-12-31T11:08:24.300Z"
   },
   {
    "duration": 551048,
    "start_time": "2024-12-31T11:08:24.422Z"
   },
   {
    "duration": 96,
    "start_time": "2024-12-31T11:17:35.477Z"
   },
   {
    "duration": 36,
    "start_time": "2024-12-31T11:17:35.575Z"
   },
   {
    "duration": 40,
    "start_time": "2024-12-31T11:17:35.613Z"
   },
   {
    "duration": 40,
    "start_time": "2024-12-31T11:17:35.655Z"
   },
   {
    "duration": 11,
    "start_time": "2024-12-31T11:17:35.697Z"
   },
   {
    "duration": 181,
    "start_time": "2024-12-31T11:17:35.710Z"
   },
   {
    "duration": 1710,
    "start_time": "2024-12-31T11:21:18.860Z"
   },
   {
    "duration": 239,
    "start_time": "2024-12-31T11:21:20.572Z"
   },
   {
    "duration": 74,
    "start_time": "2024-12-31T11:21:20.813Z"
   },
   {
    "duration": 104,
    "start_time": "2024-12-31T11:21:20.889Z"
   },
   {
    "duration": 12,
    "start_time": "2024-12-31T11:21:20.995Z"
   },
   {
    "duration": 33,
    "start_time": "2024-12-31T11:21:21.009Z"
   },
   {
    "duration": 46,
    "start_time": "2024-12-31T11:21:21.044Z"
   },
   {
    "duration": 19,
    "start_time": "2024-12-31T11:21:21.092Z"
   },
   {
    "duration": 8,
    "start_time": "2024-12-31T11:21:21.113Z"
   },
   {
    "duration": 94,
    "start_time": "2024-12-31T11:21:21.124Z"
   },
   {
    "duration": 8,
    "start_time": "2024-12-31T11:21:21.220Z"
   },
   {
    "duration": 44,
    "start_time": "2024-12-31T11:21:21.230Z"
   },
   {
    "duration": 7,
    "start_time": "2024-12-31T11:21:21.276Z"
   },
   {
    "duration": 76,
    "start_time": "2024-12-31T11:21:21.284Z"
   },
   {
    "duration": 12,
    "start_time": "2024-12-31T11:21:21.361Z"
   },
   {
    "duration": 10,
    "start_time": "2024-12-31T11:21:21.375Z"
   },
   {
    "duration": 17,
    "start_time": "2024-12-31T11:21:21.386Z"
   },
   {
    "duration": 145,
    "start_time": "2024-12-31T11:21:21.404Z"
   },
   {
    "duration": 5,
    "start_time": "2024-12-31T11:21:21.551Z"
   },
   {
    "duration": 12,
    "start_time": "2024-12-31T11:21:21.558Z"
   },
   {
    "duration": 139,
    "start_time": "2024-12-31T11:21:21.572Z"
   },
   {
    "duration": 7,
    "start_time": "2024-12-31T11:21:21.713Z"
   },
   {
    "duration": 21,
    "start_time": "2024-12-31T11:21:21.722Z"
   },
   {
    "duration": 182,
    "start_time": "2024-12-31T11:21:21.745Z"
   },
   {
    "duration": 6,
    "start_time": "2024-12-31T11:21:21.929Z"
   },
   {
    "duration": 18,
    "start_time": "2024-12-31T11:21:21.937Z"
   },
   {
    "duration": 6,
    "start_time": "2024-12-31T11:21:21.972Z"
   },
   {
    "duration": 22,
    "start_time": "2024-12-31T11:21:21.984Z"
   },
   {
    "duration": 25,
    "start_time": "2024-12-31T11:21:22.008Z"
   },
   {
    "duration": 10,
    "start_time": "2024-12-31T11:21:22.036Z"
   },
   {
    "duration": 200,
    "start_time": "2024-12-31T11:21:22.048Z"
   },
   {
    "duration": 194,
    "start_time": "2024-12-31T11:21:22.249Z"
   },
   {
    "duration": 7,
    "start_time": "2024-12-31T11:21:22.445Z"
   },
   {
    "duration": 23,
    "start_time": "2024-12-31T11:21:22.453Z"
   },
   {
    "duration": 156,
    "start_time": "2024-12-31T11:21:22.478Z"
   },
   {
    "duration": 161,
    "start_time": "2024-12-31T11:21:22.636Z"
   },
   {
    "duration": 5,
    "start_time": "2024-12-31T11:21:22.799Z"
   },
   {
    "duration": 12,
    "start_time": "2024-12-31T11:21:22.806Z"
   },
   {
    "duration": 17,
    "start_time": "2024-12-31T11:21:22.820Z"
   },
   {
    "duration": 111,
    "start_time": "2024-12-31T11:21:22.838Z"
   },
   {
    "duration": 8,
    "start_time": "2024-12-31T11:21:22.951Z"
   },
   {
    "duration": 18,
    "start_time": "2024-12-31T11:21:22.971Z"
   },
   {
    "duration": 96,
    "start_time": "2024-12-31T11:21:22.990Z"
   },
   {
    "duration": 5,
    "start_time": "2024-12-31T11:21:23.088Z"
   },
   {
    "duration": 14,
    "start_time": "2024-12-31T11:21:23.094Z"
   },
   {
    "duration": 111,
    "start_time": "2024-12-31T11:21:23.109Z"
   },
   {
    "duration": 6,
    "start_time": "2024-12-31T11:21:23.222Z"
   },
   {
    "duration": 45,
    "start_time": "2024-12-31T11:21:23.229Z"
   },
   {
    "duration": 111,
    "start_time": "2024-12-31T11:21:23.276Z"
   },
   {
    "duration": 204,
    "start_time": "2024-12-31T11:21:23.389Z"
   },
   {
    "duration": 6,
    "start_time": "2024-12-31T11:21:23.595Z"
   },
   {
    "duration": 34,
    "start_time": "2024-12-31T11:21:23.603Z"
   },
   {
    "duration": 37,
    "start_time": "2024-12-31T11:21:23.638Z"
   },
   {
    "duration": 51,
    "start_time": "2024-12-31T11:21:23.676Z"
   },
   {
    "duration": 4,
    "start_time": "2024-12-31T11:21:23.728Z"
   },
   {
    "duration": 17,
    "start_time": "2024-12-31T11:21:23.769Z"
   },
   {
    "duration": 24,
    "start_time": "2024-12-31T11:21:23.787Z"
   },
   {
    "duration": 23,
    "start_time": "2024-12-31T11:21:23.813Z"
   },
   {
    "duration": 32,
    "start_time": "2024-12-31T11:21:23.838Z"
   },
   {
    "duration": 1758,
    "start_time": "2024-12-31T11:21:23.873Z"
   },
   {
    "duration": 4,
    "start_time": "2024-12-31T11:21:25.633Z"
   },
   {
    "duration": 794,
    "start_time": "2024-12-31T11:21:25.639Z"
   },
   {
    "duration": 969,
    "start_time": "2024-12-31T11:21:26.435Z"
   },
   {
    "duration": 4,
    "start_time": "2024-12-31T11:21:27.406Z"
   },
   {
    "duration": 8,
    "start_time": "2024-12-31T11:21:27.411Z"
   },
   {
    "duration": 11,
    "start_time": "2024-12-31T11:21:27.420Z"
   },
   {
    "duration": 11,
    "start_time": "2024-12-31T11:21:27.433Z"
   },
   {
    "duration": 4,
    "start_time": "2024-12-31T11:21:27.446Z"
   },
   {
    "duration": 137,
    "start_time": "2024-12-31T11:21:27.451Z"
   },
   {
    "duration": 508828,
    "start_time": "2024-12-31T11:21:27.590Z"
   },
   {
    "duration": 4,
    "start_time": "2024-12-31T11:29:56.419Z"
   },
   {
    "duration": 17,
    "start_time": "2024-12-31T11:29:56.425Z"
   },
   {
    "duration": 21,
    "start_time": "2024-12-31T11:29:56.443Z"
   },
   {
    "duration": 18,
    "start_time": "2024-12-31T11:29:56.470Z"
   },
   {
    "duration": 9,
    "start_time": "2024-12-31T11:29:56.489Z"
   },
   {
    "duration": 133,
    "start_time": "2024-12-31T11:29:56.500Z"
   },
   {
    "duration": 1649,
    "start_time": "2024-12-31T11:36:23.036Z"
   },
   {
    "duration": 228,
    "start_time": "2024-12-31T11:36:24.687Z"
   },
   {
    "duration": 69,
    "start_time": "2024-12-31T11:36:24.917Z"
   },
   {
    "duration": 102,
    "start_time": "2024-12-31T11:36:24.988Z"
   },
   {
    "duration": 12,
    "start_time": "2024-12-31T11:36:25.091Z"
   },
   {
    "duration": 27,
    "start_time": "2024-12-31T11:36:25.105Z"
   },
   {
    "duration": 49,
    "start_time": "2024-12-31T11:36:25.134Z"
   },
   {
    "duration": 20,
    "start_time": "2024-12-31T11:36:25.184Z"
   },
   {
    "duration": 42,
    "start_time": "2024-12-31T11:36:25.206Z"
   },
   {
    "duration": 70,
    "start_time": "2024-12-31T11:36:25.251Z"
   },
   {
    "duration": 4,
    "start_time": "2024-12-31T11:36:25.323Z"
   },
   {
    "duration": 45,
    "start_time": "2024-12-31T11:36:25.328Z"
   },
   {
    "duration": 6,
    "start_time": "2024-12-31T11:36:25.375Z"
   },
   {
    "duration": 64,
    "start_time": "2024-12-31T11:36:25.383Z"
   },
   {
    "duration": 10,
    "start_time": "2024-12-31T11:36:25.449Z"
   },
   {
    "duration": 10,
    "start_time": "2024-12-31T11:36:25.461Z"
   },
   {
    "duration": 16,
    "start_time": "2024-12-31T11:36:25.472Z"
   },
   {
    "duration": 147,
    "start_time": "2024-12-31T11:36:25.489Z"
   },
   {
    "duration": 5,
    "start_time": "2024-12-31T11:36:25.638Z"
   },
   {
    "duration": 10,
    "start_time": "2024-12-31T11:36:25.645Z"
   },
   {
    "duration": 172,
    "start_time": "2024-12-31T11:36:25.656Z"
   },
   {
    "duration": 8,
    "start_time": "2024-12-31T11:36:25.829Z"
   },
   {
    "duration": 10,
    "start_time": "2024-12-31T11:36:25.839Z"
   },
   {
    "duration": 170,
    "start_time": "2024-12-31T11:36:25.870Z"
   },
   {
    "duration": 6,
    "start_time": "2024-12-31T11:36:26.041Z"
   },
   {
    "duration": 22,
    "start_time": "2024-12-31T11:36:26.049Z"
   },
   {
    "duration": 10,
    "start_time": "2024-12-31T11:36:26.072Z"
   },
   {
    "duration": 8,
    "start_time": "2024-12-31T11:36:26.086Z"
   },
   {
    "duration": 10,
    "start_time": "2024-12-31T11:36:26.095Z"
   },
   {
    "duration": 7,
    "start_time": "2024-12-31T11:36:26.107Z"
   },
   {
    "duration": 212,
    "start_time": "2024-12-31T11:36:26.116Z"
   },
   {
    "duration": 215,
    "start_time": "2024-12-31T11:36:26.329Z"
   },
   {
    "duration": 5,
    "start_time": "2024-12-31T11:36:26.546Z"
   },
   {
    "duration": 24,
    "start_time": "2024-12-31T11:36:26.553Z"
   },
   {
    "duration": 161,
    "start_time": "2024-12-31T11:36:26.579Z"
   },
   {
    "duration": 167,
    "start_time": "2024-12-31T11:36:26.742Z"
   },
   {
    "duration": 5,
    "start_time": "2024-12-31T11:36:26.911Z"
   },
   {
    "duration": 89,
    "start_time": "2024-12-31T11:36:26.918Z"
   },
   {
    "duration": 8,
    "start_time": "2024-12-31T11:36:27.010Z"
   },
   {
    "duration": 103,
    "start_time": "2024-12-31T11:36:27.020Z"
   },
   {
    "duration": 6,
    "start_time": "2024-12-31T11:36:27.126Z"
   },
   {
    "duration": 54,
    "start_time": "2024-12-31T11:36:27.134Z"
   },
   {
    "duration": 93,
    "start_time": "2024-12-31T11:36:27.190Z"
   },
   {
    "duration": 5,
    "start_time": "2024-12-31T11:36:27.285Z"
   },
   {
    "duration": 20,
    "start_time": "2024-12-31T11:36:27.292Z"
   },
   {
    "duration": 103,
    "start_time": "2024-12-31T11:36:27.314Z"
   },
   {
    "duration": 6,
    "start_time": "2024-12-31T11:36:27.419Z"
   },
   {
    "duration": 72,
    "start_time": "2024-12-31T11:36:27.426Z"
   },
   {
    "duration": 34,
    "start_time": "2024-12-31T11:36:27.500Z"
   },
   {
    "duration": 196,
    "start_time": "2024-12-31T11:36:27.536Z"
   },
   {
    "duration": 6,
    "start_time": "2024-12-31T11:36:27.734Z"
   },
   {
    "duration": 47,
    "start_time": "2024-12-31T11:36:27.742Z"
   },
   {
    "duration": 6,
    "start_time": "2024-12-31T11:36:27.791Z"
   },
   {
    "duration": 73,
    "start_time": "2024-12-31T11:36:27.799Z"
   },
   {
    "duration": 3,
    "start_time": "2024-12-31T11:36:27.874Z"
   },
   {
    "duration": 43,
    "start_time": "2024-12-31T11:36:27.879Z"
   },
   {
    "duration": 36,
    "start_time": "2024-12-31T11:36:27.924Z"
   },
   {
    "duration": 22,
    "start_time": "2024-12-31T11:36:27.962Z"
   },
   {
    "duration": 9,
    "start_time": "2024-12-31T11:36:27.986Z"
   },
   {
    "duration": 1766,
    "start_time": "2024-12-31T11:36:27.996Z"
   },
   {
    "duration": 8,
    "start_time": "2024-12-31T11:36:29.763Z"
   },
   {
    "duration": 761,
    "start_time": "2024-12-31T11:36:29.773Z"
   },
   {
    "duration": 959,
    "start_time": "2024-12-31T11:36:30.536Z"
   },
   {
    "duration": 6,
    "start_time": "2024-12-31T11:36:31.497Z"
   },
   {
    "duration": 8,
    "start_time": "2024-12-31T11:36:31.504Z"
   },
   {
    "duration": 32,
    "start_time": "2024-12-31T11:36:31.514Z"
   },
   {
    "duration": 22,
    "start_time": "2024-12-31T11:36:31.547Z"
   },
   {
    "duration": 7,
    "start_time": "2024-12-31T11:36:31.571Z"
   },
   {
    "duration": 123,
    "start_time": "2024-12-31T11:36:31.580Z"
   },
   {
    "duration": 602939,
    "start_time": "2024-12-31T11:36:31.705Z"
   },
   {
    "duration": 4,
    "start_time": "2024-12-31T11:46:34.646Z"
   },
   {
    "duration": 13,
    "start_time": "2024-12-31T11:46:34.651Z"
   },
   {
    "duration": 27,
    "start_time": "2024-12-31T11:46:34.665Z"
   },
   {
    "duration": 15,
    "start_time": "2024-12-31T11:46:34.694Z"
   },
   {
    "duration": 7,
    "start_time": "2024-12-31T11:46:34.711Z"
   },
   {
    "duration": 184,
    "start_time": "2024-12-31T11:46:34.719Z"
   },
   {
    "duration": 4,
    "start_time": "2024-12-31T11:48:41.980Z"
   },
   {
    "duration": 17,
    "start_time": "2024-12-31T11:48:42.450Z"
   },
   {
    "duration": 9,
    "start_time": "2024-12-31T11:48:46.161Z"
   },
   {
    "duration": 4,
    "start_time": "2024-12-31T11:48:49.825Z"
   },
   {
    "duration": 11,
    "start_time": "2024-12-31T11:48:59.099Z"
   },
   {
    "duration": 7614233,
    "start_time": "2024-12-31T11:49:01.739Z"
   },
   {
    "duration": 3,
    "start_time": "2024-12-31T13:55:55.974Z"
   },
   {
    "duration": 14,
    "start_time": "2024-12-31T13:55:55.978Z"
   },
   {
    "duration": 15,
    "start_time": "2024-12-31T13:55:55.994Z"
   },
   {
    "duration": 1556,
    "start_time": "2024-12-31T14:00:47.067Z"
   },
   {
    "duration": 225,
    "start_time": "2024-12-31T14:00:48.625Z"
   },
   {
    "duration": 65,
    "start_time": "2024-12-31T14:00:48.852Z"
   },
   {
    "duration": 94,
    "start_time": "2024-12-31T14:00:48.918Z"
   },
   {
    "duration": 12,
    "start_time": "2024-12-31T14:00:49.013Z"
   },
   {
    "duration": 12,
    "start_time": "2024-12-31T14:00:49.026Z"
   },
   {
    "duration": 29,
    "start_time": "2024-12-31T14:00:49.070Z"
   },
   {
    "duration": 17,
    "start_time": "2024-12-31T14:00:49.101Z"
   },
   {
    "duration": 7,
    "start_time": "2024-12-31T14:00:49.119Z"
   },
   {
    "duration": 86,
    "start_time": "2024-12-31T14:00:49.129Z"
   },
   {
    "duration": 4,
    "start_time": "2024-12-31T14:00:49.216Z"
   },
   {
    "duration": 29,
    "start_time": "2024-12-31T14:00:49.221Z"
   },
   {
    "duration": 20,
    "start_time": "2024-12-31T14:00:49.252Z"
   },
   {
    "duration": 5,
    "start_time": "2024-12-31T14:00:49.274Z"
   },
   {
    "duration": 10,
    "start_time": "2024-12-31T14:00:49.281Z"
   },
   {
    "duration": 9,
    "start_time": "2024-12-31T14:00:49.292Z"
   },
   {
    "duration": 14,
    "start_time": "2024-12-31T14:00:49.303Z"
   },
   {
    "duration": 164,
    "start_time": "2024-12-31T14:00:49.319Z"
   },
   {
    "duration": 6,
    "start_time": "2024-12-31T14:00:49.484Z"
   },
   {
    "duration": 4,
    "start_time": "2024-12-31T14:00:49.492Z"
   },
   {
    "duration": 143,
    "start_time": "2024-12-31T14:00:49.497Z"
   },
   {
    "duration": 7,
    "start_time": "2024-12-31T14:00:49.642Z"
   },
   {
    "duration": 75,
    "start_time": "2024-12-31T14:00:49.651Z"
   },
   {
    "duration": 167,
    "start_time": "2024-12-31T14:00:49.728Z"
   },
   {
    "duration": 5,
    "start_time": "2024-12-31T14:00:49.897Z"
   },
   {
    "duration": 90,
    "start_time": "2024-12-31T14:00:49.904Z"
   },
   {
    "duration": 31,
    "start_time": "2024-12-31T14:00:49.995Z"
   },
   {
    "duration": 23,
    "start_time": "2024-12-31T14:00:50.031Z"
   },
   {
    "duration": 24,
    "start_time": "2024-12-31T14:00:50.056Z"
   },
   {
    "duration": 10,
    "start_time": "2024-12-31T14:00:50.081Z"
   },
   {
    "duration": 191,
    "start_time": "2024-12-31T14:00:50.093Z"
   },
   {
    "duration": 191,
    "start_time": "2024-12-31T14:00:50.286Z"
   },
   {
    "duration": 6,
    "start_time": "2024-12-31T14:00:50.479Z"
   },
   {
    "duration": 29,
    "start_time": "2024-12-31T14:00:50.486Z"
   },
   {
    "duration": 146,
    "start_time": "2024-12-31T14:00:50.517Z"
   },
   {
    "duration": 158,
    "start_time": "2024-12-31T14:00:50.665Z"
   },
   {
    "duration": 4,
    "start_time": "2024-12-31T14:00:50.824Z"
   },
   {
    "duration": 33,
    "start_time": "2024-12-31T14:00:50.830Z"
   },
   {
    "duration": 17,
    "start_time": "2024-12-31T14:00:50.865Z"
   },
   {
    "duration": 100,
    "start_time": "2024-12-31T14:00:50.884Z"
   },
   {
    "duration": 25,
    "start_time": "2024-12-31T14:00:50.985Z"
   },
   {
    "duration": 16,
    "start_time": "2024-12-31T14:00:51.011Z"
   },
   {
    "duration": 103,
    "start_time": "2024-12-31T14:00:51.028Z"
   },
   {
    "duration": 5,
    "start_time": "2024-12-31T14:00:51.133Z"
   },
   {
    "duration": 10,
    "start_time": "2024-12-31T14:00:51.139Z"
   },
   {
    "duration": 110,
    "start_time": "2024-12-31T14:00:51.151Z"
   },
   {
    "duration": 11,
    "start_time": "2024-12-31T14:00:51.262Z"
   },
   {
    "duration": 8,
    "start_time": "2024-12-31T14:00:51.275Z"
   },
   {
    "duration": 5,
    "start_time": "2024-12-31T14:00:51.285Z"
   },
   {
    "duration": 215,
    "start_time": "2024-12-31T14:00:51.292Z"
   },
   {
    "duration": 6,
    "start_time": "2024-12-31T14:00:51.508Z"
   },
   {
    "duration": 28,
    "start_time": "2024-12-31T14:00:51.516Z"
   },
   {
    "duration": 27,
    "start_time": "2024-12-31T14:00:51.546Z"
   },
   {
    "duration": 151,
    "start_time": "2024-12-31T14:00:51.575Z"
   },
   {
    "duration": 3,
    "start_time": "2024-12-31T14:00:51.727Z"
   },
   {
    "duration": 26,
    "start_time": "2024-12-31T14:00:51.731Z"
   },
   {
    "duration": 14,
    "start_time": "2024-12-31T14:00:51.759Z"
   },
   {
    "duration": 24,
    "start_time": "2024-12-31T14:00:51.775Z"
   },
   {
    "duration": 7,
    "start_time": "2024-12-31T14:00:51.801Z"
   },
   {
    "duration": 1697,
    "start_time": "2024-12-31T14:00:51.810Z"
   },
   {
    "duration": 4,
    "start_time": "2024-12-31T14:00:53.508Z"
   },
   {
    "duration": 774,
    "start_time": "2024-12-31T14:00:53.514Z"
   },
   {
    "duration": 970,
    "start_time": "2024-12-31T14:00:54.290Z"
   },
   {
    "duration": 8,
    "start_time": "2024-12-31T14:00:55.262Z"
   },
   {
    "duration": 4,
    "start_time": "2024-12-31T14:00:55.272Z"
   },
   {
    "duration": 36,
    "start_time": "2024-12-31T14:00:55.278Z"
   },
   {
    "duration": 25,
    "start_time": "2024-12-31T14:00:55.316Z"
   },
   {
    "duration": 10,
    "start_time": "2024-12-31T14:00:55.343Z"
   },
   {
    "duration": 115,
    "start_time": "2024-12-31T14:00:55.355Z"
   },
   {
    "duration": 19445,
    "start_time": "2024-12-31T14:00:55.472Z"
   },
   {
    "duration": 3,
    "start_time": "2024-12-31T14:01:14.919Z"
   },
   {
    "duration": 109,
    "start_time": "2024-12-31T14:01:14.924Z"
   },
   {
    "duration": 52,
    "start_time": "2024-12-31T14:01:15.035Z"
   },
   {
    "duration": 43,
    "start_time": "2024-12-31T14:01:15.089Z"
   },
   {
    "duration": 3,
    "start_time": "2024-12-31T14:01:15.133Z"
   },
   {
    "duration": 167,
    "start_time": "2024-12-31T14:01:15.138Z"
   },
   {
    "duration": 3,
    "start_time": "2024-12-31T14:03:10.875Z"
   },
   {
    "duration": 7,
    "start_time": "2024-12-31T14:03:11.389Z"
   },
   {
    "duration": 16,
    "start_time": "2024-12-31T14:03:13.232Z"
   },
   {
    "duration": 1566,
    "start_time": "2024-12-31T14:04:24.104Z"
   },
   {
    "duration": 234,
    "start_time": "2024-12-31T14:04:25.672Z"
   },
   {
    "duration": 68,
    "start_time": "2024-12-31T14:04:25.910Z"
   },
   {
    "duration": 98,
    "start_time": "2024-12-31T14:04:25.979Z"
   },
   {
    "duration": 11,
    "start_time": "2024-12-31T14:04:26.079Z"
   },
   {
    "duration": 13,
    "start_time": "2024-12-31T14:04:26.092Z"
   },
   {
    "duration": 30,
    "start_time": "2024-12-31T14:04:26.106Z"
   },
   {
    "duration": 44,
    "start_time": "2024-12-31T14:04:26.137Z"
   },
   {
    "duration": 7,
    "start_time": "2024-12-31T14:04:26.183Z"
   },
   {
    "duration": 97,
    "start_time": "2024-12-31T14:04:26.192Z"
   },
   {
    "duration": 4,
    "start_time": "2024-12-31T14:04:26.291Z"
   },
   {
    "duration": 33,
    "start_time": "2024-12-31T14:04:26.296Z"
   },
   {
    "duration": 6,
    "start_time": "2024-12-31T14:04:26.330Z"
   },
   {
    "duration": 5,
    "start_time": "2024-12-31T14:04:26.338Z"
   },
   {
    "duration": 26,
    "start_time": "2024-12-31T14:04:26.345Z"
   },
   {
    "duration": 10,
    "start_time": "2024-12-31T14:04:26.372Z"
   },
   {
    "duration": 10,
    "start_time": "2024-12-31T14:04:26.384Z"
   },
   {
    "duration": 162,
    "start_time": "2024-12-31T14:04:26.396Z"
   },
   {
    "duration": 13,
    "start_time": "2024-12-31T14:04:26.560Z"
   },
   {
    "duration": 13,
    "start_time": "2024-12-31T14:04:26.575Z"
   },
   {
    "duration": 137,
    "start_time": "2024-12-31T14:04:26.589Z"
   },
   {
    "duration": 8,
    "start_time": "2024-12-31T14:04:26.727Z"
   },
   {
    "duration": 15,
    "start_time": "2024-12-31T14:04:26.736Z"
   },
   {
    "duration": 179,
    "start_time": "2024-12-31T14:04:26.753Z"
   },
   {
    "duration": 7,
    "start_time": "2024-12-31T14:04:26.934Z"
   },
   {
    "duration": 13,
    "start_time": "2024-12-31T14:04:26.942Z"
   },
   {
    "duration": 4,
    "start_time": "2024-12-31T14:04:26.972Z"
   },
   {
    "duration": 26,
    "start_time": "2024-12-31T14:04:26.977Z"
   },
   {
    "duration": 44,
    "start_time": "2024-12-31T14:04:27.004Z"
   },
   {
    "duration": 9,
    "start_time": "2024-12-31T14:04:27.049Z"
   },
   {
    "duration": 185,
    "start_time": "2024-12-31T14:04:27.059Z"
   },
   {
    "duration": 194,
    "start_time": "2024-12-31T14:04:27.246Z"
   },
   {
    "duration": 6,
    "start_time": "2024-12-31T14:04:27.441Z"
   },
   {
    "duration": 24,
    "start_time": "2024-12-31T14:04:27.448Z"
   },
   {
    "duration": 167,
    "start_time": "2024-12-31T14:04:27.473Z"
   },
   {
    "duration": 158,
    "start_time": "2024-12-31T14:04:27.642Z"
   },
   {
    "duration": 4,
    "start_time": "2024-12-31T14:04:27.802Z"
   },
   {
    "duration": 7,
    "start_time": "2024-12-31T14:04:27.807Z"
   },
   {
    "duration": 8,
    "start_time": "2024-12-31T14:04:27.815Z"
   },
   {
    "duration": 118,
    "start_time": "2024-12-31T14:04:27.824Z"
   },
   {
    "duration": 6,
    "start_time": "2024-12-31T14:04:27.944Z"
   },
   {
    "duration": 54,
    "start_time": "2024-12-31T14:04:27.951Z"
   },
   {
    "duration": 95,
    "start_time": "2024-12-31T14:04:28.007Z"
   },
   {
    "duration": 5,
    "start_time": "2024-12-31T14:04:28.103Z"
   },
   {
    "duration": 24,
    "start_time": "2024-12-31T14:04:28.109Z"
   },
   {
    "duration": 100,
    "start_time": "2024-12-31T14:04:28.135Z"
   },
   {
    "duration": 6,
    "start_time": "2024-12-31T14:04:28.237Z"
   },
   {
    "duration": 6,
    "start_time": "2024-12-31T14:04:28.244Z"
   },
   {
    "duration": 5,
    "start_time": "2024-12-31T14:04:28.271Z"
   },
   {
    "duration": 209,
    "start_time": "2024-12-31T14:04:28.277Z"
   },
   {
    "duration": 5,
    "start_time": "2024-12-31T14:04:28.487Z"
   },
   {
    "duration": 31,
    "start_time": "2024-12-31T14:04:28.494Z"
   },
   {
    "duration": 5,
    "start_time": "2024-12-31T14:04:28.527Z"
   },
   {
    "duration": 53,
    "start_time": "2024-12-31T14:04:28.533Z"
   },
   {
    "duration": 2,
    "start_time": "2024-12-31T14:04:28.588Z"
   },
   {
    "duration": 25,
    "start_time": "2024-12-31T14:04:28.591Z"
   },
   {
    "duration": 14,
    "start_time": "2024-12-31T14:04:28.618Z"
   },
   {
    "duration": 43,
    "start_time": "2024-12-31T14:04:28.633Z"
   },
   {
    "duration": 6,
    "start_time": "2024-12-31T14:04:28.677Z"
   },
   {
    "duration": 1689,
    "start_time": "2024-12-31T14:04:28.685Z"
   },
   {
    "duration": 5,
    "start_time": "2024-12-31T14:04:30.376Z"
   },
   {
    "duration": 774,
    "start_time": "2024-12-31T14:04:30.382Z"
   },
   {
    "duration": 942,
    "start_time": "2024-12-31T14:04:31.157Z"
   },
   {
    "duration": 6,
    "start_time": "2024-12-31T14:04:32.100Z"
   },
   {
    "duration": 12,
    "start_time": "2024-12-31T14:04:32.108Z"
   },
   {
    "duration": 27,
    "start_time": "2024-12-31T14:04:32.122Z"
   },
   {
    "duration": 33,
    "start_time": "2024-12-31T14:04:32.151Z"
   },
   {
    "duration": 4,
    "start_time": "2024-12-31T14:04:32.186Z"
   },
   {
    "duration": 119,
    "start_time": "2024-12-31T14:04:32.191Z"
   },
   {
    "duration": 19142,
    "start_time": "2024-12-31T14:04:32.312Z"
   },
   {
    "duration": 4,
    "start_time": "2024-12-31T14:04:51.456Z"
   },
   {
    "duration": 18,
    "start_time": "2024-12-31T14:04:51.462Z"
   },
   {
    "duration": 26,
    "start_time": "2024-12-31T14:04:51.482Z"
   },
   {
    "duration": 58,
    "start_time": "2024-12-31T14:04:51.509Z"
   },
   {
    "duration": 99,
    "start_time": "2024-12-31T14:04:51.569Z"
   },
   {
    "duration": 206,
    "start_time": "2024-12-31T14:04:51.670Z"
   },
   {
    "duration": 1633,
    "start_time": "2024-12-31T14:05:48.341Z"
   },
   {
    "duration": 233,
    "start_time": "2024-12-31T14:05:49.976Z"
   },
   {
    "duration": 66,
    "start_time": "2024-12-31T14:05:50.211Z"
   },
   {
    "duration": 99,
    "start_time": "2024-12-31T14:05:50.279Z"
   },
   {
    "duration": 12,
    "start_time": "2024-12-31T14:05:50.379Z"
   },
   {
    "duration": 15,
    "start_time": "2024-12-31T14:05:50.392Z"
   },
   {
    "duration": 31,
    "start_time": "2024-12-31T14:05:50.409Z"
   },
   {
    "duration": 43,
    "start_time": "2024-12-31T14:05:50.441Z"
   },
   {
    "duration": 8,
    "start_time": "2024-12-31T14:05:50.486Z"
   },
   {
    "duration": 93,
    "start_time": "2024-12-31T14:05:50.496Z"
   },
   {
    "duration": 4,
    "start_time": "2024-12-31T14:05:50.590Z"
   },
   {
    "duration": 22,
    "start_time": "2024-12-31T14:05:50.595Z"
   },
   {
    "duration": 7,
    "start_time": "2024-12-31T14:05:50.618Z"
   },
   {
    "duration": 7,
    "start_time": "2024-12-31T14:05:50.626Z"
   },
   {
    "duration": 39,
    "start_time": "2024-12-31T14:05:50.634Z"
   },
   {
    "duration": 9,
    "start_time": "2024-12-31T14:05:50.675Z"
   },
   {
    "duration": 13,
    "start_time": "2024-12-31T14:05:50.686Z"
   },
   {
    "duration": 157,
    "start_time": "2024-12-31T14:05:50.700Z"
   },
   {
    "duration": 11,
    "start_time": "2024-12-31T14:05:50.859Z"
   },
   {
    "duration": 3,
    "start_time": "2024-12-31T14:05:50.872Z"
   },
   {
    "duration": 134,
    "start_time": "2024-12-31T14:05:50.877Z"
   },
   {
    "duration": 7,
    "start_time": "2024-12-31T14:05:51.013Z"
   },
   {
    "duration": 14,
    "start_time": "2024-12-31T14:05:51.021Z"
   },
   {
    "duration": 174,
    "start_time": "2024-12-31T14:05:51.036Z"
   },
   {
    "duration": 6,
    "start_time": "2024-12-31T14:05:51.211Z"
   },
   {
    "duration": 12,
    "start_time": "2024-12-31T14:05:51.219Z"
   },
   {
    "duration": 7,
    "start_time": "2024-12-31T14:05:51.232Z"
   },
   {
    "duration": 28,
    "start_time": "2024-12-31T14:05:51.244Z"
   },
   {
    "duration": 14,
    "start_time": "2024-12-31T14:05:51.274Z"
   },
   {
    "duration": 7,
    "start_time": "2024-12-31T14:05:51.290Z"
   },
   {
    "duration": 201,
    "start_time": "2024-12-31T14:05:51.299Z"
   },
   {
    "duration": 197,
    "start_time": "2024-12-31T14:05:51.501Z"
   },
   {
    "duration": 7,
    "start_time": "2024-12-31T14:05:51.700Z"
   },
   {
    "duration": 30,
    "start_time": "2024-12-31T14:05:51.708Z"
   },
   {
    "duration": 152,
    "start_time": "2024-12-31T14:05:51.740Z"
   },
   {
    "duration": 158,
    "start_time": "2024-12-31T14:05:51.894Z"
   },
   {
    "duration": 5,
    "start_time": "2024-12-31T14:05:52.054Z"
   },
   {
    "duration": 46,
    "start_time": "2024-12-31T14:05:52.061Z"
   },
   {
    "duration": 40,
    "start_time": "2024-12-31T14:05:52.109Z"
   },
   {
    "duration": 140,
    "start_time": "2024-12-31T14:05:52.150Z"
   },
   {
    "duration": 6,
    "start_time": "2024-12-31T14:05:52.292Z"
   },
   {
    "duration": 46,
    "start_time": "2024-12-31T14:05:52.299Z"
   },
   {
    "duration": 129,
    "start_time": "2024-12-31T14:05:52.347Z"
   },
   {
    "duration": 4,
    "start_time": "2024-12-31T14:05:52.478Z"
   },
   {
    "duration": 21,
    "start_time": "2024-12-31T14:05:52.484Z"
   },
   {
    "duration": 100,
    "start_time": "2024-12-31T14:05:52.507Z"
   },
   {
    "duration": 6,
    "start_time": "2024-12-31T14:05:52.609Z"
   },
   {
    "duration": 94,
    "start_time": "2024-12-31T14:05:52.617Z"
   },
   {
    "duration": 12,
    "start_time": "2024-12-31T14:05:52.712Z"
   },
   {
    "duration": 197,
    "start_time": "2024-12-31T14:05:52.725Z"
   },
   {
    "duration": 5,
    "start_time": "2024-12-31T14:05:52.924Z"
   },
   {
    "duration": 91,
    "start_time": "2024-12-31T14:05:52.931Z"
   },
   {
    "duration": 5,
    "start_time": "2024-12-31T14:05:53.024Z"
   },
   {
    "duration": 39,
    "start_time": "2024-12-31T14:05:53.031Z"
   },
   {
    "duration": 3,
    "start_time": "2024-12-31T14:05:53.071Z"
   },
   {
    "duration": 16,
    "start_time": "2024-12-31T14:05:53.075Z"
   },
   {
    "duration": 20,
    "start_time": "2024-12-31T14:05:53.092Z"
   },
   {
    "duration": 18,
    "start_time": "2024-12-31T14:05:53.114Z"
   },
   {
    "duration": 6,
    "start_time": "2024-12-31T14:05:53.134Z"
   },
   {
    "duration": 1777,
    "start_time": "2024-12-31T14:05:53.142Z"
   },
   {
    "duration": 4,
    "start_time": "2024-12-31T14:05:54.921Z"
   },
   {
    "duration": 848,
    "start_time": "2024-12-31T14:05:54.926Z"
   },
   {
    "duration": 1003,
    "start_time": "2024-12-31T14:05:55.776Z"
   },
   {
    "duration": 6,
    "start_time": "2024-12-31T14:05:56.781Z"
   },
   {
    "duration": 21,
    "start_time": "2024-12-31T14:05:56.789Z"
   },
   {
    "duration": 11,
    "start_time": "2024-12-31T14:05:56.811Z"
   },
   {
    "duration": 19,
    "start_time": "2024-12-31T14:05:56.824Z"
   },
   {
    "duration": 7,
    "start_time": "2024-12-31T14:05:56.845Z"
   },
   {
    "duration": 124,
    "start_time": "2024-12-31T14:05:56.854Z"
   },
   {
    "duration": 18330,
    "start_time": "2024-12-31T14:05:56.980Z"
   },
   {
    "duration": 4,
    "start_time": "2024-12-31T14:06:15.311Z"
   },
   {
    "duration": 42,
    "start_time": "2024-12-31T14:06:15.317Z"
   },
   {
    "duration": 16,
    "start_time": "2024-12-31T14:06:15.360Z"
   },
   {
    "duration": 10,
    "start_time": "2024-12-31T14:06:15.377Z"
   },
   {
    "duration": 3,
    "start_time": "2024-12-31T14:06:15.389Z"
   },
   {
    "duration": 157,
    "start_time": "2024-12-31T14:06:15.394Z"
   },
   {
    "duration": 1529,
    "start_time": "2024-12-31T14:07:22.334Z"
   },
   {
    "duration": 231,
    "start_time": "2024-12-31T14:07:23.865Z"
   },
   {
    "duration": 86,
    "start_time": "2024-12-31T14:07:24.099Z"
   },
   {
    "duration": 91,
    "start_time": "2024-12-31T14:07:24.187Z"
   },
   {
    "duration": 11,
    "start_time": "2024-12-31T14:07:24.280Z"
   },
   {
    "duration": 13,
    "start_time": "2024-12-31T14:07:24.292Z"
   },
   {
    "duration": 29,
    "start_time": "2024-12-31T14:07:24.307Z"
   },
   {
    "duration": 40,
    "start_time": "2024-12-31T14:07:24.337Z"
   },
   {
    "duration": 10,
    "start_time": "2024-12-31T14:07:24.379Z"
   },
   {
    "duration": 93,
    "start_time": "2024-12-31T14:07:24.391Z"
   },
   {
    "duration": 3,
    "start_time": "2024-12-31T14:07:24.486Z"
   },
   {
    "duration": 36,
    "start_time": "2024-12-31T14:07:24.490Z"
   },
   {
    "duration": 7,
    "start_time": "2024-12-31T14:07:24.528Z"
   },
   {
    "duration": 23,
    "start_time": "2024-12-31T14:07:24.536Z"
   },
   {
    "duration": 9,
    "start_time": "2024-12-31T14:07:24.561Z"
   },
   {
    "duration": 29,
    "start_time": "2024-12-31T14:07:24.571Z"
   },
   {
    "duration": 36,
    "start_time": "2024-12-31T14:07:24.602Z"
   },
   {
    "duration": 153,
    "start_time": "2024-12-31T14:07:24.640Z"
   },
   {
    "duration": 5,
    "start_time": "2024-12-31T14:07:24.794Z"
   },
   {
    "duration": 14,
    "start_time": "2024-12-31T14:07:24.800Z"
   },
   {
    "duration": 129,
    "start_time": "2024-12-31T14:07:24.816Z"
   },
   {
    "duration": 8,
    "start_time": "2024-12-31T14:07:24.947Z"
   },
   {
    "duration": 104,
    "start_time": "2024-12-31T14:07:24.957Z"
   },
   {
    "duration": 176,
    "start_time": "2024-12-31T14:07:25.063Z"
   },
   {
    "duration": 5,
    "start_time": "2024-12-31T14:07:25.241Z"
   },
   {
    "duration": 29,
    "start_time": "2024-12-31T14:07:25.248Z"
   },
   {
    "duration": 5,
    "start_time": "2024-12-31T14:07:25.279Z"
   },
   {
    "duration": 8,
    "start_time": "2024-12-31T14:07:25.289Z"
   },
   {
    "duration": 11,
    "start_time": "2024-12-31T14:07:25.299Z"
   },
   {
    "duration": 7,
    "start_time": "2024-12-31T14:07:25.312Z"
   },
   {
    "duration": 221,
    "start_time": "2024-12-31T14:07:25.320Z"
   },
   {
    "duration": 204,
    "start_time": "2024-12-31T14:07:25.543Z"
   },
   {
    "duration": 7,
    "start_time": "2024-12-31T14:07:25.750Z"
   },
   {
    "duration": 23,
    "start_time": "2024-12-31T14:07:25.759Z"
   },
   {
    "duration": 164,
    "start_time": "2024-12-31T14:07:25.784Z"
   },
   {
    "duration": 161,
    "start_time": "2024-12-31T14:07:25.949Z"
   },
   {
    "duration": 5,
    "start_time": "2024-12-31T14:07:26.111Z"
   },
   {
    "duration": 7,
    "start_time": "2024-12-31T14:07:26.117Z"
   },
   {
    "duration": 7,
    "start_time": "2024-12-31T14:07:26.125Z"
   },
   {
    "duration": 125,
    "start_time": "2024-12-31T14:07:26.134Z"
   },
   {
    "duration": 14,
    "start_time": "2024-12-31T14:07:26.261Z"
   },
   {
    "duration": 28,
    "start_time": "2024-12-31T14:07:26.276Z"
   },
   {
    "duration": 92,
    "start_time": "2024-12-31T14:07:26.306Z"
   },
   {
    "duration": 5,
    "start_time": "2024-12-31T14:07:26.399Z"
   },
   {
    "duration": 24,
    "start_time": "2024-12-31T14:07:26.405Z"
   },
   {
    "duration": 104,
    "start_time": "2024-12-31T14:07:26.431Z"
   },
   {
    "duration": 7,
    "start_time": "2024-12-31T14:07:26.536Z"
   },
   {
    "duration": 18,
    "start_time": "2024-12-31T14:07:26.544Z"
   },
   {
    "duration": 16,
    "start_time": "2024-12-31T14:07:26.563Z"
   },
   {
    "duration": 215,
    "start_time": "2024-12-31T14:07:26.580Z"
   },
   {
    "duration": 6,
    "start_time": "2024-12-31T14:07:26.796Z"
   },
   {
    "duration": 48,
    "start_time": "2024-12-31T14:07:26.804Z"
   },
   {
    "duration": 19,
    "start_time": "2024-12-31T14:07:26.854Z"
   },
   {
    "duration": 31,
    "start_time": "2024-12-31T14:07:26.875Z"
   },
   {
    "duration": 2,
    "start_time": "2024-12-31T14:07:26.908Z"
   },
   {
    "duration": 16,
    "start_time": "2024-12-31T14:07:26.912Z"
   },
   {
    "duration": 43,
    "start_time": "2024-12-31T14:07:26.930Z"
   },
   {
    "duration": 18,
    "start_time": "2024-12-31T14:07:26.975Z"
   },
   {
    "duration": 6,
    "start_time": "2024-12-31T14:07:26.995Z"
   },
   {
    "duration": 1716,
    "start_time": "2024-12-31T14:07:27.003Z"
   },
   {
    "duration": 5,
    "start_time": "2024-12-31T14:07:28.721Z"
   },
   {
    "duration": 746,
    "start_time": "2024-12-31T14:07:28.727Z"
   },
   {
    "duration": 946,
    "start_time": "2024-12-31T14:07:29.475Z"
   },
   {
    "duration": 6,
    "start_time": "2024-12-31T14:07:30.423Z"
   },
   {
    "duration": 20,
    "start_time": "2024-12-31T14:07:30.431Z"
   },
   {
    "duration": 22,
    "start_time": "2024-12-31T14:07:30.453Z"
   },
   {
    "duration": 15,
    "start_time": "2024-12-31T14:07:30.477Z"
   },
   {
    "duration": 36,
    "start_time": "2024-12-31T14:07:30.494Z"
   },
   {
    "duration": 124,
    "start_time": "2024-12-31T14:07:30.532Z"
   },
   {
    "duration": 18467,
    "start_time": "2024-12-31T14:07:30.658Z"
   },
   {
    "duration": 4,
    "start_time": "2024-12-31T14:07:49.127Z"
   },
   {
    "duration": 22,
    "start_time": "2024-12-31T14:07:49.132Z"
   },
   {
    "duration": 17,
    "start_time": "2024-12-31T14:07:49.156Z"
   },
   {
    "duration": 20,
    "start_time": "2024-12-31T14:07:49.174Z"
   },
   {
    "duration": 3,
    "start_time": "2024-12-31T14:07:49.196Z"
   },
   {
    "duration": 149,
    "start_time": "2024-12-31T14:07:49.201Z"
   },
   {
    "duration": 1577,
    "start_time": "2024-12-31T14:13:50.464Z"
   },
   {
    "duration": 231,
    "start_time": "2024-12-31T14:13:52.043Z"
   },
   {
    "duration": 64,
    "start_time": "2024-12-31T14:13:52.276Z"
   },
   {
    "duration": 88,
    "start_time": "2024-12-31T14:13:52.342Z"
   },
   {
    "duration": 38,
    "start_time": "2024-12-31T14:13:52.432Z"
   },
   {
    "duration": 13,
    "start_time": "2024-12-31T14:13:52.472Z"
   },
   {
    "duration": 30,
    "start_time": "2024-12-31T14:13:52.486Z"
   },
   {
    "duration": 18,
    "start_time": "2024-12-31T14:13:52.518Z"
   },
   {
    "duration": 8,
    "start_time": "2024-12-31T14:13:52.537Z"
   },
   {
    "duration": 79,
    "start_time": "2024-12-31T14:13:52.570Z"
   },
   {
    "duration": 22,
    "start_time": "2024-12-31T14:13:52.651Z"
   },
   {
    "duration": 18,
    "start_time": "2024-12-31T14:13:52.674Z"
   },
   {
    "duration": 7,
    "start_time": "2024-12-31T14:13:52.693Z"
   },
   {
    "duration": 6,
    "start_time": "2024-12-31T14:13:52.702Z"
   },
   {
    "duration": 8,
    "start_time": "2024-12-31T14:13:52.710Z"
   },
   {
    "duration": 9,
    "start_time": "2024-12-31T14:13:52.720Z"
   },
   {
    "duration": 51,
    "start_time": "2024-12-31T14:13:52.730Z"
   },
   {
    "duration": 154,
    "start_time": "2024-12-31T14:13:52.783Z"
   },
   {
    "duration": 5,
    "start_time": "2024-12-31T14:13:52.940Z"
   },
   {
    "duration": 7,
    "start_time": "2024-12-31T14:13:52.946Z"
   },
   {
    "duration": 166,
    "start_time": "2024-12-31T14:13:52.955Z"
   },
   {
    "duration": 7,
    "start_time": "2024-12-31T14:13:53.123Z"
   },
   {
    "duration": 10,
    "start_time": "2024-12-31T14:13:53.132Z"
   },
   {
    "duration": 173,
    "start_time": "2024-12-31T14:13:53.144Z"
   },
   {
    "duration": 5,
    "start_time": "2024-12-31T14:13:53.319Z"
   },
   {
    "duration": 11,
    "start_time": "2024-12-31T14:13:53.326Z"
   },
   {
    "duration": 11,
    "start_time": "2024-12-31T14:13:53.339Z"
   },
   {
    "duration": 7,
    "start_time": "2024-12-31T14:13:53.370Z"
   },
   {
    "duration": 10,
    "start_time": "2024-12-31T14:13:53.379Z"
   },
   {
    "duration": 6,
    "start_time": "2024-12-31T14:13:53.391Z"
   },
   {
    "duration": 206,
    "start_time": "2024-12-31T14:13:53.399Z"
   },
   {
    "duration": 198,
    "start_time": "2024-12-31T14:13:53.606Z"
   },
   {
    "duration": 6,
    "start_time": "2024-12-31T14:13:53.805Z"
   },
   {
    "duration": 12,
    "start_time": "2024-12-31T14:13:53.812Z"
   },
   {
    "duration": 161,
    "start_time": "2024-12-31T14:13:53.826Z"
   },
   {
    "duration": 177,
    "start_time": "2024-12-31T14:13:53.988Z"
   },
   {
    "duration": 6,
    "start_time": "2024-12-31T14:13:54.170Z"
   },
   {
    "duration": 14,
    "start_time": "2024-12-31T14:13:54.178Z"
   },
   {
    "duration": 27,
    "start_time": "2024-12-31T14:13:54.193Z"
   },
   {
    "duration": 103,
    "start_time": "2024-12-31T14:13:54.221Z"
   },
   {
    "duration": 5,
    "start_time": "2024-12-31T14:13:54.325Z"
   },
   {
    "duration": 11,
    "start_time": "2024-12-31T14:13:54.332Z"
   },
   {
    "duration": 105,
    "start_time": "2024-12-31T14:13:54.344Z"
   },
   {
    "duration": 5,
    "start_time": "2024-12-31T14:13:54.451Z"
   },
   {
    "duration": 18,
    "start_time": "2024-12-31T14:13:54.457Z"
   },
   {
    "duration": 101,
    "start_time": "2024-12-31T14:13:54.477Z"
   },
   {
    "duration": 7,
    "start_time": "2024-12-31T14:13:54.579Z"
   },
   {
    "duration": 11,
    "start_time": "2024-12-31T14:13:54.587Z"
   },
   {
    "duration": 16,
    "start_time": "2024-12-31T14:13:54.600Z"
   },
   {
    "duration": 317,
    "start_time": "2024-12-31T14:13:54.618Z"
   },
   {
    "duration": 5,
    "start_time": "2024-12-31T14:13:54.937Z"
   },
   {
    "duration": 48,
    "start_time": "2024-12-31T14:13:54.944Z"
   },
   {
    "duration": 58,
    "start_time": "2024-12-31T14:13:54.994Z"
   },
   {
    "duration": 33,
    "start_time": "2024-12-31T14:13:55.054Z"
   },
   {
    "duration": 2,
    "start_time": "2024-12-31T14:13:55.089Z"
   },
   {
    "duration": 38,
    "start_time": "2024-12-31T14:13:55.093Z"
   },
   {
    "duration": 15,
    "start_time": "2024-12-31T14:13:55.133Z"
   },
   {
    "duration": 31,
    "start_time": "2024-12-31T14:13:55.150Z"
   },
   {
    "duration": 7,
    "start_time": "2024-12-31T14:13:55.183Z"
   },
   {
    "duration": 1732,
    "start_time": "2024-12-31T14:13:55.192Z"
   },
   {
    "duration": 4,
    "start_time": "2024-12-31T14:13:56.927Z"
   },
   {
    "duration": 811,
    "start_time": "2024-12-31T14:13:56.933Z"
   },
   {
    "duration": 939,
    "start_time": "2024-12-31T14:13:57.746Z"
   },
   {
    "duration": 6,
    "start_time": "2024-12-31T14:13:58.686Z"
   },
   {
    "duration": 27,
    "start_time": "2024-12-31T14:13:58.694Z"
   },
   {
    "duration": 16,
    "start_time": "2024-12-31T14:13:58.722Z"
   },
   {
    "duration": 17,
    "start_time": "2024-12-31T14:13:58.739Z"
   },
   {
    "duration": 5,
    "start_time": "2024-12-31T14:13:58.757Z"
   },
   {
    "duration": 119,
    "start_time": "2024-12-31T14:13:58.763Z"
   },
   {
    "duration": 19595,
    "start_time": "2024-12-31T14:13:58.884Z"
   },
   {
    "duration": 3,
    "start_time": "2024-12-31T14:14:18.481Z"
   },
   {
    "duration": 11,
    "start_time": "2024-12-31T14:14:18.485Z"
   },
   {
    "duration": 16,
    "start_time": "2024-12-31T14:14:18.497Z"
   },
   {
    "duration": 20,
    "start_time": "2024-12-31T14:14:18.515Z"
   },
   {
    "duration": 13,
    "start_time": "2024-12-31T14:14:18.537Z"
   },
   {
    "duration": 156,
    "start_time": "2024-12-31T14:14:18.551Z"
   },
   {
    "duration": 4,
    "start_time": "2024-12-31T14:15:04.231Z"
   },
   {
    "duration": 1582,
    "start_time": "2024-12-31T14:26:44.837Z"
   },
   {
    "duration": 236,
    "start_time": "2024-12-31T14:26:46.421Z"
   },
   {
    "duration": 88,
    "start_time": "2024-12-31T14:26:46.659Z"
   },
   {
    "duration": 85,
    "start_time": "2024-12-31T14:26:46.749Z"
   },
   {
    "duration": 45,
    "start_time": "2024-12-31T14:26:46.836Z"
   },
   {
    "duration": 36,
    "start_time": "2024-12-31T14:26:46.882Z"
   },
   {
    "duration": 33,
    "start_time": "2024-12-31T14:26:46.920Z"
   },
   {
    "duration": 19,
    "start_time": "2024-12-31T14:26:46.955Z"
   },
   {
    "duration": 14,
    "start_time": "2024-12-31T14:26:46.975Z"
   },
   {
    "duration": 82,
    "start_time": "2024-12-31T14:26:46.992Z"
   },
   {
    "duration": 4,
    "start_time": "2024-12-31T14:26:47.076Z"
   },
   {
    "duration": 13,
    "start_time": "2024-12-31T14:26:47.081Z"
   },
   {
    "duration": 5,
    "start_time": "2024-12-31T14:26:47.096Z"
   },
   {
    "duration": 5,
    "start_time": "2024-12-31T14:26:47.103Z"
   },
   {
    "duration": 9,
    "start_time": "2024-12-31T14:26:47.110Z"
   },
   {
    "duration": 9,
    "start_time": "2024-12-31T14:26:47.120Z"
   },
   {
    "duration": 12,
    "start_time": "2024-12-31T14:26:47.171Z"
   },
   {
    "duration": 156,
    "start_time": "2024-12-31T14:26:47.184Z"
   },
   {
    "duration": 6,
    "start_time": "2024-12-31T14:26:47.341Z"
   },
   {
    "duration": 5,
    "start_time": "2024-12-31T14:26:47.348Z"
   },
   {
    "duration": 127,
    "start_time": "2024-12-31T14:26:47.370Z"
   },
   {
    "duration": 8,
    "start_time": "2024-12-31T14:26:47.499Z"
   },
   {
    "duration": 10,
    "start_time": "2024-12-31T14:26:47.509Z"
   },
   {
    "duration": 188,
    "start_time": "2024-12-31T14:26:47.520Z"
   },
   {
    "duration": 6,
    "start_time": "2024-12-31T14:26:47.710Z"
   },
   {
    "duration": 101,
    "start_time": "2024-12-31T14:26:47.718Z"
   },
   {
    "duration": 18,
    "start_time": "2024-12-31T14:26:47.821Z"
   },
   {
    "duration": 10,
    "start_time": "2024-12-31T14:26:47.843Z"
   },
   {
    "duration": 22,
    "start_time": "2024-12-31T14:26:47.855Z"
   },
   {
    "duration": 8,
    "start_time": "2024-12-31T14:26:47.878Z"
   },
   {
    "duration": 202,
    "start_time": "2024-12-31T14:26:47.888Z"
   },
   {
    "duration": 204,
    "start_time": "2024-12-31T14:26:48.092Z"
   },
   {
    "duration": 5,
    "start_time": "2024-12-31T14:26:48.298Z"
   },
   {
    "duration": 13,
    "start_time": "2024-12-31T14:26:48.305Z"
   },
   {
    "duration": 162,
    "start_time": "2024-12-31T14:26:48.319Z"
   },
   {
    "duration": 166,
    "start_time": "2024-12-31T14:26:48.483Z"
   },
   {
    "duration": 4,
    "start_time": "2024-12-31T14:26:48.651Z"
   },
   {
    "duration": 39,
    "start_time": "2024-12-31T14:26:48.657Z"
   },
   {
    "duration": 35,
    "start_time": "2024-12-31T14:26:48.698Z"
   },
   {
    "duration": 117,
    "start_time": "2024-12-31T14:26:48.734Z"
   },
   {
    "duration": 6,
    "start_time": "2024-12-31T14:26:48.853Z"
   },
   {
    "duration": 12,
    "start_time": "2024-12-31T14:26:48.860Z"
   },
   {
    "duration": 113,
    "start_time": "2024-12-31T14:26:48.874Z"
   },
   {
    "duration": 5,
    "start_time": "2024-12-31T14:26:48.988Z"
   },
   {
    "duration": 8,
    "start_time": "2024-12-31T14:26:48.994Z"
   },
   {
    "duration": 182,
    "start_time": "2024-12-31T14:26:49.004Z"
   },
   {
    "duration": 7,
    "start_time": "2024-12-31T14:26:49.188Z"
   },
   {
    "duration": 7,
    "start_time": "2024-12-31T14:26:49.196Z"
   },
   {
    "duration": 6,
    "start_time": "2024-12-31T14:26:49.205Z"
   },
   {
    "duration": 219,
    "start_time": "2024-12-31T14:26:49.212Z"
   },
   {
    "duration": 6,
    "start_time": "2024-12-31T14:26:49.433Z"
   },
   {
    "duration": 47,
    "start_time": "2024-12-31T14:26:49.440Z"
   },
   {
    "duration": 4,
    "start_time": "2024-12-31T14:26:49.489Z"
   },
   {
    "duration": 31,
    "start_time": "2024-12-31T14:26:49.495Z"
   },
   {
    "duration": 2,
    "start_time": "2024-12-31T14:26:49.528Z"
   },
   {
    "duration": 50,
    "start_time": "2024-12-31T14:26:49.533Z"
   },
   {
    "duration": 15,
    "start_time": "2024-12-31T14:26:49.585Z"
   },
   {
    "duration": 18,
    "start_time": "2024-12-31T14:26:49.601Z"
   },
   {
    "duration": 7,
    "start_time": "2024-12-31T14:26:49.621Z"
   },
   {
    "duration": 1643,
    "start_time": "2024-12-31T14:26:49.629Z"
   },
   {
    "duration": 5,
    "start_time": "2024-12-31T14:26:51.274Z"
   },
   {
    "duration": 802,
    "start_time": "2024-12-31T14:26:51.281Z"
   },
   {
    "duration": 991,
    "start_time": "2024-12-31T14:26:52.084Z"
   },
   {
    "duration": 5,
    "start_time": "2024-12-31T14:26:53.077Z"
   },
   {
    "duration": 41,
    "start_time": "2024-12-31T14:26:53.083Z"
   },
   {
    "duration": 11,
    "start_time": "2024-12-31T14:26:53.126Z"
   },
   {
    "duration": 6,
    "start_time": "2024-12-31T14:26:53.139Z"
   },
   {
    "duration": 21,
    "start_time": "2024-12-31T14:26:53.147Z"
   },
   {
    "duration": 121,
    "start_time": "2024-12-31T14:26:53.170Z"
   },
   {
    "duration": 19742,
    "start_time": "2024-12-31T14:26:53.293Z"
   },
   {
    "duration": 3,
    "start_time": "2024-12-31T14:27:13.037Z"
   },
   {
    "duration": 58,
    "start_time": "2024-12-31T14:27:13.042Z"
   },
   {
    "duration": 15,
    "start_time": "2024-12-31T14:27:13.102Z"
   },
   {
    "duration": 11,
    "start_time": "2024-12-31T14:27:13.118Z"
   },
   {
    "duration": 2,
    "start_time": "2024-12-31T14:27:13.131Z"
   },
   {
    "duration": 152,
    "start_time": "2024-12-31T14:27:13.135Z"
   },
   {
    "duration": 1632,
    "start_time": "2024-12-31T14:32:03.110Z"
   },
   {
    "duration": 229,
    "start_time": "2024-12-31T14:32:04.744Z"
   },
   {
    "duration": 69,
    "start_time": "2024-12-31T14:32:04.975Z"
   },
   {
    "duration": 89,
    "start_time": "2024-12-31T14:32:05.045Z"
   },
   {
    "duration": 45,
    "start_time": "2024-12-31T14:32:05.136Z"
   },
   {
    "duration": 39,
    "start_time": "2024-12-31T14:32:05.183Z"
   },
   {
    "duration": 45,
    "start_time": "2024-12-31T14:32:05.224Z"
   },
   {
    "duration": 18,
    "start_time": "2024-12-31T14:32:05.271Z"
   },
   {
    "duration": 28,
    "start_time": "2024-12-31T14:32:05.290Z"
   },
   {
    "duration": 72,
    "start_time": "2024-12-31T14:32:05.321Z"
   },
   {
    "duration": 4,
    "start_time": "2024-12-31T14:32:05.394Z"
   },
   {
    "duration": 31,
    "start_time": "2024-12-31T14:32:05.399Z"
   },
   {
    "duration": 20,
    "start_time": "2024-12-31T14:32:05.432Z"
   },
   {
    "duration": 10,
    "start_time": "2024-12-31T14:32:05.454Z"
   },
   {
    "duration": 9,
    "start_time": "2024-12-31T14:32:05.466Z"
   },
   {
    "duration": 10,
    "start_time": "2024-12-31T14:32:05.476Z"
   },
   {
    "duration": 12,
    "start_time": "2024-12-31T14:32:05.487Z"
   },
   {
    "duration": 152,
    "start_time": "2024-12-31T14:32:05.500Z"
   },
   {
    "duration": 6,
    "start_time": "2024-12-31T14:32:05.653Z"
   },
   {
    "duration": 11,
    "start_time": "2024-12-31T14:32:05.661Z"
   },
   {
    "duration": 157,
    "start_time": "2024-12-31T14:32:05.674Z"
   },
   {
    "duration": 8,
    "start_time": "2024-12-31T14:32:05.832Z"
   },
   {
    "duration": 17,
    "start_time": "2024-12-31T14:32:05.842Z"
   },
   {
    "duration": 178,
    "start_time": "2024-12-31T14:32:05.861Z"
   },
   {
    "duration": 5,
    "start_time": "2024-12-31T14:32:06.041Z"
   },
   {
    "duration": 54,
    "start_time": "2024-12-31T14:32:06.048Z"
   },
   {
    "duration": 11,
    "start_time": "2024-12-31T14:32:06.104Z"
   },
   {
    "duration": 7,
    "start_time": "2024-12-31T14:32:06.120Z"
   },
   {
    "duration": 32,
    "start_time": "2024-12-31T14:32:06.129Z"
   },
   {
    "duration": 21,
    "start_time": "2024-12-31T14:32:06.163Z"
   },
   {
    "duration": 190,
    "start_time": "2024-12-31T14:32:06.185Z"
   },
   {
    "duration": 204,
    "start_time": "2024-12-31T14:32:06.376Z"
   },
   {
    "duration": 6,
    "start_time": "2024-12-31T14:32:06.582Z"
   },
   {
    "duration": 11,
    "start_time": "2024-12-31T14:32:06.589Z"
   },
   {
    "duration": 175,
    "start_time": "2024-12-31T14:32:06.602Z"
   },
   {
    "duration": 158,
    "start_time": "2024-12-31T14:32:06.778Z"
   },
   {
    "duration": 4,
    "start_time": "2024-12-31T14:32:06.937Z"
   },
   {
    "duration": 25,
    "start_time": "2024-12-31T14:32:06.942Z"
   },
   {
    "duration": 12,
    "start_time": "2024-12-31T14:32:06.968Z"
   },
   {
    "duration": 105,
    "start_time": "2024-12-31T14:32:06.981Z"
   },
   {
    "duration": 6,
    "start_time": "2024-12-31T14:32:07.087Z"
   },
   {
    "duration": 83,
    "start_time": "2024-12-31T14:32:07.094Z"
   },
   {
    "duration": 112,
    "start_time": "2024-12-31T14:32:07.179Z"
   },
   {
    "duration": 4,
    "start_time": "2024-12-31T14:32:07.293Z"
   },
   {
    "duration": 14,
    "start_time": "2024-12-31T14:32:07.298Z"
   },
   {
    "duration": 99,
    "start_time": "2024-12-31T14:32:07.314Z"
   },
   {
    "duration": 6,
    "start_time": "2024-12-31T14:32:07.415Z"
   },
   {
    "duration": 24,
    "start_time": "2024-12-31T14:32:07.422Z"
   },
   {
    "duration": 7,
    "start_time": "2024-12-31T14:32:07.448Z"
   },
   {
    "duration": 198,
    "start_time": "2024-12-31T14:32:07.456Z"
   },
   {
    "duration": 14,
    "start_time": "2024-12-31T14:32:07.656Z"
   },
   {
    "duration": 42,
    "start_time": "2024-12-31T14:32:07.672Z"
   },
   {
    "duration": 105,
    "start_time": "2024-12-31T14:32:07.716Z"
   },
   {
    "duration": 48,
    "start_time": "2024-12-31T14:32:07.823Z"
   },
   {
    "duration": 3,
    "start_time": "2024-12-31T14:32:07.873Z"
   },
   {
    "duration": 18,
    "start_time": "2024-12-31T14:32:07.877Z"
   },
   {
    "duration": 15,
    "start_time": "2024-12-31T14:32:07.897Z"
   },
   {
    "duration": 19,
    "start_time": "2024-12-31T14:32:07.913Z"
   },
   {
    "duration": 12,
    "start_time": "2024-12-31T14:32:07.934Z"
   },
   {
    "duration": 1612,
    "start_time": "2024-12-31T14:32:07.947Z"
   },
   {
    "duration": 11,
    "start_time": "2024-12-31T14:32:09.560Z"
   },
   {
    "duration": 765,
    "start_time": "2024-12-31T14:32:09.573Z"
   },
   {
    "duration": 948,
    "start_time": "2024-12-31T14:32:10.340Z"
   },
   {
    "duration": 6,
    "start_time": "2024-12-31T14:32:11.290Z"
   },
   {
    "duration": 138,
    "start_time": "2024-12-31T14:32:11.297Z"
   },
   {
    "duration": 0,
    "start_time": "2024-12-31T14:32:11.437Z"
   },
   {
    "duration": 0,
    "start_time": "2024-12-31T14:32:11.439Z"
   },
   {
    "duration": 0,
    "start_time": "2024-12-31T14:32:11.440Z"
   },
   {
    "duration": 0,
    "start_time": "2024-12-31T14:32:11.441Z"
   },
   {
    "duration": 0,
    "start_time": "2024-12-31T14:32:11.442Z"
   },
   {
    "duration": 0,
    "start_time": "2024-12-31T14:32:11.443Z"
   },
   {
    "duration": 0,
    "start_time": "2024-12-31T14:32:11.444Z"
   },
   {
    "duration": 0,
    "start_time": "2024-12-31T14:32:11.445Z"
   },
   {
    "duration": 0,
    "start_time": "2024-12-31T14:32:11.446Z"
   },
   {
    "duration": 0,
    "start_time": "2024-12-31T14:32:11.448Z"
   },
   {
    "duration": 0,
    "start_time": "2024-12-31T14:32:11.449Z"
   },
   {
    "duration": 1597,
    "start_time": "2024-12-31T14:34:34.471Z"
   },
   {
    "duration": 232,
    "start_time": "2024-12-31T14:34:36.070Z"
   },
   {
    "duration": 78,
    "start_time": "2024-12-31T14:34:36.304Z"
   },
   {
    "duration": 106,
    "start_time": "2024-12-31T14:34:36.384Z"
   },
   {
    "duration": 11,
    "start_time": "2024-12-31T14:34:36.492Z"
   },
   {
    "duration": 43,
    "start_time": "2024-12-31T14:34:36.505Z"
   },
   {
    "duration": 63,
    "start_time": "2024-12-31T14:34:36.550Z"
   },
   {
    "duration": 23,
    "start_time": "2024-12-31T14:34:36.615Z"
   },
   {
    "duration": 35,
    "start_time": "2024-12-31T14:34:36.641Z"
   },
   {
    "duration": 100,
    "start_time": "2024-12-31T14:34:36.679Z"
   },
   {
    "duration": 4,
    "start_time": "2024-12-31T14:34:36.780Z"
   },
   {
    "duration": 13,
    "start_time": "2024-12-31T14:34:36.786Z"
   },
   {
    "duration": 29,
    "start_time": "2024-12-31T14:34:36.800Z"
   },
   {
    "duration": 40,
    "start_time": "2024-12-31T14:34:36.831Z"
   },
   {
    "duration": 10,
    "start_time": "2024-12-31T14:34:36.873Z"
   },
   {
    "duration": 10,
    "start_time": "2024-12-31T14:34:36.884Z"
   },
   {
    "duration": 22,
    "start_time": "2024-12-31T14:34:36.896Z"
   },
   {
    "duration": 152,
    "start_time": "2024-12-31T14:34:36.920Z"
   },
   {
    "duration": 5,
    "start_time": "2024-12-31T14:34:37.074Z"
   },
   {
    "duration": 71,
    "start_time": "2024-12-31T14:34:37.081Z"
   },
   {
    "duration": 136,
    "start_time": "2024-12-31T14:34:37.153Z"
   },
   {
    "duration": 7,
    "start_time": "2024-12-31T14:34:37.291Z"
   },
   {
    "duration": 38,
    "start_time": "2024-12-31T14:34:37.300Z"
   },
   {
    "duration": 159,
    "start_time": "2024-12-31T14:34:37.340Z"
   },
   {
    "duration": 6,
    "start_time": "2024-12-31T14:34:37.500Z"
   },
   {
    "duration": 21,
    "start_time": "2024-12-31T14:34:37.507Z"
   },
   {
    "duration": 4,
    "start_time": "2024-12-31T14:34:37.529Z"
   },
   {
    "duration": 7,
    "start_time": "2024-12-31T14:34:37.537Z"
   },
   {
    "duration": 25,
    "start_time": "2024-12-31T14:34:37.545Z"
   },
   {
    "duration": 7,
    "start_time": "2024-12-31T14:34:37.572Z"
   },
   {
    "duration": 193,
    "start_time": "2024-12-31T14:34:37.580Z"
   },
   {
    "duration": 196,
    "start_time": "2024-12-31T14:34:37.775Z"
   },
   {
    "duration": 6,
    "start_time": "2024-12-31T14:34:37.973Z"
   },
   {
    "duration": 11,
    "start_time": "2024-12-31T14:34:37.981Z"
   },
   {
    "duration": 170,
    "start_time": "2024-12-31T14:34:37.993Z"
   },
   {
    "duration": 156,
    "start_time": "2024-12-31T14:34:38.165Z"
   },
   {
    "duration": 4,
    "start_time": "2024-12-31T14:34:38.323Z"
   },
   {
    "duration": 7,
    "start_time": "2024-12-31T14:34:38.329Z"
   },
   {
    "duration": 9,
    "start_time": "2024-12-31T14:34:38.338Z"
   },
   {
    "duration": 115,
    "start_time": "2024-12-31T14:34:38.349Z"
   },
   {
    "duration": 7,
    "start_time": "2024-12-31T14:34:38.469Z"
   },
   {
    "duration": 12,
    "start_time": "2024-12-31T14:34:38.477Z"
   },
   {
    "duration": 108,
    "start_time": "2024-12-31T14:34:38.491Z"
   },
   {
    "duration": 5,
    "start_time": "2024-12-31T14:34:38.600Z"
   },
   {
    "duration": 12,
    "start_time": "2024-12-31T14:34:38.606Z"
   },
   {
    "duration": 106,
    "start_time": "2024-12-31T14:34:38.619Z"
   },
   {
    "duration": 7,
    "start_time": "2024-12-31T14:34:38.727Z"
   },
   {
    "duration": 8,
    "start_time": "2024-12-31T14:34:38.735Z"
   },
   {
    "duration": 5,
    "start_time": "2024-12-31T14:34:38.745Z"
   },
   {
    "duration": 194,
    "start_time": "2024-12-31T14:34:38.771Z"
   },
   {
    "duration": 5,
    "start_time": "2024-12-31T14:34:38.971Z"
   },
   {
    "duration": 28,
    "start_time": "2024-12-31T14:34:38.978Z"
   },
   {
    "duration": 5,
    "start_time": "2024-12-31T14:34:39.008Z"
   },
   {
    "duration": 69,
    "start_time": "2024-12-31T14:34:39.014Z"
   },
   {
    "duration": 3,
    "start_time": "2024-12-31T14:34:39.085Z"
   },
   {
    "duration": 15,
    "start_time": "2024-12-31T14:34:39.089Z"
   },
   {
    "duration": 14,
    "start_time": "2024-12-31T14:34:39.105Z"
   },
   {
    "duration": 15,
    "start_time": "2024-12-31T14:34:39.121Z"
   },
   {
    "duration": 7,
    "start_time": "2024-12-31T14:34:39.170Z"
   },
   {
    "duration": 1582,
    "start_time": "2024-12-31T14:34:39.178Z"
   },
   {
    "duration": 4,
    "start_time": "2024-12-31T14:34:40.761Z"
   },
   {
    "duration": 763,
    "start_time": "2024-12-31T14:34:40.770Z"
   },
   {
    "duration": 958,
    "start_time": "2024-12-31T14:34:41.535Z"
   },
   {
    "duration": 5,
    "start_time": "2024-12-31T14:34:42.495Z"
   },
   {
    "duration": 5,
    "start_time": "2024-12-31T14:34:42.502Z"
   },
   {
    "duration": 13,
    "start_time": "2024-12-31T14:34:42.508Z"
   },
   {
    "duration": 6,
    "start_time": "2024-12-31T14:34:42.523Z"
   },
   {
    "duration": 4,
    "start_time": "2024-12-31T14:34:42.530Z"
   },
   {
    "duration": 145,
    "start_time": "2024-12-31T14:34:42.535Z"
   },
   {
    "duration": 7100898,
    "start_time": "2024-12-31T14:34:42.682Z"
   },
   {
    "duration": 3,
    "start_time": "2024-12-31T16:33:03.581Z"
   },
   {
    "duration": 8,
    "start_time": "2024-12-31T16:33:03.586Z"
   },
   {
    "duration": 20,
    "start_time": "2024-12-31T16:33:03.596Z"
   },
   {
    "duration": 81,
    "start_time": "2024-12-31T16:33:03.617Z"
   },
   {
    "duration": 17,
    "start_time": "2024-12-31T16:33:03.700Z"
   },
   {
    "duration": 148,
    "start_time": "2024-12-31T16:33:03.719Z"
   },
   {
    "duration": 1556,
    "start_time": "2024-12-31T16:37:41.786Z"
   },
   {
    "duration": 229,
    "start_time": "2024-12-31T16:37:43.344Z"
   },
   {
    "duration": 66,
    "start_time": "2024-12-31T16:37:43.574Z"
   },
   {
    "duration": 83,
    "start_time": "2024-12-31T16:37:43.642Z"
   },
   {
    "duration": 48,
    "start_time": "2024-12-31T16:37:43.726Z"
   },
   {
    "duration": 17,
    "start_time": "2024-12-31T16:37:43.776Z"
   },
   {
    "duration": 32,
    "start_time": "2024-12-31T16:37:43.795Z"
   },
   {
    "duration": 18,
    "start_time": "2024-12-31T16:37:43.828Z"
   },
   {
    "duration": 22,
    "start_time": "2024-12-31T16:37:43.848Z"
   },
   {
    "duration": 61,
    "start_time": "2024-12-31T16:37:43.873Z"
   },
   {
    "duration": 36,
    "start_time": "2024-12-31T16:37:43.936Z"
   },
   {
    "duration": 14,
    "start_time": "2024-12-31T16:37:43.974Z"
   },
   {
    "duration": 6,
    "start_time": "2024-12-31T16:37:43.990Z"
   },
   {
    "duration": 7,
    "start_time": "2024-12-31T16:37:43.997Z"
   },
   {
    "duration": 10,
    "start_time": "2024-12-31T16:37:44.005Z"
   },
   {
    "duration": 11,
    "start_time": "2024-12-31T16:37:44.016Z"
   },
   {
    "duration": 50,
    "start_time": "2024-12-31T16:37:44.029Z"
   },
   {
    "duration": 160,
    "start_time": "2024-12-31T16:37:44.081Z"
   },
   {
    "duration": 6,
    "start_time": "2024-12-31T16:37:44.242Z"
   },
   {
    "duration": 4,
    "start_time": "2024-12-31T16:37:44.249Z"
   },
   {
    "duration": 123,
    "start_time": "2024-12-31T16:37:44.270Z"
   },
   {
    "duration": 7,
    "start_time": "2024-12-31T16:37:44.395Z"
   },
   {
    "duration": 9,
    "start_time": "2024-12-31T16:37:44.404Z"
   },
   {
    "duration": 193,
    "start_time": "2024-12-31T16:37:44.415Z"
   },
   {
    "duration": 5,
    "start_time": "2024-12-31T16:37:44.610Z"
   },
   {
    "duration": 21,
    "start_time": "2024-12-31T16:37:44.617Z"
   },
   {
    "duration": 9,
    "start_time": "2024-12-31T16:37:44.640Z"
   },
   {
    "duration": 18,
    "start_time": "2024-12-31T16:37:44.653Z"
   },
   {
    "duration": 11,
    "start_time": "2024-12-31T16:37:44.673Z"
   },
   {
    "duration": 7,
    "start_time": "2024-12-31T16:37:44.686Z"
   },
   {
    "duration": 203,
    "start_time": "2024-12-31T16:37:44.695Z"
   },
   {
    "duration": 198,
    "start_time": "2024-12-31T16:37:44.900Z"
   },
   {
    "duration": 5,
    "start_time": "2024-12-31T16:37:45.099Z"
   },
   {
    "duration": 21,
    "start_time": "2024-12-31T16:37:45.106Z"
   },
   {
    "duration": 183,
    "start_time": "2024-12-31T16:37:45.129Z"
   },
   {
    "duration": 158,
    "start_time": "2024-12-31T16:37:45.314Z"
   },
   {
    "duration": 5,
    "start_time": "2024-12-31T16:37:45.474Z"
   },
   {
    "duration": 7,
    "start_time": "2024-12-31T16:37:45.481Z"
   },
   {
    "duration": 20,
    "start_time": "2024-12-31T16:37:45.490Z"
   },
   {
    "duration": 108,
    "start_time": "2024-12-31T16:37:45.512Z"
   },
   {
    "duration": 6,
    "start_time": "2024-12-31T16:37:45.622Z"
   },
   {
    "duration": 14,
    "start_time": "2024-12-31T16:37:45.629Z"
   },
   {
    "duration": 117,
    "start_time": "2024-12-31T16:37:45.644Z"
   },
   {
    "duration": 6,
    "start_time": "2024-12-31T16:37:45.771Z"
   },
   {
    "duration": 12,
    "start_time": "2024-12-31T16:37:45.780Z"
   },
   {
    "duration": 112,
    "start_time": "2024-12-31T16:37:45.794Z"
   },
   {
    "duration": 7,
    "start_time": "2024-12-31T16:37:45.908Z"
   },
   {
    "duration": 9,
    "start_time": "2024-12-31T16:37:45.916Z"
   },
   {
    "duration": 6,
    "start_time": "2024-12-31T16:37:45.926Z"
   },
   {
    "duration": 211,
    "start_time": "2024-12-31T16:37:45.934Z"
   },
   {
    "duration": 7,
    "start_time": "2024-12-31T16:37:46.147Z"
   },
   {
    "duration": 41,
    "start_time": "2024-12-31T16:37:46.155Z"
   },
   {
    "duration": 5,
    "start_time": "2024-12-31T16:37:46.197Z"
   },
   {
    "duration": 25,
    "start_time": "2024-12-31T16:37:46.203Z"
   },
   {
    "duration": 41,
    "start_time": "2024-12-31T16:37:46.230Z"
   },
   {
    "duration": 16,
    "start_time": "2024-12-31T16:37:46.273Z"
   },
   {
    "duration": 14,
    "start_time": "2024-12-31T16:37:46.291Z"
   },
   {
    "duration": 53,
    "start_time": "2024-12-31T16:37:46.307Z"
   },
   {
    "duration": 8,
    "start_time": "2024-12-31T16:37:46.362Z"
   },
   {
    "duration": 1575,
    "start_time": "2024-12-31T16:37:46.371Z"
   },
   {
    "duration": 5,
    "start_time": "2024-12-31T16:37:47.947Z"
   },
   {
    "duration": 727,
    "start_time": "2024-12-31T16:37:47.953Z"
   },
   {
    "duration": 923,
    "start_time": "2024-12-31T16:37:48.682Z"
   },
   {
    "duration": 5,
    "start_time": "2024-12-31T16:37:49.607Z"
   },
   {
    "duration": 4,
    "start_time": "2024-12-31T16:37:49.613Z"
   },
   {
    "duration": 13,
    "start_time": "2024-12-31T16:37:49.618Z"
   },
   {
    "duration": 24,
    "start_time": "2024-12-31T16:37:49.632Z"
   },
   {
    "duration": 13,
    "start_time": "2024-12-31T16:37:49.657Z"
   },
   {
    "duration": 121,
    "start_time": "2024-12-31T16:37:49.672Z"
   },
   {
    "duration": 1591,
    "start_time": "2024-12-31T16:39:28.340Z"
   },
   {
    "duration": 235,
    "start_time": "2024-12-31T16:39:29.934Z"
   },
   {
    "duration": 70,
    "start_time": "2024-12-31T16:39:30.171Z"
   },
   {
    "duration": 72,
    "start_time": "2024-12-31T16:39:30.270Z"
   },
   {
    "duration": 13,
    "start_time": "2024-12-31T16:39:30.371Z"
   },
   {
    "duration": 30,
    "start_time": "2024-12-31T16:39:30.385Z"
   },
   {
    "duration": 46,
    "start_time": "2024-12-31T16:39:30.416Z"
   },
   {
    "duration": 19,
    "start_time": "2024-12-31T16:39:30.464Z"
   },
   {
    "duration": 7,
    "start_time": "2024-12-31T16:39:30.485Z"
   },
   {
    "duration": 88,
    "start_time": "2024-12-31T16:39:30.495Z"
   },
   {
    "duration": 4,
    "start_time": "2024-12-31T16:39:30.584Z"
   },
   {
    "duration": 20,
    "start_time": "2024-12-31T16:39:30.589Z"
   },
   {
    "duration": 6,
    "start_time": "2024-12-31T16:39:30.611Z"
   },
   {
    "duration": 6,
    "start_time": "2024-12-31T16:39:30.619Z"
   },
   {
    "duration": 32,
    "start_time": "2024-12-31T16:39:30.626Z"
   },
   {
    "duration": 18,
    "start_time": "2024-12-31T16:39:30.659Z"
   },
   {
    "duration": 11,
    "start_time": "2024-12-31T16:39:30.679Z"
   },
   {
    "duration": 155,
    "start_time": "2024-12-31T16:39:30.692Z"
   },
   {
    "duration": 5,
    "start_time": "2024-12-31T16:39:30.849Z"
   },
   {
    "duration": 15,
    "start_time": "2024-12-31T16:39:30.855Z"
   },
   {
    "duration": 128,
    "start_time": "2024-12-31T16:39:30.872Z"
   },
   {
    "duration": 7,
    "start_time": "2024-12-31T16:39:31.002Z"
   },
   {
    "duration": 20,
    "start_time": "2024-12-31T16:39:31.010Z"
   },
   {
    "duration": 166,
    "start_time": "2024-12-31T16:39:31.031Z"
   },
   {
    "duration": 5,
    "start_time": "2024-12-31T16:39:31.199Z"
   },
   {
    "duration": 11,
    "start_time": "2024-12-31T16:39:31.205Z"
   },
   {
    "duration": 17,
    "start_time": "2024-12-31T16:39:31.218Z"
   },
   {
    "duration": 23,
    "start_time": "2024-12-31T16:39:31.239Z"
   },
   {
    "duration": 10,
    "start_time": "2024-12-31T16:39:31.263Z"
   },
   {
    "duration": 6,
    "start_time": "2024-12-31T16:39:31.275Z"
   },
   {
    "duration": 203,
    "start_time": "2024-12-31T16:39:31.283Z"
   },
   {
    "duration": 186,
    "start_time": "2024-12-31T16:39:31.488Z"
   },
   {
    "duration": 7,
    "start_time": "2024-12-31T16:39:31.676Z"
   },
   {
    "duration": 78,
    "start_time": "2024-12-31T16:39:31.685Z"
   },
   {
    "duration": 146,
    "start_time": "2024-12-31T16:39:31.764Z"
   },
   {
    "duration": 155,
    "start_time": "2024-12-31T16:39:31.912Z"
   },
   {
    "duration": 3,
    "start_time": "2024-12-31T16:39:32.070Z"
   },
   {
    "duration": 73,
    "start_time": "2024-12-31T16:39:32.075Z"
   },
   {
    "duration": 8,
    "start_time": "2024-12-31T16:39:32.150Z"
   },
   {
    "duration": 99,
    "start_time": "2024-12-31T16:39:32.160Z"
   },
   {
    "duration": 15,
    "start_time": "2024-12-31T16:39:32.260Z"
   },
   {
    "duration": 13,
    "start_time": "2024-12-31T16:39:32.277Z"
   },
   {
    "duration": 99,
    "start_time": "2024-12-31T16:39:32.291Z"
   },
   {
    "duration": 19,
    "start_time": "2024-12-31T16:39:32.391Z"
   },
   {
    "duration": 22,
    "start_time": "2024-12-31T16:39:32.411Z"
   },
   {
    "duration": 103,
    "start_time": "2024-12-31T16:39:32.435Z"
   },
   {
    "duration": 6,
    "start_time": "2024-12-31T16:39:32.539Z"
   },
   {
    "duration": 100,
    "start_time": "2024-12-31T16:39:32.547Z"
   },
   {
    "duration": 4,
    "start_time": "2024-12-31T16:39:32.649Z"
   },
   {
    "duration": 199,
    "start_time": "2024-12-31T16:39:32.655Z"
   },
   {
    "duration": 6,
    "start_time": "2024-12-31T16:39:32.855Z"
   },
   {
    "duration": 32,
    "start_time": "2024-12-31T16:39:32.862Z"
   },
   {
    "duration": 5,
    "start_time": "2024-12-31T16:39:32.896Z"
   },
   {
    "duration": 32,
    "start_time": "2024-12-31T16:39:32.902Z"
   },
   {
    "duration": 3,
    "start_time": "2024-12-31T16:39:32.971Z"
   },
   {
    "duration": 24,
    "start_time": "2024-12-31T16:39:32.976Z"
   },
   {
    "duration": 15,
    "start_time": "2024-12-31T16:39:33.002Z"
   },
   {
    "duration": 30,
    "start_time": "2024-12-31T16:39:33.018Z"
   },
   {
    "duration": 7,
    "start_time": "2024-12-31T16:39:33.050Z"
   },
   {
    "duration": 1623,
    "start_time": "2024-12-31T16:39:33.059Z"
   },
   {
    "duration": 4,
    "start_time": "2024-12-31T16:39:34.684Z"
   },
   {
    "duration": 764,
    "start_time": "2024-12-31T16:39:34.690Z"
   },
   {
    "duration": 928,
    "start_time": "2024-12-31T16:39:35.456Z"
   },
   {
    "duration": 6,
    "start_time": "2024-12-31T16:39:36.386Z"
   },
   {
    "duration": 50,
    "start_time": "2024-12-31T16:39:36.393Z"
   },
   {
    "duration": 36,
    "start_time": "2024-12-31T16:39:36.444Z"
   },
   {
    "duration": 12,
    "start_time": "2024-12-31T16:39:36.481Z"
   },
   {
    "duration": 13,
    "start_time": "2024-12-31T16:39:36.495Z"
   },
   {
    "duration": 121,
    "start_time": "2024-12-31T16:39:36.510Z"
   },
   {
    "duration": 3008711,
    "start_time": "2024-12-31T16:39:36.633Z"
   },
   {
    "duration": 3,
    "start_time": "2024-12-31T17:29:45.346Z"
   },
   {
    "duration": 27,
    "start_time": "2024-12-31T17:29:45.351Z"
   },
   {
    "duration": 36,
    "start_time": "2024-12-31T17:29:45.380Z"
   },
   {
    "duration": 12,
    "start_time": "2024-12-31T17:29:45.418Z"
   },
   {
    "duration": 2,
    "start_time": "2024-12-31T17:29:45.432Z"
   },
   {
    "duration": 151,
    "start_time": "2024-12-31T17:29:45.436Z"
   },
   {
    "duration": 1536,
    "start_time": "2024-12-31T17:47:29.205Z"
   },
   {
    "duration": 230,
    "start_time": "2024-12-31T17:47:30.743Z"
   },
   {
    "duration": 69,
    "start_time": "2024-12-31T17:47:30.975Z"
   },
   {
    "duration": 88,
    "start_time": "2024-12-31T17:47:31.046Z"
   },
   {
    "duration": 44,
    "start_time": "2024-12-31T17:47:31.136Z"
   },
   {
    "duration": 15,
    "start_time": "2024-12-31T17:47:31.181Z"
   },
   {
    "duration": 40,
    "start_time": "2024-12-31T17:47:31.198Z"
   },
   {
    "duration": 18,
    "start_time": "2024-12-31T17:47:31.240Z"
   },
   {
    "duration": 8,
    "start_time": "2024-12-31T17:47:31.270Z"
   },
   {
    "duration": 96,
    "start_time": "2024-12-31T17:47:31.281Z"
   },
   {
    "duration": 3,
    "start_time": "2024-12-31T17:47:31.379Z"
   },
   {
    "duration": 11,
    "start_time": "2024-12-31T17:47:31.384Z"
   },
   {
    "duration": 7,
    "start_time": "2024-12-31T17:47:31.396Z"
   },
   {
    "duration": 28,
    "start_time": "2024-12-31T17:47:31.404Z"
   },
   {
    "duration": 17,
    "start_time": "2024-12-31T17:47:31.434Z"
   },
   {
    "duration": 25,
    "start_time": "2024-12-31T17:47:31.453Z"
   },
   {
    "duration": 25,
    "start_time": "2024-12-31T17:47:31.480Z"
   },
   {
    "duration": 167,
    "start_time": "2024-12-31T17:47:31.507Z"
   },
   {
    "duration": 5,
    "start_time": "2024-12-31T17:47:31.676Z"
   },
   {
    "duration": 22,
    "start_time": "2024-12-31T17:47:31.682Z"
   },
   {
    "duration": 133,
    "start_time": "2024-12-31T17:47:31.706Z"
   },
   {
    "duration": 8,
    "start_time": "2024-12-31T17:47:31.841Z"
   },
   {
    "duration": 22,
    "start_time": "2024-12-31T17:47:31.851Z"
   },
   {
    "duration": 177,
    "start_time": "2024-12-31T17:47:31.874Z"
   },
   {
    "duration": 6,
    "start_time": "2024-12-31T17:47:32.052Z"
   },
   {
    "duration": 13,
    "start_time": "2024-12-31T17:47:32.070Z"
   },
   {
    "duration": 17,
    "start_time": "2024-12-31T17:47:32.084Z"
   },
   {
    "duration": 24,
    "start_time": "2024-12-31T17:47:32.105Z"
   },
   {
    "duration": 23,
    "start_time": "2024-12-31T17:47:32.131Z"
   },
   {
    "duration": 11,
    "start_time": "2024-12-31T17:47:32.155Z"
   },
   {
    "duration": 186,
    "start_time": "2024-12-31T17:47:32.167Z"
   },
   {
    "duration": 189,
    "start_time": "2024-12-31T17:47:32.354Z"
   },
   {
    "duration": 5,
    "start_time": "2024-12-31T17:47:32.544Z"
   },
   {
    "duration": 21,
    "start_time": "2024-12-31T17:47:32.551Z"
   },
   {
    "duration": 187,
    "start_time": "2024-12-31T17:47:32.573Z"
   },
   {
    "duration": 153,
    "start_time": "2024-12-31T17:47:32.761Z"
   },
   {
    "duration": 4,
    "start_time": "2024-12-31T17:47:32.915Z"
   },
   {
    "duration": 31,
    "start_time": "2024-12-31T17:47:32.921Z"
   },
   {
    "duration": 33,
    "start_time": "2024-12-31T17:47:32.954Z"
   },
   {
    "duration": 127,
    "start_time": "2024-12-31T17:47:32.989Z"
   },
   {
    "duration": 5,
    "start_time": "2024-12-31T17:47:33.118Z"
   },
   {
    "duration": 41,
    "start_time": "2024-12-31T17:47:33.124Z"
   },
   {
    "duration": 125,
    "start_time": "2024-12-31T17:47:33.167Z"
   },
   {
    "duration": 4,
    "start_time": "2024-12-31T17:47:33.294Z"
   },
   {
    "duration": 34,
    "start_time": "2024-12-31T17:47:33.300Z"
   },
   {
    "duration": 109,
    "start_time": "2024-12-31T17:47:33.335Z"
   },
   {
    "duration": 6,
    "start_time": "2024-12-31T17:47:33.446Z"
   },
   {
    "duration": 33,
    "start_time": "2024-12-31T17:47:33.453Z"
   },
   {
    "duration": 14,
    "start_time": "2024-12-31T17:47:33.488Z"
   },
   {
    "duration": 206,
    "start_time": "2024-12-31T17:47:33.503Z"
   },
   {
    "duration": 6,
    "start_time": "2024-12-31T17:47:33.710Z"
   },
   {
    "duration": 45,
    "start_time": "2024-12-31T17:47:33.717Z"
   },
   {
    "duration": 5,
    "start_time": "2024-12-31T17:47:33.771Z"
   },
   {
    "duration": 32,
    "start_time": "2024-12-31T17:47:33.778Z"
   },
   {
    "duration": 3,
    "start_time": "2024-12-31T17:47:33.812Z"
   },
   {
    "duration": 54,
    "start_time": "2024-12-31T17:47:33.817Z"
   },
   {
    "duration": 15,
    "start_time": "2024-12-31T17:47:33.873Z"
   },
   {
    "duration": 22,
    "start_time": "2024-12-31T17:47:33.890Z"
   },
   {
    "duration": 101,
    "start_time": "2024-12-31T17:47:33.914Z"
   },
   {
    "duration": 1621,
    "start_time": "2024-12-31T17:47:34.018Z"
   },
   {
    "duration": 4,
    "start_time": "2024-12-31T17:47:35.641Z"
   },
   {
    "duration": 782,
    "start_time": "2024-12-31T17:47:35.646Z"
   },
   {
    "duration": 958,
    "start_time": "2024-12-31T17:47:36.430Z"
   },
   {
    "duration": 5,
    "start_time": "2024-12-31T17:47:37.390Z"
   },
   {
    "duration": 5,
    "start_time": "2024-12-31T17:47:37.396Z"
   },
   {
    "duration": 12,
    "start_time": "2024-12-31T17:47:37.402Z"
   },
   {
    "duration": 7,
    "start_time": "2024-12-31T17:47:37.416Z"
   },
   {
    "duration": 2,
    "start_time": "2024-12-31T17:47:37.425Z"
   },
   {
    "duration": 133,
    "start_time": "2024-12-31T17:47:37.429Z"
   },
   {
    "duration": 1767045,
    "start_time": "2024-12-31T17:47:37.570Z"
   },
   {
    "duration": 4,
    "start_time": "2024-12-31T18:17:04.616Z"
   },
   {
    "duration": 16,
    "start_time": "2024-12-31T18:17:04.622Z"
   },
   {
    "duration": 19,
    "start_time": "2024-12-31T18:17:04.640Z"
   },
   {
    "duration": 8,
    "start_time": "2024-12-31T18:17:04.661Z"
   },
   {
    "duration": 2,
    "start_time": "2024-12-31T18:17:04.671Z"
   },
   {
    "duration": 249,
    "start_time": "2024-12-31T18:17:04.675Z"
   },
   {
    "duration": 1587,
    "start_time": "2024-12-31T18:19:52.874Z"
   },
   {
    "duration": 228,
    "start_time": "2024-12-31T18:19:54.463Z"
   },
   {
    "duration": 83,
    "start_time": "2024-12-31T18:19:54.693Z"
   },
   {
    "duration": 64,
    "start_time": "2024-12-31T18:19:54.778Z"
   },
   {
    "duration": 12,
    "start_time": "2024-12-31T18:19:54.871Z"
   },
   {
    "duration": 14,
    "start_time": "2024-12-31T18:19:54.884Z"
   },
   {
    "duration": 30,
    "start_time": "2024-12-31T18:19:54.899Z"
   },
   {
    "duration": 51,
    "start_time": "2024-12-31T18:19:54.931Z"
   },
   {
    "duration": 11,
    "start_time": "2024-12-31T18:19:54.984Z"
   },
   {
    "duration": 88,
    "start_time": "2024-12-31T18:19:54.997Z"
   },
   {
    "duration": 3,
    "start_time": "2024-12-31T18:19:55.087Z"
   },
   {
    "duration": 16,
    "start_time": "2024-12-31T18:19:55.092Z"
   },
   {
    "duration": 22,
    "start_time": "2024-12-31T18:19:55.110Z"
   },
   {
    "duration": 30,
    "start_time": "2024-12-31T18:19:55.133Z"
   },
   {
    "duration": 58,
    "start_time": "2024-12-31T18:19:55.165Z"
   },
   {
    "duration": 24,
    "start_time": "2024-12-31T18:19:55.225Z"
   },
   {
    "duration": 18,
    "start_time": "2024-12-31T18:19:55.251Z"
   },
   {
    "duration": 169,
    "start_time": "2024-12-31T18:19:55.270Z"
   },
   {
    "duration": 6,
    "start_time": "2024-12-31T18:19:55.441Z"
   },
   {
    "duration": 25,
    "start_time": "2024-12-31T18:19:55.448Z"
   },
   {
    "duration": 136,
    "start_time": "2024-12-31T18:19:55.474Z"
   },
   {
    "duration": 8,
    "start_time": "2024-12-31T18:19:55.612Z"
   },
   {
    "duration": 12,
    "start_time": "2024-12-31T18:19:55.622Z"
   },
   {
    "duration": 204,
    "start_time": "2024-12-31T18:19:55.635Z"
   },
   {
    "duration": 6,
    "start_time": "2024-12-31T18:19:55.840Z"
   },
   {
    "duration": 51,
    "start_time": "2024-12-31T18:19:55.848Z"
   },
   {
    "duration": 11,
    "start_time": "2024-12-31T18:19:55.901Z"
   },
   {
    "duration": 8,
    "start_time": "2024-12-31T18:19:55.917Z"
   },
   {
    "duration": 31,
    "start_time": "2024-12-31T18:19:55.926Z"
   },
   {
    "duration": 9,
    "start_time": "2024-12-31T18:19:55.959Z"
   },
   {
    "duration": 215,
    "start_time": "2024-12-31T18:19:55.970Z"
   },
   {
    "duration": 191,
    "start_time": "2024-12-31T18:19:56.187Z"
   },
   {
    "duration": 5,
    "start_time": "2024-12-31T18:19:56.380Z"
   },
   {
    "duration": 29,
    "start_time": "2024-12-31T18:19:56.386Z"
   },
   {
    "duration": 193,
    "start_time": "2024-12-31T18:19:56.417Z"
   },
   {
    "duration": 168,
    "start_time": "2024-12-31T18:19:56.612Z"
   },
   {
    "duration": 4,
    "start_time": "2024-12-31T18:19:56.782Z"
   },
   {
    "duration": 7,
    "start_time": "2024-12-31T18:19:56.787Z"
   },
   {
    "duration": 10,
    "start_time": "2024-12-31T18:19:56.796Z"
   },
   {
    "duration": 120,
    "start_time": "2024-12-31T18:19:56.807Z"
   },
   {
    "duration": 6,
    "start_time": "2024-12-31T18:19:56.929Z"
   },
   {
    "duration": 25,
    "start_time": "2024-12-31T18:19:56.937Z"
   },
   {
    "duration": 108,
    "start_time": "2024-12-31T18:19:56.964Z"
   },
   {
    "duration": 6,
    "start_time": "2024-12-31T18:19:57.074Z"
   },
   {
    "duration": 14,
    "start_time": "2024-12-31T18:19:57.081Z"
   },
   {
    "duration": 112,
    "start_time": "2024-12-31T18:19:57.097Z"
   },
   {
    "duration": 7,
    "start_time": "2024-12-31T18:19:57.211Z"
   },
   {
    "duration": 25,
    "start_time": "2024-12-31T18:19:57.220Z"
   },
   {
    "duration": 19,
    "start_time": "2024-12-31T18:19:57.247Z"
   },
   {
    "duration": 215,
    "start_time": "2024-12-31T18:19:57.268Z"
   },
   {
    "duration": 6,
    "start_time": "2024-12-31T18:19:57.484Z"
   },
   {
    "duration": 27,
    "start_time": "2024-12-31T18:19:57.491Z"
   },
   {
    "duration": 5,
    "start_time": "2024-12-31T18:19:57.520Z"
   },
   {
    "duration": 59,
    "start_time": "2024-12-31T18:19:57.526Z"
   },
   {
    "duration": 2,
    "start_time": "2024-12-31T18:19:57.587Z"
   },
   {
    "duration": 18,
    "start_time": "2024-12-31T18:19:57.591Z"
   },
   {
    "duration": 14,
    "start_time": "2024-12-31T18:19:57.611Z"
   },
   {
    "duration": 44,
    "start_time": "2024-12-31T18:19:57.626Z"
   },
   {
    "duration": 6,
    "start_time": "2024-12-31T18:19:57.672Z"
   },
   {
    "duration": 1568,
    "start_time": "2024-12-31T18:19:57.680Z"
   },
   {
    "duration": 4,
    "start_time": "2024-12-31T18:19:59.250Z"
   },
   {
    "duration": 729,
    "start_time": "2024-12-31T18:19:59.256Z"
   },
   {
    "duration": 945,
    "start_time": "2024-12-31T18:19:59.987Z"
   },
   {
    "duration": 5,
    "start_time": "2024-12-31T18:20:00.934Z"
   },
   {
    "duration": 7,
    "start_time": "2024-12-31T18:20:00.941Z"
   },
   {
    "duration": 24,
    "start_time": "2024-12-31T18:20:00.949Z"
   },
   {
    "duration": 7,
    "start_time": "2024-12-31T18:20:00.974Z"
   },
   {
    "duration": 6,
    "start_time": "2024-12-31T18:20:00.982Z"
   },
   {
    "duration": 130,
    "start_time": "2024-12-31T18:20:00.990Z"
   },
   {
    "duration": 1564867,
    "start_time": "2024-12-31T18:20:01.122Z"
   },
   {
    "duration": 3,
    "start_time": "2024-12-31T18:46:05.991Z"
   },
   {
    "duration": 10,
    "start_time": "2024-12-31T18:46:05.996Z"
   },
   {
    "duration": 44,
    "start_time": "2024-12-31T18:46:06.007Z"
   },
   {
    "duration": 24,
    "start_time": "2024-12-31T18:46:06.053Z"
   },
   {
    "duration": 13,
    "start_time": "2024-12-31T18:46:06.079Z"
   },
   {
    "duration": 175,
    "start_time": "2024-12-31T18:46:06.093Z"
   },
   {
    "duration": 1464,
    "start_time": "2025-01-01T12:17:56.514Z"
   },
   {
    "duration": 0,
    "start_time": "2025-01-01T12:17:57.982Z"
   },
   {
    "duration": 0,
    "start_time": "2025-01-01T12:17:57.983Z"
   },
   {
    "duration": 0,
    "start_time": "2025-01-01T12:17:57.984Z"
   },
   {
    "duration": 0,
    "start_time": "2025-01-01T12:17:57.985Z"
   },
   {
    "duration": 0,
    "start_time": "2025-01-01T12:17:57.986Z"
   },
   {
    "duration": 0,
    "start_time": "2025-01-01T12:17:57.987Z"
   },
   {
    "duration": 0,
    "start_time": "2025-01-01T12:17:57.989Z"
   },
   {
    "duration": 0,
    "start_time": "2025-01-01T12:17:57.990Z"
   },
   {
    "duration": 0,
    "start_time": "2025-01-01T12:17:57.991Z"
   },
   {
    "duration": 0,
    "start_time": "2025-01-01T12:17:57.992Z"
   },
   {
    "duration": 0,
    "start_time": "2025-01-01T12:17:57.993Z"
   },
   {
    "duration": 0,
    "start_time": "2025-01-01T12:17:57.994Z"
   },
   {
    "duration": 0,
    "start_time": "2025-01-01T12:17:57.995Z"
   },
   {
    "duration": 0,
    "start_time": "2025-01-01T12:17:57.996Z"
   },
   {
    "duration": 0,
    "start_time": "2025-01-01T12:17:57.997Z"
   },
   {
    "duration": 0,
    "start_time": "2025-01-01T12:17:57.998Z"
   },
   {
    "duration": 0,
    "start_time": "2025-01-01T12:17:57.999Z"
   },
   {
    "duration": 0,
    "start_time": "2025-01-01T12:17:58.000Z"
   },
   {
    "duration": 0,
    "start_time": "2025-01-01T12:17:58.031Z"
   },
   {
    "duration": 0,
    "start_time": "2025-01-01T12:17:58.032Z"
   },
   {
    "duration": 0,
    "start_time": "2025-01-01T12:17:58.033Z"
   },
   {
    "duration": 0,
    "start_time": "2025-01-01T12:17:58.034Z"
   },
   {
    "duration": 0,
    "start_time": "2025-01-01T12:17:58.035Z"
   },
   {
    "duration": 0,
    "start_time": "2025-01-01T12:17:58.036Z"
   },
   {
    "duration": 0,
    "start_time": "2025-01-01T12:17:58.037Z"
   },
   {
    "duration": 0,
    "start_time": "2025-01-01T12:17:58.038Z"
   },
   {
    "duration": 0,
    "start_time": "2025-01-01T12:17:58.039Z"
   },
   {
    "duration": 0,
    "start_time": "2025-01-01T12:17:58.040Z"
   },
   {
    "duration": 0,
    "start_time": "2025-01-01T12:17:58.041Z"
   },
   {
    "duration": 0,
    "start_time": "2025-01-01T12:17:58.042Z"
   },
   {
    "duration": 0,
    "start_time": "2025-01-01T12:17:58.043Z"
   },
   {
    "duration": 0,
    "start_time": "2025-01-01T12:17:58.044Z"
   },
   {
    "duration": 0,
    "start_time": "2025-01-01T12:17:58.044Z"
   },
   {
    "duration": 0,
    "start_time": "2025-01-01T12:17:58.045Z"
   },
   {
    "duration": 0,
    "start_time": "2025-01-01T12:17:58.046Z"
   },
   {
    "duration": 0,
    "start_time": "2025-01-01T12:17:58.047Z"
   },
   {
    "duration": 0,
    "start_time": "2025-01-01T12:17:58.048Z"
   },
   {
    "duration": 0,
    "start_time": "2025-01-01T12:17:58.049Z"
   },
   {
    "duration": 0,
    "start_time": "2025-01-01T12:17:58.050Z"
   },
   {
    "duration": 0,
    "start_time": "2025-01-01T12:17:58.051Z"
   },
   {
    "duration": 0,
    "start_time": "2025-01-01T12:17:58.052Z"
   },
   {
    "duration": 0,
    "start_time": "2025-01-01T12:17:58.053Z"
   },
   {
    "duration": 0,
    "start_time": "2025-01-01T12:17:58.055Z"
   },
   {
    "duration": 0,
    "start_time": "2025-01-01T12:17:58.056Z"
   },
   {
    "duration": 0,
    "start_time": "2025-01-01T12:17:58.057Z"
   },
   {
    "duration": 0,
    "start_time": "2025-01-01T12:17:58.058Z"
   },
   {
    "duration": 0,
    "start_time": "2025-01-01T12:17:58.059Z"
   },
   {
    "duration": 0,
    "start_time": "2025-01-01T12:17:58.060Z"
   },
   {
    "duration": 0,
    "start_time": "2025-01-01T12:17:58.061Z"
   },
   {
    "duration": 0,
    "start_time": "2025-01-01T12:17:58.062Z"
   },
   {
    "duration": 0,
    "start_time": "2025-01-01T12:17:58.063Z"
   },
   {
    "duration": 0,
    "start_time": "2025-01-01T12:17:58.064Z"
   },
   {
    "duration": 0,
    "start_time": "2025-01-01T12:17:58.065Z"
   },
   {
    "duration": 0,
    "start_time": "2025-01-01T12:17:58.130Z"
   },
   {
    "duration": 0,
    "start_time": "2025-01-01T12:17:58.132Z"
   },
   {
    "duration": 0,
    "start_time": "2025-01-01T12:17:58.133Z"
   },
   {
    "duration": 0,
    "start_time": "2025-01-01T12:17:58.134Z"
   },
   {
    "duration": 0,
    "start_time": "2025-01-01T12:17:58.135Z"
   },
   {
    "duration": 0,
    "start_time": "2025-01-01T12:17:58.136Z"
   },
   {
    "duration": 0,
    "start_time": "2025-01-01T12:17:58.137Z"
   },
   {
    "duration": 0,
    "start_time": "2025-01-01T12:17:58.139Z"
   },
   {
    "duration": 0,
    "start_time": "2025-01-01T12:17:58.140Z"
   },
   {
    "duration": 0,
    "start_time": "2025-01-01T12:17:58.142Z"
   },
   {
    "duration": 0,
    "start_time": "2025-01-01T12:17:58.143Z"
   },
   {
    "duration": 0,
    "start_time": "2025-01-01T12:17:58.145Z"
   },
   {
    "duration": 0,
    "start_time": "2025-01-01T12:17:58.146Z"
   },
   {
    "duration": 0,
    "start_time": "2025-01-01T12:17:58.148Z"
   },
   {
    "duration": 0,
    "start_time": "2025-01-01T12:17:58.149Z"
   },
   {
    "duration": 0,
    "start_time": "2025-01-01T12:17:58.151Z"
   },
   {
    "duration": 0,
    "start_time": "2025-01-01T12:17:58.152Z"
   },
   {
    "duration": 0,
    "start_time": "2025-01-01T12:17:58.154Z"
   },
   {
    "duration": 0,
    "start_time": "2025-01-01T12:17:58.155Z"
   },
   {
    "duration": 0,
    "start_time": "2025-01-01T12:17:58.157Z"
   },
   {
    "duration": 0,
    "start_time": "2025-01-01T12:17:58.158Z"
   },
   {
    "duration": 0,
    "start_time": "2025-01-01T12:17:58.160Z"
   },
   {
    "duration": 3549,
    "start_time": "2025-01-01T12:18:30.403Z"
   },
   {
    "duration": 1539,
    "start_time": "2025-01-01T12:18:33.955Z"
   },
   {
    "duration": 603,
    "start_time": "2025-01-01T12:18:35.496Z"
   },
   {
    "duration": 70,
    "start_time": "2025-01-01T12:18:36.101Z"
   },
   {
    "duration": 101,
    "start_time": "2025-01-01T12:18:36.172Z"
   },
   {
    "duration": 12,
    "start_time": "2025-01-01T12:18:36.274Z"
   },
   {
    "duration": 43,
    "start_time": "2025-01-01T12:18:36.288Z"
   },
   {
    "duration": 38,
    "start_time": "2025-01-01T12:18:36.333Z"
   },
   {
    "duration": 19,
    "start_time": "2025-01-01T12:18:36.373Z"
   },
   {
    "duration": 110,
    "start_time": "2025-01-01T12:18:36.395Z"
   },
   {
    "duration": 93,
    "start_time": "2025-01-01T12:18:36.507Z"
   },
   {
    "duration": 4,
    "start_time": "2025-01-01T12:18:36.601Z"
   },
   {
    "duration": 33,
    "start_time": "2025-01-01T12:18:36.606Z"
   },
   {
    "duration": 91,
    "start_time": "2025-01-01T12:18:36.641Z"
   },
   {
    "duration": 24,
    "start_time": "2025-01-01T12:18:36.733Z"
   },
   {
    "duration": 11,
    "start_time": "2025-01-01T12:18:36.759Z"
   },
   {
    "duration": 10,
    "start_time": "2025-01-01T12:18:36.772Z"
   },
   {
    "duration": 24,
    "start_time": "2025-01-01T12:18:36.784Z"
   },
   {
    "duration": 199,
    "start_time": "2025-01-01T12:18:36.810Z"
   },
   {
    "duration": 8,
    "start_time": "2025-01-01T12:18:37.011Z"
   },
   {
    "duration": 27,
    "start_time": "2025-01-01T12:18:37.021Z"
   },
   {
    "duration": 130,
    "start_time": "2025-01-01T12:18:37.050Z"
   },
   {
    "duration": 9,
    "start_time": "2025-01-01T12:18:37.182Z"
   },
   {
    "duration": 43,
    "start_time": "2025-01-01T12:18:37.193Z"
   },
   {
    "duration": 177,
    "start_time": "2025-01-01T12:18:37.238Z"
   },
   {
    "duration": 13,
    "start_time": "2025-01-01T12:18:37.417Z"
   },
   {
    "duration": 30,
    "start_time": "2025-01-01T12:18:37.432Z"
   },
   {
    "duration": 10,
    "start_time": "2025-01-01T12:18:37.467Z"
   },
   {
    "duration": 11,
    "start_time": "2025-01-01T12:18:37.479Z"
   },
   {
    "duration": 27,
    "start_time": "2025-01-01T12:18:37.491Z"
   },
   {
    "duration": 18,
    "start_time": "2025-01-01T12:18:37.520Z"
   },
   {
    "duration": 182,
    "start_time": "2025-01-01T12:18:37.540Z"
   },
   {
    "duration": 193,
    "start_time": "2025-01-01T12:18:37.724Z"
   },
   {
    "duration": 6,
    "start_time": "2025-01-01T12:18:37.918Z"
   },
   {
    "duration": 31,
    "start_time": "2025-01-01T12:18:37.930Z"
   },
   {
    "duration": 146,
    "start_time": "2025-01-01T12:18:37.963Z"
   },
   {
    "duration": 155,
    "start_time": "2025-01-01T12:18:38.110Z"
   },
   {
    "duration": 5,
    "start_time": "2025-01-01T12:18:38.267Z"
   },
   {
    "duration": 12,
    "start_time": "2025-01-01T12:18:38.273Z"
   },
   {
    "duration": 14,
    "start_time": "2025-01-01T12:18:38.287Z"
   },
   {
    "duration": 116,
    "start_time": "2025-01-01T12:18:38.303Z"
   },
   {
    "duration": 11,
    "start_time": "2025-01-01T12:18:38.421Z"
   },
   {
    "duration": 130,
    "start_time": "2025-01-01T12:18:38.433Z"
   },
   {
    "duration": 87,
    "start_time": "2025-01-01T12:18:38.564Z"
   },
   {
    "duration": 4,
    "start_time": "2025-01-01T12:18:38.653Z"
   },
   {
    "duration": 83,
    "start_time": "2025-01-01T12:18:38.659Z"
   },
   {
    "duration": 98,
    "start_time": "2025-01-01T12:18:38.743Z"
   },
   {
    "duration": 6,
    "start_time": "2025-01-01T12:18:38.842Z"
   },
   {
    "duration": 11,
    "start_time": "2025-01-01T12:18:38.851Z"
   },
   {
    "duration": 7,
    "start_time": "2025-01-01T12:18:38.864Z"
   },
   {
    "duration": 207,
    "start_time": "2025-01-01T12:18:38.872Z"
   },
   {
    "duration": 6,
    "start_time": "2025-01-01T12:18:39.081Z"
   },
   {
    "duration": 51,
    "start_time": "2025-01-01T12:18:39.088Z"
   },
   {
    "duration": 20,
    "start_time": "2025-01-01T12:18:39.141Z"
   },
   {
    "duration": 52,
    "start_time": "2025-01-01T12:18:39.163Z"
   },
   {
    "duration": 3,
    "start_time": "2025-01-01T12:18:39.217Z"
   },
   {
    "duration": 15,
    "start_time": "2025-01-01T12:18:39.230Z"
   },
   {
    "duration": 14,
    "start_time": "2025-01-01T12:18:39.247Z"
   },
   {
    "duration": 17,
    "start_time": "2025-01-01T12:18:39.263Z"
   },
   {
    "duration": 8,
    "start_time": "2025-01-01T12:18:39.281Z"
   },
   {
    "duration": 1587,
    "start_time": "2025-01-01T12:18:39.290Z"
   },
   {
    "duration": 4,
    "start_time": "2025-01-01T12:18:40.879Z"
   },
   {
    "duration": 722,
    "start_time": "2025-01-01T12:18:40.884Z"
   },
   {
    "duration": 924,
    "start_time": "2025-01-01T12:18:41.608Z"
   },
   {
    "duration": 5,
    "start_time": "2025-01-01T12:18:42.534Z"
   },
   {
    "duration": 6,
    "start_time": "2025-01-01T12:18:42.541Z"
   },
   {
    "duration": 13,
    "start_time": "2025-01-01T12:18:42.548Z"
   },
   {
    "duration": 7,
    "start_time": "2025-01-01T12:18:42.562Z"
   },
   {
    "duration": 3,
    "start_time": "2025-01-01T12:18:42.570Z"
   },
   {
    "duration": 155,
    "start_time": "2025-01-01T12:18:42.575Z"
   },
   {
    "duration": 544210,
    "start_time": "2025-01-01T12:18:42.732Z"
   },
   {
    "duration": 4,
    "start_time": "2025-01-01T12:27:46.943Z"
   },
   {
    "duration": 15,
    "start_time": "2025-01-01T12:27:46.948Z"
   },
   {
    "duration": 20,
    "start_time": "2025-01-01T12:27:46.965Z"
   },
   {
    "duration": 16,
    "start_time": "2025-01-01T12:27:46.987Z"
   },
   {
    "duration": 3,
    "start_time": "2025-01-01T12:27:47.005Z"
   },
   {
    "duration": 156,
    "start_time": "2025-01-01T12:27:47.009Z"
   },
   {
    "duration": 4,
    "start_time": "2025-01-01T12:29:09.938Z"
   },
   {
    "duration": 9,
    "start_time": "2025-01-01T12:29:47.302Z"
   },
   {
    "duration": 2412,
    "start_time": "2025-01-01T12:32:15.655Z"
   },
   {
    "duration": 1503,
    "start_time": "2025-01-01T12:32:18.069Z"
   },
   {
    "duration": 232,
    "start_time": "2025-01-01T12:32:19.574Z"
   },
   {
    "duration": 65,
    "start_time": "2025-01-01T12:32:19.808Z"
   },
   {
    "duration": 98,
    "start_time": "2025-01-01T12:32:19.874Z"
   },
   {
    "duration": 11,
    "start_time": "2025-01-01T12:32:19.973Z"
   },
   {
    "duration": 17,
    "start_time": "2025-01-01T12:32:19.986Z"
   },
   {
    "duration": 52,
    "start_time": "2025-01-01T12:32:20.005Z"
   },
   {
    "duration": 29,
    "start_time": "2025-01-01T12:32:20.058Z"
   },
   {
    "duration": 13,
    "start_time": "2025-01-01T12:32:20.090Z"
   },
   {
    "duration": 82,
    "start_time": "2025-01-01T12:32:20.105Z"
   },
   {
    "duration": 4,
    "start_time": "2025-01-01T12:32:20.189Z"
   },
   {
    "duration": 50,
    "start_time": "2025-01-01T12:32:20.194Z"
   },
   {
    "duration": 15,
    "start_time": "2025-01-01T12:32:20.246Z"
   },
   {
    "duration": 7,
    "start_time": "2025-01-01T12:32:20.262Z"
   },
   {
    "duration": 10,
    "start_time": "2025-01-01T12:32:20.271Z"
   },
   {
    "duration": 10,
    "start_time": "2025-01-01T12:32:20.283Z"
   },
   {
    "duration": 46,
    "start_time": "2025-01-01T12:32:20.295Z"
   },
   {
    "duration": 140,
    "start_time": "2025-01-01T12:32:20.343Z"
   },
   {
    "duration": 6,
    "start_time": "2025-01-01T12:32:20.486Z"
   },
   {
    "duration": 8,
    "start_time": "2025-01-01T12:32:20.493Z"
   },
   {
    "duration": 138,
    "start_time": "2025-01-01T12:32:20.502Z"
   },
   {
    "duration": 7,
    "start_time": "2025-01-01T12:32:20.642Z"
   },
   {
    "duration": 10,
    "start_time": "2025-01-01T12:32:20.650Z"
   },
   {
    "duration": 270,
    "start_time": "2025-01-01T12:32:20.662Z"
   },
   {
    "duration": 6,
    "start_time": "2025-01-01T12:32:20.934Z"
   },
   {
    "duration": 20,
    "start_time": "2025-01-01T12:32:20.942Z"
   },
   {
    "duration": 14,
    "start_time": "2025-01-01T12:32:20.967Z"
   },
   {
    "duration": 33,
    "start_time": "2025-01-01T12:32:20.983Z"
   },
   {
    "duration": 26,
    "start_time": "2025-01-01T12:32:21.018Z"
   },
   {
    "duration": 25,
    "start_time": "2025-01-01T12:32:21.046Z"
   },
   {
    "duration": 179,
    "start_time": "2025-01-01T12:32:21.073Z"
   },
   {
    "duration": 193,
    "start_time": "2025-01-01T12:32:21.255Z"
   },
   {
    "duration": 6,
    "start_time": "2025-01-01T12:32:21.450Z"
   },
   {
    "duration": 27,
    "start_time": "2025-01-01T12:32:21.458Z"
   },
   {
    "duration": 157,
    "start_time": "2025-01-01T12:32:21.487Z"
   },
   {
    "duration": 165,
    "start_time": "2025-01-01T12:32:21.646Z"
   },
   {
    "duration": 4,
    "start_time": "2025-01-01T12:32:21.813Z"
   },
   {
    "duration": 17,
    "start_time": "2025-01-01T12:32:21.831Z"
   },
   {
    "duration": 28,
    "start_time": "2025-01-01T12:32:21.849Z"
   },
   {
    "duration": 225,
    "start_time": "2025-01-01T12:32:21.879Z"
   },
   {
    "duration": 5,
    "start_time": "2025-01-01T12:32:22.106Z"
   },
   {
    "duration": 38,
    "start_time": "2025-01-01T12:32:22.113Z"
   },
   {
    "duration": 112,
    "start_time": "2025-01-01T12:32:22.153Z"
   },
   {
    "duration": 4,
    "start_time": "2025-01-01T12:32:22.267Z"
   },
   {
    "duration": 16,
    "start_time": "2025-01-01T12:32:22.273Z"
   },
   {
    "duration": 118,
    "start_time": "2025-01-01T12:32:22.291Z"
   },
   {
    "duration": 8,
    "start_time": "2025-01-01T12:32:22.411Z"
   },
   {
    "duration": 8,
    "start_time": "2025-01-01T12:32:22.429Z"
   },
   {
    "duration": 23,
    "start_time": "2025-01-01T12:32:22.439Z"
   },
   {
    "duration": 267,
    "start_time": "2025-01-01T12:32:22.464Z"
   },
   {
    "duration": 6,
    "start_time": "2025-01-01T12:32:22.733Z"
   },
   {
    "duration": 48,
    "start_time": "2025-01-01T12:32:22.741Z"
   },
   {
    "duration": 7,
    "start_time": "2025-01-01T12:32:22.791Z"
   },
   {
    "duration": 85,
    "start_time": "2025-01-01T12:32:22.799Z"
   },
   {
    "duration": 3,
    "start_time": "2025-01-01T12:32:22.886Z"
   },
   {
    "duration": 20,
    "start_time": "2025-01-01T12:32:22.890Z"
   },
   {
    "duration": 14,
    "start_time": "2025-01-01T12:32:22.912Z"
   },
   {
    "duration": 20,
    "start_time": "2025-01-01T12:32:22.928Z"
   },
   {
    "duration": 6,
    "start_time": "2025-01-01T12:32:22.950Z"
   },
   {
    "duration": 1572,
    "start_time": "2025-01-01T12:32:22.958Z"
   },
   {
    "duration": 5,
    "start_time": "2025-01-01T12:32:24.531Z"
   },
   {
    "duration": 796,
    "start_time": "2025-01-01T12:32:24.537Z"
   },
   {
    "duration": 924,
    "start_time": "2025-01-01T12:32:25.334Z"
   },
   {
    "duration": 5,
    "start_time": "2025-01-01T12:32:26.260Z"
   },
   {
    "duration": 5,
    "start_time": "2025-01-01T12:32:26.267Z"
   },
   {
    "duration": 32,
    "start_time": "2025-01-01T12:32:26.274Z"
   },
   {
    "duration": 7,
    "start_time": "2025-01-01T12:32:26.308Z"
   },
   {
    "duration": 7,
    "start_time": "2025-01-01T12:32:26.316Z"
   },
   {
    "duration": 130,
    "start_time": "2025-01-01T12:32:26.330Z"
   },
   {
    "duration": 4965,
    "start_time": "2025-01-01T12:32:26.462Z"
   },
   {
    "duration": 4,
    "start_time": "2025-01-01T12:32:31.429Z"
   },
   {
    "duration": 12,
    "start_time": "2025-01-01T12:32:31.434Z"
   },
   {
    "duration": 14,
    "start_time": "2025-01-01T12:32:31.447Z"
   },
   {
    "duration": 15,
    "start_time": "2025-01-01T12:32:31.463Z"
   },
   {
    "duration": 38,
    "start_time": "2025-01-01T12:32:31.479Z"
   },
   {
    "duration": 26,
    "start_time": "2025-01-01T12:32:31.518Z"
   },
   {
    "duration": 171,
    "start_time": "2025-01-01T12:32:31.547Z"
   },
   {
    "duration": 2470,
    "start_time": "2025-01-01T12:39:32.164Z"
   },
   {
    "duration": 1576,
    "start_time": "2025-01-01T12:39:34.636Z"
   },
   {
    "duration": 235,
    "start_time": "2025-01-01T12:39:36.214Z"
   },
   {
    "duration": 79,
    "start_time": "2025-01-01T12:39:36.451Z"
   },
   {
    "duration": 63,
    "start_time": "2025-01-01T12:39:36.532Z"
   },
   {
    "duration": 40,
    "start_time": "2025-01-01T12:39:36.597Z"
   },
   {
    "duration": 33,
    "start_time": "2025-01-01T12:39:36.639Z"
   },
   {
    "duration": 33,
    "start_time": "2025-01-01T12:39:36.673Z"
   },
   {
    "duration": 83,
    "start_time": "2025-01-01T12:39:36.708Z"
   },
   {
    "duration": 8,
    "start_time": "2025-01-01T12:39:36.793Z"
   },
   {
    "duration": 90,
    "start_time": "2025-01-01T12:39:36.802Z"
   },
   {
    "duration": 4,
    "start_time": "2025-01-01T12:39:36.893Z"
   },
   {
    "duration": 53,
    "start_time": "2025-01-01T12:39:36.898Z"
   },
   {
    "duration": 14,
    "start_time": "2025-01-01T12:39:36.953Z"
   },
   {
    "duration": 8,
    "start_time": "2025-01-01T12:39:36.968Z"
   },
   {
    "duration": 25,
    "start_time": "2025-01-01T12:39:36.978Z"
   },
   {
    "duration": 29,
    "start_time": "2025-01-01T12:39:37.005Z"
   },
   {
    "duration": 14,
    "start_time": "2025-01-01T12:39:37.036Z"
   },
   {
    "duration": 149,
    "start_time": "2025-01-01T12:39:37.052Z"
   },
   {
    "duration": 5,
    "start_time": "2025-01-01T12:39:37.203Z"
   },
   {
    "duration": 128,
    "start_time": "2025-01-01T12:39:37.210Z"
   },
   {
    "duration": 7,
    "start_time": "2025-01-01T12:39:37.340Z"
   },
   {
    "duration": 22,
    "start_time": "2025-01-01T12:39:37.349Z"
   },
   {
    "duration": 170,
    "start_time": "2025-01-01T12:39:37.372Z"
   },
   {
    "duration": 6,
    "start_time": "2025-01-01T12:39:37.543Z"
   },
   {
    "duration": 13,
    "start_time": "2025-01-01T12:39:37.550Z"
   },
   {
    "duration": 7,
    "start_time": "2025-01-01T12:39:37.564Z"
   },
   {
    "duration": 25,
    "start_time": "2025-01-01T12:39:37.575Z"
   },
   {
    "duration": 12,
    "start_time": "2025-01-01T12:39:37.602Z"
   },
   {
    "duration": 21,
    "start_time": "2025-01-01T12:39:37.616Z"
   },
   {
    "duration": 184,
    "start_time": "2025-01-01T12:39:37.638Z"
   },
   {
    "duration": 183,
    "start_time": "2025-01-01T12:39:37.823Z"
   },
   {
    "duration": 5,
    "start_time": "2025-01-01T12:39:38.008Z"
   },
   {
    "duration": 24,
    "start_time": "2025-01-01T12:39:38.014Z"
   },
   {
    "duration": 151,
    "start_time": "2025-01-01T12:39:38.040Z"
   },
   {
    "duration": 151,
    "start_time": "2025-01-01T12:39:38.193Z"
   },
   {
    "duration": 5,
    "start_time": "2025-01-01T12:39:38.346Z"
   },
   {
    "duration": 21,
    "start_time": "2025-01-01T12:39:38.353Z"
   },
   {
    "duration": 7,
    "start_time": "2025-01-01T12:39:38.376Z"
   },
   {
    "duration": 111,
    "start_time": "2025-01-01T12:39:38.384Z"
   },
   {
    "duration": 6,
    "start_time": "2025-01-01T12:39:38.497Z"
   },
   {
    "duration": 11,
    "start_time": "2025-01-01T12:39:38.504Z"
   },
   {
    "duration": 102,
    "start_time": "2025-01-01T12:39:38.530Z"
   },
   {
    "duration": 18,
    "start_time": "2025-01-01T12:39:38.634Z"
   },
   {
    "duration": 19,
    "start_time": "2025-01-01T12:39:38.654Z"
   },
   {
    "duration": 163,
    "start_time": "2025-01-01T12:39:38.675Z"
   },
   {
    "duration": 7,
    "start_time": "2025-01-01T12:39:38.840Z"
   },
   {
    "duration": 22,
    "start_time": "2025-01-01T12:39:38.848Z"
   },
   {
    "duration": 32,
    "start_time": "2025-01-01T12:39:38.872Z"
   },
   {
    "duration": 185,
    "start_time": "2025-01-01T12:39:38.905Z"
   },
   {
    "duration": 5,
    "start_time": "2025-01-01T12:39:39.092Z"
   },
   {
    "duration": 54,
    "start_time": "2025-01-01T12:39:39.099Z"
   },
   {
    "duration": 5,
    "start_time": "2025-01-01T12:39:39.154Z"
   },
   {
    "duration": 72,
    "start_time": "2025-01-01T12:39:39.161Z"
   },
   {
    "duration": 3,
    "start_time": "2025-01-01T12:39:39.237Z"
   },
   {
    "duration": 21,
    "start_time": "2025-01-01T12:39:39.243Z"
   },
   {
    "duration": 28,
    "start_time": "2025-01-01T12:39:39.266Z"
   },
   {
    "duration": 53,
    "start_time": "2025-01-01T12:39:39.296Z"
   },
   {
    "duration": 6,
    "start_time": "2025-01-01T12:39:39.351Z"
   },
   {
    "duration": 1545,
    "start_time": "2025-01-01T12:39:39.359Z"
   },
   {
    "duration": 3,
    "start_time": "2025-01-01T12:39:40.906Z"
   },
   {
    "duration": 733,
    "start_time": "2025-01-01T12:39:40.911Z"
   },
   {
    "duration": 946,
    "start_time": "2025-01-01T12:39:41.646Z"
   },
   {
    "duration": 4,
    "start_time": "2025-01-01T12:39:42.594Z"
   },
   {
    "duration": 33,
    "start_time": "2025-01-01T12:39:42.600Z"
   },
   {
    "duration": 14,
    "start_time": "2025-01-01T12:39:42.635Z"
   },
   {
    "duration": 11,
    "start_time": "2025-01-01T12:39:42.650Z"
   },
   {
    "duration": 4,
    "start_time": "2025-01-01T12:39:42.663Z"
   },
   {
    "duration": 137,
    "start_time": "2025-01-01T12:39:42.668Z"
   },
   {
    "duration": 297,
    "start_time": "2025-01-01T12:39:42.807Z"
   },
   {
    "duration": 0,
    "start_time": "2025-01-01T12:39:43.106Z"
   },
   {
    "duration": 0,
    "start_time": "2025-01-01T12:39:43.107Z"
   },
   {
    "duration": 0,
    "start_time": "2025-01-01T12:39:43.108Z"
   },
   {
    "duration": 0,
    "start_time": "2025-01-01T12:39:43.109Z"
   },
   {
    "duration": 0,
    "start_time": "2025-01-01T12:39:43.110Z"
   },
   {
    "duration": 0,
    "start_time": "2025-01-01T12:39:43.111Z"
   },
   {
    "duration": 0,
    "start_time": "2025-01-01T12:39:43.112Z"
   },
   {
    "duration": 2431,
    "start_time": "2025-01-01T12:40:31.707Z"
   },
   {
    "duration": 1501,
    "start_time": "2025-01-01T12:40:34.140Z"
   },
   {
    "duration": 230,
    "start_time": "2025-01-01T12:40:35.643Z"
   },
   {
    "duration": 68,
    "start_time": "2025-01-01T12:40:35.875Z"
   },
   {
    "duration": 97,
    "start_time": "2025-01-01T12:40:35.944Z"
   },
   {
    "duration": 20,
    "start_time": "2025-01-01T12:40:36.043Z"
   },
   {
    "duration": 68,
    "start_time": "2025-01-01T12:40:36.066Z"
   },
   {
    "duration": 80,
    "start_time": "2025-01-01T12:40:36.136Z"
   },
   {
    "duration": 18,
    "start_time": "2025-01-01T12:40:36.217Z"
   },
   {
    "duration": 31,
    "start_time": "2025-01-01T12:40:36.237Z"
   },
   {
    "duration": 73,
    "start_time": "2025-01-01T12:40:36.269Z"
   },
   {
    "duration": 3,
    "start_time": "2025-01-01T12:40:36.344Z"
   },
   {
    "duration": 34,
    "start_time": "2025-01-01T12:40:36.349Z"
   },
   {
    "duration": 21,
    "start_time": "2025-01-01T12:40:36.385Z"
   },
   {
    "duration": 39,
    "start_time": "2025-01-01T12:40:36.408Z"
   },
   {
    "duration": 16,
    "start_time": "2025-01-01T12:40:36.449Z"
   },
   {
    "duration": 10,
    "start_time": "2025-01-01T12:40:36.466Z"
   },
   {
    "duration": 18,
    "start_time": "2025-01-01T12:40:36.478Z"
   },
   {
    "duration": 155,
    "start_time": "2025-01-01T12:40:36.497Z"
   },
   {
    "duration": 6,
    "start_time": "2025-01-01T12:40:36.654Z"
   },
   {
    "duration": 141,
    "start_time": "2025-01-01T12:40:36.661Z"
   },
   {
    "duration": 38,
    "start_time": "2025-01-01T12:40:36.804Z"
   },
   {
    "duration": 23,
    "start_time": "2025-01-01T12:40:36.844Z"
   },
   {
    "duration": 197,
    "start_time": "2025-01-01T12:40:36.868Z"
   },
   {
    "duration": 5,
    "start_time": "2025-01-01T12:40:37.066Z"
   },
   {
    "duration": 17,
    "start_time": "2025-01-01T12:40:37.073Z"
   },
   {
    "duration": 4,
    "start_time": "2025-01-01T12:40:37.091Z"
   },
   {
    "duration": 23,
    "start_time": "2025-01-01T12:40:37.099Z"
   },
   {
    "duration": 33,
    "start_time": "2025-01-01T12:40:37.123Z"
   },
   {
    "duration": 7,
    "start_time": "2025-01-01T12:40:37.158Z"
   },
   {
    "duration": 181,
    "start_time": "2025-01-01T12:40:37.167Z"
   },
   {
    "duration": 176,
    "start_time": "2025-01-01T12:40:37.350Z"
   },
   {
    "duration": 6,
    "start_time": "2025-01-01T12:40:37.530Z"
   },
   {
    "duration": 10,
    "start_time": "2025-01-01T12:40:37.537Z"
   },
   {
    "duration": 164,
    "start_time": "2025-01-01T12:40:37.549Z"
   },
   {
    "duration": 151,
    "start_time": "2025-01-01T12:40:37.715Z"
   },
   {
    "duration": 5,
    "start_time": "2025-01-01T12:40:37.867Z"
   },
   {
    "duration": 6,
    "start_time": "2025-01-01T12:40:37.874Z"
   },
   {
    "duration": 14,
    "start_time": "2025-01-01T12:40:37.882Z"
   },
   {
    "duration": 182,
    "start_time": "2025-01-01T12:40:37.898Z"
   },
   {
    "duration": 6,
    "start_time": "2025-01-01T12:40:38.082Z"
   },
   {
    "duration": 12,
    "start_time": "2025-01-01T12:40:38.089Z"
   },
   {
    "duration": 104,
    "start_time": "2025-01-01T12:40:38.103Z"
   },
   {
    "duration": 4,
    "start_time": "2025-01-01T12:40:38.209Z"
   },
   {
    "duration": 17,
    "start_time": "2025-01-01T12:40:38.214Z"
   },
   {
    "duration": 102,
    "start_time": "2025-01-01T12:40:38.233Z"
   },
   {
    "duration": 6,
    "start_time": "2025-01-01T12:40:38.337Z"
   },
   {
    "duration": 20,
    "start_time": "2025-01-01T12:40:38.344Z"
   },
   {
    "duration": 5,
    "start_time": "2025-01-01T12:40:38.366Z"
   },
   {
    "duration": 197,
    "start_time": "2025-01-01T12:40:38.373Z"
   },
   {
    "duration": 6,
    "start_time": "2025-01-01T12:40:38.572Z"
   },
   {
    "duration": 113,
    "start_time": "2025-01-01T12:40:38.580Z"
   },
   {
    "duration": 85,
    "start_time": "2025-01-01T12:40:38.695Z"
   },
   {
    "duration": 51,
    "start_time": "2025-01-01T12:40:38.782Z"
   },
   {
    "duration": 18,
    "start_time": "2025-01-01T12:40:38.834Z"
   },
   {
    "duration": 27,
    "start_time": "2025-01-01T12:40:38.854Z"
   },
   {
    "duration": 33,
    "start_time": "2025-01-01T12:40:38.882Z"
   },
   {
    "duration": 20,
    "start_time": "2025-01-01T12:40:38.917Z"
   },
   {
    "duration": 30,
    "start_time": "2025-01-01T12:40:38.938Z"
   },
   {
    "duration": 1551,
    "start_time": "2025-01-01T12:40:38.970Z"
   },
   {
    "duration": 8,
    "start_time": "2025-01-01T12:40:40.522Z"
   },
   {
    "duration": 723,
    "start_time": "2025-01-01T12:40:40.531Z"
   },
   {
    "duration": 932,
    "start_time": "2025-01-01T12:40:41.256Z"
   },
   {
    "duration": 4,
    "start_time": "2025-01-01T12:40:42.190Z"
   },
   {
    "duration": 4,
    "start_time": "2025-01-01T12:40:42.195Z"
   },
   {
    "duration": 29,
    "start_time": "2025-01-01T12:40:42.201Z"
   },
   {
    "duration": 7,
    "start_time": "2025-01-01T12:40:42.231Z"
   },
   {
    "duration": 19,
    "start_time": "2025-01-01T12:40:42.239Z"
   },
   {
    "duration": 119,
    "start_time": "2025-01-01T12:40:42.260Z"
   },
   {
    "duration": 5228,
    "start_time": "2025-01-01T12:40:42.382Z"
   },
   {
    "duration": 3,
    "start_time": "2025-01-01T12:40:47.612Z"
   },
   {
    "duration": 4,
    "start_time": "2025-01-01T12:40:47.616Z"
   },
   {
    "duration": 11,
    "start_time": "2025-01-01T12:40:47.622Z"
   },
   {
    "duration": 18,
    "start_time": "2025-01-01T12:40:47.634Z"
   },
   {
    "duration": 119,
    "start_time": "2025-01-01T12:40:47.654Z"
   },
   {
    "duration": 9,
    "start_time": "2025-01-01T12:40:47.775Z"
   },
   {
    "duration": 161,
    "start_time": "2025-01-01T12:40:47.786Z"
   },
   {
    "duration": 2531,
    "start_time": "2025-01-01T12:41:41.031Z"
   },
   {
    "duration": 1525,
    "start_time": "2025-01-01T12:41:43.565Z"
   },
   {
    "duration": 231,
    "start_time": "2025-01-01T12:41:45.092Z"
   },
   {
    "duration": 113,
    "start_time": "2025-01-01T12:41:45.326Z"
   },
   {
    "duration": 69,
    "start_time": "2025-01-01T12:41:45.440Z"
   },
   {
    "duration": 28,
    "start_time": "2025-01-01T12:41:45.511Z"
   },
   {
    "duration": 29,
    "start_time": "2025-01-01T12:41:45.540Z"
   },
   {
    "duration": 29,
    "start_time": "2025-01-01T12:41:45.570Z"
   },
   {
    "duration": 18,
    "start_time": "2025-01-01T12:41:45.601Z"
   },
   {
    "duration": 7,
    "start_time": "2025-01-01T12:41:45.622Z"
   },
   {
    "duration": 69,
    "start_time": "2025-01-01T12:41:45.631Z"
   },
   {
    "duration": 4,
    "start_time": "2025-01-01T12:41:45.702Z"
   },
   {
    "duration": 24,
    "start_time": "2025-01-01T12:41:45.707Z"
   },
   {
    "duration": 7,
    "start_time": "2025-01-01T12:41:45.732Z"
   },
   {
    "duration": 6,
    "start_time": "2025-01-01T12:41:45.740Z"
   },
   {
    "duration": 14,
    "start_time": "2025-01-01T12:41:45.748Z"
   },
   {
    "duration": 9,
    "start_time": "2025-01-01T12:41:45.763Z"
   },
   {
    "duration": 16,
    "start_time": "2025-01-01T12:41:45.774Z"
   },
   {
    "duration": 186,
    "start_time": "2025-01-01T12:41:45.792Z"
   },
   {
    "duration": 6,
    "start_time": "2025-01-01T12:41:45.979Z"
   },
   {
    "duration": 285,
    "start_time": "2025-01-01T12:41:45.986Z"
   },
   {
    "duration": 58,
    "start_time": "2025-01-01T12:41:46.273Z"
   },
   {
    "duration": 11,
    "start_time": "2025-01-01T12:41:46.333Z"
   },
   {
    "duration": 187,
    "start_time": "2025-01-01T12:41:46.346Z"
   },
   {
    "duration": 6,
    "start_time": "2025-01-01T12:41:46.534Z"
   },
   {
    "duration": 100,
    "start_time": "2025-01-01T12:41:46.541Z"
   },
   {
    "duration": 14,
    "start_time": "2025-01-01T12:41:46.643Z"
   },
   {
    "duration": 28,
    "start_time": "2025-01-01T12:41:46.661Z"
   },
   {
    "duration": 89,
    "start_time": "2025-01-01T12:41:46.691Z"
   },
   {
    "duration": 8,
    "start_time": "2025-01-01T12:41:46.781Z"
   },
   {
    "duration": 188,
    "start_time": "2025-01-01T12:41:46.791Z"
   },
   {
    "duration": 197,
    "start_time": "2025-01-01T12:41:46.981Z"
   },
   {
    "duration": 6,
    "start_time": "2025-01-01T12:41:47.180Z"
   },
   {
    "duration": 10,
    "start_time": "2025-01-01T12:41:47.187Z"
   },
   {
    "duration": 177,
    "start_time": "2025-01-01T12:41:47.199Z"
   },
   {
    "duration": 163,
    "start_time": "2025-01-01T12:41:47.378Z"
   },
   {
    "duration": 4,
    "start_time": "2025-01-01T12:41:47.543Z"
   },
   {
    "duration": 13,
    "start_time": "2025-01-01T12:41:47.548Z"
   },
   {
    "duration": 13,
    "start_time": "2025-01-01T12:41:47.563Z"
   },
   {
    "duration": 124,
    "start_time": "2025-01-01T12:41:47.578Z"
   },
   {
    "duration": 5,
    "start_time": "2025-01-01T12:41:47.704Z"
   },
   {
    "duration": 92,
    "start_time": "2025-01-01T12:41:47.711Z"
   },
   {
    "duration": 134,
    "start_time": "2025-01-01T12:41:47.805Z"
   },
   {
    "duration": 5,
    "start_time": "2025-01-01T12:41:47.940Z"
   },
   {
    "duration": 76,
    "start_time": "2025-01-01T12:41:47.946Z"
   },
   {
    "duration": 99,
    "start_time": "2025-01-01T12:41:48.024Z"
   },
   {
    "duration": 9,
    "start_time": "2025-01-01T12:41:48.125Z"
   },
   {
    "duration": 8,
    "start_time": "2025-01-01T12:41:48.135Z"
   },
   {
    "duration": 18,
    "start_time": "2025-01-01T12:41:48.145Z"
   },
   {
    "duration": 216,
    "start_time": "2025-01-01T12:41:48.165Z"
   },
   {
    "duration": 6,
    "start_time": "2025-01-01T12:41:48.382Z"
   },
   {
    "duration": 51,
    "start_time": "2025-01-01T12:41:48.390Z"
   },
   {
    "duration": 6,
    "start_time": "2025-01-01T12:41:48.443Z"
   },
   {
    "duration": 33,
    "start_time": "2025-01-01T12:41:48.451Z"
   },
   {
    "duration": 4,
    "start_time": "2025-01-01T12:41:48.486Z"
   },
   {
    "duration": 17,
    "start_time": "2025-01-01T12:41:48.531Z"
   },
   {
    "duration": 131,
    "start_time": "2025-01-01T12:41:48.550Z"
   },
   {
    "duration": 119,
    "start_time": "2025-01-01T12:41:48.683Z"
   },
   {
    "duration": 7,
    "start_time": "2025-01-01T12:41:48.803Z"
   },
   {
    "duration": 1635,
    "start_time": "2025-01-01T12:41:48.812Z"
   },
   {
    "duration": 4,
    "start_time": "2025-01-01T12:41:50.449Z"
   },
   {
    "duration": 779,
    "start_time": "2025-01-01T12:41:50.455Z"
   },
   {
    "duration": 943,
    "start_time": "2025-01-01T12:41:51.236Z"
   },
   {
    "duration": 5,
    "start_time": "2025-01-01T12:41:52.181Z"
   },
   {
    "duration": 16,
    "start_time": "2025-01-01T12:41:52.188Z"
   },
   {
    "duration": 13,
    "start_time": "2025-01-01T12:41:52.205Z"
   },
   {
    "duration": 16,
    "start_time": "2025-01-01T12:41:52.219Z"
   },
   {
    "duration": 25,
    "start_time": "2025-01-01T12:41:52.236Z"
   },
   {
    "duration": 126,
    "start_time": "2025-01-01T12:41:52.263Z"
   },
   {
    "duration": 549889,
    "start_time": "2025-01-01T12:41:52.391Z"
   },
   {
    "duration": 4,
    "start_time": "2025-01-01T12:51:02.281Z"
   },
   {
    "duration": 28,
    "start_time": "2025-01-01T12:51:02.287Z"
   },
   {
    "duration": 31,
    "start_time": "2025-01-01T12:51:02.316Z"
   },
   {
    "duration": 15,
    "start_time": "2025-01-01T12:51:02.349Z"
   },
   {
    "duration": 8,
    "start_time": "2025-01-01T12:51:02.366Z"
   },
   {
    "duration": 22,
    "start_time": "2025-01-01T12:51:02.376Z"
   },
   {
    "duration": 195,
    "start_time": "2025-01-01T12:51:02.399Z"
   },
   {
    "duration": 2541,
    "start_time": "2025-01-01T12:58:42.336Z"
   },
   {
    "duration": 1551,
    "start_time": "2025-01-01T12:58:44.879Z"
   },
   {
    "duration": 233,
    "start_time": "2025-01-01T12:58:46.432Z"
   },
   {
    "duration": 68,
    "start_time": "2025-01-01T12:58:46.667Z"
   },
   {
    "duration": 101,
    "start_time": "2025-01-01T12:58:46.737Z"
   },
   {
    "duration": 11,
    "start_time": "2025-01-01T12:58:46.840Z"
   },
   {
    "duration": 21,
    "start_time": "2025-01-01T12:58:46.853Z"
   },
   {
    "duration": 30,
    "start_time": "2025-01-01T12:58:46.876Z"
   },
   {
    "duration": 30,
    "start_time": "2025-01-01T12:58:46.908Z"
   },
   {
    "duration": 11,
    "start_time": "2025-01-01T12:58:46.941Z"
   },
   {
    "duration": 92,
    "start_time": "2025-01-01T12:58:46.954Z"
   },
   {
    "duration": 4,
    "start_time": "2025-01-01T12:58:47.048Z"
   },
   {
    "duration": 19,
    "start_time": "2025-01-01T12:58:47.054Z"
   },
   {
    "duration": 6,
    "start_time": "2025-01-01T12:58:47.075Z"
   },
   {
    "duration": 18,
    "start_time": "2025-01-01T12:58:47.083Z"
   },
   {
    "duration": 38,
    "start_time": "2025-01-01T12:58:47.103Z"
   },
   {
    "duration": 15,
    "start_time": "2025-01-01T12:58:47.143Z"
   },
   {
    "duration": 12,
    "start_time": "2025-01-01T12:58:47.160Z"
   },
   {
    "duration": 177,
    "start_time": "2025-01-01T12:58:47.174Z"
   },
   {
    "duration": 7,
    "start_time": "2025-01-01T12:58:47.352Z"
   },
   {
    "duration": 169,
    "start_time": "2025-01-01T12:58:47.361Z"
   },
   {
    "duration": 10,
    "start_time": "2025-01-01T12:58:47.532Z"
   },
   {
    "duration": 16,
    "start_time": "2025-01-01T12:58:47.543Z"
   },
   {
    "duration": 203,
    "start_time": "2025-01-01T12:58:47.562Z"
   },
   {
    "duration": 6,
    "start_time": "2025-01-01T12:58:47.766Z"
   },
   {
    "duration": 86,
    "start_time": "2025-01-01T12:58:47.774Z"
   },
   {
    "duration": 60,
    "start_time": "2025-01-01T12:58:47.861Z"
   },
   {
    "duration": 25,
    "start_time": "2025-01-01T12:58:47.927Z"
   },
   {
    "duration": 15,
    "start_time": "2025-01-01T12:58:47.954Z"
   },
   {
    "duration": 9,
    "start_time": "2025-01-01T12:58:47.971Z"
   },
   {
    "duration": 313,
    "start_time": "2025-01-01T12:58:47.981Z"
   },
   {
    "duration": 211,
    "start_time": "2025-01-01T12:58:48.297Z"
   },
   {
    "duration": 6,
    "start_time": "2025-01-01T12:58:48.510Z"
   },
   {
    "duration": 10,
    "start_time": "2025-01-01T12:58:48.529Z"
   },
   {
    "duration": 159,
    "start_time": "2025-01-01T12:58:48.541Z"
   },
   {
    "duration": 154,
    "start_time": "2025-01-01T12:58:48.703Z"
   },
   {
    "duration": 4,
    "start_time": "2025-01-01T12:58:48.859Z"
   },
   {
    "duration": 7,
    "start_time": "2025-01-01T12:58:48.865Z"
   },
   {
    "duration": 7,
    "start_time": "2025-01-01T12:58:48.873Z"
   },
   {
    "duration": 120,
    "start_time": "2025-01-01T12:58:48.881Z"
   },
   {
    "duration": 128,
    "start_time": "2025-01-01T12:58:49.003Z"
   },
   {
    "duration": 0,
    "start_time": "2025-01-01T12:58:49.134Z"
   },
   {
    "duration": 0,
    "start_time": "2025-01-01T12:58:49.135Z"
   },
   {
    "duration": 0,
    "start_time": "2025-01-01T12:58:49.137Z"
   },
   {
    "duration": 0,
    "start_time": "2025-01-01T12:58:49.138Z"
   },
   {
    "duration": 0,
    "start_time": "2025-01-01T12:58:49.139Z"
   },
   {
    "duration": 0,
    "start_time": "2025-01-01T12:58:49.141Z"
   },
   {
    "duration": 0,
    "start_time": "2025-01-01T12:58:49.143Z"
   },
   {
    "duration": 0,
    "start_time": "2025-01-01T12:58:49.144Z"
   },
   {
    "duration": 0,
    "start_time": "2025-01-01T12:58:49.145Z"
   },
   {
    "duration": 0,
    "start_time": "2025-01-01T12:58:49.146Z"
   },
   {
    "duration": 0,
    "start_time": "2025-01-01T12:58:49.147Z"
   },
   {
    "duration": 0,
    "start_time": "2025-01-01T12:58:49.149Z"
   },
   {
    "duration": 0,
    "start_time": "2025-01-01T12:58:49.150Z"
   },
   {
    "duration": 0,
    "start_time": "2025-01-01T12:58:49.151Z"
   },
   {
    "duration": 0,
    "start_time": "2025-01-01T12:58:49.152Z"
   },
   {
    "duration": 0,
    "start_time": "2025-01-01T12:58:49.153Z"
   },
   {
    "duration": 0,
    "start_time": "2025-01-01T12:58:49.155Z"
   },
   {
    "duration": 0,
    "start_time": "2025-01-01T12:58:49.156Z"
   },
   {
    "duration": 0,
    "start_time": "2025-01-01T12:58:49.158Z"
   },
   {
    "duration": 0,
    "start_time": "2025-01-01T12:58:49.159Z"
   },
   {
    "duration": 0,
    "start_time": "2025-01-01T12:58:49.160Z"
   },
   {
    "duration": 0,
    "start_time": "2025-01-01T12:58:49.161Z"
   },
   {
    "duration": 0,
    "start_time": "2025-01-01T12:58:49.162Z"
   },
   {
    "duration": 0,
    "start_time": "2025-01-01T12:58:49.164Z"
   },
   {
    "duration": 0,
    "start_time": "2025-01-01T12:58:49.165Z"
   },
   {
    "duration": 0,
    "start_time": "2025-01-01T12:58:49.166Z"
   },
   {
    "duration": 0,
    "start_time": "2025-01-01T12:58:49.167Z"
   },
   {
    "duration": 0,
    "start_time": "2025-01-01T12:58:49.168Z"
   },
   {
    "duration": 0,
    "start_time": "2025-01-01T12:58:49.169Z"
   },
   {
    "duration": 0,
    "start_time": "2025-01-01T12:58:49.230Z"
   },
   {
    "duration": 0,
    "start_time": "2025-01-01T12:58:49.231Z"
   },
   {
    "duration": 0,
    "start_time": "2025-01-01T12:58:49.235Z"
   },
   {
    "duration": 0,
    "start_time": "2025-01-01T12:58:49.236Z"
   },
   {
    "duration": 0,
    "start_time": "2025-01-01T12:58:49.237Z"
   },
   {
    "duration": 0,
    "start_time": "2025-01-01T12:58:49.238Z"
   },
   {
    "duration": 1,
    "start_time": "2025-01-01T12:58:49.239Z"
   },
   {
    "duration": 2601,
    "start_time": "2025-01-01T12:59:20.193Z"
   },
   {
    "duration": 1643,
    "start_time": "2025-01-01T12:59:22.798Z"
   },
   {
    "duration": 251,
    "start_time": "2025-01-01T12:59:24.442Z"
   },
   {
    "duration": 107,
    "start_time": "2025-01-01T12:59:24.696Z"
   },
   {
    "duration": 126,
    "start_time": "2025-01-01T12:59:24.805Z"
   },
   {
    "duration": 16,
    "start_time": "2025-01-01T12:59:24.933Z"
   },
   {
    "duration": 26,
    "start_time": "2025-01-01T12:59:24.950Z"
   },
   {
    "duration": 57,
    "start_time": "2025-01-01T12:59:24.978Z"
   },
   {
    "duration": 19,
    "start_time": "2025-01-01T12:59:25.037Z"
   },
   {
    "duration": 15,
    "start_time": "2025-01-01T12:59:25.059Z"
   },
   {
    "duration": 97,
    "start_time": "2025-01-01T12:59:25.076Z"
   },
   {
    "duration": 4,
    "start_time": "2025-01-01T12:59:25.176Z"
   },
   {
    "duration": 49,
    "start_time": "2025-01-01T12:59:25.183Z"
   },
   {
    "duration": 9,
    "start_time": "2025-01-01T12:59:25.235Z"
   },
   {
    "duration": 10,
    "start_time": "2025-01-01T12:59:25.246Z"
   },
   {
    "duration": 13,
    "start_time": "2025-01-01T12:59:25.258Z"
   },
   {
    "duration": 14,
    "start_time": "2025-01-01T12:59:25.274Z"
   },
   {
    "duration": 45,
    "start_time": "2025-01-01T12:59:25.290Z"
   },
   {
    "duration": 157,
    "start_time": "2025-01-01T12:59:25.337Z"
   },
   {
    "duration": 7,
    "start_time": "2025-01-01T12:59:25.496Z"
   },
   {
    "duration": 156,
    "start_time": "2025-01-01T12:59:25.505Z"
   },
   {
    "duration": 8,
    "start_time": "2025-01-01T12:59:25.663Z"
   },
   {
    "duration": 13,
    "start_time": "2025-01-01T12:59:25.673Z"
   },
   {
    "duration": 194,
    "start_time": "2025-01-01T12:59:25.688Z"
   },
   {
    "duration": 6,
    "start_time": "2025-01-01T12:59:25.884Z"
   },
   {
    "duration": 11,
    "start_time": "2025-01-01T12:59:25.892Z"
   },
   {
    "duration": 26,
    "start_time": "2025-01-01T12:59:25.904Z"
   },
   {
    "duration": 9,
    "start_time": "2025-01-01T12:59:25.934Z"
   },
   {
    "duration": 11,
    "start_time": "2025-01-01T12:59:25.945Z"
   },
   {
    "duration": 6,
    "start_time": "2025-01-01T12:59:25.958Z"
   },
   {
    "duration": 227,
    "start_time": "2025-01-01T12:59:25.966Z"
   },
   {
    "duration": 193,
    "start_time": "2025-01-01T12:59:26.194Z"
   },
   {
    "duration": 6,
    "start_time": "2025-01-01T12:59:26.389Z"
   },
   {
    "duration": 14,
    "start_time": "2025-01-01T12:59:26.396Z"
   },
   {
    "duration": 165,
    "start_time": "2025-01-01T12:59:26.411Z"
   },
   {
    "duration": 168,
    "start_time": "2025-01-01T12:59:26.579Z"
   },
   {
    "duration": 5,
    "start_time": "2025-01-01T12:59:26.749Z"
   },
   {
    "duration": 98,
    "start_time": "2025-01-01T12:59:26.755Z"
   },
   {
    "duration": 30,
    "start_time": "2025-01-01T12:59:26.855Z"
   },
   {
    "duration": 121,
    "start_time": "2025-01-01T12:59:26.888Z"
   },
   {
    "duration": 5,
    "start_time": "2025-01-01T12:59:27.011Z"
   },
   {
    "duration": 19,
    "start_time": "2025-01-01T12:59:27.018Z"
   },
   {
    "duration": 109,
    "start_time": "2025-01-01T12:59:27.039Z"
   },
   {
    "duration": 5,
    "start_time": "2025-01-01T12:59:27.150Z"
   },
   {
    "duration": 14,
    "start_time": "2025-01-01T12:59:27.157Z"
   },
   {
    "duration": 125,
    "start_time": "2025-01-01T12:59:27.173Z"
   },
   {
    "duration": 7,
    "start_time": "2025-01-01T12:59:27.299Z"
   },
   {
    "duration": 25,
    "start_time": "2025-01-01T12:59:27.308Z"
   },
   {
    "duration": 18,
    "start_time": "2025-01-01T12:59:27.336Z"
   },
   {
    "duration": 202,
    "start_time": "2025-01-01T12:59:27.356Z"
   },
   {
    "duration": 6,
    "start_time": "2025-01-01T12:59:27.560Z"
   },
   {
    "duration": 38,
    "start_time": "2025-01-01T12:59:27.567Z"
   },
   {
    "duration": 28,
    "start_time": "2025-01-01T12:59:27.607Z"
   },
   {
    "duration": 45,
    "start_time": "2025-01-01T12:59:27.637Z"
   },
   {
    "duration": 8,
    "start_time": "2025-01-01T12:59:27.684Z"
   },
   {
    "duration": 121,
    "start_time": "2025-01-01T12:59:27.693Z"
   },
   {
    "duration": 69,
    "start_time": "2025-01-01T12:59:27.816Z"
   },
   {
    "duration": 24,
    "start_time": "2025-01-01T12:59:27.887Z"
   },
   {
    "duration": 47,
    "start_time": "2025-01-01T12:59:27.913Z"
   },
   {
    "duration": 1608,
    "start_time": "2025-01-01T12:59:27.962Z"
   },
   {
    "duration": 6,
    "start_time": "2025-01-01T12:59:29.572Z"
   },
   {
    "duration": 753,
    "start_time": "2025-01-01T12:59:29.580Z"
   },
   {
    "duration": 1019,
    "start_time": "2025-01-01T12:59:30.335Z"
   },
   {
    "duration": 5,
    "start_time": "2025-01-01T12:59:31.356Z"
   },
   {
    "duration": 6,
    "start_time": "2025-01-01T12:59:31.363Z"
   },
   {
    "duration": 16,
    "start_time": "2025-01-01T12:59:31.371Z"
   },
   {
    "duration": 12,
    "start_time": "2025-01-01T12:59:31.389Z"
   },
   {
    "duration": 5,
    "start_time": "2025-01-01T12:59:31.403Z"
   },
   {
    "duration": 150,
    "start_time": "2025-01-01T12:59:31.429Z"
   },
   {
    "duration": 564044,
    "start_time": "2025-01-01T12:59:31.581Z"
   },
   {
    "duration": 4,
    "start_time": "2025-01-01T13:08:55.627Z"
   },
   {
    "duration": 7,
    "start_time": "2025-01-01T13:08:55.632Z"
   },
   {
    "duration": 10,
    "start_time": "2025-01-01T13:08:55.640Z"
   },
   {
    "duration": 18,
    "start_time": "2025-01-01T13:08:55.652Z"
   },
   {
    "duration": 8,
    "start_time": "2025-01-01T13:08:55.672Z"
   },
   {
    "duration": 12,
    "start_time": "2025-01-01T13:08:55.681Z"
   },
   {
    "duration": 185,
    "start_time": "2025-01-01T13:08:55.695Z"
   },
   {
    "duration": 4,
    "start_time": "2025-01-01T13:13:26.113Z"
   },
   {
    "duration": 256,
    "start_time": "2025-01-01T13:13:30.177Z"
   },
   {
    "duration": 60,
    "start_time": "2025-01-01T13:13:39.587Z"
   },
   {
    "duration": 66,
    "start_time": "2025-01-01T13:13:46.891Z"
   },
   {
    "duration": 11,
    "start_time": "2025-01-01T13:14:09.379Z"
   },
   {
    "duration": 10,
    "start_time": "2025-01-01T13:14:14.624Z"
   },
   {
    "duration": 8,
    "start_time": "2025-01-01T13:14:28.121Z"
   },
   {
    "duration": 60,
    "start_time": "2025-01-01T13:14:37.594Z"
   },
   {
    "duration": 4,
    "start_time": "2025-01-01T13:14:54.876Z"
   },
   {
    "duration": 13,
    "start_time": "2025-01-01T13:15:09.396Z"
   },
   {
    "duration": 2575,
    "start_time": "2025-01-01T13:19:20.284Z"
   },
   {
    "duration": 1524,
    "start_time": "2025-01-01T13:19:22.862Z"
   },
   {
    "duration": 266,
    "start_time": "2025-01-01T13:19:24.388Z"
   },
   {
    "duration": 79,
    "start_time": "2025-01-01T13:19:24.656Z"
   },
   {
    "duration": 101,
    "start_time": "2025-01-01T13:19:24.736Z"
   },
   {
    "duration": 12,
    "start_time": "2025-01-01T13:19:24.839Z"
   },
   {
    "duration": 53,
    "start_time": "2025-01-01T13:19:24.852Z"
   },
   {
    "duration": 10,
    "start_time": "2025-01-01T13:19:24.907Z"
   },
   {
    "duration": 67,
    "start_time": "2025-01-01T13:19:24.919Z"
   },
   {
    "duration": 3,
    "start_time": "2025-01-01T13:19:24.990Z"
   },
   {
    "duration": 14,
    "start_time": "2025-01-01T13:19:25.030Z"
   },
   {
    "duration": 14,
    "start_time": "2025-01-01T13:19:25.046Z"
   },
   {
    "duration": 25,
    "start_time": "2025-01-01T13:19:25.062Z"
   },
   {
    "duration": 11,
    "start_time": "2025-01-01T13:19:25.089Z"
   },
   {
    "duration": 15,
    "start_time": "2025-01-01T13:19:25.102Z"
   },
   {
    "duration": 148,
    "start_time": "2025-01-01T13:19:25.131Z"
   },
   {
    "duration": 6,
    "start_time": "2025-01-01T13:19:25.281Z"
   },
   {
    "duration": 137,
    "start_time": "2025-01-01T13:19:25.289Z"
   },
   {
    "duration": 8,
    "start_time": "2025-01-01T13:19:25.430Z"
   },
   {
    "duration": 12,
    "start_time": "2025-01-01T13:19:25.439Z"
   },
   {
    "duration": 195,
    "start_time": "2025-01-01T13:19:25.453Z"
   },
   {
    "duration": 5,
    "start_time": "2025-01-01T13:19:25.650Z"
   },
   {
    "duration": 61,
    "start_time": "2025-01-01T13:19:25.657Z"
   },
   {
    "duration": 5,
    "start_time": "2025-01-01T13:19:25.719Z"
   },
   {
    "duration": 7,
    "start_time": "2025-01-01T13:19:25.726Z"
   },
   {
    "duration": 20,
    "start_time": "2025-01-01T13:19:25.734Z"
   },
   {
    "duration": 7,
    "start_time": "2025-01-01T13:19:25.755Z"
   },
   {
    "duration": 188,
    "start_time": "2025-01-01T13:19:25.766Z"
   },
   {
    "duration": 214,
    "start_time": "2025-01-01T13:19:25.956Z"
   },
   {
    "duration": 7,
    "start_time": "2025-01-01T13:19:26.171Z"
   },
   {
    "duration": 27,
    "start_time": "2025-01-01T13:19:26.179Z"
   },
   {
    "duration": 158,
    "start_time": "2025-01-01T13:19:26.208Z"
   },
   {
    "duration": 158,
    "start_time": "2025-01-01T13:19:26.368Z"
   },
   {
    "duration": 6,
    "start_time": "2025-01-01T13:19:26.530Z"
   },
   {
    "duration": 8,
    "start_time": "2025-01-01T13:19:26.537Z"
   },
   {
    "duration": 8,
    "start_time": "2025-01-01T13:19:26.547Z"
   },
   {
    "duration": 124,
    "start_time": "2025-01-01T13:19:26.556Z"
   },
   {
    "duration": 5,
    "start_time": "2025-01-01T13:19:26.682Z"
   },
   {
    "duration": 111,
    "start_time": "2025-01-01T13:19:26.688Z"
   },
   {
    "duration": 91,
    "start_time": "2025-01-01T13:19:26.800Z"
   },
   {
    "duration": 7,
    "start_time": "2025-01-01T13:19:26.893Z"
   },
   {
    "duration": 16,
    "start_time": "2025-01-01T13:19:26.902Z"
   },
   {
    "duration": 103,
    "start_time": "2025-01-01T13:19:26.929Z"
   },
   {
    "duration": 7,
    "start_time": "2025-01-01T13:19:27.034Z"
   },
   {
    "duration": 11,
    "start_time": "2025-01-01T13:19:27.042Z"
   },
   {
    "duration": 5,
    "start_time": "2025-01-01T13:19:27.055Z"
   },
   {
    "duration": 219,
    "start_time": "2025-01-01T13:19:27.062Z"
   },
   {
    "duration": 5,
    "start_time": "2025-01-01T13:19:27.283Z"
   },
   {
    "duration": 47,
    "start_time": "2025-01-01T13:19:27.289Z"
   },
   {
    "duration": 6,
    "start_time": "2025-01-01T13:19:27.337Z"
   },
   {
    "duration": 34,
    "start_time": "2025-01-01T13:19:27.344Z"
   },
   {
    "duration": 51,
    "start_time": "2025-01-01T13:19:27.379Z"
   },
   {
    "duration": 16,
    "start_time": "2025-01-01T13:19:27.432Z"
   },
   {
    "duration": 15,
    "start_time": "2025-01-01T13:19:27.450Z"
   },
   {
    "duration": 18,
    "start_time": "2025-01-01T13:19:27.467Z"
   },
   {
    "duration": 45,
    "start_time": "2025-01-01T13:19:27.486Z"
   },
   {
    "duration": 1579,
    "start_time": "2025-01-01T13:19:27.533Z"
   },
   {
    "duration": 5,
    "start_time": "2025-01-01T13:19:29.114Z"
   },
   {
    "duration": 742,
    "start_time": "2025-01-01T13:19:29.121Z"
   },
   {
    "duration": 947,
    "start_time": "2025-01-01T13:19:29.864Z"
   },
   {
    "duration": 6,
    "start_time": "2025-01-01T13:19:30.813Z"
   },
   {
    "duration": 126,
    "start_time": "2025-01-01T13:19:30.820Z"
   },
   {
    "duration": 12,
    "start_time": "2025-01-01T13:19:30.948Z"
   },
   {
    "duration": 12,
    "start_time": "2025-01-01T13:19:30.962Z"
   },
   {
    "duration": 18,
    "start_time": "2025-01-01T13:19:30.976Z"
   },
   {
    "duration": 125,
    "start_time": "2025-01-01T13:19:30.996Z"
   },
   {
    "duration": 508170,
    "start_time": "2025-01-01T13:19:31.130Z"
   },
   {
    "duration": 3,
    "start_time": "2025-01-01T13:27:59.302Z"
   },
   {
    "duration": 10,
    "start_time": "2025-01-01T13:27:59.307Z"
   },
   {
    "duration": 7,
    "start_time": "2025-01-01T13:27:59.318Z"
   },
   {
    "duration": 14,
    "start_time": "2025-01-01T13:27:59.326Z"
   },
   {
    "duration": 13,
    "start_time": "2025-01-01T13:27:59.341Z"
   },
   {
    "duration": 6,
    "start_time": "2025-01-01T13:27:59.356Z"
   },
   {
    "duration": 137,
    "start_time": "2025-01-01T13:27:59.363Z"
   },
   {
    "duration": 4,
    "start_time": "2025-01-01T13:36:13.423Z"
   },
   {
    "duration": 229,
    "start_time": "2025-01-01T13:36:14.337Z"
   },
   {
    "duration": 63,
    "start_time": "2025-01-01T13:36:15.747Z"
   },
   {
    "duration": 67,
    "start_time": "2025-01-01T13:36:23.410Z"
   },
   {
    "duration": 12,
    "start_time": "2025-01-01T13:36:33.513Z"
   },
   {
    "duration": 10,
    "start_time": "2025-01-01T13:36:37.040Z"
   },
   {
    "duration": 8,
    "start_time": "2025-01-01T13:36:40.913Z"
   },
   {
    "duration": 65,
    "start_time": "2025-01-01T13:36:42.203Z"
   },
   {
    "duration": 4,
    "start_time": "2025-01-01T13:36:51.137Z"
   },
   {
    "duration": 14,
    "start_time": "2025-01-01T13:36:54.872Z"
   },
   {
    "duration": 8,
    "start_time": "2025-01-01T13:37:05.169Z"
   },
   {
    "duration": 12,
    "start_time": "2025-01-01T13:37:29.853Z"
   },
   {
    "duration": 132,
    "start_time": "2025-01-01T13:38:15.648Z"
   },
   {
    "duration": 15,
    "start_time": "2025-01-01T13:38:29.389Z"
   },
   {
    "duration": 10,
    "start_time": "2025-01-01T13:40:01.711Z"
   },
   {
    "duration": 14,
    "start_time": "2025-01-01T13:40:06.181Z"
   },
   {
    "duration": 13,
    "start_time": "2025-01-01T13:40:21.211Z"
   },
   {
    "duration": 12,
    "start_time": "2025-01-01T13:40:58.743Z"
   },
   {
    "duration": 5,
    "start_time": "2025-01-01T13:43:29.872Z"
   },
   {
    "duration": 11,
    "start_time": "2025-01-01T13:43:31.851Z"
   },
   {
    "duration": 12,
    "start_time": "2025-01-01T13:43:39.605Z"
   },
   {
    "duration": 12,
    "start_time": "2025-01-01T13:43:40.878Z"
   },
   {
    "duration": 9,
    "start_time": "2025-01-01T13:43:42.310Z"
   },
   {
    "duration": 8,
    "start_time": "2025-01-01T13:43:54.230Z"
   },
   {
    "duration": 2532,
    "start_time": "2025-01-01T13:48:38.732Z"
   },
   {
    "duration": 1518,
    "start_time": "2025-01-01T13:48:41.267Z"
   },
   {
    "duration": 229,
    "start_time": "2025-01-01T13:48:42.786Z"
   },
   {
    "duration": 71,
    "start_time": "2025-01-01T13:48:43.016Z"
   },
   {
    "duration": 99,
    "start_time": "2025-01-01T13:48:43.089Z"
   },
   {
    "duration": 44,
    "start_time": "2025-01-01T13:48:43.189Z"
   },
   {
    "duration": 11,
    "start_time": "2025-01-01T13:48:43.235Z"
   },
   {
    "duration": 7,
    "start_time": "2025-01-01T13:48:43.248Z"
   },
   {
    "duration": 100,
    "start_time": "2025-01-01T13:48:43.257Z"
   },
   {
    "duration": 4,
    "start_time": "2025-01-01T13:48:43.360Z"
   },
   {
    "duration": 14,
    "start_time": "2025-01-01T13:48:43.365Z"
   },
   {
    "duration": 6,
    "start_time": "2025-01-01T13:48:43.381Z"
   },
   {
    "duration": 41,
    "start_time": "2025-01-01T13:48:43.389Z"
   },
   {
    "duration": 12,
    "start_time": "2025-01-01T13:48:43.432Z"
   },
   {
    "duration": 12,
    "start_time": "2025-01-01T13:48:43.446Z"
   },
   {
    "duration": 9,
    "start_time": "2025-01-01T13:48:43.460Z"
   },
   {
    "duration": 13,
    "start_time": "2025-01-01T13:48:43.471Z"
   },
   {
    "duration": 47,
    "start_time": "2025-01-01T13:48:43.485Z"
   },
   {
    "duration": 150,
    "start_time": "2025-01-01T13:48:43.535Z"
   },
   {
    "duration": 5,
    "start_time": "2025-01-01T13:48:43.687Z"
   },
   {
    "duration": 149,
    "start_time": "2025-01-01T13:48:43.694Z"
   },
   {
    "duration": 9,
    "start_time": "2025-01-01T13:48:43.844Z"
   },
   {
    "duration": 10,
    "start_time": "2025-01-01T13:48:43.855Z"
   },
   {
    "duration": 194,
    "start_time": "2025-01-01T13:48:43.867Z"
   },
   {
    "duration": 6,
    "start_time": "2025-01-01T13:48:44.063Z"
   },
   {
    "duration": 37,
    "start_time": "2025-01-01T13:48:44.070Z"
   },
   {
    "duration": 5,
    "start_time": "2025-01-01T13:48:44.108Z"
   },
   {
    "duration": 7,
    "start_time": "2025-01-01T13:48:44.118Z"
   },
   {
    "duration": 12,
    "start_time": "2025-01-01T13:48:44.130Z"
   },
   {
    "duration": 8,
    "start_time": "2025-01-01T13:48:44.144Z"
   },
   {
    "duration": 199,
    "start_time": "2025-01-01T13:48:44.154Z"
   },
   {
    "duration": 188,
    "start_time": "2025-01-01T13:48:44.355Z"
   },
   {
    "duration": 7,
    "start_time": "2025-01-01T13:48:44.545Z"
   },
   {
    "duration": 14,
    "start_time": "2025-01-01T13:48:44.553Z"
   },
   {
    "duration": 164,
    "start_time": "2025-01-01T13:48:44.569Z"
   },
   {
    "duration": 160,
    "start_time": "2025-01-01T13:48:44.735Z"
   },
   {
    "duration": 5,
    "start_time": "2025-01-01T13:48:44.897Z"
   },
   {
    "duration": 62,
    "start_time": "2025-01-01T13:48:44.903Z"
   },
   {
    "duration": 27,
    "start_time": "2025-01-01T13:48:44.966Z"
   },
   {
    "duration": 137,
    "start_time": "2025-01-01T13:48:44.995Z"
   },
   {
    "duration": 4,
    "start_time": "2025-01-01T13:48:45.134Z"
   },
   {
    "duration": 48,
    "start_time": "2025-01-01T13:48:45.140Z"
   },
   {
    "duration": 154,
    "start_time": "2025-01-01T13:48:45.190Z"
   },
   {
    "duration": 4,
    "start_time": "2025-01-01T13:48:45.346Z"
   },
   {
    "duration": 42,
    "start_time": "2025-01-01T13:48:45.352Z"
   },
   {
    "duration": 106,
    "start_time": "2025-01-01T13:48:45.396Z"
   },
   {
    "duration": 7,
    "start_time": "2025-01-01T13:48:45.503Z"
   },
   {
    "duration": 24,
    "start_time": "2025-01-01T13:48:45.512Z"
   },
   {
    "duration": 17,
    "start_time": "2025-01-01T13:48:45.538Z"
   },
   {
    "duration": 190,
    "start_time": "2025-01-01T13:48:45.557Z"
   },
   {
    "duration": 7,
    "start_time": "2025-01-01T13:48:45.748Z"
   },
   {
    "duration": 33,
    "start_time": "2025-01-01T13:48:45.757Z"
   },
   {
    "duration": 41,
    "start_time": "2025-01-01T13:48:45.791Z"
   },
   {
    "duration": 31,
    "start_time": "2025-01-01T13:48:45.834Z"
   },
   {
    "duration": 4,
    "start_time": "2025-01-01T13:48:45.866Z"
   },
   {
    "duration": 27,
    "start_time": "2025-01-01T13:48:45.872Z"
   },
   {
    "duration": 39,
    "start_time": "2025-01-01T13:48:45.901Z"
   },
   {
    "duration": 18,
    "start_time": "2025-01-01T13:48:45.942Z"
   },
   {
    "duration": 7,
    "start_time": "2025-01-01T13:48:45.962Z"
   },
   {
    "duration": 1644,
    "start_time": "2025-01-01T13:48:45.971Z"
   },
   {
    "duration": 4,
    "start_time": "2025-01-01T13:48:47.617Z"
   },
   {
    "duration": 759,
    "start_time": "2025-01-01T13:48:47.631Z"
   },
   {
    "duration": 926,
    "start_time": "2025-01-01T13:48:48.392Z"
   },
   {
    "duration": 5,
    "start_time": "2025-01-01T13:48:49.320Z"
   },
   {
    "duration": 14,
    "start_time": "2025-01-01T13:48:49.326Z"
   },
   {
    "duration": 22,
    "start_time": "2025-01-01T13:48:49.341Z"
   },
   {
    "duration": 11,
    "start_time": "2025-01-01T13:48:49.365Z"
   },
   {
    "duration": 20,
    "start_time": "2025-01-01T13:48:49.378Z"
   },
   {
    "duration": 130,
    "start_time": "2025-01-01T13:48:49.400Z"
   },
   {
    "duration": 543281,
    "start_time": "2025-01-01T13:48:49.532Z"
   },
   {
    "duration": 3,
    "start_time": "2025-01-01T13:57:52.815Z"
   },
   {
    "duration": 12,
    "start_time": "2025-01-01T13:57:52.819Z"
   },
   {
    "duration": 9,
    "start_time": "2025-01-01T13:57:52.833Z"
   },
   {
    "duration": 95,
    "start_time": "2025-01-01T13:57:52.843Z"
   },
   {
    "duration": 13,
    "start_time": "2025-01-01T13:57:52.939Z"
   },
   {
    "duration": 3,
    "start_time": "2025-01-01T13:57:52.954Z"
   },
   {
    "duration": 236,
    "start_time": "2025-01-01T13:57:52.958Z"
   },
   {
    "duration": 17,
    "start_time": "2025-01-01T14:04:33.192Z"
   },
   {
    "duration": 6,
    "start_time": "2025-01-01T14:04:38.921Z"
   },
   {
    "duration": 26,
    "start_time": "2025-01-01T14:04:41.785Z"
   },
   {
    "duration": 116,
    "start_time": "2025-01-01T14:04:50.661Z"
   },
   {
    "duration": 4,
    "start_time": "2025-01-01T14:11:04.796Z"
   },
   {
    "duration": 25,
    "start_time": "2025-01-01T14:11:09.993Z"
   },
   {
    "duration": 44,
    "start_time": "2025-01-01T14:11:43.852Z"
   },
   {
    "duration": 3,
    "start_time": "2025-01-01T14:12:34.725Z"
   },
   {
    "duration": 16,
    "start_time": "2025-01-01T14:12:36.532Z"
   },
   {
    "duration": 14,
    "start_time": "2025-01-01T14:12:39.085Z"
   },
   {
    "duration": 16,
    "start_time": "2025-01-01T14:12:42.123Z"
   },
   {
    "duration": 2486,
    "start_time": "2025-01-01T14:16:47.085Z"
   },
   {
    "duration": 3499,
    "start_time": "2025-01-01T14:16:49.573Z"
   },
   {
    "duration": 270,
    "start_time": "2025-01-01T14:16:53.074Z"
   },
   {
    "duration": 84,
    "start_time": "2025-01-01T14:16:53.346Z"
   },
   {
    "duration": 65,
    "start_time": "2025-01-01T14:16:53.432Z"
   },
   {
    "duration": 40,
    "start_time": "2025-01-01T14:16:53.498Z"
   },
   {
    "duration": 35,
    "start_time": "2025-01-01T14:16:53.540Z"
   },
   {
    "duration": 7,
    "start_time": "2025-01-01T14:16:53.577Z"
   },
   {
    "duration": 70,
    "start_time": "2025-01-01T14:16:53.586Z"
   },
   {
    "duration": 4,
    "start_time": "2025-01-01T14:16:53.659Z"
   },
   {
    "duration": 14,
    "start_time": "2025-01-01T14:16:53.665Z"
   },
   {
    "duration": 7,
    "start_time": "2025-01-01T14:16:53.681Z"
   },
   {
    "duration": 5,
    "start_time": "2025-01-01T14:16:53.729Z"
   },
   {
    "duration": 23,
    "start_time": "2025-01-01T14:16:53.735Z"
   },
   {
    "duration": 14,
    "start_time": "2025-01-01T14:16:53.760Z"
   },
   {
    "duration": 8,
    "start_time": "2025-01-01T14:16:53.776Z"
   },
   {
    "duration": 20,
    "start_time": "2025-01-01T14:16:53.786Z"
   },
   {
    "duration": 23,
    "start_time": "2025-01-01T14:16:53.807Z"
   },
   {
    "duration": 143,
    "start_time": "2025-01-01T14:16:53.832Z"
   },
   {
    "duration": 4,
    "start_time": "2025-01-01T14:16:53.977Z"
   },
   {
    "duration": 133,
    "start_time": "2025-01-01T14:16:53.983Z"
   },
   {
    "duration": 14,
    "start_time": "2025-01-01T14:16:54.118Z"
   },
   {
    "duration": 10,
    "start_time": "2025-01-01T14:16:54.134Z"
   },
   {
    "duration": 180,
    "start_time": "2025-01-01T14:16:54.146Z"
   },
   {
    "duration": 6,
    "start_time": "2025-01-01T14:16:54.327Z"
   },
   {
    "duration": 10,
    "start_time": "2025-01-01T14:16:54.335Z"
   },
   {
    "duration": 8,
    "start_time": "2025-01-01T14:16:54.346Z"
   },
   {
    "duration": 69,
    "start_time": "2025-01-01T14:16:54.358Z"
   },
   {
    "duration": 45,
    "start_time": "2025-01-01T14:16:54.428Z"
   },
   {
    "duration": 28,
    "start_time": "2025-01-01T14:16:54.474Z"
   },
   {
    "duration": 179,
    "start_time": "2025-01-01T14:16:54.504Z"
   },
   {
    "duration": 182,
    "start_time": "2025-01-01T14:16:54.685Z"
   },
   {
    "duration": 5,
    "start_time": "2025-01-01T14:16:54.869Z"
   },
   {
    "duration": 14,
    "start_time": "2025-01-01T14:16:54.876Z"
   },
   {
    "duration": 162,
    "start_time": "2025-01-01T14:16:54.891Z"
   },
   {
    "duration": 156,
    "start_time": "2025-01-01T14:16:55.055Z"
   },
   {
    "duration": 4,
    "start_time": "2025-01-01T14:16:55.212Z"
   },
   {
    "duration": 17,
    "start_time": "2025-01-01T14:16:55.218Z"
   },
   {
    "duration": 8,
    "start_time": "2025-01-01T14:16:55.236Z"
   },
   {
    "duration": 105,
    "start_time": "2025-01-01T14:16:55.246Z"
   },
   {
    "duration": 5,
    "start_time": "2025-01-01T14:16:55.353Z"
   },
   {
    "duration": 45,
    "start_time": "2025-01-01T14:16:55.359Z"
   },
   {
    "duration": 90,
    "start_time": "2025-01-01T14:16:55.406Z"
   },
   {
    "duration": 6,
    "start_time": "2025-01-01T14:16:55.498Z"
   },
   {
    "duration": 17,
    "start_time": "2025-01-01T14:16:55.505Z"
   },
   {
    "duration": 93,
    "start_time": "2025-01-01T14:16:55.524Z"
   },
   {
    "duration": 16,
    "start_time": "2025-01-01T14:16:55.619Z"
   },
   {
    "duration": 14,
    "start_time": "2025-01-01T14:16:55.637Z"
   },
   {
    "duration": 11,
    "start_time": "2025-01-01T14:16:55.653Z"
   },
   {
    "duration": 42,
    "start_time": "2025-01-01T14:16:55.666Z"
   },
   {
    "duration": 10,
    "start_time": "2025-01-01T14:16:55.710Z"
   },
   {
    "duration": 28,
    "start_time": "2025-01-01T14:16:55.721Z"
   },
   {
    "duration": 3,
    "start_time": "2025-01-01T14:16:55.751Z"
   },
   {
    "duration": 34,
    "start_time": "2025-01-01T14:16:55.755Z"
   },
   {
    "duration": 78,
    "start_time": "2025-01-01T14:16:55.791Z"
   },
   {
    "duration": 3,
    "start_time": "2025-01-01T14:16:55.871Z"
   },
   {
    "duration": 29,
    "start_time": "2025-01-01T14:16:55.875Z"
   },
   {
    "duration": 35,
    "start_time": "2025-01-01T14:16:55.905Z"
   },
   {
    "duration": 27,
    "start_time": "2025-01-01T14:16:55.941Z"
   },
   {
    "duration": 6,
    "start_time": "2025-01-01T14:16:55.969Z"
   },
   {
    "duration": 1595,
    "start_time": "2025-01-01T14:16:55.977Z"
   },
   {
    "duration": 4,
    "start_time": "2025-01-01T14:16:57.574Z"
   },
   {
    "duration": 725,
    "start_time": "2025-01-01T14:16:57.579Z"
   },
   {
    "duration": 926,
    "start_time": "2025-01-01T14:16:58.306Z"
   },
   {
    "duration": 133,
    "start_time": "2025-01-01T14:16:59.233Z"
   },
   {
    "duration": 0,
    "start_time": "2025-01-01T14:16:59.367Z"
   },
   {
    "duration": 0,
    "start_time": "2025-01-01T14:16:59.368Z"
   },
   {
    "duration": 0,
    "start_time": "2025-01-01T14:16:59.370Z"
   },
   {
    "duration": 0,
    "start_time": "2025-01-01T14:16:59.371Z"
   },
   {
    "duration": 0,
    "start_time": "2025-01-01T14:16:59.373Z"
   },
   {
    "duration": 0,
    "start_time": "2025-01-01T14:16:59.374Z"
   },
   {
    "duration": 0,
    "start_time": "2025-01-01T14:16:59.375Z"
   },
   {
    "duration": 0,
    "start_time": "2025-01-01T14:16:59.376Z"
   },
   {
    "duration": 0,
    "start_time": "2025-01-01T14:16:59.377Z"
   },
   {
    "duration": 0,
    "start_time": "2025-01-01T14:16:59.378Z"
   },
   {
    "duration": 0,
    "start_time": "2025-01-01T14:16:59.380Z"
   },
   {
    "duration": 0,
    "start_time": "2025-01-01T14:16:59.380Z"
   },
   {
    "duration": 0,
    "start_time": "2025-01-01T14:16:59.382Z"
   },
   {
    "duration": 5,
    "start_time": "2025-01-01T14:17:48.667Z"
   },
   {
    "duration": 2402,
    "start_time": "2025-01-01T14:17:56.739Z"
   },
   {
    "duration": 1515,
    "start_time": "2025-01-01T14:17:59.144Z"
   },
   {
    "duration": 233,
    "start_time": "2025-01-01T14:18:00.661Z"
   },
   {
    "duration": 61,
    "start_time": "2025-01-01T14:18:00.896Z"
   },
   {
    "duration": 135,
    "start_time": "2025-01-01T14:18:00.959Z"
   },
   {
    "duration": 37,
    "start_time": "2025-01-01T14:18:01.095Z"
   },
   {
    "duration": 26,
    "start_time": "2025-01-01T14:18:01.134Z"
   },
   {
    "duration": 7,
    "start_time": "2025-01-01T14:18:01.161Z"
   },
   {
    "duration": 82,
    "start_time": "2025-01-01T14:18:01.170Z"
   },
   {
    "duration": 3,
    "start_time": "2025-01-01T14:18:01.255Z"
   },
   {
    "duration": 13,
    "start_time": "2025-01-01T14:18:01.260Z"
   },
   {
    "duration": 5,
    "start_time": "2025-01-01T14:18:01.275Z"
   },
   {
    "duration": 4,
    "start_time": "2025-01-01T14:18:01.282Z"
   },
   {
    "duration": 48,
    "start_time": "2025-01-01T14:18:01.288Z"
   },
   {
    "duration": 23,
    "start_time": "2025-01-01T14:18:01.338Z"
   },
   {
    "duration": 9,
    "start_time": "2025-01-01T14:18:01.362Z"
   },
   {
    "duration": 35,
    "start_time": "2025-01-01T14:18:01.373Z"
   },
   {
    "duration": 14,
    "start_time": "2025-01-01T14:18:01.410Z"
   },
   {
    "duration": 133,
    "start_time": "2025-01-01T14:18:01.425Z"
   },
   {
    "duration": 5,
    "start_time": "2025-01-01T14:18:01.560Z"
   },
   {
    "duration": 146,
    "start_time": "2025-01-01T14:18:01.566Z"
   },
   {
    "duration": 7,
    "start_time": "2025-01-01T14:18:01.713Z"
   },
   {
    "duration": 20,
    "start_time": "2025-01-01T14:18:01.730Z"
   },
   {
    "duration": 193,
    "start_time": "2025-01-01T14:18:01.751Z"
   },
   {
    "duration": 5,
    "start_time": "2025-01-01T14:18:01.945Z"
   },
   {
    "duration": 34,
    "start_time": "2025-01-01T14:18:01.951Z"
   },
   {
    "duration": 41,
    "start_time": "2025-01-01T14:18:01.987Z"
   },
   {
    "duration": 33,
    "start_time": "2025-01-01T14:18:02.032Z"
   },
   {
    "duration": 19,
    "start_time": "2025-01-01T14:18:02.067Z"
   },
   {
    "duration": 11,
    "start_time": "2025-01-01T14:18:02.088Z"
   },
   {
    "duration": 340,
    "start_time": "2025-01-01T14:18:02.100Z"
   },
   {
    "duration": 391,
    "start_time": "2025-01-01T14:18:02.441Z"
   },
   {
    "duration": 5,
    "start_time": "2025-01-01T14:18:02.834Z"
   },
   {
    "duration": 15,
    "start_time": "2025-01-01T14:18:02.841Z"
   },
   {
    "duration": 308,
    "start_time": "2025-01-01T14:18:02.857Z"
   },
   {
    "duration": 298,
    "start_time": "2025-01-01T14:18:03.166Z"
   },
   {
    "duration": 4,
    "start_time": "2025-01-01T14:18:03.465Z"
   },
   {
    "duration": 63,
    "start_time": "2025-01-01T14:18:03.470Z"
   },
   {
    "duration": 20,
    "start_time": "2025-01-01T14:18:03.535Z"
   },
   {
    "duration": 188,
    "start_time": "2025-01-01T14:18:03.556Z"
   },
   {
    "duration": 4,
    "start_time": "2025-01-01T14:18:03.746Z"
   },
   {
    "duration": 18,
    "start_time": "2025-01-01T14:18:03.751Z"
   },
   {
    "duration": 142,
    "start_time": "2025-01-01T14:18:03.771Z"
   },
   {
    "duration": 18,
    "start_time": "2025-01-01T14:18:03.914Z"
   },
   {
    "duration": 8,
    "start_time": "2025-01-01T14:18:03.933Z"
   },
   {
    "duration": 101,
    "start_time": "2025-01-01T14:18:03.943Z"
   },
   {
    "duration": 6,
    "start_time": "2025-01-01T14:18:04.045Z"
   },
   {
    "duration": 7,
    "start_time": "2025-01-01T14:18:04.052Z"
   },
   {
    "duration": 9,
    "start_time": "2025-01-01T14:18:04.060Z"
   },
   {
    "duration": 17,
    "start_time": "2025-01-01T14:18:04.071Z"
   },
   {
    "duration": 5,
    "start_time": "2025-01-01T14:18:04.090Z"
   },
   {
    "duration": 56,
    "start_time": "2025-01-01T14:18:04.097Z"
   },
   {
    "duration": 8,
    "start_time": "2025-01-01T14:18:04.155Z"
   },
   {
    "duration": 181,
    "start_time": "2025-01-01T14:18:04.164Z"
   },
   {
    "duration": 101,
    "start_time": "2025-01-01T14:18:04.347Z"
   },
   {
    "duration": 22,
    "start_time": "2025-01-01T14:18:04.450Z"
   },
   {
    "duration": 21,
    "start_time": "2025-01-01T14:18:04.474Z"
   },
   {
    "duration": 35,
    "start_time": "2025-01-01T14:18:04.497Z"
   },
   {
    "duration": 21,
    "start_time": "2025-01-01T14:18:04.533Z"
   },
   {
    "duration": 26,
    "start_time": "2025-01-01T14:18:04.556Z"
   },
   {
    "duration": 1581,
    "start_time": "2025-01-01T14:18:04.584Z"
   },
   {
    "duration": 3,
    "start_time": "2025-01-01T14:18:06.167Z"
   },
   {
    "duration": 834,
    "start_time": "2025-01-01T14:18:06.172Z"
   },
   {
    "duration": 905,
    "start_time": "2025-01-01T14:18:07.008Z"
   },
   {
    "duration": 4,
    "start_time": "2025-01-01T14:18:07.915Z"
   },
   {
    "duration": 42,
    "start_time": "2025-01-01T14:18:07.930Z"
   },
   {
    "duration": 18,
    "start_time": "2025-01-01T14:18:07.973Z"
   },
   {
    "duration": 14,
    "start_time": "2025-01-01T14:18:07.992Z"
   },
   {
    "duration": 17,
    "start_time": "2025-01-01T14:18:08.008Z"
   },
   {
    "duration": 121,
    "start_time": "2025-01-01T14:18:08.027Z"
   },
   {
    "duration": 554702,
    "start_time": "2025-01-01T14:18:08.150Z"
   },
   {
    "duration": 4,
    "start_time": "2025-01-01T14:27:22.853Z"
   },
   {
    "duration": 14,
    "start_time": "2025-01-01T14:27:22.858Z"
   },
   {
    "duration": 7,
    "start_time": "2025-01-01T14:27:22.874Z"
   },
   {
    "duration": 17,
    "start_time": "2025-01-01T14:27:22.883Z"
   },
   {
    "duration": 7,
    "start_time": "2025-01-01T14:27:22.901Z"
   },
   {
    "duration": 5,
    "start_time": "2025-01-01T14:27:22.909Z"
   },
   {
    "duration": 154,
    "start_time": "2025-01-01T14:27:22.916Z"
   },
   {
    "duration": 78,
    "start_time": "2025-01-01T14:29:27.192Z"
   },
   {
    "duration": 118,
    "start_time": "2025-01-01T14:29:32.216Z"
   },
   {
    "duration": 3,
    "start_time": "2025-01-01T14:32:22.250Z"
   },
   {
    "duration": 4,
    "start_time": "2025-01-01T14:32:22.834Z"
   },
   {
    "duration": 10,
    "start_time": "2025-01-01T14:32:23.695Z"
   },
   {
    "duration": 3,
    "start_time": "2025-01-01T14:32:58.688Z"
   },
   {
    "duration": 3,
    "start_time": "2025-01-01T14:32:59.231Z"
   },
   {
    "duration": 300020,
    "start_time": "2025-01-01T14:32:59.727Z"
   },
   {
    "duration": 10,
    "start_time": "2025-01-01T14:37:59.749Z"
   },
   {
    "duration": 0,
    "start_time": "2025-01-01T14:37:59.760Z"
   },
   {
    "duration": 1,
    "start_time": "2025-01-01T14:37:59.761Z"
   },
   {
    "duration": 5,
    "start_time": "2025-01-01T14:38:22.821Z"
   },
   {
    "duration": 208,
    "start_time": "2025-01-01T14:38:23.810Z"
   },
   {
    "duration": 4,
    "start_time": "2025-01-01T14:39:40.273Z"
   },
   {
    "duration": 198,
    "start_time": "2025-01-01T14:39:41.267Z"
   },
   {
    "duration": 4,
    "start_time": "2025-01-01T14:44:04.827Z"
   },
   {
    "duration": 12,
    "start_time": "2025-01-01T14:51:06.146Z"
   },
   {
    "duration": 6,
    "start_time": "2025-01-01T14:51:22.462Z"
   },
   {
    "duration": 1556460,
    "start_time": "2025-01-01T14:51:27.399Z"
   },
   {
    "duration": 0,
    "start_time": "2025-01-01T15:17:23.861Z"
   },
   {
    "duration": 0,
    "start_time": "2025-01-01T15:17:23.862Z"
   },
   {
    "duration": 0,
    "start_time": "2025-01-01T15:17:23.863Z"
   },
   {
    "duration": 0,
    "start_time": "2025-01-01T15:17:23.864Z"
   },
   {
    "duration": 4,
    "start_time": "2025-01-01T15:17:32.360Z"
   },
   {
    "duration": 2486498,
    "start_time": "2025-01-01T15:17:36.070Z"
   },
   {
    "duration": 0,
    "start_time": "2025-01-01T15:59:02.570Z"
   },
   {
    "duration": 0,
    "start_time": "2025-01-01T15:59:02.572Z"
   },
   {
    "duration": 0,
    "start_time": "2025-01-01T15:59:02.573Z"
   },
   {
    "duration": 136524,
    "start_time": "2025-01-01T15:59:11.142Z"
   },
   {
    "duration": 4,
    "start_time": "2025-01-01T16:01:27.668Z"
   },
   {
    "duration": 56,
    "start_time": "2025-01-01T16:01:27.673Z"
   },
   {
    "duration": 4,
    "start_time": "2025-01-01T16:02:48.591Z"
   },
   {
    "duration": 7,
    "start_time": "2025-01-01T16:02:48.847Z"
   },
   {
    "duration": 14,
    "start_time": "2025-01-01T16:02:50.044Z"
   },
   {
    "duration": 6,
    "start_time": "2025-01-01T16:04:11.165Z"
   },
   {
    "duration": 120930,
    "start_time": "2025-01-01T16:04:17.857Z"
   },
   {
    "duration": 3,
    "start_time": "2025-01-01T16:06:18.789Z"
   },
   {
    "duration": 147,
    "start_time": "2025-01-01T16:06:18.794Z"
   },
   {
    "duration": 13,
    "start_time": "2025-01-01T16:06:18.943Z"
   },
   {
    "duration": 14,
    "start_time": "2025-01-01T16:06:18.958Z"
   },
   {
    "duration": 7,
    "start_time": "2025-01-01T16:06:18.974Z"
   },
   {
    "duration": 10,
    "start_time": "2025-01-01T16:06:18.982Z"
   },
   {
    "duration": 2080137,
    "start_time": "2025-01-01T16:06:18.994Z"
   },
   {
    "duration": 5,
    "start_time": "2025-01-01T16:40:59.132Z"
   },
   {
    "duration": 215,
    "start_time": "2025-01-01T16:40:59.139Z"
   },
   {
    "duration": 5,
    "start_time": "2025-01-01T16:40:59.355Z"
   },
   {
    "duration": 337,
    "start_time": "2025-01-01T16:40:59.362Z"
   },
   {
    "duration": 0,
    "start_time": "2025-01-01T16:40:59.701Z"
   },
   {
    "duration": 4,
    "start_time": "2025-01-01T16:42:03.251Z"
   },
   {
    "duration": 30,
    "start_time": "2025-01-01T16:42:17.868Z"
   },
   {
    "duration": 10,
    "start_time": "2025-01-01T16:43:35.824Z"
   },
   {
    "duration": 20,
    "start_time": "2025-01-01T16:43:56.931Z"
   },
   {
    "duration": 4,
    "start_time": "2025-01-01T16:44:20.195Z"
   },
   {
    "duration": 209,
    "start_time": "2025-01-01T16:44:20.768Z"
   },
   {
    "duration": 216,
    "start_time": "2025-01-01T16:44:33.885Z"
   },
   {
    "duration": 14,
    "start_time": "2025-01-01T16:44:57.156Z"
   },
   {
    "duration": 3,
    "start_time": "2025-01-01T16:45:41.821Z"
   },
   {
    "duration": 14,
    "start_time": "2025-01-01T16:46:21.004Z"
   },
   {
    "duration": 218,
    "start_time": "2025-01-01T16:46:50.780Z"
   },
   {
    "duration": 3,
    "start_time": "2025-01-01T16:50:18.893Z"
   },
   {
    "duration": 5,
    "start_time": "2025-01-01T16:50:33.441Z"
   },
   {
    "duration": 218,
    "start_time": "2025-01-01T16:50:37.207Z"
   },
   {
    "duration": 4,
    "start_time": "2025-01-01T16:51:53.456Z"
   },
   {
    "duration": 213,
    "start_time": "2025-01-01T16:51:55.608Z"
   },
   {
    "duration": 5,
    "start_time": "2025-01-01T16:52:58.024Z"
   },
   {
    "duration": 3,
    "start_time": "2025-01-01T16:53:09.812Z"
   },
   {
    "duration": 5153,
    "start_time": "2025-01-01T16:53:11.107Z"
   },
   {
    "duration": 4,
    "start_time": "2025-01-01T16:53:29.736Z"
   },
   {
    "duration": 241,
    "start_time": "2025-01-01T16:53:31.766Z"
   },
   {
    "duration": 4,
    "start_time": "2025-01-01T16:54:48.773Z"
   },
   {
    "duration": 15,
    "start_time": "2025-01-01T16:55:27.889Z"
   },
   {
    "duration": 22,
    "start_time": "2025-01-01T16:56:33.776Z"
   },
   {
    "duration": 16,
    "start_time": "2025-01-01T16:56:39.134Z"
   },
   {
    "duration": 9,
    "start_time": "2025-01-01T16:57:27.804Z"
   },
   {
    "duration": 144,
    "start_time": "2025-01-01T16:58:11.114Z"
   }
  ],
  "celltoolbar": "Необработанный формат ячейки",
  "kernelspec": {
   "display_name": "Python 3 (ipykernel)",
   "language": "python",
   "name": "python3"
  },
  "language_info": {
   "codemirror_mode": {
    "name": "ipython",
    "version": 3
   },
   "file_extension": ".py",
   "mimetype": "text/x-python",
   "name": "python",
   "nbconvert_exporter": "python",
   "pygments_lexer": "ipython3",
   "version": "3.9.5"
  },
  "toc": {
   "base_numbering": 1,
   "nav_menu": {
    "height": "296.992px",
    "width": "213.164px"
   },
   "number_sections": true,
   "sideBar": true,
   "skip_h1_title": true,
   "title_cell": "Table of Contents",
   "title_sidebar": "Contents",
   "toc_cell": false,
   "toc_position": {},
   "toc_section_display": true,
   "toc_window_display": true
  }
 },
 "nbformat": 4,
 "nbformat_minor": 5
}
