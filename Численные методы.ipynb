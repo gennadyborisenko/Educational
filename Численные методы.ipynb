{
 "cells": [
  {
   "cell_type": "markdown",
   "metadata": {},
   "source": [
    "# Определение стоимости автомобилей"
   ]
  },
  {
   "cell_type": "markdown",
   "metadata": {},
   "source": [
    "Сервис по продаже автомобилей с пробегом «Не бит, не крашен» разрабатывает приложение для привлечения новых клиентов. В нём можно быстро узнать рыночную стоимость своего автомобиля. В вашем распоряжении исторические данные: технические характеристики, комплектации и цены автомобилей. Вам нужно построить модель для определения стоимости. \n",
    "\n",
    "Заказчику важны:\n",
    "\n",
    "- качество предсказания;\n",
    "- скорость предсказания;\n",
    "- время обучения."
   ]
  },
  {
   "cell_type": "markdown",
   "metadata": {},
   "source": [
    "Датасет содержит следующие колонки: \n",
    "    \n",
    "* DateCrawled — дата скачивания анкеты из базы\n",
    "* VehicleType — тип автомобильного кузова\n",
    "* RegistrationYear — год регистрации автомобиля\n",
    "* Gearbox — тип коробки передач\n",
    "* Power — мощность (л. с.)\n",
    "* Model — модель автомобиля\n",
    "* Kilometer — пробег (км)\n",
    "* RegistrationMonth — месяц регистрации автомобиля\n",
    "* FuelType — тип топлива\n",
    "* Brand — марка автомобиля\n",
    "* Repaired — была машина в ремонте или нет\n",
    "* DateCreated — дата создания анкеты\n",
    "* NumberOfPictures — количество фотографий автомобиля\n",
    "* PostalCode — почтовый индекс владельца анкеты (пользователя)\n",
    "* LastSeen — дата последней активности пользователя\n",
    "\n",
    "**Целевой признак:**\n",
    "Price — цена (евро)"
   ]
  },
  {
   "cell_type": "markdown",
   "metadata": {},
   "source": [
    "Импортируем необходимые библиотеки"
   ]
  },
  {
   "cell_type": "code",
   "execution_count": 1,
   "metadata": {},
   "outputs": [],
   "source": [
    "import re\n",
    "\n",
    "import time\n",
    "\n",
    "import numpy as np\n",
    "import pandas as pd\n",
    "import matplotlib.pyplot as plt\n",
    "\n",
    "from sklearn.compose import ColumnTransformer\n",
    "from sklearn.impute import SimpleImputer\n",
    "from sklearn.linear_model import LinearRegression, Ridge, Lasso\n",
    "from sklearn.model_selection import (RandomizedSearchCV,\n",
    "                                     train_test_split)\n",
    "from sklearn.metrics import make_scorer, mean_squared_error\n",
    "from sklearn.neighbors import KNeighborsClassifier\n",
    "from sklearn.pipeline import Pipeline\n",
    "from sklearn.preprocessing import (OneHotEncoder, \n",
    "                                    StandardScaler, MinMaxScaler)\n",
    "\n",
    "\n",
    "import warnings\n",
    "warnings.filterwarnings(\"ignore\")\n",
    "\n",
    "RANDOM_STATE = 42\n",
    "TEST_SIZE = 0.25"
   ]
  },
  {
   "cell_type": "code",
   "execution_count": 2,
   "metadata": {
    "scrolled": true
   },
   "outputs": [
    {
     "name": "stdout",
     "output_type": "stream",
     "text": [
      "Requirement already satisfied: scikit-learn in /opt/conda/lib/python3.9/site-packages (1.5.2)\n",
      "Requirement already satisfied: threadpoolctl>=3.1.0 in /opt/conda/lib/python3.9/site-packages (from scikit-learn) (3.1.0)\n",
      "Requirement already satisfied: joblib>=1.2.0 in /opt/conda/lib/python3.9/site-packages (from scikit-learn) (1.4.2)\n",
      "Requirement already satisfied: numpy>=1.19.5 in /opt/conda/lib/python3.9/site-packages (from scikit-learn) (1.21.1)\n",
      "Requirement already satisfied: scipy>=1.6.0 in /opt/conda/lib/python3.9/site-packages (from scikit-learn) (1.9.1)\n"
     ]
    }
   ],
   "source": [
    "!pip install --upgrade scikit-learn"
   ]
  },
  {
   "cell_type": "markdown",
   "metadata": {},
   "source": [
    "## Подготовка данных"
   ]
  },
  {
   "cell_type": "code",
   "execution_count": 3,
   "metadata": {},
   "outputs": [
    {
     "data": {
      "text/html": [
       "<div>\n",
       "<style scoped>\n",
       "    .dataframe tbody tr th:only-of-type {\n",
       "        vertical-align: middle;\n",
       "    }\n",
       "\n",
       "    .dataframe tbody tr th {\n",
       "        vertical-align: top;\n",
       "    }\n",
       "\n",
       "    .dataframe thead th {\n",
       "        text-align: right;\n",
       "    }\n",
       "</style>\n",
       "<table border=\"1\" class=\"dataframe\">\n",
       "  <thead>\n",
       "    <tr style=\"text-align: right;\">\n",
       "      <th></th>\n",
       "      <th>DateCrawled</th>\n",
       "      <th>Price</th>\n",
       "      <th>VehicleType</th>\n",
       "      <th>RegistrationYear</th>\n",
       "      <th>Gearbox</th>\n",
       "      <th>Power</th>\n",
       "      <th>Model</th>\n",
       "      <th>Kilometer</th>\n",
       "      <th>RegistrationMonth</th>\n",
       "      <th>FuelType</th>\n",
       "      <th>Brand</th>\n",
       "      <th>Repaired</th>\n",
       "      <th>DateCreated</th>\n",
       "      <th>NumberOfPictures</th>\n",
       "      <th>PostalCode</th>\n",
       "      <th>LastSeen</th>\n",
       "    </tr>\n",
       "  </thead>\n",
       "  <tbody>\n",
       "    <tr>\n",
       "      <th>0</th>\n",
       "      <td>2016-03-24 11:52:17</td>\n",
       "      <td>480</td>\n",
       "      <td>NaN</td>\n",
       "      <td>1993</td>\n",
       "      <td>manual</td>\n",
       "      <td>0</td>\n",
       "      <td>golf</td>\n",
       "      <td>150000</td>\n",
       "      <td>0</td>\n",
       "      <td>petrol</td>\n",
       "      <td>volkswagen</td>\n",
       "      <td>NaN</td>\n",
       "      <td>2016-03-24 00:00:00</td>\n",
       "      <td>0</td>\n",
       "      <td>70435</td>\n",
       "      <td>2016-04-07 03:16:57</td>\n",
       "    </tr>\n",
       "    <tr>\n",
       "      <th>1</th>\n",
       "      <td>2016-03-24 10:58:45</td>\n",
       "      <td>18300</td>\n",
       "      <td>coupe</td>\n",
       "      <td>2011</td>\n",
       "      <td>manual</td>\n",
       "      <td>190</td>\n",
       "      <td>NaN</td>\n",
       "      <td>125000</td>\n",
       "      <td>5</td>\n",
       "      <td>gasoline</td>\n",
       "      <td>audi</td>\n",
       "      <td>yes</td>\n",
       "      <td>2016-03-24 00:00:00</td>\n",
       "      <td>0</td>\n",
       "      <td>66954</td>\n",
       "      <td>2016-04-07 01:46:50</td>\n",
       "    </tr>\n",
       "    <tr>\n",
       "      <th>2</th>\n",
       "      <td>2016-03-14 12:52:21</td>\n",
       "      <td>9800</td>\n",
       "      <td>suv</td>\n",
       "      <td>2004</td>\n",
       "      <td>auto</td>\n",
       "      <td>163</td>\n",
       "      <td>grand</td>\n",
       "      <td>125000</td>\n",
       "      <td>8</td>\n",
       "      <td>gasoline</td>\n",
       "      <td>jeep</td>\n",
       "      <td>NaN</td>\n",
       "      <td>2016-03-14 00:00:00</td>\n",
       "      <td>0</td>\n",
       "      <td>90480</td>\n",
       "      <td>2016-04-05 12:47:46</td>\n",
       "    </tr>\n",
       "    <tr>\n",
       "      <th>3</th>\n",
       "      <td>2016-03-17 16:54:04</td>\n",
       "      <td>1500</td>\n",
       "      <td>small</td>\n",
       "      <td>2001</td>\n",
       "      <td>manual</td>\n",
       "      <td>75</td>\n",
       "      <td>golf</td>\n",
       "      <td>150000</td>\n",
       "      <td>6</td>\n",
       "      <td>petrol</td>\n",
       "      <td>volkswagen</td>\n",
       "      <td>no</td>\n",
       "      <td>2016-03-17 00:00:00</td>\n",
       "      <td>0</td>\n",
       "      <td>91074</td>\n",
       "      <td>2016-03-17 17:40:17</td>\n",
       "    </tr>\n",
       "    <tr>\n",
       "      <th>4</th>\n",
       "      <td>2016-03-31 17:25:20</td>\n",
       "      <td>3600</td>\n",
       "      <td>small</td>\n",
       "      <td>2008</td>\n",
       "      <td>manual</td>\n",
       "      <td>69</td>\n",
       "      <td>fabia</td>\n",
       "      <td>90000</td>\n",
       "      <td>7</td>\n",
       "      <td>gasoline</td>\n",
       "      <td>skoda</td>\n",
       "      <td>no</td>\n",
       "      <td>2016-03-31 00:00:00</td>\n",
       "      <td>0</td>\n",
       "      <td>60437</td>\n",
       "      <td>2016-04-06 10:17:21</td>\n",
       "    </tr>\n",
       "  </tbody>\n",
       "</table>\n",
       "</div>"
      ],
      "text/plain": [
       "           DateCrawled  Price VehicleType  RegistrationYear Gearbox  Power  \\\n",
       "0  2016-03-24 11:52:17    480         NaN              1993  manual      0   \n",
       "1  2016-03-24 10:58:45  18300       coupe              2011  manual    190   \n",
       "2  2016-03-14 12:52:21   9800         suv              2004    auto    163   \n",
       "3  2016-03-17 16:54:04   1500       small              2001  manual     75   \n",
       "4  2016-03-31 17:25:20   3600       small              2008  manual     69   \n",
       "\n",
       "   Model  Kilometer  RegistrationMonth  FuelType       Brand Repaired  \\\n",
       "0   golf     150000                  0    petrol  volkswagen      NaN   \n",
       "1    NaN     125000                  5  gasoline        audi      yes   \n",
       "2  grand     125000                  8  gasoline        jeep      NaN   \n",
       "3   golf     150000                  6    petrol  volkswagen       no   \n",
       "4  fabia      90000                  7  gasoline       skoda       no   \n",
       "\n",
       "           DateCreated  NumberOfPictures  PostalCode             LastSeen  \n",
       "0  2016-03-24 00:00:00                 0       70435  2016-04-07 03:16:57  \n",
       "1  2016-03-24 00:00:00                 0       66954  2016-04-07 01:46:50  \n",
       "2  2016-03-14 00:00:00                 0       90480  2016-04-05 12:47:46  \n",
       "3  2016-03-17 00:00:00                 0       91074  2016-03-17 17:40:17  \n",
       "4  2016-03-31 00:00:00                 0       60437  2016-04-06 10:17:21  "
      ]
     },
     "execution_count": 3,
     "metadata": {},
     "output_type": "execute_result"
    }
   ],
   "source": [
    "data = pd.read_csv('/datasets/autos.csv')\n",
    "data.head()"
   ]
  },
  {
   "cell_type": "code",
   "execution_count": 4,
   "metadata": {},
   "outputs": [
    {
     "name": "stdout",
     "output_type": "stream",
     "text": [
      "<class 'pandas.core.frame.DataFrame'>\n",
      "RangeIndex: 354369 entries, 0 to 354368\n",
      "Data columns (total 16 columns):\n",
      " #   Column             Non-Null Count   Dtype \n",
      "---  ------             --------------   ----- \n",
      " 0   DateCrawled        354369 non-null  object\n",
      " 1   Price              354369 non-null  int64 \n",
      " 2   VehicleType        316879 non-null  object\n",
      " 3   RegistrationYear   354369 non-null  int64 \n",
      " 4   Gearbox            334536 non-null  object\n",
      " 5   Power              354369 non-null  int64 \n",
      " 6   Model              334664 non-null  object\n",
      " 7   Kilometer          354369 non-null  int64 \n",
      " 8   RegistrationMonth  354369 non-null  int64 \n",
      " 9   FuelType           321474 non-null  object\n",
      " 10  Brand              354369 non-null  object\n",
      " 11  Repaired           283215 non-null  object\n",
      " 12  DateCreated        354369 non-null  object\n",
      " 13  NumberOfPictures   354369 non-null  int64 \n",
      " 14  PostalCode         354369 non-null  int64 \n",
      " 15  LastSeen           354369 non-null  object\n",
      "dtypes: int64(7), object(9)\n",
      "memory usage: 43.3+ MB\n"
     ]
    }
   ],
   "source": [
    "data.info()"
   ]
  },
  {
   "cell_type": "markdown",
   "metadata": {},
   "source": [
    "Изменим наименования столбцов на более \"Питоновские\""
   ]
  },
  {
   "cell_type": "code",
   "execution_count": 5,
   "metadata": {},
   "outputs": [],
   "source": [
    "data.columns = data.columns.str.replace('([A-Z])', r'_\\1', regex=True).str.lower()\n",
    "data.columns = data.columns.str.lstrip('_')"
   ]
  },
  {
   "cell_type": "markdown",
   "metadata": {},
   "source": [
    "Рассчитаем количество пропусков"
   ]
  },
  {
   "cell_type": "code",
   "execution_count": 6,
   "metadata": {},
   "outputs": [
    {
     "data": {
      "text/plain": [
       "date_crawled              0\n",
       "price                     0\n",
       "vehicle_type          37490\n",
       "registration_year         0\n",
       "gearbox               19833\n",
       "power                     0\n",
       "model                 19705\n",
       "kilometer                 0\n",
       "registration_month        0\n",
       "fuel_type             32895\n",
       "brand                     0\n",
       "repaired              71154\n",
       "date_created              0\n",
       "number_of_pictures        0\n",
       "postal_code               0\n",
       "last_seen                 0\n",
       "dtype: int64"
      ]
     },
     "execution_count": 6,
     "metadata": {},
     "output_type": "execute_result"
    }
   ],
   "source": [
    "data.isna().sum()"
   ]
  },
  {
   "cell_type": "markdown",
   "metadata": {},
   "source": [
    "На цену автомобиля **не влияют** следующие признаки: \n",
    "\n",
    "1. DateCrawled — дата скачивания анкеты из базы\n",
    "2. DateCreated — дата создания анкеты\n",
    "3. PostalCode — почтовый индекс владельца анкеты (пользователя)\n",
    "4. LastSeen — дата последней активности пользователя\n",
    "3. NumberOfPictures — количество фотографий автомобиля\n",
    "6. В ходе рассмотрения данных было обнаружено, что не нужно брать месяц регистрации, т.к. месяцы распределены равномерно."
   ]
  },
  {
   "cell_type": "markdown",
   "metadata": {},
   "source": [
    "Для дальнейшей работы определим максимальную дату выгрузки данных, остальные автомобили, далее этой даты \"ИЗ БУДУЩЕГО\""
   ]
  },
  {
   "cell_type": "code",
   "execution_count": 7,
   "metadata": {},
   "outputs": [
    {
     "data": {
      "text/plain": [
       "'2016-04-07 14:36:58'"
      ]
     },
     "execution_count": 7,
     "metadata": {},
     "output_type": "execute_result"
    }
   ],
   "source": [
    "data['date_crawled'].max()"
   ]
  },
  {
   "cell_type": "code",
   "execution_count": 8,
   "metadata": {},
   "outputs": [],
   "source": [
    "data = data.drop(columns=['date_created', \\\n",
    "                          'date_crawled', 'postal_code','last_seen','number_of_pictures','registration_month'], axis=1)"
   ]
  },
  {
   "cell_type": "code",
   "execution_count": 9,
   "metadata": {},
   "outputs": [
    {
     "data": {
      "text/plain": [
       "Index(['price', 'vehicle_type', 'registration_year', 'gearbox', 'power',\n",
       "       'model', 'kilometer', 'fuel_type', 'brand', 'repaired'],\n",
       "      dtype='object')"
      ]
     },
     "execution_count": 9,
     "metadata": {},
     "output_type": "execute_result"
    }
   ],
   "source": [
    "data.columns"
   ]
  },
  {
   "cell_type": "markdown",
   "metadata": {},
   "source": [
    "Посмотрим на категориальные переменные для установления наличия неявных дубликатов"
   ]
  },
  {
   "cell_type": "code",
   "execution_count": 10,
   "metadata": {},
   "outputs": [
    {
     "name": "stdout",
     "output_type": "stream",
     "text": [
      "vehicle_type\n",
      "[nan 'coupe' 'suv' 'small' 'sedan' 'convertible' 'bus' 'wagon' 'other']\n",
      "gearbox\n",
      "['manual' 'auto' nan]\n",
      "model\n",
      "['golf' nan 'grand' 'fabia' '3er' '2_reihe' 'other' 'c_max' '3_reihe'\n",
      " 'passat' 'navara' 'ka' 'polo' 'twingo' 'a_klasse' 'scirocco' '5er'\n",
      " 'meriva' 'arosa' 'c4' 'civic' 'transporter' 'punto' 'e_klasse' 'clio'\n",
      " 'kadett' 'kangoo' 'corsa' 'one' 'fortwo' '1er' 'b_klasse' 'signum'\n",
      " 'astra' 'a8' 'jetta' 'fiesta' 'c_klasse' 'micra' 'vito' 'sprinter' '156'\n",
      " 'escort' 'forester' 'xc_reihe' 'scenic' 'a4' 'a1' 'insignia' 'combo'\n",
      " 'focus' 'tt' 'a6' 'jazz' 'omega' 'slk' '7er' '80' '147' '100' 'z_reihe'\n",
      " 'sportage' 'sorento' 'v40' 'ibiza' 'mustang' 'eos' 'touran' 'getz' 'a3'\n",
      " 'almera' 'megane' 'lupo' 'r19' 'zafira' 'caddy' 'mondeo' 'cordoba' 'colt'\n",
      " 'impreza' 'vectra' 'berlingo' 'tiguan' 'i_reihe' 'espace' 'sharan'\n",
      " '6_reihe' 'panda' 'up' 'seicento' 'ceed' '5_reihe' 'yeti' 'octavia' 'mii'\n",
      " 'rx_reihe' '6er' 'modus' 'fox' 'matiz' 'beetle' 'c1' 'rio' 'touareg'\n",
      " 'logan' 'spider' 'cuore' 's_max' 'a2' 'galaxy' 'c3' 'viano' 's_klasse'\n",
      " '1_reihe' 'avensis' 'roomster' 'sl' 'kaefer' 'santa' 'cooper' 'leon'\n",
      " '4_reihe' 'a5' '500' 'laguna' 'ptcruiser' 'clk' 'primera' 'x_reihe'\n",
      " 'exeo' '159' 'transit' 'juke' 'qashqai' 'carisma' 'accord' 'corolla'\n",
      " 'lanos' 'phaeton' 'verso' 'swift' 'rav' 'picanto' 'boxster' 'kalos'\n",
      " 'superb' 'stilo' 'alhambra' 'mx_reihe' 'roadster' 'ypsilon' 'cayenne'\n",
      " 'galant' 'justy' '90' 'sirion' 'crossfire' 'agila' 'duster' 'cr_reihe'\n",
      " 'v50' 'c_reihe' 'v_klasse' 'm_klasse' 'yaris' 'c5' 'aygo' 'cc' 'carnival'\n",
      " 'fusion' '911' 'bora' 'forfour' 'm_reihe' 'cl' 'tigra' '300c' 'spark'\n",
      " 'v70' 'kuga' 'x_type' 'ducato' 's_type' 'x_trail' 'toledo' 'altea'\n",
      " 'voyager' 'calibra' 'bravo' 'antara' 'tucson' 'citigo' 'jimny' 'wrangler'\n",
      " 'lybra' 'q7' 'lancer' 'captiva' 'c2' 'discovery' 'freelander' 'sandero'\n",
      " 'note' '900' 'cherokee' 'clubman' 'samara' 'defender' '601' 'cx_reihe'\n",
      " 'legacy' 'pajero' 'auris' 'niva' 's60' 'nubira' 'vivaro' 'g_klasse'\n",
      " 'lodgy' '850' 'range_rover' 'q3' 'serie_2' 'glk' 'charade' 'croma'\n",
      " 'outlander' 'doblo' 'musa' 'move' '9000' 'v60' '145' 'aveo' '200' 'b_max'\n",
      " 'range_rover_sport' 'terios' 'rangerover' 'q5' 'range_rover_evoque'\n",
      " 'materia' 'delta' 'gl' 'kalina' 'amarok' 'elefantino' 'i3' 'kappa'\n",
      " 'serie_3' 'serie_1']\n",
      "fuel_type\n",
      "['petrol' 'gasoline' nan 'lpg' 'other' 'hybrid' 'cng' 'electric']\n",
      "brand\n",
      "['volkswagen' 'audi' 'jeep' 'skoda' 'bmw' 'peugeot' 'ford' 'mazda'\n",
      " 'nissan' 'renault' 'mercedes_benz' 'opel' 'seat' 'citroen' 'honda' 'fiat'\n",
      " 'mini' 'smart' 'hyundai' 'sonstige_autos' 'alfa_romeo' 'subaru' 'volvo'\n",
      " 'mitsubishi' 'kia' 'suzuki' 'lancia' 'toyota' 'chevrolet' 'dacia'\n",
      " 'daihatsu' 'trabant' 'saab' 'chrysler' 'jaguar' 'daewoo' 'porsche'\n",
      " 'rover' 'land_rover' 'lada']\n",
      "repaired\n",
      "[nan 'yes' 'no']\n"
     ]
    }
   ],
   "source": [
    "for i in data.select_dtypes(include=['object', 'category']).columns:\n",
    "    print(data[i].name)\n",
    "    print(data[i].unique())"
   ]
  },
  {
   "cell_type": "markdown",
   "metadata": {},
   "source": [
    "Обнаружены неявыне дубликаты petrol и gasoline, range_rover и rangerover"
   ]
  },
  {
   "cell_type": "code",
   "execution_count": 11,
   "metadata": {},
   "outputs": [],
   "source": [
    "data['fuel_type'] = data['fuel_type'].replace('gasoline', 'petrol')\n",
    "data['model'] = data['model'].replace('range_rover', 'rangerover')"
   ]
  },
  {
   "cell_type": "markdown",
   "metadata": {},
   "source": [
    "Найдем явные дубликаты:"
   ]
  },
  {
   "cell_type": "code",
   "execution_count": 12,
   "metadata": {
    "scrolled": false
   },
   "outputs": [
    {
     "data": {
      "image/png": "[encoded data removed]",
      "text/plain": [
       "<Figure size 864x576 with 4 Axes>"
      ]
     },
     "metadata": {
      "needs_background": "light"
     },
     "output_type": "display_data"
    }
   ],
   "source": [
    "fig, axes = plt.subplots(2, 2, figsize=(12, 8))\n",
    "axes = axes.flatten()\n",
    "\n",
    "numeric_cols = data.select_dtypes(include=['number']).columns\n",
    "\n",
    "for i, numeric_col in enumerate(numeric_cols):\n",
    "    ax = axes[i]\n",
    "    data.boxplot(column=numeric_col, ax=ax, color='green')\n",
    "    \n",
    "    ax.set_xlabel('Параметр')\n",
    "    ax.set_ylabel('Значения параметра')\n",
    "    ax.set_title(f'Боксплот для параметра: \\n {numeric_col}')\n",
    "   \n",
    "plt.tight_layout()\n",
    "plt.show()"
   ]
  },
  {
   "cell_type": "markdown",
   "metadata": {},
   "source": [
    "Аномалии в данных обнаружены в: 1) Год регистрации 2) Мощность | необходимо отдельно посмотреть на эти данные. "
   ]
  },
  {
   "cell_type": "code",
   "execution_count": 13,
   "metadata": {},
   "outputs": [
    {
     "data": {
      "text/plain": [
       "count    354369.000000\n",
       "mean       2004.234448\n",
       "std          90.227958\n",
       "min        1000.000000\n",
       "25%        1999.000000\n",
       "50%        2003.000000\n",
       "75%        2008.000000\n",
       "max        9999.000000\n",
       "Name: registration_year, dtype: float64"
      ]
     },
     "execution_count": 13,
     "metadata": {},
     "output_type": "execute_result"
    }
   ],
   "source": [
    "data['registration_year'].describe()"
   ]
  },
  {
   "cell_type": "markdown",
   "metadata": {},
   "source": [
    "Удалим значения, где год < 1900 и > 2016"
   ]
  },
  {
   "cell_type": "code",
   "execution_count": 14,
   "metadata": {},
   "outputs": [
    {
     "data": {
      "text/plain": [
       "count    339773.000000\n",
       "mean       2002.482222\n",
       "std           7.091181\n",
       "min        1910.000000\n",
       "25%        1999.000000\n",
       "50%        2003.000000\n",
       "75%        2007.000000\n",
       "max        2016.000000\n",
       "Name: registration_year, dtype: float64"
      ]
     },
     "execution_count": 14,
     "metadata": {},
     "output_type": "execute_result"
    }
   ],
   "source": [
    "data = data.query('registration_year >=1900 and registration_year <= 2016')\n",
    "data['registration_year'].describe()"
   ]
  },
  {
   "cell_type": "markdown",
   "metadata": {},
   "source": [
    "Аномалии в годе регистрации удалены"
   ]
  },
  {
   "cell_type": "code",
   "execution_count": 15,
   "metadata": {},
   "outputs": [
    {
     "data": {
      "text/plain": [
       "count    339773.000000\n",
       "mean        111.002711\n",
       "std         186.879221\n",
       "min           0.000000\n",
       "25%          69.000000\n",
       "50%         105.000000\n",
       "75%         143.000000\n",
       "max       20000.000000\n",
       "Name: power, dtype: float64"
      ]
     },
     "execution_count": 15,
     "metadata": {},
     "output_type": "execute_result"
    }
   ],
   "source": [
    "data['power'].describe()"
   ]
  },
  {
   "cell_type": "code",
   "execution_count": 16,
   "metadata": {},
   "outputs": [
    {
     "data": {
      "text/html": [
       "<div>\n",
       "<style scoped>\n",
       "    .dataframe tbody tr th:only-of-type {\n",
       "        vertical-align: middle;\n",
       "    }\n",
       "\n",
       "    .dataframe tbody tr th {\n",
       "        vertical-align: top;\n",
       "    }\n",
       "\n",
       "    .dataframe thead th {\n",
       "        text-align: right;\n",
       "    }\n",
       "</style>\n",
       "<table border=\"1\" class=\"dataframe\">\n",
       "  <thead>\n",
       "    <tr style=\"text-align: right;\">\n",
       "      <th></th>\n",
       "      <th>price</th>\n",
       "      <th>vehicle_type</th>\n",
       "      <th>registration_year</th>\n",
       "      <th>gearbox</th>\n",
       "      <th>power</th>\n",
       "      <th>model</th>\n",
       "      <th>kilometer</th>\n",
       "      <th>fuel_type</th>\n",
       "      <th>brand</th>\n",
       "      <th>repaired</th>\n",
       "    </tr>\n",
       "  </thead>\n",
       "  <tbody>\n",
       "    <tr>\n",
       "      <th>1816</th>\n",
       "      <td>3200</td>\n",
       "      <td>small</td>\n",
       "      <td>2004</td>\n",
       "      <td>manual</td>\n",
       "      <td>1398</td>\n",
       "      <td>corolla</td>\n",
       "      <td>5000</td>\n",
       "      <td>petrol</td>\n",
       "      <td>toyota</td>\n",
       "      <td>no</td>\n",
       "    </tr>\n",
       "    <tr>\n",
       "      <th>2102</th>\n",
       "      <td>0</td>\n",
       "      <td>sedan</td>\n",
       "      <td>1999</td>\n",
       "      <td>NaN</td>\n",
       "      <td>1799</td>\n",
       "      <td>vectra</td>\n",
       "      <td>150000</td>\n",
       "      <td>petrol</td>\n",
       "      <td>opel</td>\n",
       "      <td>yes</td>\n",
       "    </tr>\n",
       "    <tr>\n",
       "      <th>4060</th>\n",
       "      <td>3100</td>\n",
       "      <td>sedan</td>\n",
       "      <td>2005</td>\n",
       "      <td>manual</td>\n",
       "      <td>953</td>\n",
       "      <td>colt</td>\n",
       "      <td>150000</td>\n",
       "      <td>petrol</td>\n",
       "      <td>mitsubishi</td>\n",
       "      <td>no</td>\n",
       "    </tr>\n",
       "    <tr>\n",
       "      <th>5328</th>\n",
       "      <td>500</td>\n",
       "      <td>wagon</td>\n",
       "      <td>1999</td>\n",
       "      <td>manual</td>\n",
       "      <td>1001</td>\n",
       "      <td>astra</td>\n",
       "      <td>150000</td>\n",
       "      <td>petrol</td>\n",
       "      <td>opel</td>\n",
       "      <td>NaN</td>\n",
       "    </tr>\n",
       "    <tr>\n",
       "      <th>6296</th>\n",
       "      <td>599</td>\n",
       "      <td>small</td>\n",
       "      <td>2002</td>\n",
       "      <td>manual</td>\n",
       "      <td>603</td>\n",
       "      <td>matiz</td>\n",
       "      <td>5000</td>\n",
       "      <td>petrol</td>\n",
       "      <td>chevrolet</td>\n",
       "      <td>yes</td>\n",
       "    </tr>\n",
       "    <tr>\n",
       "      <th>6504</th>\n",
       "      <td>3000</td>\n",
       "      <td>small</td>\n",
       "      <td>2009</td>\n",
       "      <td>manual</td>\n",
       "      <td>771</td>\n",
       "      <td>punto</td>\n",
       "      <td>125000</td>\n",
       "      <td>petrol</td>\n",
       "      <td>fiat</td>\n",
       "      <td>NaN</td>\n",
       "    </tr>\n",
       "    <tr>\n",
       "      <th>6637</th>\n",
       "      <td>600</td>\n",
       "      <td>small</td>\n",
       "      <td>1996</td>\n",
       "      <td>manual</td>\n",
       "      <td>603</td>\n",
       "      <td>corsa</td>\n",
       "      <td>150000</td>\n",
       "      <td>petrol</td>\n",
       "      <td>opel</td>\n",
       "      <td>yes</td>\n",
       "    </tr>\n",
       "    <tr>\n",
       "      <th>7661</th>\n",
       "      <td>1499</td>\n",
       "      <td>small</td>\n",
       "      <td>1999</td>\n",
       "      <td>manual</td>\n",
       "      <td>7515</td>\n",
       "      <td>lupo</td>\n",
       "      <td>150000</td>\n",
       "      <td>petrol</td>\n",
       "      <td>volkswagen</td>\n",
       "      <td>NaN</td>\n",
       "    </tr>\n",
       "    <tr>\n",
       "      <th>7720</th>\n",
       "      <td>1500</td>\n",
       "      <td>small</td>\n",
       "      <td>2000</td>\n",
       "      <td>manual</td>\n",
       "      <td>1400</td>\n",
       "      <td>NaN</td>\n",
       "      <td>150000</td>\n",
       "      <td>petrol</td>\n",
       "      <td>honda</td>\n",
       "      <td>NaN</td>\n",
       "    </tr>\n",
       "    <tr>\n",
       "      <th>8057</th>\n",
       "      <td>500</td>\n",
       "      <td>small</td>\n",
       "      <td>2002</td>\n",
       "      <td>manual</td>\n",
       "      <td>620</td>\n",
       "      <td>ypsilon</td>\n",
       "      <td>150000</td>\n",
       "      <td>petrol</td>\n",
       "      <td>lancia</td>\n",
       "      <td>NaN</td>\n",
       "    </tr>\n",
       "    <tr>\n",
       "      <th>9664</th>\n",
       "      <td>2599</td>\n",
       "      <td>NaN</td>\n",
       "      <td>2016</td>\n",
       "      <td>manual</td>\n",
       "      <td>1779</td>\n",
       "      <td>zafira</td>\n",
       "      <td>150000</td>\n",
       "      <td>petrol</td>\n",
       "      <td>opel</td>\n",
       "      <td>no</td>\n",
       "    </tr>\n",
       "    <tr>\n",
       "      <th>9875</th>\n",
       "      <td>550</td>\n",
       "      <td>wagon</td>\n",
       "      <td>2003</td>\n",
       "      <td>manual</td>\n",
       "      <td>1753</td>\n",
       "      <td>focus</td>\n",
       "      <td>150000</td>\n",
       "      <td>petrol</td>\n",
       "      <td>ford</td>\n",
       "      <td>yes</td>\n",
       "    </tr>\n",
       "    <tr>\n",
       "      <th>11039</th>\n",
       "      <td>0</td>\n",
       "      <td>sedan</td>\n",
       "      <td>1998</td>\n",
       "      <td>manual</td>\n",
       "      <td>10317</td>\n",
       "      <td>other</td>\n",
       "      <td>150000</td>\n",
       "      <td>petrol</td>\n",
       "      <td>fiat</td>\n",
       "      <td>no</td>\n",
       "    </tr>\n",
       "    <tr>\n",
       "      <th>12740</th>\n",
       "      <td>3500</td>\n",
       "      <td>convertible</td>\n",
       "      <td>2003</td>\n",
       "      <td>manual</td>\n",
       "      <td>952</td>\n",
       "      <td>ka</td>\n",
       "      <td>70000</td>\n",
       "      <td>petrol</td>\n",
       "      <td>ford</td>\n",
       "      <td>no</td>\n",
       "    </tr>\n",
       "    <tr>\n",
       "      <th>13373</th>\n",
       "      <td>18500</td>\n",
       "      <td>small</td>\n",
       "      <td>2002</td>\n",
       "      <td>auto</td>\n",
       "      <td>600</td>\n",
       "      <td>s_type</td>\n",
       "      <td>150000</td>\n",
       "      <td>NaN</td>\n",
       "      <td>jaguar</td>\n",
       "      <td>no</td>\n",
       "    </tr>\n",
       "    <tr>\n",
       "      <th>15433</th>\n",
       "      <td>0</td>\n",
       "      <td>coupe</td>\n",
       "      <td>1995</td>\n",
       "      <td>manual</td>\n",
       "      <td>999</td>\n",
       "      <td>escort</td>\n",
       "      <td>5000</td>\n",
       "      <td>NaN</td>\n",
       "      <td>ford</td>\n",
       "      <td>no</td>\n",
       "    </tr>\n",
       "    <tr>\n",
       "      <th>16385</th>\n",
       "      <td>100</td>\n",
       "      <td>small</td>\n",
       "      <td>1996</td>\n",
       "      <td>manual</td>\n",
       "      <td>553</td>\n",
       "      <td>NaN</td>\n",
       "      <td>150000</td>\n",
       "      <td>NaN</td>\n",
       "      <td>renault</td>\n",
       "      <td>yes</td>\n",
       "    </tr>\n",
       "    <tr>\n",
       "      <th>17510</th>\n",
       "      <td>15500</td>\n",
       "      <td>coupe</td>\n",
       "      <td>2009</td>\n",
       "      <td>auto</td>\n",
       "      <td>507</td>\n",
       "      <td>m_reihe</td>\n",
       "      <td>150000</td>\n",
       "      <td>petrol</td>\n",
       "      <td>bmw</td>\n",
       "      <td>yes</td>\n",
       "    </tr>\n",
       "    <tr>\n",
       "      <th>19078</th>\n",
       "      <td>0</td>\n",
       "      <td>NaN</td>\n",
       "      <td>2016</td>\n",
       "      <td>manual</td>\n",
       "      <td>1111</td>\n",
       "      <td>ibiza</td>\n",
       "      <td>150000</td>\n",
       "      <td>NaN</td>\n",
       "      <td>seat</td>\n",
       "      <td>yes</td>\n",
       "    </tr>\n",
       "    <tr>\n",
       "      <th>19092</th>\n",
       "      <td>9750</td>\n",
       "      <td>wagon</td>\n",
       "      <td>2005</td>\n",
       "      <td>auto</td>\n",
       "      <td>2729</td>\n",
       "      <td>5er</td>\n",
       "      <td>150000</td>\n",
       "      <td>petrol</td>\n",
       "      <td>bmw</td>\n",
       "      <td>no</td>\n",
       "    </tr>\n",
       "  </tbody>\n",
       "</table>\n",
       "</div>"
      ],
      "text/plain": [
       "       price vehicle_type  registration_year gearbox  power    model  \\\n",
       "1816    3200        small               2004  manual   1398  corolla   \n",
       "2102       0        sedan               1999     NaN   1799   vectra   \n",
       "4060    3100        sedan               2005  manual    953     colt   \n",
       "5328     500        wagon               1999  manual   1001    astra   \n",
       "6296     599        small               2002  manual    603    matiz   \n",
       "6504    3000        small               2009  manual    771    punto   \n",
       "6637     600        small               1996  manual    603    corsa   \n",
       "7661    1499        small               1999  manual   7515     lupo   \n",
       "7720    1500        small               2000  manual   1400      NaN   \n",
       "8057     500        small               2002  manual    620  ypsilon   \n",
       "9664    2599          NaN               2016  manual   1779   zafira   \n",
       "9875     550        wagon               2003  manual   1753    focus   \n",
       "11039      0        sedan               1998  manual  10317    other   \n",
       "12740   3500  convertible               2003  manual    952       ka   \n",
       "13373  18500        small               2002    auto    600   s_type   \n",
       "15433      0        coupe               1995  manual    999   escort   \n",
       "16385    100        small               1996  manual    553      NaN   \n",
       "17510  15500        coupe               2009    auto    507  m_reihe   \n",
       "19078      0          NaN               2016  manual   1111    ibiza   \n",
       "19092   9750        wagon               2005    auto   2729      5er   \n",
       "\n",
       "       kilometer fuel_type       brand repaired  \n",
       "1816        5000    petrol      toyota       no  \n",
       "2102      150000    petrol        opel      yes  \n",
       "4060      150000    petrol  mitsubishi       no  \n",
       "5328      150000    petrol        opel      NaN  \n",
       "6296        5000    petrol   chevrolet      yes  \n",
       "6504      125000    petrol        fiat      NaN  \n",
       "6637      150000    petrol        opel      yes  \n",
       "7661      150000    petrol  volkswagen      NaN  \n",
       "7720      150000    petrol       honda      NaN  \n",
       "8057      150000    petrol      lancia      NaN  \n",
       "9664      150000    petrol        opel       no  \n",
       "9875      150000    petrol        ford      yes  \n",
       "11039     150000    petrol        fiat       no  \n",
       "12740      70000    petrol        ford       no  \n",
       "13373     150000       NaN      jaguar       no  \n",
       "15433       5000       NaN        ford       no  \n",
       "16385     150000       NaN     renault      yes  \n",
       "17510     150000    petrol         bmw      yes  \n",
       "19078     150000       NaN        seat      yes  \n",
       "19092     150000    petrol         bmw       no  "
      ]
     },
     "execution_count": 16,
     "metadata": {},
     "output_type": "execute_result"
    }
   ],
   "source": [
    "data.query('power>500').head(20)"
   ]
  },
  {
   "cell_type": "markdown",
   "metadata": {},
   "source": [
    "Судя по данному списку автомобилей мы имеем действительно дело с аномалиями, а не с истинными значениями. Например, есть такая история:\n",
    "\n",
    "\"Рассекречен гиперкар Zenvo Aurora с самым мощным в мире V12 и максималкой 451 км/ч. 16 августа 2023. Датская фирма Zenvo рассекретила гиперкар Aurora, оснащённый самым мощным в мире двигателем V 12. С электрическим довеском силовая установка выдаёт до **1850 лошадиных сил** и позволяет развивать до 451 км/ч. ДВС объёмом 6,6 литра с четырьмя турбинами имеет мощность 1250 лошадиных сил.\"\n",
    "\n",
    "Очень сомневаюсь, что этот автомобиль будет продаваться на таком сайте, поэтому, можно удалить все строки, где у автомобилей мощность более 500 л.с. (это даже с запасом)\n",
    "\n",
    "Таким же образом запросим автомобили с минимальной мощностью, по таким данным:\n",
    "\n",
    "Мощность некоторых малолитражных автомобилей:\n",
    "\n",
    "* Nissan March. Мощность двигателя — 80–110 л. с.\n",
    "* Subaru Pleo. Мощность — от 38 до 58 л. с. \n",
    "* Subaru Trezia. Мощность — 95–99 л. с.\n",
    "* Suzuki Kei. Мощность — от 44 до 64 л. с.\n",
    "* Smart Fortwo. Мощность двигателей — от 71 до 109 л. с.\n",
    "* Kia Picanto. По большей части оснащается двигателем объёмом 1 литр мощностью 67 л. с. Также есть варианты на 1,3 литра мощностью 85 лошадиных сил.\n",
    "\n",
    "Режем все, что меньше 50 л.с."
   ]
  },
  {
   "cell_type": "code",
   "execution_count": 17,
   "metadata": {},
   "outputs": [
    {
     "data": {
      "text/plain": [
       "count    292701.000000\n",
       "mean        122.997171\n",
       "std          52.372497\n",
       "min          51.000000\n",
       "25%          82.000000\n",
       "50%         115.000000\n",
       "75%         150.000000\n",
       "max         490.000000\n",
       "Name: power, dtype: float64"
      ]
     },
     "execution_count": 17,
     "metadata": {},
     "output_type": "execute_result"
    }
   ],
   "source": [
    "data = data.query('power>50 and power<500')\n",
    "data['power'].describe()"
   ]
  },
  {
   "cell_type": "code",
   "execution_count": 18,
   "metadata": {
    "scrolled": true
   },
   "outputs": [],
   "source": [
    "data = data.query('price>500')"
   ]
  },
  {
   "cell_type": "code",
   "execution_count": 19,
   "metadata": {},
   "outputs": [
    {
     "data": {
      "text/plain": [
       "price                    0\n",
       "vehicle_type          7826\n",
       "registration_year        0\n",
       "gearbox               3995\n",
       "power                    0\n",
       "model                 8949\n",
       "kilometer                0\n",
       "fuel_type            11740\n",
       "brand                    0\n",
       "repaired             34427\n",
       "dtype: int64"
      ]
     },
     "execution_count": 19,
     "metadata": {},
     "output_type": "execute_result"
    }
   ],
   "source": [
    "data.isna().sum()"
   ]
  },
  {
   "cell_type": "markdown",
   "metadata": {},
   "source": [
    "Заполнение пропусков: На мой взгляд, заполнять пропуски медианным значением нельзя. Заполним пропуски заглушкой unknown, при работе в пайплайнах."
   ]
  },
  {
   "cell_type": "code",
   "execution_count": 20,
   "metadata": {},
   "outputs": [
    {
     "data": {
      "text/html": [
       "<div>\n",
       "<style scoped>\n",
       "    .dataframe tbody tr th:only-of-type {\n",
       "        vertical-align: middle;\n",
       "    }\n",
       "\n",
       "    .dataframe tbody tr th {\n",
       "        vertical-align: top;\n",
       "    }\n",
       "\n",
       "    .dataframe thead th {\n",
       "        text-align: right;\n",
       "    }\n",
       "</style>\n",
       "<table border=\"1\" class=\"dataframe\">\n",
       "  <thead>\n",
       "    <tr style=\"text-align: right;\">\n",
       "      <th></th>\n",
       "      <th>price</th>\n",
       "      <th>registration_year</th>\n",
       "      <th>power</th>\n",
       "      <th>kilometer</th>\n",
       "    </tr>\n",
       "  </thead>\n",
       "  <tbody>\n",
       "    <tr>\n",
       "      <th>count</th>\n",
       "      <td>267795.000000</td>\n",
       "      <td>267795.000000</td>\n",
       "      <td>267795.000000</td>\n",
       "      <td>267795.000000</td>\n",
       "    </tr>\n",
       "    <tr>\n",
       "      <th>mean</th>\n",
       "      <td>5286.018010</td>\n",
       "      <td>2003.345996</td>\n",
       "      <td>125.505667</td>\n",
       "      <td>127675.684759</td>\n",
       "    </tr>\n",
       "    <tr>\n",
       "      <th>std</th>\n",
       "      <td>4615.146251</td>\n",
       "      <td>6.189333</td>\n",
       "      <td>52.564864</td>\n",
       "      <td>36893.569047</td>\n",
       "    </tr>\n",
       "    <tr>\n",
       "      <th>min</th>\n",
       "      <td>501.000000</td>\n",
       "      <td>1910.000000</td>\n",
       "      <td>51.000000</td>\n",
       "      <td>5000.000000</td>\n",
       "    </tr>\n",
       "    <tr>\n",
       "      <th>25%</th>\n",
       "      <td>1699.000000</td>\n",
       "      <td>2000.000000</td>\n",
       "      <td>87.000000</td>\n",
       "      <td>125000.000000</td>\n",
       "    </tr>\n",
       "    <tr>\n",
       "      <th>50%</th>\n",
       "      <td>3666.000000</td>\n",
       "      <td>2004.000000</td>\n",
       "      <td>116.000000</td>\n",
       "      <td>150000.000000</td>\n",
       "    </tr>\n",
       "    <tr>\n",
       "      <th>75%</th>\n",
       "      <td>7500.000000</td>\n",
       "      <td>2007.000000</td>\n",
       "      <td>150.000000</td>\n",
       "      <td>150000.000000</td>\n",
       "    </tr>\n",
       "    <tr>\n",
       "      <th>max</th>\n",
       "      <td>20000.000000</td>\n",
       "      <td>2016.000000</td>\n",
       "      <td>490.000000</td>\n",
       "      <td>150000.000000</td>\n",
       "    </tr>\n",
       "  </tbody>\n",
       "</table>\n",
       "</div>"
      ],
      "text/plain": [
       "               price  registration_year          power      kilometer\n",
       "count  267795.000000      267795.000000  267795.000000  267795.000000\n",
       "mean     5286.018010        2003.345996     125.505667  127675.684759\n",
       "std      4615.146251           6.189333      52.564864   36893.569047\n",
       "min       501.000000        1910.000000      51.000000    5000.000000\n",
       "25%      1699.000000        2000.000000      87.000000  125000.000000\n",
       "50%      3666.000000        2004.000000     116.000000  150000.000000\n",
       "75%      7500.000000        2007.000000     150.000000  150000.000000\n",
       "max     20000.000000        2016.000000     490.000000  150000.000000"
      ]
     },
     "execution_count": 20,
     "metadata": {},
     "output_type": "execute_result"
    }
   ],
   "source": [
    "data.describe()"
   ]
  },
  {
   "cell_type": "markdown",
   "metadata": {},
   "source": [
    "Выполним небольшой анализ, чтобы лучше понимать данные:\n",
    "    "
   ]
  },
  {
   "cell_type": "code",
   "execution_count": 21,
   "metadata": {},
   "outputs": [
    {
     "data": {
      "text/plain": [
       "Index(['price', 'vehicle_type', 'registration_year', 'gearbox', 'power',\n",
       "       'model', 'kilometer', 'fuel_type', 'brand', 'repaired'],\n",
       "      dtype='object')"
      ]
     },
     "execution_count": 21,
     "metadata": {},
     "output_type": "execute_result"
    }
   ],
   "source": [
    "data.columns"
   ]
  },
  {
   "cell_type": "code",
   "execution_count": 22,
   "metadata": {},
   "outputs": [
    {
     "data": {
      "text/html": [
       "<div>\n",
       "<style scoped>\n",
       "    .dataframe tbody tr th:only-of-type {\n",
       "        vertical-align: middle;\n",
       "    }\n",
       "\n",
       "    .dataframe tbody tr th {\n",
       "        vertical-align: top;\n",
       "    }\n",
       "\n",
       "    .dataframe thead th {\n",
       "        text-align: right;\n",
       "    }\n",
       "</style>\n",
       "<table border=\"1\" class=\"dataframe\">\n",
       "  <thead>\n",
       "    <tr style=\"text-align: right;\">\n",
       "      <th></th>\n",
       "      <th>vehicle_type</th>\n",
       "      <th>gearbox</th>\n",
       "      <th>fuel_type</th>\n",
       "      <th>brand</th>\n",
       "      <th>repaired</th>\n",
       "      <th>model</th>\n",
       "    </tr>\n",
       "  </thead>\n",
       "  <tbody>\n",
       "    <tr>\n",
       "      <th>1</th>\n",
       "      <td>coupe</td>\n",
       "      <td>manual</td>\n",
       "      <td>petrol</td>\n",
       "      <td>audi</td>\n",
       "      <td>yes</td>\n",
       "      <td>NaN</td>\n",
       "    </tr>\n",
       "    <tr>\n",
       "      <th>2</th>\n",
       "      <td>suv</td>\n",
       "      <td>auto</td>\n",
       "      <td>petrol</td>\n",
       "      <td>jeep</td>\n",
       "      <td>NaN</td>\n",
       "      <td>grand</td>\n",
       "    </tr>\n",
       "    <tr>\n",
       "      <th>3</th>\n",
       "      <td>small</td>\n",
       "      <td>manual</td>\n",
       "      <td>petrol</td>\n",
       "      <td>volkswagen</td>\n",
       "      <td>no</td>\n",
       "      <td>golf</td>\n",
       "    </tr>\n",
       "    <tr>\n",
       "      <th>4</th>\n",
       "      <td>small</td>\n",
       "      <td>manual</td>\n",
       "      <td>petrol</td>\n",
       "      <td>skoda</td>\n",
       "      <td>no</td>\n",
       "      <td>fabia</td>\n",
       "    </tr>\n",
       "    <tr>\n",
       "      <th>5</th>\n",
       "      <td>sedan</td>\n",
       "      <td>manual</td>\n",
       "      <td>petrol</td>\n",
       "      <td>bmw</td>\n",
       "      <td>yes</td>\n",
       "      <td>3er</td>\n",
       "    </tr>\n",
       "  </tbody>\n",
       "</table>\n",
       "</div>"
      ],
      "text/plain": [
       "  vehicle_type gearbox fuel_type       brand repaired  model\n",
       "1        coupe  manual    petrol        audi      yes    NaN\n",
       "2          suv    auto    petrol        jeep      NaN  grand\n",
       "3        small  manual    petrol  volkswagen       no   golf\n",
       "4        small  manual    petrol       skoda       no  fabia\n",
       "5        sedan  manual    petrol         bmw      yes    3er"
      ]
     },
     "execution_count": 22,
     "metadata": {},
     "output_type": "execute_result"
    }
   ],
   "source": [
    "data_analysis = data[['vehicle_type', 'gearbox', 'fuel_type', 'brand', 'repaired', 'model']]\n",
    "data_analysis.head()"
   ]
  },
  {
   "cell_type": "code",
   "execution_count": 23,
   "metadata": {},
   "outputs": [
    {
     "data": {
      "image/png": "[encoded data removed]",
      "text/plain": [
       "<Figure size 720x720 with 4 Axes>"
      ]
     },
     "metadata": {},
     "output_type": "display_data"
    }
   ],
   "source": [
    "colors_earth = ['#FFB6C1', '#FF69B4', '#FF1493', '#FFA07A', '#FF8C00', '#FF4500', '#FF6347', '#FFD700']\n",
    "fig, axs = plt.subplots(2, 2, figsize=(10, 10))\n",
    "axs = axs.flatten()\n",
    "\n",
    "features = ['vehicle_type', 'gearbox', 'fuel_type', 'repaired']\n",
    "\n",
    "for i, feature in enumerate(features):\n",
    "    data_analysis.pivot_table(index=feature, values='model', aggfunc='count').\\\n",
    "    sort_values(by=feature, ascending=False).head(5).plot(\n",
    "        kind='pie',\n",
    "        figsize=(5, 5),\n",
    "        grid=False,\n",
    "        title=None,\n",
    "        subplots=True,\n",
    "        autopct='%.0f%%',\n",
    "        colors=colors_earth,\n",
    "        ax=axs[i]  \n",
    "    )\n",
    "    axs[i].set_ylabel(None)\n",
    "    axs[i].set_title(f'Параметр {feature}')\n",
    "    axs[i].get_legend().remove()\n",
    "\n",
    "    \n",
    "plt.tight_layout()\n",
    "plt.show()"
   ]
  },
  {
   "cell_type": "markdown",
   "metadata": {},
   "source": [
    "На рынке превалируют седаны, с ручной коробкой передач, без ДТП (не бита, не крашена, ездила девушка или пенсионер)"
   ]
  },
  {
   "cell_type": "markdown",
   "metadata": {},
   "source": [
    "**Вывод:** в ходе работы были обработаны пропуски, дубликаты, удалены аномалии, что сделало данные более пригодными для обучения"
   ]
  },
  {
   "cell_type": "markdown",
   "metadata": {},
   "source": [
    "Перед машинным обучением удалим дубликаты:"
   ]
  },
  {
   "cell_type": "code",
   "execution_count": 24,
   "metadata": {},
   "outputs": [
    {
     "data": {
      "text/plain": [
       "36126"
      ]
     },
     "execution_count": 24,
     "metadata": {},
     "output_type": "execute_result"
    }
   ],
   "source": [
    "data.duplicated().sum()"
   ]
  },
  {
   "cell_type": "code",
   "execution_count": 25,
   "metadata": {},
   "outputs": [
    {
     "data": {
      "text/html": [
       "<div>\n",
       "<style scoped>\n",
       "    .dataframe tbody tr th:only-of-type {\n",
       "        vertical-align: middle;\n",
       "    }\n",
       "\n",
       "    .dataframe tbody tr th {\n",
       "        vertical-align: top;\n",
       "    }\n",
       "\n",
       "    .dataframe thead th {\n",
       "        text-align: right;\n",
       "    }\n",
       "</style>\n",
       "<table border=\"1\" class=\"dataframe\">\n",
       "  <thead>\n",
       "    <tr style=\"text-align: right;\">\n",
       "      <th></th>\n",
       "      <th>price</th>\n",
       "      <th>vehicle_type</th>\n",
       "      <th>registration_year</th>\n",
       "      <th>gearbox</th>\n",
       "      <th>power</th>\n",
       "      <th>model</th>\n",
       "      <th>kilometer</th>\n",
       "      <th>fuel_type</th>\n",
       "      <th>brand</th>\n",
       "      <th>repaired</th>\n",
       "    </tr>\n",
       "  </thead>\n",
       "  <tbody>\n",
       "    <tr>\n",
       "      <th>6</th>\n",
       "      <td>2200</td>\n",
       "      <td>convertible</td>\n",
       "      <td>2004</td>\n",
       "      <td>manual</td>\n",
       "      <td>109</td>\n",
       "      <td>2_reihe</td>\n",
       "      <td>150000</td>\n",
       "      <td>petrol</td>\n",
       "      <td>peugeot</td>\n",
       "      <td>no</td>\n",
       "    </tr>\n",
       "    <tr>\n",
       "      <th>14</th>\n",
       "      <td>17999</td>\n",
       "      <td>suv</td>\n",
       "      <td>2011</td>\n",
       "      <td>manual</td>\n",
       "      <td>190</td>\n",
       "      <td>navara</td>\n",
       "      <td>70000</td>\n",
       "      <td>petrol</td>\n",
       "      <td>nissan</td>\n",
       "      <td>no</td>\n",
       "    </tr>\n",
       "    <tr>\n",
       "      <th>20</th>\n",
       "      <td>10400</td>\n",
       "      <td>coupe</td>\n",
       "      <td>2009</td>\n",
       "      <td>manual</td>\n",
       "      <td>160</td>\n",
       "      <td>scirocco</td>\n",
       "      <td>100000</td>\n",
       "      <td>petrol</td>\n",
       "      <td>volkswagen</td>\n",
       "      <td>no</td>\n",
       "    </tr>\n",
       "    <tr>\n",
       "      <th>27</th>\n",
       "      <td>6900</td>\n",
       "      <td>sedan</td>\n",
       "      <td>2008</td>\n",
       "      <td>manual</td>\n",
       "      <td>99</td>\n",
       "      <td>civic</td>\n",
       "      <td>60000</td>\n",
       "      <td>petrol</td>\n",
       "      <td>honda</td>\n",
       "      <td>no</td>\n",
       "    </tr>\n",
       "    <tr>\n",
       "      <th>46</th>\n",
       "      <td>7999</td>\n",
       "      <td>sedan</td>\n",
       "      <td>2007</td>\n",
       "      <td>manual</td>\n",
       "      <td>177</td>\n",
       "      <td>1er</td>\n",
       "      <td>150000</td>\n",
       "      <td>petrol</td>\n",
       "      <td>bmw</td>\n",
       "      <td>no</td>\n",
       "    </tr>\n",
       "  </tbody>\n",
       "</table>\n",
       "</div>"
      ],
      "text/plain": [
       "    price vehicle_type  registration_year gearbox  power     model  kilometer  \\\n",
       "6    2200  convertible               2004  manual    109   2_reihe     150000   \n",
       "14  17999          suv               2011  manual    190    navara      70000   \n",
       "20  10400        coupe               2009  manual    160  scirocco     100000   \n",
       "27   6900        sedan               2008  manual     99     civic      60000   \n",
       "46   7999        sedan               2007  manual    177       1er     150000   \n",
       "\n",
       "   fuel_type       brand repaired  \n",
       "6     petrol     peugeot       no  \n",
       "14    petrol      nissan       no  \n",
       "20    petrol  volkswagen       no  \n",
       "27    petrol       honda       no  \n",
       "46    petrol         bmw       no  "
      ]
     },
     "execution_count": 25,
     "metadata": {},
     "output_type": "execute_result"
    }
   ],
   "source": [
    "data[data.duplicated(keep=False)].head()\n"
   ]
  },
  {
   "cell_type": "markdown",
   "metadata": {},
   "source": [
    "Явные дубликаты как бы есть, но не ясно, являютсмя ли они дубликатами, или это просто так вышло - удалим"
   ]
  },
  {
   "cell_type": "code",
   "execution_count": 26,
   "metadata": {},
   "outputs": [],
   "source": [
    "data = data.drop_duplicates()"
   ]
  },
  {
   "cell_type": "markdown",
   "metadata": {},
   "source": [
    "## Обучение моделей"
   ]
  },
  {
   "cell_type": "markdown",
   "metadata": {},
   "source": [
    "Приведем признаки к категориальным для модели LBM"
   ]
  },
  {
   "cell_type": "code",
   "execution_count": 27,
   "metadata": {},
   "outputs": [],
   "source": [
    "data[['vehicle_type', 'gearbox', 'model', 'fuel_type', 'brand', 'repaired']] = \\\n",
    "data[['vehicle_type', 'gearbox', 'model', 'fuel_type', 'brand', 'repaired']].astype('category')\n"
   ]
  },
  {
   "cell_type": "code",
   "execution_count": 28,
   "metadata": {},
   "outputs": [
    {
     "name": "stdout",
     "output_type": "stream",
     "text": [
      "<class 'pandas.core.frame.DataFrame'>\n",
      "Int64Index: 231669 entries, 1 to 354368\n",
      "Data columns (total 10 columns):\n",
      " #   Column             Non-Null Count   Dtype   \n",
      "---  ------             --------------   -----   \n",
      " 0   price              231669 non-null  int64   \n",
      " 1   vehicle_type       224165 non-null  category\n",
      " 2   registration_year  231669 non-null  int64   \n",
      " 3   gearbox            227835 non-null  category\n",
      " 4   power              231669 non-null  int64   \n",
      " 5   model              223117 non-null  category\n",
      " 6   kilometer          231669 non-null  int64   \n",
      " 7   fuel_type          220273 non-null  category\n",
      " 8   brand              231669 non-null  category\n",
      " 9   repaired           199796 non-null  category\n",
      "dtypes: category(6), int64(4)\n",
      "memory usage: 10.4 MB\n"
     ]
    }
   ],
   "source": [
    "data.info()"
   ]
  },
  {
   "cell_type": "code",
   "execution_count": 29,
   "metadata": {},
   "outputs": [],
   "source": [
    "X_train, X_test, y_train, y_test = train_test_split(\n",
    "    data.drop(['price'], axis=1),\n",
    "    data['price'],\n",
    "    test_size = TEST_SIZE, \n",
    "    random_state = RANDOM_STATE)\n",
    "\n",
    "ohe_columns = ['vehicle_type', 'gearbox', 'model', 'fuel_type', 'brand', 'repaired']\n",
    "num_columns = ['registration_year', 'power', 'kilometer', ]"
   ]
  },
  {
   "cell_type": "markdown",
   "metadata": {},
   "source": [
    "Заполняем пропуски заглушкой"
   ]
  },
  {
   "cell_type": "code",
   "execution_count": 30,
   "metadata": {},
   "outputs": [],
   "source": [
    "ohe_pipe = Pipeline([\n",
    "    ('simpleImputer_ohe', SimpleImputer(missing_values=np.nan, strategy='constant', fill_value='unknown')),\n",
    "    ('ohe', OneHotEncoder(drop='first', handle_unknown='ignore', sparse_output=False))\n",
    "])"
   ]
  },
  {
   "cell_type": "code",
   "execution_count": 31,
   "metadata": {},
   "outputs": [],
   "source": [
    "data_preprocessor = ColumnTransformer(\n",
    "    [('ohe', ohe_pipe, ohe_columns),\n",
    "     ('num', StandardScaler(), num_columns)\n",
    "    ], \n",
    "    remainder='passthrough')\n"
   ]
  },
  {
   "cell_type": "code",
   "execution_count": 32,
   "metadata": {},
   "outputs": [],
   "source": [
    "pipe_final = Pipeline([\n",
    "    ('preprocessor', data_preprocessor),\n",
    "    ('models', DecisionTreeRegressor(random_state=RANDOM_STATE))\n",
    "])\n",
    "\n",
    "param_grid = [\n",
    "    \n",
    "    {\n",
    "        'models': [DecisionTreeRegressor(random_state=RANDOM_STATE)],\n",
    "        'models__max_depth': range(4, 7),\n",
    "        'models__max_features': range(5, 7),  \n",
    "        'preprocessor__num': [StandardScaler(), 'passthrough']  \n",
    "    },\n",
    "\n",
    "    {\n",
    "        \n",
    "        'models': [LinearRegression()],\n",
    "        'preprocessor__num': [StandardScaler(), 'passthrough'],\n",
    "    \n",
    "    },\n",
    "\n",
    "    {\n",
    "        'models': [lgb.LGBMRegressor(random_state=RANDOM_STATE)],\n",
    "        'models__num_leaves': [31, 50],\n",
    "        'models__learning_rate': [0.01, 0.1],  \n",
    "        'preprocessor__num': [StandardScaler(), 'passthrough'],\n",
    "    }\n",
    "]\n"
   ]
  },
  {
   "cell_type": "code",
   "execution_count": 33,
   "metadata": {
    "scrolled": false
   },
   "outputs": [
    {
     "name": "stdout",
     "output_type": "stream",
     "text": [
      "Лучшая модель и её параметры:\n",
      "\n",
      " Pipeline(steps=[('preprocessor',\n",
      "                 ColumnTransformer(remainder='passthrough',\n",
      "                                   transformers=[('ohe',\n",
      "                                                  Pipeline(steps=[('simpleImputer_ohe',\n",
      "                                                                   SimpleImputer(fill_value='unknown',\n",
      "                                                                                 strategy='constant')),\n",
      "                                                                  ('ohe',\n",
      "                                                                   OneHotEncoder(drop='first',\n",
      "                                                                                 handle_unknown='ignore',\n",
      "                                                                                 sparse_output=False))]),\n",
      "                                                  ['vehicle_type', 'gearbox',\n",
      "                                                   'model', 'fuel_type',\n",
      "                                                   'brand', 'repaired']),\n",
      "                                                 ('num', 'passthrough',\n",
      "                                                  ['registration_year', 'power',\n",
      "                                                   'kilometer'])])),\n",
      "                ('models', LGBMRegressor(num_leaves=50, random_state=42))])\n",
      "Метрика лучшей модели: 1676.7333690772502\n",
      "Время потраченное на подбор модели и обучение: 5130.7512 секунд\n"
     ]
    }
   ],
   "source": [
    "start_time = time.time()\n",
    "\n",
    "random_search = RandomizedSearchCV(\n",
    "    pipe_final, \n",
    "    param_grid, \n",
    "    n_iter=30, \n",
    "    cv=5,\n",
    "    scoring='neg_root_mean_squared_error',\n",
    "    n_jobs=-1,\n",
    "    random_state=RANDOM_STATE\n",
    ")\n",
    "\n",
    "random_search.fit(X_train, y_train)\n",
    "\n",
    "end_time = time.time()\n",
    "\n",
    "print('Лучшая модель и её параметры:\\n\\n', random_search.best_estimator_)\n",
    "print('Метрика лучшей модели:', abs(random_search.best_score_))\n",
    "print(f'Время потраченное на подбор модели и обучение: {end_time - start_time:.4f} секунд')"
   ]
  },
  {
   "cell_type": "code",
   "execution_count": 34,
   "metadata": {},
   "outputs": [],
   "source": [
    "best_pipeline = random_search.best_estimator_\n",
    "best_model = best_pipeline.named_steps['models']\n"
   ]
  },
  {
   "cell_type": "code",
   "execution_count": 35,
   "metadata": {},
   "outputs": [
    {
     "data": {
      "text/html": [
       "<style>#sk-container-id-1 {\n",
       "  /* Definition of color scheme common for light and dark mode */\n",
       "  --sklearn-color-text: black;\n",
       "  --sklearn-color-line: gray;\n",
       "  /* Definition of color scheme for unfitted estimators */\n",
       "  --sklearn-color-unfitted-level-0: #fff5e6;\n",
       "  --sklearn-color-unfitted-level-1: #f6e4d2;\n",
       "  --sklearn-color-unfitted-level-2: #ffe0b3;\n",
       "  --sklearn-color-unfitted-level-3: chocolate;\n",
       "  /* Definition of color scheme for fitted estimators */\n",
       "  --sklearn-color-fitted-level-0: #f0f8ff;\n",
       "  --sklearn-color-fitted-level-1: #d4ebff;\n",
       "  --sklearn-color-fitted-level-2: #b3dbfd;\n",
       "  --sklearn-color-fitted-level-3: cornflowerblue;\n",
       "\n",
       "  /* Specific color for light theme */\n",
       "  --sklearn-color-text-on-default-background: var(--sg-text-color, var(--theme-code-foreground, var(--jp-content-font-color1, black)));\n",
       "  --sklearn-color-background: var(--sg-background-color, var(--theme-background, var(--jp-layout-color0, white)));\n",
       "  --sklearn-color-border-box: var(--sg-text-color, var(--theme-code-foreground, var(--jp-content-font-color1, black)));\n",
       "  --sklearn-color-icon: #696969;\n",
       "\n",
       "  @media (prefers-color-scheme: dark) {\n",
       "    /* Redefinition of color scheme for dark theme */\n",
       "    --sklearn-color-text-on-default-background: var(--sg-text-color, var(--theme-code-foreground, var(--jp-content-font-color1, white)));\n",
       "    --sklearn-color-background: var(--sg-background-color, var(--theme-background, var(--jp-layout-color0, #111)));\n",
       "    --sklearn-color-border-box: var(--sg-text-color, var(--theme-code-foreground, var(--jp-content-font-color1, white)));\n",
       "    --sklearn-color-icon: #878787;\n",
       "  }\n",
       "}\n",
       "\n",
       "#sk-container-id-1 {\n",
       "  color: var(--sklearn-color-text);\n",
       "}\n",
       "\n",
       "#sk-container-id-1 pre {\n",
       "  padding: 0;\n",
       "}\n",
       "\n",
       "#sk-container-id-1 input.sk-hidden--visually {\n",
       "  border: 0;\n",
       "  clip: rect(1px 1px 1px 1px);\n",
       "  clip: rect(1px, 1px, 1px, 1px);\n",
       "  height: 1px;\n",
       "  margin: -1px;\n",
       "  overflow: hidden;\n",
       "  padding: 0;\n",
       "  position: absolute;\n",
       "  width: 1px;\n",
       "}\n",
       "\n",
       "#sk-container-id-1 div.sk-dashed-wrapped {\n",
       "  border: 1px dashed var(--sklearn-color-line);\n",
       "  margin: 0 0.4em 0.5em 0.4em;\n",
       "  box-sizing: border-box;\n",
       "  padding-bottom: 0.4em;\n",
       "  background-color: var(--sklearn-color-background);\n",
       "}\n",
       "\n",
       "#sk-container-id-1 div.sk-container {\n",
       "  /* jupyter's `normalize.less` sets `[hidden] { display: none; }`\n",
       "     but bootstrap.min.css set `[hidden] { display: none !important; }`\n",
       "     so we also need the `!important` here to be able to override the\n",
       "     default hidden behavior on the sphinx rendered scikit-learn.org.\n",
       "     See: https://github.com/scikit-learn/scikit-learn/issues/21755 */\n",
       "  display: inline-block !important;\n",
       "  position: relative;\n",
       "}\n",
       "\n",
       "#sk-container-id-1 div.sk-text-repr-fallback {\n",
       "  display: none;\n",
       "}\n",
       "\n",
       "div.sk-parallel-item,\n",
       "div.sk-serial,\n",
       "div.sk-item {\n",
       "  /* draw centered vertical line to link estimators */\n",
       "  background-image: linear-gradient(var(--sklearn-color-text-on-default-background), var(--sklearn-color-text-on-default-background));\n",
       "  background-size: 2px 100%;\n",
       "  background-repeat: no-repeat;\n",
       "  background-position: center center;\n",
       "}\n",
       "\n",
       "/* Parallel-specific style estimator block */\n",
       "\n",
       "#sk-container-id-1 div.sk-parallel-item::after {\n",
       "  content: \"\";\n",
       "  width: 100%;\n",
       "  border-bottom: 2px solid var(--sklearn-color-text-on-default-background);\n",
       "  flex-grow: 1;\n",
       "}\n",
       "\n",
       "#sk-container-id-1 div.sk-parallel {\n",
       "  display: flex;\n",
       "  align-items: stretch;\n",
       "  justify-content: center;\n",
       "  background-color: var(--sklearn-color-background);\n",
       "  position: relative;\n",
       "}\n",
       "\n",
       "#sk-container-id-1 div.sk-parallel-item {\n",
       "  display: flex;\n",
       "  flex-direction: column;\n",
       "}\n",
       "\n",
       "#sk-container-id-1 div.sk-parallel-item:first-child::after {\n",
       "  align-self: flex-end;\n",
       "  width: 50%;\n",
       "}\n",
       "\n",
       "#sk-container-id-1 div.sk-parallel-item:last-child::after {\n",
       "  align-self: flex-start;\n",
       "  width: 50%;\n",
       "}\n",
       "\n",
       "#sk-container-id-1 div.sk-parallel-item:only-child::after {\n",
       "  width: 0;\n",
       "}\n",
       "\n",
       "/* Serial-specific style estimator block */\n",
       "\n",
       "#sk-container-id-1 div.sk-serial {\n",
       "  display: flex;\n",
       "  flex-direction: column;\n",
       "  align-items: center;\n",
       "  background-color: var(--sklearn-color-background);\n",
       "  padding-right: 1em;\n",
       "  padding-left: 1em;\n",
       "}\n",
       "\n",
       "\n",
       "/* Toggleable style: style used for estimator/Pipeline/ColumnTransformer box that is\n",
       "clickable and can be expanded/collapsed.\n",
       "- Pipeline and ColumnTransformer use this feature and define the default style\n",
       "- Estimators will overwrite some part of the style using the `sk-estimator` class\n",
       "*/\n",
       "\n",
       "/* Pipeline and ColumnTransformer style (default) */\n",
       "\n",
       "#sk-container-id-1 div.sk-toggleable {\n",
       "  /* Default theme specific background. It is overwritten whether we have a\n",
       "  specific estimator or a Pipeline/ColumnTransformer */\n",
       "  background-color: var(--sklearn-color-background);\n",
       "}\n",
       "\n",
       "/* Toggleable label */\n",
       "#sk-container-id-1 label.sk-toggleable__label {\n",
       "  cursor: pointer;\n",
       "  display: block;\n",
       "  width: 100%;\n",
       "  margin-bottom: 0;\n",
       "  padding: 0.5em;\n",
       "  box-sizing: border-box;\n",
       "  text-align: center;\n",
       "}\n",
       "\n",
       "#sk-container-id-1 label.sk-toggleable__label-arrow:before {\n",
       "  /* Arrow on the left of the label */\n",
       "  content: \"▸\";\n",
       "  float: left;\n",
       "  margin-right: 0.25em;\n",
       "  color: var(--sklearn-color-icon);\n",
       "}\n",
       "\n",
       "#sk-container-id-1 label.sk-toggleable__label-arrow:hover:before {\n",
       "  color: var(--sklearn-color-text);\n",
       "}\n",
       "\n",
       "/* Toggleable content - dropdown */\n",
       "\n",
       "#sk-container-id-1 div.sk-toggleable__content {\n",
       "  max-height: 0;\n",
       "  max-width: 0;\n",
       "  overflow: hidden;\n",
       "  text-align: left;\n",
       "  /* unfitted */\n",
       "  background-color: var(--sklearn-color-unfitted-level-0);\n",
       "}\n",
       "\n",
       "#sk-container-id-1 div.sk-toggleable__content.fitted {\n",
       "  /* fitted */\n",
       "  background-color: var(--sklearn-color-fitted-level-0);\n",
       "}\n",
       "\n",
       "#sk-container-id-1 div.sk-toggleable__content pre {\n",
       "  margin: 0.2em;\n",
       "  border-radius: 0.25em;\n",
       "  color: var(--sklearn-color-text);\n",
       "  /* unfitted */\n",
       "  background-color: var(--sklearn-color-unfitted-level-0);\n",
       "}\n",
       "\n",
       "#sk-container-id-1 div.sk-toggleable__content.fitted pre {\n",
       "  /* unfitted */\n",
       "  background-color: var(--sklearn-color-fitted-level-0);\n",
       "}\n",
       "\n",
       "#sk-container-id-1 input.sk-toggleable__control:checked~div.sk-toggleable__content {\n",
       "  /* Expand drop-down */\n",
       "  max-height: 200px;\n",
       "  max-width: 100%;\n",
       "  overflow: auto;\n",
       "}\n",
       "\n",
       "#sk-container-id-1 input.sk-toggleable__control:checked~label.sk-toggleable__label-arrow:before {\n",
       "  content: \"▾\";\n",
       "}\n",
       "\n",
       "/* Pipeline/ColumnTransformer-specific style */\n",
       "\n",
       "#sk-container-id-1 div.sk-label input.sk-toggleable__control:checked~label.sk-toggleable__label {\n",
       "  color: var(--sklearn-color-text);\n",
       "  background-color: var(--sklearn-color-unfitted-level-2);\n",
       "}\n",
       "\n",
       "#sk-container-id-1 div.sk-label.fitted input.sk-toggleable__control:checked~label.sk-toggleable__label {\n",
       "  background-color: var(--sklearn-color-fitted-level-2);\n",
       "}\n",
       "\n",
       "/* Estimator-specific style */\n",
       "\n",
       "/* Colorize estimator box */\n",
       "#sk-container-id-1 div.sk-estimator input.sk-toggleable__control:checked~label.sk-toggleable__label {\n",
       "  /* unfitted */\n",
       "  background-color: var(--sklearn-color-unfitted-level-2);\n",
       "}\n",
       "\n",
       "#sk-container-id-1 div.sk-estimator.fitted input.sk-toggleable__control:checked~label.sk-toggleable__label {\n",
       "  /* fitted */\n",
       "  background-color: var(--sklearn-color-fitted-level-2);\n",
       "}\n",
       "\n",
       "#sk-container-id-1 div.sk-label label.sk-toggleable__label,\n",
       "#sk-container-id-1 div.sk-label label {\n",
       "  /* The background is the default theme color */\n",
       "  color: var(--sklearn-color-text-on-default-background);\n",
       "}\n",
       "\n",
       "/* On hover, darken the color of the background */\n",
       "#sk-container-id-1 div.sk-label:hover label.sk-toggleable__label {\n",
       "  color: var(--sklearn-color-text);\n",
       "  background-color: var(--sklearn-color-unfitted-level-2);\n",
       "}\n",
       "\n",
       "/* Label box, darken color on hover, fitted */\n",
       "#sk-container-id-1 div.sk-label.fitted:hover label.sk-toggleable__label.fitted {\n",
       "  color: var(--sklearn-color-text);\n",
       "  background-color: var(--sklearn-color-fitted-level-2);\n",
       "}\n",
       "\n",
       "/* Estimator label */\n",
       "\n",
       "#sk-container-id-1 div.sk-label label {\n",
       "  font-family: monospace;\n",
       "  font-weight: bold;\n",
       "  display: inline-block;\n",
       "  line-height: 1.2em;\n",
       "}\n",
       "\n",
       "#sk-container-id-1 div.sk-label-container {\n",
       "  text-align: center;\n",
       "}\n",
       "\n",
       "/* Estimator-specific */\n",
       "#sk-container-id-1 div.sk-estimator {\n",
       "  font-family: monospace;\n",
       "  border: 1px dotted var(--sklearn-color-border-box);\n",
       "  border-radius: 0.25em;\n",
       "  box-sizing: border-box;\n",
       "  margin-bottom: 0.5em;\n",
       "  /* unfitted */\n",
       "  background-color: var(--sklearn-color-unfitted-level-0);\n",
       "}\n",
       "\n",
       "#sk-container-id-1 div.sk-estimator.fitted {\n",
       "  /* fitted */\n",
       "  background-color: var(--sklearn-color-fitted-level-0);\n",
       "}\n",
       "\n",
       "/* on hover */\n",
       "#sk-container-id-1 div.sk-estimator:hover {\n",
       "  /* unfitted */\n",
       "  background-color: var(--sklearn-color-unfitted-level-2);\n",
       "}\n",
       "\n",
       "#sk-container-id-1 div.sk-estimator.fitted:hover {\n",
       "  /* fitted */\n",
       "  background-color: var(--sklearn-color-fitted-level-2);\n",
       "}\n",
       "\n",
       "/* Specification for estimator info (e.g. \"i\" and \"?\") */\n",
       "\n",
       "/* Common style for \"i\" and \"?\" */\n",
       "\n",
       ".sk-estimator-doc-link,\n",
       "a:link.sk-estimator-doc-link,\n",
       "a:visited.sk-estimator-doc-link {\n",
       "  float: right;\n",
       "  font-size: smaller;\n",
       "  line-height: 1em;\n",
       "  font-family: monospace;\n",
       "  background-color: var(--sklearn-color-background);\n",
       "  border-radius: 1em;\n",
       "  height: 1em;\n",
       "  width: 1em;\n",
       "  text-decoration: none !important;\n",
       "  margin-left: 1ex;\n",
       "  /* unfitted */\n",
       "  border: var(--sklearn-color-unfitted-level-1) 1pt solid;\n",
       "  color: var(--sklearn-color-unfitted-level-1);\n",
       "}\n",
       "\n",
       ".sk-estimator-doc-link.fitted,\n",
       "a:link.sk-estimator-doc-link.fitted,\n",
       "a:visited.sk-estimator-doc-link.fitted {\n",
       "  /* fitted */\n",
       "  border: var(--sklearn-color-fitted-level-1) 1pt solid;\n",
       "  color: var(--sklearn-color-fitted-level-1);\n",
       "}\n",
       "\n",
       "/* On hover */\n",
       "div.sk-estimator:hover .sk-estimator-doc-link:hover,\n",
       ".sk-estimator-doc-link:hover,\n",
       "div.sk-label-container:hover .sk-estimator-doc-link:hover,\n",
       ".sk-estimator-doc-link:hover {\n",
       "  /* unfitted */\n",
       "  background-color: var(--sklearn-color-unfitted-level-3);\n",
       "  color: var(--sklearn-color-background);\n",
       "  text-decoration: none;\n",
       "}\n",
       "\n",
       "div.sk-estimator.fitted:hover .sk-estimator-doc-link.fitted:hover,\n",
       ".sk-estimator-doc-link.fitted:hover,\n",
       "div.sk-label-container:hover .sk-estimator-doc-link.fitted:hover,\n",
       ".sk-estimator-doc-link.fitted:hover {\n",
       "  /* fitted */\n",
       "  background-color: var(--sklearn-color-fitted-level-3);\n",
       "  color: var(--sklearn-color-background);\n",
       "  text-decoration: none;\n",
       "}\n",
       "\n",
       "/* Span, style for the box shown on hovering the info icon */\n",
       ".sk-estimator-doc-link span {\n",
       "  display: none;\n",
       "  z-index: 9999;\n",
       "  position: relative;\n",
       "  font-weight: normal;\n",
       "  right: .2ex;\n",
       "  padding: .5ex;\n",
       "  margin: .5ex;\n",
       "  width: min-content;\n",
       "  min-width: 20ex;\n",
       "  max-width: 50ex;\n",
       "  color: var(--sklearn-color-text);\n",
       "  box-shadow: 2pt 2pt 4pt #999;\n",
       "  /* unfitted */\n",
       "  background: var(--sklearn-color-unfitted-level-0);\n",
       "  border: .5pt solid var(--sklearn-color-unfitted-level-3);\n",
       "}\n",
       "\n",
       ".sk-estimator-doc-link.fitted span {\n",
       "  /* fitted */\n",
       "  background: var(--sklearn-color-fitted-level-0);\n",
       "  border: var(--sklearn-color-fitted-level-3);\n",
       "}\n",
       "\n",
       ".sk-estimator-doc-link:hover span {\n",
       "  display: block;\n",
       "}\n",
       "\n",
       "/* \"?\"-specific style due to the `<a>` HTML tag */\n",
       "\n",
       "#sk-container-id-1 a.estimator_doc_link {\n",
       "  float: right;\n",
       "  font-size: 1rem;\n",
       "  line-height: 1em;\n",
       "  font-family: monospace;\n",
       "  background-color: var(--sklearn-color-background);\n",
       "  border-radius: 1rem;\n",
       "  height: 1rem;\n",
       "  width: 1rem;\n",
       "  text-decoration: none;\n",
       "  /* unfitted */\n",
       "  color: var(--sklearn-color-unfitted-level-1);\n",
       "  border: var(--sklearn-color-unfitted-level-1) 1pt solid;\n",
       "}\n",
       "\n",
       "#sk-container-id-1 a.estimator_doc_link.fitted {\n",
       "  /* fitted */\n",
       "  border: var(--sklearn-color-fitted-level-1) 1pt solid;\n",
       "  color: var(--sklearn-color-fitted-level-1);\n",
       "}\n",
       "\n",
       "/* On hover */\n",
       "#sk-container-id-1 a.estimator_doc_link:hover {\n",
       "  /* unfitted */\n",
       "  background-color: var(--sklearn-color-unfitted-level-3);\n",
       "  color: var(--sklearn-color-background);\n",
       "  text-decoration: none;\n",
       "}\n",
       "\n",
       "#sk-container-id-1 a.estimator_doc_link.fitted:hover {\n",
       "  /* fitted */\n",
       "  background-color: var(--sklearn-color-fitted-level-3);\n",
       "}\n",
       "</style><div id=\"sk-container-id-1\" class=\"sk-top-container\"><div class=\"sk-text-repr-fallback\"><pre>Pipeline(steps=[(&#x27;preprocessor&#x27;,\n",
       "                 ColumnTransformer(remainder=&#x27;passthrough&#x27;,\n",
       "                                   transformers=[(&#x27;ohe&#x27;,\n",
       "                                                  Pipeline(steps=[(&#x27;simpleImputer_ohe&#x27;,\n",
       "                                                                   SimpleImputer(fill_value=&#x27;unknown&#x27;,\n",
       "                                                                                 strategy=&#x27;constant&#x27;)),\n",
       "                                                                  (&#x27;ohe&#x27;,\n",
       "                                                                   OneHotEncoder(drop=&#x27;first&#x27;,\n",
       "                                                                                 handle_unknown=&#x27;ignore&#x27;,\n",
       "                                                                                 sparse_output=False))]),\n",
       "                                                  [&#x27;vehicle_type&#x27;, &#x27;gearbox&#x27;,\n",
       "                                                   &#x27;model&#x27;, &#x27;fuel_type&#x27;,\n",
       "                                                   &#x27;brand&#x27;, &#x27;repaired&#x27;]),\n",
       "                                                 (&#x27;num&#x27;, &#x27;passthrough&#x27;,\n",
       "                                                  [&#x27;registration_year&#x27;, &#x27;power&#x27;,\n",
       "                                                   &#x27;kilometer&#x27;])])),\n",
       "                (&#x27;models&#x27;, LGBMRegressor(num_leaves=50, random_state=42))])</pre><b>In a Jupyter environment, please rerun this cell to show the HTML representation or trust the notebook. <br />On GitHub, the HTML representation is unable to render, please try loading this page with nbviewer.org.</b></div><div class=\"sk-container\" hidden><div class=\"sk-item sk-dashed-wrapped\"><div class=\"sk-label-container\"><div class=\"sk-label fitted sk-toggleable\"><input class=\"sk-toggleable__control sk-hidden--visually\" id=\"sk-estimator-id-1\" type=\"checkbox\" ><label for=\"sk-estimator-id-1\" class=\"sk-toggleable__label fitted sk-toggleable__label-arrow fitted\">&nbsp;&nbsp;Pipeline<a class=\"sk-estimator-doc-link fitted\" rel=\"noreferrer\" target=\"_blank\" href=\"https://scikit-learn.org/1.5/modules/generated/sklearn.pipeline.Pipeline.html\">?<span>Documentation for Pipeline</span></a><span class=\"sk-estimator-doc-link fitted\">i<span>Fitted</span></span></label><div class=\"sk-toggleable__content fitted\"><pre>Pipeline(steps=[(&#x27;preprocessor&#x27;,\n",
       "                 ColumnTransformer(remainder=&#x27;passthrough&#x27;,\n",
       "                                   transformers=[(&#x27;ohe&#x27;,\n",
       "                                                  Pipeline(steps=[(&#x27;simpleImputer_ohe&#x27;,\n",
       "                                                                   SimpleImputer(fill_value=&#x27;unknown&#x27;,\n",
       "                                                                                 strategy=&#x27;constant&#x27;)),\n",
       "                                                                  (&#x27;ohe&#x27;,\n",
       "                                                                   OneHotEncoder(drop=&#x27;first&#x27;,\n",
       "                                                                                 handle_unknown=&#x27;ignore&#x27;,\n",
       "                                                                                 sparse_output=False))]),\n",
       "                                                  [&#x27;vehicle_type&#x27;, &#x27;gearbox&#x27;,\n",
       "                                                   &#x27;model&#x27;, &#x27;fuel_type&#x27;,\n",
       "                                                   &#x27;brand&#x27;, &#x27;repaired&#x27;]),\n",
       "                                                 (&#x27;num&#x27;, &#x27;passthrough&#x27;,\n",
       "                                                  [&#x27;registration_year&#x27;, &#x27;power&#x27;,\n",
       "                                                   &#x27;kilometer&#x27;])])),\n",
       "                (&#x27;models&#x27;, LGBMRegressor(num_leaves=50, random_state=42))])</pre></div> </div></div><div class=\"sk-serial\"><div class=\"sk-item sk-dashed-wrapped\"><div class=\"sk-label-container\"><div class=\"sk-label fitted sk-toggleable\"><input class=\"sk-toggleable__control sk-hidden--visually\" id=\"sk-estimator-id-2\" type=\"checkbox\" ><label for=\"sk-estimator-id-2\" class=\"sk-toggleable__label fitted sk-toggleable__label-arrow fitted\">&nbsp;preprocessor: ColumnTransformer<a class=\"sk-estimator-doc-link fitted\" rel=\"noreferrer\" target=\"_blank\" href=\"https://scikit-learn.org/1.5/modules/generated/sklearn.compose.ColumnTransformer.html\">?<span>Documentation for preprocessor: ColumnTransformer</span></a></label><div class=\"sk-toggleable__content fitted\"><pre>ColumnTransformer(remainder=&#x27;passthrough&#x27;,\n",
       "                  transformers=[(&#x27;ohe&#x27;,\n",
       "                                 Pipeline(steps=[(&#x27;simpleImputer_ohe&#x27;,\n",
       "                                                  SimpleImputer(fill_value=&#x27;unknown&#x27;,\n",
       "                                                                strategy=&#x27;constant&#x27;)),\n",
       "                                                 (&#x27;ohe&#x27;,\n",
       "                                                  OneHotEncoder(drop=&#x27;first&#x27;,\n",
       "                                                                handle_unknown=&#x27;ignore&#x27;,\n",
       "                                                                sparse_output=False))]),\n",
       "                                 [&#x27;vehicle_type&#x27;, &#x27;gearbox&#x27;, &#x27;model&#x27;,\n",
       "                                  &#x27;fuel_type&#x27;, &#x27;brand&#x27;, &#x27;repaired&#x27;]),\n",
       "                                (&#x27;num&#x27;, &#x27;passthrough&#x27;,\n",
       "                                 [&#x27;registration_year&#x27;, &#x27;power&#x27;, &#x27;kilometer&#x27;])])</pre></div> </div></div><div class=\"sk-parallel\"><div class=\"sk-parallel-item\"><div class=\"sk-item\"><div class=\"sk-label-container\"><div class=\"sk-label fitted sk-toggleable\"><input class=\"sk-toggleable__control sk-hidden--visually\" id=\"sk-estimator-id-3\" type=\"checkbox\" ><label for=\"sk-estimator-id-3\" class=\"sk-toggleable__label fitted sk-toggleable__label-arrow fitted\">ohe</label><div class=\"sk-toggleable__content fitted\"><pre>[&#x27;vehicle_type&#x27;, &#x27;gearbox&#x27;, &#x27;model&#x27;, &#x27;fuel_type&#x27;, &#x27;brand&#x27;, &#x27;repaired&#x27;]</pre></div> </div></div><div class=\"sk-serial\"><div class=\"sk-item\"><div class=\"sk-serial\"><div class=\"sk-item\"><div class=\"sk-estimator fitted sk-toggleable\"><input class=\"sk-toggleable__control sk-hidden--visually\" id=\"sk-estimator-id-4\" type=\"checkbox\" ><label for=\"sk-estimator-id-4\" class=\"sk-toggleable__label fitted sk-toggleable__label-arrow fitted\">&nbsp;SimpleImputer<a class=\"sk-estimator-doc-link fitted\" rel=\"noreferrer\" target=\"_blank\" href=\"https://scikit-learn.org/1.5/modules/generated/sklearn.impute.SimpleImputer.html\">?<span>Documentation for SimpleImputer</span></a></label><div class=\"sk-toggleable__content fitted\"><pre>SimpleImputer(fill_value=&#x27;unknown&#x27;, strategy=&#x27;constant&#x27;)</pre></div> </div></div><div class=\"sk-item\"><div class=\"sk-estimator fitted sk-toggleable\"><input class=\"sk-toggleable__control sk-hidden--visually\" id=\"sk-estimator-id-5\" type=\"checkbox\" ><label for=\"sk-estimator-id-5\" class=\"sk-toggleable__label fitted sk-toggleable__label-arrow fitted\">&nbsp;OneHotEncoder<a class=\"sk-estimator-doc-link fitted\" rel=\"noreferrer\" target=\"_blank\" href=\"https://scikit-learn.org/1.5/modules/generated/sklearn.preprocessing.OneHotEncoder.html\">?<span>Documentation for OneHotEncoder</span></a></label><div class=\"sk-toggleable__content fitted\"><pre>OneHotEncoder(drop=&#x27;first&#x27;, handle_unknown=&#x27;ignore&#x27;, sparse_output=False)</pre></div> </div></div></div></div></div></div></div><div class=\"sk-parallel-item\"><div class=\"sk-item\"><div class=\"sk-label-container\"><div class=\"sk-label fitted sk-toggleable\"><input class=\"sk-toggleable__control sk-hidden--visually\" id=\"sk-estimator-id-6\" type=\"checkbox\" ><label for=\"sk-estimator-id-6\" class=\"sk-toggleable__label fitted sk-toggleable__label-arrow fitted\">num</label><div class=\"sk-toggleable__content fitted\"><pre>[&#x27;registration_year&#x27;, &#x27;power&#x27;, &#x27;kilometer&#x27;]</pre></div> </div></div><div class=\"sk-serial\"><div class=\"sk-item\"><div class=\"sk-estimator fitted sk-toggleable\"><input class=\"sk-toggleable__control sk-hidden--visually\" id=\"sk-estimator-id-7\" type=\"checkbox\" ><label for=\"sk-estimator-id-7\" class=\"sk-toggleable__label fitted sk-toggleable__label-arrow fitted\">passthrough</label><div class=\"sk-toggleable__content fitted\"><pre>passthrough</pre></div> </div></div></div></div></div><div class=\"sk-parallel-item\"><div class=\"sk-item\"><div class=\"sk-label-container\"><div class=\"sk-label fitted sk-toggleable\"><input class=\"sk-toggleable__control sk-hidden--visually\" id=\"sk-estimator-id-8\" type=\"checkbox\" ><label for=\"sk-estimator-id-8\" class=\"sk-toggleable__label fitted sk-toggleable__label-arrow fitted\">remainder</label><div class=\"sk-toggleable__content fitted\"><pre>[]</pre></div> </div></div><div class=\"sk-serial\"><div class=\"sk-item\"><div class=\"sk-estimator fitted sk-toggleable\"><input class=\"sk-toggleable__control sk-hidden--visually\" id=\"sk-estimator-id-9\" type=\"checkbox\" ><label for=\"sk-estimator-id-9\" class=\"sk-toggleable__label fitted sk-toggleable__label-arrow fitted\">passthrough</label><div class=\"sk-toggleable__content fitted\"><pre>passthrough</pre></div> </div></div></div></div></div></div></div><div class=\"sk-item\"><div class=\"sk-estimator fitted sk-toggleable\"><input class=\"sk-toggleable__control sk-hidden--visually\" id=\"sk-estimator-id-10\" type=\"checkbox\" ><label for=\"sk-estimator-id-10\" class=\"sk-toggleable__label fitted sk-toggleable__label-arrow fitted\">LGBMRegressor</label><div class=\"sk-toggleable__content fitted\"><pre>LGBMRegressor(num_leaves=50, random_state=42)</pre></div> </div></div></div></div></div></div>"
      ],
      "text/plain": [
       "Pipeline(steps=[('preprocessor',\n",
       "                 ColumnTransformer(remainder='passthrough',\n",
       "                                   transformers=[('ohe',\n",
       "                                                  Pipeline(steps=[('simpleImputer_ohe',\n",
       "                                                                   SimpleImputer(fill_value='unknown',\n",
       "                                                                                 strategy='constant')),\n",
       "                                                                  ('ohe',\n",
       "                                                                   OneHotEncoder(drop='first',\n",
       "                                                                                 handle_unknown='ignore',\n",
       "                                                                                 sparse_output=False))]),\n",
       "                                                  ['vehicle_type', 'gearbox',\n",
       "                                                   'model', 'fuel_type',\n",
       "                                                   'brand', 'repaired']),\n",
       "                                                 ('num', 'passthrough',\n",
       "                                                  ['registration_year', 'power',\n",
       "                                                   'kilometer'])])),\n",
       "                ('models', LGBMRegressor(num_leaves=50, random_state=42))])"
      ]
     },
     "execution_count": 35,
     "metadata": {},
     "output_type": "execute_result"
    }
   ],
   "source": [
    "random_search.best_estimator_"
   ]
  },
  {
   "cell_type": "code",
   "execution_count": 36,
   "metadata": {},
   "outputs": [
    {
     "name": "stdout",
     "output_type": "stream",
     "text": [
      "Параметры лучшей модели по метрике {'preprocessor__num': 'passthrough', 'models__num_leaves': 50, 'models__learning_rate': 0.1, 'models': LGBMRegressor(random_state=42)}\n"
     ]
    }
   ],
   "source": [
    "print(f'Параметры лучшей модели по метрике {random_search.best_params_}')"
   ]
  },
  {
   "cell_type": "markdown",
   "metadata": {},
   "source": [
    "**Вывод:** На данных была обучена и выбрана модель, имеющая следующие параметры  {'preprocessor__num': StandardScaler(), 'models__num_leaves': 50, 'models__learning_rate': 0.1, 'models': LGBMRegressor(random_state=42)}, модель выбиралась по метрике RMSE.\n",
    "\n"
   ]
  },
  {
   "cell_type": "markdown",
   "metadata": {},
   "source": [
    "## Анализ моделей"
   ]
  },
  {
   "cell_type": "markdown",
   "metadata": {},
   "source": [
    "Отсортируем по модели и выберем наиболее удачный алгоритм"
   ]
  },
  {
   "cell_type": "markdown",
   "metadata": {},
   "source": [
    "Наилучшее сочетание минимумов метрики и времени обучения демострирует алгоритм LGBMRegressor"
   ]
  },
  {
   "cell_type": "markdown",
   "metadata": {},
   "source": [
    "Используем данные по обучению cv_results, выведем отсортированную таблицу по метрике и времени работы модели:"
   ]
  },
  {
   "cell_type": "code",
   "execution_count": 37,
   "metadata": {},
   "outputs": [],
   "source": [
    "result = pd.DataFrame(random_search.cv_results_)\n",
    "\n",
    "pd.set_option('display.max_columns', None)\n",
    "pd.set_option('display.width', None)\n",
    "pd.set_option('display.max_colwidth', None)\n",
    "\n",
    "result['mean_test_score'] = abs(result['mean_test_score'])\n",
    "\n",
    "result['model'] = result['params'].apply(lambda x: x['models'].__class__.__name__)"
   ]
  },
  {
   "cell_type": "markdown",
   "metadata": {},
   "source": [
    "Параметры лучшей модели по метрике и по времени:\n",
    "\n",
    "Время: 0.56\n",
    "\n",
    "Метрика: 1710.755293\n",
    "    \n",
    "Параметры: **{'preprocessor__num': 'passthrough', 'models__num_leaves': 31, 'models__learning_rate': 0.1, 'models': LGBMRegressor(random_state=42)}**\t\n"
   ]
  },
  {
   "cell_type": "code",
   "execution_count": 38,
   "metadata": {},
   "outputs": [
    {
     "data": {
      "text/html": [
       "<div>\n",
       "<style scoped>\n",
       "    .dataframe tbody tr th:only-of-type {\n",
       "        vertical-align: middle;\n",
       "    }\n",
       "\n",
       "    .dataframe tbody tr th {\n",
       "        vertical-align: top;\n",
       "    }\n",
       "\n",
       "    .dataframe thead th {\n",
       "        text-align: right;\n",
       "    }\n",
       "</style>\n",
       "<table border=\"1\" class=\"dataframe\">\n",
       "  <thead>\n",
       "    <tr style=\"text-align: right;\">\n",
       "      <th></th>\n",
       "      <th>model</th>\n",
       "      <th>params</th>\n",
       "      <th>mean_test_score</th>\n",
       "      <th>mean_fit_time</th>\n",
       "      <th>mean_score_time</th>\n",
       "    </tr>\n",
       "  </thead>\n",
       "  <tbody>\n",
       "    <tr>\n",
       "      <th>10</th>\n",
       "      <td>DecisionTreeRegressor</td>\n",
       "      <td>{'preprocessor__num': StandardScaler(), 'models__max_features': 6, 'models__max_depth': 6, 'models': DecisionTreeRegressor(random_state=42)}</td>\n",
       "      <td>3712.870610</td>\n",
       "      <td>0.905322</td>\n",
       "      <td>0.216686</td>\n",
       "    </tr>\n",
       "    <tr>\n",
       "      <th>21</th>\n",
       "      <td>LGBMRegressor</td>\n",
       "      <td>{'preprocessor__num': 'passthrough', 'models__num_leaves': 50, 'models__learning_rate': 0.1, 'models': LGBMRegressor(random_state=42)}</td>\n",
       "      <td>1676.733369</td>\n",
       "      <td>52.402588</td>\n",
       "      <td>0.698376</td>\n",
       "    </tr>\n",
       "    <tr>\n",
       "      <th>12</th>\n",
       "      <td>LinearRegression</td>\n",
       "      <td>{'preprocessor__num': StandardScaler(), 'models': LinearRegression()}</td>\n",
       "      <td>2654.319355</td>\n",
       "      <td>14.519855</td>\n",
       "      <td>0.356195</td>\n",
       "    </tr>\n",
       "  </tbody>\n",
       "</table>\n",
       "</div>"
      ],
      "text/plain": [
       "                    model  \\\n",
       "10  DecisionTreeRegressor   \n",
       "21          LGBMRegressor   \n",
       "12       LinearRegression   \n",
       "\n",
       "                                                                                                                                          params  \\\n",
       "10  {'preprocessor__num': StandardScaler(), 'models__max_features': 6, 'models__max_depth': 6, 'models': DecisionTreeRegressor(random_state=42)}   \n",
       "21        {'preprocessor__num': 'passthrough', 'models__num_leaves': 50, 'models__learning_rate': 0.1, 'models': LGBMRegressor(random_state=42)}   \n",
       "12                                                                         {'preprocessor__num': StandardScaler(), 'models': LinearRegression()}   \n",
       "\n",
       "    mean_test_score  mean_fit_time  mean_score_time  \n",
       "10      3712.870610       0.905322         0.216686  \n",
       "21      1676.733369      52.402588         0.698376  \n",
       "12      2654.319355      14.519855         0.356195  "
      ]
     },
     "metadata": {},
     "output_type": "display_data"
    }
   ],
   "source": [
    "best_indices = result.groupby('model')['mean_test_score'].idxmin()\n",
    "best_models = result.iloc[best_indices]\n",
    "display(best_models[['model','params', 'mean_test_score', 'mean_fit_time', 'mean_score_time']])"
   ]
  },
  {
   "cell_type": "markdown",
   "metadata": {},
   "source": [
    "Проверка качества лучшей модели на тестовой выборке:\n"
   ]
  },
  {
   "cell_type": "code",
   "execution_count": 92,
   "metadata": {},
   "outputs": [
    {
     "name": "stdout",
     "output_type": "stream",
     "text": [
      "Метрика RMSE на тестовой выборке: 1648.7606645128596\n",
      "Время потраченное на применение модели: 0.9685 секунд\n"
     ]
    }
   ],
   "source": [
    "start_time = time.time()\n",
    "y_pred = random_search.predict(X_test)\n",
    "end_time = time.time()\n",
    "print(f'Метрика RMSE на тестовой выборке: {np.sqrt(mean_squared_error(y_test, y_pred))}')\n",
    "print(f'Время потраченное на применение модели: {end_time - start_time:.4f} секунд')"
   ]
  },
  {
   "cell_type": "markdown",
   "metadata": {},
   "source": [
    "**Вывод: модель работает качественно, т.к. значение метрики RMSE и на тренировочной и на тестовой выборке менее 2500, что соответствует условиям задачи, обучение модели с отбором гиперпараметров показало, что наибольшую пригодность для текущей задачи показывает метод LGBMRegressor.**\n",
    "\n",
    "* Время потраченное на отбор и обучение составляло примерно 8 минут\n",
    "* Время применения модели менее секунды"
   ]
  }
 ],
 "metadata": {
  "ExecuteTimeLog": [
   {
    "duration": 3207,
    "start_time": "2024-10-25T13:29:41.817Z"
   },
   {
    "duration": 108,
    "start_time": "2024-10-25T13:30:31.143Z"
   },
   {
    "duration": 97,
    "start_time": "2024-10-25T13:30:50.417Z"
   },
   {
    "duration": 108,
    "start_time": "2024-10-25T13:32:06.829Z"
   },
   {
    "duration": 11,
    "start_time": "2024-10-25T13:37:23.086Z"
   },
   {
    "duration": 129,
    "start_time": "2024-10-25T13:37:29.818Z"
   },
   {
    "duration": 103,
    "start_time": "2024-10-25T13:38:13.321Z"
   },
   {
    "duration": 34,
    "start_time": "2024-10-25T13:45:03.280Z"
   },
   {
    "duration": 59,
    "start_time": "2024-10-25T13:45:54.241Z"
   },
   {
    "duration": 2,
    "start_time": "2024-10-25T13:46:42.965Z"
   },
   {
    "duration": 106,
    "start_time": "2024-10-25T13:46:45.831Z"
   },
   {
    "duration": 775,
    "start_time": "2024-10-25T13:52:21.698Z"
   },
   {
    "duration": 108,
    "start_time": "2024-10-25T13:52:33.214Z"
   },
   {
    "duration": 7,
    "start_time": "2024-10-25T13:52:35.647Z"
   },
   {
    "duration": 4,
    "start_time": "2024-10-25T13:53:44.244Z"
   },
   {
    "duration": 96,
    "start_time": "2024-10-25T13:53:47.394Z"
   },
   {
    "duration": 24,
    "start_time": "2024-10-25T13:54:17.036Z"
   },
   {
    "duration": 4,
    "start_time": "2024-10-25T13:54:43.849Z"
   },
   {
    "duration": 19,
    "start_time": "2024-10-25T13:55:20.761Z"
   },
   {
    "duration": 31,
    "start_time": "2024-10-25T13:56:01.311Z"
   },
   {
    "duration": 53,
    "start_time": "2024-10-25T13:59:10.496Z"
   },
   {
    "duration": 64,
    "start_time": "2024-10-25T14:00:24.281Z"
   },
   {
    "duration": 120,
    "start_time": "2024-10-25T14:03:44.054Z"
   },
   {
    "duration": 141,
    "start_time": "2024-10-25T14:06:17.099Z"
   },
   {
    "duration": 160,
    "start_time": "2024-10-25T14:06:44.783Z"
   },
   {
    "duration": 112,
    "start_time": "2024-10-25T16:21:13.491Z"
   },
   {
    "duration": 173,
    "start_time": "2024-10-25T16:25:29.111Z"
   },
   {
    "duration": 62,
    "start_time": "2024-10-25T16:26:11.105Z"
   },
   {
    "duration": 186,
    "start_time": "2024-10-25T16:26:16.057Z"
   },
   {
    "duration": 44,
    "start_time": "2024-10-25T16:26:49.113Z"
   },
   {
    "duration": 199,
    "start_time": "2024-10-25T16:27:33.311Z"
   },
   {
    "duration": 223,
    "start_time": "2024-10-25T16:29:29.899Z"
   },
   {
    "duration": 1394,
    "start_time": "2024-10-28T09:40:59.244Z"
   },
   {
    "duration": 10,
    "start_time": "2024-10-28T09:41:09.222Z"
   },
   {
    "duration": 274,
    "start_time": "2024-10-28T09:42:58.660Z"
   },
   {
    "duration": 49,
    "start_time": "2024-10-28T11:18:00.022Z"
   },
   {
    "duration": 1448,
    "start_time": "2024-10-28T11:18:03.323Z"
   },
   {
    "duration": 3205,
    "start_time": "2024-10-28T11:18:05.534Z"
   },
   {
    "duration": 137,
    "start_time": "2024-10-28T11:19:20.286Z"
   },
   {
    "duration": 4,
    "start_time": "2024-10-28T11:19:25.190Z"
   },
   {
    "duration": 133,
    "start_time": "2024-10-28T11:19:26.421Z"
   },
   {
    "duration": 23,
    "start_time": "2024-10-28T11:19:30.116Z"
   },
   {
    "duration": 4,
    "start_time": "2024-10-28T11:19:32.369Z"
   },
   {
    "duration": 134,
    "start_time": "2024-10-28T11:19:35.439Z"
   },
   {
    "duration": 203,
    "start_time": "2024-10-28T11:19:39.972Z"
   },
   {
    "duration": 1705,
    "start_time": "2024-10-28T11:21:45.091Z"
   },
   {
    "duration": 2154,
    "start_time": "2024-10-28T11:21:57.560Z"
   },
   {
    "duration": 2458,
    "start_time": "2024-10-28T11:22:04.423Z"
   },
   {
    "duration": 2697,
    "start_time": "2024-10-28T11:22:14.218Z"
   },
   {
    "duration": 2566,
    "start_time": "2024-10-28T11:22:23.729Z"
   },
   {
    "duration": 2458,
    "start_time": "2024-10-28T11:23:36.266Z"
   },
   {
    "duration": 2371,
    "start_time": "2024-10-28T11:24:22.163Z"
   },
   {
    "duration": 476,
    "start_time": "2024-10-28T11:26:52.491Z"
   },
   {
    "duration": 2436,
    "start_time": "2024-10-28T11:27:04.188Z"
   },
   {
    "duration": 4,
    "start_time": "2024-10-28T11:29:12.166Z"
   },
   {
    "duration": 4,
    "start_time": "2024-10-28T11:29:23.431Z"
   },
   {
    "duration": 10,
    "start_time": "2024-10-28T11:29:54.922Z"
   },
   {
    "duration": 17,
    "start_time": "2024-10-28T11:30:17.254Z"
   },
   {
    "duration": 35,
    "start_time": "2024-10-28T11:33:30.135Z"
   },
   {
    "duration": 163,
    "start_time": "2024-10-28T11:33:39.518Z"
   },
   {
    "duration": 16,
    "start_time": "2024-10-28T11:34:42.274Z"
   },
   {
    "duration": 21,
    "start_time": "2024-10-28T11:35:48.570Z"
   },
   {
    "duration": 18,
    "start_time": "2024-10-28T11:36:11.489Z"
   },
   {
    "duration": 21,
    "start_time": "2024-10-28T11:36:26.639Z"
   },
   {
    "duration": 16,
    "start_time": "2024-10-28T11:37:38.499Z"
   },
   {
    "duration": 27,
    "start_time": "2024-10-28T11:42:20.658Z"
   },
   {
    "duration": 21,
    "start_time": "2024-10-28T11:42:31.510Z"
   },
   {
    "duration": 25,
    "start_time": "2024-10-28T11:45:43.616Z"
   },
   {
    "duration": 5,
    "start_time": "2024-10-28T11:45:56.334Z"
   },
   {
    "duration": 896,
    "start_time": "2024-10-28T11:45:59.255Z"
   },
   {
    "duration": 134,
    "start_time": "2024-10-28T11:46:01.040Z"
   },
   {
    "duration": 4,
    "start_time": "2024-10-28T11:46:05.151Z"
   },
   {
    "duration": 177,
    "start_time": "2024-10-28T11:46:07.031Z"
   },
   {
    "duration": 23,
    "start_time": "2024-10-28T11:46:09.436Z"
   },
   {
    "duration": 4,
    "start_time": "2024-10-28T11:46:11.879Z"
   },
   {
    "duration": 149,
    "start_time": "2024-10-28T11:46:14.132Z"
   },
   {
    "duration": 217,
    "start_time": "2024-10-28T11:46:16.758Z"
   },
   {
    "duration": 225,
    "start_time": "2024-10-28T11:46:18.764Z"
   },
   {
    "duration": 2593,
    "start_time": "2024-10-28T11:46:21.137Z"
   },
   {
    "duration": 17,
    "start_time": "2024-10-28T11:46:24.781Z"
   },
   {
    "duration": 48,
    "start_time": "2024-10-28T11:46:29.382Z"
   },
   {
    "duration": 16,
    "start_time": "2024-10-28T11:46:32.358Z"
   },
   {
    "duration": 17,
    "start_time": "2024-10-28T11:46:34.817Z"
   },
   {
    "duration": 33,
    "start_time": "2024-10-28T11:46:40.140Z"
   },
   {
    "duration": 45,
    "start_time": "2024-10-28T11:47:00.797Z"
   },
   {
    "duration": 85,
    "start_time": "2024-10-28T11:50:45.251Z"
   },
   {
    "duration": 69,
    "start_time": "2024-10-28T11:51:49.393Z"
   },
   {
    "duration": 18,
    "start_time": "2024-10-28T11:52:12.740Z"
   },
   {
    "duration": 5,
    "start_time": "2024-10-28T11:52:22.945Z"
   },
   {
    "duration": 105,
    "start_time": "2024-10-28T11:55:07.158Z"
   },
   {
    "duration": 51,
    "start_time": "2024-10-28T11:55:21.629Z"
   },
   {
    "duration": 1681,
    "start_time": "2024-10-28T13:52:18.712Z"
   },
   {
    "duration": 2940,
    "start_time": "2024-10-28T13:52:20.396Z"
   },
   {
    "duration": 161,
    "start_time": "2024-10-28T13:52:23.337Z"
   },
   {
    "duration": 5,
    "start_time": "2024-10-28T13:52:23.500Z"
   },
   {
    "duration": 261,
    "start_time": "2024-10-28T13:52:23.506Z"
   },
   {
    "duration": 28,
    "start_time": "2024-10-28T13:52:23.769Z"
   },
   {
    "duration": 23,
    "start_time": "2024-10-28T13:52:23.799Z"
   },
   {
    "duration": 190,
    "start_time": "2024-10-28T13:52:23.824Z"
   },
   {
    "duration": 241,
    "start_time": "2024-10-28T13:52:24.016Z"
   },
   {
    "duration": 250,
    "start_time": "2024-10-28T13:52:24.260Z"
   },
   {
    "duration": 2623,
    "start_time": "2024-10-28T13:52:24.512Z"
   },
   {
    "duration": 18,
    "start_time": "2024-10-28T13:52:27.137Z"
   },
   {
    "duration": 66,
    "start_time": "2024-10-28T13:52:27.156Z"
   },
   {
    "duration": 17,
    "start_time": "2024-10-28T13:52:27.223Z"
   },
   {
    "duration": 42,
    "start_time": "2024-10-28T13:52:27.241Z"
   },
   {
    "duration": 48,
    "start_time": "2024-10-28T13:52:27.285Z"
   },
   {
    "duration": 92,
    "start_time": "2024-10-28T13:52:27.335Z"
   },
   {
    "duration": 5,
    "start_time": "2024-10-28T13:52:27.429Z"
   },
   {
    "duration": 115,
    "start_time": "2024-10-28T13:52:27.436Z"
   },
   {
    "duration": 182,
    "start_time": "2024-10-28T13:52:27.552Z"
   },
   {
    "duration": 5,
    "start_time": "2024-10-28T13:55:25.748Z"
   },
   {
    "duration": 9,
    "start_time": "2024-10-28T13:56:17.931Z"
   },
   {
    "duration": 655,
    "start_time": "2024-10-28T13:57:51.120Z"
   },
   {
    "duration": 20,
    "start_time": "2024-10-28T13:58:10.202Z"
   },
   {
    "duration": 23,
    "start_time": "2024-10-28T13:58:41.088Z"
   },
   {
    "duration": 1646,
    "start_time": "2024-10-28T13:59:07.509Z"
   },
   {
    "duration": 863,
    "start_time": "2024-10-28T13:59:27.065Z"
   },
   {
    "duration": 703,
    "start_time": "2024-10-28T14:00:22.730Z"
   },
   {
    "duration": 734,
    "start_time": "2024-10-28T14:01:30.606Z"
   },
   {
    "duration": 785,
    "start_time": "2024-10-28T14:01:58.552Z"
   },
   {
    "duration": 644,
    "start_time": "2024-10-28T14:02:53.105Z"
   },
   {
    "duration": 646,
    "start_time": "2024-10-28T14:02:59.530Z"
   },
   {
    "duration": 654,
    "start_time": "2024-10-28T14:03:17.777Z"
   },
   {
    "duration": 690,
    "start_time": "2024-10-28T14:03:29.109Z"
   },
   {
    "duration": 776,
    "start_time": "2024-10-28T14:03:39.235Z"
   },
   {
    "duration": 659,
    "start_time": "2024-10-28T14:04:38.988Z"
   },
   {
    "duration": 87,
    "start_time": "2024-10-28T14:06:03.870Z"
   },
   {
    "duration": 626,
    "start_time": "2024-10-28T14:06:10.331Z"
   },
   {
    "duration": 1564,
    "start_time": "2024-10-28T14:09:05.215Z"
   },
   {
    "duration": 936,
    "start_time": "2024-10-28T14:09:06.781Z"
   },
   {
    "duration": 172,
    "start_time": "2024-10-28T14:09:07.719Z"
   },
   {
    "duration": 4,
    "start_time": "2024-10-28T14:09:07.893Z"
   },
   {
    "duration": 198,
    "start_time": "2024-10-28T14:09:07.899Z"
   },
   {
    "duration": 29,
    "start_time": "2024-10-28T14:09:08.098Z"
   },
   {
    "duration": 9,
    "start_time": "2024-10-28T14:09:08.128Z"
   },
   {
    "duration": 160,
    "start_time": "2024-10-28T14:09:08.138Z"
   },
   {
    "duration": 225,
    "start_time": "2024-10-28T14:09:08.300Z"
   },
   {
    "duration": 244,
    "start_time": "2024-10-28T14:09:08.527Z"
   },
   {
    "duration": 261,
    "start_time": "2024-10-28T14:09:08.773Z"
   },
   {
    "duration": 2352,
    "start_time": "2024-10-28T14:09:09.036Z"
   },
   {
    "duration": 17,
    "start_time": "2024-10-28T14:09:11.390Z"
   },
   {
    "duration": 49,
    "start_time": "2024-10-28T14:09:11.411Z"
   },
   {
    "duration": 17,
    "start_time": "2024-10-28T14:09:11.462Z"
   },
   {
    "duration": 20,
    "start_time": "2024-10-28T14:09:11.481Z"
   },
   {
    "duration": 52,
    "start_time": "2024-10-28T14:09:11.502Z"
   },
   {
    "duration": 91,
    "start_time": "2024-10-28T14:09:11.556Z"
   },
   {
    "duration": 38,
    "start_time": "2024-10-28T14:09:11.649Z"
   },
   {
    "duration": 178,
    "start_time": "2024-10-28T14:09:11.689Z"
   },
   {
    "duration": 55,
    "start_time": "2024-10-28T14:09:11.868Z"
   },
   {
    "duration": 5,
    "start_time": "2024-10-28T14:09:11.925Z"
   },
   {
    "duration": 29,
    "start_time": "2024-10-28T14:09:11.932Z"
   },
   {
    "duration": 689,
    "start_time": "2024-10-28T14:09:11.963Z"
   },
   {
    "duration": 62,
    "start_time": "2024-10-28T14:16:05.812Z"
   },
   {
    "duration": 4,
    "start_time": "2024-10-28T14:17:59.452Z"
   },
   {
    "duration": 127,
    "start_time": "2024-10-28T14:22:15.894Z"
   },
   {
    "duration": 13,
    "start_time": "2024-10-28T14:22:27.704Z"
   },
   {
    "duration": 14,
    "start_time": "2024-10-28T14:22:37.579Z"
   },
   {
    "duration": 18,
    "start_time": "2024-10-28T14:22:52.456Z"
   },
   {
    "duration": 13,
    "start_time": "2024-10-28T14:23:07.539Z"
   },
   {
    "duration": 1481,
    "start_time": "2024-10-28T14:23:15.621Z"
   },
   {
    "duration": 945,
    "start_time": "2024-10-28T14:23:17.104Z"
   },
   {
    "duration": 154,
    "start_time": "2024-10-28T14:23:18.050Z"
   },
   {
    "duration": 14,
    "start_time": "2024-10-28T14:23:18.207Z"
   },
   {
    "duration": 172,
    "start_time": "2024-10-28T14:23:18.223Z"
   },
   {
    "duration": 25,
    "start_time": "2024-10-28T14:23:18.396Z"
   },
   {
    "duration": 16,
    "start_time": "2024-10-28T14:23:18.423Z"
   },
   {
    "duration": 146,
    "start_time": "2024-10-28T14:23:18.440Z"
   },
   {
    "duration": 206,
    "start_time": "2024-10-28T14:23:18.587Z"
   },
   {
    "duration": 232,
    "start_time": "2024-10-28T14:23:18.795Z"
   },
   {
    "duration": 248,
    "start_time": "2024-10-28T14:23:19.028Z"
   },
   {
    "duration": 1972,
    "start_time": "2024-10-28T14:23:19.278Z"
   },
   {
    "duration": 17,
    "start_time": "2024-10-28T14:23:21.252Z"
   },
   {
    "duration": 67,
    "start_time": "2024-10-28T14:23:21.270Z"
   },
   {
    "duration": 16,
    "start_time": "2024-10-28T14:23:21.339Z"
   },
   {
    "duration": 16,
    "start_time": "2024-10-28T14:23:21.357Z"
   },
   {
    "duration": 56,
    "start_time": "2024-10-28T14:23:21.375Z"
   },
   {
    "duration": 73,
    "start_time": "2024-10-28T14:23:21.433Z"
   },
   {
    "duration": 17,
    "start_time": "2024-10-28T14:23:21.507Z"
   },
   {
    "duration": 98,
    "start_time": "2024-10-28T14:23:21.526Z"
   },
   {
    "duration": 152,
    "start_time": "2024-10-28T14:23:21.625Z"
   },
   {
    "duration": 59,
    "start_time": "2024-10-28T14:23:21.779Z"
   },
   {
    "duration": 32,
    "start_time": "2024-10-28T14:23:21.840Z"
   },
   {
    "duration": 686,
    "start_time": "2024-10-28T14:23:21.874Z"
   },
   {
    "duration": 48,
    "start_time": "2024-10-28T14:23:22.562Z"
   },
   {
    "duration": 4,
    "start_time": "2024-10-28T14:23:22.621Z"
   },
   {
    "duration": 121,
    "start_time": "2024-10-28T14:26:06.681Z"
   },
   {
    "duration": 6977,
    "start_time": "2024-10-28T14:28:50.939Z"
   },
   {
    "duration": 18,
    "start_time": "2024-10-28T14:29:08.028Z"
   },
   {
    "duration": 59,
    "start_time": "2024-10-28T14:30:44.516Z"
   },
   {
    "duration": 1356,
    "start_time": "2024-10-28T14:31:02.778Z"
   },
   {
    "duration": 3330,
    "start_time": "2024-10-28T14:31:04.136Z"
   },
   {
    "duration": 984,
    "start_time": "2024-10-28T14:31:07.468Z"
   },
   {
    "duration": 168,
    "start_time": "2024-10-28T14:31:08.454Z"
   },
   {
    "duration": 5,
    "start_time": "2024-10-28T14:31:08.625Z"
   },
   {
    "duration": 173,
    "start_time": "2024-10-28T14:31:08.631Z"
   },
   {
    "duration": 28,
    "start_time": "2024-10-28T14:31:08.806Z"
   },
   {
    "duration": 16,
    "start_time": "2024-10-28T14:31:08.836Z"
   },
   {
    "duration": 157,
    "start_time": "2024-10-28T14:31:08.854Z"
   },
   {
    "duration": 235,
    "start_time": "2024-10-28T14:31:09.014Z"
   },
   {
    "duration": 264,
    "start_time": "2024-10-28T14:31:09.251Z"
   },
   {
    "duration": 246,
    "start_time": "2024-10-28T14:31:09.520Z"
   },
   {
    "duration": 2110,
    "start_time": "2024-10-28T14:31:09.768Z"
   },
   {
    "duration": 17,
    "start_time": "2024-10-28T14:31:11.882Z"
   },
   {
    "duration": 63,
    "start_time": "2024-10-28T14:31:11.901Z"
   },
   {
    "duration": 16,
    "start_time": "2024-10-28T14:31:11.966Z"
   },
   {
    "duration": 41,
    "start_time": "2024-10-28T14:31:11.984Z"
   },
   {
    "duration": 34,
    "start_time": "2024-10-28T14:31:12.026Z"
   },
   {
    "duration": 103,
    "start_time": "2024-10-28T14:31:12.062Z"
   },
   {
    "duration": 10,
    "start_time": "2024-10-28T14:31:12.166Z"
   },
   {
    "duration": 98,
    "start_time": "2024-10-28T14:31:12.177Z"
   },
   {
    "duration": 50,
    "start_time": "2024-10-28T14:31:12.277Z"
   },
   {
    "duration": 3,
    "start_time": "2024-10-28T14:31:12.329Z"
   },
   {
    "duration": 21,
    "start_time": "2024-10-28T14:31:12.333Z"
   },
   {
    "duration": 676,
    "start_time": "2024-10-28T14:31:12.356Z"
   },
   {
    "duration": 50,
    "start_time": "2024-10-28T14:31:13.034Z"
   },
   {
    "duration": 3,
    "start_time": "2024-10-28T14:31:13.086Z"
   },
   {
    "duration": 146,
    "start_time": "2024-10-28T14:36:52.831Z"
   },
   {
    "duration": 5,
    "start_time": "2024-10-28T14:36:59.385Z"
   },
   {
    "duration": 118,
    "start_time": "2024-10-28T14:37:38.297Z"
   },
   {
    "duration": 3,
    "start_time": "2024-10-28T14:37:46.553Z"
   },
   {
    "duration": 6,
    "start_time": "2024-10-28T14:37:47.159Z"
   },
   {
    "duration": 6,
    "start_time": "2024-10-28T14:40:16.739Z"
   },
   {
    "duration": 0,
    "start_time": "2024-10-28T14:45:17.170Z"
   },
   {
    "duration": 14,
    "start_time": "2024-10-28T14:45:42.399Z"
   },
   {
    "duration": 973277,
    "start_time": "2024-10-28T14:47:08.730Z"
   },
   {
    "duration": 5,
    "start_time": "2024-10-28T15:04:14.572Z"
   },
   {
    "duration": 408159,
    "start_time": "2024-10-28T15:04:17.082Z"
   },
   {
    "duration": 4,
    "start_time": "2024-10-28T16:05:17.910Z"
   },
   {
    "duration": 879,
    "start_time": "2024-10-28T16:08:13.759Z"
   },
   {
    "duration": 924,
    "start_time": "2024-10-28T16:08:26.104Z"
   },
   {
    "duration": 6,
    "start_time": "2024-10-28T16:11:46.294Z"
   },
   {
    "duration": 1037562,
    "start_time": "2024-10-28T16:17:19.876Z"
   },
   {
    "duration": 7,
    "start_time": "2024-10-28T17:08:04.924Z"
   },
   {
    "duration": 945,
    "start_time": "2024-10-28T17:08:33.876Z"
   },
   {
    "duration": 1454,
    "start_time": "2024-10-28T17:19:52.398Z"
   },
   {
    "duration": 3233,
    "start_time": "2024-10-28T17:19:53.855Z"
   },
   {
    "duration": 1005,
    "start_time": "2024-10-28T17:19:57.090Z"
   },
   {
    "duration": 174,
    "start_time": "2024-10-28T17:19:58.097Z"
   },
   {
    "duration": 5,
    "start_time": "2024-10-28T17:19:58.273Z"
   },
   {
    "duration": 195,
    "start_time": "2024-10-28T17:19:58.279Z"
   },
   {
    "duration": 28,
    "start_time": "2024-10-28T17:19:58.476Z"
   },
   {
    "duration": 80,
    "start_time": "2024-10-28T17:19:58.506Z"
   },
   {
    "duration": 182,
    "start_time": "2024-10-28T17:19:58.588Z"
   },
   {
    "duration": 223,
    "start_time": "2024-10-28T17:19:58.772Z"
   },
   {
    "duration": 257,
    "start_time": "2024-10-28T17:19:58.997Z"
   },
   {
    "duration": 261,
    "start_time": "2024-10-28T17:19:59.256Z"
   },
   {
    "duration": 2166,
    "start_time": "2024-10-28T17:19:59.519Z"
   },
   {
    "duration": 18,
    "start_time": "2024-10-28T17:20:01.688Z"
   },
   {
    "duration": 81,
    "start_time": "2024-10-28T17:20:01.707Z"
   },
   {
    "duration": 18,
    "start_time": "2024-10-28T17:20:01.791Z"
   },
   {
    "duration": 18,
    "start_time": "2024-10-28T17:20:01.820Z"
   },
   {
    "duration": 34,
    "start_time": "2024-10-28T17:20:01.840Z"
   },
   {
    "duration": 100,
    "start_time": "2024-10-28T17:20:01.875Z"
   },
   {
    "duration": 9,
    "start_time": "2024-10-28T17:20:01.976Z"
   },
   {
    "duration": 119,
    "start_time": "2024-10-28T17:20:01.986Z"
   },
   {
    "duration": 49,
    "start_time": "2024-10-28T17:20:02.107Z"
   },
   {
    "duration": 50,
    "start_time": "2024-10-28T17:20:02.157Z"
   },
   {
    "duration": 150,
    "start_time": "2024-10-28T17:20:02.209Z"
   },
   {
    "duration": 887,
    "start_time": "2024-10-28T17:20:02.360Z"
   },
   {
    "duration": 50,
    "start_time": "2024-10-28T17:20:03.249Z"
   },
   {
    "duration": 44,
    "start_time": "2024-10-28T17:20:03.301Z"
   },
   {
    "duration": 36,
    "start_time": "2024-10-28T17:20:03.346Z"
   },
   {
    "duration": 50,
    "start_time": "2024-10-28T17:20:03.386Z"
   },
   {
    "duration": 296585,
    "start_time": "2024-10-28T17:20:03.438Z"
   },
   {
    "duration": 0,
    "start_time": "2024-10-28T17:25:00.025Z"
   },
   {
    "duration": 0,
    "start_time": "2024-10-28T17:25:00.026Z"
   },
   {
    "duration": 1546,
    "start_time": "2024-10-28T17:25:20.794Z"
   },
   {
    "duration": 3414,
    "start_time": "2024-10-28T17:25:22.342Z"
   },
   {
    "duration": 1020,
    "start_time": "2024-10-28T17:25:25.759Z"
   },
   {
    "duration": 188,
    "start_time": "2024-10-28T17:25:26.780Z"
   },
   {
    "duration": 5,
    "start_time": "2024-10-28T17:25:26.971Z"
   },
   {
    "duration": 231,
    "start_time": "2024-10-28T17:25:26.978Z"
   },
   {
    "duration": 28,
    "start_time": "2024-10-28T17:25:27.211Z"
   },
   {
    "duration": 7,
    "start_time": "2024-10-28T17:25:27.241Z"
   },
   {
    "duration": 163,
    "start_time": "2024-10-28T17:25:27.250Z"
   },
   {
    "duration": 227,
    "start_time": "2024-10-28T17:25:27.415Z"
   },
   {
    "duration": 271,
    "start_time": "2024-10-28T17:25:27.644Z"
   },
   {
    "duration": 260,
    "start_time": "2024-10-28T17:25:27.917Z"
   },
   {
    "duration": 1920,
    "start_time": "2024-10-28T17:25:28.180Z"
   },
   {
    "duration": 0,
    "start_time": "2024-10-28T17:25:30.103Z"
   },
   {
    "duration": 0,
    "start_time": "2024-10-28T17:25:30.104Z"
   },
   {
    "duration": 0,
    "start_time": "2024-10-28T17:25:30.105Z"
   },
   {
    "duration": 0,
    "start_time": "2024-10-28T17:25:30.106Z"
   },
   {
    "duration": 0,
    "start_time": "2024-10-28T17:25:30.107Z"
   },
   {
    "duration": 0,
    "start_time": "2024-10-28T17:25:30.108Z"
   },
   {
    "duration": 0,
    "start_time": "2024-10-28T17:25:30.121Z"
   },
   {
    "duration": 0,
    "start_time": "2024-10-28T17:25:30.122Z"
   },
   {
    "duration": 0,
    "start_time": "2024-10-28T17:25:30.123Z"
   },
   {
    "duration": 0,
    "start_time": "2024-10-28T17:25:30.124Z"
   },
   {
    "duration": 0,
    "start_time": "2024-10-28T17:25:30.125Z"
   },
   {
    "duration": 0,
    "start_time": "2024-10-28T17:25:30.127Z"
   },
   {
    "duration": 0,
    "start_time": "2024-10-28T17:25:30.128Z"
   },
   {
    "duration": 0,
    "start_time": "2024-10-28T17:25:30.129Z"
   },
   {
    "duration": 0,
    "start_time": "2024-10-28T17:25:30.130Z"
   },
   {
    "duration": 0,
    "start_time": "2024-10-28T17:25:30.131Z"
   },
   {
    "duration": 0,
    "start_time": "2024-10-28T17:25:30.132Z"
   },
   {
    "duration": 0,
    "start_time": "2024-10-28T17:25:30.133Z"
   },
   {
    "duration": 0,
    "start_time": "2024-10-28T17:25:30.135Z"
   },
   {
    "duration": 2054,
    "start_time": "2024-10-28T17:27:42.283Z"
   },
   {
    "duration": 17,
    "start_time": "2024-10-28T17:27:53.098Z"
   },
   {
    "duration": 143,
    "start_time": "2024-10-28T17:27:53.956Z"
   },
   {
    "duration": 17,
    "start_time": "2024-10-28T17:27:55.799Z"
   },
   {
    "duration": 17,
    "start_time": "2024-10-28T17:27:56.004Z"
   },
   {
    "duration": 35,
    "start_time": "2024-10-28T17:27:56.652Z"
   },
   {
    "duration": 73,
    "start_time": "2024-10-28T17:27:57.028Z"
   },
   {
    "duration": 5,
    "start_time": "2024-10-28T17:27:57.234Z"
   },
   {
    "duration": 87,
    "start_time": "2024-10-28T17:27:57.894Z"
   },
   {
    "duration": 42,
    "start_time": "2024-10-28T17:27:58.099Z"
   },
   {
    "duration": 5,
    "start_time": "2024-10-28T17:27:59.020Z"
   },
   {
    "duration": 16,
    "start_time": "2024-10-28T17:27:59.298Z"
   },
   {
    "duration": 688,
    "start_time": "2024-10-28T17:27:59.978Z"
   },
   {
    "duration": 47,
    "start_time": "2024-10-28T17:28:00.920Z"
   },
   {
    "duration": 3,
    "start_time": "2024-10-28T17:28:01.330Z"
   },
   {
    "duration": 3,
    "start_time": "2024-10-28T17:28:01.534Z"
   },
   {
    "duration": 7,
    "start_time": "2024-10-28T17:28:01.780Z"
   },
   {
    "duration": 3982467,
    "start_time": "2024-10-28T17:28:02.354Z"
   },
   {
    "duration": 4,
    "start_time": "2024-10-28T18:34:24.823Z"
   },
   {
    "duration": 914,
    "start_time": "2024-10-28T18:34:24.828Z"
   },
   {
    "duration": 15,
    "start_time": "2024-10-28T18:43:22.988Z"
   },
   {
    "duration": 9,
    "start_time": "2024-10-28T18:43:34.224Z"
   },
   {
    "duration": 4,
    "start_time": "2024-10-28T18:43:45.490Z"
   },
   {
    "duration": 97,
    "start_time": "2024-10-28T18:46:00.444Z"
   },
   {
    "duration": 94,
    "start_time": "2024-10-28T18:46:11.997Z"
   },
   {
    "duration": 1486,
    "start_time": "2024-10-29T07:27:50.168Z"
   },
   {
    "duration": 6710,
    "start_time": "2024-10-29T07:27:51.656Z"
   },
   {
    "duration": 2828,
    "start_time": "2024-10-29T07:28:04.454Z"
   },
   {
    "duration": 106,
    "start_time": "2024-10-29T07:28:09.317Z"
   },
   {
    "duration": 4,
    "start_time": "2024-10-29T07:28:10.694Z"
   },
   {
    "duration": 98,
    "start_time": "2024-10-29T07:28:16.286Z"
   },
   {
    "duration": 23,
    "start_time": "2024-10-29T07:28:18.414Z"
   },
   {
    "duration": 4,
    "start_time": "2024-10-29T07:28:20.976Z"
   },
   {
    "duration": 137,
    "start_time": "2024-10-29T07:28:26.223Z"
   },
   {
    "duration": 25,
    "start_time": "2024-10-29T07:33:14.045Z"
   },
   {
    "duration": 4,
    "start_time": "2024-10-29T07:38:37.966Z"
   },
   {
    "duration": 3100,
    "start_time": "2024-10-29T07:38:38.829Z"
   },
   {
    "duration": 763,
    "start_time": "2024-10-29T07:38:48.396Z"
   },
   {
    "duration": 117,
    "start_time": "2024-10-29T07:38:58.286Z"
   },
   {
    "duration": 4,
    "start_time": "2024-10-29T07:39:02.781Z"
   },
   {
    "duration": 99,
    "start_time": "2024-10-29T07:39:04.588Z"
   },
   {
    "duration": 40,
    "start_time": "2024-10-29T07:39:29.621Z"
   },
   {
    "duration": 4,
    "start_time": "2024-10-29T08:05:13.226Z"
   },
   {
    "duration": 711,
    "start_time": "2024-10-29T08:06:07.842Z"
   },
   {
    "duration": 106,
    "start_time": "2024-10-29T08:06:10.066Z"
   },
   {
    "duration": 3,
    "start_time": "2024-10-29T08:06:12.250Z"
   },
   {
    "duration": 98,
    "start_time": "2024-10-29T08:06:14.212Z"
   },
   {
    "duration": 15,
    "start_time": "2024-10-29T08:06:21.522Z"
   },
   {
    "duration": 1158,
    "start_time": "2024-10-29T08:06:26.436Z"
   },
   {
    "duration": 726,
    "start_time": "2024-10-29T08:06:49.058Z"
   },
   {
    "duration": 104,
    "start_time": "2024-10-29T08:06:50.418Z"
   },
   {
    "duration": 4,
    "start_time": "2024-10-29T08:06:51.937Z"
   },
   {
    "duration": 98,
    "start_time": "2024-10-29T08:06:52.983Z"
   },
   {
    "duration": 30,
    "start_time": "2024-10-29T08:06:55.234Z"
   },
   {
    "duration": 15,
    "start_time": "2024-10-29T08:06:56.035Z"
   },
   {
    "duration": 3,
    "start_time": "2024-10-29T08:06:57.412Z"
   },
   {
    "duration": 118,
    "start_time": "2024-10-29T08:06:59.834Z"
   },
   {
    "duration": 26,
    "start_time": "2024-10-29T08:07:03.010Z"
   },
   {
    "duration": 1714,
    "start_time": "2024-10-29T08:07:44.091Z"
   },
   {
    "duration": 1572,
    "start_time": "2024-10-29T08:07:54.994Z"
   },
   {
    "duration": 1574,
    "start_time": "2024-10-29T08:08:07.595Z"
   },
   {
    "duration": 1645,
    "start_time": "2024-10-29T08:08:17.474Z"
   },
   {
    "duration": 1648,
    "start_time": "2024-10-29T08:08:27.170Z"
   },
   {
    "duration": 23,
    "start_time": "2024-10-29T08:08:50.418Z"
   },
   {
    "duration": 38,
    "start_time": "2024-10-29T08:08:51.585Z"
   },
   {
    "duration": 41,
    "start_time": "2024-10-29T08:08:59.689Z"
   },
   {
    "duration": 15,
    "start_time": "2024-10-29T08:10:50.737Z"
   },
   {
    "duration": 15,
    "start_time": "2024-10-29T08:10:51.682Z"
   },
   {
    "duration": 43,
    "start_time": "2024-10-29T08:10:57.825Z"
   },
   {
    "duration": 54,
    "start_time": "2024-10-29T08:11:12.081Z"
   },
   {
    "duration": 19,
    "start_time": "2024-10-29T08:11:52.915Z"
   },
   {
    "duration": 43,
    "start_time": "2024-10-29T08:13:14.642Z"
   },
   {
    "duration": 3,
    "start_time": "2024-10-29T08:17:27.321Z"
   },
   {
    "duration": 17,
    "start_time": "2024-10-29T08:17:27.858Z"
   },
   {
    "duration": 581,
    "start_time": "2024-10-29T08:17:30.714Z"
   },
   {
    "duration": 121,
    "start_time": "2024-10-29T08:17:58.393Z"
   },
   {
    "duration": 144,
    "start_time": "2024-10-29T08:18:01.071Z"
   },
   {
    "duration": 156,
    "start_time": "2024-10-29T08:18:04.482Z"
   },
   {
    "duration": 109,
    "start_time": "2024-10-29T08:35:31.152Z"
   },
   {
    "duration": 44,
    "start_time": "2024-10-29T08:35:35.465Z"
   },
   {
    "duration": 65,
    "start_time": "2024-10-29T08:42:28.749Z"
   },
   {
    "duration": 63,
    "start_time": "2024-10-29T08:42:46.477Z"
   },
   {
    "duration": 4,
    "start_time": "2024-10-29T08:43:04.078Z"
   },
   {
    "duration": 286,
    "start_time": "2024-10-29T08:43:10.845Z"
   },
   {
    "duration": 12,
    "start_time": "2024-10-29T08:43:48.846Z"
   },
   {
    "duration": 108,
    "start_time": "2024-10-29T08:46:41.613Z"
   },
   {
    "duration": 18,
    "start_time": "2024-10-29T08:46:50.609Z"
   },
   {
    "duration": 62,
    "start_time": "2024-10-29T08:47:31.437Z"
   },
   {
    "duration": 10,
    "start_time": "2024-10-29T08:47:37.300Z"
   },
   {
    "duration": 17,
    "start_time": "2024-10-29T08:47:39.934Z"
   },
   {
    "duration": 24,
    "start_time": "2024-10-29T08:47:43.983Z"
   },
   {
    "duration": 3158,
    "start_time": "2024-10-29T08:48:20.773Z"
   },
   {
    "duration": 1199,
    "start_time": "2024-10-29T08:48:50.677Z"
   },
   {
    "duration": 3040,
    "start_time": "2024-10-29T08:48:55.534Z"
   },
   {
    "duration": 773,
    "start_time": "2024-10-29T08:49:07.078Z"
   },
   {
    "duration": 103,
    "start_time": "2024-10-29T08:49:10.749Z"
   },
   {
    "duration": 5,
    "start_time": "2024-10-29T08:49:12.852Z"
   },
   {
    "duration": 97,
    "start_time": "2024-10-29T08:49:14.717Z"
   },
   {
    "duration": 22,
    "start_time": "2024-10-29T08:49:18.006Z"
   },
   {
    "duration": 22,
    "start_time": "2024-10-29T08:49:18.855Z"
   },
   {
    "duration": 4,
    "start_time": "2024-10-29T08:49:22.427Z"
   },
   {
    "duration": 148,
    "start_time": "2024-10-29T08:49:25.268Z"
   },
   {
    "duration": 23,
    "start_time": "2024-10-29T08:49:27.708Z"
   },
   {
    "duration": 1594,
    "start_time": "2024-10-29T08:49:33.656Z"
   },
   {
    "duration": 16,
    "start_time": "2024-10-29T08:49:38.697Z"
   },
   {
    "duration": 55,
    "start_time": "2024-10-29T08:49:40.981Z"
   },
   {
    "duration": 16,
    "start_time": "2024-10-29T08:49:46.844Z"
   },
   {
    "duration": 14,
    "start_time": "2024-10-29T08:49:48.663Z"
   },
   {
    "duration": 42,
    "start_time": "2024-10-29T08:49:52.043Z"
   },
   {
    "duration": 19,
    "start_time": "2024-10-29T08:49:54.181Z"
   },
   {
    "duration": 50,
    "start_time": "2024-10-29T08:49:54.836Z"
   },
   {
    "duration": 44,
    "start_time": "2024-10-29T08:50:06.365Z"
   },
   {
    "duration": 3,
    "start_time": "2024-10-29T08:50:13.544Z"
   },
   {
    "duration": 21,
    "start_time": "2024-10-29T08:50:15.172Z"
   },
   {
    "duration": 572,
    "start_time": "2024-10-29T08:50:15.828Z"
   },
   {
    "duration": 124,
    "start_time": "2024-10-29T08:50:20.636Z"
   },
   {
    "duration": 164,
    "start_time": "2024-10-29T08:50:22.540Z"
   },
   {
    "duration": 134,
    "start_time": "2024-10-29T08:50:24.222Z"
   },
   {
    "duration": 119,
    "start_time": "2024-10-29T08:50:29.172Z"
   },
   {
    "duration": 17,
    "start_time": "2024-10-29T08:50:30.083Z"
   },
   {
    "duration": 95,
    "start_time": "2024-10-29T08:50:39.286Z"
   },
   {
    "duration": 3,
    "start_time": "2024-10-29T08:50:40.860Z"
   },
   {
    "duration": 121,
    "start_time": "2024-10-29T08:52:09.421Z"
   },
   {
    "duration": 2,
    "start_time": "2024-10-29T08:52:13.332Z"
   },
   {
    "duration": 11,
    "start_time": "2024-10-29T08:52:15.188Z"
   },
   {
    "duration": 4,
    "start_time": "2024-10-29T08:52:22.685Z"
   },
   {
    "duration": 4,
    "start_time": "2024-10-29T08:52:34.166Z"
   },
   {
    "duration": 129988,
    "start_time": "2024-10-29T08:52:36.485Z"
   },
   {
    "duration": 5,
    "start_time": "2024-10-29T08:56:41.988Z"
   },
   {
    "duration": 513802,
    "start_time": "2024-10-29T08:56:47.324Z"
   },
   {
    "duration": 18,
    "start_time": "2024-10-29T09:09:06.769Z"
   },
   {
    "duration": 30,
    "start_time": "2024-10-29T09:09:35.161Z"
   },
   {
    "duration": 18,
    "start_time": "2024-10-29T09:10:32.481Z"
   },
   {
    "duration": 13,
    "start_time": "2024-10-29T09:11:08.832Z"
   },
   {
    "duration": 18,
    "start_time": "2024-10-29T09:11:14.968Z"
   },
   {
    "duration": 18,
    "start_time": "2024-10-29T09:11:51.809Z"
   },
   {
    "duration": 18,
    "start_time": "2024-10-29T09:12:28.322Z"
   },
   {
    "duration": 4,
    "start_time": "2024-10-29T09:13:25.247Z"
   },
   {
    "duration": 47,
    "start_time": "2024-10-29T09:20:37.911Z"
   },
   {
    "duration": 970,
    "start_time": "2024-10-29T09:21:38.646Z"
   },
   {
    "duration": 16,
    "start_time": "2024-10-29T09:25:27.542Z"
   },
   {
    "duration": 18,
    "start_time": "2024-10-29T09:25:38.398Z"
   },
   {
    "duration": 1216,
    "start_time": "2024-10-29T09:27:00.482Z"
   },
   {
    "duration": 3143,
    "start_time": "2024-10-29T09:27:01.700Z"
   },
   {
    "duration": 798,
    "start_time": "2024-10-29T09:27:04.845Z"
   },
   {
    "duration": 104,
    "start_time": "2024-10-29T09:27:05.645Z"
   },
   {
    "duration": 96,
    "start_time": "2024-10-29T09:27:05.751Z"
   },
   {
    "duration": 168,
    "start_time": "2024-10-29T09:27:05.848Z"
   },
   {
    "duration": 21,
    "start_time": "2024-10-29T09:27:06.017Z"
   },
   {
    "duration": 228,
    "start_time": "2024-10-29T09:27:06.040Z"
   },
   {
    "duration": 48,
    "start_time": "2024-10-29T09:27:06.270Z"
   },
   {
    "duration": 137,
    "start_time": "2024-10-29T09:27:06.321Z"
   },
   {
    "duration": 25,
    "start_time": "2024-10-29T09:27:06.460Z"
   },
   {
    "duration": 1666,
    "start_time": "2024-10-29T09:27:06.486Z"
   },
   {
    "duration": 16,
    "start_time": "2024-10-29T09:27:08.154Z"
   },
   {
    "duration": 220,
    "start_time": "2024-10-29T09:27:08.172Z"
   },
   {
    "duration": 16,
    "start_time": "2024-10-29T09:27:08.393Z"
   },
   {
    "duration": 117,
    "start_time": "2024-10-29T09:27:08.410Z"
   },
   {
    "duration": 117,
    "start_time": "2024-10-29T09:27:08.529Z"
   },
   {
    "duration": 30,
    "start_time": "2024-10-29T09:27:08.647Z"
   },
   {
    "duration": 52,
    "start_time": "2024-10-29T09:27:08.678Z"
   },
   {
    "duration": 58,
    "start_time": "2024-10-29T09:27:08.731Z"
   },
   {
    "duration": 4,
    "start_time": "2024-10-29T09:27:08.790Z"
   },
   {
    "duration": 32,
    "start_time": "2024-10-29T09:27:08.795Z"
   },
   {
    "duration": 572,
    "start_time": "2024-10-29T09:27:08.829Z"
   },
   {
    "duration": 131,
    "start_time": "2024-10-29T09:27:09.402Z"
   },
   {
    "duration": 165,
    "start_time": "2024-10-29T09:27:09.534Z"
   },
   {
    "duration": 158,
    "start_time": "2024-10-29T09:27:09.700Z"
   },
   {
    "duration": 121,
    "start_time": "2024-10-29T09:27:09.859Z"
   },
   {
    "duration": 24,
    "start_time": "2024-10-29T09:27:09.983Z"
   },
   {
    "duration": 229,
    "start_time": "2024-10-29T09:27:10.009Z"
   },
   {
    "duration": 90,
    "start_time": "2024-10-29T09:27:10.240Z"
   },
   {
    "duration": 11,
    "start_time": "2024-10-29T09:27:10.332Z"
   },
   {
    "duration": 74,
    "start_time": "2024-10-29T09:27:10.345Z"
   },
   {
    "duration": 1086495,
    "start_time": "2024-10-29T09:27:10.420Z"
   },
   {
    "duration": 2,
    "start_time": "2024-10-29T09:45:16.916Z"
   },
   {
    "duration": 45,
    "start_time": "2024-10-29T09:45:16.920Z"
   },
   {
    "duration": 41,
    "start_time": "2024-10-29T09:45:16.967Z"
   },
   {
    "duration": 56,
    "start_time": "2024-10-29T09:45:17.010Z"
   },
   {
    "duration": 1139,
    "start_time": "2024-10-29T09:45:17.068Z"
   },
   {
    "duration": 20,
    "start_time": "2024-10-29T09:49:34.995Z"
   },
   {
    "duration": 60,
    "start_time": "2024-10-29T09:51:12.771Z"
   },
   {
    "duration": 28,
    "start_time": "2024-10-29T09:51:26.090Z"
   },
   {
    "duration": 29,
    "start_time": "2024-10-29T09:51:54.923Z"
   },
   {
    "duration": 13,
    "start_time": "2024-10-29T09:52:46.468Z"
   },
   {
    "duration": 26,
    "start_time": "2024-10-29T09:52:48.510Z"
   },
   {
    "duration": 1633,
    "start_time": "2024-10-30T10:28:01.154Z"
   },
   {
    "duration": 7154,
    "start_time": "2024-10-30T10:28:02.789Z"
   },
   {
    "duration": 3064,
    "start_time": "2024-10-30T10:28:09.945Z"
   },
   {
    "duration": 145,
    "start_time": "2024-10-30T10:28:13.010Z"
   },
   {
    "duration": 4,
    "start_time": "2024-10-30T10:28:13.158Z"
   },
   {
    "duration": 148,
    "start_time": "2024-10-30T10:28:13.164Z"
   },
   {
    "duration": 34,
    "start_time": "2024-10-30T10:28:13.313Z"
   },
   {
    "duration": 27,
    "start_time": "2024-10-30T10:28:13.348Z"
   },
   {
    "duration": 17,
    "start_time": "2024-10-30T10:28:13.376Z"
   },
   {
    "duration": 140,
    "start_time": "2024-10-30T10:28:13.394Z"
   },
   {
    "duration": 26,
    "start_time": "2024-10-30T10:28:13.536Z"
   },
   {
    "duration": 1974,
    "start_time": "2024-10-30T10:28:13.563Z"
   },
   {
    "duration": 18,
    "start_time": "2024-10-30T10:28:15.542Z"
   },
   {
    "duration": 153,
    "start_time": "2024-10-30T10:28:15.563Z"
   },
   {
    "duration": 15,
    "start_time": "2024-10-30T10:28:15.718Z"
   },
   {
    "duration": 72,
    "start_time": "2024-10-30T10:28:15.743Z"
   },
   {
    "duration": 40,
    "start_time": "2024-10-30T10:28:15.817Z"
   },
   {
    "duration": 20,
    "start_time": "2024-10-30T10:28:15.859Z"
   },
   {
    "duration": 80,
    "start_time": "2024-10-30T10:28:15.880Z"
   },
   {
    "duration": 59,
    "start_time": "2024-10-30T10:28:15.962Z"
   },
   {
    "duration": 4,
    "start_time": "2024-10-30T10:28:16.023Z"
   },
   {
    "duration": 150,
    "start_time": "2024-10-30T10:28:16.028Z"
   },
   {
    "duration": 700,
    "start_time": "2024-10-30T10:28:16.180Z"
   },
   {
    "duration": 160,
    "start_time": "2024-10-30T10:28:16.882Z"
   },
   {
    "duration": 155,
    "start_time": "2024-10-30T10:28:17.044Z"
   },
   {
    "duration": 168,
    "start_time": "2024-10-30T10:28:17.201Z"
   },
   {
    "duration": 141,
    "start_time": "2024-10-30T10:28:17.370Z"
   },
   {
    "duration": 20,
    "start_time": "2024-10-30T10:28:17.513Z"
   },
   {
    "duration": 28,
    "start_time": "2024-10-30T10:28:17.543Z"
   },
   {
    "duration": 128,
    "start_time": "2024-10-30T10:28:17.573Z"
   },
   {
    "duration": 0,
    "start_time": "2024-10-30T10:28:17.703Z"
   },
   {
    "duration": 0,
    "start_time": "2024-10-30T10:28:17.704Z"
   },
   {
    "duration": 0,
    "start_time": "2024-10-30T10:28:17.706Z"
   },
   {
    "duration": 0,
    "start_time": "2024-10-30T10:28:17.707Z"
   },
   {
    "duration": 0,
    "start_time": "2024-10-30T10:28:17.709Z"
   },
   {
    "duration": 0,
    "start_time": "2024-10-30T10:28:17.710Z"
   },
   {
    "duration": 0,
    "start_time": "2024-10-30T10:28:17.711Z"
   },
   {
    "duration": 0,
    "start_time": "2024-10-30T10:28:17.713Z"
   },
   {
    "duration": 0,
    "start_time": "2024-10-30T10:28:17.714Z"
   },
   {
    "duration": 1314,
    "start_time": "2024-10-30T10:34:09.297Z"
   },
   {
    "duration": 3109,
    "start_time": "2024-10-30T10:34:10.612Z"
   },
   {
    "duration": 915,
    "start_time": "2024-10-30T10:34:13.722Z"
   },
   {
    "duration": 149,
    "start_time": "2024-10-30T10:34:14.645Z"
   },
   {
    "duration": 4,
    "start_time": "2024-10-30T10:34:14.796Z"
   },
   {
    "duration": 165,
    "start_time": "2024-10-30T10:34:14.801Z"
   },
   {
    "duration": 28,
    "start_time": "2024-10-30T10:34:14.968Z"
   },
   {
    "duration": 35,
    "start_time": "2024-10-30T10:34:14.997Z"
   },
   {
    "duration": 139,
    "start_time": "2024-10-30T10:34:15.034Z"
   },
   {
    "duration": 181,
    "start_time": "2024-10-30T10:34:15.176Z"
   },
   {
    "duration": 33,
    "start_time": "2024-10-30T10:34:15.359Z"
   },
   {
    "duration": 1994,
    "start_time": "2024-10-30T10:34:15.394Z"
   },
   {
    "duration": 17,
    "start_time": "2024-10-30T10:34:17.390Z"
   },
   {
    "duration": 66,
    "start_time": "2024-10-30T10:34:17.408Z"
   },
   {
    "duration": 15,
    "start_time": "2024-10-30T10:34:17.475Z"
   },
   {
    "duration": 29,
    "start_time": "2024-10-30T10:34:17.491Z"
   },
   {
    "duration": 47,
    "start_time": "2024-10-30T10:34:17.521Z"
   },
   {
    "duration": 20,
    "start_time": "2024-10-30T10:34:17.569Z"
   },
   {
    "duration": 83,
    "start_time": "2024-10-30T10:34:17.591Z"
   },
   {
    "duration": 198,
    "start_time": "2024-10-30T10:34:17.675Z"
   },
   {
    "duration": 3,
    "start_time": "2024-10-30T10:34:17.875Z"
   },
   {
    "duration": 18,
    "start_time": "2024-10-30T10:34:17.880Z"
   },
   {
    "duration": 706,
    "start_time": "2024-10-30T10:34:17.899Z"
   },
   {
    "duration": 161,
    "start_time": "2024-10-30T10:34:18.607Z"
   },
   {
    "duration": 189,
    "start_time": "2024-10-30T10:34:18.769Z"
   },
   {
    "duration": 190,
    "start_time": "2024-10-30T10:34:18.959Z"
   },
   {
    "duration": 127,
    "start_time": "2024-10-30T10:34:19.156Z"
   },
   {
    "duration": 20,
    "start_time": "2024-10-30T10:34:19.287Z"
   },
   {
    "duration": 40,
    "start_time": "2024-10-30T10:34:19.309Z"
   },
   {
    "duration": 9,
    "start_time": "2024-10-30T10:34:19.351Z"
   },
   {
    "duration": 9,
    "start_time": "2024-10-30T10:34:19.362Z"
   },
   {
    "duration": 89,
    "start_time": "2024-10-30T10:34:19.373Z"
   },
   {
    "duration": 2220907,
    "start_time": "2024-10-30T10:34:19.463Z"
   },
   {
    "duration": 3,
    "start_time": "2024-10-30T11:11:20.372Z"
   },
   {
    "duration": 38,
    "start_time": "2024-10-30T11:11:20.442Z"
   },
   {
    "duration": 9,
    "start_time": "2024-10-30T11:11:20.482Z"
   },
   {
    "duration": 132,
    "start_time": "2024-10-30T11:11:20.492Z"
   },
   {
    "duration": 0,
    "start_time": "2024-10-30T11:11:20.626Z"
   },
   {
    "duration": 0,
    "start_time": "2024-10-30T11:11:20.628Z"
   },
   {
    "duration": 1319,
    "start_time": "2024-10-30T11:40:34.177Z"
   },
   {
    "duration": 3002,
    "start_time": "2024-10-30T11:40:35.497Z"
   },
   {
    "duration": 1025,
    "start_time": "2024-10-30T11:40:38.501Z"
   },
   {
    "duration": 146,
    "start_time": "2024-10-30T11:40:39.528Z"
   },
   {
    "duration": 9,
    "start_time": "2024-10-30T11:40:39.675Z"
   },
   {
    "duration": 157,
    "start_time": "2024-10-30T11:40:39.686Z"
   },
   {
    "duration": 34,
    "start_time": "2024-10-30T11:40:39.844Z"
   },
   {
    "duration": 55,
    "start_time": "2024-10-30T11:40:39.880Z"
   },
   {
    "duration": 163,
    "start_time": "2024-10-30T11:40:39.936Z"
   },
   {
    "duration": 152,
    "start_time": "2024-10-30T11:40:40.103Z"
   },
   {
    "duration": 27,
    "start_time": "2024-10-30T11:40:40.257Z"
   },
   {
    "duration": 1937,
    "start_time": "2024-10-30T11:40:40.285Z"
   },
   {
    "duration": 21,
    "start_time": "2024-10-30T11:40:42.223Z"
   },
   {
    "duration": 49,
    "start_time": "2024-10-30T11:40:42.246Z"
   },
   {
    "duration": 16,
    "start_time": "2024-10-30T11:40:42.296Z"
   },
   {
    "duration": 38,
    "start_time": "2024-10-30T11:40:42.313Z"
   },
   {
    "duration": 43,
    "start_time": "2024-10-30T11:40:42.352Z"
   },
   {
    "duration": 103,
    "start_time": "2024-10-30T11:40:42.396Z"
   },
   {
    "duration": 75,
    "start_time": "2024-10-30T11:40:42.500Z"
   },
   {
    "duration": 44,
    "start_time": "2024-10-30T11:40:42.577Z"
   },
   {
    "duration": 4,
    "start_time": "2024-10-30T11:40:42.623Z"
   },
   {
    "duration": 30,
    "start_time": "2024-10-30T11:40:42.628Z"
   },
   {
    "duration": 692,
    "start_time": "2024-10-30T11:40:42.659Z"
   },
   {
    "duration": 152,
    "start_time": "2024-10-30T11:40:43.353Z"
   },
   {
    "duration": 178,
    "start_time": "2024-10-30T11:40:43.506Z"
   },
   {
    "duration": 186,
    "start_time": "2024-10-30T11:40:43.685Z"
   },
   {
    "duration": 134,
    "start_time": "2024-10-30T11:40:43.873Z"
   },
   {
    "duration": 20,
    "start_time": "2024-10-30T11:40:44.011Z"
   },
   {
    "duration": 28,
    "start_time": "2024-10-30T11:40:44.043Z"
   },
   {
    "duration": 4,
    "start_time": "2024-10-30T11:40:44.072Z"
   },
   {
    "duration": 26,
    "start_time": "2024-10-30T11:40:44.078Z"
   },
   {
    "duration": 99,
    "start_time": "2024-10-30T11:40:44.106Z"
   },
   {
    "duration": 1365,
    "start_time": "2024-10-30T12:20:36.276Z"
   },
   {
    "duration": 3122,
    "start_time": "2024-10-30T12:20:37.644Z"
   },
   {
    "duration": 995,
    "start_time": "2024-10-30T12:20:40.768Z"
   },
   {
    "duration": 158,
    "start_time": "2024-10-30T12:20:41.765Z"
   },
   {
    "duration": 35,
    "start_time": "2024-10-30T12:20:41.926Z"
   },
   {
    "duration": 168,
    "start_time": "2024-10-30T12:20:41.963Z"
   },
   {
    "duration": 30,
    "start_time": "2024-10-30T12:20:42.133Z"
   },
   {
    "duration": 86,
    "start_time": "2024-10-30T12:20:42.164Z"
   },
   {
    "duration": 19,
    "start_time": "2024-10-30T12:20:42.252Z"
   },
   {
    "duration": 163,
    "start_time": "2024-10-30T12:20:42.273Z"
   },
   {
    "duration": 36,
    "start_time": "2024-10-30T12:20:42.438Z"
   },
   {
    "duration": 2098,
    "start_time": "2024-10-30T12:20:42.476Z"
   },
   {
    "duration": 18,
    "start_time": "2024-10-30T12:20:44.576Z"
   },
   {
    "duration": 80,
    "start_time": "2024-10-30T12:20:44.598Z"
   },
   {
    "duration": 16,
    "start_time": "2024-10-30T12:20:44.679Z"
   },
   {
    "duration": 86,
    "start_time": "2024-10-30T12:20:44.697Z"
   },
   {
    "duration": 47,
    "start_time": "2024-10-30T12:20:44.786Z"
   },
   {
    "duration": 38,
    "start_time": "2024-10-30T12:20:44.834Z"
   },
   {
    "duration": 91,
    "start_time": "2024-10-30T12:20:44.874Z"
   },
   {
    "duration": 59,
    "start_time": "2024-10-30T12:20:44.967Z"
   },
   {
    "duration": 27,
    "start_time": "2024-10-30T12:20:45.028Z"
   },
   {
    "duration": 106,
    "start_time": "2024-10-30T12:20:45.057Z"
   },
   {
    "duration": 715,
    "start_time": "2024-10-30T12:20:45.165Z"
   },
   {
    "duration": 166,
    "start_time": "2024-10-30T12:20:45.882Z"
   },
   {
    "duration": 154,
    "start_time": "2024-10-30T12:20:46.049Z"
   },
   {
    "duration": 185,
    "start_time": "2024-10-30T12:20:46.205Z"
   },
   {
    "duration": 156,
    "start_time": "2024-10-30T12:20:46.392Z"
   },
   {
    "duration": 24,
    "start_time": "2024-10-30T12:20:46.551Z"
   },
   {
    "duration": 170,
    "start_time": "2024-10-30T12:20:46.576Z"
   },
   {
    "duration": 32,
    "start_time": "2024-10-30T12:20:46.749Z"
   },
   {
    "duration": 34,
    "start_time": "2024-10-30T12:20:46.782Z"
   },
   {
    "duration": 33,
    "start_time": "2024-10-30T12:20:46.818Z"
   },
   {
    "duration": 1953503,
    "start_time": "2024-10-30T12:20:46.852Z"
   },
   {
    "duration": 0,
    "start_time": "2024-10-30T12:53:20.358Z"
   },
   {
    "duration": 0,
    "start_time": "2024-10-30T12:53:20.360Z"
   },
   {
    "duration": 0,
    "start_time": "2024-10-30T12:53:20.361Z"
   },
   {
    "duration": 0,
    "start_time": "2024-10-30T12:53:20.363Z"
   },
   {
    "duration": 0,
    "start_time": "2024-10-30T12:53:20.364Z"
   },
   {
    "duration": 0,
    "start_time": "2024-10-30T12:53:20.365Z"
   },
   {
    "duration": 188587,
    "start_time": "2024-10-30T12:53:25.077Z"
   },
   {
    "duration": 3,
    "start_time": "2024-10-30T13:09:30.710Z"
   },
   {
    "duration": 39,
    "start_time": "2024-10-30T13:09:30.883Z"
   },
   {
    "duration": 3,
    "start_time": "2024-10-30T13:09:31.090Z"
   },
   {
    "duration": 13,
    "start_time": "2024-10-30T13:09:32.251Z"
   },
   {
    "duration": 24,
    "start_time": "2024-10-30T13:09:32.988Z"
   },
   {
    "duration": 877,
    "start_time": "2024-10-30T13:09:33.979Z"
   },
   {
    "duration": 24,
    "start_time": "2024-10-30T13:10:19.858Z"
   },
   {
    "duration": 21,
    "start_time": "2024-10-30T13:10:49.141Z"
   },
   {
    "duration": 13,
    "start_time": "2024-10-30T13:14:00.840Z"
   },
   {
    "duration": 16,
    "start_time": "2024-10-30T13:14:14.350Z"
   },
   {
    "duration": 69,
    "start_time": "2024-10-30T13:16:50.268Z"
   },
   {
    "duration": 16,
    "start_time": "2024-10-30T13:17:02.124Z"
   },
   {
    "duration": 16,
    "start_time": "2024-10-30T13:17:10.288Z"
   },
   {
    "duration": 15,
    "start_time": "2024-10-30T13:17:15.815Z"
   },
   {
    "duration": 2751,
    "start_time": "2024-10-31T07:38:27.578Z"
   },
   {
    "duration": 3239,
    "start_time": "2024-10-31T07:38:30.331Z"
   },
   {
    "duration": 2910,
    "start_time": "2024-10-31T07:38:33.572Z"
   },
   {
    "duration": 125,
    "start_time": "2024-10-31T07:38:36.484Z"
   },
   {
    "duration": 15,
    "start_time": "2024-10-31T07:38:36.611Z"
   },
   {
    "duration": 149,
    "start_time": "2024-10-31T07:38:36.628Z"
   },
   {
    "duration": 27,
    "start_time": "2024-10-31T07:38:36.778Z"
   },
   {
    "duration": 65,
    "start_time": "2024-10-31T07:38:36.806Z"
   },
   {
    "duration": 25,
    "start_time": "2024-10-31T07:38:36.872Z"
   },
   {
    "duration": 209,
    "start_time": "2024-10-31T07:38:36.900Z"
   },
   {
    "duration": 32,
    "start_time": "2024-10-31T07:38:37.111Z"
   },
   {
    "duration": 2109,
    "start_time": "2024-10-31T07:38:37.144Z"
   },
   {
    "duration": 23,
    "start_time": "2024-10-31T07:38:39.255Z"
   },
   {
    "duration": 69,
    "start_time": "2024-10-31T07:38:39.280Z"
   },
   {
    "duration": 17,
    "start_time": "2024-10-31T07:38:39.352Z"
   },
   {
    "duration": 17,
    "start_time": "2024-10-31T07:38:39.370Z"
   },
   {
    "duration": 75,
    "start_time": "2024-10-31T07:38:39.389Z"
   },
   {
    "duration": 22,
    "start_time": "2024-10-31T07:38:39.465Z"
   },
   {
    "duration": 71,
    "start_time": "2024-10-31T07:38:39.488Z"
   },
   {
    "duration": 84,
    "start_time": "2024-10-31T07:38:39.560Z"
   },
   {
    "duration": 29,
    "start_time": "2024-10-31T07:38:39.646Z"
   },
   {
    "duration": 20,
    "start_time": "2024-10-31T07:38:39.676Z"
   },
   {
    "duration": 793,
    "start_time": "2024-10-31T07:38:39.698Z"
   },
   {
    "duration": 151,
    "start_time": "2024-10-31T07:38:40.492Z"
   },
   {
    "duration": 176,
    "start_time": "2024-10-31T07:38:40.645Z"
   },
   {
    "duration": 206,
    "start_time": "2024-10-31T07:38:40.824Z"
   },
   {
    "duration": 129,
    "start_time": "2024-10-31T07:38:41.032Z"
   },
   {
    "duration": 21,
    "start_time": "2024-10-31T07:38:41.164Z"
   },
   {
    "duration": 107,
    "start_time": "2024-10-31T07:38:41.187Z"
   },
   {
    "duration": 4,
    "start_time": "2024-10-31T07:38:41.295Z"
   },
   {
    "duration": 33,
    "start_time": "2024-10-31T07:38:41.300Z"
   },
   {
    "duration": 21,
    "start_time": "2024-10-31T07:38:41.335Z"
   },
   {
    "duration": 2113,
    "start_time": "2024-10-31T08:51:38.247Z"
   },
   {
    "duration": 9519,
    "start_time": "2024-10-31T08:51:40.362Z"
   },
   {
    "duration": 2958,
    "start_time": "2024-10-31T08:51:49.883Z"
   },
   {
    "duration": 178,
    "start_time": "2024-10-31T08:51:52.843Z"
   },
   {
    "duration": 44,
    "start_time": "2024-10-31T08:51:53.023Z"
   },
   {
    "duration": 145,
    "start_time": "2024-10-31T08:51:53.069Z"
   },
   {
    "duration": 44,
    "start_time": "2024-10-31T08:51:53.216Z"
   },
   {
    "duration": 110,
    "start_time": "2024-10-31T08:51:53.262Z"
   },
   {
    "duration": 7,
    "start_time": "2024-10-31T08:51:53.374Z"
   },
   {
    "duration": 160,
    "start_time": "2024-10-31T08:51:53.384Z"
   },
   {
    "duration": 26,
    "start_time": "2024-10-31T08:51:53.545Z"
   },
   {
    "duration": 2170,
    "start_time": "2024-10-31T08:51:53.573Z"
   },
   {
    "duration": 23,
    "start_time": "2024-10-31T08:51:55.744Z"
   },
   {
    "duration": 91,
    "start_time": "2024-10-31T08:51:55.769Z"
   },
   {
    "duration": 17,
    "start_time": "2024-10-31T08:51:55.862Z"
   },
   {
    "duration": 88,
    "start_time": "2024-10-31T08:51:55.881Z"
   },
   {
    "duration": 42,
    "start_time": "2024-10-31T08:51:55.971Z"
   },
   {
    "duration": 21,
    "start_time": "2024-10-31T08:51:56.014Z"
   },
   {
    "duration": 81,
    "start_time": "2024-10-31T08:51:56.043Z"
   },
   {
    "duration": 61,
    "start_time": "2024-10-31T08:51:56.126Z"
   },
   {
    "duration": 4,
    "start_time": "2024-10-31T08:51:56.189Z"
   },
   {
    "duration": 47,
    "start_time": "2024-10-31T08:51:56.195Z"
   },
   {
    "duration": 801,
    "start_time": "2024-10-31T08:51:56.244Z"
   },
   {
    "duration": 153,
    "start_time": "2024-10-31T08:51:57.047Z"
   },
   {
    "duration": 175,
    "start_time": "2024-10-31T08:51:57.202Z"
   },
   {
    "duration": 164,
    "start_time": "2024-10-31T08:51:57.379Z"
   },
   {
    "duration": 146,
    "start_time": "2024-10-31T08:51:57.544Z"
   },
   {
    "duration": 22,
    "start_time": "2024-10-31T08:51:57.694Z"
   },
   {
    "duration": 57,
    "start_time": "2024-10-31T08:51:57.719Z"
   },
   {
    "duration": 121,
    "start_time": "2024-10-31T08:51:57.778Z"
   },
   {
    "duration": 0,
    "start_time": "2024-10-31T08:51:57.901Z"
   },
   {
    "duration": 0,
    "start_time": "2024-10-31T08:51:57.902Z"
   },
   {
    "duration": 0,
    "start_time": "2024-10-31T08:51:57.903Z"
   },
   {
    "duration": 0,
    "start_time": "2024-10-31T08:51:57.904Z"
   },
   {
    "duration": 0,
    "start_time": "2024-10-31T08:51:57.906Z"
   },
   {
    "duration": 0,
    "start_time": "2024-10-31T08:51:57.906Z"
   },
   {
    "duration": 0,
    "start_time": "2024-10-31T08:51:57.908Z"
   },
   {
    "duration": 0,
    "start_time": "2024-10-31T08:51:57.909Z"
   },
   {
    "duration": 0,
    "start_time": "2024-10-31T08:51:57.910Z"
   },
   {
    "duration": 1314,
    "start_time": "2024-10-31T09:29:08.300Z"
   },
   {
    "duration": 2946,
    "start_time": "2024-10-31T09:29:09.616Z"
   },
   {
    "duration": 890,
    "start_time": "2024-10-31T09:29:12.564Z"
   },
   {
    "duration": 144,
    "start_time": "2024-10-31T09:29:13.456Z"
   },
   {
    "duration": 4,
    "start_time": "2024-10-31T09:29:13.601Z"
   },
   {
    "duration": 159,
    "start_time": "2024-10-31T09:29:13.607Z"
   },
   {
    "duration": 28,
    "start_time": "2024-10-31T09:29:13.768Z"
   },
   {
    "duration": 31,
    "start_time": "2024-10-31T09:29:13.797Z"
   },
   {
    "duration": 26,
    "start_time": "2024-10-31T09:29:13.829Z"
   },
   {
    "duration": 165,
    "start_time": "2024-10-31T09:29:13.858Z"
   },
   {
    "duration": 31,
    "start_time": "2024-10-31T09:29:14.024Z"
   },
   {
    "duration": 1959,
    "start_time": "2024-10-31T09:29:14.057Z"
   },
   {
    "duration": 25,
    "start_time": "2024-10-31T09:29:16.018Z"
   },
   {
    "duration": 80,
    "start_time": "2024-10-31T09:29:16.045Z"
   },
   {
    "duration": 17,
    "start_time": "2024-10-31T09:29:16.126Z"
   },
   {
    "duration": 45,
    "start_time": "2024-10-31T09:29:16.145Z"
   },
   {
    "duration": 56,
    "start_time": "2024-10-31T09:29:16.192Z"
   },
   {
    "duration": 20,
    "start_time": "2024-10-31T09:29:16.250Z"
   },
   {
    "duration": 92,
    "start_time": "2024-10-31T09:29:16.271Z"
   },
   {
    "duration": 82,
    "start_time": "2024-10-31T09:29:16.365Z"
   },
   {
    "duration": 4,
    "start_time": "2024-10-31T09:29:16.448Z"
   },
   {
    "duration": 41,
    "start_time": "2024-10-31T09:29:16.453Z"
   },
   {
    "duration": 774,
    "start_time": "2024-10-31T09:29:16.495Z"
   },
   {
    "duration": 143,
    "start_time": "2024-10-31T09:29:17.271Z"
   },
   {
    "duration": 150,
    "start_time": "2024-10-31T09:29:17.415Z"
   },
   {
    "duration": 147,
    "start_time": "2024-10-31T09:29:17.566Z"
   },
   {
    "duration": 131,
    "start_time": "2024-10-31T09:29:17.715Z"
   },
   {
    "duration": 21,
    "start_time": "2024-10-31T09:29:17.849Z"
   },
   {
    "duration": 48,
    "start_time": "2024-10-31T09:29:17.871Z"
   },
   {
    "duration": 16,
    "start_time": "2024-10-31T09:29:17.921Z"
   },
   {
    "duration": 95,
    "start_time": "2024-10-31T09:29:17.939Z"
   },
   {
    "duration": 92,
    "start_time": "2024-10-31T09:29:18.035Z"
   },
   {
    "duration": 187136,
    "start_time": "2024-10-31T09:29:18.128Z"
   },
   {
    "duration": 3,
    "start_time": "2024-10-31T09:32:25.266Z"
   },
   {
    "duration": 85,
    "start_time": "2024-10-31T09:32:25.270Z"
   },
   {
    "duration": 4,
    "start_time": "2024-10-31T09:32:25.357Z"
   },
   {
    "duration": 35,
    "start_time": "2024-10-31T09:32:25.362Z"
   },
   {
    "duration": 18,
    "start_time": "2024-10-31T09:32:25.398Z"
   },
   {
    "duration": 946,
    "start_time": "2024-10-31T09:32:25.417Z"
   },
   {
    "duration": 5,
    "start_time": "2024-10-31T09:33:45.027Z"
   },
   {
    "duration": 440794,
    "start_time": "2024-10-31T09:33:52.666Z"
   },
   {
    "duration": 5,
    "start_time": "2024-10-31T09:43:27.713Z"
   },
   {
    "duration": 5,
    "start_time": "2024-10-31T09:43:37.858Z"
   },
   {
    "duration": 671178,
    "start_time": "2024-10-31T09:43:42.669Z"
   },
   {
    "duration": 6,
    "start_time": "2024-10-31T09:57:04.978Z"
   },
   {
    "duration": 4,
    "start_time": "2024-10-31T09:57:33.697Z"
   },
   {
    "duration": 293754,
    "start_time": "2024-10-31T09:57:37.104Z"
   },
   {
    "duration": 2,
    "start_time": "2024-10-31T10:03:00.232Z"
   },
   {
    "duration": 37,
    "start_time": "2024-10-31T10:03:00.994Z"
   },
   {
    "duration": 4,
    "start_time": "2024-10-31T10:03:04.592Z"
   },
   {
    "duration": 17,
    "start_time": "2024-10-31T10:03:10.864Z"
   },
   {
    "duration": 25,
    "start_time": "2024-10-31T10:03:15.393Z"
   },
   {
    "duration": 4,
    "start_time": "2024-10-31T10:04:19.241Z"
   },
   {
    "duration": 217276,
    "start_time": "2024-10-31T10:04:23.682Z"
   },
   {
    "duration": 3,
    "start_time": "2024-10-31T10:08:41.028Z"
   },
   {
    "duration": 40,
    "start_time": "2024-10-31T10:08:41.652Z"
   },
   {
    "duration": 4,
    "start_time": "2024-10-31T10:08:44.725Z"
   },
   {
    "duration": 8,
    "start_time": "2024-10-31T10:56:10.872Z"
   },
   {
    "duration": 895266,
    "start_time": "2024-10-31T10:56:15.296Z"
   },
   {
    "duration": 3,
    "start_time": "2024-10-31T11:23:57.500Z"
   },
   {
    "duration": 36,
    "start_time": "2024-10-31T11:23:58.163Z"
   },
   {
    "duration": 5,
    "start_time": "2024-10-31T11:24:00.796Z"
   },
   {
    "duration": 16,
    "start_time": "2024-10-31T11:24:28.467Z"
   },
   {
    "duration": 4,
    "start_time": "2024-10-31T11:25:01.451Z"
   },
   {
    "duration": 16,
    "start_time": "2024-10-31T11:25:05.447Z"
   },
   {
    "duration": 17,
    "start_time": "2024-10-31T11:25:09.851Z"
   },
   {
    "duration": 65,
    "start_time": "2024-10-31T11:28:27.011Z"
   },
   {
    "duration": 113,
    "start_time": "2024-10-31T11:28:49.483Z"
   },
   {
    "duration": 19,
    "start_time": "2024-10-31T11:28:53.610Z"
   },
   {
    "duration": 11,
    "start_time": "2024-10-31T11:30:35.722Z"
   },
   {
    "duration": 55,
    "start_time": "2024-10-31T11:30:40.427Z"
   },
   {
    "duration": 5,
    "start_time": "2024-10-31T11:31:21.468Z"
   },
   {
    "duration": 56,
    "start_time": "2024-10-31T11:31:37.899Z"
   },
   {
    "duration": 58,
    "start_time": "2024-10-31T11:31:46.636Z"
   },
   {
    "duration": 17,
    "start_time": "2024-10-31T11:33:42.339Z"
   },
   {
    "duration": 42,
    "start_time": "2024-10-31T11:33:56.937Z"
   },
   {
    "duration": 6,
    "start_time": "2024-10-31T11:34:17.226Z"
   },
   {
    "duration": 12,
    "start_time": "2024-10-31T11:34:33.617Z"
   },
   {
    "duration": 14,
    "start_time": "2024-10-31T11:35:28.025Z"
   },
   {
    "duration": 7,
    "start_time": "2024-10-31T11:37:21.482Z"
   },
   {
    "duration": 8,
    "start_time": "2024-10-31T11:38:33.009Z"
   },
   {
    "duration": 15,
    "start_time": "2024-10-31T11:39:01.176Z"
   },
   {
    "duration": 14,
    "start_time": "2024-10-31T11:39:09.410Z"
   },
   {
    "duration": 14,
    "start_time": "2024-10-31T11:39:33.434Z"
   },
   {
    "duration": 17,
    "start_time": "2024-10-31T11:39:49.073Z"
   },
   {
    "duration": 18,
    "start_time": "2024-10-31T11:40:01.113Z"
   },
   {
    "duration": 18,
    "start_time": "2024-10-31T11:40:29.504Z"
   },
   {
    "duration": 9,
    "start_time": "2024-10-31T11:41:04.713Z"
   },
   {
    "duration": 15,
    "start_time": "2024-10-31T11:41:09.129Z"
   },
   {
    "duration": 4,
    "start_time": "2024-10-31T11:41:53.154Z"
   },
   {
    "duration": 13,
    "start_time": "2024-10-31T11:42:00.391Z"
   },
   {
    "duration": 1038,
    "start_time": "2024-10-31T11:44:07.609Z"
   },
   {
    "duration": 1753,
    "start_time": "2024-10-31T15:17:06.747Z"
   },
   {
    "duration": 3495,
    "start_time": "2024-10-31T15:17:08.501Z"
   },
   {
    "duration": 2984,
    "start_time": "2024-10-31T15:17:11.999Z"
   },
   {
    "duration": 312,
    "start_time": "2024-10-31T15:17:14.984Z"
   },
   {
    "duration": 25,
    "start_time": "2024-10-31T15:17:15.299Z"
   },
   {
    "duration": 343,
    "start_time": "2024-10-31T15:17:15.325Z"
   },
   {
    "duration": 25,
    "start_time": "2024-10-31T15:17:15.669Z"
   },
   {
    "duration": 32,
    "start_time": "2024-10-31T15:17:15.695Z"
   },
   {
    "duration": 3,
    "start_time": "2024-10-31T15:17:15.729Z"
   },
   {
    "duration": 139,
    "start_time": "2024-10-31T15:17:15.734Z"
   },
   {
    "duration": 35,
    "start_time": "2024-10-31T15:17:15.875Z"
   },
   {
    "duration": 1692,
    "start_time": "2024-10-31T15:17:15.911Z"
   },
   {
    "duration": 21,
    "start_time": "2024-10-31T15:17:17.605Z"
   },
   {
    "duration": 188,
    "start_time": "2024-10-31T15:17:17.630Z"
   },
   {
    "duration": 15,
    "start_time": "2024-10-31T15:17:17.819Z"
   },
   {
    "duration": 22,
    "start_time": "2024-10-31T15:17:17.836Z"
   },
   {
    "duration": 34,
    "start_time": "2024-10-31T15:17:17.860Z"
   },
   {
    "duration": 19,
    "start_time": "2024-10-31T15:17:17.895Z"
   },
   {
    "duration": 299,
    "start_time": "2024-10-31T15:17:17.915Z"
   },
   {
    "duration": 46,
    "start_time": "2024-10-31T15:17:18.216Z"
   },
   {
    "duration": 3,
    "start_time": "2024-10-31T15:17:18.263Z"
   },
   {
    "duration": 20,
    "start_time": "2024-10-31T15:17:18.267Z"
   },
   {
    "duration": 774,
    "start_time": "2024-10-31T15:17:18.288Z"
   },
   {
    "duration": 210,
    "start_time": "2024-10-31T15:17:19.064Z"
   },
   {
    "duration": 213,
    "start_time": "2024-10-31T15:17:19.276Z"
   },
   {
    "duration": 228,
    "start_time": "2024-10-31T15:17:19.491Z"
   },
   {
    "duration": 197,
    "start_time": "2024-10-31T15:17:19.721Z"
   },
   {
    "duration": 12,
    "start_time": "2024-10-31T15:17:19.919Z"
   },
   {
    "duration": 161,
    "start_time": "2024-10-31T15:17:19.933Z"
   },
   {
    "duration": 3,
    "start_time": "2024-10-31T15:17:20.096Z"
   },
   {
    "duration": 78,
    "start_time": "2024-10-31T15:17:20.101Z"
   },
   {
    "duration": 36,
    "start_time": "2024-10-31T15:17:20.181Z"
   },
   {
    "duration": 5130861,
    "start_time": "2024-10-31T15:17:20.218Z"
   },
   {
    "duration": 3,
    "start_time": "2024-10-31T16:42:51.081Z"
   },
   {
    "duration": 77,
    "start_time": "2024-10-31T16:42:51.086Z"
   },
   {
    "duration": 5,
    "start_time": "2024-10-31T16:42:51.164Z"
   },
   {
    "duration": 11,
    "start_time": "2024-10-31T16:42:51.170Z"
   },
   {
    "duration": 34,
    "start_time": "2024-10-31T16:42:51.183Z"
   }
  ],
  "kernelspec": {
   "display_name": "Python 3 (ipykernel)",
   "language": "python",
   "name": "python3"
  },
  "language_info": {
   "codemirror_mode": {
    "name": "ipython",
    "version": 3
   },
   "file_extension": ".py",
   "mimetype": "text/x-python",
   "name": "python",
   "nbconvert_exporter": "python",
   "pygments_lexer": "ipython3",
   "version": "3.9.5"
  },
  "toc": {
   "base_numbering": 1,
   "nav_menu": {},
   "number_sections": true,
   "sideBar": true,
   "skip_h1_title": true,
   "title_cell": "Table of Contents",
   "title_sidebar": "Contents",
   "toc_cell": false,
   "toc_position": {},
   "toc_section_display": true,
   "toc_window_display": true
  }
 },
 "nbformat": 4,
 "nbformat_minor": 2
}
