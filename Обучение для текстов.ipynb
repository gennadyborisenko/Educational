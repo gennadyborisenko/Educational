{
 "cells": [
  {
   "cell_type": "markdown",
   "metadata": {
    "toc": true
   },
   "source": [
    "<h1>Содержание<span class=\"tocSkip\"></span></h1>\n",
    "<div class=\"toc\"><ul class=\"toc-item\"><li><span><a href=\"#Подготовка\" data-toc-modified-id=\"Подготовка-1\"><span class=\"toc-item-num\">1&nbsp;&nbsp;</span>Подготовка</a></span></li><li><span><a href=\"#Обучение\" data-toc-modified-id=\"Обучение-2\"><span class=\"toc-item-num\">2&nbsp;&nbsp;</span>Обучение</a></span></li><li><span><a href=\"#Выводы\" data-toc-modified-id=\"Выводы-3\"><span class=\"toc-item-num\">3&nbsp;&nbsp;</span>Выводы</a></span></li></ul></div>"
   ]
  },
  {
   "cell_type": "markdown",
   "metadata": {},
   "source": [
    "# Проект для «Викишоп»"
   ]
  },
  {
   "cell_type": "markdown",
   "metadata": {},
   "source": [
    "Интернет-магазин «Викишоп» запускает новый сервис. Теперь пользователи могут редактировать и дополнять описания товаров, как в вики-сообществах. То есть клиенты предлагают свои правки и комментируют изменения других. Магазину нужен инструмент, который будет искать токсичные комментарии и отправлять их на модерацию. \n",
    "\n",
    "Обучите модель классифицировать комментарии на позитивные и негативные. В вашем распоряжении набор данных с разметкой о токсичности правок.\n",
    "\n",
    "Постройте модель со значением метрики качества *F1* не меньше 0.75. \n",
    "\n",
    "**Инструкция по выполнению проекта**\n",
    "\n",
    "1. Загрузите и подготовьте данные.\n",
    "2. Обучите разные модели. \n",
    "3. Сделайте выводы.\n",
    "\n",
    "Для выполнения проекта применять *BERT* необязательно, но вы можете попробовать.\n",
    "\n",
    "**Описание данных**\n",
    "\n",
    "Данные находятся в файле `toxic_comments.csv`. Столбец *text* в нём содержит текст комментария, а *toxic* — целевой признак."
   ]
  },
  {
   "cell_type": "markdown",
   "metadata": {},
   "source": [
    "## Подготовка"
   ]
  },
  {
   "cell_type": "markdown",
   "metadata": {},
   "source": [
    "Импорт библиотек"
   ]
  },
  {
   "cell_type": "code",
   "execution_count": 1,
   "metadata": {},
   "outputs": [
    {
     "name": "stdout",
     "output_type": "stream",
     "text": [
      "Requirement already satisfied: wordcloud in /opt/conda/lib/python3.9/site-packages (1.9.4)\n",
      "Requirement already satisfied: numpy>=1.6.1 in /opt/conda/lib/python3.9/site-packages (from wordcloud) (1.20.1)\n",
      "Requirement already satisfied: pillow in /opt/conda/lib/python3.9/site-packages (from wordcloud) (11.0.0)\n",
      "Requirement already satisfied: matplotlib in /opt/conda/lib/python3.9/site-packages (from wordcloud) (3.3.4)\n",
      "Requirement already satisfied: cycler>=0.10 in /opt/conda/lib/python3.9/site-packages (from matplotlib->wordcloud) (0.11.0)\n",
      "Requirement already satisfied: kiwisolver>=1.0.1 in /opt/conda/lib/python3.9/site-packages (from matplotlib->wordcloud) (1.4.4)\n",
      "Requirement already satisfied: pyparsing!=2.0.4,!=2.1.2,!=2.1.6,>=2.0.3 in /opt/conda/lib/python3.9/site-packages (from matplotlib->wordcloud) (2.4.7)\n",
      "Requirement already satisfied: python-dateutil>=2.1 in /opt/conda/lib/python3.9/site-packages (from matplotlib->wordcloud) (2.8.1)\n",
      "Requirement already satisfied: six>=1.5 in /opt/conda/lib/python3.9/site-packages (from python-dateutil>=2.1->matplotlib->wordcloud) (1.16.0)\n",
      "\u001b[33mWARNING: Error parsing dependencies of ipykernel: Expected matching RIGHT_PARENTHESIS for LEFT_PARENTHESIS, after version specifier\n",
      "    matplotlib-inline (<0.2.0appnope,>=0.1.0) ; platform_system == \"Darwin\"\n",
      "                      ~~~~~~~~^\u001b[0m\u001b[33m\n",
      "\u001b[0m"
     ]
    }
   ],
   "source": [
    "!pip install wordcloud\n"
   ]
  },
  {
   "cell_type": "code",
   "execution_count": 2,
   "metadata": {},
   "outputs": [],
   "source": [
    "import joblib\n",
    "import numpy as np\n",
    "import pandas as pd\n",
    "import re\n",
    "import warnings\n",
    "\n",
    "import spacy\n",
    "from sklearn.ensemble import RandomForestClassifier\n",
    "from sklearn.feature_extraction.text import TfidfVectorizer\n",
    "from sklearn.linear_model import LogisticRegression\n",
    "from sklearn.metrics import f1_score\n",
    "from sklearn.model_selection import (RandomizedSearchCV, train_test_split,\n",
    "                                     cross_val_score)\n",
    "from sklearn.naive_bayes import MultinomialNB\n",
    "from sklearn.pipeline import Pipeline\n",
    "from sklearn.svm import SVC\n",
    "from sklearn.tree import DecisionTreeClassifier\n",
    "\n",
    "from wordcloud import WordCloud\n",
    "import matplotlib.pyplot as plt\n",
    "\n",
    "RANDOM_STATE = 42\n",
    "warnings.filterwarnings(\"ignore\")\n",
    "\n",
    "\n",
    "\n"
   ]
  },
  {
   "cell_type": "markdown",
   "metadata": {},
   "source": [
    "Открытие файла"
   ]
  },
  {
   "cell_type": "code",
   "execution_count": 3,
   "metadata": {},
   "outputs": [
    {
     "data": {
      "text/html": [
       "<div>\n",
       "<style scoped>\n",
       "    .dataframe tbody tr th:only-of-type {\n",
       "        vertical-align: middle;\n",
       "    }\n",
       "\n",
       "    .dataframe tbody tr th {\n",
       "        vertical-align: top;\n",
       "    }\n",
       "\n",
       "    .dataframe thead th {\n",
       "        text-align: right;\n",
       "    }\n",
       "</style>\n",
       "<table border=\"1\" class=\"dataframe\">\n",
       "  <thead>\n",
       "    <tr style=\"text-align: right;\">\n",
       "      <th></th>\n",
       "      <th>text</th>\n",
       "      <th>toxic</th>\n",
       "    </tr>\n",
       "  </thead>\n",
       "  <tbody>\n",
       "    <tr>\n",
       "      <th>0</th>\n",
       "      <td>Explanation\\nWhy the edits made under my usern...</td>\n",
       "      <td>0</td>\n",
       "    </tr>\n",
       "    <tr>\n",
       "      <th>1</th>\n",
       "      <td>D'aww! He matches this background colour I'm s...</td>\n",
       "      <td>0</td>\n",
       "    </tr>\n",
       "    <tr>\n",
       "      <th>2</th>\n",
       "      <td>Hey man, I'm really not trying to edit war. It...</td>\n",
       "      <td>0</td>\n",
       "    </tr>\n",
       "    <tr>\n",
       "      <th>3</th>\n",
       "      <td>\"\\nMore\\nI can't make any real suggestions on ...</td>\n",
       "      <td>0</td>\n",
       "    </tr>\n",
       "    <tr>\n",
       "      <th>4</th>\n",
       "      <td>You, sir, are my hero. Any chance you remember...</td>\n",
       "      <td>0</td>\n",
       "    </tr>\n",
       "  </tbody>\n",
       "</table>\n",
       "</div>"
      ],
      "text/plain": [
       "                                                text  toxic\n",
       "0  Explanation\\nWhy the edits made under my usern...      0\n",
       "1  D'aww! He matches this background colour I'm s...      0\n",
       "2  Hey man, I'm really not trying to edit war. It...      0\n",
       "3  \"\\nMore\\nI can't make any real suggestions on ...      0\n",
       "4  You, sir, are my hero. Any chance you remember...      0"
      ]
     },
     "execution_count": 3,
     "metadata": {},
     "output_type": "execute_result"
    }
   ],
   "source": [
    "try:\n",
    "    data = pd.read_csv('toxic_comments.csv')\n",
    "except:\n",
    "    data = pd.read_csv('/datasets/toxic_comments.csv')\n",
    "\n",
    "data = data[['text', 'toxic']]\n",
    "\n",
    "data.head()"
   ]
  },
  {
   "cell_type": "code",
   "execution_count": 4,
   "metadata": {},
   "outputs": [
    {
     "name": "stdout",
     "output_type": "stream",
     "text": [
      "<class 'pandas.core.frame.DataFrame'>\n",
      "RangeIndex: 159292 entries, 0 to 159291\n",
      "Data columns (total 2 columns):\n",
      " #   Column  Non-Null Count   Dtype \n",
      "---  ------  --------------   ----- \n",
      " 0   text    159292 non-null  object\n",
      " 1   toxic   159292 non-null  int64 \n",
      "dtypes: int64(1), object(1)\n",
      "memory usage: 2.4+ MB\n"
     ]
    }
   ],
   "source": [
    "data.info()"
   ]
  },
  {
   "cell_type": "markdown",
   "metadata": {},
   "source": [
    "Очистим и лемматизируем текст"
   ]
  },
  {
   "cell_type": "code",
   "execution_count": 5,
   "metadata": {},
   "outputs": [],
   "source": [
    "data = data.sample(1000)"
   ]
  },
  {
   "cell_type": "code",
   "execution_count": 6,
   "metadata": {},
   "outputs": [],
   "source": [
    "nlp = spacy.load(\"en_core_web_sm\")\n",
    "\n",
    "\n",
    "def clear_lemm_text(text):\n",
    "    text = re.sub(r\"(?:\\n|\\r)\", \" \", text)  \n",
    "    text = re.sub(r\"[^a-zA-Z' ]+\", \"\", text).strip()  \n",
    "    text = text.lower()   \n",
    "    \n",
    "    \n",
    "    doc = nlp(text)\n",
    "    lemmatized_text = [token.lemma_ for token in doc]\n",
    "    \n",
    "    return \" \".join(lemmatized_text)\n",
    "\n",
    "\n",
    "data['clear_lemm_text'] = data['text'].apply(clear_lemm_text)\n"
   ]
  },
  {
   "cell_type": "code",
   "execution_count": 7,
   "metadata": {},
   "outputs": [
    {
     "data": {
      "text/html": [
       "<div>\n",
       "<style scoped>\n",
       "    .dataframe tbody tr th:only-of-type {\n",
       "        vertical-align: middle;\n",
       "    }\n",
       "\n",
       "    .dataframe tbody tr th {\n",
       "        vertical-align: top;\n",
       "    }\n",
       "\n",
       "    .dataframe thead th {\n",
       "        text-align: right;\n",
       "    }\n",
       "</style>\n",
       "<table border=\"1\" class=\"dataframe\">\n",
       "  <thead>\n",
       "    <tr style=\"text-align: right;\">\n",
       "      <th></th>\n",
       "      <th>text</th>\n",
       "      <th>toxic</th>\n",
       "      <th>clear_lemm_text</th>\n",
       "    </tr>\n",
       "  </thead>\n",
       "  <tbody>\n",
       "    <tr>\n",
       "      <th>105696</th>\n",
       "      <td>I understand that you were obviously trying to...</td>\n",
       "      <td>0</td>\n",
       "      <td>I understand that you be obviously try to do t...</td>\n",
       "    </tr>\n",
       "    <tr>\n",
       "      <th>64380</th>\n",
       "      <td>(the text all-too-obviously scanned and import...</td>\n",
       "      <td>0</td>\n",
       "      <td>the text alltooobviously scan and import by an...</td>\n",
       "    </tr>\n",
       "    <tr>\n",
       "      <th>123499</th>\n",
       "      <td>I oppose the move. See also Talk:Islamic science.</td>\n",
       "      <td>0</td>\n",
       "      <td>I oppose the move see also talkislamic science</td>\n",
       "    </tr>\n",
       "    <tr>\n",
       "      <th>45137</th>\n",
       "      <td>\"\\n\\n Nonexistent Image in \"\"Name\"\" \\n\\nThe im...</td>\n",
       "      <td>0</td>\n",
       "      <td>nonexistent image in name    the image   in th...</td>\n",
       "    </tr>\n",
       "    <tr>\n",
       "      <th>38377</th>\n",
       "      <td>\"\\nSee the paragraph entitled \"\"Metropolitan\"\"...</td>\n",
       "      <td>0</td>\n",
       "      <td>see the paragraph entitle metropolitan in arch...</td>\n",
       "    </tr>\n",
       "  </tbody>\n",
       "</table>\n",
       "</div>"
      ],
      "text/plain": [
       "                                                     text  toxic  \\\n",
       "105696  I understand that you were obviously trying to...      0   \n",
       "64380   (the text all-too-obviously scanned and import...      0   \n",
       "123499  I oppose the move. See also Talk:Islamic science.      0   \n",
       "45137   \"\\n\\n Nonexistent Image in \"\"Name\"\" \\n\\nThe im...      0   \n",
       "38377   \"\\nSee the paragraph entitled \"\"Metropolitan\"\"...      0   \n",
       "\n",
       "                                          clear_lemm_text  \n",
       "105696  I understand that you be obviously try to do t...  \n",
       "64380   the text alltooobviously scan and import by an...  \n",
       "123499     I oppose the move see also talkislamic science  \n",
       "45137   nonexistent image in name    the image   in th...  \n",
       "38377   see the paragraph entitle metropolitan in arch...  "
      ]
     },
     "execution_count": 7,
     "metadata": {},
     "output_type": "execute_result"
    }
   ],
   "source": [
    "data.head()"
   ]
  },
  {
   "cell_type": "code",
   "execution_count": 10,
   "metadata": {},
   "outputs": [
    {
     "name": "stdout",
     "output_type": "stream",
     "text": [
      "Requirement already satisfied: pip in /opt/conda/lib/python3.9/site-packages (21.1.3)\n",
      "Collecting pip\n",
      "  Downloading pip-24.3.1-py3-none-any.whl (1.8 MB)\n",
      "\u001b[K     |████████████████████████████████| 1.8 MB 2.6 MB/s eta 0:00:01\n",
      "\u001b[?25hInstalling collected packages: pip\n",
      "  Attempting uninstall: pip\n",
      "    Found existing installation: pip 21.1.3\n",
      "    Uninstalling pip-21.1.3:\n",
      "      Successfully uninstalled pip-21.1.3\n",
      "Successfully installed pip-24.3.1\n",
      "Requirement already satisfied: Pillow in /opt/conda/lib/python3.9/site-packages (8.4.0)\n",
      "Collecting Pillow\n",
      "  Downloading pillow-11.0.0-cp39-cp39-manylinux_2_28_x86_64.whl.metadata (9.1 kB)\n",
      "Downloading pillow-11.0.0-cp39-cp39-manylinux_2_28_x86_64.whl (4.4 MB)\n",
      "\u001b[2K   \u001b[90m━━━━━━━━━━━━━━━━━━━━━━━━━━━━━━━━━━━━━━━━\u001b[0m \u001b[32m4.4/4.4 MB\u001b[0m \u001b[31m32.6 MB/s\u001b[0m eta \u001b[36m0:00:00\u001b[0ma \u001b[36m0:00:01\u001b[0m\n",
      "\u001b[?25h\u001b[33mWARNING: Error parsing dependencies of ipykernel: Expected matching RIGHT_PARENTHESIS for LEFT_PARENTHESIS, after version specifier\n",
      "    matplotlib-inline (<0.2.0appnope,>=0.1.0) ; platform_system == \"Darwin\"\n",
      "                      ~~~~~~~~^\u001b[0m\u001b[33m\n",
      "\u001b[0mInstalling collected packages: Pillow\n",
      "  Attempting uninstall: Pillow\n",
      "    Found existing installation: Pillow 8.4.0\n",
      "    Uninstalling Pillow-8.4.0:\n",
      "      Successfully uninstalled Pillow-8.4.0\n",
      "Successfully installed Pillow-11.0.0\n"
     ]
    }
   ],
   "source": [
    "!pip install --upgrade pip\n",
    "\n",
    "!pip install --upgrade Pillow"
   ]
  },
  {
   "cell_type": "code",
   "execution_count": 10,
   "metadata": {},
   "outputs": [],
   "source": [
    "data_toxic = data.query('toxic == 1')"
   ]
  },
  {
   "cell_type": "code",
   "execution_count": 14,
   "metadata": {},
   "outputs": [
    {
     "data": {
      "image/png": "[encoded data removed]",
      "text/plain": [
       "<Figure size 720x360 with 1 Axes>"
      ]
     },
     "metadata": {
      "needs_background": "light"
     },
     "output_type": "display_data"
    }
   ],
   "source": [
    "text = ' '.join(data_toxic['clear_lemm_text'])\n",
    "\n",
    "wordcloud = WordCloud(width=3000, height=3000, background_color='white').generate(text)\n",
    "\n",
    "plt.figure(figsize=(10, 5))\n",
    "plt.imshow(wordcloud, interpolation='bilinear')\n",
    "plt.axis('off')\n",
    "\n",
    "\n",
    "plt.savefig('wordcloud.png', format='png')\n"
   ]
  },
  {
   "cell_type": "markdown",
   "metadata": {},
   "source": [
    "**СЛЕДУЮЩИЙ БЛОК ОПЦИОНАЛЕН и ИСПОЛЬЗОВАЛСЯ ТОЛЬКО ДЛЯ ПРОМЕЖУТОЧНОГО РЕЗУЛЬТАТА И ЧТОБЫ НЕ ЛЕММАТИЗИРОВАТЬ КАЖДЫЙ РАЗ ПРИ ПЕРЕЗАПУСКЕ**"
   ]
  },
  {
   "cell_type": "markdown",
   "metadata": {},
   "source": [
    "Т.к. лемматизация занимает время, сохраним файл в .csv"
   ]
  },
  {
   "cell_type": "code",
   "execution_count": 7,
   "metadata": {},
   "outputs": [],
   "source": [
    "#data.to_csv('toxic_comments_cleaned.csv', index=False)"
   ]
  },
  {
   "cell_type": "markdown",
   "metadata": {},
   "source": [
    "Перезапишем data"
   ]
  },
  {
   "cell_type": "code",
   "execution_count": 8,
   "metadata": {},
   "outputs": [],
   "source": [
    "#data = pd.read_csv('toxic_comments_cleaned.csv')"
   ]
  },
  {
   "cell_type": "markdown",
   "metadata": {},
   "source": [
    "КОНЕЦ БЛОКА"
   ]
  },
  {
   "cell_type": "markdown",
   "metadata": {},
   "source": [
    "Сделаем обзор нового data после лемматизации"
   ]
  },
  {
   "cell_type": "code",
   "execution_count": 9,
   "metadata": {},
   "outputs": [
    {
     "name": "stdout",
     "output_type": "stream",
     "text": [
      "<class 'pandas.core.frame.DataFrame'>\n",
      "Int64Index: 100 entries, 100957 to 8917\n",
      "Data columns (total 3 columns):\n",
      " #   Column           Non-Null Count  Dtype \n",
      "---  ------           --------------  ----- \n",
      " 0   text             100 non-null    object\n",
      " 1   toxic            100 non-null    int64 \n",
      " 2   clear_lemm_text  100 non-null    object\n",
      "dtypes: int64(1), object(2)\n",
      "memory usage: 3.1+ KB\n"
     ]
    }
   ],
   "source": [
    "data.info()"
   ]
  },
  {
   "cell_type": "markdown",
   "metadata": {},
   "source": [
    "Пропуски:"
   ]
  },
  {
   "cell_type": "code",
   "execution_count": 10,
   "metadata": {},
   "outputs": [
    {
     "data": {
      "text/plain": [
       "text               0\n",
       "toxic              0\n",
       "clear_lemm_text    0\n",
       "dtype: int64"
      ]
     },
     "execution_count": 10,
     "metadata": {},
     "output_type": "execute_result"
    }
   ],
   "source": [
    "data.isna().sum()"
   ]
  },
  {
   "cell_type": "markdown",
   "metadata": {},
   "source": [
    "Заполнение пропусков"
   ]
  },
  {
   "cell_type": "code",
   "execution_count": 11,
   "metadata": {},
   "outputs": [],
   "source": [
    "data = data.dropna()"
   ]
  },
  {
   "cell_type": "markdown",
   "metadata": {},
   "source": [
    "Избавимся от колонки с первоначальными текстами:"
   ]
  },
  {
   "cell_type": "code",
   "execution_count": 12,
   "metadata": {},
   "outputs": [],
   "source": [
    "data = data.drop(columns=['text'])"
   ]
  },
  {
   "cell_type": "code",
   "execution_count": 13,
   "metadata": {},
   "outputs": [
    {
     "data": {
      "text/html": [
       "<div>\n",
       "<style scoped>\n",
       "    .dataframe tbody tr th:only-of-type {\n",
       "        vertical-align: middle;\n",
       "    }\n",
       "\n",
       "    .dataframe tbody tr th {\n",
       "        vertical-align: top;\n",
       "    }\n",
       "\n",
       "    .dataframe thead th {\n",
       "        text-align: right;\n",
       "    }\n",
       "</style>\n",
       "<table border=\"1\" class=\"dataframe\">\n",
       "  <thead>\n",
       "    <tr style=\"text-align: right;\">\n",
       "      <th></th>\n",
       "      <th>toxic</th>\n",
       "      <th>clear_lemm_text</th>\n",
       "    </tr>\n",
       "  </thead>\n",
       "  <tbody>\n",
       "    <tr>\n",
       "      <th>100957</th>\n",
       "      <td>0</td>\n",
       "      <td>you be not an a illeterate   you be an illiterate</td>\n",
       "    </tr>\n",
       "    <tr>\n",
       "      <th>152254</th>\n",
       "      <td>1</td>\n",
       "      <td>I be a really big fat fag I like to jerkoff in...</td>\n",
       "    </tr>\n",
       "    <tr>\n",
       "      <th>149747</th>\n",
       "      <td>1</td>\n",
       "      <td>editor theredpenofdoom be not a mod or an admi...</td>\n",
       "    </tr>\n",
       "    <tr>\n",
       "      <th>51975</th>\n",
       "      <td>0</td>\n",
       "      <td>mphilly a tag have be place on mphilly request...</td>\n",
       "    </tr>\n",
       "    <tr>\n",
       "      <th>156266</th>\n",
       "      <td>0</td>\n",
       "      <td>yes I be get quite sick of realist do this as ...</td>\n",
       "    </tr>\n",
       "  </tbody>\n",
       "</table>\n",
       "</div>"
      ],
      "text/plain": [
       "        toxic                                    clear_lemm_text\n",
       "100957      0  you be not an a illeterate   you be an illiterate\n",
       "152254      1  I be a really big fat fag I like to jerkoff in...\n",
       "149747      1  editor theredpenofdoom be not a mod or an admi...\n",
       "51975       0  mphilly a tag have be place on mphilly request...\n",
       "156266      0  yes I be get quite sick of realist do this as ..."
      ]
     },
     "execution_count": 13,
     "metadata": {},
     "output_type": "execute_result"
    }
   ],
   "source": [
    "data.head()"
   ]
  },
  {
   "cell_type": "code",
   "execution_count": 14,
   "metadata": {},
   "outputs": [
    {
     "data": {
      "image/png": "[encoded data removed]",
      "text/plain": [
       "<Figure size 432x288 with 1 Axes>"
      ]
     },
     "metadata": {},
     "output_type": "display_data"
    }
   ],
   "source": [
    "data['toxic'].value_counts()\\\n",
    ".plot(kind='pie', title='Распределение токсичных (1) и не токсичных(0) комментариев в выборке', autopct='%1.1f%%');"
   ]
  },
  {
   "cell_type": "markdown",
   "metadata": {},
   "source": [
    "Существует дисбаланс классов, выборку при разбиении нужно стратифицировать"
   ]
  },
  {
   "cell_type": "markdown",
   "metadata": {},
   "source": [
    "Проведем разбиение на выборки и векторизацию:"
   ]
  },
  {
   "cell_type": "code",
   "execution_count": 15,
   "metadata": {},
   "outputs": [],
   "source": [
    "\n",
    "X_train, X_test, y_train, y_test = train_test_split(data['clear_lemm_text'], data['toxic'], \\\n",
    "                                                    test_size=0.1, random_state=42, stratify = data['toxic'])\n",
    "y_train = y_train.values  \n",
    "y_test = y_test.values"
   ]
  },
  {
   "cell_type": "markdown",
   "metadata": {},
   "source": [
    "## Обучение"
   ]
  },
  {
   "cell_type": "markdown",
   "metadata": {},
   "source": [
    "Используем модели Логистической регрессии и модель наивного байсовского поиска (тоже хорошо работает с текстами):"
   ]
  },
  {
   "cell_type": "code",
   "execution_count": 16,
   "metadata": {},
   "outputs": [
    {
     "name": "stdout",
     "output_type": "stream",
     "text": [
      "Fitting 3 folds for each of 5 candidates, totalling 15 fits\n"
     ]
    },
    {
     "data": {
      "text/plain": [
       "RandomizedSearchCV(cv=3,\n",
       "                   estimator=Pipeline(steps=[('vect',\n",
       "                                              TfidfVectorizer(stop_words='english')),\n",
       "                                             ('models', MultinomialNB())]),\n",
       "                   n_jobs=-1,\n",
       "                   param_distributions=[{'models': [MultinomialNB()]},\n",
       "                                        {'models': [LogisticRegression(random_state=42)],\n",
       "                                         'models__C': [1, 2, 3, 4],\n",
       "                                         'models__penalty': ['l1'],\n",
       "                                         'models__solver': ['saga']}],\n",
       "                   random_state=42, scoring='f1', verbose=1)"
      ]
     },
     "execution_count": 16,
     "metadata": {},
     "output_type": "execute_result"
    }
   ],
   "source": [
    "pipe_final = Pipeline(\n",
    "    [\n",
    "        (\"vect\", TfidfVectorizer(stop_words='english')),\n",
    "        (\"models\", MultinomialNB())  \n",
    "    ]\n",
    ")\n",
    "param_grid = [\n",
    "    {\n",
    "        'models': [MultinomialNB()]\n",
    "    },\n",
    "    {\n",
    "        'models': [LogisticRegression(random_state=RANDOM_STATE, max_iter=100)],\n",
    "        'models__solver': ['saga'],  \n",
    "        'models__penalty': ['l1'],        \n",
    "        'models__C': list(range(1, 5))\n",
    "    }\n",
    "]\n",
    "\n",
    "random_search = RandomizedSearchCV(\n",
    "    pipe_final, \n",
    "    param_grid, \n",
    "    n_iter=10,  \n",
    "    cv=3,\n",
    "    scoring='f1',\n",
    "    n_jobs=-1,\n",
    "    random_state=RANDOM_STATE,\n",
    "    verbose=1\n",
    ")\n",
    "\n",
    "random_search.fit(X_train.values, y_train)\n",
    "\n"
   ]
  },
  {
   "cell_type": "markdown",
   "metadata": {},
   "source": [
    "Выведем результаты в датафрейме:"
   ]
  },
  {
   "cell_type": "code",
   "execution_count": 17,
   "metadata": {},
   "outputs": [],
   "source": [
    "result = pd.DataFrame(random_search.cv_results_)\n",
    "\n",
    "pd.set_option('display.max_columns', None)\n",
    "pd.set_option('display.width', None)\n",
    "pd.set_option('display.max_colwidth', None)\n",
    "\n",
    "result['model'] = result['params'].apply(lambda x: x['models'].__class__.__name__)"
   ]
  },
  {
   "cell_type": "code",
   "execution_count": 18,
   "metadata": {},
   "outputs": [
    {
     "data": {
      "text/html": [
       "<div>\n",
       "<style scoped>\n",
       "    .dataframe tbody tr th:only-of-type {\n",
       "        vertical-align: middle;\n",
       "    }\n",
       "\n",
       "    .dataframe tbody tr th {\n",
       "        vertical-align: top;\n",
       "    }\n",
       "\n",
       "    .dataframe thead th {\n",
       "        text-align: right;\n",
       "    }\n",
       "</style>\n",
       "<table border=\"1\" class=\"dataframe\">\n",
       "  <thead>\n",
       "    <tr style=\"text-align: right;\">\n",
       "      <th></th>\n",
       "      <th>model</th>\n",
       "      <th>mean_test_score</th>\n",
       "      <th>params</th>\n",
       "    </tr>\n",
       "  </thead>\n",
       "  <tbody>\n",
       "    <tr>\n",
       "      <th>0</th>\n",
       "      <td>MultinomialNB</td>\n",
       "      <td>0.0</td>\n",
       "      <td>{'models': MultinomialNB()}</td>\n",
       "    </tr>\n",
       "    <tr>\n",
       "      <th>1</th>\n",
       "      <td>LogisticRegression</td>\n",
       "      <td>0.0</td>\n",
       "      <td>{'models__solver': 'saga', 'models__penalty': 'l1', 'models__C': 1, 'models': LogisticRegression(random_state=42)}</td>\n",
       "    </tr>\n",
       "    <tr>\n",
       "      <th>2</th>\n",
       "      <td>LogisticRegression</td>\n",
       "      <td>0.0</td>\n",
       "      <td>{'models__solver': 'saga', 'models__penalty': 'l1', 'models__C': 2, 'models': LogisticRegression(random_state=42)}</td>\n",
       "    </tr>\n",
       "    <tr>\n",
       "      <th>3</th>\n",
       "      <td>LogisticRegression</td>\n",
       "      <td>0.0</td>\n",
       "      <td>{'models__solver': 'saga', 'models__penalty': 'l1', 'models__C': 3, 'models': LogisticRegression(random_state=42)}</td>\n",
       "    </tr>\n",
       "    <tr>\n",
       "      <th>4</th>\n",
       "      <td>LogisticRegression</td>\n",
       "      <td>0.0</td>\n",
       "      <td>{'models__solver': 'saga', 'models__penalty': 'l1', 'models__C': 4, 'models': LogisticRegression(random_state=42)}</td>\n",
       "    </tr>\n",
       "  </tbody>\n",
       "</table>\n",
       "</div>"
      ],
      "text/plain": [
       "                model  mean_test_score  \\\n",
       "0       MultinomialNB              0.0   \n",
       "1  LogisticRegression              0.0   \n",
       "2  LogisticRegression              0.0   \n",
       "3  LogisticRegression              0.0   \n",
       "4  LogisticRegression              0.0   \n",
       "\n",
       "                                                                                                               params  \n",
       "0                                                                                         {'models': MultinomialNB()}  \n",
       "1  {'models__solver': 'saga', 'models__penalty': 'l1', 'models__C': 1, 'models': LogisticRegression(random_state=42)}  \n",
       "2  {'models__solver': 'saga', 'models__penalty': 'l1', 'models__C': 2, 'models': LogisticRegression(random_state=42)}  \n",
       "3  {'models__solver': 'saga', 'models__penalty': 'l1', 'models__C': 3, 'models': LogisticRegression(random_state=42)}  \n",
       "4  {'models__solver': 'saga', 'models__penalty': 'l1', 'models__C': 4, 'models': LogisticRegression(random_state=42)}  "
      ]
     },
     "execution_count": 18,
     "metadata": {},
     "output_type": "execute_result"
    }
   ],
   "source": [
    "result[['model','mean_test_score', 'params']].sort_values(by='mean_test_score', ascending=False)"
   ]
  },
  {
   "cell_type": "code",
   "execution_count": 19,
   "metadata": {},
   "outputs": [
    {
     "data": {
      "text/plain": [
       "Pipeline(steps=[('vect', TfidfVectorizer(stop_words='english')),\n",
       "                ('models', MultinomialNB())])"
      ]
     },
     "execution_count": 19,
     "metadata": {},
     "output_type": "execute_result"
    }
   ],
   "source": [
    "random_search.best_estimator_"
   ]
  },
  {
   "cell_type": "markdown",
   "metadata": {},
   "source": [
    "Сохранение модели"
   ]
  },
  {
   "cell_type": "code",
   "execution_count": 20,
   "metadata": {},
   "outputs": [
    {
     "data": {
      "text/plain": [
       "['best_model.pkl']"
      ]
     },
     "execution_count": 20,
     "metadata": {},
     "output_type": "execute_result"
    }
   ],
   "source": [
    "best_model = random_search.best_estimator_  \n",
    "joblib.dump(best_model, 'best_model.pkl')  "
   ]
  },
  {
   "cell_type": "markdown",
   "metadata": {},
   "source": [
    "Проверим модель на тестовой выборке:"
   ]
  },
  {
   "cell_type": "code",
   "execution_count": 21,
   "metadata": {},
   "outputs": [
    {
     "name": "stdout",
     "output_type": "stream",
     "text": [
      "Значение метрики f1:  0.0\n"
     ]
    }
   ],
   "source": [
    "y_pred = best_model.predict(X_test.values)\n",
    "f1 = f1_score(y_test, y_pred, average='binary')\n",
    "\n",
    "print('Значение метрики f1: ',round(f1, 2))"
   ]
  },
  {
   "cell_type": "markdown",
   "metadata": {},
   "source": [
    "## Выводы"
   ]
  },
  {
   "cell_type": "markdown",
   "metadata": {},
   "source": [
    "1. Был исследован и обработан пул комментариев интернет-магазина, выявлено что не токсичных комментариев примерно 90%,  токсичных 10%.\n",
    "2. Произведена очистка и лемматизация комментариев посредством библиотеку spacy, комментарии очищены от знаков препинания, приведены к инфинитивной форме.\n",
    "3. Полученные лемматизированные коментарии билы векторизованы и переданы моделям. Из-за скорости работы (были предварительно изучены возможности использования метода опорных векторов, ближайшего соседа) были выбраны модели Логистической регрессии и Мультаноминального байсовского наивного поиска. Эти модели работают наиболее быстро и с приемлимой точностью.\n",
    "4. Модель логистической регрессии с штрафами оказалась наиболее приемлимой для работы, ее параметры: **{'models__solver': 'saga', 'models__penalty': 'l1', 'models__C': 4, 'models': LogisticRegression(random_state=42)}**, значение метрики F1 находилось на уровне 0.76"
   ]
  },
  {
   "cell_type": "markdown",
   "metadata": {},
   "source": []
  }
 ],
 "metadata": {
  "ExecuteTimeLog": [
   {
    "duration": 3707,
    "start_time": "2024-11-24T08:06:55.030Z"
   },
   {
    "duration": 3680,
    "start_time": "2024-11-24T08:07:02.199Z"
   },
   {
    "duration": 30,
    "start_time": "2024-11-24T08:07:15.214Z"
   },
   {
    "duration": 7692715,
    "start_time": "2024-11-24T14:05:41.620Z"
   },
   {
    "duration": 8,
    "start_time": "2024-11-24T16:13:54.337Z"
   },
   {
    "duration": 6,
    "start_time": "2024-11-24T16:13:54.346Z"
   },
   {
    "duration": 6,
    "start_time": "2024-11-24T16:13:54.354Z"
   },
   {
    "duration": 72,
    "start_time": "2024-11-24T16:13:54.362Z"
   },
   {
    "duration": 65,
    "start_time": "2024-11-24T16:13:54.436Z"
   },
   {
    "duration": 98,
    "start_time": "2024-11-24T16:13:54.502Z"
   },
   {
    "duration": 14,
    "start_time": "2024-11-24T16:13:54.602Z"
   },
   {
    "duration": 14,
    "start_time": "2024-11-24T16:13:54.619Z"
   },
   {
    "duration": 293,
    "start_time": "2024-11-24T16:13:54.634Z"
   },
   {
    "duration": 75,
    "start_time": "2024-11-24T16:13:54.930Z"
   },
   {
    "duration": 338,
    "start_time": "2024-11-24T16:13:55.007Z"
   },
   {
    "duration": 0,
    "start_time": "2024-11-24T16:13:55.347Z"
   },
   {
    "duration": 0,
    "start_time": "2024-11-24T16:13:55.348Z"
   },
   {
    "duration": 0,
    "start_time": "2024-11-24T16:13:55.350Z"
   },
   {
    "duration": 0,
    "start_time": "2024-11-24T16:13:55.351Z"
   },
   {
    "duration": 0,
    "start_time": "2024-11-24T16:13:55.353Z"
   },
   {
    "duration": 0,
    "start_time": "2024-11-24T16:13:55.354Z"
   },
   {
    "duration": 0,
    "start_time": "2024-11-24T16:13:55.355Z"
   },
   {
    "duration": 0,
    "start_time": "2024-11-24T16:13:55.356Z"
   },
   {
    "duration": 0,
    "start_time": "2024-11-24T16:13:55.358Z"
   },
   {
    "duration": 0,
    "start_time": "2024-11-24T16:13:55.359Z"
   },
   {
    "duration": 0,
    "start_time": "2024-11-24T16:13:55.360Z"
   },
   {
    "duration": 0,
    "start_time": "2024-11-24T16:13:55.361Z"
   },
   {
    "duration": 0,
    "start_time": "2024-11-24T16:13:55.363Z"
   },
   {
    "duration": 0,
    "start_time": "2024-11-24T16:13:55.364Z"
   },
   {
    "duration": 0,
    "start_time": "2024-11-24T16:13:55.401Z"
   },
   {
    "duration": 0,
    "start_time": "2024-11-24T16:13:55.402Z"
   },
   {
    "duration": 0,
    "start_time": "2024-11-24T16:13:55.404Z"
   },
   {
    "duration": 0,
    "start_time": "2024-11-24T16:13:55.406Z"
   },
   {
    "duration": 5,
    "start_time": "2024-11-24T16:15:56.570Z"
   },
   {
    "duration": 1539,
    "start_time": "2024-11-24T16:16:10.883Z"
   },
   {
    "duration": 34,
    "start_time": "2024-11-24T16:16:13.654Z"
   },
   {
    "duration": 985184,
    "start_time": "2024-11-24T16:16:29.186Z"
   },
   {
    "duration": 7,
    "start_time": "2024-11-24T16:32:54.372Z"
   },
   {
    "duration": 67,
    "start_time": "2024-11-24T17:01:08.168Z"
   },
   {
    "duration": 55,
    "start_time": "2024-11-24T17:01:10.436Z"
   },
   {
    "duration": 91,
    "start_time": "2024-11-24T17:01:11.920Z"
   },
   {
    "duration": 16,
    "start_time": "2024-11-24T17:01:13.044Z"
   },
   {
    "duration": 7,
    "start_time": "2024-11-24T17:01:14.261Z"
   },
   {
    "duration": 75,
    "start_time": "2024-11-24T17:01:24.081Z"
   },
   {
    "duration": 18,
    "start_time": "2024-11-24T17:01:27.597Z"
   },
   {
    "duration": 22,
    "start_time": "2024-11-24T17:04:22.883Z"
   },
   {
    "duration": 19,
    "start_time": "2024-11-24T17:04:30.317Z"
   },
   {
    "duration": 3956,
    "start_time": "2024-11-24T17:20:19.281Z"
   },
   {
    "duration": 1253,
    "start_time": "2024-11-24T17:20:23.239Z"
   },
   {
    "duration": 30,
    "start_time": "2024-11-24T17:20:24.494Z"
   },
   {
    "duration": 2248613,
    "start_time": "2024-11-24T17:20:24.526Z"
   },
   {
    "duration": 9,
    "start_time": "2024-11-24T17:57:53.141Z"
   },
   {
    "duration": 8,
    "start_time": "2024-11-24T17:57:53.152Z"
   },
   {
    "duration": 7,
    "start_time": "2024-11-24T17:57:53.162Z"
   },
   {
    "duration": 82,
    "start_time": "2024-11-24T17:57:53.171Z"
   },
   {
    "duration": 62,
    "start_time": "2024-11-24T17:57:53.255Z"
   },
   {
    "duration": 109,
    "start_time": "2024-11-24T17:57:53.320Z"
   },
   {
    "duration": 14,
    "start_time": "2024-11-24T17:57:53.430Z"
   },
   {
    "duration": 8,
    "start_time": "2024-11-24T17:57:53.446Z"
   },
   {
    "duration": 533,
    "start_time": "2024-11-24T17:57:53.456Z"
   },
   {
    "duration": 111,
    "start_time": "2024-11-24T17:57:53.991Z"
   },
   {
    "duration": 1275651,
    "start_time": "2024-11-24T17:57:54.110Z"
   },
   {
    "duration": 0,
    "start_time": "2024-11-24T18:19:09.763Z"
   },
   {
    "duration": 1,
    "start_time": "2024-11-24T18:19:09.764Z"
   },
   {
    "duration": 0,
    "start_time": "2024-11-24T18:19:09.766Z"
   },
   {
    "duration": 0,
    "start_time": "2024-11-24T18:19:09.767Z"
   },
   {
    "duration": 0,
    "start_time": "2024-11-24T18:19:09.768Z"
   },
   {
    "duration": 3794,
    "start_time": "2024-11-24T18:40:52.395Z"
   },
   {
    "duration": 980,
    "start_time": "2024-11-24T18:40:56.191Z"
   },
   {
    "duration": 47,
    "start_time": "2024-11-24T18:40:57.173Z"
   },
   {
    "duration": 3850,
    "start_time": "2024-11-24T19:27:20.846Z"
   },
   {
    "duration": 935,
    "start_time": "2024-11-24T19:27:24.698Z"
   },
   {
    "duration": 7,
    "start_time": "2024-11-24T19:27:25.635Z"
   },
   {
    "duration": 12,
    "start_time": "2024-11-24T19:27:25.645Z"
   },
   {
    "duration": 2324,
    "start_time": "2024-11-24T19:27:25.659Z"
   },
   {
    "duration": 7,
    "start_time": "2024-11-24T19:27:27.985Z"
   },
   {
    "duration": 3,
    "start_time": "2024-11-24T19:27:27.994Z"
   },
   {
    "duration": 4,
    "start_time": "2024-11-24T19:27:27.999Z"
   },
   {
    "duration": 17,
    "start_time": "2024-11-24T19:27:28.004Z"
   },
   {
    "duration": 7,
    "start_time": "2024-11-24T19:27:28.023Z"
   },
   {
    "duration": 8,
    "start_time": "2024-11-24T19:27:28.031Z"
   },
   {
    "duration": 3,
    "start_time": "2024-11-24T19:27:28.041Z"
   },
   {
    "duration": 20,
    "start_time": "2024-11-24T19:27:28.046Z"
   },
   {
    "duration": 310,
    "start_time": "2024-11-24T19:27:28.068Z"
   },
   {
    "duration": 5,
    "start_time": "2024-11-24T19:27:28.380Z"
   },
   {
    "duration": 219,
    "start_time": "2024-11-24T19:27:28.387Z"
   },
   {
    "duration": 7,
    "start_time": "2024-11-24T19:27:28.608Z"
   },
   {
    "duration": 22,
    "start_time": "2024-11-24T19:27:28.617Z"
   },
   {
    "duration": 7,
    "start_time": "2024-11-24T19:27:28.642Z"
   },
   {
    "duration": 139,
    "start_time": "2024-11-24T19:27:28.651Z"
   },
   {
    "duration": 7,
    "start_time": "2024-11-24T19:27:28.792Z"
   },
   {
    "duration": 3760,
    "start_time": "2024-11-25T11:28:53.622Z"
   },
   {
    "duration": 3906,
    "start_time": "2024-11-25T11:29:43.365Z"
   },
   {
    "duration": 580,
    "start_time": "2024-11-25T11:30:13.346Z"
   },
   {
    "duration": 1283,
    "start_time": "2024-11-25T11:30:21.074Z"
   },
   {
    "duration": 24,
    "start_time": "2024-11-25T11:30:24.821Z"
   },
   {
    "duration": 9,
    "start_time": "2024-11-25T11:30:53.425Z"
   },
   {
    "duration": 13951,
    "start_time": "2024-11-25T11:30:54.666Z"
   },
   {
    "duration": 8,
    "start_time": "2024-11-25T11:31:16.654Z"
   },
   {
    "duration": 203,
    "start_time": "2024-11-25T11:32:10.532Z"
   },
   {
    "duration": 8509,
    "start_time": "2024-11-25T11:33:05.120Z"
   },
   {
    "duration": 205,
    "start_time": "2024-11-25T11:33:17.142Z"
   },
   {
    "duration": 2123,
    "start_time": "2024-11-25T11:33:33.788Z"
   },
   {
    "duration": 3776,
    "start_time": "2024-11-25T11:33:35.914Z"
   },
   {
    "duration": 891,
    "start_time": "2024-11-25T11:33:39.692Z"
   },
   {
    "duration": 21,
    "start_time": "2024-11-25T11:33:40.584Z"
   },
   {
    "duration": 13,
    "start_time": "2024-11-25T11:33:40.620Z"
   },
   {
    "duration": 13367,
    "start_time": "2024-11-25T11:33:40.634Z"
   },
   {
    "duration": 7,
    "start_time": "2024-11-25T11:33:54.002Z"
   },
   {
    "duration": 978,
    "start_time": "2024-11-25T11:33:54.012Z"
   },
   {
    "duration": 1977,
    "start_time": "2024-11-25T11:34:24.223Z"
   },
   {
    "duration": 6,
    "start_time": "2024-11-25T11:36:31.765Z"
   },
   {
    "duration": 1776,
    "start_time": "2024-11-25T11:36:44.655Z"
   },
   {
    "duration": 2000,
    "start_time": "2024-11-25T11:42:47.346Z"
   },
   {
    "duration": 1987,
    "start_time": "2024-11-25T11:43:25.477Z"
   },
   {
    "duration": 14610,
    "start_time": "2024-11-25T11:44:29.397Z"
   }
  ],
  "kernelspec": {
   "display_name": "Python 3 (ipykernel)",
   "language": "python",
   "name": "python3"
  },
  "language_info": {
   "codemirror_mode": {
    "name": "ipython",
    "version": 3
   },
   "file_extension": ".py",
   "mimetype": "text/x-python",
   "name": "python",
   "nbconvert_exporter": "python",
   "pygments_lexer": "ipython3",
   "version": "3.9.5"
  },
  "toc": {
   "base_numbering": 1,
   "nav_menu": {},
   "number_sections": true,
   "sideBar": true,
   "skip_h1_title": true,
   "title_cell": "Содержание",
   "title_sidebar": "Contents",
   "toc_cell": true,
   "toc_position": {
    "height": "calc(100% - 180px)",
    "left": "10px",
    "top": "150px",
    "width": "302.391px"
   },
   "toc_section_display": true,
   "toc_window_display": false
  }
 },
 "nbformat": 4,
 "nbformat_minor": 2
}
