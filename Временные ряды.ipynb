{
 "cells": [
  {
   "cell_type": "markdown",
   "metadata": {
    "toc": true
   },
   "source": [
    "<h1>Содержание<span class=\"tocSkip\"></span></h1>\n",
    "<div class=\"toc\"><ul class=\"toc-item\"><li><span><a href=\"#Подготовка\" data-toc-modified-id=\"Подготовка-1\"><span class=\"toc-item-num\">1&nbsp;&nbsp;</span>Подготовка</a></span></li><li><span><a href=\"#Анализ\" data-toc-modified-id=\"Анализ-2\"><span class=\"toc-item-num\">2&nbsp;&nbsp;</span>Анализ</a></span></li><li><span><a href=\"#Обучение\" data-toc-modified-id=\"Обучение-3\"><span class=\"toc-item-num\">3&nbsp;&nbsp;</span>Обучение</a></span></li><li><span><a href=\"#Тестирование\" data-toc-modified-id=\"Тестирование-4\"><span class=\"toc-item-num\">4&nbsp;&nbsp;</span>Тестирование</a></span></li><li><span><a href=\"#Общий-Вывод\" data-toc-modified-id=\"Общий-Вывод-5\"><span class=\"toc-item-num\">5&nbsp;&nbsp;</span>Общий Вывод</a></span></li><li><span><a href=\"#Чек-лист-проверки\" data-toc-modified-id=\"Чек-лист-проверки-6\"><span class=\"toc-item-num\">6&nbsp;&nbsp;</span>Чек-лист проверки</a></span></li></ul></div>"
   ]
  },
  {
   "cell_type": "markdown",
   "metadata": {},
   "source": [
    "#  Прогнозирование заказов такси"
   ]
  },
  {
   "cell_type": "markdown",
   "metadata": {},
   "source": [
    "Компания «Чётенькое такси» собрала исторические данные о заказах такси в аэропортах. Чтобы привлекать больше водителей в период пиковой нагрузки, нужно спрогнозировать количество заказов такси на следующий час. Постройте модель для такого предсказания.\n",
    "\n",
    "Значение метрики *RMSE* на тестовой выборке должно быть не больше 48.\n",
    "\n",
    "Вам нужно:\n",
    "\n",
    "1. Загрузить данные и выполнить их ресемплирование по одному часу.\n",
    "2. Проанализировать данные.\n",
    "3. Обучить разные модели с различными гиперпараметрами. Сделать тестовую выборку размером 10% от исходных данных.\n",
    "4. Проверить данные на тестовой выборке и сделать выводы.\n",
    "\n",
    "\n",
    "Данные лежат в файле `taxi.csv`. Количество заказов находится в столбце `num_orders` (от англ. *number of orders*, «число заказов»)."
   ]
  },
  {
   "cell_type": "markdown",
   "metadata": {},
   "source": [
    "**Импорт библиотек:**"
   ]
  },
  {
   "cell_type": "code",
   "execution_count": 1,
   "metadata": {},
   "outputs": [],
   "source": [
    "import numpy as np\n",
    "import pandas as pd\n",
    "import matplotlib.pyplot as plt\n",
    "from sklearn.model_selection import train_test_split, RandomizedSearchCV, TimeSeriesSplit\n",
    "from sklearn.compose import ColumnTransformer\n",
    "from sklearn.pipeline import Pipeline\n",
    "from sklearn.preprocessing import (OneHotEncoder, \n",
    "                                   StandardScaler, \n",
    "                                   MinMaxScaler)\n",
    "from sklearn.tree import DecisionTreeRegressor\n",
    "import lightgbm as lgb\n",
    "from sklearn.linear_model import LinearRegression\n",
    "from sklearn.metrics import mean_squared_error\n",
    "from statsmodels.tsa.seasonal import seasonal_decompose\n",
    "from statsmodels.graphics.tsaplots import plot_acf\n",
    "\n",
    "import time\n",
    "\n",
    "RANDOM_STATE = 42"
   ]
  },
  {
   "cell_type": "markdown",
   "metadata": {},
   "source": [
    "## Подготовка"
   ]
  },
  {
   "cell_type": "code",
   "execution_count": 2,
   "metadata": {},
   "outputs": [
    {
     "data": {
      "text/html": [
       "<div>\n",
       "<style scoped>\n",
       "    .dataframe tbody tr th:only-of-type {\n",
       "        vertical-align: middle;\n",
       "    }\n",
       "\n",
       "    .dataframe tbody tr th {\n",
       "        vertical-align: top;\n",
       "    }\n",
       "\n",
       "    .dataframe thead th {\n",
       "        text-align: right;\n",
       "    }\n",
       "</style>\n",
       "<table border=\"1\" class=\"dataframe\">\n",
       "  <thead>\n",
       "    <tr style=\"text-align: right;\">\n",
       "      <th></th>\n",
       "      <th>num_orders</th>\n",
       "    </tr>\n",
       "    <tr>\n",
       "      <th>datetime</th>\n",
       "      <th></th>\n",
       "    </tr>\n",
       "  </thead>\n",
       "  <tbody>\n",
       "    <tr>\n",
       "      <th>2018-03-01 00:00:00</th>\n",
       "      <td>9</td>\n",
       "    </tr>\n",
       "    <tr>\n",
       "      <th>2018-03-01 00:10:00</th>\n",
       "      <td>14</td>\n",
       "    </tr>\n",
       "    <tr>\n",
       "      <th>2018-03-01 00:20:00</th>\n",
       "      <td>28</td>\n",
       "    </tr>\n",
       "    <tr>\n",
       "      <th>2018-03-01 00:30:00</th>\n",
       "      <td>20</td>\n",
       "    </tr>\n",
       "    <tr>\n",
       "      <th>2018-03-01 00:40:00</th>\n",
       "      <td>32</td>\n",
       "    </tr>\n",
       "  </tbody>\n",
       "</table>\n",
       "</div>"
      ],
      "text/plain": [
       "                     num_orders\n",
       "datetime                       \n",
       "2018-03-01 00:00:00           9\n",
       "2018-03-01 00:10:00          14\n",
       "2018-03-01 00:20:00          28\n",
       "2018-03-01 00:30:00          20\n",
       "2018-03-01 00:40:00          32"
      ]
     },
     "execution_count": 2,
     "metadata": {},
     "output_type": "execute_result"
    }
   ],
   "source": [
    "data = pd.read_csv('/datasets/taxi.csv', index_col=[0], parse_dates=[0])\n",
    "data.head()"
   ]
  },
  {
   "cell_type": "code",
   "execution_count": 3,
   "metadata": {
    "scrolled": true
   },
   "outputs": [
    {
     "name": "stdout",
     "output_type": "stream",
     "text": [
      "<class 'pandas.core.frame.DataFrame'>\n",
      "DatetimeIndex: 26496 entries, 2018-03-01 00:00:00 to 2018-08-31 23:50:00\n",
      "Data columns (total 1 columns):\n",
      " #   Column      Non-Null Count  Dtype\n",
      "---  ------      --------------  -----\n",
      " 0   num_orders  26496 non-null  int64\n",
      "dtypes: int64(1)\n",
      "memory usage: 414.0 KB\n"
     ]
    }
   ],
   "source": [
    "data.info()"
   ]
  },
  {
   "cell_type": "markdown",
   "metadata": {},
   "source": [
    "Тип индекса:"
   ]
  },
  {
   "cell_type": "code",
   "execution_count": 4,
   "metadata": {},
   "outputs": [
    {
     "name": "stdout",
     "output_type": "stream",
     "text": [
      "<class 'pandas.core.indexes.datetimes.DatetimeIndex'>\n"
     ]
    }
   ],
   "source": [
    "print(type(data.index))\n",
    "data.sort_index(inplace=True)"
   ]
  },
  {
   "cell_type": "markdown",
   "metadata": {},
   "source": [
    "Произведем ресеплирование по часу:"
   ]
  },
  {
   "cell_type": "code",
   "execution_count": 5,
   "metadata": {},
   "outputs": [
    {
     "data": {
      "text/html": [
       "<div>\n",
       "<style scoped>\n",
       "    .dataframe tbody tr th:only-of-type {\n",
       "        vertical-align: middle;\n",
       "    }\n",
       "\n",
       "    .dataframe tbody tr th {\n",
       "        vertical-align: top;\n",
       "    }\n",
       "\n",
       "    .dataframe thead th {\n",
       "        text-align: right;\n",
       "    }\n",
       "</style>\n",
       "<table border=\"1\" class=\"dataframe\">\n",
       "  <thead>\n",
       "    <tr style=\"text-align: right;\">\n",
       "      <th></th>\n",
       "      <th>num_orders</th>\n",
       "    </tr>\n",
       "    <tr>\n",
       "      <th>datetime</th>\n",
       "      <th></th>\n",
       "    </tr>\n",
       "  </thead>\n",
       "  <tbody>\n",
       "    <tr>\n",
       "      <th>2018-03-01 00:00:00</th>\n",
       "      <td>124</td>\n",
       "    </tr>\n",
       "    <tr>\n",
       "      <th>2018-03-01 01:00:00</th>\n",
       "      <td>85</td>\n",
       "    </tr>\n",
       "    <tr>\n",
       "      <th>2018-03-01 02:00:00</th>\n",
       "      <td>71</td>\n",
       "    </tr>\n",
       "    <tr>\n",
       "      <th>2018-03-01 03:00:00</th>\n",
       "      <td>66</td>\n",
       "    </tr>\n",
       "    <tr>\n",
       "      <th>2018-03-01 04:00:00</th>\n",
       "      <td>43</td>\n",
       "    </tr>\n",
       "  </tbody>\n",
       "</table>\n",
       "</div>"
      ],
      "text/plain": [
       "                     num_orders\n",
       "datetime                       \n",
       "2018-03-01 00:00:00         124\n",
       "2018-03-01 01:00:00          85\n",
       "2018-03-01 02:00:00          71\n",
       "2018-03-01 03:00:00          66\n",
       "2018-03-01 04:00:00          43"
      ]
     },
     "execution_count": 5,
     "metadata": {},
     "output_type": "execute_result"
    }
   ],
   "source": [
    "data = data.resample('1H').sum()\n",
    "data.head()"
   ]
  },
  {
   "cell_type": "markdown",
   "metadata": {},
   "source": [
    "## Анализ"
   ]
  },
  {
   "cell_type": "markdown",
   "metadata": {},
   "source": [
    "Оценим монотонность данных: True = монотонны"
   ]
  },
  {
   "cell_type": "code",
   "execution_count": 6,
   "metadata": {},
   "outputs": [
    {
     "name": "stdout",
     "output_type": "stream",
     "text": [
      "Монотонность индекса: True\n"
     ]
    }
   ],
   "source": [
    "print(f'Монотонность индекса: {data.index.is_monotonic}')"
   ]
  },
  {
   "cell_type": "markdown",
   "metadata": {},
   "source": [
    "Добавим столбец скользящее среднее и стандартное отклонение, построим график. Видно, что процесс зависит от времени - он нестационарный, среднее и стд.откл. меняется."
   ]
  },
  {
   "cell_type": "code",
   "execution_count": 7,
   "metadata": {},
   "outputs": [
    {
     "data": {
      "image/png": "[encoded data removed]",
      "text/plain": [
       "<Figure size 1152x504 with 1 Axes>"
      ]
     },
     "metadata": {
      "needs_background": "light"
     },
     "output_type": "display_data"
    }
   ],
   "source": [
    "data['rolling_mean'] = data.rolling(24).sum()\n",
    "data['std'] = data['num_orders'].shift().rolling(24).std()\n",
    "data.drop(columns='num_orders', axis=1).plot(figsize=(16,7), color = ['black', 'red', 'green']);"
   ]
  },
  {
   "cell_type": "markdown",
   "metadata": {},
   "source": [
    "Посмотрим на отсортированные данные, видно, что наибольшее количество заказав в близкие по времени промежутки: 2018-08-20 02:00:00, 2018-08-13 02:00:00, 2018-08-27 02:00:00 и так далее в августе. Возможно это связано с сезонностью, все возвращаются из отпуска. Проверим на тренды сезонности далее."
   ]
  },
  {
   "cell_type": "code",
   "execution_count": 8,
   "metadata": {},
   "outputs": [
    {
     "data": {
      "text/html": [
       "<div>\n",
       "<style scoped>\n",
       "    .dataframe tbody tr th:only-of-type {\n",
       "        vertical-align: middle;\n",
       "    }\n",
       "\n",
       "    .dataframe tbody tr th {\n",
       "        vertical-align: top;\n",
       "    }\n",
       "\n",
       "    .dataframe thead th {\n",
       "        text-align: right;\n",
       "    }\n",
       "</style>\n",
       "<table border=\"1\" class=\"dataframe\">\n",
       "  <thead>\n",
       "    <tr style=\"text-align: right;\">\n",
       "      <th></th>\n",
       "      <th>num_orders</th>\n",
       "      <th>rolling_mean</th>\n",
       "      <th>std</th>\n",
       "    </tr>\n",
       "    <tr>\n",
       "      <th>datetime</th>\n",
       "      <th></th>\n",
       "      <th></th>\n",
       "      <th></th>\n",
       "    </tr>\n",
       "  </thead>\n",
       "  <tbody>\n",
       "    <tr>\n",
       "      <th>2018-08-20 02:00:00</th>\n",
       "      <td>462</td>\n",
       "      <td>3329.0</td>\n",
       "      <td>55.182290</td>\n",
       "    </tr>\n",
       "    <tr>\n",
       "      <th>2018-08-13 02:00:00</th>\n",
       "      <td>437</td>\n",
       "      <td>3068.0</td>\n",
       "      <td>52.190010</td>\n",
       "    </tr>\n",
       "    <tr>\n",
       "      <th>2018-08-27 02:00:00</th>\n",
       "      <td>408</td>\n",
       "      <td>3623.0</td>\n",
       "      <td>61.179218</td>\n",
       "    </tr>\n",
       "    <tr>\n",
       "      <th>2018-08-30 17:00:00</th>\n",
       "      <td>342</td>\n",
       "      <td>4189.0</td>\n",
       "      <td>64.613847</td>\n",
       "    </tr>\n",
       "    <tr>\n",
       "      <th>2018-08-27 04:00:00</th>\n",
       "      <td>295</td>\n",
       "      <td>3745.0</td>\n",
       "      <td>79.292524</td>\n",
       "    </tr>\n",
       "    <tr>\n",
       "      <th>2018-08-18 00:00:00</th>\n",
       "      <td>281</td>\n",
       "      <td>3312.0</td>\n",
       "      <td>44.989532</td>\n",
       "    </tr>\n",
       "    <tr>\n",
       "      <th>2018-08-26 00:00:00</th>\n",
       "      <td>281</td>\n",
       "      <td>3456.0</td>\n",
       "      <td>55.715634</td>\n",
       "    </tr>\n",
       "    <tr>\n",
       "      <th>2018-08-31 00:00:00</th>\n",
       "      <td>276</td>\n",
       "      <td>4150.0</td>\n",
       "      <td>75.422241</td>\n",
       "    </tr>\n",
       "    <tr>\n",
       "      <th>2018-08-13 01:00:00</th>\n",
       "      <td>273</td>\n",
       "      <td>2788.0</td>\n",
       "      <td>42.409665</td>\n",
       "    </tr>\n",
       "    <tr>\n",
       "      <th>2018-08-25 00:00:00</th>\n",
       "      <td>273</td>\n",
       "      <td>3378.0</td>\n",
       "      <td>57.195824</td>\n",
       "    </tr>\n",
       "    <tr>\n",
       "      <th>2018-08-20 04:00:00</th>\n",
       "      <td>273</td>\n",
       "      <td>3514.0</td>\n",
       "      <td>89.745050</td>\n",
       "    </tr>\n",
       "    <tr>\n",
       "      <th>2018-08-20 01:00:00</th>\n",
       "      <td>272</td>\n",
       "      <td>3001.0</td>\n",
       "      <td>45.745911</td>\n",
       "    </tr>\n",
       "    <tr>\n",
       "      <th>2018-08-31 04:00:00</th>\n",
       "      <td>268</td>\n",
       "      <td>4113.0</td>\n",
       "      <td>78.711073</td>\n",
       "    </tr>\n",
       "    <tr>\n",
       "      <th>2018-08-26 03:00:00</th>\n",
       "      <td>267</td>\n",
       "      <td>3434.0</td>\n",
       "      <td>52.167998</td>\n",
       "    </tr>\n",
       "    <tr>\n",
       "      <th>2018-08-29 23:00:00</th>\n",
       "      <td>265</td>\n",
       "      <td>3762.0</td>\n",
       "      <td>47.877259</td>\n",
       "    </tr>\n",
       "    <tr>\n",
       "      <th>2018-08-27 00:00:00</th>\n",
       "      <td>263</td>\n",
       "      <td>3297.0</td>\n",
       "      <td>60.536236</td>\n",
       "    </tr>\n",
       "    <tr>\n",
       "      <th>2018-08-18 02:00:00</th>\n",
       "      <td>254</td>\n",
       "      <td>3414.0</td>\n",
       "      <td>53.710965</td>\n",
       "    </tr>\n",
       "    <tr>\n",
       "      <th>2018-08-30 16:00:00</th>\n",
       "      <td>254</td>\n",
       "      <td>4006.0</td>\n",
       "      <td>62.973424</td>\n",
       "    </tr>\n",
       "    <tr>\n",
       "      <th>2018-04-24 00:00:00</th>\n",
       "      <td>253</td>\n",
       "      <td>1791.0</td>\n",
       "      <td>32.400992</td>\n",
       "    </tr>\n",
       "    <tr>\n",
       "      <th>2018-07-19 10:00:00</th>\n",
       "      <td>251</td>\n",
       "      <td>2617.0</td>\n",
       "      <td>36.529296</td>\n",
       "    </tr>\n",
       "  </tbody>\n",
       "</table>\n",
       "</div>"
      ],
      "text/plain": [
       "                     num_orders  rolling_mean        std\n",
       "datetime                                                \n",
       "2018-08-20 02:00:00         462        3329.0  55.182290\n",
       "2018-08-13 02:00:00         437        3068.0  52.190010\n",
       "2018-08-27 02:00:00         408        3623.0  61.179218\n",
       "2018-08-30 17:00:00         342        4189.0  64.613847\n",
       "2018-08-27 04:00:00         295        3745.0  79.292524\n",
       "2018-08-18 00:00:00         281        3312.0  44.989532\n",
       "2018-08-26 00:00:00         281        3456.0  55.715634\n",
       "2018-08-31 00:00:00         276        4150.0  75.422241\n",
       "2018-08-13 01:00:00         273        2788.0  42.409665\n",
       "2018-08-25 00:00:00         273        3378.0  57.195824\n",
       "2018-08-20 04:00:00         273        3514.0  89.745050\n",
       "2018-08-20 01:00:00         272        3001.0  45.745911\n",
       "2018-08-31 04:00:00         268        4113.0  78.711073\n",
       "2018-08-26 03:00:00         267        3434.0  52.167998\n",
       "2018-08-29 23:00:00         265        3762.0  47.877259\n",
       "2018-08-27 00:00:00         263        3297.0  60.536236\n",
       "2018-08-18 02:00:00         254        3414.0  53.710965\n",
       "2018-08-30 16:00:00         254        4006.0  62.973424\n",
       "2018-04-24 00:00:00         253        1791.0  32.400992\n",
       "2018-07-19 10:00:00         251        2617.0  36.529296"
      ]
     },
     "execution_count": 8,
     "metadata": {},
     "output_type": "execute_result"
    }
   ],
   "source": [
    "data.sort_values(by='num_orders', ascending=False).head(20)"
   ]
  },
  {
   "cell_type": "code",
   "execution_count": 9,
   "metadata": {},
   "outputs": [
    {
     "data": {
      "text/plain": [
       "num_orders       0\n",
       "rolling_mean    23\n",
       "std             24\n",
       "dtype: int64"
      ]
     },
     "execution_count": 9,
     "metadata": {},
     "output_type": "execute_result"
    }
   ],
   "source": [
    "data.isna().sum()"
   ]
  },
  {
   "cell_type": "markdown",
   "metadata": {},
   "source": [
    "Seasonal_decompose не работает с пропущенными значениями - удалим колонки со скользящим средним и со стандартным отклонением в новом датафрейме."
   ]
  },
  {
   "cell_type": "code",
   "execution_count": 10,
   "metadata": {},
   "outputs": [],
   "source": [
    "data_dec = data['num_orders']\n",
    "decomposed = seasonal_decompose(data_dec) "
   ]
  },
  {
   "cell_type": "code",
   "execution_count": 11,
   "metadata": {},
   "outputs": [
    {
     "data": {
      "image/png": "[encoded data removed]",
      "text/plain": [
       "<Figure size 1080x504 with 1 Axes>"
      ]
     },
     "metadata": {
      "needs_background": "light"
     },
     "output_type": "display_data"
    }
   ],
   "source": [
    "decomposed.trend.plot(ax=plt.gca(), color='green', figsize=(15,7)) \n",
    "plt.title('Общий тренд')\n",
    "plt.tight_layout()\n",
    "plt.show()"
   ]
  },
  {
   "cell_type": "markdown",
   "metadata": {},
   "source": [
    "**По общему тренду** можно наблюдать повышение количества заказов с марта 2018 до августа 2018."
   ]
  },
  {
   "cell_type": "code",
   "execution_count": 12,
   "metadata": {},
   "outputs": [
    {
     "data": {
      "text/html": [
       "<div>\n",
       "<style scoped>\n",
       "    .dataframe tbody tr th:only-of-type {\n",
       "        vertical-align: middle;\n",
       "    }\n",
       "\n",
       "    .dataframe tbody tr th {\n",
       "        vertical-align: top;\n",
       "    }\n",
       "\n",
       "    .dataframe thead th {\n",
       "        text-align: right;\n",
       "    }\n",
       "</style>\n",
       "<table border=\"1\" class=\"dataframe\">\n",
       "  <thead>\n",
       "    <tr style=\"text-align: right;\">\n",
       "      <th></th>\n",
       "      <th>num_orders</th>\n",
       "      <th>rolling_mean</th>\n",
       "      <th>std</th>\n",
       "    </tr>\n",
       "    <tr>\n",
       "      <th>datetime</th>\n",
       "      <th></th>\n",
       "      <th></th>\n",
       "      <th></th>\n",
       "    </tr>\n",
       "  </thead>\n",
       "  <tbody>\n",
       "    <tr>\n",
       "      <th>2018-03-01</th>\n",
       "      <td>1364</td>\n",
       "      <td>1364.0</td>\n",
       "      <td>0.000000</td>\n",
       "    </tr>\n",
       "    <tr>\n",
       "      <th>2018-03-02</th>\n",
       "      <td>1506</td>\n",
       "      <td>32951.0</td>\n",
       "      <td>718.024443</td>\n",
       "    </tr>\n",
       "    <tr>\n",
       "      <th>2018-03-03</th>\n",
       "      <td>1290</td>\n",
       "      <td>36121.0</td>\n",
       "      <td>879.385120</td>\n",
       "    </tr>\n",
       "    <tr>\n",
       "      <th>2018-03-04</th>\n",
       "      <td>1141</td>\n",
       "      <td>26064.0</td>\n",
       "      <td>502.503699</td>\n",
       "    </tr>\n",
       "    <tr>\n",
       "      <th>2018-03-05</th>\n",
       "      <td>1259</td>\n",
       "      <td>31585.0</td>\n",
       "      <td>805.812039</td>\n",
       "    </tr>\n",
       "  </tbody>\n",
       "</table>\n",
       "</div>"
      ],
      "text/plain": [
       "            num_orders  rolling_mean         std\n",
       "datetime                                        \n",
       "2018-03-01        1364        1364.0    0.000000\n",
       "2018-03-02        1506       32951.0  718.024443\n",
       "2018-03-03        1290       36121.0  879.385120\n",
       "2018-03-04        1141       26064.0  502.503699\n",
       "2018-03-05        1259       31585.0  805.812039"
      ]
     },
     "execution_count": 12,
     "metadata": {},
     "output_type": "execute_result"
    }
   ],
   "source": [
    "data_2 = data.resample('1D').sum()\n",
    "data_2.head()"
   ]
  },
  {
   "cell_type": "code",
   "execution_count": 13,
   "metadata": {},
   "outputs": [],
   "source": [
    "data_dec_2 = data_2['num_orders']\n",
    "decomposed = seasonal_decompose(data_dec_2) "
   ]
  },
  {
   "cell_type": "code",
   "execution_count": 14,
   "metadata": {},
   "outputs": [
    {
     "data": {
      "image/png": "[encoded data removed]",
      "text/plain": [
       "<Figure size 1080x504 with 1 Axes>"
      ]
     },
     "metadata": {
      "needs_background": "light"
     },
     "output_type": "display_data"
    }
   ],
   "source": [
    "decomposed.seasonal.plot(ax=plt.gca(), color='black', figsize=(15,7)) \n",
    "plt.title('Сезонная динамика')\n",
    "plt.tight_layout()\n",
    "plt.show()"
   ]
  },
  {
   "cell_type": "code",
   "execution_count": 15,
   "metadata": {},
   "outputs": [
    {
     "data": {
      "image/png": "[encoded data removed]",
      "text/plain": [
       "<Figure size 1080x504 with 1 Axes>"
      ]
     },
     "metadata": {
      "needs_background": "light"
     },
     "output_type": "display_data"
    }
   ],
   "source": [
    "plt.figure(figsize=(15,7))\n",
    "plot_acf(data['num_orders'], lags=24, ax=plt.gca())  \n",
    "plt.title('Autocorrelation Function (ACF)')\n",
    "plt.show()"
   ]
  },
  {
   "cell_type": "markdown",
   "metadata": {},
   "source": [
    "Наиболее выражена суточная корреляция (суточная сезонность) во временном ряду, что может указывать на использование лага 24 и рамки скользящего среднего 24"
   ]
  },
  {
   "cell_type": "markdown",
   "metadata": {},
   "source": [
    "**Выводы:**\n",
    "\n",
    "1. Данные монотонны\n",
    "2. Ряд нестационарный\n",
    "3. Наибольшее количество заказов в августе\n",
    "4. По общему тренду можно наблюдать повышение количества заказов с марта 2018 до августа 2018"
   ]
  },
  {
   "cell_type": "markdown",
   "metadata": {},
   "source": [
    "## Обучение"
   ]
  },
  {
   "cell_type": "markdown",
   "metadata": {},
   "source": [
    "Создадим признаки для обучения модели, скорее всего в заказах имеет значение день недели, день и месяц. Также создадим лаг, по моему мнению лаг должен соответсвтвать длительности часа пик - 3 часа.\n",
    "\n",
    "Произведем разбивку на тестовые и тренировочные данные, проверим, чтобы тестовая выборка была строго после тренировочной по временному ряду."
   ]
  },
  {
   "cell_type": "code",
   "execution_count": 16,
   "metadata": {},
   "outputs": [],
   "source": [
    "def make_features(data, max_lag, rolling_mean_size):\n",
    "    data['dayofweek'] = data.index.dayofweek\n",
    "    \n",
    "    for lag in range(1, max_lag + 1):\n",
    "        data['lag_{}'.format(lag)] = data['num_orders'].shift(lag)\n",
    "\n",
    "    data['rolling_mean'] = data['num_orders'].shift(lag).rolling(rolling_mean_size).mean()\n",
    "\n",
    "    \n",
    "make_features(data, 24, 24)    "
   ]
  },
  {
   "cell_type": "markdown",
   "metadata": {},
   "source": [
    "Разбивка данных и удаление пропусков в лагах и скользящем среднем:"
   ]
  },
  {
   "cell_type": "code",
   "execution_count": 17,
   "metadata": {},
   "outputs": [
    {
     "name": "stdout",
     "output_type": "stream",
     "text": [
      "Тренировочная выборка, минимум и максимум: 2018-03-01 00:00:00 - 2018-08-13 13:00:00\n",
      "Тестовая выборка, минимум и максимум: 2018-08-13 14:00:00 - 2018-08-31 23:00:00\n"
     ]
    }
   ],
   "source": [
    "train, test = train_test_split(data, shuffle=False, test_size=0.1)\n",
    "\n",
    "print('Тренировочная выборка, минимум и максимум:', train.index.min(),'-', train.index.max())\n",
    "print('Тестовая выборка, минимум и максимум:', test.index.min(),'-', test.index.max())\n",
    "\n",
    "train = train.dropna()"
   ]
  },
  {
   "cell_type": "code",
   "execution_count": 18,
   "metadata": {},
   "outputs": [],
   "source": [
    "X_train = train.drop(columns='num_orders')\n",
    "y_train = train['num_orders']\n",
    "X_test = test.drop(columns='num_orders')\n",
    "y_test = test['num_orders']\n",
    "\n",
    "num_columns = ['rolling_mean', 'std', 'month', 'day', 'dayofweek', 'lag_1', 'lag_2',\n",
    "       'lag_3', 'lag_4', 'lag_5', 'lag_6', 'lag_7', 'lag_8', 'lag_9', 'lag_10',\n",
    "       'lag_11', 'lag_12', 'lag_13', 'lag_14', 'lag_15', 'lag_16', 'lag_17',\n",
    "       'lag_18', 'lag_19', 'lag_20', 'lag_21', 'lag_22', 'lag_23', 'lag_24']"
   ]
  },
  {
   "cell_type": "markdown",
   "metadata": {},
   "source": [
    "Построим пайплайн с моделями без датапроцессинга(т.к. все данные числовые примерно на одной шкале, шкалирование не имеет смысла)"
   ]
  },
  {
   "cell_type": "code",
   "execution_count": 19,
   "metadata": {},
   "outputs": [],
   "source": [
    "data_preprocessor = ColumnTransformer(\n",
    "    [\n",
    "     ('num', StandardScaler(), num_columns)\n",
    "    ], \n",
    "    remainder='passthrough')"
   ]
  },
  {
   "cell_type": "code",
   "execution_count": 20,
   "metadata": {},
   "outputs": [],
   "source": [
    "pipe_final = Pipeline([\n",
    "    ('models', DecisionTreeRegressor(random_state=RANDOM_STATE))\n",
    "])\n",
    "\n",
    "param_grid = [\n",
    "    {\n",
    "        'models': [DecisionTreeRegressor(random_state=RANDOM_STATE)],\n",
    "        'models__max_depth': range(4, 7),\n",
    "        'models__max_features': range(5, 7),  \n",
    "    },\n",
    "    {\n",
    "        'models': [LinearRegression()],\n",
    "    },\n",
    "    {\n",
    "        'models': [lgb.LGBMRegressor(random_state=RANDOM_STATE)],\n",
    "        'models__num_leaves': [10, 20],\n",
    "        'models__learning_rate': [0.01, 0.1],\n",
    "    }\n",
    "]"
   ]
  },
  {
   "cell_type": "code",
   "execution_count": 21,
   "metadata": {
    "scrolled": true
   },
   "outputs": [
    {
     "name": "stdout",
     "output_type": "stream",
     "text": [
      "Лучшая модель и её параметры:\n",
      "\n",
      " Pipeline(steps=[('models', LGBMRegressor(num_leaves=10, random_state=42))])\n",
      "Метрика лучшей модели: 27.77637434225507\n",
      "Время потраченное на подбор модели и обучение: 1921.4936 секунд\n"
     ]
    }
   ],
   "source": [
    "start_time = time.time()\n",
    "tscv = TimeSeriesSplit(n_splits=3)\n",
    "random_search = RandomizedSearchCV(\n",
    "    pipe_final, \n",
    "    param_grid, \n",
    "    n_iter=11, \n",
    "    cv=tscv,\n",
    "    scoring='neg_root_mean_squared_error',\n",
    "    n_jobs=-1,\n",
    "    random_state=RANDOM_STATE\n",
    ")\n",
    "\n",
    "\n",
    "random_search.fit(X_train, y_train)\n",
    "\n",
    "end_time = time.time()\n",
    "\n",
    "print('Лучшая модель и её параметры:\\n\\n', random_search.best_estimator_)\n",
    "print('Метрика лучшей модели:', abs(random_search.best_score_))\n",
    "print(f'Время потраченное на подбор модели и обучение: {end_time - start_time:.4f} секунд')"
   ]
  },
  {
   "cell_type": "markdown",
   "metadata": {},
   "source": [
    "Построим датасет с данными модели по результатам кросс-валидации:"
   ]
  },
  {
   "cell_type": "code",
   "execution_count": 22,
   "metadata": {},
   "outputs": [],
   "source": [
    "result = pd.DataFrame(random_search.cv_results_)\n",
    "\n",
    "pd.set_option('display.max_columns', None)\n",
    "pd.set_option('display.width', None)\n",
    "pd.set_option('display.max_colwidth', None)\n",
    "\n",
    "result['mean_test_score'] = abs(result['mean_test_score'])\n",
    "\n",
    "result['model'] = result['params'].apply(lambda x: x['models'].__class__.__name__)"
   ]
  },
  {
   "cell_type": "code",
   "execution_count": 23,
   "metadata": {},
   "outputs": [
    {
     "data": {
      "text/html": [
       "<div>\n",
       "<style scoped>\n",
       "    .dataframe tbody tr th:only-of-type {\n",
       "        vertical-align: middle;\n",
       "    }\n",
       "\n",
       "    .dataframe tbody tr th {\n",
       "        vertical-align: top;\n",
       "    }\n",
       "\n",
       "    .dataframe thead th {\n",
       "        text-align: right;\n",
       "    }\n",
       "</style>\n",
       "<table border=\"1\" class=\"dataframe\">\n",
       "  <thead>\n",
       "    <tr style=\"text-align: right;\">\n",
       "      <th></th>\n",
       "      <th>model</th>\n",
       "      <th>params</th>\n",
       "      <th>mean_test_score</th>\n",
       "      <th>mean_fit_time</th>\n",
       "      <th>mean_score_time</th>\n",
       "    </tr>\n",
       "  </thead>\n",
       "  <tbody>\n",
       "    <tr>\n",
       "      <th>3</th>\n",
       "      <td>DecisionTreeRegressor</td>\n",
       "      <td>{'models__max_features': 6, 'models__max_depth': 5, 'models': DecisionTreeRegressor(random_state=42)}</td>\n",
       "      <td>33.635390</td>\n",
       "      <td>0.006492</td>\n",
       "      <td>0.001983</td>\n",
       "    </tr>\n",
       "    <tr>\n",
       "      <th>9</th>\n",
       "      <td>LGBMRegressor</td>\n",
       "      <td>{'models__num_leaves': 10, 'models__learning_rate': 0.1, 'models': LGBMRegressor(random_state=42)}</td>\n",
       "      <td>27.776374</td>\n",
       "      <td>14.364358</td>\n",
       "      <td>0.104910</td>\n",
       "    </tr>\n",
       "    <tr>\n",
       "      <th>6</th>\n",
       "      <td>LinearRegression</td>\n",
       "      <td>{'models': LinearRegression()}</td>\n",
       "      <td>28.390965</td>\n",
       "      <td>0.034750</td>\n",
       "      <td>0.008250</td>\n",
       "    </tr>\n",
       "  </tbody>\n",
       "</table>\n",
       "</div>"
      ],
      "text/plain": [
       "                   model  \\\n",
       "3  DecisionTreeRegressor   \n",
       "9          LGBMRegressor   \n",
       "6       LinearRegression   \n",
       "\n",
       "                                                                                                  params  \\\n",
       "3  {'models__max_features': 6, 'models__max_depth': 5, 'models': DecisionTreeRegressor(random_state=42)}   \n",
       "9     {'models__num_leaves': 10, 'models__learning_rate': 0.1, 'models': LGBMRegressor(random_state=42)}   \n",
       "6                                                                         {'models': LinearRegression()}   \n",
       "\n",
       "   mean_test_score  mean_fit_time  mean_score_time  \n",
       "3        33.635390       0.006492         0.001983  \n",
       "9        27.776374      14.364358         0.104910  \n",
       "6        28.390965       0.034750         0.008250  "
      ]
     },
     "metadata": {},
     "output_type": "display_data"
    }
   ],
   "source": [
    "best_indices = result.groupby('model')['mean_test_score'].idxmin()\n",
    "best_models = result.iloc[best_indices]\n",
    "display(best_models[['model','params', 'mean_test_score', 'mean_fit_time', 'mean_score_time']])"
   ]
  },
  {
   "cell_type": "markdown",
   "metadata": {},
   "source": [
    "На схеме показаны самые лучшие гиперпараметры каждого модельного ядра. Самой лучшей по метрике, но не самой лучшей по скорости является **LGBMRegressor\t{'models__num_leaves': 10, 'models__learning_rate': 0.1, 'models': LGBMRegressor(num_leaves=10, random_state=42)}**\t"
   ]
  },
  {
   "cell_type": "markdown",
   "metadata": {},
   "source": [
    "## Тестирование"
   ]
  },
  {
   "cell_type": "markdown",
   "metadata": {},
   "source": [
    "Проведем тестирование на тестовом датафрейме, предскажем по обученной модели:"
   ]
  },
  {
   "cell_type": "code",
   "execution_count": 24,
   "metadata": {},
   "outputs": [
    {
     "name": "stdout",
     "output_type": "stream",
     "text": [
      "Метрика RMSE на тестовой выборке: 42.57\n",
      "Время потраченное на применение модели: 0.1051 секунд\n"
     ]
    }
   ],
   "source": [
    "\n",
    "start_time = time.time()\n",
    "y_pred = random_search.predict(X_test)\n",
    "end_time = time.time()\n",
    "print(f'Метрика RMSE на тестовой выборке: {round(np.sqrt(mean_squared_error(y_test, y_pred)), 2)}')\n",
    "print(f'Время потраченное на применение модели: {end_time - start_time:.4f} секунд')"
   ]
  },
  {
   "cell_type": "markdown",
   "metadata": {},
   "source": [
    "**Вывод: результаты тестирования удволетворяют условию. RMSE меньше 48, модель работает удволетворительно.**"
   ]
  },
  {
   "cell_type": "markdown",
   "metadata": {},
   "source": [
    "## Общий Вывод"
   ]
  },
  {
   "cell_type": "markdown",
   "metadata": {},
   "source": [
    "В ходе работы был исследован временной ряд для данных заказа такси в аэропортах, были выполнены следующие работы:\n",
    "1. Загрузка и анализ данных, в ходе которых было выявлено, что в данных присутствует суточная и недельная периодичность.\n",
    "2. Была выполенна подготовка данных, на основе суточной периодичносты были рассчитаны 24 лага, также рассчитано скользящее среднее также с окном в 24 часа.\n",
    "3. Модели были обучены и протестированы на тестовом наборе данных, выбрана модель с ядром LGBM и гиперпараметрами {'models__num_leaves': 10, 'models__learning_rate': 0.1}, для выявления корректности работы модели использована метрика RMSE, метрика находилась для тренировоченой и тестовой выборки в пределах допуска (менее 48)."
   ]
  }
 ],
 "metadata": {
  "ExecuteTimeLog": [
   {
    "duration": 480,
    "start_time": "2024-11-01T16:26:27.161Z"
   },
   {
    "duration": 17,
    "start_time": "2024-11-01T16:26:51.536Z"
   },
   {
    "duration": 13,
    "start_time": "2024-11-01T16:27:09.968Z"
   },
   {
    "duration": 12,
    "start_time": "2024-11-01T16:28:06.097Z"
   },
   {
    "duration": 502,
    "start_time": "2024-11-02T07:27:48.147Z"
   },
   {
    "duration": 11,
    "start_time": "2024-11-02T07:27:49.981Z"
   },
   {
    "duration": 8,
    "start_time": "2024-11-02T07:28:11.865Z"
   },
   {
    "duration": 10,
    "start_time": "2024-11-02T07:28:13.400Z"
   },
   {
    "duration": 10,
    "start_time": "2024-11-02T07:28:16.998Z"
   },
   {
    "duration": 9,
    "start_time": "2024-11-02T07:28:22.749Z"
   },
   {
    "duration": 409,
    "start_time": "2024-11-02T08:09:13.688Z"
   },
   {
    "duration": 10,
    "start_time": "2024-11-02T08:09:14.099Z"
   },
   {
    "duration": 12,
    "start_time": "2024-11-02T08:09:14.110Z"
   },
   {
    "duration": 12,
    "start_time": "2024-11-02T08:09:14.123Z"
   },
   {
    "duration": 16,
    "start_time": "2024-11-02T08:09:14.136Z"
   },
   {
    "duration": 9,
    "start_time": "2024-11-02T08:09:34.388Z"
   },
   {
    "duration": 39,
    "start_time": "2024-11-02T08:09:40.242Z"
   },
   {
    "duration": 3,
    "start_time": "2024-11-02T08:11:36.150Z"
   },
   {
    "duration": 62,
    "start_time": "2024-11-02T08:12:02.377Z"
   },
   {
    "duration": 3,
    "start_time": "2024-11-02T08:12:58.221Z"
   },
   {
    "duration": 3,
    "start_time": "2024-11-02T08:13:33.373Z"
   },
   {
    "duration": 875,
    "start_time": "2024-11-02T08:14:06.296Z"
   },
   {
    "duration": 480,
    "start_time": "2024-11-02T08:14:26.121Z"
   },
   {
    "duration": 490,
    "start_time": "2024-11-02T08:14:57.505Z"
   },
   {
    "duration": 9,
    "start_time": "2024-11-02T08:15:35.411Z"
   },
   {
    "duration": 16,
    "start_time": "2024-11-02T08:18:30.210Z"
   },
   {
    "duration": 394,
    "start_time": "2024-11-02T08:18:40.046Z"
   },
   {
    "duration": 50,
    "start_time": "2024-11-02T08:18:40.442Z"
   },
   {
    "duration": 9,
    "start_time": "2024-11-02T08:18:40.494Z"
   },
   {
    "duration": 51,
    "start_time": "2024-11-02T08:18:40.505Z"
   },
   {
    "duration": 7,
    "start_time": "2024-11-02T08:18:40.558Z"
   },
   {
    "duration": 9,
    "start_time": "2024-11-02T08:18:40.566Z"
   },
   {
    "duration": 609,
    "start_time": "2024-11-02T08:18:40.577Z"
   },
   {
    "duration": 10,
    "start_time": "2024-11-02T08:18:41.188Z"
   },
   {
    "duration": 6,
    "start_time": "2024-11-02T08:19:07.100Z"
   },
   {
    "duration": 214,
    "start_time": "2024-11-02T08:20:41.894Z"
   },
   {
    "duration": 340,
    "start_time": "2024-11-02T08:21:06.472Z"
   },
   {
    "duration": 319,
    "start_time": "2024-11-02T08:21:14.109Z"
   },
   {
    "duration": 291,
    "start_time": "2024-11-02T08:21:25.928Z"
   },
   {
    "duration": 291,
    "start_time": "2024-11-02T08:21:33.095Z"
   },
   {
    "duration": 295,
    "start_time": "2024-11-02T08:21:42.728Z"
   },
   {
    "duration": 311,
    "start_time": "2024-11-02T08:21:50.049Z"
   },
   {
    "duration": 293,
    "start_time": "2024-11-02T08:22:10.987Z"
   },
   {
    "duration": 232,
    "start_time": "2024-11-02T08:22:32.543Z"
   },
   {
    "duration": 258,
    "start_time": "2024-11-02T08:23:11.040Z"
   },
   {
    "duration": 282,
    "start_time": "2024-11-02T08:23:25.531Z"
   },
   {
    "duration": 290,
    "start_time": "2024-11-02T08:23:31.782Z"
   },
   {
    "duration": 319,
    "start_time": "2024-11-02T08:23:42.586Z"
   },
   {
    "duration": 12,
    "start_time": "2024-11-02T08:24:39.937Z"
   },
   {
    "duration": 277,
    "start_time": "2024-11-02T08:25:08.843Z"
   },
   {
    "duration": 10,
    "start_time": "2024-11-02T08:25:10.883Z"
   },
   {
    "duration": 282,
    "start_time": "2024-11-02T08:25:24.337Z"
   },
   {
    "duration": 10,
    "start_time": "2024-11-02T08:25:25.409Z"
   },
   {
    "duration": 62,
    "start_time": "2024-11-02T08:28:22.308Z"
   },
   {
    "duration": 1080,
    "start_time": "2024-11-02T08:28:55.411Z"
   },
   {
    "duration": 386,
    "start_time": "2024-11-02T08:29:04.072Z"
   },
   {
    "duration": 52,
    "start_time": "2024-11-02T08:29:04.460Z"
   },
   {
    "duration": 12,
    "start_time": "2024-11-02T08:29:04.513Z"
   },
   {
    "duration": 80,
    "start_time": "2024-11-02T08:29:04.527Z"
   },
   {
    "duration": 12,
    "start_time": "2024-11-02T08:29:04.609Z"
   },
   {
    "duration": 7,
    "start_time": "2024-11-02T08:29:04.623Z"
   },
   {
    "duration": 13,
    "start_time": "2024-11-02T08:29:04.631Z"
   },
   {
    "duration": 547,
    "start_time": "2024-11-02T08:29:04.645Z"
   },
   {
    "duration": 11,
    "start_time": "2024-11-02T08:29:05.194Z"
   },
   {
    "duration": 369,
    "start_time": "2024-11-02T08:31:18.244Z"
   },
   {
    "duration": 403,
    "start_time": "2024-11-02T08:31:44.032Z"
   },
   {
    "duration": 51,
    "start_time": "2024-11-02T08:31:44.436Z"
   },
   {
    "duration": 9,
    "start_time": "2024-11-02T08:31:44.489Z"
   },
   {
    "duration": 22,
    "start_time": "2024-11-02T08:31:44.499Z"
   },
   {
    "duration": 78,
    "start_time": "2024-11-02T08:31:44.522Z"
   },
   {
    "duration": 8,
    "start_time": "2024-11-02T08:31:44.601Z"
   },
   {
    "duration": 24,
    "start_time": "2024-11-02T08:31:44.611Z"
   },
   {
    "duration": 611,
    "start_time": "2024-11-02T08:31:44.637Z"
   },
   {
    "duration": 10,
    "start_time": "2024-11-02T08:31:45.249Z"
   },
   {
    "duration": 423,
    "start_time": "2024-11-02T08:40:48.217Z"
   },
   {
    "duration": 50,
    "start_time": "2024-11-02T08:40:48.641Z"
   },
   {
    "duration": 9,
    "start_time": "2024-11-02T08:40:48.693Z"
   },
   {
    "duration": 8,
    "start_time": "2024-11-02T08:40:48.704Z"
   },
   {
    "duration": 25,
    "start_time": "2024-11-02T08:40:48.713Z"
   },
   {
    "duration": 6,
    "start_time": "2024-11-02T08:40:48.740Z"
   },
   {
    "duration": 733,
    "start_time": "2024-11-02T08:40:48.747Z"
   },
   {
    "duration": 11,
    "start_time": "2024-11-02T08:40:49.481Z"
   },
   {
    "duration": 55,
    "start_time": "2024-11-02T09:28:46.785Z"
   },
   {
    "duration": 9,
    "start_time": "2024-11-02T09:31:35.826Z"
   },
   {
    "duration": 357,
    "start_time": "2024-11-04T13:57:11.001Z"
   },
   {
    "duration": 189,
    "start_time": "2024-11-04T13:57:11.360Z"
   },
   {
    "duration": 12,
    "start_time": "2024-11-04T13:57:11.551Z"
   },
   {
    "duration": 15,
    "start_time": "2024-11-04T13:57:11.565Z"
   },
   {
    "duration": 10,
    "start_time": "2024-11-04T13:57:11.582Z"
   },
   {
    "duration": 7,
    "start_time": "2024-11-04T13:57:11.593Z"
   },
   {
    "duration": 827,
    "start_time": "2024-11-04T13:57:11.601Z"
   },
   {
    "duration": 13,
    "start_time": "2024-11-04T13:57:12.431Z"
   },
   {
    "duration": 12,
    "start_time": "2024-11-04T13:57:31.248Z"
   },
   {
    "duration": 609,
    "start_time": "2024-11-04T13:57:31.848Z"
   },
   {
    "duration": 398,
    "start_time": "2024-11-04T19:13:20.660Z"
   },
   {
    "duration": 179,
    "start_time": "2024-11-04T19:13:21.059Z"
   },
   {
    "duration": 12,
    "start_time": "2024-11-04T19:13:21.239Z"
   },
   {
    "duration": 17,
    "start_time": "2024-11-04T19:13:21.253Z"
   },
   {
    "duration": 14,
    "start_time": "2024-11-04T19:13:21.271Z"
   },
   {
    "duration": 3,
    "start_time": "2024-11-04T19:13:21.286Z"
   },
   {
    "duration": 844,
    "start_time": "2024-11-04T19:13:21.290Z"
   },
   {
    "duration": 12,
    "start_time": "2024-11-04T19:13:22.136Z"
   },
   {
    "duration": 563,
    "start_time": "2024-11-04T19:13:22.150Z"
   },
   {
    "duration": 6,
    "start_time": "2024-11-04T19:15:21.712Z"
   },
   {
    "duration": 7,
    "start_time": "2024-11-04T19:16:01.503Z"
   },
   {
    "duration": 9,
    "start_time": "2024-11-04T19:17:43.204Z"
   },
   {
    "duration": 229,
    "start_time": "2024-11-04T19:18:09.814Z"
   },
   {
    "duration": 212,
    "start_time": "2024-11-04T19:19:05.438Z"
   },
   {
    "duration": 194,
    "start_time": "2024-11-04T19:19:22.409Z"
   },
   {
    "duration": 260,
    "start_time": "2024-11-04T19:19:34.618Z"
   },
   {
    "duration": 210,
    "start_time": "2024-11-04T19:24:07.983Z"
   },
   {
    "duration": 71,
    "start_time": "2024-11-05T09:00:47.260Z"
   },
   {
    "duration": 1353,
    "start_time": "2024-11-05T09:00:54.481Z"
   },
   {
    "duration": 182,
    "start_time": "2024-11-05T09:00:55.836Z"
   },
   {
    "duration": 13,
    "start_time": "2024-11-05T09:00:56.020Z"
   },
   {
    "duration": 65,
    "start_time": "2024-11-05T09:00:56.035Z"
   },
   {
    "duration": 17,
    "start_time": "2024-11-05T09:00:56.102Z"
   },
   {
    "duration": 4,
    "start_time": "2024-11-05T09:00:56.120Z"
   },
   {
    "duration": 436,
    "start_time": "2024-11-05T09:00:56.125Z"
   },
   {
    "duration": 13,
    "start_time": "2024-11-05T09:00:56.563Z"
   },
   {
    "duration": 15,
    "start_time": "2024-11-05T09:00:56.578Z"
   },
   {
    "duration": 17,
    "start_time": "2024-11-05T09:00:56.595Z"
   },
   {
    "duration": 270,
    "start_time": "2024-11-05T09:00:56.613Z"
   },
   {
    "duration": 248,
    "start_time": "2024-11-05T09:05:09.509Z"
   },
   {
    "duration": 244,
    "start_time": "2024-11-05T09:05:18.180Z"
   },
   {
    "duration": 305,
    "start_time": "2024-11-05T09:06:25.581Z"
   },
   {
    "duration": 422,
    "start_time": "2024-11-05T09:06:50.887Z"
   },
   {
    "duration": 234,
    "start_time": "2024-11-05T09:07:53.064Z"
   },
   {
    "duration": 7,
    "start_time": "2024-11-05T09:09:35.634Z"
   },
   {
    "duration": 5,
    "start_time": "2024-11-05T09:13:33.170Z"
   },
   {
    "duration": 6,
    "start_time": "2024-11-05T09:14:02.293Z"
   },
   {
    "duration": 8,
    "start_time": "2024-11-05T09:14:32.986Z"
   },
   {
    "duration": 4,
    "start_time": "2024-11-05T09:17:20.349Z"
   },
   {
    "duration": 3,
    "start_time": "2024-11-05T09:28:02.206Z"
   },
   {
    "duration": 141,
    "start_time": "2024-11-05T09:28:45.513Z"
   },
   {
    "duration": 14,
    "start_time": "2024-11-05T09:29:08.131Z"
   },
   {
    "duration": 1292,
    "start_time": "2024-11-05T09:32:24.519Z"
   },
   {
    "duration": 55,
    "start_time": "2024-11-05T09:32:25.813Z"
   },
   {
    "duration": 13,
    "start_time": "2024-11-05T09:32:25.869Z"
   },
   {
    "duration": 38,
    "start_time": "2024-11-05T09:32:25.883Z"
   },
   {
    "duration": 113,
    "start_time": "2024-11-05T09:32:25.923Z"
   },
   {
    "duration": 0,
    "start_time": "2024-11-05T09:32:26.037Z"
   },
   {
    "duration": 0,
    "start_time": "2024-11-05T09:32:26.038Z"
   },
   {
    "duration": 0,
    "start_time": "2024-11-05T09:32:26.039Z"
   },
   {
    "duration": 0,
    "start_time": "2024-11-05T09:32:26.040Z"
   },
   {
    "duration": 0,
    "start_time": "2024-11-05T09:32:26.041Z"
   },
   {
    "duration": 0,
    "start_time": "2024-11-05T09:32:26.042Z"
   },
   {
    "duration": 0,
    "start_time": "2024-11-05T09:32:26.043Z"
   },
   {
    "duration": 0,
    "start_time": "2024-11-05T09:32:26.044Z"
   },
   {
    "duration": 13,
    "start_time": "2024-11-05T09:33:00.991Z"
   },
   {
    "duration": 1419,
    "start_time": "2024-11-05T09:33:27.018Z"
   },
   {
    "duration": 57,
    "start_time": "2024-11-05T09:33:28.439Z"
   },
   {
    "duration": 12,
    "start_time": "2024-11-05T09:33:28.497Z"
   },
   {
    "duration": 11,
    "start_time": "2024-11-05T09:33:28.511Z"
   },
   {
    "duration": 24,
    "start_time": "2024-11-05T09:33:28.524Z"
   },
   {
    "duration": 3,
    "start_time": "2024-11-05T09:33:28.552Z"
   },
   {
    "duration": 389,
    "start_time": "2024-11-05T09:33:28.556Z"
   },
   {
    "duration": 12,
    "start_time": "2024-11-05T09:33:28.947Z"
   },
   {
    "duration": 5,
    "start_time": "2024-11-05T09:33:28.960Z"
   },
   {
    "duration": 14,
    "start_time": "2024-11-05T09:33:28.967Z"
   },
   {
    "duration": 415,
    "start_time": "2024-11-05T09:33:28.982Z"
   },
   {
    "duration": 209,
    "start_time": "2024-11-05T09:33:29.398Z"
   },
   {
    "duration": 0,
    "start_time": "2024-11-05T09:33:29.609Z"
   },
   {
    "duration": 1302,
    "start_time": "2024-11-05T09:35:59.356Z"
   },
   {
    "duration": 58,
    "start_time": "2024-11-05T09:36:00.660Z"
   },
   {
    "duration": 50,
    "start_time": "2024-11-05T09:36:00.719Z"
   },
   {
    "duration": 12,
    "start_time": "2024-11-05T09:36:00.771Z"
   },
   {
    "duration": 112,
    "start_time": "2024-11-05T09:36:00.784Z"
   },
   {
    "duration": 0,
    "start_time": "2024-11-05T09:36:00.898Z"
   },
   {
    "duration": 0,
    "start_time": "2024-11-05T09:36:00.899Z"
   },
   {
    "duration": 0,
    "start_time": "2024-11-05T09:36:00.901Z"
   },
   {
    "duration": 0,
    "start_time": "2024-11-05T09:36:00.902Z"
   },
   {
    "duration": 0,
    "start_time": "2024-11-05T09:36:00.903Z"
   },
   {
    "duration": 0,
    "start_time": "2024-11-05T09:36:00.904Z"
   },
   {
    "duration": 0,
    "start_time": "2024-11-05T09:36:00.905Z"
   },
   {
    "duration": 0,
    "start_time": "2024-11-05T09:36:00.906Z"
   },
   {
    "duration": 10,
    "start_time": "2024-11-05T09:36:50.172Z"
   },
   {
    "duration": 1365,
    "start_time": "2024-11-05T09:36:55.452Z"
   },
   {
    "duration": 57,
    "start_time": "2024-11-05T09:36:56.819Z"
   },
   {
    "duration": 11,
    "start_time": "2024-11-05T09:36:56.877Z"
   },
   {
    "duration": 72,
    "start_time": "2024-11-05T09:36:56.889Z"
   },
   {
    "duration": 10,
    "start_time": "2024-11-05T09:36:56.963Z"
   },
   {
    "duration": 3,
    "start_time": "2024-11-05T09:36:56.975Z"
   },
   {
    "duration": 454,
    "start_time": "2024-11-05T09:36:56.979Z"
   },
   {
    "duration": 12,
    "start_time": "2024-11-05T09:36:57.435Z"
   },
   {
    "duration": 10,
    "start_time": "2024-11-05T09:36:57.448Z"
   },
   {
    "duration": 15,
    "start_time": "2024-11-05T09:36:57.459Z"
   },
   {
    "duration": 367,
    "start_time": "2024-11-05T09:36:57.475Z"
   },
   {
    "duration": 212,
    "start_time": "2024-11-05T09:36:57.844Z"
   },
   {
    "duration": 0,
    "start_time": "2024-11-05T09:36:58.057Z"
   },
   {
    "duration": 14,
    "start_time": "2024-11-05T09:37:35.899Z"
   },
   {
    "duration": 1260,
    "start_time": "2024-11-05T09:44:05.442Z"
   },
   {
    "duration": 52,
    "start_time": "2024-11-05T09:44:06.704Z"
   },
   {
    "duration": 12,
    "start_time": "2024-11-05T09:44:06.757Z"
   },
   {
    "duration": 30,
    "start_time": "2024-11-05T09:44:06.770Z"
   },
   {
    "duration": 46,
    "start_time": "2024-11-05T09:44:06.801Z"
   },
   {
    "duration": 29,
    "start_time": "2024-11-05T09:44:06.849Z"
   },
   {
    "duration": 450,
    "start_time": "2024-11-05T09:44:06.880Z"
   },
   {
    "duration": 12,
    "start_time": "2024-11-05T09:44:07.331Z"
   },
   {
    "duration": 73,
    "start_time": "2024-11-05T09:44:07.344Z"
   },
   {
    "duration": 28,
    "start_time": "2024-11-05T09:44:07.419Z"
   },
   {
    "duration": 396,
    "start_time": "2024-11-05T09:44:07.448Z"
   },
   {
    "duration": 207,
    "start_time": "2024-11-05T09:44:07.845Z"
   },
   {
    "duration": 0,
    "start_time": "2024-11-05T09:44:08.053Z"
   },
   {
    "duration": 13,
    "start_time": "2024-11-05T09:45:18.455Z"
   },
   {
    "duration": 1225,
    "start_time": "2024-11-05T09:45:27.173Z"
   },
   {
    "duration": 55,
    "start_time": "2024-11-05T09:45:28.400Z"
   },
   {
    "duration": 13,
    "start_time": "2024-11-05T09:45:28.456Z"
   },
   {
    "duration": 9,
    "start_time": "2024-11-05T09:45:28.471Z"
   },
   {
    "duration": 104,
    "start_time": "2024-11-05T09:45:28.482Z"
   },
   {
    "duration": 3,
    "start_time": "2024-11-05T09:45:28.587Z"
   },
   {
    "duration": 411,
    "start_time": "2024-11-05T09:45:28.591Z"
   },
   {
    "duration": 15,
    "start_time": "2024-11-05T09:45:29.004Z"
   },
   {
    "duration": 11,
    "start_time": "2024-11-05T09:45:29.020Z"
   },
   {
    "duration": 21,
    "start_time": "2024-11-05T09:45:29.033Z"
   },
   {
    "duration": 393,
    "start_time": "2024-11-05T09:45:29.056Z"
   },
   {
    "duration": 203,
    "start_time": "2024-11-05T09:45:29.450Z"
   },
   {
    "duration": 0,
    "start_time": "2024-11-05T09:45:29.654Z"
   },
   {
    "duration": 1511,
    "start_time": "2024-11-05T09:46:04.643Z"
   },
   {
    "duration": 1376,
    "start_time": "2024-11-05T09:46:16.001Z"
   },
   {
    "duration": 3,
    "start_time": "2024-11-05T09:46:52.091Z"
   },
   {
    "duration": 494,
    "start_time": "2024-11-05T09:49:36.163Z"
   },
   {
    "duration": 776,
    "start_time": "2024-11-05T09:49:51.452Z"
   },
   {
    "duration": 435,
    "start_time": "2024-11-05T09:50:21.468Z"
   },
   {
    "duration": 639,
    "start_time": "2024-11-05T09:51:13.659Z"
   },
   {
    "duration": 657,
    "start_time": "2024-11-05T09:52:28.034Z"
   },
   {
    "duration": 2,
    "start_time": "2024-11-05T09:53:55.615Z"
   },
   {
    "duration": 51,
    "start_time": "2024-11-05T09:53:56.741Z"
   },
   {
    "duration": 11,
    "start_time": "2024-11-05T09:53:58.943Z"
   },
   {
    "duration": 10,
    "start_time": "2024-11-05T09:54:02.576Z"
   },
   {
    "duration": 11,
    "start_time": "2024-11-05T09:54:32.214Z"
   },
   {
    "duration": 3,
    "start_time": "2024-11-05T09:54:36.359Z"
   },
   {
    "duration": 348,
    "start_time": "2024-11-05T09:54:37.661Z"
   },
   {
    "duration": 11,
    "start_time": "2024-11-05T09:54:42.264Z"
   },
   {
    "duration": 6,
    "start_time": "2024-11-05T09:54:46.375Z"
   },
   {
    "duration": 5,
    "start_time": "2024-11-05T09:54:48.606Z"
   },
   {
    "duration": 341,
    "start_time": "2024-11-05T09:54:49.899Z"
   },
   {
    "duration": 37,
    "start_time": "2024-11-05T09:54:57.917Z"
   },
   {
    "duration": 3,
    "start_time": "2024-11-05T09:55:45.495Z"
   },
   {
    "duration": 51,
    "start_time": "2024-11-05T09:55:46.456Z"
   },
   {
    "duration": 11,
    "start_time": "2024-11-05T09:55:49.137Z"
   },
   {
    "duration": 10,
    "start_time": "2024-11-05T09:55:50.332Z"
   },
   {
    "duration": 11,
    "start_time": "2024-11-05T09:55:53.502Z"
   },
   {
    "duration": 13,
    "start_time": "2024-11-05T09:56:10.643Z"
   },
   {
    "duration": 1327,
    "start_time": "2024-11-05T09:56:17.500Z"
   },
   {
    "duration": 55,
    "start_time": "2024-11-05T09:56:18.829Z"
   },
   {
    "duration": 12,
    "start_time": "2024-11-05T09:56:18.885Z"
   },
   {
    "duration": 12,
    "start_time": "2024-11-05T09:56:18.898Z"
   },
   {
    "duration": 13,
    "start_time": "2024-11-05T09:56:18.911Z"
   },
   {
    "duration": 63,
    "start_time": "2024-11-05T09:56:18.926Z"
   },
   {
    "duration": 415,
    "start_time": "2024-11-05T09:56:18.990Z"
   },
   {
    "duration": 13,
    "start_time": "2024-11-05T09:56:19.407Z"
   },
   {
    "duration": 5,
    "start_time": "2024-11-05T09:56:19.421Z"
   },
   {
    "duration": 67,
    "start_time": "2024-11-05T09:56:19.428Z"
   },
   {
    "duration": 357,
    "start_time": "2024-11-05T09:56:19.496Z"
   },
   {
    "duration": 209,
    "start_time": "2024-11-05T09:56:19.854Z"
   },
   {
    "duration": 0,
    "start_time": "2024-11-05T09:56:20.065Z"
   },
   {
    "duration": 4,
    "start_time": "2024-11-05T09:56:59.771Z"
   },
   {
    "duration": 1325,
    "start_time": "2024-11-05T09:57:08.491Z"
   },
   {
    "duration": 55,
    "start_time": "2024-11-05T09:57:09.817Z"
   },
   {
    "duration": 102,
    "start_time": "2024-11-05T09:57:09.874Z"
   },
   {
    "duration": 19,
    "start_time": "2024-11-05T09:57:09.977Z"
   },
   {
    "duration": 15,
    "start_time": "2024-11-05T09:57:09.998Z"
   },
   {
    "duration": 14,
    "start_time": "2024-11-05T09:57:10.014Z"
   },
   {
    "duration": 415,
    "start_time": "2024-11-05T09:57:10.030Z"
   },
   {
    "duration": 11,
    "start_time": "2024-11-05T09:57:10.447Z"
   },
   {
    "duration": 12,
    "start_time": "2024-11-05T09:57:10.460Z"
   },
   {
    "duration": 5,
    "start_time": "2024-11-05T09:57:10.473Z"
   },
   {
    "duration": 6,
    "start_time": "2024-11-05T09:57:10.479Z"
   },
   {
    "duration": 355,
    "start_time": "2024-11-05T09:57:10.486Z"
   },
   {
    "duration": 206,
    "start_time": "2024-11-05T09:57:10.843Z"
   },
   {
    "duration": 0,
    "start_time": "2024-11-05T09:57:11.051Z"
   },
   {
    "duration": 1347,
    "start_time": "2024-11-05T09:57:29.787Z"
   },
   {
    "duration": 55,
    "start_time": "2024-11-05T09:57:31.136Z"
   },
   {
    "duration": 102,
    "start_time": "2024-11-05T09:57:31.192Z"
   },
   {
    "duration": 16,
    "start_time": "2024-11-05T09:57:31.295Z"
   },
   {
    "duration": 47,
    "start_time": "2024-11-05T09:57:31.313Z"
   },
   {
    "duration": 38,
    "start_time": "2024-11-05T09:57:31.362Z"
   },
   {
    "duration": 431,
    "start_time": "2024-11-05T09:57:31.402Z"
   },
   {
    "duration": 12,
    "start_time": "2024-11-05T09:57:31.835Z"
   },
   {
    "duration": 81,
    "start_time": "2024-11-05T09:57:31.849Z"
   },
   {
    "duration": 32,
    "start_time": "2024-11-05T09:57:31.932Z"
   },
   {
    "duration": 34,
    "start_time": "2024-11-05T09:57:31.966Z"
   },
   {
    "duration": 423,
    "start_time": "2024-11-05T09:57:32.002Z"
   },
   {
    "duration": 3,
    "start_time": "2024-11-05T09:57:32.426Z"
   },
   {
    "duration": 223,
    "start_time": "2024-11-05T09:57:32.431Z"
   },
   {
    "duration": 0,
    "start_time": "2024-11-05T09:57:32.655Z"
   },
   {
    "duration": 10,
    "start_time": "2024-11-05T09:58:52.322Z"
   },
   {
    "duration": 1320,
    "start_time": "2024-11-05T10:01:27.836Z"
   },
   {
    "duration": 740,
    "start_time": "2024-11-05T10:02:00.244Z"
   },
   {
    "duration": 1264,
    "start_time": "2024-11-05T10:02:17.178Z"
   },
   {
    "duration": 1371,
    "start_time": "2024-11-05T10:04:02.633Z"
   },
   {
    "duration": 3,
    "start_time": "2024-11-05T10:04:21.695Z"
   },
   {
    "duration": 1267,
    "start_time": "2024-11-05T10:04:34.261Z"
   },
   {
    "duration": 55,
    "start_time": "2024-11-05T10:04:35.529Z"
   },
   {
    "duration": 42,
    "start_time": "2024-11-05T10:04:35.585Z"
   },
   {
    "duration": 18,
    "start_time": "2024-11-05T10:04:35.629Z"
   },
   {
    "duration": 35,
    "start_time": "2024-11-05T10:04:35.649Z"
   },
   {
    "duration": 9,
    "start_time": "2024-11-05T10:04:35.686Z"
   },
   {
    "duration": 404,
    "start_time": "2024-11-05T10:04:35.697Z"
   },
   {
    "duration": 11,
    "start_time": "2024-11-05T10:04:36.103Z"
   },
   {
    "duration": 3,
    "start_time": "2024-11-05T10:04:36.116Z"
   },
   {
    "duration": 20,
    "start_time": "2024-11-05T10:04:36.120Z"
   },
   {
    "duration": 32,
    "start_time": "2024-11-05T10:04:36.142Z"
   },
   {
    "duration": 366,
    "start_time": "2024-11-05T10:04:36.176Z"
   },
   {
    "duration": 3,
    "start_time": "2024-11-05T10:04:36.543Z"
   },
   {
    "duration": 35,
    "start_time": "2024-11-05T10:04:36.548Z"
   },
   {
    "duration": 48,
    "start_time": "2024-11-05T10:07:31.889Z"
   },
   {
    "duration": 1342,
    "start_time": "2024-11-05T10:07:36.781Z"
   },
   {
    "duration": 55,
    "start_time": "2024-11-05T10:07:38.125Z"
   },
   {
    "duration": 13,
    "start_time": "2024-11-05T10:07:38.182Z"
   },
   {
    "duration": 43,
    "start_time": "2024-11-05T10:07:38.196Z"
   },
   {
    "duration": 23,
    "start_time": "2024-11-05T10:07:38.241Z"
   },
   {
    "duration": 4,
    "start_time": "2024-11-05T10:07:38.266Z"
   },
   {
    "duration": 414,
    "start_time": "2024-11-05T10:07:38.271Z"
   },
   {
    "duration": 11,
    "start_time": "2024-11-05T10:07:38.687Z"
   },
   {
    "duration": 15,
    "start_time": "2024-11-05T10:07:38.700Z"
   },
   {
    "duration": 22,
    "start_time": "2024-11-05T10:07:38.716Z"
   },
   {
    "duration": 7,
    "start_time": "2024-11-05T10:07:38.740Z"
   },
   {
    "duration": 388,
    "start_time": "2024-11-05T10:07:38.749Z"
   },
   {
    "duration": 3,
    "start_time": "2024-11-05T10:07:39.139Z"
   },
   {
    "duration": 219,
    "start_time": "2024-11-05T10:07:39.144Z"
   },
   {
    "duration": 0,
    "start_time": "2024-11-05T10:07:39.365Z"
   },
   {
    "duration": 1319,
    "start_time": "2024-11-05T10:10:58.882Z"
   },
   {
    "duration": 56,
    "start_time": "2024-11-05T10:11:00.203Z"
   },
   {
    "duration": 16,
    "start_time": "2024-11-05T10:11:00.260Z"
   },
   {
    "duration": 63,
    "start_time": "2024-11-05T10:11:00.278Z"
   },
   {
    "duration": 65,
    "start_time": "2024-11-05T10:11:00.343Z"
   },
   {
    "duration": 91,
    "start_time": "2024-11-05T10:11:00.409Z"
   },
   {
    "duration": 403,
    "start_time": "2024-11-05T10:11:00.502Z"
   },
   {
    "duration": 13,
    "start_time": "2024-11-05T10:11:00.907Z"
   },
   {
    "duration": 39,
    "start_time": "2024-11-05T10:11:00.922Z"
   },
   {
    "duration": 12,
    "start_time": "2024-11-05T10:11:00.964Z"
   },
   {
    "duration": 6,
    "start_time": "2024-11-05T10:11:00.977Z"
   },
   {
    "duration": 439,
    "start_time": "2024-11-05T10:11:00.984Z"
   },
   {
    "duration": 3,
    "start_time": "2024-11-05T10:11:01.424Z"
   },
   {
    "duration": 212,
    "start_time": "2024-11-05T10:11:01.429Z"
   },
   {
    "duration": 0,
    "start_time": "2024-11-05T10:11:01.642Z"
   },
   {
    "duration": 1232,
    "start_time": "2024-11-05T10:13:42.179Z"
   },
   {
    "duration": 56,
    "start_time": "2024-11-05T10:13:43.413Z"
   },
   {
    "duration": 12,
    "start_time": "2024-11-05T10:13:43.470Z"
   },
   {
    "duration": 12,
    "start_time": "2024-11-05T10:13:43.484Z"
   },
   {
    "duration": 13,
    "start_time": "2024-11-05T10:13:43.498Z"
   },
   {
    "duration": 3,
    "start_time": "2024-11-05T10:13:43.512Z"
   },
   {
    "duration": 445,
    "start_time": "2024-11-05T10:13:43.516Z"
   },
   {
    "duration": 11,
    "start_time": "2024-11-05T10:13:43.963Z"
   },
   {
    "duration": 36,
    "start_time": "2024-11-05T10:13:43.975Z"
   },
   {
    "duration": 22,
    "start_time": "2024-11-05T10:13:44.013Z"
   },
   {
    "duration": 27,
    "start_time": "2024-11-05T10:13:44.036Z"
   },
   {
    "duration": 394,
    "start_time": "2024-11-05T10:13:44.065Z"
   },
   {
    "duration": 4,
    "start_time": "2024-11-05T10:13:44.460Z"
   },
   {
    "duration": 202,
    "start_time": "2024-11-05T10:13:44.465Z"
   },
   {
    "duration": 0,
    "start_time": "2024-11-05T10:13:44.669Z"
   },
   {
    "duration": 14,
    "start_time": "2024-11-05T10:14:07.527Z"
   },
   {
    "duration": 21,
    "start_time": "2024-11-05T10:15:31.155Z"
   },
   {
    "duration": 21,
    "start_time": "2024-11-05T10:16:04.061Z"
   },
   {
    "duration": 13,
    "start_time": "2024-11-05T10:16:18.889Z"
   },
   {
    "duration": 3,
    "start_time": "2024-11-05T10:18:26.400Z"
   },
   {
    "duration": 70,
    "start_time": "2024-11-05T10:18:27.258Z"
   },
   {
    "duration": 10,
    "start_time": "2024-11-05T10:18:38.809Z"
   },
   {
    "duration": 4,
    "start_time": "2024-11-05T10:19:00.088Z"
   },
   {
    "duration": 7,
    "start_time": "2024-11-05T10:19:29.281Z"
   },
   {
    "duration": 3,
    "start_time": "2024-11-05T10:19:33.025Z"
   },
   {
    "duration": 329,
    "start_time": "2024-11-05T10:19:35.436Z"
   },
   {
    "duration": 11,
    "start_time": "2024-11-05T10:19:40.864Z"
   },
   {
    "duration": 3,
    "start_time": "2024-11-05T10:19:43.434Z"
   },
   {
    "duration": 6,
    "start_time": "2024-11-05T10:19:45.224Z"
   },
   {
    "duration": 6,
    "start_time": "2024-11-05T10:19:47.193Z"
   },
   {
    "duration": 356,
    "start_time": "2024-11-05T10:19:48.793Z"
   },
   {
    "duration": 3,
    "start_time": "2024-11-05T10:19:52.497Z"
   },
   {
    "duration": 40,
    "start_time": "2024-11-05T10:19:54.329Z"
   },
   {
    "duration": 21,
    "start_time": "2024-11-05T10:20:01.441Z"
   },
   {
    "duration": 58,
    "start_time": "2024-11-05T10:46:05.965Z"
   },
   {
    "duration": 11,
    "start_time": "2024-11-05T10:46:08.100Z"
   },
   {
    "duration": 3,
    "start_time": "2024-11-05T10:46:09.540Z"
   },
   {
    "duration": 7,
    "start_time": "2024-11-05T10:46:12.276Z"
   },
   {
    "duration": 7,
    "start_time": "2024-11-05T10:46:21.755Z"
   },
   {
    "duration": 3,
    "start_time": "2024-11-05T10:46:35.844Z"
   },
   {
    "duration": 354,
    "start_time": "2024-11-05T10:46:37.395Z"
   },
   {
    "duration": 11,
    "start_time": "2024-11-05T10:46:54.548Z"
   },
   {
    "duration": 3,
    "start_time": "2024-11-05T10:47:00.414Z"
   },
   {
    "duration": 5,
    "start_time": "2024-11-05T10:47:05.940Z"
   },
   {
    "duration": 6,
    "start_time": "2024-11-05T10:47:08.155Z"
   },
   {
    "duration": 465,
    "start_time": "2024-11-05T10:47:08.949Z"
   },
   {
    "duration": 3,
    "start_time": "2024-11-05T10:47:16.531Z"
   },
   {
    "duration": 37,
    "start_time": "2024-11-05T10:47:19.411Z"
   },
   {
    "duration": 17,
    "start_time": "2024-11-05T10:48:07.203Z"
   },
   {
    "duration": 3,
    "start_time": "2024-11-05T10:48:11.378Z"
   },
   {
    "duration": 55,
    "start_time": "2024-11-05T10:48:12.236Z"
   },
   {
    "duration": 9,
    "start_time": "2024-11-05T10:48:14.538Z"
   },
   {
    "duration": 3,
    "start_time": "2024-11-05T10:48:15.987Z"
   },
   {
    "duration": 7,
    "start_time": "2024-11-05T10:48:19.522Z"
   },
   {
    "duration": 7,
    "start_time": "2024-11-05T10:48:21.788Z"
   },
   {
    "duration": 3,
    "start_time": "2024-11-05T10:48:50.027Z"
   },
   {
    "duration": 342,
    "start_time": "2024-11-05T10:48:51.170Z"
   },
   {
    "duration": 11,
    "start_time": "2024-11-05T10:48:54.508Z"
   },
   {
    "duration": 5,
    "start_time": "2024-11-05T10:49:05.699Z"
   },
   {
    "duration": 6,
    "start_time": "2024-11-05T10:49:09.299Z"
   },
   {
    "duration": 365,
    "start_time": "2024-11-05T10:49:13.172Z"
   },
   {
    "duration": 3,
    "start_time": "2024-11-05T10:49:22.291Z"
   },
   {
    "duration": 34,
    "start_time": "2024-11-05T10:49:23.694Z"
   },
   {
    "duration": 4,
    "start_time": "2024-11-05T10:49:40.203Z"
   },
   {
    "duration": 13,
    "start_time": "2024-11-05T10:49:40.939Z"
   },
   {
    "duration": 3,
    "start_time": "2024-11-05T10:50:11.603Z"
   },
   {
    "duration": 9,
    "start_time": "2024-11-05T10:50:17.082Z"
   },
   {
    "duration": 11,
    "start_time": "2024-11-05T10:50:33.627Z"
   },
   {
    "duration": 1273,
    "start_time": "2024-11-05T10:52:45.161Z"
   },
   {
    "duration": 60,
    "start_time": "2024-11-05T10:52:46.436Z"
   },
   {
    "duration": 11,
    "start_time": "2024-11-05T10:52:46.498Z"
   },
   {
    "duration": 7,
    "start_time": "2024-11-05T10:52:46.511Z"
   },
   {
    "duration": 11,
    "start_time": "2024-11-05T10:52:46.519Z"
   },
   {
    "duration": 8,
    "start_time": "2024-11-05T10:52:46.532Z"
   },
   {
    "duration": 6,
    "start_time": "2024-11-05T10:52:46.541Z"
   },
   {
    "duration": 404,
    "start_time": "2024-11-05T10:52:46.549Z"
   },
   {
    "duration": 11,
    "start_time": "2024-11-05T10:52:46.955Z"
   },
   {
    "duration": 5,
    "start_time": "2024-11-05T10:52:46.968Z"
   },
   {
    "duration": 5,
    "start_time": "2024-11-05T10:52:46.975Z"
   },
   {
    "duration": 390,
    "start_time": "2024-11-05T10:52:46.981Z"
   },
   {
    "duration": 3,
    "start_time": "2024-11-05T10:52:47.372Z"
   },
   {
    "duration": 8,
    "start_time": "2024-11-05T10:52:47.377Z"
   },
   {
    "duration": 207,
    "start_time": "2024-11-05T10:52:47.386Z"
   },
   {
    "duration": 0,
    "start_time": "2024-11-05T10:52:47.595Z"
   },
   {
    "duration": 3,
    "start_time": "2024-11-05T10:52:54.706Z"
   },
   {
    "duration": 1247,
    "start_time": "2024-11-05T10:53:14.468Z"
   },
   {
    "duration": 61,
    "start_time": "2024-11-05T10:53:15.717Z"
   },
   {
    "duration": 31,
    "start_time": "2024-11-05T10:53:15.779Z"
   },
   {
    "duration": 24,
    "start_time": "2024-11-05T10:53:15.811Z"
   },
   {
    "duration": 36,
    "start_time": "2024-11-05T10:53:15.836Z"
   },
   {
    "duration": 7,
    "start_time": "2024-11-05T10:53:15.873Z"
   },
   {
    "duration": 6,
    "start_time": "2024-11-05T10:53:15.881Z"
   },
   {
    "duration": 404,
    "start_time": "2024-11-05T10:53:15.889Z"
   },
   {
    "duration": 10,
    "start_time": "2024-11-05T10:53:16.295Z"
   },
   {
    "duration": 5,
    "start_time": "2024-11-05T10:53:16.308Z"
   },
   {
    "duration": 5,
    "start_time": "2024-11-05T10:53:16.315Z"
   },
   {
    "duration": 396,
    "start_time": "2024-11-05T10:53:16.321Z"
   },
   {
    "duration": 3,
    "start_time": "2024-11-05T10:53:16.720Z"
   },
   {
    "duration": 19,
    "start_time": "2024-11-05T10:53:16.724Z"
   },
   {
    "duration": 209,
    "start_time": "2024-11-05T10:53:16.744Z"
   },
   {
    "duration": 0,
    "start_time": "2024-11-05T10:53:16.954Z"
   },
   {
    "duration": 1304,
    "start_time": "2024-11-05T10:53:42.816Z"
   },
   {
    "duration": 61,
    "start_time": "2024-11-05T10:53:44.122Z"
   },
   {
    "duration": 12,
    "start_time": "2024-11-05T10:53:44.185Z"
   },
   {
    "duration": 79,
    "start_time": "2024-11-05T10:53:44.199Z"
   },
   {
    "duration": 16,
    "start_time": "2024-11-05T10:53:44.279Z"
   },
   {
    "duration": 6,
    "start_time": "2024-11-05T10:53:44.297Z"
   },
   {
    "duration": 9,
    "start_time": "2024-11-05T10:53:44.305Z"
   },
   {
    "duration": 398,
    "start_time": "2024-11-05T10:53:44.315Z"
   },
   {
    "duration": 11,
    "start_time": "2024-11-05T10:53:44.715Z"
   },
   {
    "duration": 7,
    "start_time": "2024-11-05T10:53:44.728Z"
   },
   {
    "duration": 17,
    "start_time": "2024-11-05T10:53:44.736Z"
   },
   {
    "duration": 381,
    "start_time": "2024-11-05T10:53:44.754Z"
   },
   {
    "duration": 3,
    "start_time": "2024-11-05T10:53:45.137Z"
   },
   {
    "duration": 67,
    "start_time": "2024-11-05T10:53:45.142Z"
   },
   {
    "duration": 90,
    "start_time": "2024-11-05T10:53:56.938Z"
   },
   {
    "duration": 4,
    "start_time": "2024-11-05T10:54:10.810Z"
   },
   {
    "duration": 1344,
    "start_time": "2024-11-05T10:54:43.312Z"
   },
   {
    "duration": 59,
    "start_time": "2024-11-05T10:54:44.658Z"
   },
   {
    "duration": 10,
    "start_time": "2024-11-05T10:54:44.719Z"
   },
   {
    "duration": 16,
    "start_time": "2024-11-05T10:54:44.730Z"
   },
   {
    "duration": 9,
    "start_time": "2024-11-05T10:54:44.748Z"
   },
   {
    "duration": 9,
    "start_time": "2024-11-05T10:54:44.758Z"
   },
   {
    "duration": 4,
    "start_time": "2024-11-05T10:54:44.769Z"
   },
   {
    "duration": 403,
    "start_time": "2024-11-05T10:54:44.774Z"
   },
   {
    "duration": 12,
    "start_time": "2024-11-05T10:54:45.179Z"
   },
   {
    "duration": 48,
    "start_time": "2024-11-05T10:54:45.193Z"
   },
   {
    "duration": 21,
    "start_time": "2024-11-05T10:54:45.242Z"
   },
   {
    "duration": 369,
    "start_time": "2024-11-05T10:54:45.265Z"
   },
   {
    "duration": 3,
    "start_time": "2024-11-05T10:54:45.636Z"
   },
   {
    "duration": 110,
    "start_time": "2024-11-05T10:54:45.641Z"
   },
   {
    "duration": 4,
    "start_time": "2024-11-05T10:54:45.753Z"
   },
   {
    "duration": 158,
    "start_time": "2024-11-05T10:54:45.759Z"
   },
   {
    "duration": 1281,
    "start_time": "2024-11-05T10:55:39.132Z"
   },
   {
    "duration": 59,
    "start_time": "2024-11-05T10:55:40.415Z"
   },
   {
    "duration": 10,
    "start_time": "2024-11-05T10:55:40.476Z"
   },
   {
    "duration": 4,
    "start_time": "2024-11-05T10:55:40.487Z"
   },
   {
    "duration": 9,
    "start_time": "2024-11-05T10:55:40.493Z"
   },
   {
    "duration": 7,
    "start_time": "2024-11-05T10:55:40.503Z"
   },
   {
    "duration": 7,
    "start_time": "2024-11-05T10:55:40.512Z"
   },
   {
    "duration": 400,
    "start_time": "2024-11-05T10:55:40.521Z"
   },
   {
    "duration": 13,
    "start_time": "2024-11-05T10:55:40.924Z"
   },
   {
    "duration": 6,
    "start_time": "2024-11-05T10:55:40.938Z"
   },
   {
    "duration": 9,
    "start_time": "2024-11-05T10:55:40.946Z"
   },
   {
    "duration": 379,
    "start_time": "2024-11-05T10:55:40.956Z"
   },
   {
    "duration": 4,
    "start_time": "2024-11-05T10:55:41.337Z"
   },
   {
    "duration": 31,
    "start_time": "2024-11-05T10:55:41.344Z"
   },
   {
    "duration": 10,
    "start_time": "2024-11-05T10:55:41.377Z"
   },
   {
    "duration": 9,
    "start_time": "2024-11-05T10:55:41.389Z"
   },
   {
    "duration": 1360,
    "start_time": "2024-11-05T10:56:51.267Z"
   },
   {
    "duration": 62,
    "start_time": "2024-11-05T10:56:52.629Z"
   },
   {
    "duration": 12,
    "start_time": "2024-11-05T10:56:52.692Z"
   },
   {
    "duration": 51,
    "start_time": "2024-11-05T10:56:52.705Z"
   },
   {
    "duration": 43,
    "start_time": "2024-11-05T10:56:52.758Z"
   },
   {
    "duration": 22,
    "start_time": "2024-11-05T10:56:52.802Z"
   },
   {
    "duration": 18,
    "start_time": "2024-11-05T10:56:52.826Z"
   },
   {
    "duration": 500,
    "start_time": "2024-11-05T10:56:52.846Z"
   },
   {
    "duration": 12,
    "start_time": "2024-11-05T10:56:53.347Z"
   },
   {
    "duration": 8,
    "start_time": "2024-11-05T10:56:53.360Z"
   },
   {
    "duration": 20,
    "start_time": "2024-11-05T10:56:53.371Z"
   },
   {
    "duration": 368,
    "start_time": "2024-11-05T10:56:53.393Z"
   },
   {
    "duration": 3,
    "start_time": "2024-11-05T10:56:53.763Z"
   },
   {
    "duration": 75,
    "start_time": "2024-11-05T10:56:53.768Z"
   },
   {
    "duration": 9,
    "start_time": "2024-11-05T10:56:53.845Z"
   },
   {
    "duration": 15,
    "start_time": "2024-11-05T10:56:53.855Z"
   },
   {
    "duration": 1282,
    "start_time": "2024-11-05T10:57:22.155Z"
   },
   {
    "duration": 61,
    "start_time": "2024-11-05T10:57:23.439Z"
   },
   {
    "duration": 10,
    "start_time": "2024-11-05T10:57:23.501Z"
   },
   {
    "duration": 62,
    "start_time": "2024-11-05T10:57:23.513Z"
   },
   {
    "duration": 59,
    "start_time": "2024-11-05T10:57:23.577Z"
   },
   {
    "duration": 22,
    "start_time": "2024-11-05T10:57:23.638Z"
   },
   {
    "duration": 21,
    "start_time": "2024-11-05T10:57:23.662Z"
   },
   {
    "duration": 408,
    "start_time": "2024-11-05T10:57:23.685Z"
   },
   {
    "duration": 14,
    "start_time": "2024-11-05T10:57:24.095Z"
   },
   {
    "duration": 19,
    "start_time": "2024-11-05T10:57:24.111Z"
   },
   {
    "duration": 28,
    "start_time": "2024-11-05T10:57:24.131Z"
   },
   {
    "duration": 390,
    "start_time": "2024-11-05T10:57:24.160Z"
   },
   {
    "duration": 4,
    "start_time": "2024-11-05T10:57:24.551Z"
   },
   {
    "duration": 32,
    "start_time": "2024-11-05T10:57:24.558Z"
   },
   {
    "duration": 50,
    "start_time": "2024-11-05T10:57:24.591Z"
   },
   {
    "duration": 28,
    "start_time": "2024-11-05T10:57:24.643Z"
   },
   {
    "duration": 10,
    "start_time": "2024-11-05T10:57:40.218Z"
   },
   {
    "duration": 1298,
    "start_time": "2024-11-05T10:57:46.240Z"
   },
   {
    "duration": 60,
    "start_time": "2024-11-05T10:57:47.540Z"
   },
   {
    "duration": 12,
    "start_time": "2024-11-05T10:57:47.602Z"
   },
   {
    "duration": 3,
    "start_time": "2024-11-05T10:57:47.616Z"
   },
   {
    "duration": 9,
    "start_time": "2024-11-05T10:57:47.621Z"
   },
   {
    "duration": 6,
    "start_time": "2024-11-05T10:57:47.631Z"
   },
   {
    "duration": 10,
    "start_time": "2024-11-05T10:57:47.639Z"
   },
   {
    "duration": 403,
    "start_time": "2024-11-05T10:57:47.650Z"
   },
   {
    "duration": 12,
    "start_time": "2024-11-05T10:57:48.056Z"
   },
   {
    "duration": 26,
    "start_time": "2024-11-05T10:57:48.071Z"
   },
   {
    "duration": 39,
    "start_time": "2024-11-05T10:57:48.098Z"
   },
   {
    "duration": 399,
    "start_time": "2024-11-05T10:57:48.138Z"
   },
   {
    "duration": 3,
    "start_time": "2024-11-05T10:57:48.539Z"
   },
   {
    "duration": 12,
    "start_time": "2024-11-05T10:57:48.544Z"
   },
   {
    "duration": 11,
    "start_time": "2024-11-05T10:57:48.558Z"
   },
   {
    "duration": 9,
    "start_time": "2024-11-05T10:57:48.570Z"
   },
   {
    "duration": 1305,
    "start_time": "2024-11-05T10:58:22.816Z"
   },
   {
    "duration": 62,
    "start_time": "2024-11-05T10:58:24.122Z"
   },
   {
    "duration": 11,
    "start_time": "2024-11-05T10:58:24.185Z"
   },
   {
    "duration": 3,
    "start_time": "2024-11-05T10:58:24.198Z"
   },
   {
    "duration": 12,
    "start_time": "2024-11-05T10:58:24.202Z"
   },
   {
    "duration": 12,
    "start_time": "2024-11-05T10:58:24.215Z"
   },
   {
    "duration": 20,
    "start_time": "2024-11-05T10:58:24.229Z"
   },
   {
    "duration": 419,
    "start_time": "2024-11-05T10:58:24.250Z"
   },
   {
    "duration": 12,
    "start_time": "2024-11-05T10:58:24.671Z"
   },
   {
    "duration": 5,
    "start_time": "2024-11-05T10:58:24.685Z"
   },
   {
    "duration": 6,
    "start_time": "2024-11-05T10:58:24.691Z"
   },
   {
    "duration": 351,
    "start_time": "2024-11-05T10:58:24.699Z"
   },
   {
    "duration": 3,
    "start_time": "2024-11-05T10:58:25.051Z"
   },
   {
    "duration": 15,
    "start_time": "2024-11-05T10:58:25.056Z"
   },
   {
    "duration": 11,
    "start_time": "2024-11-05T10:58:25.073Z"
   },
   {
    "duration": 29,
    "start_time": "2024-11-05T10:58:25.085Z"
   },
   {
    "duration": 8,
    "start_time": "2024-11-05T10:58:44.352Z"
   },
   {
    "duration": 5,
    "start_time": "2024-11-05T10:59:31.577Z"
   },
   {
    "duration": 1513,
    "start_time": "2024-11-05T12:43:03.032Z"
   },
   {
    "duration": 60,
    "start_time": "2024-11-05T12:43:04.547Z"
   },
   {
    "duration": 11,
    "start_time": "2024-11-05T12:43:04.609Z"
   },
   {
    "duration": 16,
    "start_time": "2024-11-05T12:43:04.621Z"
   },
   {
    "duration": 22,
    "start_time": "2024-11-05T12:43:04.640Z"
   },
   {
    "duration": 16,
    "start_time": "2024-11-05T12:43:04.664Z"
   },
   {
    "duration": 8,
    "start_time": "2024-11-05T12:43:04.681Z"
   },
   {
    "duration": 419,
    "start_time": "2024-11-05T12:43:04.691Z"
   },
   {
    "duration": 10,
    "start_time": "2024-11-05T12:43:05.112Z"
   },
   {
    "duration": 18,
    "start_time": "2024-11-05T12:43:05.124Z"
   },
   {
    "duration": 17,
    "start_time": "2024-11-05T12:43:05.144Z"
   },
   {
    "duration": 365,
    "start_time": "2024-11-05T12:43:05.163Z"
   },
   {
    "duration": 10,
    "start_time": "2024-11-05T12:43:05.530Z"
   },
   {
    "duration": 18,
    "start_time": "2024-11-05T12:43:05.542Z"
   },
   {
    "duration": 34,
    "start_time": "2024-11-05T12:43:05.561Z"
   },
   {
    "duration": 4,
    "start_time": "2024-11-05T12:43:05.597Z"
   },
   {
    "duration": 100,
    "start_time": "2024-11-05T12:44:30.521Z"
   },
   {
    "duration": 217,
    "start_time": "2024-11-05T12:45:29.169Z"
   },
   {
    "duration": 1269,
    "start_time": "2024-11-05T12:45:56.471Z"
   },
   {
    "duration": 60,
    "start_time": "2024-11-05T12:45:57.741Z"
   },
   {
    "duration": 10,
    "start_time": "2024-11-05T12:45:57.802Z"
   },
   {
    "duration": 4,
    "start_time": "2024-11-05T12:45:57.813Z"
   },
   {
    "duration": 21,
    "start_time": "2024-11-05T12:45:57.818Z"
   },
   {
    "duration": 6,
    "start_time": "2024-11-05T12:45:57.841Z"
   },
   {
    "duration": 11,
    "start_time": "2024-11-05T12:45:57.848Z"
   },
   {
    "duration": 372,
    "start_time": "2024-11-05T12:45:57.861Z"
   },
   {
    "duration": 11,
    "start_time": "2024-11-05T12:45:58.235Z"
   },
   {
    "duration": 5,
    "start_time": "2024-11-05T12:45:58.248Z"
   },
   {
    "duration": 7,
    "start_time": "2024-11-05T12:45:58.255Z"
   },
   {
    "duration": 372,
    "start_time": "2024-11-05T12:45:58.264Z"
   },
   {
    "duration": 322,
    "start_time": "2024-11-05T12:45:58.638Z"
   },
   {
    "duration": 9,
    "start_time": "2024-11-05T12:45:58.961Z"
   },
   {
    "duration": 27,
    "start_time": "2024-11-05T12:45:58.972Z"
   },
   {
    "duration": 25,
    "start_time": "2024-11-05T12:45:59.001Z"
   },
   {
    "duration": 9,
    "start_time": "2024-11-05T12:45:59.027Z"
   },
   {
    "duration": 241,
    "start_time": "2024-11-05T12:46:37.530Z"
   },
   {
    "duration": 221,
    "start_time": "2024-11-05T12:47:00.151Z"
   },
   {
    "duration": 214,
    "start_time": "2024-11-05T12:47:06.049Z"
   },
   {
    "duration": 217,
    "start_time": "2024-11-05T12:47:24.369Z"
   },
   {
    "duration": 220,
    "start_time": "2024-11-05T12:49:02.669Z"
   },
   {
    "duration": 268,
    "start_time": "2024-11-05T12:49:20.325Z"
   },
   {
    "duration": 574,
    "start_time": "2024-11-05T12:50:39.935Z"
   },
   {
    "duration": 1308,
    "start_time": "2024-11-05T12:50:55.650Z"
   },
   {
    "duration": 61,
    "start_time": "2024-11-05T12:50:56.960Z"
   },
   {
    "duration": 10,
    "start_time": "2024-11-05T12:50:57.022Z"
   },
   {
    "duration": 12,
    "start_time": "2024-11-05T12:50:57.033Z"
   },
   {
    "duration": 8,
    "start_time": "2024-11-05T12:50:57.047Z"
   },
   {
    "duration": 7,
    "start_time": "2024-11-05T12:50:57.057Z"
   },
   {
    "duration": 7,
    "start_time": "2024-11-05T12:50:57.065Z"
   },
   {
    "duration": 404,
    "start_time": "2024-11-05T12:50:57.073Z"
   },
   {
    "duration": 12,
    "start_time": "2024-11-05T12:50:57.479Z"
   },
   {
    "duration": 5,
    "start_time": "2024-11-05T12:50:57.492Z"
   },
   {
    "duration": 7,
    "start_time": "2024-11-05T12:50:57.499Z"
   },
   {
    "duration": 372,
    "start_time": "2024-11-05T12:50:57.508Z"
   },
   {
    "duration": 327,
    "start_time": "2024-11-05T12:50:57.881Z"
   },
   {
    "duration": 14,
    "start_time": "2024-11-05T12:50:58.210Z"
   },
   {
    "duration": 14,
    "start_time": "2024-11-05T12:50:58.225Z"
   },
   {
    "duration": 13,
    "start_time": "2024-11-05T12:50:58.241Z"
   },
   {
    "duration": 5,
    "start_time": "2024-11-05T12:50:58.256Z"
   },
   {
    "duration": 1425,
    "start_time": "2024-11-05T12:51:18.285Z"
   },
   {
    "duration": 59,
    "start_time": "2024-11-05T12:51:19.712Z"
   },
   {
    "duration": 10,
    "start_time": "2024-11-05T12:51:19.772Z"
   },
   {
    "duration": 3,
    "start_time": "2024-11-05T12:51:19.784Z"
   },
   {
    "duration": 13,
    "start_time": "2024-11-05T12:51:19.789Z"
   },
   {
    "duration": 6,
    "start_time": "2024-11-05T12:51:19.804Z"
   },
   {
    "duration": 11,
    "start_time": "2024-11-05T12:51:19.812Z"
   },
   {
    "duration": 364,
    "start_time": "2024-11-05T12:51:19.825Z"
   },
   {
    "duration": 10,
    "start_time": "2024-11-05T12:51:20.191Z"
   },
   {
    "duration": 5,
    "start_time": "2024-11-05T12:51:20.203Z"
   },
   {
    "duration": 10,
    "start_time": "2024-11-05T12:51:20.210Z"
   },
   {
    "duration": 361,
    "start_time": "2024-11-05T12:51:20.222Z"
   },
   {
    "duration": 309,
    "start_time": "2024-11-05T12:51:20.585Z"
   },
   {
    "duration": 10,
    "start_time": "2024-11-05T12:51:20.895Z"
   },
   {
    "duration": 22,
    "start_time": "2024-11-05T12:51:20.906Z"
   },
   {
    "duration": 8,
    "start_time": "2024-11-05T12:51:20.929Z"
   },
   {
    "duration": 23,
    "start_time": "2024-11-05T12:51:20.938Z"
   },
   {
    "duration": 18,
    "start_time": "2024-11-05T12:51:45.245Z"
   },
   {
    "duration": 1322,
    "start_time": "2024-11-05T12:51:50.785Z"
   },
   {
    "duration": 60,
    "start_time": "2024-11-05T12:51:52.108Z"
   },
   {
    "duration": 9,
    "start_time": "2024-11-05T12:51:52.169Z"
   },
   {
    "duration": 9,
    "start_time": "2024-11-05T12:51:52.181Z"
   },
   {
    "duration": 20,
    "start_time": "2024-11-05T12:51:52.191Z"
   },
   {
    "duration": 6,
    "start_time": "2024-11-05T12:51:52.213Z"
   },
   {
    "duration": 23,
    "start_time": "2024-11-05T12:51:52.220Z"
   },
   {
    "duration": 384,
    "start_time": "2024-11-05T12:51:52.245Z"
   },
   {
    "duration": 10,
    "start_time": "2024-11-05T12:51:52.631Z"
   },
   {
    "duration": 6,
    "start_time": "2024-11-05T12:51:52.643Z"
   },
   {
    "duration": 8,
    "start_time": "2024-11-05T12:51:52.651Z"
   },
   {
    "duration": 383,
    "start_time": "2024-11-05T12:51:52.660Z"
   },
   {
    "duration": 342,
    "start_time": "2024-11-05T12:51:53.044Z"
   },
   {
    "duration": 22,
    "start_time": "2024-11-05T12:51:53.388Z"
   },
   {
    "duration": 55,
    "start_time": "2024-11-05T12:51:53.411Z"
   },
   {
    "duration": 28,
    "start_time": "2024-11-05T12:51:53.468Z"
   },
   {
    "duration": 4,
    "start_time": "2024-11-05T12:51:53.497Z"
   },
   {
    "duration": 5,
    "start_time": "2024-11-05T14:35:49.398Z"
   },
   {
    "duration": 136,
    "start_time": "2024-11-05T14:36:27.219Z"
   },
   {
    "duration": 8,
    "start_time": "2024-11-05T14:44:00.217Z"
   },
   {
    "duration": 1510,
    "start_time": "2024-11-05T14:44:06.217Z"
   },
   {
    "duration": 61,
    "start_time": "2024-11-05T14:44:07.729Z"
   },
   {
    "duration": 10,
    "start_time": "2024-11-05T14:44:07.791Z"
   },
   {
    "duration": 3,
    "start_time": "2024-11-05T14:44:07.803Z"
   },
   {
    "duration": 21,
    "start_time": "2024-11-05T14:44:07.808Z"
   },
   {
    "duration": 22,
    "start_time": "2024-11-05T14:44:07.830Z"
   },
   {
    "duration": 34,
    "start_time": "2024-11-05T14:44:07.853Z"
   },
   {
    "duration": 493,
    "start_time": "2024-11-05T14:44:07.888Z"
   },
   {
    "duration": 11,
    "start_time": "2024-11-05T14:44:08.383Z"
   },
   {
    "duration": 5,
    "start_time": "2024-11-05T14:44:08.397Z"
   },
   {
    "duration": 7,
    "start_time": "2024-11-05T14:44:08.403Z"
   },
   {
    "duration": 375,
    "start_time": "2024-11-05T14:44:08.411Z"
   },
   {
    "duration": 303,
    "start_time": "2024-11-05T14:44:08.788Z"
   },
   {
    "duration": 31,
    "start_time": "2024-11-05T14:44:09.093Z"
   },
   {
    "duration": 24,
    "start_time": "2024-11-05T14:44:09.126Z"
   },
   {
    "duration": 11,
    "start_time": "2024-11-05T14:44:09.152Z"
   },
   {
    "duration": 6,
    "start_time": "2024-11-05T14:44:09.164Z"
   },
   {
    "duration": 8,
    "start_time": "2024-11-05T14:44:09.171Z"
   },
   {
    "duration": 120,
    "start_time": "2024-11-05T14:45:17.817Z"
   },
   {
    "duration": 10,
    "start_time": "2024-11-05T14:46:39.266Z"
   },
   {
    "duration": 4,
    "start_time": "2024-11-05T14:46:53.906Z"
   },
   {
    "duration": 1480,
    "start_time": "2024-11-05T14:47:00.897Z"
   },
   {
    "duration": 62,
    "start_time": "2024-11-05T14:47:02.380Z"
   },
   {
    "duration": 10,
    "start_time": "2024-11-05T14:47:02.444Z"
   },
   {
    "duration": 22,
    "start_time": "2024-11-05T14:47:02.456Z"
   },
   {
    "duration": 27,
    "start_time": "2024-11-05T14:47:02.480Z"
   },
   {
    "duration": 29,
    "start_time": "2024-11-05T14:47:02.508Z"
   },
   {
    "duration": 53,
    "start_time": "2024-11-05T14:47:02.538Z"
   },
   {
    "duration": 471,
    "start_time": "2024-11-05T14:47:02.593Z"
   },
   {
    "duration": 11,
    "start_time": "2024-11-05T14:47:03.066Z"
   },
   {
    "duration": 16,
    "start_time": "2024-11-05T14:47:03.079Z"
   },
   {
    "duration": 30,
    "start_time": "2024-11-05T14:47:03.096Z"
   },
   {
    "duration": 417,
    "start_time": "2024-11-05T14:47:03.128Z"
   },
   {
    "duration": 268,
    "start_time": "2024-11-05T14:47:03.546Z"
   },
   {
    "duration": 20,
    "start_time": "2024-11-05T14:47:03.821Z"
   },
   {
    "duration": 24,
    "start_time": "2024-11-05T14:47:03.842Z"
   },
   {
    "duration": 36,
    "start_time": "2024-11-05T14:47:03.867Z"
   },
   {
    "duration": 51,
    "start_time": "2024-11-05T14:47:03.904Z"
   },
   {
    "duration": 18,
    "start_time": "2024-11-05T14:47:03.956Z"
   },
   {
    "duration": 128,
    "start_time": "2024-11-05T14:47:03.976Z"
   },
   {
    "duration": 5,
    "start_time": "2024-11-05T14:48:42.866Z"
   },
   {
    "duration": 1387,
    "start_time": "2024-11-05T14:48:48.976Z"
   },
   {
    "duration": 60,
    "start_time": "2024-11-05T14:48:50.365Z"
   },
   {
    "duration": 10,
    "start_time": "2024-11-05T14:48:50.427Z"
   },
   {
    "duration": 3,
    "start_time": "2024-11-05T14:48:50.440Z"
   },
   {
    "duration": 18,
    "start_time": "2024-11-05T14:48:50.445Z"
   },
   {
    "duration": 7,
    "start_time": "2024-11-05T14:48:50.465Z"
   },
   {
    "duration": 5,
    "start_time": "2024-11-05T14:48:50.473Z"
   },
   {
    "duration": 485,
    "start_time": "2024-11-05T14:48:50.480Z"
   },
   {
    "duration": 11,
    "start_time": "2024-11-05T14:48:50.967Z"
   },
   {
    "duration": 6,
    "start_time": "2024-11-05T14:48:50.980Z"
   },
   {
    "duration": 27,
    "start_time": "2024-11-05T14:48:50.987Z"
   },
   {
    "duration": 431,
    "start_time": "2024-11-05T14:48:51.015Z"
   },
   {
    "duration": 277,
    "start_time": "2024-11-05T14:48:51.447Z"
   },
   {
    "duration": 20,
    "start_time": "2024-11-05T14:48:51.726Z"
   },
   {
    "duration": 23,
    "start_time": "2024-11-05T14:48:51.747Z"
   },
   {
    "duration": 10,
    "start_time": "2024-11-05T14:48:51.771Z"
   },
   {
    "duration": 23,
    "start_time": "2024-11-05T14:48:51.782Z"
   },
   {
    "duration": 19,
    "start_time": "2024-11-05T14:48:51.806Z"
   },
   {
    "duration": 11,
    "start_time": "2024-11-05T14:48:51.826Z"
   },
   {
    "duration": 122,
    "start_time": "2024-11-05T14:52:32.058Z"
   },
   {
    "duration": 12,
    "start_time": "2024-11-05T14:52:58.706Z"
   },
   {
    "duration": 70005,
    "start_time": "2024-11-05T14:54:49.723Z"
   },
   {
    "duration": 17,
    "start_time": "2024-11-05T14:58:18.183Z"
   },
   {
    "duration": 11,
    "start_time": "2024-11-05T14:59:30.530Z"
   },
   {
    "duration": 5,
    "start_time": "2024-11-05T15:00:20.018Z"
   },
   {
    "duration": 5,
    "start_time": "2024-11-05T15:00:28.124Z"
   },
   {
    "duration": 33673,
    "start_time": "2024-11-05T15:00:29.058Z"
   },
   {
    "duration": 10,
    "start_time": "2024-11-05T15:01:15.729Z"
   },
   {
    "duration": 7,
    "start_time": "2024-11-05T15:02:26.180Z"
   },
   {
    "duration": 1844,
    "start_time": "2024-11-05T17:58:00.072Z"
   },
   {
    "duration": 112,
    "start_time": "2024-11-05T17:58:01.918Z"
   },
   {
    "duration": 10,
    "start_time": "2024-11-05T17:58:02.032Z"
   },
   {
    "duration": 18,
    "start_time": "2024-11-05T17:58:02.044Z"
   },
   {
    "duration": 16,
    "start_time": "2024-11-05T17:58:02.064Z"
   },
   {
    "duration": 9,
    "start_time": "2024-11-05T17:58:02.081Z"
   },
   {
    "duration": 4,
    "start_time": "2024-11-05T17:58:02.091Z"
   },
   {
    "duration": 503,
    "start_time": "2024-11-05T17:58:02.097Z"
   },
   {
    "duration": 11,
    "start_time": "2024-11-05T17:58:02.601Z"
   },
   {
    "duration": 10,
    "start_time": "2024-11-05T17:58:02.614Z"
   },
   {
    "duration": 10,
    "start_time": "2024-11-05T17:58:02.625Z"
   },
   {
    "duration": 415,
    "start_time": "2024-11-05T17:58:02.636Z"
   },
   {
    "duration": 287,
    "start_time": "2024-11-05T17:58:03.053Z"
   },
   {
    "duration": 31,
    "start_time": "2024-11-05T17:58:03.342Z"
   },
   {
    "duration": 23,
    "start_time": "2024-11-05T17:58:03.375Z"
   },
   {
    "duration": 11,
    "start_time": "2024-11-05T17:58:03.400Z"
   },
   {
    "duration": 11,
    "start_time": "2024-11-05T17:58:03.413Z"
   },
   {
    "duration": 4,
    "start_time": "2024-11-05T17:58:03.426Z"
   },
   {
    "duration": 35,
    "start_time": "2024-11-05T17:58:03.431Z"
   },
   {
    "duration": 389907,
    "start_time": "2024-11-05T17:58:03.468Z"
   },
   {
    "duration": 91,
    "start_time": "2024-11-05T18:04:33.377Z"
   },
   {
    "duration": 10,
    "start_time": "2024-11-05T18:04:33.471Z"
   },
   {
    "duration": 31,
    "start_time": "2024-11-05T18:04:33.483Z"
   },
   {
    "duration": 5,
    "start_time": "2024-11-05T18:06:30.268Z"
   },
   {
    "duration": 152,
    "start_time": "2024-11-05T18:06:35.863Z"
   },
   {
    "duration": 86,
    "start_time": "2024-11-05T18:07:41.910Z"
   },
   {
    "duration": 25,
    "start_time": "2024-11-05T18:07:43.538Z"
   },
   {
    "duration": 4,
    "start_time": "2024-11-05T18:09:08.289Z"
   },
   {
    "duration": 182595,
    "start_time": "2024-11-05T18:12:38.579Z"
   },
   {
    "duration": 9,
    "start_time": "2024-11-05T18:15:56.395Z"
   },
   {
    "duration": 14,
    "start_time": "2024-11-05T18:15:58.652Z"
   },
   {
    "duration": 18,
    "start_time": "2024-11-05T18:16:07.884Z"
   },
   {
    "duration": 24,
    "start_time": "2024-11-05T18:19:31.716Z"
   },
   {
    "duration": 61,
    "start_time": "2024-11-05T18:21:04.347Z"
   },
   {
    "duration": 1606,
    "start_time": "2024-11-06T09:03:18.564Z"
   },
   {
    "duration": 178,
    "start_time": "2024-11-06T09:03:20.928Z"
   },
   {
    "duration": 17,
    "start_time": "2024-11-06T09:03:31.065Z"
   },
   {
    "duration": 10,
    "start_time": "2024-11-06T09:04:17.491Z"
   },
   {
    "duration": 3,
    "start_time": "2024-11-06T09:04:18.728Z"
   },
   {
    "duration": 14,
    "start_time": "2024-11-06T09:04:31.082Z"
   },
   {
    "duration": 62,
    "start_time": "2024-11-06T09:04:46.608Z"
   },
   {
    "duration": 3,
    "start_time": "2024-11-06T09:05:26.671Z"
   },
   {
    "duration": 361,
    "start_time": "2024-11-06T09:05:29.499Z"
   },
   {
    "duration": 367,
    "start_time": "2024-11-06T09:05:48.122Z"
   },
   {
    "duration": 264,
    "start_time": "2024-11-06T09:06:48.485Z"
   },
   {
    "duration": 15,
    "start_time": "2024-11-06T09:07:06.195Z"
   },
   {
    "duration": 6,
    "start_time": "2024-11-06T09:07:14.779Z"
   },
   {
    "duration": 7,
    "start_time": "2024-11-06T09:07:18.517Z"
   },
   {
    "duration": 440,
    "start_time": "2024-11-06T09:07:21.302Z"
   },
   {
    "duration": 12,
    "start_time": "2024-11-06T09:08:03.501Z"
   },
   {
    "duration": 11,
    "start_time": "2024-11-06T09:08:11.762Z"
   },
   {
    "duration": 4,
    "start_time": "2024-11-06T09:10:01.840Z"
   },
   {
    "duration": 53,
    "start_time": "2024-11-06T09:10:02.659Z"
   },
   {
    "duration": 10,
    "start_time": "2024-11-06T09:10:03.533Z"
   },
   {
    "duration": 3,
    "start_time": "2024-11-06T09:10:04.678Z"
   },
   {
    "duration": 10,
    "start_time": "2024-11-06T09:10:05.549Z"
   },
   {
    "duration": 3,
    "start_time": "2024-11-06T09:10:07.984Z"
   },
   {
    "duration": 289,
    "start_time": "2024-11-06T09:10:09.213Z"
   },
   {
    "duration": 12,
    "start_time": "2024-11-06T09:10:11.549Z"
   },
   {
    "duration": 6,
    "start_time": "2024-11-06T09:10:12.429Z"
   },
   {
    "duration": 7,
    "start_time": "2024-11-06T09:10:14.128Z"
   },
   {
    "duration": 409,
    "start_time": "2024-11-06T09:10:24.677Z"
   },
   {
    "duration": 12,
    "start_time": "2024-11-06T09:10:29.895Z"
   },
   {
    "duration": 5,
    "start_time": "2024-11-06T09:10:38.382Z"
   },
   {
    "duration": 497,
    "start_time": "2024-11-06T09:10:40.215Z"
   },
   {
    "duration": 358,
    "start_time": "2024-11-06T09:11:19.461Z"
   },
   {
    "duration": 265,
    "start_time": "2024-11-06T09:13:00.287Z"
   },
   {
    "duration": 22,
    "start_time": "2024-11-06T09:13:07.596Z"
   },
   {
    "duration": 11,
    "start_time": "2024-11-06T09:13:28.519Z"
   },
   {
    "duration": 6,
    "start_time": "2024-11-06T09:15:47.139Z"
   },
   {
    "duration": 52,
    "start_time": "2024-11-06T09:15:48.776Z"
   },
   {
    "duration": 9,
    "start_time": "2024-11-06T09:15:51.098Z"
   },
   {
    "duration": 4,
    "start_time": "2024-11-06T09:15:55.154Z"
   },
   {
    "duration": 10,
    "start_time": "2024-11-06T09:15:56.427Z"
   },
   {
    "duration": 3,
    "start_time": "2024-11-06T09:16:07.127Z"
   },
   {
    "duration": 273,
    "start_time": "2024-11-06T09:16:11.098Z"
   },
   {
    "duration": 11,
    "start_time": "2024-11-06T09:16:17.113Z"
   },
   {
    "duration": 7,
    "start_time": "2024-11-06T09:16:18.336Z"
   },
   {
    "duration": 9,
    "start_time": "2024-11-06T09:16:20.683Z"
   },
   {
    "duration": 404,
    "start_time": "2024-11-06T09:16:22.391Z"
   },
   {
    "duration": 12,
    "start_time": "2024-11-06T09:16:26.588Z"
   },
   {
    "duration": 5,
    "start_time": "2024-11-06T09:16:29.328Z"
   },
   {
    "duration": 394,
    "start_time": "2024-11-06T09:16:30.517Z"
   },
   {
    "duration": 241,
    "start_time": "2024-11-06T09:16:44.805Z"
   },
   {
    "duration": 19,
    "start_time": "2024-11-06T09:17:03.735Z"
   },
   {
    "duration": 12,
    "start_time": "2024-11-06T09:17:09.686Z"
   },
   {
    "duration": 7,
    "start_time": "2024-11-06T09:17:14.225Z"
   },
   {
    "duration": 3,
    "start_time": "2024-11-06T09:17:29.004Z"
   },
   {
    "duration": 5,
    "start_time": "2024-11-06T09:17:31.028Z"
   },
   {
    "duration": 30501,
    "start_time": "2024-11-06T09:17:37.787Z"
   },
   {
    "duration": 4,
    "start_time": "2024-11-06T09:20:51.270Z"
   },
   {
    "duration": 4,
    "start_time": "2024-11-06T09:21:59.660Z"
   },
   {
    "duration": 8542,
    "start_time": "2024-11-06T09:22:01.546Z"
   },
   {
    "duration": 6,
    "start_time": "2024-11-06T09:22:20.862Z"
   },
   {
    "duration": 15,
    "start_time": "2024-11-06T09:22:22.267Z"
   },
   {
    "duration": 9,
    "start_time": "2024-11-06T09:22:51.878Z"
   },
   {
    "duration": 16,
    "start_time": "2024-11-06T09:37:59.827Z"
   },
   {
    "duration": 1338,
    "start_time": "2024-11-06T09:39:22.016Z"
   },
   {
    "duration": 57,
    "start_time": "2024-11-06T09:39:23.357Z"
   },
   {
    "duration": 10,
    "start_time": "2024-11-06T09:39:23.416Z"
   },
   {
    "duration": 3,
    "start_time": "2024-11-06T09:39:23.428Z"
   },
   {
    "duration": 14,
    "start_time": "2024-11-06T09:39:23.433Z"
   },
   {
    "duration": 3,
    "start_time": "2024-11-06T09:39:23.449Z"
   },
   {
    "duration": 326,
    "start_time": "2024-11-06T09:39:23.454Z"
   },
   {
    "duration": 11,
    "start_time": "2024-11-06T09:39:23.782Z"
   },
   {
    "duration": 5,
    "start_time": "2024-11-06T09:39:23.795Z"
   },
   {
    "duration": 9,
    "start_time": "2024-11-06T09:39:23.802Z"
   },
   {
    "duration": 478,
    "start_time": "2024-11-06T09:39:23.812Z"
   },
   {
    "duration": 12,
    "start_time": "2024-11-06T09:39:24.292Z"
   },
   {
    "duration": 10,
    "start_time": "2024-11-06T09:39:24.305Z"
   },
   {
    "duration": 401,
    "start_time": "2024-11-06T09:39:24.316Z"
   },
   {
    "duration": 272,
    "start_time": "2024-11-06T09:39:24.719Z"
   },
   {
    "duration": 21,
    "start_time": "2024-11-06T09:39:24.993Z"
   },
   {
    "duration": 10,
    "start_time": "2024-11-06T09:39:25.015Z"
   },
   {
    "duration": 6,
    "start_time": "2024-11-06T09:39:25.026Z"
   },
   {
    "duration": 19,
    "start_time": "2024-11-06T09:39:25.033Z"
   },
   {
    "duration": 29,
    "start_time": "2024-11-06T09:39:25.054Z"
   },
   {
    "duration": 897499,
    "start_time": "2024-11-06T09:39:25.085Z"
   },
   {
    "duration": 7,
    "start_time": "2024-11-06T09:54:22.586Z"
   },
   {
    "duration": 15,
    "start_time": "2024-11-06T09:54:22.676Z"
   },
   {
    "duration": 12,
    "start_time": "2024-11-06T09:54:22.692Z"
   },
   {
    "duration": 49,
    "start_time": "2024-11-06T12:57:51.146Z"
   },
   {
    "duration": 1659,
    "start_time": "2024-11-06T12:59:11.637Z"
   },
   {
    "duration": 160,
    "start_time": "2024-11-06T12:59:13.298Z"
   },
   {
    "duration": 10,
    "start_time": "2024-11-06T12:59:13.460Z"
   },
   {
    "duration": 4,
    "start_time": "2024-11-06T12:59:13.472Z"
   },
   {
    "duration": 12,
    "start_time": "2024-11-06T12:59:13.478Z"
   },
   {
    "duration": 3,
    "start_time": "2024-11-06T12:59:13.491Z"
   },
   {
    "duration": 305,
    "start_time": "2024-11-06T12:59:13.495Z"
   },
   {
    "duration": 13,
    "start_time": "2024-11-06T12:59:13.802Z"
   },
   {
    "duration": 7,
    "start_time": "2024-11-06T12:59:13.816Z"
   },
   {
    "duration": 6,
    "start_time": "2024-11-06T12:59:13.826Z"
   },
   {
    "duration": 510,
    "start_time": "2024-11-06T12:59:13.834Z"
   },
   {
    "duration": 13,
    "start_time": "2024-11-06T12:59:14.346Z"
   },
   {
    "duration": 19,
    "start_time": "2024-11-06T12:59:14.361Z"
   },
   {
    "duration": 412,
    "start_time": "2024-11-06T12:59:14.381Z"
   },
   {
    "duration": 261,
    "start_time": "2024-11-06T12:59:14.795Z"
   },
   {
    "duration": 28,
    "start_time": "2024-11-06T12:59:15.058Z"
   },
   {
    "duration": 10,
    "start_time": "2024-11-06T12:59:15.088Z"
   },
   {
    "duration": 13,
    "start_time": "2024-11-06T12:59:15.099Z"
   },
   {
    "duration": 15,
    "start_time": "2024-11-06T12:59:15.113Z"
   },
   {
    "duration": 12,
    "start_time": "2024-11-06T12:59:15.129Z"
   },
   {
    "duration": 9035,
    "start_time": "2024-11-06T12:59:15.142Z"
   },
   {
    "duration": 7,
    "start_time": "2024-11-06T12:59:24.178Z"
   },
   {
    "duration": 17,
    "start_time": "2024-11-06T12:59:24.187Z"
   },
   {
    "duration": 9,
    "start_time": "2024-11-06T12:59:24.206Z"
   },
   {
    "duration": 1428,
    "start_time": "2024-11-06T13:01:09.320Z"
   },
   {
    "duration": 58,
    "start_time": "2024-11-06T13:01:10.750Z"
   },
   {
    "duration": 10,
    "start_time": "2024-11-06T13:01:10.810Z"
   },
   {
    "duration": 4,
    "start_time": "2024-11-06T13:01:10.822Z"
   },
   {
    "duration": 12,
    "start_time": "2024-11-06T13:01:10.828Z"
   },
   {
    "duration": 3,
    "start_time": "2024-11-06T13:01:10.841Z"
   },
   {
    "duration": 339,
    "start_time": "2024-11-06T13:01:10.845Z"
   },
   {
    "duration": 13,
    "start_time": "2024-11-06T13:01:11.186Z"
   },
   {
    "duration": 5,
    "start_time": "2024-11-06T13:01:11.200Z"
   },
   {
    "duration": 6,
    "start_time": "2024-11-06T13:01:11.208Z"
   },
   {
    "duration": 470,
    "start_time": "2024-11-06T13:01:11.215Z"
   },
   {
    "duration": 13,
    "start_time": "2024-11-06T13:01:11.687Z"
   },
   {
    "duration": 12,
    "start_time": "2024-11-06T13:01:11.702Z"
   },
   {
    "duration": 387,
    "start_time": "2024-11-06T13:01:11.716Z"
   },
   {
    "duration": 256,
    "start_time": "2024-11-06T13:01:12.104Z"
   },
   {
    "duration": 29,
    "start_time": "2024-11-06T13:01:12.362Z"
   },
   {
    "duration": 9,
    "start_time": "2024-11-06T13:01:12.393Z"
   },
   {
    "duration": 6,
    "start_time": "2024-11-06T13:01:12.403Z"
   },
   {
    "duration": 5,
    "start_time": "2024-11-06T13:01:12.410Z"
   },
   {
    "duration": 13,
    "start_time": "2024-11-06T13:01:12.416Z"
   },
   {
    "duration": 9059,
    "start_time": "2024-11-06T13:01:12.430Z"
   },
   {
    "duration": 88,
    "start_time": "2024-11-06T13:01:21.491Z"
   },
   {
    "duration": 20,
    "start_time": "2024-11-06T13:01:21.581Z"
   },
   {
    "duration": 11,
    "start_time": "2024-11-06T13:01:21.602Z"
   },
   {
    "duration": 1585,
    "start_time": "2024-11-06T13:34:29.478Z"
   },
   {
    "duration": 54,
    "start_time": "2024-11-06T13:34:31.064Z"
   },
   {
    "duration": 9,
    "start_time": "2024-11-06T13:34:31.119Z"
   },
   {
    "duration": 14,
    "start_time": "2024-11-06T13:34:31.129Z"
   },
   {
    "duration": 12,
    "start_time": "2024-11-06T13:34:31.145Z"
   },
   {
    "duration": 23,
    "start_time": "2024-11-06T13:34:31.158Z"
   },
   {
    "duration": 131,
    "start_time": "2024-11-06T13:34:31.183Z"
   },
   {
    "duration": 0,
    "start_time": "2024-11-06T13:34:31.315Z"
   },
   {
    "duration": 0,
    "start_time": "2024-11-06T13:34:31.317Z"
   },
   {
    "duration": 0,
    "start_time": "2024-11-06T13:34:31.318Z"
   },
   {
    "duration": 0,
    "start_time": "2024-11-06T13:34:31.319Z"
   },
   {
    "duration": 0,
    "start_time": "2024-11-06T13:34:31.320Z"
   },
   {
    "duration": 0,
    "start_time": "2024-11-06T13:34:31.321Z"
   },
   {
    "duration": 0,
    "start_time": "2024-11-06T13:34:31.322Z"
   },
   {
    "duration": 0,
    "start_time": "2024-11-06T13:34:31.323Z"
   },
   {
    "duration": 0,
    "start_time": "2024-11-06T13:34:31.325Z"
   },
   {
    "duration": 0,
    "start_time": "2024-11-06T13:34:31.327Z"
   },
   {
    "duration": 0,
    "start_time": "2024-11-06T13:34:31.328Z"
   },
   {
    "duration": 0,
    "start_time": "2024-11-06T13:34:31.330Z"
   },
   {
    "duration": 0,
    "start_time": "2024-11-06T13:34:31.331Z"
   },
   {
    "duration": 0,
    "start_time": "2024-11-06T13:34:31.332Z"
   },
   {
    "duration": 0,
    "start_time": "2024-11-06T13:34:31.333Z"
   },
   {
    "duration": 0,
    "start_time": "2024-11-06T13:34:31.334Z"
   },
   {
    "duration": 0,
    "start_time": "2024-11-06T13:34:31.335Z"
   },
   {
    "duration": 1481,
    "start_time": "2024-11-06T13:34:58.194Z"
   },
   {
    "duration": 54,
    "start_time": "2024-11-06T13:34:59.677Z"
   },
   {
    "duration": 9,
    "start_time": "2024-11-06T13:34:59.732Z"
   },
   {
    "duration": 16,
    "start_time": "2024-11-06T13:34:59.743Z"
   },
   {
    "duration": 24,
    "start_time": "2024-11-06T13:34:59.760Z"
   },
   {
    "duration": 6,
    "start_time": "2024-11-06T13:34:59.785Z"
   },
   {
    "duration": 346,
    "start_time": "2024-11-06T13:34:59.792Z"
   },
   {
    "duration": 10,
    "start_time": "2024-11-06T13:35:00.140Z"
   },
   {
    "duration": 34,
    "start_time": "2024-11-06T13:35:00.151Z"
   },
   {
    "duration": 60,
    "start_time": "2024-11-06T13:35:00.189Z"
   },
   {
    "duration": 464,
    "start_time": "2024-11-06T13:35:00.250Z"
   },
   {
    "duration": 12,
    "start_time": "2024-11-06T13:35:00.716Z"
   },
   {
    "duration": 52,
    "start_time": "2024-11-06T13:35:00.729Z"
   },
   {
    "duration": 357,
    "start_time": "2024-11-06T13:35:00.782Z"
   },
   {
    "duration": 234,
    "start_time": "2024-11-06T13:35:01.140Z"
   },
   {
    "duration": 31,
    "start_time": "2024-11-06T13:35:01.376Z"
   },
   {
    "duration": 10,
    "start_time": "2024-11-06T13:35:01.409Z"
   },
   {
    "duration": 5,
    "start_time": "2024-11-06T13:35:01.420Z"
   },
   {
    "duration": 27,
    "start_time": "2024-11-06T13:35:01.427Z"
   },
   {
    "duration": 33,
    "start_time": "2024-11-06T13:35:01.455Z"
   },
   {
    "duration": 1921526,
    "start_time": "2024-11-06T13:35:01.490Z"
   },
   {
    "duration": 7,
    "start_time": "2024-11-06T14:07:03.019Z"
   },
   {
    "duration": 46,
    "start_time": "2024-11-06T14:07:03.028Z"
   },
   {
    "duration": 155,
    "start_time": "2024-11-06T14:07:03.076Z"
   }
  ],
  "kernelspec": {
   "display_name": "Python 3 (ipykernel)",
   "language": "python",
   "name": "python3"
  },
  "language_info": {
   "codemirror_mode": {
    "name": "ipython",
    "version": 3
   },
   "file_extension": ".py",
   "mimetype": "text/x-python",
   "name": "python",
   "nbconvert_exporter": "python",
   "pygments_lexer": "ipython3",
   "version": "3.9.5"
  },
  "toc": {
   "base_numbering": 1,
   "nav_menu": {},
   "number_sections": true,
   "sideBar": true,
   "skip_h1_title": true,
   "title_cell": "Содержание",
   "title_sidebar": "Contents",
   "toc_cell": true,
   "toc_position": {},
   "toc_section_display": true,
   "toc_window_display": true
  }
 },
 "nbformat": 4,
 "nbformat_minor": 2
}
